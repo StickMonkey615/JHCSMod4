{
  "cells": [
    {
      "cell_type": "markdown",
      "metadata": {
        "id": "view-in-github",
        "colab_type": "text"
      },
      "source": [
        "<a href=\"https://colab.research.google.com/github/StickMonkey615/JHCSMod4/blob/main/Final%20Classifier%20Model%20v3.ipynb\" target=\"_parent\"><img src=\"https://colab.research.google.com/assets/colab-badge.svg\" alt=\"Open In Colab\"/></a>"
      ]
    },
    {
      "cell_type": "markdown",
      "metadata": {
        "id": "iRn73TIW7gn9"
      },
      "source": [
        "# Module 4 Guidance\n",
        "\n",
        "This notebook is a template for module 4b and 4c, which will be tested in Google Colab, your code needs to run there.\n",
        "The structure has been provided to improve consistency and make it easier for markers to understand your code but still give students the flexibility to be creative.  You need to populate the required functions to solve this problem.  All dependencies should be documented in the next cell.\n",
        "\n",
        "You can:\n",
        "    add further cells or text blocks to extend or further explain your solution\n",
        "    add further functions\n",
        "\n",
        "Dont:\n",
        "    rename functions\n",
        "   "
      ]
    },
    {
      "cell_type": "code",
      "execution_count": 1,
      "metadata": {
        "colab": {
          "base_uri": "https://localhost:8080/"
        },
        "id": "ZxOsuHxz7goC",
        "outputId": "39deb723-cb21-47f0-dbd3-ffe2d8d9cd8a"
      },
      "outputs": [
        {
          "output_type": "stream",
          "name": "stdout",
          "text": [
            "Looking in indexes: https://pypi.org/simple, https://us-python.pkg.dev/colab-wheels/public/simple/\n",
            "Requirement already satisfied: imbalanced-learn in /usr/local/lib/python3.7/dist-packages (0.9.0)\n",
            "Requirement already satisfied: joblib>=0.11 in /usr/local/lib/python3.7/dist-packages (from imbalanced-learn) (1.1.0)\n",
            "Requirement already satisfied: scikit-learn>=1.0.1 in /usr/local/lib/python3.7/dist-packages (from imbalanced-learn) (1.0.2)\n",
            "Requirement already satisfied: numpy>=1.14.6 in /usr/local/lib/python3.7/dist-packages (from imbalanced-learn) (1.21.6)\n",
            "Requirement already satisfied: threadpoolctl>=2.0.0 in /usr/local/lib/python3.7/dist-packages (from imbalanced-learn) (3.1.0)\n",
            "Requirement already satisfied: scipy>=1.1.0 in /usr/local/lib/python3.7/dist-packages (from imbalanced-learn) (1.7.3)\n",
            "Looking in indexes: https://pypi.org/simple, https://us-python.pkg.dev/colab-wheels/public/simple/\n",
            "Requirement already satisfied: imbalanced-learn in /usr/local/lib/python3.7/dist-packages (0.9.0)\n",
            "Collecting imbalanced-learn\n",
            "  Using cached imbalanced_learn-0.9.1-py3-none-any.whl (199 kB)\n",
            "Requirement already satisfied: scipy>=1.1.0 in /usr/local/lib/python3.7/dist-packages (from imbalanced-learn) (1.7.3)\n",
            "Requirement already satisfied: joblib>=0.11 in /usr/local/lib/python3.7/dist-packages (from imbalanced-learn) (1.1.0)\n",
            "Requirement already satisfied: scikit-learn>=1.0.1 in /usr/local/lib/python3.7/dist-packages (from imbalanced-learn) (1.0.2)\n",
            "Requirement already satisfied: numpy>=1.14.6 in /usr/local/lib/python3.7/dist-packages (from imbalanced-learn) (1.21.6)\n",
            "Requirement already satisfied: threadpoolctl>=2.0.0 in /usr/local/lib/python3.7/dist-packages (from imbalanced-learn) (3.1.0)\n"
          ]
        }
      ],
      "source": [
        "# Fixed dependencies - do not remove or change.\n",
        "import pytest\n",
        "import pandas as pd\n",
        "import numpy as np\n",
        "from google.colab import drive\n",
        "# drive.mount('/content/gdrive/')\n",
        "# Import your dependencies\n",
        "!pip install --upgrade xlrd > 1.2.0\n",
        "!pip install imbalanced-learn\n",
        "!pip install --upgrade imbalanced-learn\n",
        "import xlrd\n",
        "import imblearn\n",
        "import matplotlib.pyplot as plt"
      ]
    },
    {
      "cell_type": "code",
      "execution_count": 2,
      "metadata": {
        "id": "1m_gmKQP7goE"
      },
      "outputs": [],
      "source": [
        "# Import data\n",
        "\n",
        "def import_local_data(file_path):\n",
        "    \"\"\"This function needs to import the data file into collab and return a pandas dataframe\n",
        "    \"\"\"\n",
        "    raw_df = pd.read_excel(file_path)\n",
        "    return raw_df"
      ]
    },
    {
      "cell_type": "code",
      "execution_count": 3,
      "metadata": {
        "id": "cIljHljB7goF"
      },
      "outputs": [],
      "source": [
        "local_file_path = \"breast-cancer.xls\""
      ]
    },
    {
      "cell_type": "code",
      "execution_count": 4,
      "metadata": {
        "id": "LCu51H5Z7goF"
      },
      "outputs": [],
      "source": [
        "# Dont change\n",
        "raw_data = import_local_data(local_file_path)"
      ]
    },
    {
      "cell_type": "markdown",
      "metadata": {
        "id": "U9WDYKUP7goG"
      },
      "source": [
        "### Conduct exploratory data analysis and explain your key findings - Examine the data, explain its key features and what they look like.  Highlight any fields that are anomalous."
      ]
    },
    {
      "cell_type": "code",
      "source": [
        "# Look at the different dataframe column headings\n",
        "print(raw_data.columns)"
      ],
      "metadata": {
        "colab": {
          "base_uri": "https://localhost:8080/"
        },
        "id": "HkjdfYHGiz7a",
        "outputId": "7f18d907-9f71-4804-fa20-99ba4d00b3ee"
      },
      "execution_count": 5,
      "outputs": [
        {
          "output_type": "stream",
          "name": "stdout",
          "text": [
            "Index(['age', 'menopause', 'tumor-size', 'inv-nodes', 'node-caps', 'deg-malig',\n",
            "       'breast', 'breast-quad', 'irradiat', 'Class'],\n",
            "      dtype='object')\n"
          ]
        }
      ]
    },
    {
      "cell_type": "code",
      "source": [
        "# Determine data types for each column\n",
        "for i in range(0, len(raw_data.columns)):\n",
        "    print(type(raw_data.values[1][i]))"
      ],
      "metadata": {
        "colab": {
          "base_uri": "https://localhost:8080/"
        },
        "id": "oKqjAI-XigbI",
        "outputId": "96883333-5043-4f38-dc86-d2eb56449929"
      },
      "execution_count": 6,
      "outputs": [
        {
          "output_type": "stream",
          "name": "stdout",
          "text": [
            "<class 'str'>\n",
            "<class 'str'>\n",
            "<class 'str'>\n",
            "<class 'str'>\n",
            "<class 'str'>\n",
            "<class 'int'>\n",
            "<class 'str'>\n",
            "<class 'str'>\n",
            "<class 'str'>\n",
            "<class 'str'>\n"
          ]
        }
      ]
    },
    {
      "cell_type": "code",
      "source": [
        "#Look at the range of values for each field\n",
        "from collections import Counter\n",
        "rng_vals=[]\n",
        "for i in range(0,len(raw_data.columns)):\n",
        "    rng_vals.append(Counter(raw_data.iloc[:,i].values))\n",
        "    print(f\"{raw_data.columns[i]}: {rng_vals[i]}\")\n",
        "del rng_vals, i"
      ],
      "metadata": {
        "id": "-lQUCdTe36Dp",
        "outputId": "13450dc2-acfa-43c1-e45a-cfb5a08c34ba",
        "colab": {
          "base_uri": "https://localhost:8080/"
        }
      },
      "execution_count": 7,
      "outputs": [
        {
          "output_type": "stream",
          "name": "stdout",
          "text": [
            "age: Counter({'50-59': 96, '40-49': 90, '60-69': 57, '30-39': 36, '70-79': 6, '20-29': 1})\n",
            "menopause: Counter({'premeno': 150, 'ge40': 129, 'lt40': 7})\n",
            "tumor-size: Counter({'30-34': 60, '25-29': 54, '20-24': 50, '15-19': 30, datetime.datetime(2014, 10, 1, 0, 0): 28, '40-44': 22, '35-39': 19, '0-4': 8, '50-54': 8, datetime.datetime(2019, 9, 5, 0, 0): 4, '45-49': 3})\n",
            "inv-nodes: Counter({'0-2': 213, datetime.datetime(2019, 5, 3, 0, 0): 36, datetime.datetime(2019, 8, 6, 0, 0): 17, datetime.datetime(2019, 11, 9, 0, 0): 10, '15-17': 6, datetime.datetime(2014, 12, 1, 0, 0): 3, '24-26': 1})\n",
            "node-caps: Counter({'no': 222, 'yes': 56, '?': 8})\n",
            "deg-malig: Counter({2: 130, 3: 85, 1: 71})\n",
            "breast: Counter({'left': 152, 'right': 134})\n",
            "breast-quad: Counter({'left_low': 110, 'left_up': 97, 'right_up': 33, 'right_low': 24, 'central': 21, '?': 1})\n",
            "irradiat: Counter({'no': 218, 'yes': 68})\n",
            "Class: Counter({'no-recurrence-events': 201, 'recurrence-events': 85})\n"
          ]
        }
      ]
    },
    {
      "cell_type": "markdown",
      "source": [
        "**All fields look to contain data that is catagorical in nature.**\n",
        "\n",
        "**Some contain data that appears erroneous:**\n",
        " \n",
        "*   **'tumor-size' and 'inv-nodes' appear to contain some data in a datetime format and some in string.**\n",
        "*   **'node-caps' and 'breast-quad' contain Question Marks.**\n",
        "\n",
        "**Need a way to address these erroneous data inputs.**\n",
        "\n"
      ],
      "metadata": {
        "id": "lALFUx2EEQF0"
      }
    },
    {
      "cell_type": "code",
      "source": [
        "# Look in more detail at the columns with datetime data.\n",
        "print(raw_data.iloc[:, 2].values)"
      ],
      "metadata": {
        "colab": {
          "base_uri": "https://localhost:8080/"
        },
        "id": "1IetVwnCr3XI",
        "outputId": "2fde997e-0e22-4611-d6f6-99286522f6dc"
      },
      "execution_count": 8,
      "outputs": [
        {
          "output_type": "stream",
          "name": "stdout",
          "text": [
            "['15-19' '15-19' '35-39' '35-39' '30-34' '25-29' '40-44'\n",
            " datetime.datetime(2014, 10, 1, 0, 0) '0-4' '40-44' '25-29' '15-19'\n",
            " '30-34' '25-29' '25-29' '20-24' datetime.datetime(2014, 10, 1, 0, 0)\n",
            " '15-19' '40-44' '20-24' '20-24' '40-44' '15-19'\n",
            " datetime.datetime(2014, 10, 1, 0, 0) '15-19' '20-24'\n",
            " datetime.datetime(2014, 10, 1, 0, 0) datetime.datetime(2014, 10, 1, 0, 0)\n",
            " '30-34' '15-19' '30-34' '25-29' '25-29' '20-24' '30-34' '15-19'\n",
            " datetime.datetime(2014, 10, 1, 0, 0) '45-49' '20-24'\n",
            " datetime.datetime(2014, 10, 1, 0, 0) '35-39' '35-39' '25-29' '20-24'\n",
            " '15-19' '30-34' datetime.datetime(2014, 10, 1, 0, 0) '35-39' '50-54'\n",
            " '40-44' '15-19' '30-34' '0-4' '40-44' '25-29' '25-29' '20-24' '35-39'\n",
            " '50-54' '0-4' '40-44' '30-34' '20-24' '30-34' '20-24' '15-19' '25-29'\n",
            " '15-19' '50-54' datetime.datetime(2014, 10, 1, 0, 0) '25-29' '25-29'\n",
            " datetime.datetime(2014, 10, 1, 0, 0) '30-34' '25-29'\n",
            " datetime.datetime(2014, 10, 1, 0, 0) '15-19' '25-29' '25-29' '30-34'\n",
            " '15-19' '25-29' '30-34' '15-19' '0-4' '35-39' '40-44' '25-29' '20-24'\n",
            " '30-34' '20-24' '30-34' '20-24' datetime.datetime(2014, 10, 1, 0, 0)\n",
            " '20-24' '45-49' '40-44' datetime.datetime(2014, 10, 1, 0, 0) '30-34'\n",
            " '35-39' '20-24' '15-19' '30-34' '20-24' '20-24' '30-34' '20-24' '25-29'\n",
            " '30-34' '20-24' '15-19' '30-34' '30-34' '40-44'\n",
            " datetime.datetime(2019, 9, 5, 0, 0) datetime.datetime(2014, 10, 1, 0, 0)\n",
            " '30-34' datetime.datetime(2014, 10, 1, 0, 0) '35-39' '20-24' '30-34'\n",
            " '25-29' '15-19' '35-39' datetime.datetime(2014, 10, 1, 0, 0) '30-34'\n",
            " '30-34' '25-29' '15-19' '15-19' '30-34' '35-39' '30-34' '25-29' '30-34'\n",
            " '15-19' '0-4' '0-4' '50-54' '30-34' '20-24' '25-29' '30-34' '20-24'\n",
            " '15-19' datetime.datetime(2014, 10, 1, 0, 0) '30-34'\n",
            " datetime.datetime(2014, 10, 1, 0, 0) '40-44' '30-34' '50-54' '15-19'\n",
            " '40-44' '25-29' datetime.datetime(2014, 10, 1, 0, 0)\n",
            " datetime.datetime(2014, 10, 1, 0, 0) '30-34' '20-24'\n",
            " datetime.datetime(2014, 10, 1, 0, 0) '25-29' '25-29' '30-34' '50-54'\n",
            " '30-34' '20-24' '30-34' '25-29' '20-24' '20-24' '50-54' '20-24' '30-34'\n",
            " '25-29' '25-29' '40-44' '20-24' '20-24' '25-29' '25-29' '20-24' '40-44'\n",
            " datetime.datetime(2014, 10, 1, 0, 0) '35-39' '30-34'\n",
            " datetime.datetime(2019, 9, 5, 0, 0) '15-19' '30-34' '25-29'\n",
            " datetime.datetime(2019, 9, 5, 0, 0) '25-29' '25-29'\n",
            " datetime.datetime(2014, 10, 1, 0, 0) '35-39' '50-54' '25-29' '20-24'\n",
            " '30-34' '30-34' '15-19' '20-24' datetime.datetime(2019, 9, 5, 0, 0)\n",
            " '30-34' '30-34' '25-29' '25-29' '40-44' '25-29' '30-34' '30-34' '25-29'\n",
            " '25-29' '40-44' '20-24' '25-29' '20-24' '40-44' '25-29' '25-29' '45-49'\n",
            " '20-24' '25-29' '20-24' '20-24' '35-39' '20-24' '30-34' '25-29' '30-34'\n",
            " '25-29' '20-24' '20-24' datetime.datetime(2014, 10, 1, 0, 0) '15-19'\n",
            " '25-29' '20-24' '40-44' '15-19' '30-34' '30-34' '40-44' '30-34'\n",
            " datetime.datetime(2014, 10, 1, 0, 0) '40-44' '30-34' '30-34' '15-19'\n",
            " datetime.datetime(2014, 10, 1, 0, 0) '20-24'\n",
            " datetime.datetime(2014, 10, 1, 0, 0) '25-29' '30-34'\n",
            " datetime.datetime(2014, 10, 1, 0, 0) '30-34' '0-4' '25-29' '25-29'\n",
            " '40-44' '25-29' '30-34' '20-24' '20-24' '25-29' '30-34' '20-24' '30-34'\n",
            " '0-4' '20-24' '35-39' '30-34' '20-24' '25-29' '35-39' '20-24' '20-24'\n",
            " '35-39' '35-39' '25-29' '35-39' '30-34' '20-24' '15-19' '30-34' '25-29'\n",
            " '30-34' '15-19' '40-44']\n"
          ]
        }
      ]
    },
    {
      "cell_type": "code",
      "source": [
        "# Look at output data\n",
        "#print(raw_data.iloc[:, -1].values)\n",
        "raw_data['Class'].value_counts()"
      ],
      "metadata": {
        "colab": {
          "base_uri": "https://localhost:8080/"
        },
        "id": "3HePUlhNvfWF",
        "outputId": "db978472-ea31-47a4-e8da-937089f2c370"
      },
      "execution_count": 9,
      "outputs": [
        {
          "output_type": "execute_result",
          "data": {
            "text/plain": [
              "no-recurrence-events    201\n",
              "recurrence-events        85\n",
              "Name: Class, dtype: int64"
            ]
          },
          "metadata": {},
          "execution_count": 9
        }
      ]
    },
    {
      "cell_type": "markdown",
      "source": [
        "Only 2 possible outputs, thus needs converting to binary format for use in classifier models."
      ],
      "metadata": {
        "id": "bkV5bQKKwYHj"
      }
    },
    {
      "cell_type": "code",
      "execution_count": 10,
      "metadata": {
        "id": "KMB3eKfC7goU",
        "colab": {
          "base_uri": "https://localhost:8080/"
        },
        "outputId": "ca6646bd-7a0e-4c0d-c41e-0f4767b92806"
      },
      "outputs": [
        {
          "output_type": "stream",
          "name": "stdout",
          "text": [
            "True outputs: 29.72 %\n"
          ]
        }
      ],
      "source": [
        "# Check output balance\n",
        "out = raw_data.iloc[:, -1].values\n",
        "no_rows = len(raw_data)\n",
        "\n",
        "from sklearn.preprocessing import LabelEncoder\n",
        "le = LabelEncoder()\n",
        "code_rows = le.fit_transform(out)\n",
        "print(\"True outputs: {:.2f} %\".format(sum(code_rows)/no_rows*100))\n",
        "del out, no_rows, le, code_rows"
      ]
    },
    {
      "cell_type": "markdown",
      "source": [
        "Clear imbalance between output data. Some degree of bias/weighting/sampling will be required to ensure that results accurately predict outcomes for both True and False outcomes."
      ],
      "metadata": {
        "id": "mMo9-0hTwirc"
      }
    },
    {
      "cell_type": "code",
      "execution_count": 11,
      "metadata": {
        "id": "f02MTYgB7goW"
      },
      "outputs": [],
      "source": [
        "# Explain your key findings"
      ]
    },
    {
      "cell_type": "markdown",
      "source": [
        "**Data set is made up of 9 independent variables all of which appear catagorical in nature. Although stored as an integer, 'deg-malig' can be viewed as  catagorical data as it can only contain 3 discrete values.**\n",
        "\n",
        "**The inclusion of datetime data entries in both the 'tumor-size' and 'inv-nodes' fields appears to be caused by a formatting entry within Excel. For example, '10-14' being input erroneously as 10/14 thus Excel has interpreted (and converted) it to the datetime field 01/10/2014. A function will need to be written within the model to convert these back to correct format.**\n",
        "\n",
        "**How to deal with '?' entries in fields that are otherwise boolean poses an interesting dilemma. If these are infact meant to signify that the presence is unknown because no diagnostic work has been conducted, then this woiuld signify a valid data entry. If it is however just an incomplete data entry then there is a risk its inclusion could skew the model results. Without knowing which it seems wisest to remove this data from the dataset. Removal of the entire field could well deprive the model of important information, thus just removing these specific entries (rows) appears the most sensible option, particularly noting that there are relatively few occurences.**\n",
        "\n",
        "**Data set is imbalanced, with dependent variable outputs only True in 30% of instances. The model applied will require this imbalance to be taken into account so as not to sacrifice results predicting this smaller class (surely the aim of cancer diagnosis) so as to achieve a high accuracy figure.**\n",
        "\n",
        "**Output variable will need converting into binary output for use with a binary classification model.**"
      ],
      "metadata": {
        "id": "V7OWyLcOrgWJ"
      }
    },
    {
      "cell_type": "code",
      "source": [],
      "metadata": {
        "id": "OK28_iB2wDzX"
      },
      "execution_count": 11,
      "outputs": []
    },
    {
      "cell_type": "markdown",
      "metadata": {
        "id": "SzZj8I8G7goX"
      },
      "source": [
        "Create any data pre-processing that you will conduct on seen and unseen data.  Regardless of the model you use, this dataframe must contain only numeric features and have a strategy for any expected missing values. Any objects can that are needed to handle the test data that are dependent on the training data can be stored in the model class.  You are recommended to use sklearn Pipelines or similar functionality to ensure reproducibility."
      ]
    },
    {
      "cell_type": "code",
      "execution_count": 12,
      "metadata": {
        "id": "Xsq2f8747goZ"
      },
      "outputs": [],
      "source": [
        "class Module4_Model:\n",
        "    \n",
        "    def __init__(self):\n",
        "        self.model = None\n",
        "\n",
        "    def process_dataframe(self, unproc_data):\n",
        "        \"\"\"\n",
        "        Function to remove any erroneous data and then process all data into a\n",
        "        Pandas Dataframe with all data converted into catagorical date (i.e. \n",
        "        encoded) and dummy variables dropped.\n",
        "        \"\"\"\n",
        "        # Deal with ? entries (remove them)\n",
        "        indx = unproc_data[unproc_data.isin(['?'])].stack(dropna=True).unstack().index\n",
        "        print(f\"indx: {indx}\")\n",
        "        unproc_data = unproc_data.drop(index=indx)\n",
        "\n",
        "        # Remove non-categorical data\n",
        "        dm = unproc_data.pop('deg-malig')\n",
        "\n",
        "        # Encode the catagorical data (dummy variables)\n",
        "        proc_data = pd.get_dummies(data=unproc_data, prefix_sep='_', drop_first=True)\n",
        "    \n",
        "        # Add back in non-categorical data\n",
        "        proc_data.insert(0, 'deg-malig', dm)\n",
        "    \n",
        "        return proc_data\n",
        "    \n",
        "    def reformat_dates(self, data):\n",
        "        \"\"\" \n",
        "        Function to reformat datetime data entries in 'tumor-size' and \n",
        "        'inv-nodes' fields back into the string format expected.\n",
        "        \"\"\"\n",
        "        # Correct date types in 'tumor-size' and 'inv-nodes' variables\n",
        "        for i in range(0, len(data)):\n",
        "            if type(data['tumor-size'][i]) is not str:\n",
        "                if data['tumor-size'][i].day == 1:\n",
        "                    data['tumor-size'][i] = str(data['tumor-size'][i].month) +'-' + str(data['tumor-size'][i].year-2000)\n",
        "                else:\n",
        "                    data['tumor-size'][i] = str(data['tumor-size'][i].day) + '-' + str(data['tumor-size'][i].month)\n",
        "            if type(data['inv-nodes'][i]) is not str:\n",
        "                if data['inv-nodes'][i].day == 1:\n",
        "                    data['inv-nodes'][i] = str(data['inv-nodes'][i].month) + '-' + str(data['inv-nodes'][i].year-2000)\n",
        "                else:\n",
        "                    data['inv-nodes'][i] = str(data['inv-nodes'][i].day) + '-' + str(data['inv-nodes'][i].month)\n",
        "        \n",
        "        return data\n",
        "\n",
        "    def preprocess_training_data(self, training_df):\n",
        "        \"\"\"\n",
        "        This function should process the training data and store any features\n",
        "        required in the class\n",
        "        \"\"\"\n",
        "        # Apply feature scaling\n",
        "        from sklearn.preprocessing import StandardScaler\n",
        "        sc = StandardScaler()\n",
        "        processed_df = sc.fit_transform(training_df)\n",
        "        return processed_df\n",
        "\n",
        "    def preprocess_test_data(self, test_df):\n",
        "        \"\"\"\n",
        "        This function should process the test data and store any features\n",
        "        required in the class\n",
        "        \"\"\"\n",
        "        # Apply feature scaling\n",
        "        from sklearn.preprocessing import StandardScaler\n",
        "        sc = StandardScaler()\n",
        "        processed_df = sc.fit_transform(test_df)\n",
        "        return processed_df\n",
        "\n"
      ]
    },
    {
      "cell_type": "code",
      "execution_count": 13,
      "metadata": {
        "id": "F3LiNNCb7goa",
        "colab": {
          "base_uri": "https://localhost:8080/"
        },
        "outputId": "90b53cb4-eb59-414c-a704-d8fc5fc977fe"
      },
      "outputs": [
        {
          "output_type": "stream",
          "name": "stdout",
          "text": [
            "indx: Int64Index([20, 31, 50, 54, 71, 92, 149, 240, 264], dtype='int64')\n"
          ]
        },
        {
          "output_type": "stream",
          "name": "stderr",
          "text": [
            "/usr/local/lib/python3.7/dist-packages/ipykernel_launcher.py:44: SettingWithCopyWarning: \n",
            "A value is trying to be set on a copy of a slice from a DataFrame\n",
            "\n",
            "See the caveats in the documentation: https://pandas.pydata.org/pandas-docs/stable/user_guide/indexing.html#returning-a-view-versus-a-copy\n",
            "/usr/local/lib/python3.7/dist-packages/ipykernel_launcher.py:37: SettingWithCopyWarning: \n",
            "A value is trying to be set on a copy of a slice from a DataFrame\n",
            "\n",
            "See the caveats in the documentation: https://pandas.pydata.org/pandas-docs/stable/user_guide/indexing.html#returning-a-view-versus-a-copy\n",
            "/usr/local/lib/python3.7/dist-packages/ipykernel_launcher.py:39: SettingWithCopyWarning: \n",
            "A value is trying to be set on a copy of a slice from a DataFrame\n",
            "\n",
            "See the caveats in the documentation: https://pandas.pydata.org/pandas-docs/stable/user_guide/indexing.html#returning-a-view-versus-a-copy\n",
            "/usr/local/lib/python3.7/dist-packages/ipykernel_launcher.py:42: SettingWithCopyWarning: \n",
            "A value is trying to be set on a copy of a slice from a DataFrame\n",
            "\n",
            "See the caveats in the documentation: https://pandas.pydata.org/pandas-docs/stable/user_guide/indexing.html#returning-a-view-versus-a-copy\n"
          ]
        }
      ],
      "source": [
        "# Dont change\n",
        "my_model = Module4_Model()\n",
        "# reformat date fields into string\n",
        "raw_data_date = my_model.reformat_dates(raw_data)\n",
        "\n",
        "# clean up data and create dataframe of only numerical (catagorical) data\n",
        "clean_data = my_model.process_dataframe(raw_data_date)\n",
        "del raw_data_date, raw_data"
      ]
    },
    {
      "cell_type": "code",
      "execution_count": 14,
      "metadata": {
        "id": "WIh9_0pp7goY"
      },
      "outputs": [],
      "source": [
        "# Split your data so that you can test the effectiveness of your model\n",
        "# Split the data into a Training set and a Test set\n",
        "dfs = np.split(clean_data, [len(clean_data.columns)-1], axis=1)\n",
        "X = dfs[0]\n",
        "y = dfs[1]\n",
        "from sklearn.model_selection import train_test_split\n",
        "X_train, X_test, y_train, y_test = train_test_split(X,\n",
        "                                                    y,\n",
        "                                                    test_size = 0.25,\n",
        "                                                    random_state = 42)\n",
        "del dfs, X, y, clean_data"
      ]
    },
    {
      "cell_type": "code",
      "execution_count": 15,
      "metadata": {
        "id": "ZQD7WPdN7god"
      },
      "outputs": [],
      "source": [
        "# Dont change\n",
        "x_train_processed = my_model.preprocess_training_data(X_train)\n",
        "del X_train"
      ]
    },
    {
      "cell_type": "code",
      "execution_count": 16,
      "metadata": {
        "id": "AbOQACY77goY"
      },
      "outputs": [],
      "source": [
        "# Populate preprocess_training_data and preprocess_test_data to preprocess data.\n",
        "# You must process test and train separately so your model does not accidently\n",
        "# gain information that a model wouldnt have in reality and therefore get better predictions\n"
      ]
    },
    {
      "cell_type": "code",
      "execution_count": 17,
      "metadata": {
        "id": "rQwUj4lk7goe"
      },
      "outputs": [],
      "source": [
        "# Dont change\n",
        "x_test_processed = my_model.preprocess_test_data(X_test)\n",
        "del X_test"
      ]
    },
    {
      "cell_type": "code",
      "source": [
        "# Apply dimensionality reduction\n",
        "from sklearn.decomposition import KernelPCA\n",
        "kpca = KernelPCA(n_components = 8, kernel = 'rbf')\n",
        "x_train_processed = kpca.fit_transform(x_train_processed)\n",
        "x_test_processed = kpca.transform(x_test_processed)"
      ],
      "metadata": {
        "id": "7o9n5XqHozgi"
      },
      "execution_count": 18,
      "outputs": []
    },
    {
      "cell_type": "code",
      "execution_count": 19,
      "metadata": {
        "id": "XnLHgaXS7goe"
      },
      "outputs": [],
      "source": [
        "# Create models for evaluation\n",
        "from sklearn.ensemble import AdaBoostClassifier\n",
        "from sklearn.ensemble import GradientBoostingClassifier\n",
        "from imblearn.ensemble import EasyEnsembleClassifier, BalancedRandomForestClassifier\n",
        "from sklearn.ensemble import RandomForestClassifier\n",
        "from sklearn.neighbors import KNeighborsClassifier\n",
        "from sklearn.svm import SVC\n",
        "from sklearn.linear_model import LogisticRegression\n",
        "from sklearn.experimental import enable_halving_search_cv\n",
        "from sklearn.model_selection import HalvingGridSearchCV\n",
        "from sklearn.metrics import accuracy_score,log_loss,recall_score,balanced_accuracy_score\n",
        "from sklearn.metrics import precision_score,f1_score,confusion_matrix, fbeta_score\n",
        "from imblearn.metrics import sensitivity_score, specificity_score, geometric_mean_score\n",
        "\n",
        "models = ['ADA',\n",
        "          'GBC',\n",
        "          'EEC',\n",
        "          'BRF',\n",
        "          'RFC',\n",
        "          'KNN',\n",
        "          'SVC',\n",
        "          'lReg']\n",
        "\n",
        "classifiers = [AdaBoostClassifier(random_state=42),\n",
        "               GradientBoostingClassifier(random_state=42),\n",
        "               EasyEnsembleClassifier(base_estimator=RandomForestClassifier(random_state=42,\n",
        "                                                                            n_estimators=60)),\n",
        "               BalancedRandomForestClassifier(random_state=42),\n",
        "               RandomForestClassifier(random_state=42, n_jobs=-1),\n",
        "               KNeighborsClassifier(n_jobs=-1),\n",
        "               SVC(random_state=42, probability=True),\n",
        "               LogisticRegression(solver='newton-cg', multi_class='multinomial')]\n",
        "\n",
        "\n",
        "params = {models[0]:{'learning_rate':[0.01,0.1,1,10],\n",
        "                     'n_estimators':np.array(range(10,110,10)),\n",
        "                     'algorithm':['SAMME','SAMME.R']},\n",
        "          models[1]:{'learning_rate':[0.01,0.1,1,10],\n",
        "                     'n_estimators':np.array(range(10,110,10)),\n",
        "                     'max_depth':np.array(range(1,11,1))},\n",
        "          models[2]:{'n_estimators':np.array(range(10,60,10)),\n",
        "                     'base_estimator__n_estimators':np.array(range(40,100,10)),\n",
        "                     'base_estimator__criterion':['gini','entropy'],\n",
        "                     'base_estimator__class_weight':['balanced','balanced_subsample']},\n",
        "          models[3]:{'n_estimators':np.array(range(10,110,10)),\n",
        "                     'criterion':['gini','entropy'],\n",
        "                     'class_weight':['balanced','balanced_subsample']},\n",
        "          models[4]:{'n_estimators':np.array(range(10,110,10)),\n",
        "                     'criterion':['gini','entropy'],\n",
        "                     'class_weight':['balanced','balanced_subsample']},\n",
        "          models[5]:{'n_neighbors':np.array(range(10,60,10)),\n",
        "                     'weights':['uniform','distance'],\n",
        "                     'algorithm':['auto','ball_tree'],\n",
        "                     'metric':['chebyshev','minkowski']},\n",
        "          models[6]:{'C':[1,10,60,100,600,1000],\n",
        "                     'tol':[0.005],\n",
        "                     'kernel':['linear','poly','rbf','sigmoid'],\n",
        "                     'class_weight':['balanced']},\n",
        "          models[7]:{'C':[1,10,60,100,600,1000],\n",
        "                     'class_weight':['balanced'],\n",
        "                     'solver':['newton-cg','lbfgs','sag','saga'],\n",
        "                     'tol':[0.0001]}}"
      ]
    },
    {
      "cell_type": "code",
      "source": [
        "# Define custom scoring metric\n",
        "from sklearn.metrics import make_scorer\n",
        "import math\n",
        "def my_scorer(y_true, y_pred):\n",
        "    score = accuracy_score(y_true,y_pred) * f1_score(y_true,y_pred,average='macro')\n",
        "    if math.isnan(score):\n",
        "        score = 0.01\n",
        "    return score"
      ],
      "metadata": {
        "id": "A-O1nwgnD7ei"
      },
      "execution_count": 20,
      "outputs": []
    },
    {
      "cell_type": "code",
      "source": [
        "cust_score = make_scorer(my_scorer,greater_is_better=True)\n",
        "scorers_list = [geometric_mean_score,\n",
        "                fbeta_score,\n",
        "                'accuracy',\n",
        "                'precision',\n",
        "                'recall',\n",
        "                'f1_macro',\n",
        "                cust_score,\n",
        "                'balanced_accuracy',\n",
        "                sensitivity_score,]\n",
        "\n",
        "from google.colab import files\n",
        "for i in range(2,len(scorers_list)):\n",
        "    # Conduct halving grid search across all models\n",
        "    y_tested=0\n",
        "    test_scores=[]\n",
        "    for name, estimator in zip(models,classifiers):\n",
        "        print(name)\n",
        "        clf = HalvingGridSearchCV(estimator=estimator,\n",
        "                                param_grid=params[name],\n",
        "                                factor=2,\n",
        "                                scoring=scorers_list[i],\n",
        "                                cv=5,\n",
        "                                n_jobs=-1)\n",
        "        clf.fit(x_train_processed, np.ravel(y_train.values))\n",
        "        print(f\"Best params: {clf.best_params_}\")\n",
        "        print(f\"Best score: {clf.best_score_}\")\n",
        "        estimates = clf.predict_proba(x_test_processed)\n",
        "        y_tested+=estimates\n",
        "        acc = accuracy_score(y_test, clf.predict(x_test_processed))\n",
        "        rec = recall_score(y_test, clf.predict(x_test_processed))\n",
        "        pre = precision_score(y_test, clf.predict(x_test_processed))\n",
        "        f1s = f1_score(y_test, clf.predict(x_test_processed), average='macro')\n",
        "        cm = confusion_matrix(y_test, clf.predict(x_test_processed))\n",
        "        print(\"Accuracy: {:.4%}\".format(acc))\n",
        "        print(\"Recall: {:.4%}\".format(rec))\n",
        "        print(\"Precision: {:.4%}\".format(pre))\n",
        "        print(\"F-measure: {:.4%}\".format(f1s))\n",
        "        print(cm)\n",
        "        \n",
        "        test_scores.append((name,acc,clf.best_score_,f1s,rec,pre,cm,clf.best_params_,(0.5*(f1s+acc))))\n",
        "        \n",
        "    submission = pd.DataFrame(test_scores, columns=['Classifier',\n",
        "                                                    'Accuracy',\n",
        "                                                    'Trg score',\n",
        "                                                    'F-score test',\n",
        "                                                    'Recall',\n",
        "                                                    'Precision',\n",
        "                                                    'Confusion matrix',\n",
        "                                                    'Best params',\n",
        "                                                    'Custom score'])\n",
        "    submission.to_csv(f\"Results_{i}.csv\")\n",
        "    files.download(f\"/content/Results_{i}.csv\")"
      ],
      "metadata": {
        "id": "woCp5wuzhqXH",
        "outputId": "72b61046-c2d9-406d-f03b-9dc532febdf8",
        "colab": {
          "base_uri": "https://localhost:8080/",
          "height": 1000
        }
      },
      "execution_count": null,
      "outputs": [
        {
          "metadata": {
            "tags": null
          },
          "name": "stdout",
          "output_type": "stream",
          "text": [
            "ADA\n",
            "Best params: {'algorithm': 'SAMME.R', 'learning_rate': 0.01, 'n_estimators': 60}\n",
            "Best score: 0.7203629032258065\n",
            "Accuracy: 72.8571%\n",
            "Recall: 0.0000%\n",
            "Precision: 0.0000%\n",
            "F-measure: 42.1488%\n",
            "[[51  0]\n",
            " [19  0]]\n",
            "GBC\n"
          ]
        },
        {
          "metadata": {
            "tags": null
          },
          "name": "stderr",
          "output_type": "stream",
          "text": [
            "/usr/local/lib/python3.7/dist-packages/sklearn/metrics/_classification.py:1318: UndefinedMetricWarning: Precision is ill-defined and being set to 0.0 due to no predicted samples. Use `zero_division` parameter to control this behavior.\n",
            "  _warn_prf(average, modifier, msg_start, len(result))\n"
          ]
        },
        {
          "metadata": {
            "tags": null
          },
          "name": "stdout",
          "output_type": "stream",
          "text": [
            "Best params: {'learning_rate': 0.01, 'max_depth': 8, 'n_estimators': 10}\n",
            "Best score: 0.6941532258064517\n",
            "Accuracy: 72.8571%\n",
            "Recall: 0.0000%\n",
            "Precision: 0.0000%\n",
            "F-measure: 42.1488%\n",
            "[[51  0]\n",
            " [19  0]]\n",
            "EEC\n"
          ]
        },
        {
          "metadata": {
            "tags": null
          },
          "name": "stderr",
          "output_type": "stream",
          "text": [
            "/usr/local/lib/python3.7/dist-packages/sklearn/metrics/_classification.py:1318: UndefinedMetricWarning: Precision is ill-defined and being set to 0.0 due to no predicted samples. Use `zero_division` parameter to control this behavior.\n",
            "  _warn_prf(average, modifier, msg_start, len(result))\n"
          ]
        },
        {
          "output_type": "stream",
          "name": "stdout",
          "text": [
            "Best params: {'base_estimator__class_weight': 'balanced_subsample', 'base_estimator__criterion': 'entropy', 'base_estimator__n_estimators': 80, 'n_estimators': 20}\n",
            "Best score: 0.6235887096774193\n",
            "Accuracy: 57.1429%\n",
            "Recall: 84.2105%\n",
            "Precision: 37.2093%\n",
            "F-measure: 56.5757%\n",
            "[[24 27]\n",
            " [ 3 16]]\n",
            "BRF\n",
            "Best params: {'class_weight': 'balanced', 'criterion': 'gini', 'n_estimators': 90}\n",
            "Best score: 0.6235887096774193\n",
            "Accuracy: 57.1429%\n",
            "Recall: 84.2105%\n",
            "Precision: 37.2093%\n",
            "F-measure: 56.5757%\n",
            "[[24 27]\n",
            " [ 3 16]]\n",
            "RFC\n",
            "Best params: {'class_weight': 'balanced_subsample', 'criterion': 'entropy', 'n_estimators': 100}\n",
            "Best score: 0.7328629032258066\n",
            "Accuracy: 64.2857%\n",
            "Recall: 26.3158%\n",
            "Precision: 31.2500%\n",
            "F-measure: 52.3810%\n",
            "[[40 11]\n",
            " [14  5]]\n",
            "KNN\n"
          ]
        },
        {
          "output_type": "stream",
          "name": "stderr",
          "text": [
            "/usr/local/lib/python3.7/dist-packages/sklearn/model_selection/_search.py:972: UserWarning: One or more of the test scores are non-finite: [0.66666667 0.78333333        nan        nan        nan        nan\n",
            "        nan        nan        nan        nan 0.71666667 0.78333333\n",
            "        nan        nan        nan        nan        nan        nan\n",
            "        nan        nan 0.66666667 0.78333333        nan        nan\n",
            "        nan        nan        nan        nan        nan        nan\n",
            " 0.71666667 0.78333333        nan        nan        nan        nan\n",
            "        nan        nan        nan        nan]\n",
            "  category=UserWarning,\n",
            "/usr/local/lib/python3.7/dist-packages/sklearn/model_selection/_search.py:972: UserWarning: One or more of the train scores are non-finite: [0.78416667 1.                nan        nan        nan        nan\n",
            "        nan        nan        nan        nan 0.69083333 1.\n",
            "        nan        nan        nan        nan        nan        nan\n",
            "        nan        nan 0.78416667 1.                nan        nan\n",
            "        nan        nan        nan        nan        nan        nan\n",
            " 0.69083333 1.                nan        nan        nan        nan\n",
            "        nan        nan        nan        nan]\n",
            "  category=UserWarning,\n",
            "/usr/local/lib/python3.7/dist-packages/sklearn/model_selection/_search.py:972: UserWarning: One or more of the test scores are non-finite: [0.66666667 0.78333333        nan        nan        nan        nan\n",
            "        nan        nan        nan        nan 0.71666667 0.78333333\n",
            "        nan        nan        nan        nan        nan        nan\n",
            "        nan        nan 0.66666667 0.78333333        nan        nan\n",
            "        nan        nan        nan        nan        nan        nan\n",
            " 0.71666667 0.78333333        nan        nan        nan        nan\n",
            "        nan        nan        nan        nan        nan        nan\n",
            "        nan        nan 0.76071429 0.67857143 0.73214286 0.70714286\n",
            "        nan        nan        nan        nan 0.73214286 0.70714286\n",
            " 0.73214286 0.70714286        nan        nan        nan        nan]\n",
            "  category=UserWarning,\n",
            "/usr/local/lib/python3.7/dist-packages/sklearn/model_selection/_search.py:972: UserWarning: One or more of the train scores are non-finite: [0.78416667 1.                nan        nan        nan        nan\n",
            "        nan        nan        nan        nan 0.69083333 1.\n",
            "        nan        nan        nan        nan        nan        nan\n",
            "        nan        nan 0.78416667 1.                nan        nan\n",
            "        nan        nan        nan        nan        nan        nan\n",
            " 0.69083333 1.                nan        nan        nan        nan\n",
            "        nan        nan        nan        nan        nan        nan\n",
            "        nan        nan 0.67177419 1.         0.69677419 1.\n",
            "        nan        nan        nan        nan 0.69677419 1.\n",
            " 0.69677419 1.                nan        nan        nan        nan]\n",
            "  category=UserWarning,\n",
            "/usr/local/lib/python3.7/dist-packages/sklearn/model_selection/_search.py:972: UserWarning: One or more of the test scores are non-finite: [0.66666667 0.78333333        nan        nan        nan        nan\n",
            "        nan        nan        nan        nan 0.71666667 0.78333333\n",
            "        nan        nan        nan        nan        nan        nan\n",
            "        nan        nan 0.66666667 0.78333333        nan        nan\n",
            "        nan        nan        nan        nan        nan        nan\n",
            " 0.71666667 0.78333333        nan        nan        nan        nan\n",
            "        nan        nan        nan        nan        nan        nan\n",
            "        nan        nan 0.76071429 0.67857143 0.73214286 0.70714286\n",
            "        nan        nan        nan        nan 0.73214286 0.70714286\n",
            " 0.73214286 0.70714286        nan        nan        nan        nan\n",
            " 0.72833333 0.74083333 0.72833333 0.74083333 0.72833333 0.72833333\n",
            " 0.74083333 0.74083333 0.72833333 0.74083333]\n",
            "  category=UserWarning,\n",
            "/usr/local/lib/python3.7/dist-packages/sklearn/model_selection/_search.py:972: UserWarning: One or more of the train scores are non-finite: [0.78416667 1.                nan        nan        nan        nan\n",
            "        nan        nan        nan        nan 0.69083333 1.\n",
            "        nan        nan        nan        nan        nan        nan\n",
            "        nan        nan 0.78416667 1.                nan        nan\n",
            "        nan        nan        nan        nan        nan        nan\n",
            " 0.69083333 1.                nan        nan        nan        nan\n",
            "        nan        nan        nan        nan        nan        nan\n",
            "        nan        nan 0.67177419 1.         0.69677419 1.\n",
            "        nan        nan        nan        nan 0.69677419 1.\n",
            " 0.69677419 1.                nan        nan        nan        nan\n",
            " 0.71374008 1.         0.71374008 1.         0.71374008 0.71374008\n",
            " 0.9937004  1.         0.71374008 1.        ]\n",
            "  category=UserWarning,\n",
            "/usr/local/lib/python3.7/dist-packages/sklearn/model_selection/_search.py:972: UserWarning: One or more of the test scores are non-finite: [0.66666667 0.78333333        nan        nan        nan        nan\n",
            "        nan        nan        nan        nan 0.71666667 0.78333333\n",
            "        nan        nan        nan        nan        nan        nan\n",
            "        nan        nan 0.66666667 0.78333333        nan        nan\n",
            "        nan        nan        nan        nan        nan        nan\n",
            " 0.71666667 0.78333333        nan        nan        nan        nan\n",
            "        nan        nan        nan        nan        nan        nan\n",
            "        nan        nan 0.76071429 0.67857143 0.73214286 0.70714286\n",
            "        nan        nan        nan        nan 0.73214286 0.70714286\n",
            " 0.73214286 0.70714286        nan        nan        nan        nan\n",
            " 0.72833333 0.74083333 0.72833333 0.74083333 0.72833333 0.72833333\n",
            " 0.74083333 0.74083333 0.72833333 0.74083333 0.70745968 0.7203629\n",
            " 0.69455645 0.7203629  0.69455645]\n",
            "  category=UserWarning,\n",
            "/usr/local/lib/python3.7/dist-packages/sklearn/model_selection/_search.py:972: UserWarning: One or more of the train scores are non-finite: [0.78416667 1.                nan        nan        nan        nan\n",
            "        nan        nan        nan        nan 0.69083333 1.\n",
            "        nan        nan        nan        nan        nan        nan\n",
            "        nan        nan 0.78416667 1.                nan        nan\n",
            "        nan        nan        nan        nan        nan        nan\n",
            " 0.69083333 1.                nan        nan        nan        nan\n",
            "        nan        nan        nan        nan        nan        nan\n",
            "        nan        nan 0.67177419 1.         0.69677419 1.\n",
            "        nan        nan        nan        nan 0.69677419 1.\n",
            " 0.69677419 1.                nan        nan        nan        nan\n",
            " 0.71374008 1.         0.71374008 1.         0.71374008 0.71374008\n",
            " 0.9937004  1.         0.71374008 1.         1.         1.\n",
            " 1.         1.         1.        ]\n",
            "  category=UserWarning,\n"
          ]
        },
        {
          "output_type": "stream",
          "name": "stdout",
          "text": [
            "Best params: {'algorithm': 'auto', 'metric': 'chebyshev', 'n_neighbors': 50, 'weights': 'distance'}\n",
            "Best score: 0.7203629032258065\n"
          ]
        },
        {
          "output_type": "stream",
          "name": "stderr",
          "text": [
            "/usr/local/lib/python3.7/dist-packages/sklearn/metrics/_classification.py:1318: UndefinedMetricWarning: Precision is ill-defined and being set to 0.0 due to no predicted samples. Use `zero_division` parameter to control this behavior.\n",
            "  _warn_prf(average, modifier, msg_start, len(result))\n"
          ]
        },
        {
          "output_type": "stream",
          "name": "stdout",
          "text": [
            "Accuracy: 72.8571%\n",
            "Recall: 0.0000%\n",
            "Precision: 0.0000%\n",
            "F-measure: 42.1488%\n",
            "[[51  0]\n",
            " [19  0]]\n",
            "SVC\n",
            "Best params: {'C': 60, 'class_weight': 'balanced', 'kernel': 'rbf', 'tol': 0.005}\n",
            "Best score: 0.6239919354838709\n",
            "Accuracy: 62.8571%\n",
            "Recall: 31.5789%\n",
            "Precision: 31.5789%\n",
            "F-measure: 53.0444%\n",
            "[[38 13]\n",
            " [13  6]]\n",
            "lReg\n",
            "Best params: {'C': 10, 'class_weight': 'balanced', 'solver': 'lbfgs', 'tol': 0.0001}\n",
            "Best score: 0.6300403225806451\n",
            "Accuracy: 65.7143%\n",
            "Recall: 84.2105%\n",
            "Precision: 43.2432%\n",
            "F-measure: 64.2857%\n",
            "[[30 21]\n",
            " [ 3 16]]\n"
          ]
        },
        {
          "output_type": "display_data",
          "data": {
            "text/plain": [
              "<IPython.core.display.Javascript object>"
            ],
            "application/javascript": [
              "\n",
              "    async function download(id, filename, size) {\n",
              "      if (!google.colab.kernel.accessAllowed) {\n",
              "        return;\n",
              "      }\n",
              "      const div = document.createElement('div');\n",
              "      const label = document.createElement('label');\n",
              "      label.textContent = `Downloading \"${filename}\": `;\n",
              "      div.appendChild(label);\n",
              "      const progress = document.createElement('progress');\n",
              "      progress.max = size;\n",
              "      div.appendChild(progress);\n",
              "      document.body.appendChild(div);\n",
              "\n",
              "      const buffers = [];\n",
              "      let downloaded = 0;\n",
              "\n",
              "      const channel = await google.colab.kernel.comms.open(id);\n",
              "      // Send a message to notify the kernel that we're ready.\n",
              "      channel.send({})\n",
              "\n",
              "      for await (const message of channel.messages) {\n",
              "        // Send a message to notify the kernel that we're ready.\n",
              "        channel.send({})\n",
              "        if (message.buffers) {\n",
              "          for (const buffer of message.buffers) {\n",
              "            buffers.push(buffer);\n",
              "            downloaded += buffer.byteLength;\n",
              "            progress.value = downloaded;\n",
              "          }\n",
              "        }\n",
              "      }\n",
              "      const blob = new Blob(buffers, {type: 'application/binary'});\n",
              "      const a = document.createElement('a');\n",
              "      a.href = window.URL.createObjectURL(blob);\n",
              "      a.download = filename;\n",
              "      div.appendChild(a);\n",
              "      a.click();\n",
              "      div.remove();\n",
              "    }\n",
              "  "
            ]
          },
          "metadata": {}
        },
        {
          "output_type": "display_data",
          "data": {
            "text/plain": [
              "<IPython.core.display.Javascript object>"
            ],
            "application/javascript": [
              "download(\"download_1983107a-997a-4a63-a32e-22ed50d42243\", \"Results_2.csv\", 1792)"
            ]
          },
          "metadata": {}
        },
        {
          "output_type": "stream",
          "name": "stdout",
          "text": [
            "ADA\n",
            "Best params: {'algorithm': 'SAMME', 'learning_rate': 1, 'n_estimators': 80}\n",
            "Best score: 0.4155555555555555\n",
            "Accuracy: 65.7143%\n",
            "Recall: 36.8421%\n",
            "Precision: 36.8421%\n",
            "F-measure: 56.6563%\n",
            "[[39 12]\n",
            " [12  7]]\n",
            "GBC\n",
            "Best params: {'learning_rate': 0.01, 'max_depth': 6, 'n_estimators': 40}\n",
            "Best score: 0.6133333333333333\n",
            "Accuracy: 71.4286%\n",
            "Recall: 15.7895%\n",
            "Precision: 42.8571%\n",
            "F-measure: 52.7665%\n",
            "[[47  4]\n",
            " [16  3]]\n",
            "EEC\n",
            "Best params: {'base_estimator__class_weight': 'balanced_subsample', 'base_estimator__criterion': 'entropy', 'base_estimator__n_estimators': 60, 'n_estimators': 30}\n",
            "Best score: 0.4422466422466423\n",
            "Accuracy: 64.2857%\n",
            "Recall: 89.4737%\n",
            "Precision: 42.5000%\n",
            "F-measure: 63.3815%\n",
            "[[28 23]\n",
            " [ 2 17]]\n",
            "BRF\n",
            "Best params: {'class_weight': 'balanced', 'criterion': 'gini', 'n_estimators': 70}\n",
            "Best score: 0.42515151515151517\n",
            "Accuracy: 57.1429%\n",
            "Recall: 78.9474%\n",
            "Precision: 36.5854%\n",
            "F-measure: 56.2500%\n",
            "[[25 26]\n",
            " [ 4 15]]\n",
            "RFC\n",
            "Best params: {'class_weight': 'balanced', 'criterion': 'entropy', 'n_estimators': 10}\n",
            "Best score: 0.5333333333333333\n",
            "Accuracy: 74.2857%\n",
            "Recall: 42.1053%\n",
            "Precision: 53.3333%\n",
            "F-measure: 65.0388%\n",
            "[[44  7]\n",
            " [11  8]]\n",
            "KNN\n"
          ]
        },
        {
          "output_type": "stream",
          "name": "stderr",
          "text": [
            "/usr/local/lib/python3.7/dist-packages/sklearn/model_selection/_search.py:972: UserWarning: One or more of the test scores are non-finite: [ 0.  0. nan nan nan nan nan nan nan nan  0.  0. nan nan nan nan nan nan\n",
            " nan nan  0.  0. nan nan nan nan nan nan nan nan  0.  0. nan nan nan nan\n",
            " nan nan nan nan]\n",
            "  category=UserWarning,\n",
            "/usr/local/lib/python3.7/dist-packages/sklearn/model_selection/_search.py:972: UserWarning: One or more of the train scores are non-finite: [0.14285714 1.                nan        nan        nan        nan\n",
            "        nan        nan        nan        nan 0.4        1.\n",
            "        nan        nan        nan        nan        nan        nan\n",
            "        nan        nan 0.14285714 1.                nan        nan\n",
            "        nan        nan        nan        nan        nan        nan\n",
            " 0.4        1.                nan        nan        nan        nan\n",
            "        nan        nan        nan        nan]\n",
            "  category=UserWarning,\n",
            "/usr/local/lib/python3.7/dist-packages/sklearn/model_selection/_search.py:972: UserWarning: One or more of the test scores are non-finite: [0.  0.  nan nan nan nan nan nan nan nan 0.  0.  nan nan nan nan nan nan\n",
            " nan nan 0.  0.  nan nan nan nan nan nan nan nan 0.  0.  nan nan nan nan\n",
            " nan nan nan nan 0.  0.  nan nan 0.  0.1 0.  0.  nan nan nan nan 0.  0.1\n",
            " 0.  0.  nan nan nan nan]\n",
            "  category=UserWarning,\n",
            "/usr/local/lib/python3.7/dist-packages/sklearn/model_selection/_search.py:972: UserWarning: One or more of the train scores are non-finite: [0.14285714 1.                nan        nan        nan        nan\n",
            "        nan        nan        nan        nan 0.4        1.\n",
            "        nan        nan        nan        nan        nan        nan\n",
            "        nan        nan 0.14285714 1.                nan        nan\n",
            "        nan        nan        nan        nan        nan        nan\n",
            " 0.4        1.                nan        nan        nan        nan\n",
            "        nan        nan        nan        nan 0.         0.\n",
            "        nan        nan 0.         1.         0.         1.\n",
            "        nan        nan        nan        nan 0.         1.\n",
            " 0.         1.                nan        nan        nan        nan]\n",
            "  category=UserWarning,\n",
            "/usr/local/lib/python3.7/dist-packages/sklearn/model_selection/_search.py:972: UserWarning: One or more of the test scores are non-finite: [0.         0.                nan        nan        nan        nan\n",
            "        nan        nan        nan        nan 0.         0.\n",
            "        nan        nan        nan        nan        nan        nan\n",
            "        nan        nan 0.         0.                nan        nan\n",
            "        nan        nan        nan        nan        nan        nan\n",
            " 0.         0.                nan        nan        nan        nan\n",
            "        nan        nan        nan        nan 0.         0.\n",
            "        nan        nan 0.         0.1        0.         0.\n",
            "        nan        nan        nan        nan 0.         0.1\n",
            " 0.         0.                nan        nan        nan        nan\n",
            " 0.18       0.         0.2        0.         0.26666667 0.1\n",
            " 0.         0.16666667 0.         0.16666667]\n",
            "  category=UserWarning,\n",
            "/usr/local/lib/python3.7/dist-packages/sklearn/model_selection/_search.py:972: UserWarning: One or more of the train scores are non-finite: [0.14285714 1.                nan        nan        nan        nan\n",
            "        nan        nan        nan        nan 0.4        1.\n",
            "        nan        nan        nan        nan        nan        nan\n",
            "        nan        nan 0.14285714 1.                nan        nan\n",
            "        nan        nan        nan        nan        nan        nan\n",
            " 0.4        1.                nan        nan        nan        nan\n",
            "        nan        nan        nan        nan 0.         0.\n",
            "        nan        nan 0.         1.         0.         1.\n",
            "        nan        nan        nan        nan 0.         1.\n",
            " 0.         1.                nan        nan        nan        nan\n",
            " 1.         0.2        1.         0.         1.         0.2\n",
            " 0.         1.         0.         1.        ]\n",
            "  category=UserWarning,\n",
            "/usr/local/lib/python3.7/dist-packages/sklearn/model_selection/_search.py:972: UserWarning: One or more of the test scores are non-finite: [0.         0.                nan        nan        nan        nan\n",
            "        nan        nan        nan        nan 0.         0.\n",
            "        nan        nan        nan        nan        nan        nan\n",
            "        nan        nan 0.         0.                nan        nan\n",
            "        nan        nan        nan        nan        nan        nan\n",
            " 0.         0.                nan        nan        nan        nan\n",
            "        nan        nan        nan        nan 0.         0.\n",
            "        nan        nan 0.         0.1        0.         0.\n",
            "        nan        nan        nan        nan 0.         0.1\n",
            " 0.         0.                nan        nan        nan        nan\n",
            " 0.18       0.         0.2        0.         0.26666667 0.1\n",
            " 0.         0.16666667 0.         0.16666667 0.6        0.6\n",
            " 0.6        0.66666667 0.6       ]\n",
            "  category=UserWarning,\n",
            "/usr/local/lib/python3.7/dist-packages/sklearn/model_selection/_search.py:972: UserWarning: One or more of the train scores are non-finite: [0.14285714 1.                nan        nan        nan        nan\n",
            "        nan        nan        nan        nan 0.4        1.\n",
            "        nan        nan        nan        nan        nan        nan\n",
            "        nan        nan 0.14285714 1.                nan        nan\n",
            "        nan        nan        nan        nan        nan        nan\n",
            " 0.4        1.                nan        nan        nan        nan\n",
            "        nan        nan        nan        nan 0.         0.\n",
            "        nan        nan 0.         1.         0.         1.\n",
            "        nan        nan        nan        nan 0.         1.\n",
            " 0.         1.                nan        nan        nan        nan\n",
            " 1.         0.2        1.         0.         1.         0.2\n",
            " 0.         1.         0.         1.         1.         1.\n",
            " 1.         1.         1.        ]\n",
            "  category=UserWarning,\n"
          ]
        },
        {
          "output_type": "stream",
          "name": "stdout",
          "text": [
            "Best params: {'algorithm': 'auto', 'metric': 'chebyshev', 'n_neighbors': 40, 'weights': 'distance'}\n",
            "Best score: 0.6666666666666666\n",
            "Accuracy: 71.4286%\n",
            "Recall: 0.0000%\n",
            "Precision: 0.0000%\n",
            "F-measure: 41.6667%\n",
            "[[50  1]\n",
            " [19  0]]\n",
            "SVC\n",
            "Best params: {'C': 1, 'class_weight': 'balanced', 'kernel': 'rbf', 'tol': 0.005}\n",
            "Best score: 0.4347338935574229\n",
            "Accuracy: 52.8571%\n",
            "Recall: 84.2105%\n",
            "Precision: 34.7826%\n",
            "F-measure: 52.6154%\n",
            "[[21 30]\n",
            " [ 3 16]]\n",
            "lReg\n",
            "Best params: {'C': 10, 'class_weight': 'balanced', 'solver': 'lbfgs', 'tol': 0.0001}\n",
            "Best score: 0.3621148459383753\n",
            "Accuracy: 65.7143%\n",
            "Recall: 84.2105%\n",
            "Precision: 43.2432%\n",
            "F-measure: 64.2857%\n",
            "[[30 21]\n",
            " [ 3 16]]\n"
          ]
        },
        {
          "output_type": "display_data",
          "data": {
            "text/plain": [
              "<IPython.core.display.Javascript object>"
            ],
            "application/javascript": [
              "\n",
              "    async function download(id, filename, size) {\n",
              "      if (!google.colab.kernel.accessAllowed) {\n",
              "        return;\n",
              "      }\n",
              "      const div = document.createElement('div');\n",
              "      const label = document.createElement('label');\n",
              "      label.textContent = `Downloading \"${filename}\": `;\n",
              "      div.appendChild(label);\n",
              "      const progress = document.createElement('progress');\n",
              "      progress.max = size;\n",
              "      div.appendChild(progress);\n",
              "      document.body.appendChild(div);\n",
              "\n",
              "      const buffers = [];\n",
              "      let downloaded = 0;\n",
              "\n",
              "      const channel = await google.colab.kernel.comms.open(id);\n",
              "      // Send a message to notify the kernel that we're ready.\n",
              "      channel.send({})\n",
              "\n",
              "      for await (const message of channel.messages) {\n",
              "        // Send a message to notify the kernel that we're ready.\n",
              "        channel.send({})\n",
              "        if (message.buffers) {\n",
              "          for (const buffer of message.buffers) {\n",
              "            buffers.push(buffer);\n",
              "            downloaded += buffer.byteLength;\n",
              "            progress.value = downloaded;\n",
              "          }\n",
              "        }\n",
              "      }\n",
              "      const blob = new Blob(buffers, {type: 'application/binary'});\n",
              "      const a = document.createElement('a');\n",
              "      a.href = window.URL.createObjectURL(blob);\n",
              "      a.download = filename;\n",
              "      div.appendChild(a);\n",
              "      a.click();\n",
              "      div.remove();\n",
              "    }\n",
              "  "
            ]
          },
          "metadata": {}
        },
        {
          "output_type": "display_data",
          "data": {
            "text/plain": [
              "<IPython.core.display.Javascript object>"
            ],
            "application/javascript": [
              "download(\"download_1399965b-551f-4642-9e35-0bb06b68d001\", \"Results_3.csv\", 1828)"
            ]
          },
          "metadata": {}
        },
        {
          "output_type": "stream",
          "name": "stdout",
          "text": [
            "ADA\n"
          ]
        },
        {
          "output_type": "stream",
          "name": "stderr",
          "text": [
            "/usr/local/lib/python3.7/dist-packages/sklearn/ensemble/_weight_boosting.py:657: RuntimeWarning: overflow encountered in exp\n",
            "  + estimator_weight * incorrect * (sample_weight > 0)\n",
            "/usr/local/lib/python3.7/dist-packages/sklearn/ensemble/_weight_boosting.py:486: UserWarning: Sample weights have reached infinite values, at iteration 3, causing overflow. Iterations stopped. Try lowering the learning rate.\n",
            "  return super().fit(X, y, sample_weight)\n"
          ]
        },
        {
          "output_type": "stream",
          "name": "stdout",
          "text": [
            "Best params: {'algorithm': 'SAMME', 'learning_rate': 10, 'n_estimators': 100}\n",
            "Best score: 0.8\n",
            "Accuracy: 27.1429%\n",
            "Recall: 100.0000%\n",
            "Precision: 27.1429%\n",
            "F-measure: 21.3483%\n",
            "[[ 0 51]\n",
            " [ 0 19]]\n",
            "GBC\n",
            "Best params: {'learning_rate': 10, 'max_depth': 1, 'n_estimators': 10}\n",
            "Best score: 0.4636363636363637\n",
            "Accuracy: 34.2857%\n",
            "Recall: 42.1053%\n",
            "Precision: 18.6047%\n",
            "F-measure: 33.4160%\n",
            "[[16 35]\n",
            " [11  8]]\n",
            "EEC\n",
            "Best params: {'base_estimator__class_weight': 'balanced_subsample', 'base_estimator__criterion': 'gini', 'base_estimator__n_estimators': 80, 'n_estimators': 10}\n",
            "Best score: 0.6155194805194805\n",
            "Accuracy: 57.1429%\n",
            "Recall: 84.2105%\n",
            "Precision: 37.2093%\n",
            "F-measure: 56.5757%\n",
            "[[24 27]\n",
            " [ 3 16]]\n",
            "BRF\n",
            "Best params: {'class_weight': 'balanced', 'criterion': 'gini', 'n_estimators': 50}\n",
            "Best score: 0.5367965367965368\n",
            "Accuracy: 54.2857%\n",
            "Recall: 73.6842%\n",
            "Precision: 34.1463%\n",
            "F-measure: 53.3333%\n",
            "[[24 27]\n",
            " [ 5 14]]\n",
            "RFC\n",
            "Best params: {'class_weight': 'balanced_subsample', 'criterion': 'gini', 'n_estimators': 50}\n",
            "Best score: 0.2563492063492064\n",
            "Accuracy: 68.5714%\n",
            "Recall: 21.0526%\n",
            "Precision: 36.3636%\n",
            "F-measure: 53.3333%\n",
            "[[44  7]\n",
            " [15  4]]\n",
            "KNN\n"
          ]
        },
        {
          "output_type": "stream",
          "name": "stderr",
          "text": [
            "/usr/local/lib/python3.7/dist-packages/sklearn/model_selection/_search.py:972: UserWarning: One or more of the test scores are non-finite: [0.2 0.2 nan nan nan nan nan nan nan nan 0.2 0.2 nan nan nan nan nan nan\n",
            " nan nan 0.2 0.2 nan nan nan nan nan nan nan nan 0.2 0.2 nan nan nan nan\n",
            " nan nan nan nan]\n",
            "  category=UserWarning,\n",
            "/usr/local/lib/python3.7/dist-packages/sklearn/model_selection/_search.py:972: UserWarning: One or more of the train scores are non-finite: [0.125 1.      nan   nan   nan   nan   nan   nan   nan   nan 0.125 1.\n",
            "   nan   nan   nan   nan   nan   nan   nan   nan 0.125 1.      nan   nan\n",
            "   nan   nan   nan   nan   nan   nan 0.125 1.      nan   nan   nan   nan\n",
            "   nan   nan   nan   nan]\n",
            "  category=UserWarning,\n",
            "/usr/local/lib/python3.7/dist-packages/sklearn/model_selection/_search.py:972: UserWarning: One or more of the test scores are non-finite: [0.2        0.2               nan        nan        nan        nan\n",
            "        nan        nan        nan        nan 0.2        0.2\n",
            "        nan        nan        nan        nan        nan        nan\n",
            "        nan        nan 0.2        0.2               nan        nan\n",
            "        nan        nan        nan        nan        nan        nan\n",
            " 0.2        0.2               nan        nan        nan        nan\n",
            "        nan        nan        nan        nan 0.2        0.\n",
            "        nan        nan 0.2        0.33333333 0.         0.26666667\n",
            "        nan        nan        nan        nan 0.2        0.26666667\n",
            " 0.         0.26666667        nan        nan        nan        nan]\n",
            "  category=UserWarning,\n",
            "/usr/local/lib/python3.7/dist-packages/sklearn/model_selection/_search.py:972: UserWarning: One or more of the train scores are non-finite: [0.125      1.                nan        nan        nan        nan\n",
            "        nan        nan        nan        nan 0.125      1.\n",
            "        nan        nan        nan        nan        nan        nan\n",
            "        nan        nan 0.125      1.                nan        nan\n",
            "        nan        nan        nan        nan        nan        nan\n",
            " 0.125      1.                nan        nan        nan        nan\n",
            "        nan        nan        nan        nan 0.10769231 0.\n",
            "        nan        nan 0.10769231 1.         0.         1.\n",
            "        nan        nan        nan        nan 0.15384615 1.\n",
            " 0.         1.                nan        nan        nan        nan]\n",
            "  category=UserWarning,\n",
            "/usr/local/lib/python3.7/dist-packages/sklearn/model_selection/_search.py:972: UserWarning: One or more of the test scores are non-finite: [0.2        0.2               nan        nan        nan        nan\n",
            "        nan        nan        nan        nan 0.2        0.2\n",
            "        nan        nan        nan        nan        nan        nan\n",
            "        nan        nan 0.2        0.2               nan        nan\n",
            "        nan        nan        nan        nan        nan        nan\n",
            " 0.2        0.2               nan        nan        nan        nan\n",
            "        nan        nan        nan        nan 0.2        0.\n",
            "        nan        nan 0.2        0.33333333 0.         0.26666667\n",
            "        nan        nan        nan        nan 0.2        0.26666667\n",
            " 0.         0.26666667        nan        nan        nan        nan\n",
            " 0.09       0.         0.09       0.         0.09       0.\n",
            " 0.         0.09       0.         0.09      ]\n",
            "  category=UserWarning,\n",
            "/usr/local/lib/python3.7/dist-packages/sklearn/model_selection/_search.py:972: UserWarning: One or more of the train scores are non-finite: [0.125      1.                nan        nan        nan        nan\n",
            "        nan        nan        nan        nan 0.125      1.\n",
            "        nan        nan        nan        nan        nan        nan\n",
            "        nan        nan 0.125      1.                nan        nan\n",
            "        nan        nan        nan        nan        nan        nan\n",
            " 0.125      1.                nan        nan        nan        nan\n",
            "        nan        nan        nan        nan 0.10769231 0.\n",
            "        nan        nan 0.10769231 1.         0.         1.\n",
            "        nan        nan        nan        nan 0.15384615 1.\n",
            " 0.         1.                nan        nan        nan        nan\n",
            " 0.97490196 0.         1.         0.         1.         0.\n",
            " 0.         0.97490196 0.         1.        ]\n",
            "  category=UserWarning,\n",
            "/usr/local/lib/python3.7/dist-packages/sklearn/model_selection/_search.py:972: UserWarning: One or more of the test scores are non-finite: [0.2        0.2               nan        nan        nan        nan\n",
            "        nan        nan        nan        nan 0.2        0.2\n",
            "        nan        nan        nan        nan        nan        nan\n",
            "        nan        nan 0.2        0.2               nan        nan\n",
            "        nan        nan        nan        nan        nan        nan\n",
            " 0.2        0.2               nan        nan        nan        nan\n",
            "        nan        nan        nan        nan 0.2        0.\n",
            "        nan        nan 0.2        0.33333333 0.         0.26666667\n",
            "        nan        nan        nan        nan 0.2        0.26666667\n",
            " 0.         0.26666667        nan        nan        nan        nan\n",
            " 0.09       0.         0.09       0.         0.09       0.\n",
            " 0.         0.09       0.         0.09       0.04722222 0.09444444\n",
            " 0.06944444 0.04444444 0.04444444]\n",
            "  category=UserWarning,\n",
            "/usr/local/lib/python3.7/dist-packages/sklearn/model_selection/_search.py:972: UserWarning: One or more of the train scores are non-finite: [0.125      1.                nan        nan        nan        nan\n",
            "        nan        nan        nan        nan 0.125      1.\n",
            "        nan        nan        nan        nan        nan        nan\n",
            "        nan        nan 0.125      1.                nan        nan\n",
            "        nan        nan        nan        nan        nan        nan\n",
            " 0.125      1.                nan        nan        nan        nan\n",
            "        nan        nan        nan        nan 0.10769231 0.\n",
            "        nan        nan 0.10769231 1.         0.         1.\n",
            "        nan        nan        nan        nan 0.15384615 1.\n",
            " 0.         1.                nan        nan        nan        nan\n",
            " 0.97490196 0.         1.         0.         1.         0.\n",
            " 0.         0.97490196 0.         1.         1.         1.\n",
            " 1.         1.         1.        ]\n",
            "  category=UserWarning,\n"
          ]
        },
        {
          "output_type": "stream",
          "name": "stdout",
          "text": [
            "Best params: {'algorithm': 'auto', 'metric': 'chebyshev', 'n_neighbors': 40, 'weights': 'distance'}\n",
            "Best score: 0.09444444444444444\n",
            "Accuracy: 71.4286%\n",
            "Recall: 0.0000%\n",
            "Precision: 0.0000%\n",
            "F-measure: 41.6667%\n",
            "[[50  1]\n",
            " [19  0]]\n",
            "SVC\n",
            "Best params: {'C': 1, 'class_weight': 'balanced', 'kernel': 'poly', 'tol': 0.005}\n",
            "Best score: 0.8177777777777777\n",
            "Accuracy: 42.8571%\n",
            "Recall: 84.2105%\n",
            "Precision: 30.1887%\n",
            "F-measure: 42.8105%\n",
            "[[14 37]\n",
            " [ 3 16]]\n",
            "lReg\n",
            "Best params: {'C': 1, 'class_weight': 'balanced', 'solver': 'lbfgs', 'tol': 0.0001}\n",
            "Best score: 0.6697474747474748\n",
            "Accuracy: 64.2857%\n",
            "Recall: 84.2105%\n",
            "Precision: 42.1053%\n",
            "F-measure: 63.0099%\n",
            "[[29 22]\n",
            " [ 3 16]]\n"
          ]
        },
        {
          "output_type": "display_data",
          "data": {
            "text/plain": [
              "<IPython.core.display.Javascript object>"
            ],
            "application/javascript": [
              "\n",
              "    async function download(id, filename, size) {\n",
              "      if (!google.colab.kernel.accessAllowed) {\n",
              "        return;\n",
              "      }\n",
              "      const div = document.createElement('div');\n",
              "      const label = document.createElement('label');\n",
              "      label.textContent = `Downloading \"${filename}\": `;\n",
              "      div.appendChild(label);\n",
              "      const progress = document.createElement('progress');\n",
              "      progress.max = size;\n",
              "      div.appendChild(progress);\n",
              "      document.body.appendChild(div);\n",
              "\n",
              "      const buffers = [];\n",
              "      let downloaded = 0;\n",
              "\n",
              "      const channel = await google.colab.kernel.comms.open(id);\n",
              "      // Send a message to notify the kernel that we're ready.\n",
              "      channel.send({})\n",
              "\n",
              "      for await (const message of channel.messages) {\n",
              "        // Send a message to notify the kernel that we're ready.\n",
              "        channel.send({})\n",
              "        if (message.buffers) {\n",
              "          for (const buffer of message.buffers) {\n",
              "            buffers.push(buffer);\n",
              "            downloaded += buffer.byteLength;\n",
              "            progress.value = downloaded;\n",
              "          }\n",
              "        }\n",
              "      }\n",
              "      const blob = new Blob(buffers, {type: 'application/binary'});\n",
              "      const a = document.createElement('a');\n",
              "      a.href = window.URL.createObjectURL(blob);\n",
              "      a.download = filename;\n",
              "      div.appendChild(a);\n",
              "      a.click();\n",
              "      div.remove();\n",
              "    }\n",
              "  "
            ]
          },
          "metadata": {}
        },
        {
          "output_type": "display_data",
          "data": {
            "text/plain": [
              "<IPython.core.display.Javascript object>"
            ],
            "application/javascript": [
              "download(\"download_d3cd6368-a4dc-4c9e-8b90-aceda96abbf2\", \"Results_4.csv\", 1847)"
            ]
          },
          "metadata": {}
        },
        {
          "output_type": "stream",
          "name": "stdout",
          "text": [
            "ADA\n",
            "Best params: {'algorithm': 'SAMME', 'learning_rate': 1, 'n_estimators': 80}\n",
            "Best score: 0.6158071215392866\n",
            "Accuracy: 65.7143%\n",
            "Recall: 36.8421%\n",
            "Precision: 36.8421%\n",
            "F-measure: 56.6563%\n",
            "[[39 12]\n",
            " [12  7]]\n",
            "GBC\n",
            "Best params: {'learning_rate': 1, 'max_depth': 10, 'n_estimators': 100}\n",
            "Best score: 0.5758487456584848\n",
            "Accuracy: 71.4286%\n",
            "Recall: 26.3158%\n",
            "Precision: 45.4545%\n",
            "F-measure: 57.5758%\n",
            "[[45  6]\n",
            " [14  5]]\n",
            "EEC\n"
          ]
        }
      ]
    },
    {
      "cell_type": "code",
      "execution_count": null,
      "metadata": {
        "id": "EqEGqaAA7goi"
      },
      "outputs": [],
      "source": [
        "# Select the highest performing classifier\n",
        "indx = submission['Trg score'].idxmax()\n",
        "my_model.classifier = classifiers[indx].set_params(**submission['Best params'][indx])\n",
        "\n",
        "# Train your model\n",
        "my_model.classifier.fit(x_train_processed, np.ravel(y_train.values))"
      ]
    },
    {
      "cell_type": "code",
      "execution_count": null,
      "metadata": {
        "id": "kwOiqNee7goj"
      },
      "outputs": [],
      "source": [
        "# use your model to make a prediction on unseen data\n",
        "y_pred = my_model.classifier.predict(x_test_processed)"
      ]
    },
    {
      "cell_type": "code",
      "execution_count": null,
      "metadata": {
        "id": "VGgleoej7gok"
      },
      "outputs": [],
      "source": [
        "# Asssess the accuracy of your model and explain your key findings\n",
        "# Generate confusion matrix\n",
        "from sklearn.metrics import confusion_matrix, accuracy_score, balanced_accuracy_score, roc_auc_score, ConfusionMatrixDisplay\n",
        "cm = confusion_matrix(y_test, y_pred, labels=my_model.classifier.classes_)\n",
        "print(\"Accuracy: {:.2f} %\".format(accuracy_score(y_test, y_pred)*100))\n",
        "print(\"Weighted ROC AUC accuracy: {:.2f} %\".format(roc_auc_score(y_test, y_pred, average='weighted')*100))\n",
        "print(\"Confusion matrix:\")\n",
        "disp = ConfusionMatrixDisplay(cm, display_labels=my_model.classifier.classes_)\n",
        "disp.plot()\n",
        "plt.show()\n",
        "print(\"False negatives: {:.2f} %\".format(cm[1,0]/sum(sum(cm))*100))\n",
        "print(\"F-score (macro): {:.2f} %\".format(f1_score(y_test,y_pred,average='macro')*100))\n",
        "\n",
        "# Apply k-fold Cross Validation\n",
        "from sklearn.model_selection import cross_val_score\n",
        "accuracies = cross_val_score(estimator=my_model.classifier,\n",
        "                             X=x_train_processed,\n",
        "                             y=np.ravel(y_train.values),\n",
        "                             scoring='roc_auc_ovo',\n",
        "                             cv=10)\n",
        "print(\"K-fold cross validation results\")\n",
        "print(\"Accuracy: {:.2f} %\".format(accuracies.mean()*100))\n",
        "print(\"Standard Deviation: {:.2f} %\".format(accuracies.std()*100))\n",
        "del cm, accuracies, disp"
      ]
    },
    {
      "cell_type": "markdown",
      "source": [
        "**Model has an accuracy of just over 70% when predicting whether cancer recurrence will occur.**\n",
        "\n",
        "**Crucially, the proportion of False Negatives is low (c.10%). In cancer diagnosis these are the outcomes that we want to minimise. False Positives, whilst undesirable, will likely lead to further diagnostic testing before it is realised that cancer is not present.**"
      ],
      "metadata": {
        "id": "UMNN4P_E07L6"
      }
    },
    {
      "cell_type": "markdown",
      "metadata": {
        "id": "VDU85k7J7gok"
      },
      "source": [
        "### Unit tests:"
      ]
    },
    {
      "cell_type": "markdown",
      "source": [
        "# New section"
      ],
      "metadata": {
        "id": "TGd264IsrMob"
      }
    },
    {
      "cell_type": "markdown",
      "metadata": {
        "id": "uq2QRpri7gol"
      },
      "source": [
        "###Checking training and test data for null values. This will work for both pd dataframes and np arrays, and ensures no null values exist."
      ]
    },
    {
      "cell_type": "code",
      "execution_count": null,
      "metadata": {
        "id": "oUeh38w_7gol"
      },
      "outputs": [],
      "source": [
        "def test_no_nulls(data):\n",
        "    \"\"\" Assert no null values within pd dataframe or np array \"\"\"\n",
        "    \n",
        "    # if data is numpy array, handle accordingly\n",
        "    if isinstance(data, (np.ndarray)):\n",
        "        assert not np.isnan(np.min(data))\n",
        "    \n",
        "    # if not np array, assume data is pandas dataframe\n",
        "    else:\n",
        "        assert data.isna().sum().sum() == 0"
      ]
    },
    {
      "cell_type": "code",
      "execution_count": null,
      "metadata": {
        "id": "BV9Z1F3i7gom"
      },
      "outputs": [],
      "source": [
        "# run null data unit test on both training and test data\n",
        "test_no_nulls(x_train_processed)\n",
        "test_no_nulls(x_test_processed)"
      ]
    }
  ],
  "metadata": {
    "colab": {
      "collapsed_sections": [],
      "name": "Copy of KSVC.ipynb",
      "provenance": [],
      "include_colab_link": true
    },
    "kernelspec": {
      "display_name": "Python 3 (ipykernel)",
      "language": "python",
      "name": "python3"
    },
    "language_info": {
      "codemirror_mode": {
        "name": "ipython",
        "version": 3
      },
      "file_extension": ".py",
      "mimetype": "text/x-python",
      "name": "python",
      "nbconvert_exporter": "python",
      "pygments_lexer": "ipython3",
      "version": "3.9.7"
    }
  },
  "nbformat": 4,
  "nbformat_minor": 0
}