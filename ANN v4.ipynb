{
  "cells": [
    {
      "cell_type": "markdown",
      "metadata": {
        "id": "view-in-github",
        "colab_type": "text"
      },
      "source": [
        "<a href=\"https://colab.research.google.com/github/StickMonkey615/JHCSMod4/blob/main/ANN%20v4.ipynb\" target=\"_parent\"><img src=\"https://colab.research.google.com/assets/colab-badge.svg\" alt=\"Open In Colab\"/></a>"
      ]
    },
    {
      "cell_type": "markdown",
      "metadata": {
        "id": "iRn73TIW7gn9"
      },
      "source": [
        "# Module 4 Guidance\n",
        "\n",
        "This notebook is a template for module 4b and 4c, which will be tested in Google Colab, your code needs to run there.\n",
        "The structure has been provided to improve consistency and make it easier for markers to understand your code but still give students the flexibility to be creative.  You need to populate the required functions to solve this problem.  All dependencies should be documented in the next cell.\n",
        "\n",
        "You can:\n",
        "    add further cells or text blocks to extend or further explain your solution\n",
        "    add further functions\n",
        "\n",
        "Dont:\n",
        "    rename functions\n",
        "   "
      ]
    },
    {
      "cell_type": "markdown",
      "source": [
        "### Setup"
      ],
      "metadata": {
        "id": "I5Pj_LPoJcrT"
      }
    },
    {
      "cell_type": "code",
      "execution_count": 1,
      "metadata": {
        "id": "ZxOsuHxz7goC",
        "colab": {
          "base_uri": "https://localhost:8080/"
        },
        "outputId": "abd6e1c0-4f58-4694-9b81-089b357d26dc"
      },
      "outputs": [
        {
          "output_type": "stream",
          "name": "stdout",
          "text": [
            "Looking in indexes: https://pypi.org/simple, https://us-python.pkg.dev/colab-wheels/public/simple/\n",
            "Collecting keras-tuner\n",
            "  Downloading keras_tuner-1.1.3-py3-none-any.whl (135 kB)\n",
            "\u001b[K     |████████████████████████████████| 135 kB 4.6 MB/s \n",
            "\u001b[?25hRequirement already satisfied: ipython in /usr/local/lib/python3.7/dist-packages (from keras-tuner) (7.9.0)\n",
            "Requirement already satisfied: tensorboard in /usr/local/lib/python3.7/dist-packages (from keras-tuner) (2.9.1)\n",
            "Requirement already satisfied: requests in /usr/local/lib/python3.7/dist-packages (from keras-tuner) (2.23.0)\n",
            "Requirement already satisfied: numpy in /usr/local/lib/python3.7/dist-packages (from keras-tuner) (1.21.6)\n",
            "Collecting kt-legacy\n",
            "  Downloading kt_legacy-1.0.4-py3-none-any.whl (9.6 kB)\n",
            "Requirement already satisfied: packaging in /usr/local/lib/python3.7/dist-packages (from keras-tuner) (21.3)\n",
            "Collecting jedi>=0.10\n",
            "  Downloading jedi-0.18.1-py2.py3-none-any.whl (1.6 MB)\n",
            "\u001b[K     |████████████████████████████████| 1.6 MB 39.3 MB/s \n",
            "\u001b[?25hRequirement already satisfied: pickleshare in /usr/local/lib/python3.7/dist-packages (from ipython->keras-tuner) (0.7.5)\n",
            "Requirement already satisfied: prompt-toolkit<2.1.0,>=2.0.0 in /usr/local/lib/python3.7/dist-packages (from ipython->keras-tuner) (2.0.10)\n",
            "Requirement already satisfied: setuptools>=18.5 in /usr/local/lib/python3.7/dist-packages (from ipython->keras-tuner) (57.4.0)\n",
            "Requirement already satisfied: pygments in /usr/local/lib/python3.7/dist-packages (from ipython->keras-tuner) (2.6.1)\n",
            "Requirement already satisfied: pexpect in /usr/local/lib/python3.7/dist-packages (from ipython->keras-tuner) (4.8.0)\n",
            "Requirement already satisfied: backcall in /usr/local/lib/python3.7/dist-packages (from ipython->keras-tuner) (0.2.0)\n",
            "Requirement already satisfied: decorator in /usr/local/lib/python3.7/dist-packages (from ipython->keras-tuner) (4.4.2)\n",
            "Requirement already satisfied: traitlets>=4.2 in /usr/local/lib/python3.7/dist-packages (from ipython->keras-tuner) (5.1.1)\n",
            "Requirement already satisfied: parso<0.9.0,>=0.8.0 in /usr/local/lib/python3.7/dist-packages (from jedi>=0.10->ipython->keras-tuner) (0.8.3)\n",
            "Requirement already satisfied: wcwidth in /usr/local/lib/python3.7/dist-packages (from prompt-toolkit<2.1.0,>=2.0.0->ipython->keras-tuner) (0.2.5)\n",
            "Requirement already satisfied: six>=1.9.0 in /usr/local/lib/python3.7/dist-packages (from prompt-toolkit<2.1.0,>=2.0.0->ipython->keras-tuner) (1.15.0)\n",
            "Requirement already satisfied: pyparsing!=3.0.5,>=2.0.2 in /usr/local/lib/python3.7/dist-packages (from packaging->keras-tuner) (3.0.9)\n",
            "Requirement already satisfied: ptyprocess>=0.5 in /usr/local/lib/python3.7/dist-packages (from pexpect->ipython->keras-tuner) (0.7.0)\n",
            "Requirement already satisfied: urllib3!=1.25.0,!=1.25.1,<1.26,>=1.21.1 in /usr/local/lib/python3.7/dist-packages (from requests->keras-tuner) (1.24.3)\n",
            "Requirement already satisfied: idna<3,>=2.5 in /usr/local/lib/python3.7/dist-packages (from requests->keras-tuner) (2.10)\n",
            "Requirement already satisfied: certifi>=2017.4.17 in /usr/local/lib/python3.7/dist-packages (from requests->keras-tuner) (2022.9.24)\n",
            "Requirement already satisfied: chardet<4,>=3.0.2 in /usr/local/lib/python3.7/dist-packages (from requests->keras-tuner) (3.0.4)\n",
            "Requirement already satisfied: tensorboard-plugin-wit>=1.6.0 in /usr/local/lib/python3.7/dist-packages (from tensorboard->keras-tuner) (1.8.1)\n",
            "Requirement already satisfied: wheel>=0.26 in /usr/local/lib/python3.7/dist-packages (from tensorboard->keras-tuner) (0.37.1)\n",
            "Requirement already satisfied: google-auth-oauthlib<0.5,>=0.4.1 in /usr/local/lib/python3.7/dist-packages (from tensorboard->keras-tuner) (0.4.6)\n",
            "Requirement already satisfied: werkzeug>=1.0.1 in /usr/local/lib/python3.7/dist-packages (from tensorboard->keras-tuner) (1.0.1)\n",
            "Requirement already satisfied: grpcio>=1.24.3 in /usr/local/lib/python3.7/dist-packages (from tensorboard->keras-tuner) (1.49.1)\n",
            "Requirement already satisfied: markdown>=2.6.8 in /usr/local/lib/python3.7/dist-packages (from tensorboard->keras-tuner) (3.4.1)\n",
            "Requirement already satisfied: tensorboard-data-server<0.7.0,>=0.6.0 in /usr/local/lib/python3.7/dist-packages (from tensorboard->keras-tuner) (0.6.1)\n",
            "Requirement already satisfied: protobuf<3.20,>=3.9.2 in /usr/local/lib/python3.7/dist-packages (from tensorboard->keras-tuner) (3.17.3)\n",
            "Requirement already satisfied: absl-py>=0.4 in /usr/local/lib/python3.7/dist-packages (from tensorboard->keras-tuner) (1.3.0)\n",
            "Requirement already satisfied: google-auth<3,>=1.6.3 in /usr/local/lib/python3.7/dist-packages (from tensorboard->keras-tuner) (1.35.0)\n",
            "Requirement already satisfied: pyasn1-modules>=0.2.1 in /usr/local/lib/python3.7/dist-packages (from google-auth<3,>=1.6.3->tensorboard->keras-tuner) (0.2.8)\n",
            "Requirement already satisfied: rsa<5,>=3.1.4 in /usr/local/lib/python3.7/dist-packages (from google-auth<3,>=1.6.3->tensorboard->keras-tuner) (4.9)\n",
            "Requirement already satisfied: cachetools<5.0,>=2.0.0 in /usr/local/lib/python3.7/dist-packages (from google-auth<3,>=1.6.3->tensorboard->keras-tuner) (4.2.4)\n",
            "Requirement already satisfied: requests-oauthlib>=0.7.0 in /usr/local/lib/python3.7/dist-packages (from google-auth-oauthlib<0.5,>=0.4.1->tensorboard->keras-tuner) (1.3.1)\n",
            "Requirement already satisfied: importlib-metadata>=4.4 in /usr/local/lib/python3.7/dist-packages (from markdown>=2.6.8->tensorboard->keras-tuner) (4.13.0)\n",
            "Requirement already satisfied: typing-extensions>=3.6.4 in /usr/local/lib/python3.7/dist-packages (from importlib-metadata>=4.4->markdown>=2.6.8->tensorboard->keras-tuner) (4.1.1)\n",
            "Requirement already satisfied: zipp>=0.5 in /usr/local/lib/python3.7/dist-packages (from importlib-metadata>=4.4->markdown>=2.6.8->tensorboard->keras-tuner) (3.9.0)\n",
            "Requirement already satisfied: pyasn1<0.5.0,>=0.4.6 in /usr/local/lib/python3.7/dist-packages (from pyasn1-modules>=0.2.1->google-auth<3,>=1.6.3->tensorboard->keras-tuner) (0.4.8)\n",
            "Requirement already satisfied: oauthlib>=3.0.0 in /usr/local/lib/python3.7/dist-packages (from requests-oauthlib>=0.7.0->google-auth-oauthlib<0.5,>=0.4.1->tensorboard->keras-tuner) (3.2.1)\n",
            "Installing collected packages: jedi, kt-legacy, keras-tuner\n",
            "Successfully installed jedi-0.18.1 keras-tuner-1.1.3 kt-legacy-1.0.4\n"
          ]
        }
      ],
      "source": [
        "# Fixed dependencies - do not remove or change.\n",
        "import pytest\n",
        "import pandas as pd\n",
        "import numpy as np\n",
        "from google.colab import drive\n",
        "# drive.mount('/content/gdrive/')\n",
        "# Import your dependencies\n",
        "!pip install --upgrade xlrd > 1.2.0\n",
        "import xlrd\n",
        "import matplotlib.pyplot as plt\n",
        "import seaborn as sb\n",
        "import tensorflow as tf\n",
        "import keras\n",
        "!pip install keras-tuner --upgrade\n",
        "import keras_tuner as kt"
      ]
    },
    {
      "cell_type": "code",
      "execution_count": 2,
      "metadata": {
        "id": "1m_gmKQP7goE"
      },
      "outputs": [],
      "source": [
        "# Import data\n",
        "\n",
        "def import_local_data(file_path):\n",
        "    \"\"\"This function needs to import the data file into collab and return a pandas dataframe\n",
        "    \"\"\"\n",
        "    raw_df = pd.read_excel(file_path)\n",
        "    return raw_df"
      ]
    },
    {
      "cell_type": "code",
      "execution_count": 3,
      "metadata": {
        "id": "cIljHljB7goF"
      },
      "outputs": [],
      "source": [
        "local_file_path = \"breast-cancer.xls\""
      ]
    },
    {
      "cell_type": "code",
      "execution_count": 4,
      "metadata": {
        "id": "LCu51H5Z7goF"
      },
      "outputs": [],
      "source": [
        "# Dont change\n",
        "raw_data = import_local_data(local_file_path)"
      ]
    },
    {
      "cell_type": "markdown",
      "metadata": {
        "id": "U9WDYKUP7goG"
      },
      "source": [
        "### Conduct exploratory data analysis and explain your key findings - Examine the data, explain its key features and what they look like.  Highlight any fields that are anomalous."
      ]
    },
    {
      "cell_type": "code",
      "source": [
        "# Look at the different dataframe column headings\n",
        "print(raw_data.columns)"
      ],
      "metadata": {
        "colab": {
          "base_uri": "https://localhost:8080/"
        },
        "id": "HkjdfYHGiz7a",
        "outputId": "e503fdea-5757-4b31-a3ac-11f1079e6a94"
      },
      "execution_count": 5,
      "outputs": [
        {
          "output_type": "stream",
          "name": "stdout",
          "text": [
            "Index(['age', 'menopause', 'tumor-size', 'inv-nodes', 'node-caps', 'deg-malig',\n",
            "       'breast', 'breast-quad', 'irradiat', 'Class'],\n",
            "      dtype='object')\n"
          ]
        }
      ]
    },
    {
      "cell_type": "code",
      "source": [
        "# Determine data types for each column\n",
        "for i in range(0, len(raw_data.columns)):\n",
        "    print(type(raw_data.values[1][i]))"
      ],
      "metadata": {
        "colab": {
          "base_uri": "https://localhost:8080/"
        },
        "id": "oKqjAI-XigbI",
        "outputId": "95851474-1531-4352-fd19-fcf708d85aa2"
      },
      "execution_count": 6,
      "outputs": [
        {
          "output_type": "stream",
          "name": "stdout",
          "text": [
            "<class 'str'>\n",
            "<class 'str'>\n",
            "<class 'str'>\n",
            "<class 'str'>\n",
            "<class 'str'>\n",
            "<class 'int'>\n",
            "<class 'str'>\n",
            "<class 'str'>\n",
            "<class 'str'>\n",
            "<class 'str'>\n"
          ]
        }
      ]
    },
    {
      "cell_type": "code",
      "source": [
        "#Look at the range of values for each field\n",
        "from collections import Counter\n",
        "rng_vals=[]\n",
        "for i in range(0,len(raw_data.columns)):\n",
        "    rng_vals.append(Counter(raw_data.iloc[:,i].values))\n",
        "    print(f\"{raw_data.columns[i]}: {rng_vals[i]}\")\n",
        "del rng_vals, i"
      ],
      "metadata": {
        "id": "-lQUCdTe36Dp",
        "outputId": "ba164b35-3d0b-444f-cbd0-f19a8b8b0332",
        "colab": {
          "base_uri": "https://localhost:8080/"
        }
      },
      "execution_count": 7,
      "outputs": [
        {
          "output_type": "stream",
          "name": "stdout",
          "text": [
            "age: Counter({'50-59': 96, '40-49': 90, '60-69': 57, '30-39': 36, '70-79': 6, '20-29': 1})\n",
            "menopause: Counter({'premeno': 150, 'ge40': 129, 'lt40': 7})\n",
            "tumor-size: Counter({'30-34': 60, '25-29': 54, '20-24': 50, '15-19': 30, datetime.datetime(2014, 10, 1, 0, 0): 28, '40-44': 22, '35-39': 19, '0-4': 8, '50-54': 8, datetime.datetime(2019, 9, 5, 0, 0): 4, '45-49': 3})\n",
            "inv-nodes: Counter({'0-2': 213, datetime.datetime(2019, 5, 3, 0, 0): 36, datetime.datetime(2019, 8, 6, 0, 0): 17, datetime.datetime(2019, 11, 9, 0, 0): 10, '15-17': 6, datetime.datetime(2014, 12, 1, 0, 0): 3, '24-26': 1})\n",
            "node-caps: Counter({'no': 222, 'yes': 56, '?': 8})\n",
            "deg-malig: Counter({2: 130, 3: 85, 1: 71})\n",
            "breast: Counter({'left': 152, 'right': 134})\n",
            "breast-quad: Counter({'left_low': 110, 'left_up': 97, 'right_up': 33, 'right_low': 24, 'central': 21, '?': 1})\n",
            "irradiat: Counter({'no': 218, 'yes': 68})\n",
            "Class: Counter({'no-recurrence-events': 201, 'recurrence-events': 85})\n"
          ]
        }
      ]
    },
    {
      "cell_type": "markdown",
      "source": [
        "**All fields look to contain data that is catagorical in nature.**\n",
        "\n",
        "**Some contain data that appears erroneous:**\n",
        " \n",
        "*   **'tumor-size' and 'inv-nodes' appear to contain some data in a datetime format and some in string.**\n",
        "*   **'node-caps' and 'breast-quad' contain Question Marks.**\n",
        "\n",
        "**Need a way to address these erroneous data inputs.**\n",
        "\n"
      ],
      "metadata": {
        "id": "lALFUx2EEQF0"
      }
    },
    {
      "cell_type": "code",
      "source": [
        "# Look in more detail at the columns with datetime data.\n",
        "print(raw_data.iloc[:, 2].values)"
      ],
      "metadata": {
        "colab": {
          "base_uri": "https://localhost:8080/"
        },
        "id": "1IetVwnCr3XI",
        "outputId": "1e365ebb-c0a3-45c2-c35a-a9f3a986e1f9"
      },
      "execution_count": 8,
      "outputs": [
        {
          "output_type": "stream",
          "name": "stdout",
          "text": [
            "['15-19' '15-19' '35-39' '35-39' '30-34' '25-29' '40-44'\n",
            " datetime.datetime(2014, 10, 1, 0, 0) '0-4' '40-44' '25-29' '15-19'\n",
            " '30-34' '25-29' '25-29' '20-24' datetime.datetime(2014, 10, 1, 0, 0)\n",
            " '15-19' '40-44' '20-24' '20-24' '40-44' '15-19'\n",
            " datetime.datetime(2014, 10, 1, 0, 0) '15-19' '20-24'\n",
            " datetime.datetime(2014, 10, 1, 0, 0) datetime.datetime(2014, 10, 1, 0, 0)\n",
            " '30-34' '15-19' '30-34' '25-29' '25-29' '20-24' '30-34' '15-19'\n",
            " datetime.datetime(2014, 10, 1, 0, 0) '45-49' '20-24'\n",
            " datetime.datetime(2014, 10, 1, 0, 0) '35-39' '35-39' '25-29' '20-24'\n",
            " '15-19' '30-34' datetime.datetime(2014, 10, 1, 0, 0) '35-39' '50-54'\n",
            " '40-44' '15-19' '30-34' '0-4' '40-44' '25-29' '25-29' '20-24' '35-39'\n",
            " '50-54' '0-4' '40-44' '30-34' '20-24' '30-34' '20-24' '15-19' '25-29'\n",
            " '15-19' '50-54' datetime.datetime(2014, 10, 1, 0, 0) '25-29' '25-29'\n",
            " datetime.datetime(2014, 10, 1, 0, 0) '30-34' '25-29'\n",
            " datetime.datetime(2014, 10, 1, 0, 0) '15-19' '25-29' '25-29' '30-34'\n",
            " '15-19' '25-29' '30-34' '15-19' '0-4' '35-39' '40-44' '25-29' '20-24'\n",
            " '30-34' '20-24' '30-34' '20-24' datetime.datetime(2014, 10, 1, 0, 0)\n",
            " '20-24' '45-49' '40-44' datetime.datetime(2014, 10, 1, 0, 0) '30-34'\n",
            " '35-39' '20-24' '15-19' '30-34' '20-24' '20-24' '30-34' '20-24' '25-29'\n",
            " '30-34' '20-24' '15-19' '30-34' '30-34' '40-44'\n",
            " datetime.datetime(2019, 9, 5, 0, 0) datetime.datetime(2014, 10, 1, 0, 0)\n",
            " '30-34' datetime.datetime(2014, 10, 1, 0, 0) '35-39' '20-24' '30-34'\n",
            " '25-29' '15-19' '35-39' datetime.datetime(2014, 10, 1, 0, 0) '30-34'\n",
            " '30-34' '25-29' '15-19' '15-19' '30-34' '35-39' '30-34' '25-29' '30-34'\n",
            " '15-19' '0-4' '0-4' '50-54' '30-34' '20-24' '25-29' '30-34' '20-24'\n",
            " '15-19' datetime.datetime(2014, 10, 1, 0, 0) '30-34'\n",
            " datetime.datetime(2014, 10, 1, 0, 0) '40-44' '30-34' '50-54' '15-19'\n",
            " '40-44' '25-29' datetime.datetime(2014, 10, 1, 0, 0)\n",
            " datetime.datetime(2014, 10, 1, 0, 0) '30-34' '20-24'\n",
            " datetime.datetime(2014, 10, 1, 0, 0) '25-29' '25-29' '30-34' '50-54'\n",
            " '30-34' '20-24' '30-34' '25-29' '20-24' '20-24' '50-54' '20-24' '30-34'\n",
            " '25-29' '25-29' '40-44' '20-24' '20-24' '25-29' '25-29' '20-24' '40-44'\n",
            " datetime.datetime(2014, 10, 1, 0, 0) '35-39' '30-34'\n",
            " datetime.datetime(2019, 9, 5, 0, 0) '15-19' '30-34' '25-29'\n",
            " datetime.datetime(2019, 9, 5, 0, 0) '25-29' '25-29'\n",
            " datetime.datetime(2014, 10, 1, 0, 0) '35-39' '50-54' '25-29' '20-24'\n",
            " '30-34' '30-34' '15-19' '20-24' datetime.datetime(2019, 9, 5, 0, 0)\n",
            " '30-34' '30-34' '25-29' '25-29' '40-44' '25-29' '30-34' '30-34' '25-29'\n",
            " '25-29' '40-44' '20-24' '25-29' '20-24' '40-44' '25-29' '25-29' '45-49'\n",
            " '20-24' '25-29' '20-24' '20-24' '35-39' '20-24' '30-34' '25-29' '30-34'\n",
            " '25-29' '20-24' '20-24' datetime.datetime(2014, 10, 1, 0, 0) '15-19'\n",
            " '25-29' '20-24' '40-44' '15-19' '30-34' '30-34' '40-44' '30-34'\n",
            " datetime.datetime(2014, 10, 1, 0, 0) '40-44' '30-34' '30-34' '15-19'\n",
            " datetime.datetime(2014, 10, 1, 0, 0) '20-24'\n",
            " datetime.datetime(2014, 10, 1, 0, 0) '25-29' '30-34'\n",
            " datetime.datetime(2014, 10, 1, 0, 0) '30-34' '0-4' '25-29' '25-29'\n",
            " '40-44' '25-29' '30-34' '20-24' '20-24' '25-29' '30-34' '20-24' '30-34'\n",
            " '0-4' '20-24' '35-39' '30-34' '20-24' '25-29' '35-39' '20-24' '20-24'\n",
            " '35-39' '35-39' '25-29' '35-39' '30-34' '20-24' '15-19' '30-34' '25-29'\n",
            " '30-34' '15-19' '40-44']\n"
          ]
        }
      ]
    },
    {
      "cell_type": "code",
      "source": [
        "# Look at output data\n",
        "raw_data['Class'].value_counts()"
      ],
      "metadata": {
        "colab": {
          "base_uri": "https://localhost:8080/"
        },
        "id": "3HePUlhNvfWF",
        "outputId": "480fe093-4d46-4895-f93d-5a256fb64b03"
      },
      "execution_count": 9,
      "outputs": [
        {
          "output_type": "execute_result",
          "data": {
            "text/plain": [
              "no-recurrence-events    201\n",
              "recurrence-events        85\n",
              "Name: Class, dtype: int64"
            ]
          },
          "metadata": {},
          "execution_count": 9
        }
      ]
    },
    {
      "cell_type": "markdown",
      "source": [
        "Only 2 possible outputs, thus needs converting to binary format for use in classifier models."
      ],
      "metadata": {
        "id": "bkV5bQKKwYHj"
      }
    },
    {
      "cell_type": "code",
      "execution_count": 10,
      "metadata": {
        "id": "KMB3eKfC7goU",
        "colab": {
          "base_uri": "https://localhost:8080/"
        },
        "outputId": "8bd10510-3b71-4bea-ee4f-8f5783c4a8e6"
      },
      "outputs": [
        {
          "output_type": "stream",
          "name": "stdout",
          "text": [
            "True outputs: 29.72 %\n"
          ]
        }
      ],
      "source": [
        "# Check output balance\n",
        "out = raw_data.iloc[:, -1].values\n",
        "no_rows = len(raw_data)\n",
        "\n",
        "from sklearn.preprocessing import LabelEncoder\n",
        "le = LabelEncoder()\n",
        "code_rows = le.fit_transform(out)\n",
        "print(\"True outputs: {:.2f} %\".format(sum(code_rows)/len(raw_data)*100))\n",
        "pos = sum(code_rows)\n",
        "neg = len(raw_data)-sum(code_rows)\n",
        "del out, no_rows, le, code_rows"
      ]
    },
    {
      "cell_type": "markdown",
      "source": [
        "Clear imbalance between output data. Some degree of bias/weighting/sampling will be required to ensure that results accurately predict outcomes for both True and False outcomes."
      ],
      "metadata": {
        "id": "mMo9-0hTwirc"
      }
    },
    {
      "cell_type": "code",
      "source": [
        "# Calculate class weights\n",
        "weight_0 = (1 / neg) * ((pos + neg) / 2)\n",
        "weight_1 = (1 / pos) * ((pos + neg) / 2)\n",
        "class_weight = np.log([pos/neg])\n",
        "class_weight_dict = {0: weight_0, 1: weight_1}\n",
        "print(f\"Weight for 0: {weight_0}\")\n",
        "print(f\"Weight for 1: {weight_1}\")"
      ],
      "metadata": {
        "id": "CtCPaYUj8dcn",
        "outputId": "1aee68ce-4cba-4de1-8601-581b2a0e65aa",
        "colab": {
          "base_uri": "https://localhost:8080/"
        }
      },
      "execution_count": 11,
      "outputs": [
        {
          "output_type": "stream",
          "name": "stdout",
          "text": [
            "Weight for 0: 0.7114427860696517\n",
            "Weight for 1: 1.6823529411764706\n"
          ]
        }
      ]
    },
    {
      "cell_type": "code",
      "execution_count": 12,
      "metadata": {
        "id": "f02MTYgB7goW"
      },
      "outputs": [],
      "source": [
        "# Explain your key findings"
      ]
    },
    {
      "cell_type": "markdown",
      "source": [
        "**Data set is made up of 9 independent variables all of which appear catagorical in nature. Although stored as an integer, 'deg-malig' can be viewed as  catagorical data as it can only contain 3 discrete values.**\n",
        "\n",
        "**The inclusion of datetime data entries in both the 'tumor-size' and 'inv-nodes' fields appears to be caused by a formatting entry within Excel. For example, '10-14' being input erroneously as 10/14 thus Excel has interpreted (and converted) it to the datetime field 01/10/2014. A function will need to be written within the model to convert these back to correct format.**\n",
        "\n",
        "**How to deal with '?' entries in fields that are otherwise boolean poses an interesting dilemma. If these are infact meant to signify that the presence is unknown because no diagnostic work has been conducted, then this woiuld signify a valid dat entry. If it is however just an incomplete data entry then there is a risk its inclusion could skew the model results. Without knowing which it seems wisest to remove this data from the dataset. Removal of the entire field could well deprive the model of important information, thus just removing these specific entries (rows) appears the most sensible option, particularly noting that there are relatively few occurences.**\n",
        "\n",
        "**Data set is imbalanced, with dependent variable outputs only True in 30% of instances. The model applied will require this imbalance to be taken into account so as not to sacrifice results predicting this smaller class (surely the aim of cancer diagnosis) so as to achieve a high accuracy figure.**\n",
        "\n",
        "**Output variable will need converting into binary output for use with a binary classification model.**"
      ],
      "metadata": {
        "id": "V7OWyLcOrgWJ"
      }
    },
    {
      "cell_type": "markdown",
      "metadata": {
        "id": "SzZj8I8G7goX"
      },
      "source": [
        "###Create any data pre-processing that you will conduct on seen and unseen data.  Regardless of the model you use, this dataframe must contain only numeric features and have a strategy for any expected missing values. Any objects can that are needed to handle the test data that are dependent on the training data can be stored in the model class.  You are recommended to use sklearn Pipelines or similar functionality to ensure reproducibility."
      ]
    },
    {
      "cell_type": "code",
      "source": [
        "# Correct date types in 'tumor-size' and 'inv-nodes' variables\n",
        "for i in range(0, len(raw_data)):\n",
        "    if type(raw_data['tumor-size'][i]) is not str:\n",
        "        if raw_data['tumor-size'][i].day == 1:\n",
        "            raw_data['tumor-size'][i] = str(raw_data['tumor-size'][i].month) +'-' + str(raw_data['tumor-size'][i].year-2000)\n",
        "        else:\n",
        "            raw_data['tumor-size'][i] = str(raw_data['tumor-size'][i].day) + '-' + str(raw_data['tumor-size'][i].month)\n",
        "    if type(raw_data['inv-nodes'][i]) is not str:\n",
        "        if raw_data['inv-nodes'][i].day == 1:\n",
        "            raw_data['inv-nodes'][i] = str(raw_data['inv-nodes'][i].month) + '-' + str(raw_data['inv-nodes'][i].year-2000)\n",
        "        else:\n",
        "            raw_data['inv-nodes'][i] = str(raw_data['inv-nodes'][i].day) + '-' + str(raw_data['inv-nodes'][i].month)        "
      ],
      "metadata": {
        "id": "GlZwiMllRpUB",
        "outputId": "fd3966f4-c0a1-40f4-d2ad-446ac63fb85f",
        "colab": {
          "base_uri": "https://localhost:8080/"
        }
      },
      "execution_count": 13,
      "outputs": [
        {
          "output_type": "stream",
          "name": "stderr",
          "text": [
            "/usr/local/lib/python3.7/dist-packages/ipykernel_launcher.py:12: SettingWithCopyWarning: \n",
            "A value is trying to be set on a copy of a slice from a DataFrame\n",
            "\n",
            "See the caveats in the documentation: https://pandas.pydata.org/pandas-docs/stable/user_guide/indexing.html#returning-a-view-versus-a-copy\n",
            "  if sys.path[0] == '':\n",
            "/usr/local/lib/python3.7/dist-packages/ipykernel_launcher.py:5: SettingWithCopyWarning: \n",
            "A value is trying to be set on a copy of a slice from a DataFrame\n",
            "\n",
            "See the caveats in the documentation: https://pandas.pydata.org/pandas-docs/stable/user_guide/indexing.html#returning-a-view-versus-a-copy\n",
            "  \"\"\"\n",
            "/usr/local/lib/python3.7/dist-packages/ipykernel_launcher.py:7: SettingWithCopyWarning: \n",
            "A value is trying to be set on a copy of a slice from a DataFrame\n",
            "\n",
            "See the caveats in the documentation: https://pandas.pydata.org/pandas-docs/stable/user_guide/indexing.html#returning-a-view-versus-a-copy\n",
            "  import sys\n",
            "/usr/local/lib/python3.7/dist-packages/ipykernel_launcher.py:10: SettingWithCopyWarning: \n",
            "A value is trying to be set on a copy of a slice from a DataFrame\n",
            "\n",
            "See the caveats in the documentation: https://pandas.pydata.org/pandas-docs/stable/user_guide/indexing.html#returning-a-view-versus-a-copy\n",
            "  # Remove the CWD from sys.path while we load stuff.\n"
          ]
        }
      ]
    },
    {
      "cell_type": "code",
      "source": [
        "# Remove all rows containing ? data\n",
        "indx = raw_data[raw_data.isin(['?'])].stack(dropna=True).unstack().index\n",
        "print(f\"indx: {indx}\")\n",
        "raw_data = raw_data.drop(index=indx)"
      ],
      "metadata": {
        "id": "ThhbSU5gPBYA",
        "outputId": "1f991dd1-f6c4-4b45-89d8-cb6eebe55b6d",
        "colab": {
          "base_uri": "https://localhost:8080/"
        }
      },
      "execution_count": 14,
      "outputs": [
        {
          "output_type": "stream",
          "name": "stdout",
          "text": [
            "indx: Int64Index([20, 31, 50, 54, 71, 92, 149, 240, 264], dtype='int64')\n"
          ]
        }
      ]
    },
    {
      "cell_type": "code",
      "execution_count": 15,
      "metadata": {
        "id": "WIh9_0pp7goY"
      },
      "outputs": [],
      "source": [
        "# Split your data so that you can test the effectiveness of your model\n",
        "# Split the data into a Training set and a Test set\n",
        "dfs = np.split(raw_data, [len(raw_data.columns)-1], axis=1)\n",
        "X = dfs[0]\n",
        "y = dfs[1]\n",
        "\n",
        "# Handle categorical values and drop dummy variable\n",
        "# Remove non-categorical data\n",
        "dm = X.pop('deg-malig')\n",
        "# Encode the catagorical data (dummy variables)\n",
        "proc_X = pd.get_dummies(data=X, prefix_sep='_', drop_first=True)\n",
        "# Add back in non-categorical data\n",
        "proc_X.insert(0, 'deg-malig', dm)\n",
        "\n",
        "from sklearn.model_selection import train_test_split\n",
        "X_train, X_test, y_train, y_test = train_test_split(proc_X, y, test_size = 0.25, random_state = 42)"
      ]
    },
    {
      "cell_type": "code",
      "execution_count": 16,
      "metadata": {
        "id": "AbOQACY77goY"
      },
      "outputs": [],
      "source": [
        "# Populate preprocess_training_data and preprocess_test_data to preprocess data.\n",
        "# You must process test and train separately so your model does not accidently gain information that a model wouldnt have in reality and therefore get better predictions"
      ]
    },
    {
      "cell_type": "code",
      "execution_count": 17,
      "metadata": {
        "id": "Xsq2f8747goZ"
      },
      "outputs": [],
      "source": [
        "#from keras.layers.advanced_activations import LeakyReLU\n",
        "class Module4_Model:\n",
        "    \n",
        "    def __init__(self):\n",
        "        self.model = None\n",
        "        self.metrics = [\n",
        "            keras.metrics.TruePositives(name='tp'),\n",
        "            keras.metrics.FalsePositives(name='fp'),\n",
        "            keras.metrics.TrueNegatives(name='tn'),\n",
        "            keras.metrics.FalseNegatives(name='fn'),\n",
        "            keras.metrics.BinaryAccuracy(name='accuracy'),\n",
        "            keras.metrics.Recall(name='recall'),\n",
        "            keras.metrics.Precision(name='precision'),\n",
        "            keras.metrics.AUC(name='prc', curve='PR'),\n",
        "            keras.metrics.SensitivityAtSpecificity(name='sen',specificity=0.8)\n",
        "        ]\n",
        "        self.EPOCHS = 500\n",
        "        self.BATCH = 100\n",
        "        self.THR = 0.3 #Bias towards positives to reduce incidents of FN at the expense of excess FPs.\n",
        "        self.stop_crit = keras.callbacks.EarlyStopping(\n",
        "            monitor='val_prc',\n",
        "            verbose=1,\n",
        "            patience=100,\n",
        "            mode='max',\n",
        "            restore_best_weights=True)\n",
        "\n",
        "    def preprocess_training_data(self, training_df):\n",
        "        \"\"\"\n",
        "        This function should process the training data and store any features\n",
        "        required in the class\n",
        "        \"\"\"         \n",
        "        # Apply feature scaling\n",
        "        from sklearn.preprocessing import StandardScaler\n",
        "        self.scalar = StandardScaler()\n",
        "        processed_df = self.scalar.fit_transform(training_df)\n",
        "        return processed_df\n",
        "\n",
        "    def preprocess_test_data(self, test_df):\n",
        "        \"\"\"\n",
        "        This function should process the test data and store any features\n",
        "        required in the class\n",
        "        \"\"\"\n",
        "        # Apply feature scaling\n",
        "        processed_df = self.scalar.transform(test_df)\n",
        "        return processed_df\n",
        "\n",
        "    def make_model(self,hp):\n",
        "        model = keras.Sequential()\n",
        "        output_bias = keras.initializers.Constant(class_weight)\n",
        "        # Tune the number of units in each layer\n",
        "        hp_units1 = hp.Int('units1',min_value=16,max_value=128,step=2)\n",
        "        hp_units2 = hp.Int('units2',min_value=16,max_value=64,step=2)\n",
        "        hp_units3 = hp.Int('units3',min_value=16,max_value=32,step=2)\n",
        "\n",
        "        model.add(Dense(hp_units1,\n",
        "                        activation=hp.Choice(\n",
        "                            name='dense_activation1',\n",
        "                            values=['tanh','relu','selu','leaky-relu'],\n",
        "                            default='selu'),\n",
        "                        input_shape=(x_train_processed.shape[-1],),\n",
        "                        kernel_initializer='lecun_normal'\n",
        "                        ))\n",
        "        model.add(Dense(hp_units2,\n",
        "                        activation=hp.Choice(\n",
        "                            name='dense_activation2',\n",
        "                            values=['tanh','relu','selu','leaky-relu'],\n",
        "                            default='leaky-relu'),\n",
        "                        kernel_initializer='lecun_normal'\n",
        "                        ))\n",
        "        model.add(Dense(hp_units3,\n",
        "                        activation=hp.Choice(\n",
        "                            name='dense_activation3',\n",
        "                            values=['tanh','relu','selu','leaky-relu'],\n",
        "                            default='leaky-relu'),\n",
        "                        kernel_initializer='lecun_normal'\n",
        "                        ))\n",
        "        model.add(Dense(1,kernel_initializer='normal',activation='sigmoid',bias_initializer=output_bias))\n",
        "        hp_learning_rate = hp.Choice('learning_rate',values=[1e-2, 1e-3, 1e-4])\n",
        "\n",
        "        model.compile(\n",
        "            optimizer=tf.keras.optimizers.Adamax(learning_rate=hp_learning_rate),\n",
        "            loss=keras.losses.BinaryCrossentropy(),\n",
        "            metrics=self.metrics)\n",
        "        \n",
        "        return model\n"
      ]
    },
    {
      "cell_type": "code",
      "execution_count": 18,
      "metadata": {
        "id": "F3LiNNCb7goa"
      },
      "outputs": [],
      "source": [
        "# Dont change\n",
        "my_model = Module4_Model()"
      ]
    },
    {
      "cell_type": "code",
      "execution_count": 19,
      "metadata": {
        "id": "ZQD7WPdN7god"
      },
      "outputs": [],
      "source": [
        "# Dont change\n",
        "x_train_processed = my_model.preprocess_training_data(X_train)"
      ]
    },
    {
      "cell_type": "code",
      "source": [
        "# Encode the output data\n",
        "from sklearn.preprocessing import LabelEncoder\n",
        "lb = LabelEncoder()\n",
        "y_train = pd.DataFrame(lb.fit_transform(y_train))\n",
        "y_test = pd.DataFrame(lb.transform(y_test))"
      ],
      "metadata": {
        "id": "xZNGF1UxWGU5",
        "outputId": "ff1c84df-5bd4-4e5c-c209-fceed76eb594",
        "colab": {
          "base_uri": "https://localhost:8080/"
        }
      },
      "execution_count": 20,
      "outputs": [
        {
          "output_type": "stream",
          "name": "stderr",
          "text": [
            "/usr/local/lib/python3.7/dist-packages/sklearn/preprocessing/_label.py:115: DataConversionWarning: A column-vector y was passed when a 1d array was expected. Please change the shape of y to (n_samples, ), for example using ravel().\n",
            "  y = column_or_1d(y, warn=True)\n",
            "/usr/local/lib/python3.7/dist-packages/sklearn/preprocessing/_label.py:133: DataConversionWarning: A column-vector y was passed when a 1d array was expected. Please change the shape of y to (n_samples, ), for example using ravel().\n",
            "  y = column_or_1d(y, warn=True)\n"
          ]
        }
      ]
    },
    {
      "cell_type": "markdown",
      "source": [
        "### Create model and train"
      ],
      "metadata": {
        "id": "deUEPqVyJUpX"
      }
    },
    {
      "cell_type": "code",
      "execution_count": 21,
      "metadata": {
        "id": "XnLHgaXS7goe"
      },
      "outputs": [],
      "source": [
        "# Create a model\n",
        "from keras.models import Sequential\n",
        "from keras.layers import Dense,Activation,LeakyReLU\n",
        "from keras.losses import MeanSquaredLogarithmicError\n",
        "from keras.utils.generic_utils import get_custom_objects\n",
        "\n",
        "msle = MeanSquaredLogarithmicError()\n",
        "get_custom_objects().update({'leaky-relu': Activation(LeakyReLU(alpha=0.3))})"
      ]
    },
    {
      "cell_type": "code",
      "source": [
        "# Utilise HyperBand algorithm from keras tuner to construct model\n",
        "tuner = kt.Hyperband(\n",
        "    my_model.make_model,\n",
        "    objective=kt.Objective('sen', direction='max'),\n",
        "    max_epochs=50,\n",
        "    directory='keras_tuner_dir',\n",
        "    project_name='keras_tuner',\n",
        ")\n",
        "tuner.search(x_train_processed,y_train,epochs=50,validation_split=0.2)"
      ],
      "metadata": {
        "id": "p1Ph9bZMV5G6",
        "outputId": "b8a3569b-8bcc-4a98-ee56-0cd418f1dc9f",
        "colab": {
          "base_uri": "https://localhost:8080/"
        }
      },
      "execution_count": 22,
      "outputs": [
        {
          "output_type": "stream",
          "name": "stdout",
          "text": [
            "Trial 90 Complete [00h 00m 08s]\n",
            "sen: 0.42592594027519226\n",
            "\n",
            "Best sen So Far: 1.0\n",
            "Total elapsed time: 00h 07m 35s\n"
          ]
        }
      ]
    },
    {
      "cell_type": "code",
      "execution_count": 23,
      "metadata": {
        "id": "rQwUj4lk7goe"
      },
      "outputs": [],
      "source": [
        "# Dont change\n",
        "x_test_processed = my_model.preprocess_test_data(X_test)"
      ]
    },
    {
      "cell_type": "code",
      "source": [
        "for h_param in [f\"units{i}\" for i in range(1,4)] + ['learning_rate'] + [f\"dense_activation{i}\" for i in range(1,4)]:\n",
        "    print(h_param, tuner.get_best_hyperparameters()[0].get(h_param))    "
      ],
      "metadata": {
        "id": "HuWZxfcvYOI4",
        "outputId": "c9661bb5-ae30-4d19-c77f-d1c506a44873",
        "colab": {
          "base_uri": "https://localhost:8080/"
        }
      },
      "execution_count": 24,
      "outputs": [
        {
          "output_type": "stream",
          "name": "stdout",
          "text": [
            "units1 90\n",
            "units2 44\n",
            "units3 24\n",
            "learning_rate 0.01\n",
            "dense_activation1 selu\n",
            "dense_activation2 relu\n",
            "dense_activation3 relu\n"
          ]
        }
      ]
    },
    {
      "cell_type": "code",
      "source": [
        "my_model.best_model = tuner.get_best_models()[0]\n",
        "my_model.best_model.build(x_train_processed.shape)\n",
        "my_model.best_model.summary()"
      ],
      "metadata": {
        "id": "Lku4uguEY1ar",
        "outputId": "9f4beeea-6a14-4cd8-9aae-bb879aee7b36",
        "colab": {
          "base_uri": "https://localhost:8080/"
        }
      },
      "execution_count": 25,
      "outputs": [
        {
          "output_type": "stream",
          "name": "stdout",
          "text": [
            "Model: \"sequential\"\n",
            "_________________________________________________________________\n",
            " Layer (type)                Output Shape              Param #   \n",
            "=================================================================\n",
            " dense (Dense)               (None, 90)                2880      \n",
            "                                                                 \n",
            " dense_1 (Dense)             (None, 44)                4004      \n",
            "                                                                 \n",
            " dense_2 (Dense)             (None, 24)                1080      \n",
            "                                                                 \n",
            " dense_3 (Dense)             (None, 1)                 25        \n",
            "                                                                 \n",
            "=================================================================\n",
            "Total params: 7,989\n",
            "Trainable params: 7,989\n",
            "Non-trainable params: 0\n",
            "_________________________________________________________________\n"
          ]
        }
      ]
    },
    {
      "cell_type": "code",
      "source": [
        "# Train the best model (with class weights)\n",
        "my_model.best_model.fit(x_train_processed,\n",
        "                   y_train,\n",
        "                   batch_size=my_model.BATCH,\n",
        "                   epochs=my_model.EPOCHS,\n",
        "                   callbacks=[my_model.stop_crit],\n",
        "                   validation_split=0.2,\n",
        "                   class_weight=class_weight_dict)"
      ],
      "metadata": {
        "id": "DFAWtazI9LH4",
        "outputId": "feee150b-a8c1-4e1a-9ae2-97e35075f0a9",
        "colab": {
          "base_uri": "https://localhost:8080/"
        }
      },
      "execution_count": 26,
      "outputs": [
        {
          "output_type": "stream",
          "name": "stdout",
          "text": [
            "Epoch 1/500\n",
            "2/2 [==============================] - 4s 1s/step - loss: 0.1708 - tp: 49.0000 - fp: 2.0000 - tn: 143.0000 - fn: 13.0000 - accuracy: 0.9275 - recall: 0.7903 - precision: 0.9608 - prc: 0.9553 - sen: 0.9516 - val_loss: 0.9538 - val_tp: 3.0000 - val_fp: 7.0000 - val_tn: 27.0000 - val_fn: 5.0000 - val_accuracy: 0.7143 - val_recall: 0.3750 - val_precision: 0.3000 - val_prc: 0.2211 - val_sen: 0.0000e+00\n",
            "Epoch 2/500\n",
            "2/2 [==============================] - 0s 30ms/step - loss: 0.1650 - tp: 49.0000 - fp: 2.0000 - tn: 109.0000 - fn: 5.0000 - accuracy: 0.9576 - recall: 0.9074 - precision: 0.9608 - prc: 0.9847 - sen: 1.0000 - val_loss: 0.9751 - val_tp: 3.0000 - val_fp: 7.0000 - val_tn: 27.0000 - val_fn: 5.0000 - val_accuracy: 0.7143 - val_recall: 0.3750 - val_precision: 0.3000 - val_prc: 0.2211 - val_sen: 0.0000e+00\n",
            "Epoch 3/500\n",
            "2/2 [==============================] - 0s 41ms/step - loss: 0.1583 - tp: 49.0000 - fp: 2.0000 - tn: 109.0000 - fn: 5.0000 - accuracy: 0.9576 - recall: 0.9074 - precision: 0.9608 - prc: 0.9861 - sen: 1.0000 - val_loss: 1.0045 - val_tp: 3.0000 - val_fp: 8.0000 - val_tn: 26.0000 - val_fn: 5.0000 - val_accuracy: 0.6905 - val_recall: 0.3750 - val_precision: 0.2727 - val_prc: 0.2224 - val_sen: 0.0000e+00\n",
            "Epoch 4/500\n",
            "2/2 [==============================] - 0s 34ms/step - loss: 0.1518 - tp: 49.0000 - fp: 2.0000 - tn: 109.0000 - fn: 5.0000 - accuracy: 0.9576 - recall: 0.9074 - precision: 0.9608 - prc: 0.9875 - sen: 1.0000 - val_loss: 1.0309 - val_tp: 3.0000 - val_fp: 8.0000 - val_tn: 26.0000 - val_fn: 5.0000 - val_accuracy: 0.6905 - val_recall: 0.3750 - val_precision: 0.2727 - val_prc: 0.2247 - val_sen: 0.0000e+00\n",
            "Epoch 5/500\n",
            "2/2 [==============================] - 0s 32ms/step - loss: 0.1447 - tp: 49.0000 - fp: 3.0000 - tn: 108.0000 - fn: 5.0000 - accuracy: 0.9515 - recall: 0.9074 - precision: 0.9423 - prc: 0.9887 - sen: 1.0000 - val_loss: 1.0547 - val_tp: 3.0000 - val_fp: 8.0000 - val_tn: 26.0000 - val_fn: 5.0000 - val_accuracy: 0.6905 - val_recall: 0.3750 - val_precision: 0.2727 - val_prc: 0.2245 - val_sen: 0.0000e+00\n",
            "Epoch 6/500\n",
            "2/2 [==============================] - 0s 36ms/step - loss: 0.1399 - tp: 50.0000 - fp: 4.0000 - tn: 107.0000 - fn: 4.0000 - accuracy: 0.9515 - recall: 0.9259 - precision: 0.9259 - prc: 0.9882 - sen: 1.0000 - val_loss: 1.0771 - val_tp: 3.0000 - val_fp: 8.0000 - val_tn: 26.0000 - val_fn: 5.0000 - val_accuracy: 0.6905 - val_recall: 0.3750 - val_precision: 0.2727 - val_prc: 0.2247 - val_sen: 0.0000e+00\n",
            "Epoch 7/500\n",
            "2/2 [==============================] - 0s 36ms/step - loss: 0.1354 - tp: 52.0000 - fp: 5.0000 - tn: 106.0000 - fn: 2.0000 - accuracy: 0.9576 - recall: 0.9630 - precision: 0.9123 - prc: 0.9887 - sen: 1.0000 - val_loss: 1.0919 - val_tp: 4.0000 - val_fp: 8.0000 - val_tn: 26.0000 - val_fn: 4.0000 - val_accuracy: 0.7143 - val_recall: 0.5000 - val_precision: 0.3333 - val_prc: 0.2289 - val_sen: 0.0000e+00\n",
            "Epoch 8/500\n",
            "2/2 [==============================] - 0s 31ms/step - loss: 0.1315 - tp: 52.0000 - fp: 6.0000 - tn: 105.0000 - fn: 2.0000 - accuracy: 0.9515 - recall: 0.9630 - precision: 0.8966 - prc: 0.9888 - sen: 1.0000 - val_loss: 1.0988 - val_tp: 4.0000 - val_fp: 9.0000 - val_tn: 25.0000 - val_fn: 4.0000 - val_accuracy: 0.6905 - val_recall: 0.5000 - val_precision: 0.3077 - val_prc: 0.2267 - val_sen: 0.1250\n",
            "Epoch 9/500\n",
            "2/2 [==============================] - 0s 34ms/step - loss: 0.1274 - tp: 53.0000 - fp: 6.0000 - tn: 105.0000 - fn: 1.0000 - accuracy: 0.9576 - recall: 0.9815 - precision: 0.8983 - prc: 0.9897 - sen: 1.0000 - val_loss: 1.0992 - val_tp: 3.0000 - val_fp: 9.0000 - val_tn: 25.0000 - val_fn: 5.0000 - val_accuracy: 0.6667 - val_recall: 0.3750 - val_precision: 0.2500 - val_prc: 0.2277 - val_sen: 0.1250\n",
            "Epoch 10/500\n",
            "2/2 [==============================] - 0s 31ms/step - loss: 0.1233 - tp: 53.0000 - fp: 5.0000 - tn: 106.0000 - fn: 1.0000 - accuracy: 0.9636 - recall: 0.9815 - precision: 0.9138 - prc: 0.9903 - sen: 1.0000 - val_loss: 1.1035 - val_tp: 3.0000 - val_fp: 9.0000 - val_tn: 25.0000 - val_fn: 5.0000 - val_accuracy: 0.6667 - val_recall: 0.3750 - val_precision: 0.2500 - val_prc: 0.2284 - val_sen: 0.1250\n",
            "Epoch 11/500\n",
            "2/2 [==============================] - 0s 61ms/step - loss: 0.1198 - tp: 53.0000 - fp: 5.0000 - tn: 106.0000 - fn: 1.0000 - accuracy: 0.9636 - recall: 0.9815 - precision: 0.9138 - prc: 0.9905 - sen: 1.0000 - val_loss: 1.1051 - val_tp: 3.0000 - val_fp: 8.0000 - val_tn: 26.0000 - val_fn: 5.0000 - val_accuracy: 0.6905 - val_recall: 0.3750 - val_precision: 0.2727 - val_prc: 0.2309 - val_sen: 0.1250\n",
            "Epoch 12/500\n",
            "2/2 [==============================] - 0s 32ms/step - loss: 0.1166 - tp: 53.0000 - fp: 5.0000 - tn: 106.0000 - fn: 1.0000 - accuracy: 0.9636 - recall: 0.9815 - precision: 0.9138 - prc: 0.9910 - sen: 1.0000 - val_loss: 1.1099 - val_tp: 3.0000 - val_fp: 8.0000 - val_tn: 26.0000 - val_fn: 5.0000 - val_accuracy: 0.6905 - val_recall: 0.3750 - val_precision: 0.2727 - val_prc: 0.2357 - val_sen: 0.1250\n",
            "Epoch 13/500\n",
            "2/2 [==============================] - 0s 31ms/step - loss: 0.1134 - tp: 53.0000 - fp: 6.0000 - tn: 105.0000 - fn: 1.0000 - accuracy: 0.9576 - recall: 0.9815 - precision: 0.8983 - prc: 0.9905 - sen: 1.0000 - val_loss: 1.1229 - val_tp: 3.0000 - val_fp: 8.0000 - val_tn: 26.0000 - val_fn: 5.0000 - val_accuracy: 0.6905 - val_recall: 0.3750 - val_precision: 0.2727 - val_prc: 0.2313 - val_sen: 0.1250\n",
            "Epoch 14/500\n",
            "2/2 [==============================] - 0s 49ms/step - loss: 0.1101 - tp: 53.0000 - fp: 5.0000 - tn: 106.0000 - fn: 1.0000 - accuracy: 0.9636 - recall: 0.9815 - precision: 0.9138 - prc: 0.9918 - sen: 1.0000 - val_loss: 1.1343 - val_tp: 3.0000 - val_fp: 8.0000 - val_tn: 26.0000 - val_fn: 5.0000 - val_accuracy: 0.6905 - val_recall: 0.3750 - val_precision: 0.2727 - val_prc: 0.2307 - val_sen: 0.1250\n",
            "Epoch 15/500\n",
            "2/2 [==============================] - 0s 36ms/step - loss: 0.1068 - tp: 53.0000 - fp: 5.0000 - tn: 106.0000 - fn: 1.0000 - accuracy: 0.9636 - recall: 0.9815 - precision: 0.9138 - prc: 0.9922 - sen: 1.0000 - val_loss: 1.1456 - val_tp: 3.0000 - val_fp: 7.0000 - val_tn: 27.0000 - val_fn: 5.0000 - val_accuracy: 0.7143 - val_recall: 0.3750 - val_precision: 0.3000 - val_prc: 0.2298 - val_sen: 0.1250\n",
            "Epoch 16/500\n",
            "2/2 [==============================] - 0s 32ms/step - loss: 0.1042 - tp: 53.0000 - fp: 5.0000 - tn: 106.0000 - fn: 1.0000 - accuracy: 0.9636 - recall: 0.9815 - precision: 0.9138 - prc: 0.9925 - sen: 1.0000 - val_loss: 1.1564 - val_tp: 3.0000 - val_fp: 7.0000 - val_tn: 27.0000 - val_fn: 5.0000 - val_accuracy: 0.7143 - val_recall: 0.3750 - val_precision: 0.3000 - val_prc: 0.2352 - val_sen: 0.1250\n",
            "Epoch 17/500\n",
            "2/2 [==============================] - 0s 36ms/step - loss: 0.1016 - tp: 53.0000 - fp: 4.0000 - tn: 107.0000 - fn: 1.0000 - accuracy: 0.9697 - recall: 0.9815 - precision: 0.9298 - prc: 0.9928 - sen: 1.0000 - val_loss: 1.1666 - val_tp: 3.0000 - val_fp: 7.0000 - val_tn: 27.0000 - val_fn: 5.0000 - val_accuracy: 0.7143 - val_recall: 0.3750 - val_precision: 0.3000 - val_prc: 0.2359 - val_sen: 0.1250\n",
            "Epoch 18/500\n",
            "2/2 [==============================] - 0s 39ms/step - loss: 0.0992 - tp: 52.0000 - fp: 4.0000 - tn: 107.0000 - fn: 2.0000 - accuracy: 0.9636 - recall: 0.9630 - precision: 0.9286 - prc: 0.9927 - sen: 1.0000 - val_loss: 1.1794 - val_tp: 3.0000 - val_fp: 7.0000 - val_tn: 27.0000 - val_fn: 5.0000 - val_accuracy: 0.7143 - val_recall: 0.3750 - val_precision: 0.3000 - val_prc: 0.2353 - val_sen: 0.1250\n",
            "Epoch 19/500\n",
            "2/2 [==============================] - 0s 31ms/step - loss: 0.0967 - tp: 52.0000 - fp: 4.0000 - tn: 107.0000 - fn: 2.0000 - accuracy: 0.9636 - recall: 0.9630 - precision: 0.9286 - prc: 0.9930 - sen: 1.0000 - val_loss: 1.1940 - val_tp: 3.0000 - val_fp: 7.0000 - val_tn: 27.0000 - val_fn: 5.0000 - val_accuracy: 0.7143 - val_recall: 0.3750 - val_precision: 0.3000 - val_prc: 0.2353 - val_sen: 0.1250\n",
            "Epoch 20/500\n",
            "2/2 [==============================] - 0s 33ms/step - loss: 0.0943 - tp: 52.0000 - fp: 4.0000 - tn: 107.0000 - fn: 2.0000 - accuracy: 0.9636 - recall: 0.9630 - precision: 0.9286 - prc: 0.9938 - sen: 1.0000 - val_loss: 1.2095 - val_tp: 3.0000 - val_fp: 7.0000 - val_tn: 27.0000 - val_fn: 5.0000 - val_accuracy: 0.7143 - val_recall: 0.3750 - val_precision: 0.3000 - val_prc: 0.2369 - val_sen: 0.1250\n",
            "Epoch 21/500\n",
            "2/2 [==============================] - 0s 31ms/step - loss: 0.0920 - tp: 53.0000 - fp: 5.0000 - tn: 106.0000 - fn: 1.0000 - accuracy: 0.9636 - recall: 0.9815 - precision: 0.9138 - prc: 0.9945 - sen: 1.0000 - val_loss: 1.2310 - val_tp: 3.0000 - val_fp: 7.0000 - val_tn: 27.0000 - val_fn: 5.0000 - val_accuracy: 0.7143 - val_recall: 0.3750 - val_precision: 0.3000 - val_prc: 0.2353 - val_sen: 0.1250\n",
            "Epoch 22/500\n",
            "2/2 [==============================] - 0s 36ms/step - loss: 0.0897 - tp: 53.0000 - fp: 5.0000 - tn: 106.0000 - fn: 1.0000 - accuracy: 0.9636 - recall: 0.9815 - precision: 0.9138 - prc: 0.9955 - sen: 1.0000 - val_loss: 1.2491 - val_tp: 3.0000 - val_fp: 7.0000 - val_tn: 27.0000 - val_fn: 5.0000 - val_accuracy: 0.7143 - val_recall: 0.3750 - val_precision: 0.3000 - val_prc: 0.2363 - val_sen: 0.1250\n",
            "Epoch 23/500\n",
            "2/2 [==============================] - 0s 102ms/step - loss: 0.0877 - tp: 53.0000 - fp: 5.0000 - tn: 106.0000 - fn: 1.0000 - accuracy: 0.9636 - recall: 0.9815 - precision: 0.9138 - prc: 0.9954 - sen: 1.0000 - val_loss: 1.2695 - val_tp: 3.0000 - val_fp: 7.0000 - val_tn: 27.0000 - val_fn: 5.0000 - val_accuracy: 0.7143 - val_recall: 0.3750 - val_precision: 0.3000 - val_prc: 0.2354 - val_sen: 0.1250\n",
            "Epoch 24/500\n",
            "2/2 [==============================] - 0s 80ms/step - loss: 0.0859 - tp: 53.0000 - fp: 5.0000 - tn: 106.0000 - fn: 1.0000 - accuracy: 0.9636 - recall: 0.9815 - precision: 0.9138 - prc: 0.9952 - sen: 1.0000 - val_loss: 1.2855 - val_tp: 3.0000 - val_fp: 7.0000 - val_tn: 27.0000 - val_fn: 5.0000 - val_accuracy: 0.7143 - val_recall: 0.3750 - val_precision: 0.3000 - val_prc: 0.2354 - val_sen: 0.1250\n",
            "Epoch 25/500\n",
            "2/2 [==============================] - 0s 54ms/step - loss: 0.0842 - tp: 53.0000 - fp: 5.0000 - tn: 106.0000 - fn: 1.0000 - accuracy: 0.9636 - recall: 0.9815 - precision: 0.9138 - prc: 0.9955 - sen: 1.0000 - val_loss: 1.2984 - val_tp: 3.0000 - val_fp: 7.0000 - val_tn: 27.0000 - val_fn: 5.0000 - val_accuracy: 0.7143 - val_recall: 0.3750 - val_precision: 0.3000 - val_prc: 0.2382 - val_sen: 0.1250\n",
            "Epoch 26/500\n",
            "2/2 [==============================] - 0s 54ms/step - loss: 0.0823 - tp: 53.0000 - fp: 4.0000 - tn: 107.0000 - fn: 1.0000 - accuracy: 0.9697 - recall: 0.9815 - precision: 0.9298 - prc: 0.9961 - sen: 1.0000 - val_loss: 1.3108 - val_tp: 3.0000 - val_fp: 7.0000 - val_tn: 27.0000 - val_fn: 5.0000 - val_accuracy: 0.7143 - val_recall: 0.3750 - val_precision: 0.3000 - val_prc: 0.2366 - val_sen: 0.1250\n",
            "Epoch 27/500\n",
            "2/2 [==============================] - 0s 66ms/step - loss: 0.0808 - tp: 53.0000 - fp: 4.0000 - tn: 107.0000 - fn: 1.0000 - accuracy: 0.9697 - recall: 0.9815 - precision: 0.9298 - prc: 0.9962 - sen: 1.0000 - val_loss: 1.3216 - val_tp: 3.0000 - val_fp: 7.0000 - val_tn: 27.0000 - val_fn: 5.0000 - val_accuracy: 0.7143 - val_recall: 0.3750 - val_precision: 0.3000 - val_prc: 0.2357 - val_sen: 0.1250\n",
            "Epoch 28/500\n",
            "2/2 [==============================] - 0s 67ms/step - loss: 0.0790 - tp: 53.0000 - fp: 4.0000 - tn: 107.0000 - fn: 1.0000 - accuracy: 0.9697 - recall: 0.9815 - precision: 0.9298 - prc: 0.9964 - sen: 1.0000 - val_loss: 1.3271 - val_tp: 3.0000 - val_fp: 7.0000 - val_tn: 27.0000 - val_fn: 5.0000 - val_accuracy: 0.7143 - val_recall: 0.3750 - val_precision: 0.3000 - val_prc: 0.2350 - val_sen: 0.1250\n",
            "Epoch 29/500\n",
            "2/2 [==============================] - 0s 65ms/step - loss: 0.0774 - tp: 53.0000 - fp: 4.0000 - tn: 107.0000 - fn: 1.0000 - accuracy: 0.9697 - recall: 0.9815 - precision: 0.9298 - prc: 0.9965 - sen: 1.0000 - val_loss: 1.3308 - val_tp: 3.0000 - val_fp: 7.0000 - val_tn: 27.0000 - val_fn: 5.0000 - val_accuracy: 0.7143 - val_recall: 0.3750 - val_precision: 0.3000 - val_prc: 0.2360 - val_sen: 0.1250\n",
            "Epoch 30/500\n",
            "2/2 [==============================] - 0s 63ms/step - loss: 0.0757 - tp: 53.0000 - fp: 4.0000 - tn: 107.0000 - fn: 1.0000 - accuracy: 0.9697 - recall: 0.9815 - precision: 0.9298 - prc: 0.9961 - sen: 1.0000 - val_loss: 1.3361 - val_tp: 3.0000 - val_fp: 7.0000 - val_tn: 27.0000 - val_fn: 5.0000 - val_accuracy: 0.7143 - val_recall: 0.3750 - val_precision: 0.3000 - val_prc: 0.2373 - val_sen: 0.1250\n",
            "Epoch 31/500\n",
            "2/2 [==============================] - 0s 63ms/step - loss: 0.0743 - tp: 53.0000 - fp: 4.0000 - tn: 107.0000 - fn: 1.0000 - accuracy: 0.9697 - recall: 0.9815 - precision: 0.9298 - prc: 0.9967 - sen: 1.0000 - val_loss: 1.3388 - val_tp: 3.0000 - val_fp: 7.0000 - val_tn: 27.0000 - val_fn: 5.0000 - val_accuracy: 0.7143 - val_recall: 0.3750 - val_precision: 0.3000 - val_prc: 0.2378 - val_sen: 0.1250\n",
            "Epoch 32/500\n",
            "2/2 [==============================] - 0s 47ms/step - loss: 0.0725 - tp: 53.0000 - fp: 4.0000 - tn: 107.0000 - fn: 1.0000 - accuracy: 0.9697 - recall: 0.9815 - precision: 0.9298 - prc: 0.9966 - sen: 1.0000 - val_loss: 1.3458 - val_tp: 2.0000 - val_fp: 7.0000 - val_tn: 27.0000 - val_fn: 6.0000 - val_accuracy: 0.6905 - val_recall: 0.2500 - val_precision: 0.2222 - val_prc: 0.2357 - val_sen: 0.1250\n",
            "Epoch 33/500\n",
            "2/2 [==============================] - 0s 46ms/step - loss: 0.0711 - tp: 53.0000 - fp: 4.0000 - tn: 107.0000 - fn: 1.0000 - accuracy: 0.9697 - recall: 0.9815 - precision: 0.9298 - prc: 0.9966 - sen: 1.0000 - val_loss: 1.3554 - val_tp: 2.0000 - val_fp: 7.0000 - val_tn: 27.0000 - val_fn: 6.0000 - val_accuracy: 0.6905 - val_recall: 0.2500 - val_precision: 0.2222 - val_prc: 0.2350 - val_sen: 0.1250\n",
            "Epoch 34/500\n",
            "2/2 [==============================] - 0s 44ms/step - loss: 0.0700 - tp: 53.0000 - fp: 4.0000 - tn: 107.0000 - fn: 1.0000 - accuracy: 0.9697 - recall: 0.9815 - precision: 0.9298 - prc: 0.9968 - sen: 1.0000 - val_loss: 1.3709 - val_tp: 2.0000 - val_fp: 7.0000 - val_tn: 27.0000 - val_fn: 6.0000 - val_accuracy: 0.6905 - val_recall: 0.2500 - val_precision: 0.2222 - val_prc: 0.2368 - val_sen: 0.1250\n",
            "Epoch 35/500\n",
            "2/2 [==============================] - 0s 45ms/step - loss: 0.0687 - tp: 53.0000 - fp: 3.0000 - tn: 108.0000 - fn: 1.0000 - accuracy: 0.9758 - recall: 0.9815 - precision: 0.9464 - prc: 0.9966 - sen: 1.0000 - val_loss: 1.3777 - val_tp: 2.0000 - val_fp: 7.0000 - val_tn: 27.0000 - val_fn: 6.0000 - val_accuracy: 0.6905 - val_recall: 0.2500 - val_precision: 0.2222 - val_prc: 0.2368 - val_sen: 0.1250\n",
            "Epoch 36/500\n",
            "2/2 [==============================] - 0s 62ms/step - loss: 0.0672 - tp: 53.0000 - fp: 3.0000 - tn: 108.0000 - fn: 1.0000 - accuracy: 0.9758 - recall: 0.9815 - precision: 0.9464 - prc: 0.9970 - sen: 1.0000 - val_loss: 1.3901 - val_tp: 2.0000 - val_fp: 7.0000 - val_tn: 27.0000 - val_fn: 6.0000 - val_accuracy: 0.6905 - val_recall: 0.2500 - val_precision: 0.2222 - val_prc: 0.2368 - val_sen: 0.1250\n",
            "Epoch 37/500\n",
            "2/2 [==============================] - 0s 54ms/step - loss: 0.0661 - tp: 53.0000 - fp: 3.0000 - tn: 108.0000 - fn: 1.0000 - accuracy: 0.9758 - recall: 0.9815 - precision: 0.9464 - prc: 0.9968 - sen: 1.0000 - val_loss: 1.4002 - val_tp: 3.0000 - val_fp: 7.0000 - val_tn: 27.0000 - val_fn: 5.0000 - val_accuracy: 0.7143 - val_recall: 0.3750 - val_precision: 0.3000 - val_prc: 0.2373 - val_sen: 0.1250\n",
            "Epoch 38/500\n",
            "2/2 [==============================] - 0s 55ms/step - loss: 0.0649 - tp: 53.0000 - fp: 3.0000 - tn: 108.0000 - fn: 1.0000 - accuracy: 0.9758 - recall: 0.9815 - precision: 0.9464 - prc: 0.9966 - sen: 1.0000 - val_loss: 1.4083 - val_tp: 3.0000 - val_fp: 7.0000 - val_tn: 27.0000 - val_fn: 5.0000 - val_accuracy: 0.7143 - val_recall: 0.3750 - val_precision: 0.3000 - val_prc: 0.2344 - val_sen: 0.1250\n",
            "Epoch 39/500\n",
            "2/2 [==============================] - 0s 56ms/step - loss: 0.0637 - tp: 53.0000 - fp: 3.0000 - tn: 108.0000 - fn: 1.0000 - accuracy: 0.9758 - recall: 0.9815 - precision: 0.9464 - prc: 0.9971 - sen: 1.0000 - val_loss: 1.4162 - val_tp: 3.0000 - val_fp: 7.0000 - val_tn: 27.0000 - val_fn: 5.0000 - val_accuracy: 0.7143 - val_recall: 0.3750 - val_precision: 0.3000 - val_prc: 0.2350 - val_sen: 0.1250\n",
            "Epoch 40/500\n",
            "2/2 [==============================] - 0s 66ms/step - loss: 0.0626 - tp: 53.0000 - fp: 3.0000 - tn: 108.0000 - fn: 1.0000 - accuracy: 0.9758 - recall: 0.9815 - precision: 0.9464 - prc: 0.9967 - sen: 1.0000 - val_loss: 1.4247 - val_tp: 3.0000 - val_fp: 7.0000 - val_tn: 27.0000 - val_fn: 5.0000 - val_accuracy: 0.7143 - val_recall: 0.3750 - val_precision: 0.3000 - val_prc: 0.2339 - val_sen: 0.1250\n",
            "Epoch 41/500\n",
            "2/2 [==============================] - 0s 48ms/step - loss: 0.0615 - tp: 53.0000 - fp: 3.0000 - tn: 108.0000 - fn: 1.0000 - accuracy: 0.9758 - recall: 0.9815 - precision: 0.9464 - prc: 0.9969 - sen: 1.0000 - val_loss: 1.4307 - val_tp: 2.0000 - val_fp: 7.0000 - val_tn: 27.0000 - val_fn: 6.0000 - val_accuracy: 0.6905 - val_recall: 0.2500 - val_precision: 0.2222 - val_prc: 0.2305 - val_sen: 0.1250\n",
            "Epoch 42/500\n",
            "2/2 [==============================] - 0s 60ms/step - loss: 0.0601 - tp: 53.0000 - fp: 3.0000 - tn: 108.0000 - fn: 1.0000 - accuracy: 0.9758 - recall: 0.9815 - precision: 0.9464 - prc: 0.9973 - sen: 1.0000 - val_loss: 1.4386 - val_tp: 2.0000 - val_fp: 8.0000 - val_tn: 26.0000 - val_fn: 6.0000 - val_accuracy: 0.6667 - val_recall: 0.2500 - val_precision: 0.2000 - val_prc: 0.2294 - val_sen: 0.1250\n",
            "Epoch 43/500\n",
            "2/2 [==============================] - 0s 140ms/step - loss: 0.0594 - tp: 53.0000 - fp: 3.0000 - tn: 108.0000 - fn: 1.0000 - accuracy: 0.9758 - recall: 0.9815 - precision: 0.9464 - prc: 0.9969 - sen: 1.0000 - val_loss: 1.4455 - val_tp: 2.0000 - val_fp: 8.0000 - val_tn: 26.0000 - val_fn: 6.0000 - val_accuracy: 0.6667 - val_recall: 0.2500 - val_precision: 0.2000 - val_prc: 0.2324 - val_sen: 0.1250\n",
            "Epoch 44/500\n",
            "2/2 [==============================] - 0s 58ms/step - loss: 0.0585 - tp: 53.0000 - fp: 3.0000 - tn: 108.0000 - fn: 1.0000 - accuracy: 0.9758 - recall: 0.9815 - precision: 0.9464 - prc: 0.9969 - sen: 1.0000 - val_loss: 1.4593 - val_tp: 2.0000 - val_fp: 8.0000 - val_tn: 26.0000 - val_fn: 6.0000 - val_accuracy: 0.6667 - val_recall: 0.2500 - val_precision: 0.2000 - val_prc: 0.2302 - val_sen: 0.1250\n",
            "Epoch 45/500\n",
            "2/2 [==============================] - 0s 72ms/step - loss: 0.0572 - tp: 53.0000 - fp: 3.0000 - tn: 108.0000 - fn: 1.0000 - accuracy: 0.9758 - recall: 0.9815 - precision: 0.9464 - prc: 0.9969 - sen: 1.0000 - val_loss: 1.4645 - val_tp: 2.0000 - val_fp: 8.0000 - val_tn: 26.0000 - val_fn: 6.0000 - val_accuracy: 0.6667 - val_recall: 0.2500 - val_precision: 0.2000 - val_prc: 0.2475 - val_sen: 0.1250\n",
            "Epoch 46/500\n",
            "2/2 [==============================] - 0s 73ms/step - loss: 0.0563 - tp: 53.0000 - fp: 2.0000 - tn: 109.0000 - fn: 1.0000 - accuracy: 0.9818 - recall: 0.9815 - precision: 0.9636 - prc: 0.9971 - sen: 1.0000 - val_loss: 1.4704 - val_tp: 2.0000 - val_fp: 8.0000 - val_tn: 26.0000 - val_fn: 6.0000 - val_accuracy: 0.6667 - val_recall: 0.2500 - val_precision: 0.2000 - val_prc: 0.2482 - val_sen: 0.1250\n",
            "Epoch 47/500\n",
            "2/2 [==============================] - 0s 51ms/step - loss: 0.0558 - tp: 53.0000 - fp: 3.0000 - tn: 108.0000 - fn: 1.0000 - accuracy: 0.9758 - recall: 0.9815 - precision: 0.9464 - prc: 0.9971 - sen: 1.0000 - val_loss: 1.4755 - val_tp: 2.0000 - val_fp: 8.0000 - val_tn: 26.0000 - val_fn: 6.0000 - val_accuracy: 0.6667 - val_recall: 0.2500 - val_precision: 0.2000 - val_prc: 0.2475 - val_sen: 0.1250\n",
            "Epoch 48/500\n",
            "2/2 [==============================] - 0s 65ms/step - loss: 0.0551 - tp: 54.0000 - fp: 3.0000 - tn: 108.0000 - fn: 0.0000e+00 - accuracy: 0.9818 - recall: 1.0000 - precision: 0.9474 - prc: 0.9974 - sen: 1.0000 - val_loss: 1.4911 - val_tp: 2.0000 - val_fp: 8.0000 - val_tn: 26.0000 - val_fn: 6.0000 - val_accuracy: 0.6667 - val_recall: 0.2500 - val_precision: 0.2000 - val_prc: 0.2465 - val_sen: 0.1250\n",
            "Epoch 49/500\n",
            "2/2 [==============================] - 0s 68ms/step - loss: 0.0537 - tp: 54.0000 - fp: 3.0000 - tn: 108.0000 - fn: 0.0000e+00 - accuracy: 0.9818 - recall: 1.0000 - precision: 0.9474 - prc: 0.9981 - sen: 1.0000 - val_loss: 1.5000 - val_tp: 2.0000 - val_fp: 8.0000 - val_tn: 26.0000 - val_fn: 6.0000 - val_accuracy: 0.6667 - val_recall: 0.2500 - val_precision: 0.2000 - val_prc: 0.2390 - val_sen: 0.1250\n",
            "Epoch 50/500\n",
            "2/2 [==============================] - 0s 64ms/step - loss: 0.0532 - tp: 54.0000 - fp: 3.0000 - tn: 108.0000 - fn: 0.0000e+00 - accuracy: 0.9818 - recall: 1.0000 - precision: 0.9474 - prc: 0.9974 - sen: 1.0000 - val_loss: 1.5095 - val_tp: 2.0000 - val_fp: 8.0000 - val_tn: 26.0000 - val_fn: 6.0000 - val_accuracy: 0.6667 - val_recall: 0.2500 - val_precision: 0.2000 - val_prc: 0.2339 - val_sen: 0.1250\n",
            "Epoch 51/500\n",
            "2/2 [==============================] - 0s 47ms/step - loss: 0.0522 - tp: 54.0000 - fp: 3.0000 - tn: 108.0000 - fn: 0.0000e+00 - accuracy: 0.9818 - recall: 1.0000 - precision: 0.9474 - prc: 0.9981 - sen: 1.0000 - val_loss: 1.5131 - val_tp: 2.0000 - val_fp: 8.0000 - val_tn: 26.0000 - val_fn: 6.0000 - val_accuracy: 0.6667 - val_recall: 0.2500 - val_precision: 0.2000 - val_prc: 0.2339 - val_sen: 0.1250\n",
            "Epoch 52/500\n",
            "2/2 [==============================] - 0s 47ms/step - loss: 0.0518 - tp: 54.0000 - fp: 3.0000 - tn: 108.0000 - fn: 0.0000e+00 - accuracy: 0.9818 - recall: 1.0000 - precision: 0.9474 - prc: 0.9978 - sen: 1.0000 - val_loss: 1.5185 - val_tp: 2.0000 - val_fp: 8.0000 - val_tn: 26.0000 - val_fn: 6.0000 - val_accuracy: 0.6667 - val_recall: 0.2500 - val_precision: 0.2000 - val_prc: 0.2346 - val_sen: 0.1250\n",
            "Epoch 53/500\n",
            "2/2 [==============================] - 0s 66ms/step - loss: 0.0505 - tp: 54.0000 - fp: 3.0000 - tn: 108.0000 - fn: 0.0000e+00 - accuracy: 0.9818 - recall: 1.0000 - precision: 0.9474 - prc: 0.9983 - sen: 1.0000 - val_loss: 1.5227 - val_tp: 2.0000 - val_fp: 8.0000 - val_tn: 26.0000 - val_fn: 6.0000 - val_accuracy: 0.6667 - val_recall: 0.2500 - val_precision: 0.2000 - val_prc: 0.2350 - val_sen: 0.1250\n",
            "Epoch 54/500\n",
            "2/2 [==============================] - 0s 50ms/step - loss: 0.0503 - tp: 54.0000 - fp: 3.0000 - tn: 108.0000 - fn: 0.0000e+00 - accuracy: 0.9818 - recall: 1.0000 - precision: 0.9474 - prc: 0.9981 - sen: 1.0000 - val_loss: 1.5270 - val_tp: 2.0000 - val_fp: 8.0000 - val_tn: 26.0000 - val_fn: 6.0000 - val_accuracy: 0.6667 - val_recall: 0.2500 - val_precision: 0.2000 - val_prc: 0.2332 - val_sen: 0.1250\n",
            "Epoch 55/500\n",
            "2/2 [==============================] - 0s 50ms/step - loss: 0.0498 - tp: 54.0000 - fp: 3.0000 - tn: 108.0000 - fn: 0.0000e+00 - accuracy: 0.9818 - recall: 1.0000 - precision: 0.9474 - prc: 0.9980 - sen: 1.0000 - val_loss: 1.5431 - val_tp: 2.0000 - val_fp: 8.0000 - val_tn: 26.0000 - val_fn: 6.0000 - val_accuracy: 0.6667 - val_recall: 0.2500 - val_precision: 0.2000 - val_prc: 0.2339 - val_sen: 0.1250\n",
            "Epoch 56/500\n",
            "2/2 [==============================] - 0s 79ms/step - loss: 0.0486 - tp: 54.0000 - fp: 3.0000 - tn: 108.0000 - fn: 0.0000e+00 - accuracy: 0.9818 - recall: 1.0000 - precision: 0.9474 - prc: 0.9983 - sen: 1.0000 - val_loss: 1.5525 - val_tp: 2.0000 - val_fp: 8.0000 - val_tn: 26.0000 - val_fn: 6.0000 - val_accuracy: 0.6667 - val_recall: 0.2500 - val_precision: 0.2000 - val_prc: 0.2337 - val_sen: 0.1250\n",
            "Epoch 57/500\n",
            "2/2 [==============================] - 0s 59ms/step - loss: 0.0478 - tp: 54.0000 - fp: 3.0000 - tn: 108.0000 - fn: 0.0000e+00 - accuracy: 0.9818 - recall: 1.0000 - precision: 0.9474 - prc: 0.9985 - sen: 1.0000 - val_loss: 1.5549 - val_tp: 2.0000 - val_fp: 8.0000 - val_tn: 26.0000 - val_fn: 6.0000 - val_accuracy: 0.6667 - val_recall: 0.2500 - val_precision: 0.2000 - val_prc: 0.2347 - val_sen: 0.1250\n",
            "Epoch 58/500\n",
            "2/2 [==============================] - 0s 50ms/step - loss: 0.0472 - tp: 54.0000 - fp: 3.0000 - tn: 108.0000 - fn: 0.0000e+00 - accuracy: 0.9818 - recall: 1.0000 - precision: 0.9474 - prc: 0.9978 - sen: 1.0000 - val_loss: 1.5593 - val_tp: 2.0000 - val_fp: 8.0000 - val_tn: 26.0000 - val_fn: 6.0000 - val_accuracy: 0.6667 - val_recall: 0.2500 - val_precision: 0.2000 - val_prc: 0.2355 - val_sen: 0.1250\n",
            "Epoch 59/500\n",
            "2/2 [==============================] - 0s 59ms/step - loss: 0.0469 - tp: 54.0000 - fp: 3.0000 - tn: 108.0000 - fn: 0.0000e+00 - accuracy: 0.9818 - recall: 1.0000 - precision: 0.9474 - prc: 0.9980 - sen: 1.0000 - val_loss: 1.5607 - val_tp: 2.0000 - val_fp: 8.0000 - val_tn: 26.0000 - val_fn: 6.0000 - val_accuracy: 0.6667 - val_recall: 0.2500 - val_precision: 0.2000 - val_prc: 0.2306 - val_sen: 0.1250\n",
            "Epoch 60/500\n",
            "2/2 [==============================] - 0s 67ms/step - loss: 0.0464 - tp: 54.0000 - fp: 3.0000 - tn: 108.0000 - fn: 0.0000e+00 - accuracy: 0.9818 - recall: 1.0000 - precision: 0.9474 - prc: 0.9975 - sen: 1.0000 - val_loss: 1.5701 - val_tp: 2.0000 - val_fp: 8.0000 - val_tn: 26.0000 - val_fn: 6.0000 - val_accuracy: 0.6667 - val_recall: 0.2500 - val_precision: 0.2000 - val_prc: 0.2302 - val_sen: 0.1250\n",
            "Epoch 61/500\n",
            "2/2 [==============================] - 0s 98ms/step - loss: 0.0457 - tp: 54.0000 - fp: 3.0000 - tn: 108.0000 - fn: 0.0000e+00 - accuracy: 0.9818 - recall: 1.0000 - precision: 0.9474 - prc: 0.9981 - sen: 1.0000 - val_loss: 1.5729 - val_tp: 2.0000 - val_fp: 8.0000 - val_tn: 26.0000 - val_fn: 6.0000 - val_accuracy: 0.6667 - val_recall: 0.2500 - val_precision: 0.2000 - val_prc: 0.2286 - val_sen: 0.1250\n",
            "Epoch 62/500\n",
            "2/2 [==============================] - 0s 64ms/step - loss: 0.0450 - tp: 54.0000 - fp: 3.0000 - tn: 108.0000 - fn: 0.0000e+00 - accuracy: 0.9818 - recall: 1.0000 - precision: 0.9474 - prc: 0.9980 - sen: 1.0000 - val_loss: 1.5835 - val_tp: 2.0000 - val_fp: 8.0000 - val_tn: 26.0000 - val_fn: 6.0000 - val_accuracy: 0.6667 - val_recall: 0.2500 - val_precision: 0.2000 - val_prc: 0.2302 - val_sen: 0.1250\n",
            "Epoch 63/500\n",
            "2/2 [==============================] - 0s 87ms/step - loss: 0.0443 - tp: 54.0000 - fp: 3.0000 - tn: 108.0000 - fn: 0.0000e+00 - accuracy: 0.9818 - recall: 1.0000 - precision: 0.9474 - prc: 0.9983 - sen: 1.0000 - val_loss: 1.5993 - val_tp: 2.0000 - val_fp: 8.0000 - val_tn: 26.0000 - val_fn: 6.0000 - val_accuracy: 0.6667 - val_recall: 0.2500 - val_precision: 0.2000 - val_prc: 0.2277 - val_sen: 0.1250\n",
            "Epoch 64/500\n",
            "2/2 [==============================] - 0s 88ms/step - loss: 0.0439 - tp: 54.0000 - fp: 3.0000 - tn: 108.0000 - fn: 0.0000e+00 - accuracy: 0.9818 - recall: 1.0000 - precision: 0.9474 - prc: 0.9983 - sen: 1.0000 - val_loss: 1.6127 - val_tp: 2.0000 - val_fp: 8.0000 - val_tn: 26.0000 - val_fn: 6.0000 - val_accuracy: 0.6667 - val_recall: 0.2500 - val_precision: 0.2000 - val_prc: 0.2285 - val_sen: 0.1250\n",
            "Epoch 65/500\n",
            "2/2 [==============================] - 0s 69ms/step - loss: 0.0434 - tp: 54.0000 - fp: 3.0000 - tn: 108.0000 - fn: 0.0000e+00 - accuracy: 0.9818 - recall: 1.0000 - precision: 0.9474 - prc: 0.9983 - sen: 1.0000 - val_loss: 1.6239 - val_tp: 1.0000 - val_fp: 8.0000 - val_tn: 26.0000 - val_fn: 7.0000 - val_accuracy: 0.6429 - val_recall: 0.1250 - val_precision: 0.1111 - val_prc: 0.2285 - val_sen: 0.1250\n",
            "Epoch 66/500\n",
            "2/2 [==============================] - 0s 85ms/step - loss: 0.0431 - tp: 54.0000 - fp: 3.0000 - tn: 108.0000 - fn: 0.0000e+00 - accuracy: 0.9818 - recall: 1.0000 - precision: 0.9474 - prc: 0.9983 - sen: 1.0000 - val_loss: 1.6321 - val_tp: 1.0000 - val_fp: 8.0000 - val_tn: 26.0000 - val_fn: 7.0000 - val_accuracy: 0.6429 - val_recall: 0.1250 - val_precision: 0.1111 - val_prc: 0.2285 - val_sen: 0.1250\n",
            "Epoch 67/500\n",
            "2/2 [==============================] - 0s 67ms/step - loss: 0.0436 - tp: 54.0000 - fp: 3.0000 - tn: 108.0000 - fn: 0.0000e+00 - accuracy: 0.9818 - recall: 1.0000 - precision: 0.9474 - prc: 0.9976 - sen: 1.0000 - val_loss: 1.6361 - val_tp: 1.0000 - val_fp: 8.0000 - val_tn: 26.0000 - val_fn: 7.0000 - val_accuracy: 0.6429 - val_recall: 0.1250 - val_precision: 0.1111 - val_prc: 0.2294 - val_sen: 0.1250\n",
            "Epoch 68/500\n",
            "2/2 [==============================] - 0s 69ms/step - loss: 0.0426 - tp: 54.0000 - fp: 3.0000 - tn: 108.0000 - fn: 0.0000e+00 - accuracy: 0.9818 - recall: 1.0000 - precision: 0.9474 - prc: 0.9981 - sen: 1.0000 - val_loss: 1.6475 - val_tp: 1.0000 - val_fp: 8.0000 - val_tn: 26.0000 - val_fn: 7.0000 - val_accuracy: 0.6429 - val_recall: 0.1250 - val_precision: 0.1111 - val_prc: 0.2251 - val_sen: 0.1250\n",
            "Epoch 69/500\n",
            "2/2 [==============================] - 0s 47ms/step - loss: 0.0421 - tp: 54.0000 - fp: 3.0000 - tn: 108.0000 - fn: 0.0000e+00 - accuracy: 0.9818 - recall: 1.0000 - precision: 0.9474 - prc: 0.9981 - sen: 1.0000 - val_loss: 1.6523 - val_tp: 2.0000 - val_fp: 8.0000 - val_tn: 26.0000 - val_fn: 6.0000 - val_accuracy: 0.6667 - val_recall: 0.2500 - val_precision: 0.2000 - val_prc: 0.2249 - val_sen: 0.1250\n",
            "Epoch 70/500\n",
            "2/2 [==============================] - 0s 76ms/step - loss: 0.0416 - tp: 54.0000 - fp: 3.0000 - tn: 108.0000 - fn: 0.0000e+00 - accuracy: 0.9818 - recall: 1.0000 - precision: 0.9474 - prc: 0.9983 - sen: 1.0000 - val_loss: 1.6521 - val_tp: 2.0000 - val_fp: 8.0000 - val_tn: 26.0000 - val_fn: 6.0000 - val_accuracy: 0.6667 - val_recall: 0.2500 - val_precision: 0.2000 - val_prc: 0.2244 - val_sen: 0.1250\n",
            "Epoch 71/500\n",
            "2/2 [==============================] - 0s 66ms/step - loss: 0.0415 - tp: 54.0000 - fp: 3.0000 - tn: 108.0000 - fn: 0.0000e+00 - accuracy: 0.9818 - recall: 1.0000 - precision: 0.9474 - prc: 0.9980 - sen: 1.0000 - val_loss: 1.6474 - val_tp: 2.0000 - val_fp: 8.0000 - val_tn: 26.0000 - val_fn: 6.0000 - val_accuracy: 0.6667 - val_recall: 0.2500 - val_precision: 0.2000 - val_prc: 0.2292 - val_sen: 0.1250\n",
            "Epoch 72/500\n",
            "2/2 [==============================] - 0s 84ms/step - loss: 0.0423 - tp: 54.0000 - fp: 3.0000 - tn: 108.0000 - fn: 0.0000e+00 - accuracy: 0.9818 - recall: 1.0000 - precision: 0.9474 - prc: 0.9978 - sen: 1.0000 - val_loss: 1.6465 - val_tp: 2.0000 - val_fp: 8.0000 - val_tn: 26.0000 - val_fn: 6.0000 - val_accuracy: 0.6667 - val_recall: 0.2500 - val_precision: 0.2000 - val_prc: 0.2276 - val_sen: 0.1250\n",
            "Epoch 73/500\n",
            "2/2 [==============================] - 0s 75ms/step - loss: 0.0415 - tp: 54.0000 - fp: 3.0000 - tn: 108.0000 - fn: 0.0000e+00 - accuracy: 0.9818 - recall: 1.0000 - precision: 0.9474 - prc: 0.9981 - sen: 1.0000 - val_loss: 1.6644 - val_tp: 2.0000 - val_fp: 8.0000 - val_tn: 26.0000 - val_fn: 6.0000 - val_accuracy: 0.6667 - val_recall: 0.2500 - val_precision: 0.2000 - val_prc: 0.2234 - val_sen: 0.1250\n",
            "Epoch 74/500\n",
            "2/2 [==============================] - 0s 84ms/step - loss: 0.0407 - tp: 54.0000 - fp: 3.0000 - tn: 108.0000 - fn: 0.0000e+00 - accuracy: 0.9818 - recall: 1.0000 - precision: 0.9474 - prc: 0.9981 - sen: 1.0000 - val_loss: 1.6756 - val_tp: 2.0000 - val_fp: 8.0000 - val_tn: 26.0000 - val_fn: 6.0000 - val_accuracy: 0.6667 - val_recall: 0.2500 - val_precision: 0.2000 - val_prc: 0.2234 - val_sen: 0.1250\n",
            "Epoch 75/500\n",
            "2/2 [==============================] - 0s 87ms/step - loss: 0.0401 - tp: 54.0000 - fp: 3.0000 - tn: 108.0000 - fn: 0.0000e+00 - accuracy: 0.9818 - recall: 1.0000 - precision: 0.9474 - prc: 0.9981 - sen: 1.0000 - val_loss: 1.6916 - val_tp: 2.0000 - val_fp: 8.0000 - val_tn: 26.0000 - val_fn: 6.0000 - val_accuracy: 0.6667 - val_recall: 0.2500 - val_precision: 0.2000 - val_prc: 0.2225 - val_sen: 0.1250\n",
            "Epoch 76/500\n",
            "2/2 [==============================] - 0s 120ms/step - loss: 0.0406 - tp: 54.0000 - fp: 3.0000 - tn: 108.0000 - fn: 0.0000e+00 - accuracy: 0.9818 - recall: 1.0000 - precision: 0.9474 - prc: 0.9980 - sen: 1.0000 - val_loss: 1.7123 - val_tp: 2.0000 - val_fp: 8.0000 - val_tn: 26.0000 - val_fn: 6.0000 - val_accuracy: 0.6667 - val_recall: 0.2500 - val_precision: 0.2000 - val_prc: 0.2202 - val_sen: 0.1250\n",
            "Epoch 77/500\n",
            "2/2 [==============================] - 0s 116ms/step - loss: 0.0403 - tp: 54.0000 - fp: 3.0000 - tn: 108.0000 - fn: 0.0000e+00 - accuracy: 0.9818 - recall: 1.0000 - precision: 0.9474 - prc: 0.9978 - sen: 1.0000 - val_loss: 1.7217 - val_tp: 2.0000 - val_fp: 8.0000 - val_tn: 26.0000 - val_fn: 6.0000 - val_accuracy: 0.6667 - val_recall: 0.2500 - val_precision: 0.2000 - val_prc: 0.2210 - val_sen: 0.1250\n",
            "Epoch 78/500\n",
            "2/2 [==============================] - 0s 97ms/step - loss: 0.0398 - tp: 54.0000 - fp: 3.0000 - tn: 108.0000 - fn: 0.0000e+00 - accuracy: 0.9818 - recall: 1.0000 - precision: 0.9474 - prc: 0.9980 - sen: 1.0000 - val_loss: 1.7184 - val_tp: 2.0000 - val_fp: 8.0000 - val_tn: 26.0000 - val_fn: 6.0000 - val_accuracy: 0.6667 - val_recall: 0.2500 - val_precision: 0.2000 - val_prc: 0.2202 - val_sen: 0.1250\n",
            "Epoch 79/500\n",
            "2/2 [==============================] - 0s 94ms/step - loss: 0.0392 - tp: 54.0000 - fp: 3.0000 - tn: 108.0000 - fn: 0.0000e+00 - accuracy: 0.9818 - recall: 1.0000 - precision: 0.9474 - prc: 0.9980 - sen: 1.0000 - val_loss: 1.7147 - val_tp: 2.0000 - val_fp: 8.0000 - val_tn: 26.0000 - val_fn: 6.0000 - val_accuracy: 0.6667 - val_recall: 0.2500 - val_precision: 0.2000 - val_prc: 0.2227 - val_sen: 0.1250\n",
            "Epoch 80/500\n",
            "2/2 [==============================] - 0s 57ms/step - loss: 0.0388 - tp: 54.0000 - fp: 3.0000 - tn: 108.0000 - fn: 0.0000e+00 - accuracy: 0.9818 - recall: 1.0000 - precision: 0.9474 - prc: 0.9981 - sen: 1.0000 - val_loss: 1.7137 - val_tp: 2.0000 - val_fp: 8.0000 - val_tn: 26.0000 - val_fn: 6.0000 - val_accuracy: 0.6667 - val_recall: 0.2500 - val_precision: 0.2000 - val_prc: 0.2239 - val_sen: 0.1250\n",
            "Epoch 81/500\n",
            "2/2 [==============================] - 0s 66ms/step - loss: 0.0391 - tp: 54.0000 - fp: 3.0000 - tn: 108.0000 - fn: 0.0000e+00 - accuracy: 0.9818 - recall: 1.0000 - precision: 0.9474 - prc: 0.9981 - sen: 1.0000 - val_loss: 1.7101 - val_tp: 2.0000 - val_fp: 8.0000 - val_tn: 26.0000 - val_fn: 6.0000 - val_accuracy: 0.6667 - val_recall: 0.2500 - val_precision: 0.2000 - val_prc: 0.2239 - val_sen: 0.1250\n",
            "Epoch 82/500\n",
            "2/2 [==============================] - 0s 51ms/step - loss: 0.0385 - tp: 54.0000 - fp: 3.0000 - tn: 108.0000 - fn: 0.0000e+00 - accuracy: 0.9818 - recall: 1.0000 - precision: 0.9474 - prc: 0.9980 - sen: 1.0000 - val_loss: 1.7186 - val_tp: 2.0000 - val_fp: 8.0000 - val_tn: 26.0000 - val_fn: 6.0000 - val_accuracy: 0.6667 - val_recall: 0.2500 - val_precision: 0.2000 - val_prc: 0.2239 - val_sen: 0.1250\n",
            "Epoch 83/500\n",
            "2/2 [==============================] - 0s 92ms/step - loss: 0.0386 - tp: 54.0000 - fp: 3.0000 - tn: 108.0000 - fn: 0.0000e+00 - accuracy: 0.9818 - recall: 1.0000 - precision: 0.9474 - prc: 0.9976 - sen: 1.0000 - val_loss: 1.7297 - val_tp: 1.0000 - val_fp: 8.0000 - val_tn: 26.0000 - val_fn: 7.0000 - val_accuracy: 0.6429 - val_recall: 0.1250 - val_precision: 0.1111 - val_prc: 0.2247 - val_sen: 0.1250\n",
            "Epoch 84/500\n",
            "2/2 [==============================] - 0s 56ms/step - loss: 0.0381 - tp: 54.0000 - fp: 3.0000 - tn: 108.0000 - fn: 0.0000e+00 - accuracy: 0.9818 - recall: 1.0000 - precision: 0.9474 - prc: 0.9981 - sen: 1.0000 - val_loss: 1.7355 - val_tp: 1.0000 - val_fp: 8.0000 - val_tn: 26.0000 - val_fn: 7.0000 - val_accuracy: 0.6429 - val_recall: 0.1250 - val_precision: 0.1111 - val_prc: 0.2255 - val_sen: 0.1250\n",
            "Epoch 85/500\n",
            "2/2 [==============================] - 0s 64ms/step - loss: 0.0380 - tp: 54.0000 - fp: 3.0000 - tn: 108.0000 - fn: 0.0000e+00 - accuracy: 0.9818 - recall: 1.0000 - precision: 0.9474 - prc: 0.9980 - sen: 1.0000 - val_loss: 1.7430 - val_tp: 1.0000 - val_fp: 8.0000 - val_tn: 26.0000 - val_fn: 7.0000 - val_accuracy: 0.6429 - val_recall: 0.1250 - val_precision: 0.1111 - val_prc: 0.2255 - val_sen: 0.1250\n",
            "Epoch 86/500\n",
            "2/2 [==============================] - 0s 67ms/step - loss: 0.0377 - tp: 54.0000 - fp: 3.0000 - tn: 108.0000 - fn: 0.0000e+00 - accuracy: 0.9818 - recall: 1.0000 - precision: 0.9474 - prc: 0.9981 - sen: 1.0000 - val_loss: 1.7521 - val_tp: 1.0000 - val_fp: 8.0000 - val_tn: 26.0000 - val_fn: 7.0000 - val_accuracy: 0.6429 - val_recall: 0.1250 - val_precision: 0.1111 - val_prc: 0.2255 - val_sen: 0.1250\n",
            "Epoch 87/500\n",
            "2/2 [==============================] - 0s 44ms/step - loss: 0.0375 - tp: 54.0000 - fp: 3.0000 - tn: 108.0000 - fn: 0.0000e+00 - accuracy: 0.9818 - recall: 1.0000 - precision: 0.9474 - prc: 0.9979 - sen: 1.0000 - val_loss: 1.7628 - val_tp: 1.0000 - val_fp: 8.0000 - val_tn: 26.0000 - val_fn: 7.0000 - val_accuracy: 0.6429 - val_recall: 0.1250 - val_precision: 0.1111 - val_prc: 0.2227 - val_sen: 0.1250\n",
            "Epoch 88/500\n",
            "2/2 [==============================] - 0s 48ms/step - loss: 0.0370 - tp: 54.0000 - fp: 3.0000 - tn: 108.0000 - fn: 0.0000e+00 - accuracy: 0.9818 - recall: 1.0000 - precision: 0.9474 - prc: 0.9985 - sen: 1.0000 - val_loss: 1.7716 - val_tp: 2.0000 - val_fp: 8.0000 - val_tn: 26.0000 - val_fn: 6.0000 - val_accuracy: 0.6667 - val_recall: 0.2500 - val_precision: 0.2000 - val_prc: 0.2216 - val_sen: 0.1250\n",
            "Epoch 89/500\n",
            "2/2 [==============================] - 0s 46ms/step - loss: 0.0372 - tp: 54.0000 - fp: 3.0000 - tn: 108.0000 - fn: 0.0000e+00 - accuracy: 0.9818 - recall: 1.0000 - precision: 0.9474 - prc: 0.9980 - sen: 1.0000 - val_loss: 1.7784 - val_tp: 2.0000 - val_fp: 8.0000 - val_tn: 26.0000 - val_fn: 6.0000 - val_accuracy: 0.6667 - val_recall: 0.2500 - val_precision: 0.2000 - val_prc: 0.2176 - val_sen: 0.1250\n",
            "Epoch 90/500\n",
            "2/2 [==============================] - 0s 79ms/step - loss: 0.0368 - tp: 54.0000 - fp: 3.0000 - tn: 108.0000 - fn: 0.0000e+00 - accuracy: 0.9818 - recall: 1.0000 - precision: 0.9474 - prc: 0.9983 - sen: 1.0000 - val_loss: 1.7897 - val_tp: 2.0000 - val_fp: 8.0000 - val_tn: 26.0000 - val_fn: 6.0000 - val_accuracy: 0.6667 - val_recall: 0.2500 - val_precision: 0.2000 - val_prc: 0.2176 - val_sen: 0.1250\n",
            "Epoch 91/500\n",
            "2/2 [==============================] - 0s 49ms/step - loss: 0.0370 - tp: 54.0000 - fp: 3.0000 - tn: 108.0000 - fn: 0.0000e+00 - accuracy: 0.9818 - recall: 1.0000 - precision: 0.9474 - prc: 0.9980 - sen: 1.0000 - val_loss: 1.7957 - val_tp: 2.0000 - val_fp: 8.0000 - val_tn: 26.0000 - val_fn: 6.0000 - val_accuracy: 0.6667 - val_recall: 0.2500 - val_precision: 0.2000 - val_prc: 0.2176 - val_sen: 0.1250\n",
            "Epoch 92/500\n",
            "2/2 [==============================] - 0s 81ms/step - loss: 0.0366 - tp: 54.0000 - fp: 3.0000 - tn: 108.0000 - fn: 0.0000e+00 - accuracy: 0.9818 - recall: 1.0000 - precision: 0.9474 - prc: 0.9983 - sen: 1.0000 - val_loss: 1.8065 - val_tp: 2.0000 - val_fp: 8.0000 - val_tn: 26.0000 - val_fn: 6.0000 - val_accuracy: 0.6667 - val_recall: 0.2500 - val_precision: 0.2000 - val_prc: 0.2198 - val_sen: 0.1250\n",
            "Epoch 93/500\n",
            "2/2 [==============================] - 0s 67ms/step - loss: 0.0367 - tp: 54.0000 - fp: 3.0000 - tn: 108.0000 - fn: 0.0000e+00 - accuracy: 0.9818 - recall: 1.0000 - precision: 0.9474 - prc: 0.9980 - sen: 1.0000 - val_loss: 1.8121 - val_tp: 2.0000 - val_fp: 8.0000 - val_tn: 26.0000 - val_fn: 6.0000 - val_accuracy: 0.6667 - val_recall: 0.2500 - val_precision: 0.2000 - val_prc: 0.2205 - val_sen: 0.1250\n",
            "Epoch 94/500\n",
            "2/2 [==============================] - 0s 65ms/step - loss: 0.0368 - tp: 54.0000 - fp: 3.0000 - tn: 108.0000 - fn: 0.0000e+00 - accuracy: 0.9818 - recall: 1.0000 - precision: 0.9474 - prc: 0.9976 - sen: 1.0000 - val_loss: 1.8202 - val_tp: 2.0000 - val_fp: 8.0000 - val_tn: 26.0000 - val_fn: 6.0000 - val_accuracy: 0.6667 - val_recall: 0.2500 - val_precision: 0.2000 - val_prc: 0.2182 - val_sen: 0.0000e+00\n",
            "Epoch 95/500\n",
            "2/2 [==============================] - 0s 55ms/step - loss: 0.0367 - tp: 54.0000 - fp: 3.0000 - tn: 108.0000 - fn: 0.0000e+00 - accuracy: 0.9818 - recall: 1.0000 - precision: 0.9474 - prc: 0.9976 - sen: 1.0000 - val_loss: 1.8158 - val_tp: 2.0000 - val_fp: 8.0000 - val_tn: 26.0000 - val_fn: 6.0000 - val_accuracy: 0.6667 - val_recall: 0.2500 - val_precision: 0.2000 - val_prc: 0.2235 - val_sen: 0.1250\n",
            "Epoch 96/500\n",
            "2/2 [==============================] - 0s 124ms/step - loss: 0.0363 - tp: 54.0000 - fp: 3.0000 - tn: 108.0000 - fn: 0.0000e+00 - accuracy: 0.9818 - recall: 1.0000 - precision: 0.9474 - prc: 0.9980 - sen: 1.0000 - val_loss: 1.8175 - val_tp: 2.0000 - val_fp: 8.0000 - val_tn: 26.0000 - val_fn: 6.0000 - val_accuracy: 0.6667 - val_recall: 0.2500 - val_precision: 0.2000 - val_prc: 0.2243 - val_sen: 0.1250\n",
            "Epoch 97/500\n",
            "2/2 [==============================] - 0s 114ms/step - loss: 0.0365 - tp: 54.0000 - fp: 3.0000 - tn: 108.0000 - fn: 0.0000e+00 - accuracy: 0.9818 - recall: 1.0000 - precision: 0.9474 - prc: 0.9977 - sen: 1.0000 - val_loss: 1.8116 - val_tp: 1.0000 - val_fp: 8.0000 - val_tn: 26.0000 - val_fn: 7.0000 - val_accuracy: 0.6429 - val_recall: 0.1250 - val_precision: 0.1111 - val_prc: 0.2261 - val_sen: 0.1250\n",
            "Epoch 98/500\n",
            "2/2 [==============================] - 0s 87ms/step - loss: 0.0361 - tp: 54.0000 - fp: 3.0000 - tn: 108.0000 - fn: 0.0000e+00 - accuracy: 0.9818 - recall: 1.0000 - precision: 0.9474 - prc: 0.9980 - sen: 1.0000 - val_loss: 1.8132 - val_tp: 1.0000 - val_fp: 8.0000 - val_tn: 26.0000 - val_fn: 7.0000 - val_accuracy: 0.6429 - val_recall: 0.1250 - val_precision: 0.1111 - val_prc: 0.2243 - val_sen: 0.1250\n",
            "Epoch 99/500\n",
            "2/2 [==============================] - 0s 49ms/step - loss: 0.0355 - tp: 54.0000 - fp: 3.0000 - tn: 108.0000 - fn: 0.0000e+00 - accuracy: 0.9818 - recall: 1.0000 - precision: 0.9474 - prc: 0.9983 - sen: 1.0000 - val_loss: 1.8229 - val_tp: 1.0000 - val_fp: 8.0000 - val_tn: 26.0000 - val_fn: 7.0000 - val_accuracy: 0.6429 - val_recall: 0.1250 - val_precision: 0.1111 - val_prc: 0.2243 - val_sen: 0.1250\n",
            "Epoch 100/500\n",
            "2/2 [==============================] - 0s 87ms/step - loss: 0.0355 - tp: 54.0000 - fp: 3.0000 - tn: 108.0000 - fn: 0.0000e+00 - accuracy: 0.9818 - recall: 1.0000 - precision: 0.9474 - prc: 0.9981 - sen: 1.0000 - val_loss: 1.8300 - val_tp: 1.0000 - val_fp: 8.0000 - val_tn: 26.0000 - val_fn: 7.0000 - val_accuracy: 0.6429 - val_recall: 0.1250 - val_precision: 0.1111 - val_prc: 0.2243 - val_sen: 0.1250\n",
            "Epoch 101/500\n",
            "2/2 [==============================] - 0s 103ms/step - loss: 0.0357 - tp: 54.0000 - fp: 3.0000 - tn: 108.0000 - fn: 0.0000e+00 - accuracy: 0.9818 - recall: 1.0000 - precision: 0.9474 - prc: 0.9978 - sen: 1.0000 - val_loss: 1.8415 - val_tp: 1.0000 - val_fp: 8.0000 - val_tn: 26.0000 - val_fn: 7.0000 - val_accuracy: 0.6429 - val_recall: 0.1250 - val_precision: 0.1111 - val_prc: 0.2221 - val_sen: 0.1250\n",
            "Epoch 102/500\n",
            "2/2 [==============================] - 0s 79ms/step - loss: 0.0352 - tp: 54.0000 - fp: 3.0000 - tn: 108.0000 - fn: 0.0000e+00 - accuracy: 0.9818 - recall: 1.0000 - precision: 0.9474 - prc: 0.9983 - sen: 1.0000 - val_loss: 1.8570 - val_tp: 1.0000 - val_fp: 8.0000 - val_tn: 26.0000 - val_fn: 7.0000 - val_accuracy: 0.6429 - val_recall: 0.1250 - val_precision: 0.1111 - val_prc: 0.2181 - val_sen: 0.0000e+00\n",
            "Epoch 103/500\n",
            "2/2 [==============================] - 0s 57ms/step - loss: 0.0356 - tp: 54.0000 - fp: 3.0000 - tn: 108.0000 - fn: 0.0000e+00 - accuracy: 0.9818 - recall: 1.0000 - precision: 0.9474 - prc: 0.9978 - sen: 1.0000 - val_loss: 1.8651 - val_tp: 1.0000 - val_fp: 8.0000 - val_tn: 26.0000 - val_fn: 7.0000 - val_accuracy: 0.6429 - val_recall: 0.1250 - val_precision: 0.1111 - val_prc: 0.2181 - val_sen: 0.0000e+00\n",
            "Epoch 104/500\n",
            "2/2 [==============================] - 0s 121ms/step - loss: 0.0354 - tp: 54.0000 - fp: 3.0000 - tn: 108.0000 - fn: 0.0000e+00 - accuracy: 0.9818 - recall: 1.0000 - precision: 0.9474 - prc: 0.9981 - sen: 1.0000 - val_loss: 1.8721 - val_tp: 1.0000 - val_fp: 8.0000 - val_tn: 26.0000 - val_fn: 7.0000 - val_accuracy: 0.6429 - val_recall: 0.1250 - val_precision: 0.1111 - val_prc: 0.2181 - val_sen: 0.0000e+00\n",
            "Epoch 105/500\n",
            "2/2 [==============================] - 0s 67ms/step - loss: 0.0354 - tp: 54.0000 - fp: 3.0000 - tn: 108.0000 - fn: 0.0000e+00 - accuracy: 0.9818 - recall: 1.0000 - precision: 0.9474 - prc: 0.9981 - sen: 1.0000 - val_loss: 1.8775 - val_tp: 1.0000 - val_fp: 8.0000 - val_tn: 26.0000 - val_fn: 7.0000 - val_accuracy: 0.6429 - val_recall: 0.1250 - val_precision: 0.1111 - val_prc: 0.2181 - val_sen: 0.0000e+00\n",
            "Epoch 106/500\n",
            "2/2 [==============================] - 0s 126ms/step - loss: 0.0356 - tp: 54.0000 - fp: 3.0000 - tn: 108.0000 - fn: 0.0000e+00 - accuracy: 0.9818 - recall: 1.0000 - precision: 0.9474 - prc: 0.9980 - sen: 1.0000 - val_loss: 1.8838 - val_tp: 1.0000 - val_fp: 8.0000 - val_tn: 26.0000 - val_fn: 7.0000 - val_accuracy: 0.6429 - val_recall: 0.1250 - val_precision: 0.1111 - val_prc: 0.2173 - val_sen: 0.0000e+00\n",
            "Epoch 107/500\n",
            "2/2 [==============================] - 0s 69ms/step - loss: 0.0357 - tp: 54.0000 - fp: 3.0000 - tn: 108.0000 - fn: 0.0000e+00 - accuracy: 0.9818 - recall: 1.0000 - precision: 0.9474 - prc: 0.9980 - sen: 1.0000 - val_loss: 1.8768 - val_tp: 1.0000 - val_fp: 8.0000 - val_tn: 26.0000 - val_fn: 7.0000 - val_accuracy: 0.6429 - val_recall: 0.1250 - val_precision: 0.1111 - val_prc: 0.2191 - val_sen: 0.0000e+00\n",
            "Epoch 108/500\n",
            "2/2 [==============================] - 0s 72ms/step - loss: 0.0350 - tp: 54.0000 - fp: 3.0000 - tn: 108.0000 - fn: 0.0000e+00 - accuracy: 0.9818 - recall: 1.0000 - precision: 0.9474 - prc: 0.9980 - sen: 1.0000 - val_loss: 1.8752 - val_tp: 1.0000 - val_fp: 8.0000 - val_tn: 26.0000 - val_fn: 7.0000 - val_accuracy: 0.6429 - val_recall: 0.1250 - val_precision: 0.1111 - val_prc: 0.2178 - val_sen: 0.0000e+00\n",
            "Epoch 109/500\n",
            "2/2 [==============================] - 0s 61ms/step - loss: 0.0354 - tp: 54.0000 - fp: 3.0000 - tn: 108.0000 - fn: 0.0000e+00 - accuracy: 0.9818 - recall: 1.0000 - precision: 0.9474 - prc: 0.9977 - sen: 1.0000 - val_loss: 1.8676 - val_tp: 1.0000 - val_fp: 8.0000 - val_tn: 26.0000 - val_fn: 7.0000 - val_accuracy: 0.6429 - val_recall: 0.1250 - val_precision: 0.1111 - val_prc: 0.2210 - val_sen: 0.1250\n",
            "Epoch 110/500\n",
            "2/2 [==============================] - 0s 83ms/step - loss: 0.0344 - tp: 54.0000 - fp: 3.0000 - tn: 108.0000 - fn: 0.0000e+00 - accuracy: 0.9818 - recall: 1.0000 - precision: 0.9474 - prc: 0.9983 - sen: 1.0000 - val_loss: 1.8745 - val_tp: 1.0000 - val_fp: 8.0000 - val_tn: 26.0000 - val_fn: 7.0000 - val_accuracy: 0.6429 - val_recall: 0.1250 - val_precision: 0.1111 - val_prc: 0.2210 - val_sen: 0.1250\n",
            "Epoch 111/500\n",
            "2/2 [==============================] - 0s 52ms/step - loss: 0.0346 - tp: 54.0000 - fp: 3.0000 - tn: 108.0000 - fn: 0.0000e+00 - accuracy: 0.9818 - recall: 1.0000 - precision: 0.9474 - prc: 0.9981 - sen: 1.0000 - val_loss: 1.8840 - val_tp: 1.0000 - val_fp: 8.0000 - val_tn: 26.0000 - val_fn: 7.0000 - val_accuracy: 0.6429 - val_recall: 0.1250 - val_precision: 0.1111 - val_prc: 0.2210 - val_sen: 0.1250\n",
            "Epoch 112/500\n",
            "2/2 [==============================] - 0s 64ms/step - loss: 0.0345 - tp: 54.0000 - fp: 3.0000 - tn: 108.0000 - fn: 0.0000e+00 - accuracy: 0.9818 - recall: 1.0000 - precision: 0.9474 - prc: 0.9980 - sen: 1.0000 - val_loss: 1.8916 - val_tp: 1.0000 - val_fp: 8.0000 - val_tn: 26.0000 - val_fn: 7.0000 - val_accuracy: 0.6429 - val_recall: 0.1250 - val_precision: 0.1111 - val_prc: 0.2187 - val_sen: 0.0000e+00\n",
            "Epoch 113/500\n",
            "2/2 [==============================] - 0s 97ms/step - loss: 0.0340 - tp: 54.0000 - fp: 3.0000 - tn: 108.0000 - fn: 0.0000e+00 - accuracy: 0.9818 - recall: 1.0000 - precision: 0.9474 - prc: 0.9983 - sen: 1.0000 - val_loss: 1.9045 - val_tp: 2.0000 - val_fp: 8.0000 - val_tn: 26.0000 - val_fn: 6.0000 - val_accuracy: 0.6667 - val_recall: 0.2500 - val_precision: 0.2000 - val_prc: 0.2183 - val_sen: 0.0000e+00\n",
            "Epoch 114/500\n",
            "2/2 [==============================] - 0s 79ms/step - loss: 0.0340 - tp: 54.0000 - fp: 3.0000 - tn: 108.0000 - fn: 0.0000e+00 - accuracy: 0.9818 - recall: 1.0000 - precision: 0.9474 - prc: 0.9985 - sen: 1.0000 - val_loss: 1.9173 - val_tp: 2.0000 - val_fp: 8.0000 - val_tn: 26.0000 - val_fn: 6.0000 - val_accuracy: 0.6667 - val_recall: 0.2500 - val_precision: 0.2000 - val_prc: 0.2195 - val_sen: 0.0000e+00\n",
            "Epoch 115/500\n",
            "2/2 [==============================] - 0s 77ms/step - loss: 0.0345 - tp: 54.0000 - fp: 3.0000 - tn: 108.0000 - fn: 0.0000e+00 - accuracy: 0.9818 - recall: 1.0000 - precision: 0.9474 - prc: 0.9981 - sen: 1.0000 - val_loss: 1.9286 - val_tp: 2.0000 - val_fp: 8.0000 - val_tn: 26.0000 - val_fn: 6.0000 - val_accuracy: 0.6667 - val_recall: 0.2500 - val_precision: 0.2000 - val_prc: 0.2194 - val_sen: 0.0000e+00\n",
            "Epoch 116/500\n",
            "2/2 [==============================] - 0s 46ms/step - loss: 0.0347 - tp: 54.0000 - fp: 3.0000 - tn: 108.0000 - fn: 0.0000e+00 - accuracy: 0.9818 - recall: 1.0000 - precision: 0.9474 - prc: 0.9980 - sen: 1.0000 - val_loss: 1.9354 - val_tp: 2.0000 - val_fp: 8.0000 - val_tn: 26.0000 - val_fn: 6.0000 - val_accuracy: 0.6667 - val_recall: 0.2500 - val_precision: 0.2000 - val_prc: 0.2186 - val_sen: 0.0000e+00\n",
            "Epoch 117/500\n",
            "2/2 [==============================] - 0s 64ms/step - loss: 0.0346 - tp: 54.0000 - fp: 3.0000 - tn: 108.0000 - fn: 0.0000e+00 - accuracy: 0.9818 - recall: 1.0000 - precision: 0.9474 - prc: 0.9983 - sen: 1.0000 - val_loss: 1.9389 - val_tp: 1.0000 - val_fp: 8.0000 - val_tn: 26.0000 - val_fn: 7.0000 - val_accuracy: 0.6429 - val_recall: 0.1250 - val_precision: 0.1111 - val_prc: 0.2164 - val_sen: 0.0000e+00\n",
            "Epoch 118/500\n",
            "2/2 [==============================] - 0s 64ms/step - loss: 0.0347 - tp: 54.0000 - fp: 3.0000 - tn: 108.0000 - fn: 0.0000e+00 - accuracy: 0.9818 - recall: 1.0000 - precision: 0.9474 - prc: 0.9981 - sen: 1.0000 - val_loss: 1.9367 - val_tp: 1.0000 - val_fp: 8.0000 - val_tn: 26.0000 - val_fn: 7.0000 - val_accuracy: 0.6429 - val_recall: 0.1250 - val_precision: 0.1111 - val_prc: 0.2194 - val_sen: 0.0000e+00\n",
            "Epoch 119/500\n",
            "2/2 [==============================] - 0s 50ms/step - loss: 0.0348 - tp: 54.0000 - fp: 3.0000 - tn: 108.0000 - fn: 0.0000e+00 - accuracy: 0.9818 - recall: 1.0000 - precision: 0.9474 - prc: 0.9978 - sen: 1.0000 - val_loss: 1.9202 - val_tp: 1.0000 - val_fp: 8.0000 - val_tn: 26.0000 - val_fn: 7.0000 - val_accuracy: 0.6429 - val_recall: 0.1250 - val_precision: 0.1111 - val_prc: 0.2190 - val_sen: 0.0000e+00\n",
            "Epoch 120/500\n",
            "2/2 [==============================] - 0s 57ms/step - loss: 0.0336 - tp: 54.0000 - fp: 3.0000 - tn: 108.0000 - fn: 0.0000e+00 - accuracy: 0.9818 - recall: 1.0000 - precision: 0.9474 - prc: 0.9983 - sen: 1.0000 - val_loss: 1.9147 - val_tp: 1.0000 - val_fp: 8.0000 - val_tn: 26.0000 - val_fn: 7.0000 - val_accuracy: 0.6429 - val_recall: 0.1250 - val_precision: 0.1111 - val_prc: 0.2192 - val_sen: 0.0000e+00\n",
            "Epoch 121/500\n",
            "2/2 [==============================] - 0s 55ms/step - loss: 0.0334 - tp: 54.0000 - fp: 3.0000 - tn: 108.0000 - fn: 0.0000e+00 - accuracy: 0.9818 - recall: 1.0000 - precision: 0.9474 - prc: 0.9983 - sen: 1.0000 - val_loss: 1.9041 - val_tp: 1.0000 - val_fp: 8.0000 - val_tn: 26.0000 - val_fn: 7.0000 - val_accuracy: 0.6429 - val_recall: 0.1250 - val_precision: 0.1111 - val_prc: 0.2205 - val_sen: 0.1250\n",
            "Epoch 122/500\n",
            "2/2 [==============================] - 0s 54ms/step - loss: 0.0337 - tp: 54.0000 - fp: 3.0000 - tn: 108.0000 - fn: 0.0000e+00 - accuracy: 0.9818 - recall: 1.0000 - precision: 0.9474 - prc: 0.9983 - sen: 1.0000 - val_loss: 1.8925 - val_tp: 1.0000 - val_fp: 8.0000 - val_tn: 26.0000 - val_fn: 7.0000 - val_accuracy: 0.6429 - val_recall: 0.1250 - val_precision: 0.1111 - val_prc: 0.2240 - val_sen: 0.1250\n",
            "Epoch 123/500\n",
            "2/2 [==============================] - 0s 115ms/step - loss: 0.0354 - tp: 53.0000 - fp: 3.0000 - tn: 108.0000 - fn: 1.0000 - accuracy: 0.9758 - recall: 0.9815 - precision: 0.9464 - prc: 0.9981 - sen: 1.0000 - val_loss: 1.8921 - val_tp: 1.0000 - val_fp: 8.0000 - val_tn: 26.0000 - val_fn: 7.0000 - val_accuracy: 0.6429 - val_recall: 0.1250 - val_precision: 0.1111 - val_prc: 0.2249 - val_sen: 0.1250\n",
            "Epoch 124/500\n",
            "2/2 [==============================] - 0s 54ms/step - loss: 0.0342 - tp: 54.0000 - fp: 3.0000 - tn: 108.0000 - fn: 0.0000e+00 - accuracy: 0.9818 - recall: 1.0000 - precision: 0.9474 - prc: 0.9985 - sen: 1.0000 - val_loss: 1.9168 - val_tp: 1.0000 - val_fp: 8.0000 - val_tn: 26.0000 - val_fn: 7.0000 - val_accuracy: 0.6429 - val_recall: 0.1250 - val_precision: 0.1111 - val_prc: 0.2200 - val_sen: 0.1250\n",
            "Epoch 125/500\n",
            "2/2 [==============================] - 0s 60ms/step - loss: 0.0335 - tp: 54.0000 - fp: 3.0000 - tn: 108.0000 - fn: 0.0000e+00 - accuracy: 0.9818 - recall: 1.0000 - precision: 0.9474 - prc: 0.9983 - sen: 1.0000 - val_loss: 1.9424 - val_tp: 1.0000 - val_fp: 8.0000 - val_tn: 26.0000 - val_fn: 7.0000 - val_accuracy: 0.6429 - val_recall: 0.1250 - val_precision: 0.1111 - val_prc: 0.2196 - val_sen: 0.0000e+00\n",
            "Epoch 126/500\n",
            "2/2 [==============================] - 0s 78ms/step - loss: 0.0335 - tp: 54.0000 - fp: 3.0000 - tn: 108.0000 - fn: 0.0000e+00 - accuracy: 0.9818 - recall: 1.0000 - precision: 0.9474 - prc: 0.9983 - sen: 1.0000 - val_loss: 1.9594 - val_tp: 1.0000 - val_fp: 8.0000 - val_tn: 26.0000 - val_fn: 7.0000 - val_accuracy: 0.6429 - val_recall: 0.1250 - val_precision: 0.1111 - val_prc: 0.2177 - val_sen: 0.0000e+00\n",
            "Epoch 127/500\n",
            "2/2 [==============================] - 0s 86ms/step - loss: 0.0342 - tp: 54.0000 - fp: 3.0000 - tn: 108.0000 - fn: 0.0000e+00 - accuracy: 0.9818 - recall: 1.0000 - precision: 0.9474 - prc: 0.9981 - sen: 1.0000 - val_loss: 1.9755 - val_tp: 1.0000 - val_fp: 8.0000 - val_tn: 26.0000 - val_fn: 7.0000 - val_accuracy: 0.6429 - val_recall: 0.1250 - val_precision: 0.1111 - val_prc: 0.2177 - val_sen: 0.0000e+00\n",
            "Epoch 128/500\n",
            "2/2 [==============================] - 0s 51ms/step - loss: 0.0347 - tp: 54.0000 - fp: 3.0000 - tn: 108.0000 - fn: 0.0000e+00 - accuracy: 0.9818 - recall: 1.0000 - precision: 0.9474 - prc: 0.9978 - sen: 1.0000 - val_loss: 1.9757 - val_tp: 1.0000 - val_fp: 8.0000 - val_tn: 26.0000 - val_fn: 7.0000 - val_accuracy: 0.6429 - val_recall: 0.1250 - val_precision: 0.1111 - val_prc: 0.2186 - val_sen: 0.0000e+00\n",
            "Epoch 129/500\n",
            "2/2 [==============================] - 0s 180ms/step - loss: 0.0347 - tp: 54.0000 - fp: 3.0000 - tn: 108.0000 - fn: 0.0000e+00 - accuracy: 0.9818 - recall: 1.0000 - precision: 0.9474 - prc: 0.9980 - sen: 1.0000 - val_loss: 1.9778 - val_tp: 1.0000 - val_fp: 8.0000 - val_tn: 26.0000 - val_fn: 7.0000 - val_accuracy: 0.6429 - val_recall: 0.1250 - val_precision: 0.1111 - val_prc: 0.2186 - val_sen: 0.0000e+00\n",
            "Epoch 130/500\n",
            "2/2 [==============================] - 0s 117ms/step - loss: 0.0339 - tp: 54.0000 - fp: 3.0000 - tn: 108.0000 - fn: 0.0000e+00 - accuracy: 0.9818 - recall: 1.0000 - precision: 0.9474 - prc: 0.9983 - sen: 1.0000 - val_loss: 1.9645 - val_tp: 1.0000 - val_fp: 8.0000 - val_tn: 26.0000 - val_fn: 7.0000 - val_accuracy: 0.6429 - val_recall: 0.1250 - val_precision: 0.1111 - val_prc: 0.2174 - val_sen: 0.0000e+00\n",
            "Epoch 131/500\n",
            "2/2 [==============================] - 0s 72ms/step - loss: 0.0339 - tp: 54.0000 - fp: 3.0000 - tn: 108.0000 - fn: 0.0000e+00 - accuracy: 0.9818 - recall: 1.0000 - precision: 0.9474 - prc: 0.9981 - sen: 1.0000 - val_loss: 1.9504 - val_tp: 1.0000 - val_fp: 8.0000 - val_tn: 26.0000 - val_fn: 7.0000 - val_accuracy: 0.6429 - val_recall: 0.1250 - val_precision: 0.1111 - val_prc: 0.2192 - val_sen: 0.0000e+00\n",
            "Epoch 132/500\n",
            "2/2 [==============================] - 0s 86ms/step - loss: 0.0329 - tp: 54.0000 - fp: 3.0000 - tn: 108.0000 - fn: 0.0000e+00 - accuracy: 0.9818 - recall: 1.0000 - precision: 0.9474 - prc: 0.9983 - sen: 1.0000 - val_loss: 1.9473 - val_tp: 1.0000 - val_fp: 8.0000 - val_tn: 26.0000 - val_fn: 7.0000 - val_accuracy: 0.6429 - val_recall: 0.1250 - val_precision: 0.1111 - val_prc: 0.2214 - val_sen: 0.1250\n",
            "Epoch 133/500\n",
            "2/2 [==============================] - 0s 95ms/step - loss: 0.0331 - tp: 54.0000 - fp: 3.0000 - tn: 108.0000 - fn: 0.0000e+00 - accuracy: 0.9818 - recall: 1.0000 - precision: 0.9474 - prc: 0.9981 - sen: 1.0000 - val_loss: 1.9492 - val_tp: 1.0000 - val_fp: 8.0000 - val_tn: 26.0000 - val_fn: 7.0000 - val_accuracy: 0.6429 - val_recall: 0.1250 - val_precision: 0.1111 - val_prc: 0.2214 - val_sen: 0.1250\n",
            "Epoch 134/500\n",
            "2/2 [==============================] - 0s 59ms/step - loss: 0.0330 - tp: 54.0000 - fp: 3.0000 - tn: 108.0000 - fn: 0.0000e+00 - accuracy: 0.9818 - recall: 1.0000 - precision: 0.9474 - prc: 0.9980 - sen: 1.0000 - val_loss: 1.9480 - val_tp: 1.0000 - val_fp: 8.0000 - val_tn: 26.0000 - val_fn: 7.0000 - val_accuracy: 0.6429 - val_recall: 0.1250 - val_precision: 0.1111 - val_prc: 0.2231 - val_sen: 0.1250\n",
            "Epoch 135/500\n",
            "2/2 [==============================] - 0s 57ms/step - loss: 0.0339 - tp: 54.0000 - fp: 3.0000 - tn: 108.0000 - fn: 0.0000e+00 - accuracy: 0.9818 - recall: 1.0000 - precision: 0.9474 - prc: 0.9978 - sen: 1.0000 - val_loss: 1.9444 - val_tp: 2.0000 - val_fp: 8.0000 - val_tn: 26.0000 - val_fn: 6.0000 - val_accuracy: 0.6667 - val_recall: 0.2500 - val_precision: 0.2000 - val_prc: 0.2241 - val_sen: 0.1250\n",
            "Epoch 136/500\n",
            "2/2 [==============================] - 0s 75ms/step - loss: 0.0335 - tp: 54.0000 - fp: 3.0000 - tn: 108.0000 - fn: 0.0000e+00 - accuracy: 0.9818 - recall: 1.0000 - precision: 0.9474 - prc: 0.9978 - sen: 1.0000 - val_loss: 1.9560 - val_tp: 2.0000 - val_fp: 8.0000 - val_tn: 26.0000 - val_fn: 6.0000 - val_accuracy: 0.6667 - val_recall: 0.2500 - val_precision: 0.2000 - val_prc: 0.2213 - val_sen: 0.1250\n",
            "Epoch 137/500\n",
            "2/2 [==============================] - 0s 79ms/step - loss: 0.0328 - tp: 54.0000 - fp: 3.0000 - tn: 108.0000 - fn: 0.0000e+00 - accuracy: 0.9818 - recall: 1.0000 - precision: 0.9474 - prc: 0.9983 - sen: 1.0000 - val_loss: 1.9753 - val_tp: 2.0000 - val_fp: 8.0000 - val_tn: 26.0000 - val_fn: 6.0000 - val_accuracy: 0.6667 - val_recall: 0.2500 - val_precision: 0.2000 - val_prc: 0.2199 - val_sen: 0.0000e+00\n",
            "Epoch 138/500\n",
            "2/2 [==============================] - 0s 83ms/step - loss: 0.0327 - tp: 54.0000 - fp: 3.0000 - tn: 108.0000 - fn: 0.0000e+00 - accuracy: 0.9818 - recall: 1.0000 - precision: 0.9474 - prc: 0.9981 - sen: 1.0000 - val_loss: 1.9955 - val_tp: 2.0000 - val_fp: 8.0000 - val_tn: 26.0000 - val_fn: 6.0000 - val_accuracy: 0.6667 - val_recall: 0.2500 - val_precision: 0.2000 - val_prc: 0.2199 - val_sen: 0.0000e+00\n",
            "Epoch 139/500\n",
            "2/2 [==============================] - 0s 61ms/step - loss: 0.0332 - tp: 54.0000 - fp: 3.0000 - tn: 108.0000 - fn: 0.0000e+00 - accuracy: 0.9818 - recall: 1.0000 - precision: 0.9474 - prc: 0.9983 - sen: 1.0000 - val_loss: 2.0147 - val_tp: 2.0000 - val_fp: 8.0000 - val_tn: 26.0000 - val_fn: 6.0000 - val_accuracy: 0.6667 - val_recall: 0.2500 - val_precision: 0.2000 - val_prc: 0.2190 - val_sen: 0.0000e+00\n",
            "Epoch 140/500\n",
            "2/2 [==============================] - 0s 57ms/step - loss: 0.0341 - tp: 54.0000 - fp: 3.0000 - tn: 108.0000 - fn: 0.0000e+00 - accuracy: 0.9818 - recall: 1.0000 - precision: 0.9474 - prc: 0.9980 - sen: 1.0000 - val_loss: 2.0201 - val_tp: 2.0000 - val_fp: 8.0000 - val_tn: 26.0000 - val_fn: 6.0000 - val_accuracy: 0.6667 - val_recall: 0.2500 - val_precision: 0.2000 - val_prc: 0.2155 - val_sen: 0.0000e+00\n",
            "Epoch 141/500\n",
            "2/2 [==============================] - 0s 67ms/step - loss: 0.0341 - tp: 54.0000 - fp: 3.0000 - tn: 108.0000 - fn: 0.0000e+00 - accuracy: 0.9818 - recall: 1.0000 - precision: 0.9474 - prc: 0.9976 - sen: 1.0000 - val_loss: 2.0178 - val_tp: 2.0000 - val_fp: 8.0000 - val_tn: 26.0000 - val_fn: 6.0000 - val_accuracy: 0.6667 - val_recall: 0.2500 - val_precision: 0.2000 - val_prc: 0.2181 - val_sen: 0.0000e+00\n",
            "Epoch 142/500\n",
            "2/2 [==============================] - 0s 82ms/step - loss: 0.0339 - tp: 54.0000 - fp: 3.0000 - tn: 108.0000 - fn: 0.0000e+00 - accuracy: 0.9818 - recall: 1.0000 - precision: 0.9474 - prc: 0.9978 - sen: 1.0000 - val_loss: 2.0076 - val_tp: 2.0000 - val_fp: 8.0000 - val_tn: 26.0000 - val_fn: 6.0000 - val_accuracy: 0.6667 - val_recall: 0.2500 - val_precision: 0.2000 - val_prc: 0.2207 - val_sen: 0.0000e+00\n",
            "Epoch 143/500\n",
            "2/2 [==============================] - 0s 68ms/step - loss: 0.0330 - tp: 54.0000 - fp: 3.0000 - tn: 108.0000 - fn: 0.0000e+00 - accuracy: 0.9818 - recall: 1.0000 - precision: 0.9474 - prc: 0.9979 - sen: 1.0000 - val_loss: 1.9990 - val_tp: 2.0000 - val_fp: 8.0000 - val_tn: 26.0000 - val_fn: 6.0000 - val_accuracy: 0.6667 - val_recall: 0.2500 - val_precision: 0.2000 - val_prc: 0.2195 - val_sen: 0.0000e+00\n",
            "Epoch 144/500\n",
            "2/2 [==============================] - 0s 94ms/step - loss: 0.0326 - tp: 54.0000 - fp: 3.0000 - tn: 108.0000 - fn: 0.0000e+00 - accuracy: 0.9818 - recall: 1.0000 - precision: 0.9474 - prc: 0.9983 - sen: 1.0000 - val_loss: 1.9901 - val_tp: 2.0000 - val_fp: 8.0000 - val_tn: 26.0000 - val_fn: 6.0000 - val_accuracy: 0.6667 - val_recall: 0.2500 - val_precision: 0.2000 - val_prc: 0.2176 - val_sen: 0.0000e+00\n",
            "Epoch 145/500\n",
            "2/2 [==============================] - 0s 73ms/step - loss: 0.0334 - tp: 54.0000 - fp: 3.0000 - tn: 108.0000 - fn: 0.0000e+00 - accuracy: 0.9818 - recall: 1.0000 - precision: 0.9474 - prc: 0.9977 - sen: 1.0000 - val_loss: 1.9738 - val_tp: 2.0000 - val_fp: 8.0000 - val_tn: 26.0000 - val_fn: 6.0000 - val_accuracy: 0.6667 - val_recall: 0.2500 - val_precision: 0.2000 - val_prc: 0.2207 - val_sen: 0.1250\n",
            "Epoch 146/500\n",
            "1/2 [==============>...............] - ETA: 0s - loss: 0.0314 - tp: 33.0000 - fp: 1.0000 - tn: 66.0000 - fn: 0.0000e+00 - accuracy: 0.9900 - recall: 1.0000 - precision: 0.9706 - prc: 0.9977 - sen: 1.0000Restoring model weights from the end of the best epoch: 46.\n",
            "2/2 [==============================] - 0s 61ms/step - loss: 0.0325 - tp: 54.0000 - fp: 3.0000 - tn: 108.0000 - fn: 0.0000e+00 - accuracy: 0.9818 - recall: 1.0000 - precision: 0.9474 - prc: 0.9980 - sen: 1.0000 - val_loss: 1.9746 - val_tp: 2.0000 - val_fp: 8.0000 - val_tn: 26.0000 - val_fn: 6.0000 - val_accuracy: 0.6667 - val_recall: 0.2500 - val_precision: 0.2000 - val_prc: 0.2207 - val_sen: 0.1250\n",
            "Epoch 146: early stopping\n"
          ]
        },
        {
          "output_type": "execute_result",
          "data": {
            "text/plain": [
              "<keras.callbacks.History at 0x7f5661198310>"
            ]
          },
          "metadata": {},
          "execution_count": 26
        }
      ]
    },
    {
      "cell_type": "markdown",
      "source": [
        "Visualise the loss and accuracy for each epoch"
      ],
      "metadata": {
        "id": "G9DPmZDDXEnt"
      }
    },
    {
      "cell_type": "code",
      "source": [
        "# summarize history for loss\n",
        "plt.plot(my_model.best_model.history.history['loss'])\n",
        "plt.title('model loss')\n",
        "plt.ylabel('loss')\n",
        "plt.xlabel('epoch')\n",
        "plt.legend(['train', 'test'], loc='upper left')\n",
        "plt.show()"
      ],
      "metadata": {
        "id": "84wnXBf0XDyz",
        "outputId": "830845f8-0a5d-4dce-aecb-2aa8382c46cd",
        "colab": {
          "base_uri": "https://localhost:8080/",
          "height": 295
        }
      },
      "execution_count": 27,
      "outputs": [
        {
          "output_type": "display_data",
          "data": {
            "text/plain": [
              "<Figure size 432x288 with 1 Axes>"
            ],
            "image/png": "[encoded data removed]"
          },
          "metadata": {
            "needs_background": "light"
          }
        }
      ]
    },
    {
      "cell_type": "code",
      "source": [
        "# summarize history for accuracy\n",
        "plt.plot(my_model.best_model.history.history['accuracy'])\n",
        "plt.title('model accuracy')\n",
        "plt.ylabel('accuracy')\n",
        "plt.xlabel('epoch')\n",
        "plt.legend(['train', 'test'], loc='upper left')\n",
        "plt.show()"
      ],
      "metadata": {
        "id": "c_bC8ZieW5fQ",
        "colab": {
          "base_uri": "https://localhost:8080/",
          "height": 295
        },
        "outputId": "e32e3a5b-26f6-4eaf-fd0f-ee981c28384a"
      },
      "execution_count": 28,
      "outputs": [
        {
          "output_type": "display_data",
          "data": {
            "text/plain": [
              "<Figure size 432x288 with 1 Axes>"
            ],
            "image/png": "[encoded data removed]"
          },
          "metadata": {
            "needs_background": "light"
          }
        }
      ]
    },
    {
      "cell_type": "code",
      "execution_count": 29,
      "metadata": {
        "id": "kwOiqNee7goj",
        "colab": {
          "base_uri": "https://localhost:8080/"
        },
        "outputId": "fd8db1ee-37d2-4d5a-a815-6a5172a6832e"
      },
      "outputs": [
        {
          "output_type": "stream",
          "name": "stdout",
          "text": [
            "1/1 [==============================] - 0s 249ms/step\n"
          ]
        }
      ],
      "source": [
        "# use your model to make a prediction on unseen data\n",
        "y_pred = my_model.best_model.predict(x_test_processed,batch_size=my_model.BATCH)\n",
        "#convert values\n",
        "y_pred = (y_pred>my_model.THR)"
      ]
    },
    {
      "cell_type": "code",
      "execution_count": 30,
      "metadata": {
        "id": "VGgleoej7gok",
        "outputId": "1e484539-0569-4b1e-e0c6-fad0dab1a925",
        "colab": {
          "base_uri": "https://localhost:8080/",
          "height": 331
        }
      },
      "outputs": [
        {
          "output_type": "stream",
          "name": "stdout",
          "text": [
            "Accuracy: 65.71 %\n",
            "Weighted ROC AUC accuracy: 64.91 %\n",
            "Confusion matrix:\n"
          ]
        },
        {
          "output_type": "display_data",
          "data": {
            "text/plain": [
              "<Figure size 432x288 with 2 Axes>"
            ],
            "image/png": "[encoded data removed]"
          },
          "metadata": {
            "needs_background": "light"
          }
        }
      ],
      "source": [
        "# Asssess the accuracy of your model and explain your key findings\n",
        "# Generate confusion matrix\n",
        "from sklearn.metrics import confusion_matrix, accuracy_score, roc_auc_score, ConfusionMatrixDisplay\n",
        "cm = confusion_matrix(y_test, y_pred)\n",
        "score = accuracy_score(y_test, y_pred)\n",
        "print(\"Accuracy: {:.2f} %\".format(score*100))\n",
        "print(\"Weighted ROC AUC accuracy: {:.2f} %\".format(roc_auc_score(y_test, y_pred, average='weighted')*100))\n",
        "print(\"Confusion matrix:\")\n",
        "disp = ConfusionMatrixDisplay(cm)\n",
        "disp.plot()\n",
        "plt.show()\n"
      ]
    },
    {
      "cell_type": "markdown",
      "source": [
        "**Model is approx 65-70% accurate at predicting whether cancer recurrence will occur.**\n",
        "\n",
        "**Crucially, the proportion of False Negatives is low (<=10%). In cancer diagnosis these are the outcomes that we want to minimise. False Positives, whilst undesirable, will likely lead to further diagnostic testing before it is realised that cancer is not present.**"
      ],
      "metadata": {
        "id": "UMNN4P_E07L6"
      }
    },
    {
      "cell_type": "markdown",
      "metadata": {
        "id": "VDU85k7J7gok"
      },
      "source": [
        "### Unit tests:"
      ]
    },
    {
      "cell_type": "markdown",
      "metadata": {
        "id": "uq2QRpri7gol"
      },
      "source": [
        "###Checking training and test data for null values. This will work for both pd dataframes and np arrays, and ensures no null values exist."
      ]
    },
    {
      "cell_type": "code",
      "execution_count": 31,
      "metadata": {
        "id": "oUeh38w_7gol"
      },
      "outputs": [],
      "source": [
        "def test_no_nulls(data):\n",
        "    \"\"\" Assert no null values within pd dataframe or np array \"\"\"\n",
        "    \n",
        "    # if data is numpy array, handle accordingly\n",
        "    if isinstance(data, (np.ndarray)):\n",
        "        assert not np.isnan(np.min(data))\n",
        "    \n",
        "    # if not np array, assume data is pandas dataframe\n",
        "    else:\n",
        "        assert data.isna().sum().sum() == 0"
      ]
    },
    {
      "cell_type": "code",
      "execution_count": 32,
      "metadata": {
        "id": "BV9Z1F3i7gom"
      },
      "outputs": [],
      "source": [
        "# run null data unit test on both training and test data\n",
        "test_no_nulls(x_train_processed)\n",
        "test_no_nulls(x_test_processed)"
      ]
    }
  ],
  "metadata": {
    "colab": {
      "collapsed_sections": [],
      "name": "Copy of KSVC.ipynb",
      "provenance": [],
      "include_colab_link": true
    },
    "kernelspec": {
      "display_name": "Python 3 (ipykernel)",
      "language": "python",
      "name": "python3"
    },
    "language_info": {
      "codemirror_mode": {
        "name": "ipython",
        "version": 3
      },
      "file_extension": ".py",
      "mimetype": "text/x-python",
      "name": "python",
      "nbconvert_exporter": "python",
      "pygments_lexer": "ipython3",
      "version": "3.9.7"
    }
  },
  "nbformat": 4,
  "nbformat_minor": 0
}