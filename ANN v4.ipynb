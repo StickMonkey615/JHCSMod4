{
  "cells": [
    {
      "cell_type": "markdown",
      "metadata": {
        "id": "view-in-github",
        "colab_type": "text"
      },
      "source": [
        "<a href=\"https://colab.research.google.com/github/StickMonkey615/JHCSMod4/blob/main/ANN%20v4.ipynb\" target=\"_parent\"><img src=\"https://colab.research.google.com/assets/colab-badge.svg\" alt=\"Open In Colab\"/></a>"
      ]
    },
    {
      "cell_type": "markdown",
      "metadata": {
        "id": "iRn73TIW7gn9"
      },
      "source": [
        "# Module 4 Guidance\n",
        "\n",
        "This notebook is a template for module 4b and 4c, which will be tested in Google Colab, your code needs to run there.\n",
        "The structure has been provided to improve consistency and make it easier for markers to understand your code but still give students the flexibility to be creative.  You need to populate the required functions to solve this problem.  All dependencies should be documented in the next cell.\n",
        "\n",
        "You can:\n",
        "    add further cells or text blocks to extend or further explain your solution\n",
        "    add further functions\n",
        "\n",
        "Dont:\n",
        "    rename functions\n",
        "   "
      ]
    },
    {
      "cell_type": "code",
      "execution_count": 1,
      "metadata": {
        "id": "ZxOsuHxz7goC",
        "colab": {
          "base_uri": "https://localhost:8080/"
        },
        "outputId": "b714a7d3-97cb-41e7-b3f5-f41710e9c0e3"
      },
      "outputs": [
        {
          "output_type": "stream",
          "name": "stdout",
          "text": [
            "Looking in indexes: https://pypi.org/simple, https://us-python.pkg.dev/colab-wheels/public/simple/\n",
            "Collecting keras-tuner\n",
            "  Downloading keras_tuner-1.1.3-py3-none-any.whl (135 kB)\n",
            "\u001b[K     |████████████████████████████████| 135 kB 6.6 MB/s \n",
            "\u001b[?25hRequirement already satisfied: requests in /usr/local/lib/python3.7/dist-packages (from keras-tuner) (2.23.0)\n",
            "Requirement already satisfied: tensorboard in /usr/local/lib/python3.7/dist-packages (from keras-tuner) (2.8.0)\n",
            "Collecting kt-legacy\n",
            "  Downloading kt_legacy-1.0.4-py3-none-any.whl (9.6 kB)\n",
            "Requirement already satisfied: packaging in /usr/local/lib/python3.7/dist-packages (from keras-tuner) (21.3)\n",
            "Requirement already satisfied: numpy in /usr/local/lib/python3.7/dist-packages (from keras-tuner) (1.21.6)\n",
            "Requirement already satisfied: ipython in /usr/local/lib/python3.7/dist-packages (from keras-tuner) (7.9.0)\n",
            "Requirement already satisfied: decorator in /usr/local/lib/python3.7/dist-packages (from ipython->keras-tuner) (4.4.2)\n",
            "Requirement already satisfied: traitlets>=4.2 in /usr/local/lib/python3.7/dist-packages (from ipython->keras-tuner) (5.1.1)\n",
            "Requirement already satisfied: prompt-toolkit<2.1.0,>=2.0.0 in /usr/local/lib/python3.7/dist-packages (from ipython->keras-tuner) (2.0.10)\n",
            "Requirement already satisfied: pickleshare in /usr/local/lib/python3.7/dist-packages (from ipython->keras-tuner) (0.7.5)\n",
            "Requirement already satisfied: pygments in /usr/local/lib/python3.7/dist-packages (from ipython->keras-tuner) (2.6.1)\n",
            "Requirement already satisfied: backcall in /usr/local/lib/python3.7/dist-packages (from ipython->keras-tuner) (0.2.0)\n",
            "Requirement already satisfied: setuptools>=18.5 in /usr/local/lib/python3.7/dist-packages (from ipython->keras-tuner) (57.4.0)\n",
            "Collecting jedi>=0.10\n",
            "  Downloading jedi-0.18.1-py2.py3-none-any.whl (1.6 MB)\n",
            "\u001b[K     |████████████████████████████████| 1.6 MB 15.2 MB/s \n",
            "\u001b[?25hRequirement already satisfied: pexpect in /usr/local/lib/python3.7/dist-packages (from ipython->keras-tuner) (4.8.0)\n",
            "Requirement already satisfied: parso<0.9.0,>=0.8.0 in /usr/local/lib/python3.7/dist-packages (from jedi>=0.10->ipython->keras-tuner) (0.8.3)\n",
            "Requirement already satisfied: wcwidth in /usr/local/lib/python3.7/dist-packages (from prompt-toolkit<2.1.0,>=2.0.0->ipython->keras-tuner) (0.2.5)\n",
            "Requirement already satisfied: six>=1.9.0 in /usr/local/lib/python3.7/dist-packages (from prompt-toolkit<2.1.0,>=2.0.0->ipython->keras-tuner) (1.15.0)\n",
            "Requirement already satisfied: pyparsing!=3.0.5,>=2.0.2 in /usr/local/lib/python3.7/dist-packages (from packaging->keras-tuner) (3.0.9)\n",
            "Requirement already satisfied: ptyprocess>=0.5 in /usr/local/lib/python3.7/dist-packages (from pexpect->ipython->keras-tuner) (0.7.0)\n",
            "Requirement already satisfied: idna<3,>=2.5 in /usr/local/lib/python3.7/dist-packages (from requests->keras-tuner) (2.10)\n",
            "Requirement already satisfied: urllib3!=1.25.0,!=1.25.1,<1.26,>=1.21.1 in /usr/local/lib/python3.7/dist-packages (from requests->keras-tuner) (1.24.3)\n",
            "Requirement already satisfied: certifi>=2017.4.17 in /usr/local/lib/python3.7/dist-packages (from requests->keras-tuner) (2022.6.15)\n",
            "Requirement already satisfied: chardet<4,>=3.0.2 in /usr/local/lib/python3.7/dist-packages (from requests->keras-tuner) (3.0.4)\n",
            "Requirement already satisfied: wheel>=0.26 in /usr/local/lib/python3.7/dist-packages (from tensorboard->keras-tuner) (0.37.1)\n",
            "Requirement already satisfied: werkzeug>=0.11.15 in /usr/local/lib/python3.7/dist-packages (from tensorboard->keras-tuner) (1.0.1)\n",
            "Requirement already satisfied: google-auth-oauthlib<0.5,>=0.4.1 in /usr/local/lib/python3.7/dist-packages (from tensorboard->keras-tuner) (0.4.6)\n",
            "Requirement already satisfied: grpcio>=1.24.3 in /usr/local/lib/python3.7/dist-packages (from tensorboard->keras-tuner) (1.48.1)\n",
            "Requirement already satisfied: protobuf>=3.6.0 in /usr/local/lib/python3.7/dist-packages (from tensorboard->keras-tuner) (3.17.3)\n",
            "Requirement already satisfied: tensorboard-data-server<0.7.0,>=0.6.0 in /usr/local/lib/python3.7/dist-packages (from tensorboard->keras-tuner) (0.6.1)\n",
            "Requirement already satisfied: markdown>=2.6.8 in /usr/local/lib/python3.7/dist-packages (from tensorboard->keras-tuner) (3.4.1)\n",
            "Requirement already satisfied: absl-py>=0.4 in /usr/local/lib/python3.7/dist-packages (from tensorboard->keras-tuner) (1.2.0)\n",
            "Requirement already satisfied: tensorboard-plugin-wit>=1.6.0 in /usr/local/lib/python3.7/dist-packages (from tensorboard->keras-tuner) (1.8.1)\n",
            "Requirement already satisfied: google-auth<3,>=1.6.3 in /usr/local/lib/python3.7/dist-packages (from tensorboard->keras-tuner) (1.35.0)\n",
            "Requirement already satisfied: rsa<5,>=3.1.4 in /usr/local/lib/python3.7/dist-packages (from google-auth<3,>=1.6.3->tensorboard->keras-tuner) (4.9)\n",
            "Requirement already satisfied: cachetools<5.0,>=2.0.0 in /usr/local/lib/python3.7/dist-packages (from google-auth<3,>=1.6.3->tensorboard->keras-tuner) (4.2.4)\n",
            "Requirement already satisfied: pyasn1-modules>=0.2.1 in /usr/local/lib/python3.7/dist-packages (from google-auth<3,>=1.6.3->tensorboard->keras-tuner) (0.2.8)\n",
            "Requirement already satisfied: requests-oauthlib>=0.7.0 in /usr/local/lib/python3.7/dist-packages (from google-auth-oauthlib<0.5,>=0.4.1->tensorboard->keras-tuner) (1.3.1)\n",
            "Requirement already satisfied: importlib-metadata>=4.4 in /usr/local/lib/python3.7/dist-packages (from markdown>=2.6.8->tensorboard->keras-tuner) (4.12.0)\n",
            "Requirement already satisfied: zipp>=0.5 in /usr/local/lib/python3.7/dist-packages (from importlib-metadata>=4.4->markdown>=2.6.8->tensorboard->keras-tuner) (3.8.1)\n",
            "Requirement already satisfied: typing-extensions>=3.6.4 in /usr/local/lib/python3.7/dist-packages (from importlib-metadata>=4.4->markdown>=2.6.8->tensorboard->keras-tuner) (4.1.1)\n",
            "Requirement already satisfied: pyasn1<0.5.0,>=0.4.6 in /usr/local/lib/python3.7/dist-packages (from pyasn1-modules>=0.2.1->google-auth<3,>=1.6.3->tensorboard->keras-tuner) (0.4.8)\n",
            "Requirement already satisfied: oauthlib>=3.0.0 in /usr/local/lib/python3.7/dist-packages (from requests-oauthlib>=0.7.0->google-auth-oauthlib<0.5,>=0.4.1->tensorboard->keras-tuner) (3.2.0)\n",
            "Installing collected packages: jedi, kt-legacy, keras-tuner\n",
            "Successfully installed jedi-0.18.1 keras-tuner-1.1.3 kt-legacy-1.0.4\n"
          ]
        }
      ],
      "source": [
        "# Fixed dependencies - do not remove or change.\n",
        "import pytest\n",
        "import pandas as pd\n",
        "import numpy as np\n",
        "from google.colab import drive\n",
        "# drive.mount('/content/gdrive/')\n",
        "# Import your dependencies\n",
        "!pip install --upgrade xlrd > 1.2.0\n",
        "import xlrd\n",
        "import matplotlib.pyplot as plt\n",
        "import seaborn as sb\n",
        "import tensorflow as tf\n",
        "import keras\n",
        "!pip install keras-tuner --upgrade\n",
        "import keras_tuner as kt"
      ]
    },
    {
      "cell_type": "code",
      "execution_count": 2,
      "metadata": {
        "id": "1m_gmKQP7goE"
      },
      "outputs": [],
      "source": [
        "# Import data\n",
        "\n",
        "def import_local_data(file_path):\n",
        "    \"\"\"This function needs to import the data file into collab and return a pandas dataframe\n",
        "    \"\"\"\n",
        "    raw_df = pd.read_excel(file_path)\n",
        "    return raw_df"
      ]
    },
    {
      "cell_type": "code",
      "execution_count": 3,
      "metadata": {
        "id": "cIljHljB7goF"
      },
      "outputs": [],
      "source": [
        "local_file_path = \"breast-cancer.xls\""
      ]
    },
    {
      "cell_type": "code",
      "execution_count": 4,
      "metadata": {
        "id": "LCu51H5Z7goF"
      },
      "outputs": [],
      "source": [
        "# Dont change\n",
        "raw_data = import_local_data(local_file_path)"
      ]
    },
    {
      "cell_type": "markdown",
      "metadata": {
        "id": "U9WDYKUP7goG"
      },
      "source": [
        "### Conduct exploratory data analysis and explain your key findings - Examine the data, explain its key features and what they look like.  Highlight any fields that are anomalous."
      ]
    },
    {
      "cell_type": "code",
      "source": [
        "# Look at the different dataframe column headings\n",
        "print(raw_data.columns)"
      ],
      "metadata": {
        "colab": {
          "base_uri": "https://localhost:8080/"
        },
        "id": "HkjdfYHGiz7a",
        "outputId": "ae509b3c-7af8-4e98-a7d4-1a9804ea4b61"
      },
      "execution_count": 5,
      "outputs": [
        {
          "output_type": "stream",
          "name": "stdout",
          "text": [
            "Index(['age', 'menopause', 'tumor-size', 'inv-nodes', 'node-caps', 'deg-malig',\n",
            "       'breast', 'breast-quad', 'irradiat', 'Class'],\n",
            "      dtype='object')\n"
          ]
        }
      ]
    },
    {
      "cell_type": "code",
      "source": [
        "# Determine data types for each column\n",
        "for i in range(0, len(raw_data.columns)):\n",
        "    print(type(raw_data.values[1][i]))"
      ],
      "metadata": {
        "colab": {
          "base_uri": "https://localhost:8080/"
        },
        "id": "oKqjAI-XigbI",
        "outputId": "00c767bf-bae4-4c7b-ea38-4d975041ac14"
      },
      "execution_count": 6,
      "outputs": [
        {
          "output_type": "stream",
          "name": "stdout",
          "text": [
            "<class 'str'>\n",
            "<class 'str'>\n",
            "<class 'str'>\n",
            "<class 'str'>\n",
            "<class 'str'>\n",
            "<class 'int'>\n",
            "<class 'str'>\n",
            "<class 'str'>\n",
            "<class 'str'>\n",
            "<class 'str'>\n"
          ]
        }
      ]
    },
    {
      "cell_type": "code",
      "source": [
        "#Look at the range of values for each field\n",
        "from collections import Counter\n",
        "rng_vals=[]\n",
        "for i in range(0,len(raw_data.columns)):\n",
        "    rng_vals.append(Counter(raw_data.iloc[:,i].values))\n",
        "    print(f\"{raw_data.columns[i]}: {rng_vals[i]}\")\n",
        "del rng_vals, i"
      ],
      "metadata": {
        "id": "-lQUCdTe36Dp",
        "outputId": "eb94a259-a232-4d5d-ebac-385fe8dfecff",
        "colab": {
          "base_uri": "https://localhost:8080/"
        }
      },
      "execution_count": 7,
      "outputs": [
        {
          "output_type": "stream",
          "name": "stdout",
          "text": [
            "age: Counter({'50-59': 96, '40-49': 90, '60-69': 57, '30-39': 36, '70-79': 6, '20-29': 1})\n",
            "menopause: Counter({'premeno': 150, 'ge40': 129, 'lt40': 7})\n",
            "tumor-size: Counter({'30-34': 60, '25-29': 54, '20-24': 50, '15-19': 30, datetime.datetime(2014, 10, 1, 0, 0): 28, '40-44': 22, '35-39': 19, '0-4': 8, '50-54': 8, datetime.datetime(2019, 9, 5, 0, 0): 4, '45-49': 3})\n",
            "inv-nodes: Counter({'0-2': 213, datetime.datetime(2019, 5, 3, 0, 0): 36, datetime.datetime(2019, 8, 6, 0, 0): 17, datetime.datetime(2019, 11, 9, 0, 0): 10, '15-17': 6, datetime.datetime(2014, 12, 1, 0, 0): 3, '24-26': 1})\n",
            "node-caps: Counter({'no': 222, 'yes': 56, '?': 8})\n",
            "deg-malig: Counter({2: 130, 3: 85, 1: 71})\n",
            "breast: Counter({'left': 152, 'right': 134})\n",
            "breast-quad: Counter({'left_low': 110, 'left_up': 97, 'right_up': 33, 'right_low': 24, 'central': 21, '?': 1})\n",
            "irradiat: Counter({'no': 218, 'yes': 68})\n",
            "Class: Counter({'no-recurrence-events': 201, 'recurrence-events': 85})\n"
          ]
        }
      ]
    },
    {
      "cell_type": "markdown",
      "source": [
        "**All fields look to contain data that is catagorical in nature.**\n",
        "\n",
        "**Some contain data that appears erroneous:**\n",
        " \n",
        "*   **'tumor-size' and 'inv-nodes' appear to contain some data in a datetime format and some in string.**\n",
        "*   **'node-caps' and 'breast-quad' contain Question Marks.**\n",
        "\n",
        "**Need a way to address these erroneous data inputs.**\n",
        "\n"
      ],
      "metadata": {
        "id": "lALFUx2EEQF0"
      }
    },
    {
      "cell_type": "code",
      "source": [
        "# Look in more detail at the columns with datetime data.\n",
        "print(raw_data.iloc[:, 2].values)"
      ],
      "metadata": {
        "colab": {
          "base_uri": "https://localhost:8080/"
        },
        "id": "1IetVwnCr3XI",
        "outputId": "e11a3b05-ca50-4ce7-b25d-34bfc46c3818"
      },
      "execution_count": 8,
      "outputs": [
        {
          "output_type": "stream",
          "name": "stdout",
          "text": [
            "['15-19' '15-19' '35-39' '35-39' '30-34' '25-29' '40-44'\n",
            " datetime.datetime(2014, 10, 1, 0, 0) '0-4' '40-44' '25-29' '15-19'\n",
            " '30-34' '25-29' '25-29' '20-24' datetime.datetime(2014, 10, 1, 0, 0)\n",
            " '15-19' '40-44' '20-24' '20-24' '40-44' '15-19'\n",
            " datetime.datetime(2014, 10, 1, 0, 0) '15-19' '20-24'\n",
            " datetime.datetime(2014, 10, 1, 0, 0) datetime.datetime(2014, 10, 1, 0, 0)\n",
            " '30-34' '15-19' '30-34' '25-29' '25-29' '20-24' '30-34' '15-19'\n",
            " datetime.datetime(2014, 10, 1, 0, 0) '45-49' '20-24'\n",
            " datetime.datetime(2014, 10, 1, 0, 0) '35-39' '35-39' '25-29' '20-24'\n",
            " '15-19' '30-34' datetime.datetime(2014, 10, 1, 0, 0) '35-39' '50-54'\n",
            " '40-44' '15-19' '30-34' '0-4' '40-44' '25-29' '25-29' '20-24' '35-39'\n",
            " '50-54' '0-4' '40-44' '30-34' '20-24' '30-34' '20-24' '15-19' '25-29'\n",
            " '15-19' '50-54' datetime.datetime(2014, 10, 1, 0, 0) '25-29' '25-29'\n",
            " datetime.datetime(2014, 10, 1, 0, 0) '30-34' '25-29'\n",
            " datetime.datetime(2014, 10, 1, 0, 0) '15-19' '25-29' '25-29' '30-34'\n",
            " '15-19' '25-29' '30-34' '15-19' '0-4' '35-39' '40-44' '25-29' '20-24'\n",
            " '30-34' '20-24' '30-34' '20-24' datetime.datetime(2014, 10, 1, 0, 0)\n",
            " '20-24' '45-49' '40-44' datetime.datetime(2014, 10, 1, 0, 0) '30-34'\n",
            " '35-39' '20-24' '15-19' '30-34' '20-24' '20-24' '30-34' '20-24' '25-29'\n",
            " '30-34' '20-24' '15-19' '30-34' '30-34' '40-44'\n",
            " datetime.datetime(2019, 9, 5, 0, 0) datetime.datetime(2014, 10, 1, 0, 0)\n",
            " '30-34' datetime.datetime(2014, 10, 1, 0, 0) '35-39' '20-24' '30-34'\n",
            " '25-29' '15-19' '35-39' datetime.datetime(2014, 10, 1, 0, 0) '30-34'\n",
            " '30-34' '25-29' '15-19' '15-19' '30-34' '35-39' '30-34' '25-29' '30-34'\n",
            " '15-19' '0-4' '0-4' '50-54' '30-34' '20-24' '25-29' '30-34' '20-24'\n",
            " '15-19' datetime.datetime(2014, 10, 1, 0, 0) '30-34'\n",
            " datetime.datetime(2014, 10, 1, 0, 0) '40-44' '30-34' '50-54' '15-19'\n",
            " '40-44' '25-29' datetime.datetime(2014, 10, 1, 0, 0)\n",
            " datetime.datetime(2014, 10, 1, 0, 0) '30-34' '20-24'\n",
            " datetime.datetime(2014, 10, 1, 0, 0) '25-29' '25-29' '30-34' '50-54'\n",
            " '30-34' '20-24' '30-34' '25-29' '20-24' '20-24' '50-54' '20-24' '30-34'\n",
            " '25-29' '25-29' '40-44' '20-24' '20-24' '25-29' '25-29' '20-24' '40-44'\n",
            " datetime.datetime(2014, 10, 1, 0, 0) '35-39' '30-34'\n",
            " datetime.datetime(2019, 9, 5, 0, 0) '15-19' '30-34' '25-29'\n",
            " datetime.datetime(2019, 9, 5, 0, 0) '25-29' '25-29'\n",
            " datetime.datetime(2014, 10, 1, 0, 0) '35-39' '50-54' '25-29' '20-24'\n",
            " '30-34' '30-34' '15-19' '20-24' datetime.datetime(2019, 9, 5, 0, 0)\n",
            " '30-34' '30-34' '25-29' '25-29' '40-44' '25-29' '30-34' '30-34' '25-29'\n",
            " '25-29' '40-44' '20-24' '25-29' '20-24' '40-44' '25-29' '25-29' '45-49'\n",
            " '20-24' '25-29' '20-24' '20-24' '35-39' '20-24' '30-34' '25-29' '30-34'\n",
            " '25-29' '20-24' '20-24' datetime.datetime(2014, 10, 1, 0, 0) '15-19'\n",
            " '25-29' '20-24' '40-44' '15-19' '30-34' '30-34' '40-44' '30-34'\n",
            " datetime.datetime(2014, 10, 1, 0, 0) '40-44' '30-34' '30-34' '15-19'\n",
            " datetime.datetime(2014, 10, 1, 0, 0) '20-24'\n",
            " datetime.datetime(2014, 10, 1, 0, 0) '25-29' '30-34'\n",
            " datetime.datetime(2014, 10, 1, 0, 0) '30-34' '0-4' '25-29' '25-29'\n",
            " '40-44' '25-29' '30-34' '20-24' '20-24' '25-29' '30-34' '20-24' '30-34'\n",
            " '0-4' '20-24' '35-39' '30-34' '20-24' '25-29' '35-39' '20-24' '20-24'\n",
            " '35-39' '35-39' '25-29' '35-39' '30-34' '20-24' '15-19' '30-34' '25-29'\n",
            " '30-34' '15-19' '40-44']\n"
          ]
        }
      ]
    },
    {
      "cell_type": "code",
      "source": [
        "# Look at output data\n",
        "raw_data['Class'].value_counts()"
      ],
      "metadata": {
        "colab": {
          "base_uri": "https://localhost:8080/"
        },
        "id": "3HePUlhNvfWF",
        "outputId": "2dfd6794-2af3-429c-fc73-aaa8a68f2bf9"
      },
      "execution_count": 9,
      "outputs": [
        {
          "output_type": "execute_result",
          "data": {
            "text/plain": [
              "no-recurrence-events    201\n",
              "recurrence-events        85\n",
              "Name: Class, dtype: int64"
            ]
          },
          "metadata": {},
          "execution_count": 9
        }
      ]
    },
    {
      "cell_type": "markdown",
      "source": [
        "Only 2 possible outputs, thus needs converting to binary format for use in classifier models."
      ],
      "metadata": {
        "id": "bkV5bQKKwYHj"
      }
    },
    {
      "cell_type": "code",
      "execution_count": 10,
      "metadata": {
        "id": "KMB3eKfC7goU",
        "colab": {
          "base_uri": "https://localhost:8080/"
        },
        "outputId": "3b256fb6-68d4-4389-9b8f-1c284342188e"
      },
      "outputs": [
        {
          "output_type": "stream",
          "name": "stdout",
          "text": [
            "True outputs: 29.72 %\n"
          ]
        }
      ],
      "source": [
        "# Check output balance\n",
        "out = raw_data.iloc[:, -1].values\n",
        "no_rows = len(raw_data)\n",
        "\n",
        "from sklearn.preprocessing import LabelEncoder\n",
        "le = LabelEncoder()\n",
        "code_rows = le.fit_transform(out)\n",
        "print(\"True outputs: {:.2f} %\".format(sum(code_rows)/len(raw_data)*100))\n",
        "pos = sum(code_rows)\n",
        "neg = len(raw_data)-sum(code_rows)\n",
        "del out, no_rows, le, code_rows"
      ]
    },
    {
      "cell_type": "markdown",
      "source": [
        "Clear imbalance between output data. Some degree of bias/weighting/sampling will be required to ensure that results accurately predict outcomes for both True and False outcomes."
      ],
      "metadata": {
        "id": "mMo9-0hTwirc"
      }
    },
    {
      "cell_type": "code",
      "execution_count": 11,
      "metadata": {
        "id": "f02MTYgB7goW"
      },
      "outputs": [],
      "source": [
        "# Explain your key findings"
      ]
    },
    {
      "cell_type": "markdown",
      "source": [
        "**Data set is made up of 9 independent variables all of which appear catagorical in nature. Although stored as an integer, 'deg-malig' can be viewed as  catagorical data as it can only contain 3 discrete values.**\n",
        "\n",
        "**The inclusion of datetime data entries in both the 'tumor-size' and 'inv-nodes' fields appears to be caused by a formatting entry within Excel. For example, '10-14' being input erroneously as 10/14 thus Excel has interpreted (and converted) it to the datetime field 01/10/2014. A function will need to be written within the model to convert these back to correct format.**\n",
        "\n",
        "**How to deal with '?' entries in fields that are otherwise boolean poses an interesting dilemma. If these are infact meant to signify that the presence is unknown because no diagnostic work has been conducted, then this woiuld signify a valid dat entry. If it is however just an incomplete data entry then there is a risk its inclusion could skew the model results. Without knowing which it seems wisest to remove this data from the dataset. Removal of the entire field could well deprive the model of important information, thus just removing these specific entries (rows) appears the most sensible option, particularly noting that there are relatively few occurences.**\n",
        "\n",
        "**Data set is imbalanced, with dependent variable outputs only True in 30% of instances. The model applied will require this imbalance to be taken into account so as not to sacrifice results predicting this smaller class (surely the aim of cancer diagnosis) so as to achieve a high accuracy figure.**\n",
        "\n",
        "**Output variable will need converting into binary output for use with a binary classification model.**"
      ],
      "metadata": {
        "id": "V7OWyLcOrgWJ"
      }
    },
    {
      "cell_type": "markdown",
      "metadata": {
        "id": "SzZj8I8G7goX"
      },
      "source": [
        "Create any data pre-processing that you will conduct on seen and unseen data.  Regardless of the model you use, this dataframe must contain only numeric features and have a strategy for any expected missing values. Any objects can that are needed to handle the test data that are dependent on the training data can be stored in the model class.  You are recommended to use sklearn Pipelines or similar functionality to ensure reproducibility."
      ]
    },
    {
      "cell_type": "code",
      "source": [
        "# Correct date types in 'tumor-size' and 'inv-nodes' variables\n",
        "for i in range(0, len(raw_data)):\n",
        "    if type(raw_data['tumor-size'][i]) is not str:\n",
        "        if raw_data['tumor-size'][i].day == 1:\n",
        "            raw_data['tumor-size'][i] = str(raw_data['tumor-size'][i].month) +'-' + str(raw_data['tumor-size'][i].year-2000)\n",
        "        else:\n",
        "            raw_data['tumor-size'][i] = str(raw_data['tumor-size'][i].day) + '-' + str(raw_data['tumor-size'][i].month)\n",
        "    if type(raw_data['inv-nodes'][i]) is not str:\n",
        "        if raw_data['inv-nodes'][i].day == 1:\n",
        "            raw_data['inv-nodes'][i] = str(raw_data['inv-nodes'][i].month) + '-' + str(raw_data['inv-nodes'][i].year-2000)\n",
        "        else:\n",
        "            raw_data['inv-nodes'][i] = str(raw_data['inv-nodes'][i].day) + '-' + str(raw_data['inv-nodes'][i].month)        "
      ],
      "metadata": {
        "id": "GlZwiMllRpUB",
        "outputId": "62054574-200d-4fce-fec9-eb6249ae6ddc",
        "colab": {
          "base_uri": "https://localhost:8080/"
        }
      },
      "execution_count": 12,
      "outputs": [
        {
          "output_type": "stream",
          "name": "stderr",
          "text": [
            "/usr/local/lib/python3.7/dist-packages/ipykernel_launcher.py:12: SettingWithCopyWarning: \n",
            "A value is trying to be set on a copy of a slice from a DataFrame\n",
            "\n",
            "See the caveats in the documentation: https://pandas.pydata.org/pandas-docs/stable/user_guide/indexing.html#returning-a-view-versus-a-copy\n",
            "  if sys.path[0] == '':\n",
            "/usr/local/lib/python3.7/dist-packages/ipykernel_launcher.py:5: SettingWithCopyWarning: \n",
            "A value is trying to be set on a copy of a slice from a DataFrame\n",
            "\n",
            "See the caveats in the documentation: https://pandas.pydata.org/pandas-docs/stable/user_guide/indexing.html#returning-a-view-versus-a-copy\n",
            "  \"\"\"\n",
            "/usr/local/lib/python3.7/dist-packages/ipykernel_launcher.py:7: SettingWithCopyWarning: \n",
            "A value is trying to be set on a copy of a slice from a DataFrame\n",
            "\n",
            "See the caveats in the documentation: https://pandas.pydata.org/pandas-docs/stable/user_guide/indexing.html#returning-a-view-versus-a-copy\n",
            "  import sys\n",
            "/usr/local/lib/python3.7/dist-packages/ipykernel_launcher.py:10: SettingWithCopyWarning: \n",
            "A value is trying to be set on a copy of a slice from a DataFrame\n",
            "\n",
            "See the caveats in the documentation: https://pandas.pydata.org/pandas-docs/stable/user_guide/indexing.html#returning-a-view-versus-a-copy\n",
            "  # Remove the CWD from sys.path while we load stuff.\n"
          ]
        }
      ]
    },
    {
      "cell_type": "code",
      "source": [
        "# Remove all rows containing ? data\n",
        "indx = raw_data[raw_data.isin(['?'])].stack(dropna=True).unstack().index\n",
        "print(f\"indx: {indx}\")\n",
        "raw_data = raw_data.drop(index=indx)"
      ],
      "metadata": {
        "id": "ThhbSU5gPBYA",
        "outputId": "a800a455-db75-454c-a145-92abcbaf4275",
        "colab": {
          "base_uri": "https://localhost:8080/"
        }
      },
      "execution_count": 13,
      "outputs": [
        {
          "output_type": "stream",
          "name": "stdout",
          "text": [
            "indx: Int64Index([20, 31, 50, 54, 71, 92, 149, 240, 264], dtype='int64')\n"
          ]
        }
      ]
    },
    {
      "cell_type": "code",
      "execution_count": 14,
      "metadata": {
        "id": "WIh9_0pp7goY"
      },
      "outputs": [],
      "source": [
        "# Split your data so that you can test the effectiveness of your model\n",
        "# Split the data into a Training set and a Test set\n",
        "dfs = np.split(raw_data, [len(raw_data.columns)-1], axis=1)\n",
        "X = dfs[0]\n",
        "y = dfs[1]\n",
        "\n",
        "# Handle categorical values and drop dummy variable\n",
        "# Remove non-categorical data\n",
        "dm = X.pop('deg-malig')\n",
        "# Encode the catagorical data (dummy variables)\n",
        "proc_X = pd.get_dummies(data=X, prefix_sep='_', drop_first=True)\n",
        "# Add back in non-categorical data\n",
        "proc_X.insert(0, 'deg-malig', dm)\n",
        "\n",
        "from sklearn.model_selection import train_test_split\n",
        "X_train, X_test, y_train, y_test = train_test_split(proc_X, y, test_size = 0.25, random_state = 42)\n",
        "X_train, X_val, y_train, y_val = train_test_split(X_train, y_train, test_size = 0.2, random_state = 42)"
      ]
    },
    {
      "cell_type": "code",
      "source": [
        "# Calculate class weights\n",
        "weight_0 = (1 / neg) * ((pos + neg) / 2)\n",
        "weight_1 = (1 / pos) * ((pos + neg) / 2)\n",
        "class_weight = np.log([pos/neg])\n",
        "class_weight_dict = {0: weight_0, 1: weight_1}\n",
        "print(f\"Weight for 0: {weight_0}\")\n",
        "print(f\"Weight for 1: {weight_1}\")"
      ],
      "metadata": {
        "id": "CtCPaYUj8dcn",
        "outputId": "37f6b659-cea8-4448-9abd-2f0c461e8eee",
        "colab": {
          "base_uri": "https://localhost:8080/"
        }
      },
      "execution_count": 15,
      "outputs": [
        {
          "output_type": "stream",
          "name": "stdout",
          "text": [
            "Weight for 0: 0.7114427860696517\n",
            "Weight for 1: 1.6823529411764706\n"
          ]
        }
      ]
    },
    {
      "cell_type": "code",
      "execution_count": 16,
      "metadata": {
        "id": "AbOQACY77goY"
      },
      "outputs": [],
      "source": [
        "# Populate preprocess_training_data and preprocess_test_data to preprocess data.\n",
        "# You must process test and train separately so your model does not accidently gain information that a model wouldnt have in reality and therefore get better predictions"
      ]
    },
    {
      "cell_type": "code",
      "execution_count": 17,
      "metadata": {
        "id": "Xsq2f8747goZ"
      },
      "outputs": [],
      "source": [
        "from keras.layers.advanced_activations import LeakyReLU\n",
        "class Module4_Model:\n",
        "    \n",
        "    def __init__(self):\n",
        "        self.model = None\n",
        "        self.metrics = [\n",
        "            keras.metrics.TruePositives(name='tp'),\n",
        "            keras.metrics.FalsePositives(name='fp'),\n",
        "            keras.metrics.TrueNegatives(name='tn'),\n",
        "            keras.metrics.FalseNegatives(name='fn'),\n",
        "            keras.metrics.BinaryAccuracy(name='accuracy'),\n",
        "            keras.metrics.Recall(name='recall'),\n",
        "            keras.metrics.Precision(name='precision'),\n",
        "            keras.metrics.AUC(name='prc', curve='PR'),\n",
        "        ]\n",
        "        self.EPOCHS = 500\n",
        "        self.BATCH = 100\n",
        "        self.THR = 0.3\n",
        "        self.stop_crit = keras.callbacks.EarlyStopping(\n",
        "            monitor='val_prc',\n",
        "            verbose=1,\n",
        "            patience=50,\n",
        "            mode='max',\n",
        "            restore_best_weights=True)\n",
        "\n",
        "    def preprocess_training_data(self, training_df):\n",
        "        \"\"\"\n",
        "        This function should process the training data and store any features\n",
        "        required in the class\n",
        "        \"\"\"         \n",
        "        # Apply feature scaling\n",
        "        from sklearn.preprocessing import StandardScaler\n",
        "        sc = StandardScaler()\n",
        "        processed_df = sc.fit_transform(training_df)\n",
        "        return processed_df, sc\n",
        "\n",
        "    def preprocess_test_data(self, test_df):\n",
        "        \"\"\"\n",
        "        This function should process the test data and store any features\n",
        "        required in the class\n",
        "        \"\"\"\n",
        "        # Apply feature scaling\n",
        "        processed_df = self.scalar.transform(test_df)\n",
        "        return processed_df\n",
        "\n",
        "    def make_model(self,hp):\n",
        "        model = keras.Sequential()\n",
        "        output_bias = keras.initializers.Constant(class_weight)\n",
        "        # Tune the number of units in each layer\n",
        "        hp_units1 = hp.Int('units1',min_value=16,max_value=128,step=2)\n",
        "        hp_units2 = hp.Int('units2',min_value=16,max_value=64,step=2)\n",
        "        hp_units3 = hp.Int('units3',min_value=16,max_value=32,step=2)\n",
        "\n",
        "        model.add(Dense(hp_units1,\n",
        "                        activation=hp.Choice(\n",
        "                            name='dense_activation',\n",
        "                            values=['relu','selu','leaky-relu'],\n",
        "                            default='selu'),\n",
        "                        input_shape=(x_train_processed.shape[-1],),\n",
        "                        kernel_initializer='lecun_normal'\n",
        "                        ))\n",
        "        #model.add(Dropout(0.5))\n",
        "        model.add(Dense(hp_units2,\n",
        "                        activation=hp.Choice(\n",
        "                            name='dense_activation',\n",
        "                            values=['relu','selu','leaky-relu'],\n",
        "                            default='leaky-relu'),\n",
        "                        kernel_initializer='lecun_normal'\n",
        "                        ))\n",
        "        model.add(Dense(hp_units3,\n",
        "                        activation=hp.Choice(\n",
        "                            name='dense_activation',\n",
        "                            values=['relu','selu','leaky-relu'],\n",
        "                            default='leaky-relu'),\n",
        "                        kernel_initializer='lecun_normal'\n",
        "                        ))\n",
        "        model.add(Dense(1,kernel_initializer='normal',activation='sigmoid',bias_initializer=output_bias))\n",
        "        hp_learning_rate = hp.Choice('learning_rate',values=[1e-2, 1e-3, 1e-4])\n",
        "\n",
        "        model.compile(\n",
        "            optimizer=tf.keras.optimizers.Adam(learning_rate=hp_learning_rate),\n",
        "            loss=keras.losses.BinaryCrossentropy(),\n",
        "            metrics=self.metrics)\n",
        "        \n",
        "        return model\n"
      ]
    },
    {
      "cell_type": "code",
      "execution_count": 18,
      "metadata": {
        "id": "F3LiNNCb7goa"
      },
      "outputs": [],
      "source": [
        "# Dont change\n",
        "my_model = Module4_Model()"
      ]
    },
    {
      "cell_type": "code",
      "execution_count": 19,
      "metadata": {
        "id": "ZQD7WPdN7god"
      },
      "outputs": [],
      "source": [
        "# Dont change\n",
        "x_train_processed, my_model.scalar = my_model.preprocess_training_data(X_train)\n",
        "x_val_processed = my_model.preprocess_test_data(X_val)"
      ]
    },
    {
      "cell_type": "code",
      "source": [
        "# Encode the output data\n",
        "from sklearn.preprocessing import LabelEncoder\n",
        "lb = LabelEncoder()\n",
        "y_train = pd.DataFrame(lb.fit_transform(y_train))\n",
        "y_val = pd.DataFrame(lb.transform(y_val))\n",
        "y_test = pd.DataFrame(lb.transform(y_test))"
      ],
      "metadata": {
        "id": "xZNGF1UxWGU5",
        "outputId": "a9499ecc-3de9-444b-924c-c74e819a8f56",
        "colab": {
          "base_uri": "https://localhost:8080/"
        }
      },
      "execution_count": 20,
      "outputs": [
        {
          "output_type": "stream",
          "name": "stderr",
          "text": [
            "/usr/local/lib/python3.7/dist-packages/sklearn/preprocessing/_label.py:115: DataConversionWarning: A column-vector y was passed when a 1d array was expected. Please change the shape of y to (n_samples, ), for example using ravel().\n",
            "  y = column_or_1d(y, warn=True)\n",
            "/usr/local/lib/python3.7/dist-packages/sklearn/preprocessing/_label.py:133: DataConversionWarning: A column-vector y was passed when a 1d array was expected. Please change the shape of y to (n_samples, ), for example using ravel().\n",
            "  y = column_or_1d(y, warn=True)\n"
          ]
        }
      ]
    },
    {
      "cell_type": "code",
      "execution_count": 21,
      "metadata": {
        "id": "XnLHgaXS7goe"
      },
      "outputs": [],
      "source": [
        "# Create a model\n",
        "from keras.models import Sequential\n",
        "from keras.layers import Dense,Activation\n",
        "from keras.layers import LeakyReLU,ELU,PReLU,Dropout\n",
        "from keras.losses import MeanSquaredLogarithmicError\n",
        "from keras.utils.generic_utils import get_custom_objects\n",
        "\n",
        "msle = MeanSquaredLogarithmicError()\n",
        "get_custom_objects().update({'leaky-relu': Activation(LeakyReLU(alpha=0.3))})"
      ]
    },
    {
      "cell_type": "code",
      "source": [
        "# Utilise HyperBand algorithm from keras tuner to construct model\n",
        "tuner = kt.Hyperband(\n",
        "    my_model.make_model,\n",
        "    objective=kt.Objective('val_prc', direction='max'),\n",
        "    max_epochs=50,\n",
        "    directory='keras_tuner_dir',\n",
        "    project_name='keras_tuner',\n",
        ")\n",
        "tuner.search(x_train_processed,y_train,epochs=10,validation_split=0.2)"
      ],
      "metadata": {
        "id": "p1Ph9bZMV5G6",
        "outputId": "a5dc2ddd-f635-4954-e996-f2a9d1109809",
        "colab": {
          "base_uri": "https://localhost:8080/"
        }
      },
      "execution_count": 22,
      "outputs": [
        {
          "output_type": "stream",
          "name": "stdout",
          "text": [
            "Trial 90 Complete [00h 00m 07s]\n",
            "val_prc: 0.5476101040840149\n",
            "\n",
            "Best val_prc So Far: 0.6971816420555115\n",
            "Total elapsed time: 00h 07m 26s\n"
          ]
        }
      ]
    },
    {
      "cell_type": "code",
      "execution_count": 23,
      "metadata": {
        "id": "rQwUj4lk7goe"
      },
      "outputs": [],
      "source": [
        "# Dont change\n",
        "x_test_processed = my_model.preprocess_test_data(X_test)"
      ]
    },
    {
      "cell_type": "code",
      "source": [
        "for h_param in [f\"units{i}\" for i in range(1,4)] + ['learning_rate']:\n",
        "    print(h_param, tuner.get_best_hyperparameters()[0].get(h_param))"
      ],
      "metadata": {
        "id": "HuWZxfcvYOI4",
        "outputId": "57fc2f58-6e31-4bfd-fabd-03ad0aa5d8fa",
        "colab": {
          "base_uri": "https://localhost:8080/"
        }
      },
      "execution_count": 24,
      "outputs": [
        {
          "output_type": "stream",
          "name": "stdout",
          "text": [
            "units1 106\n",
            "units2 50\n",
            "units3 30\n",
            "learning_rate 0.01\n"
          ]
        }
      ]
    },
    {
      "cell_type": "code",
      "source": [
        "my_model.best_model = tuner.get_best_models()[0]\n",
        "my_model.best_model.build(x_train_processed.shape)\n",
        "my_model.best_model.summary()"
      ],
      "metadata": {
        "id": "Lku4uguEY1ar",
        "outputId": "07ac3f12-9cd2-4fec-e2e7-a4098580700a",
        "colab": {
          "base_uri": "https://localhost:8080/"
        }
      },
      "execution_count": 25,
      "outputs": [
        {
          "output_type": "stream",
          "name": "stdout",
          "text": [
            "Model: \"sequential\"\n",
            "_________________________________________________________________\n",
            " Layer (type)                Output Shape              Param #   \n",
            "=================================================================\n",
            " dense (Dense)               (None, 106)               3392      \n",
            "                                                                 \n",
            " dense_1 (Dense)             (None, 50)                5350      \n",
            "                                                                 \n",
            " dense_2 (Dense)             (None, 30)                1530      \n",
            "                                                                 \n",
            " dense_3 (Dense)             (None, 1)                 31        \n",
            "                                                                 \n",
            "=================================================================\n",
            "Total params: 10,303\n",
            "Trainable params: 10,303\n",
            "Non-trainable params: 0\n",
            "_________________________________________________________________\n"
          ]
        }
      ]
    },
    {
      "cell_type": "code",
      "source": [
        "# Train the best model (with class weights)\n",
        "my_model.best_model.fit(x_train_processed,\n",
        "                   y_train,\n",
        "                   batch_size=my_model.BATCH,\n",
        "                   epochs=my_model.EPOCHS,\n",
        "                   callbacks=[my_model.stop_crit],\n",
        "                   validation_data=(x_val_processed,y_val),\n",
        "                   class_weight=class_weight_dict)"
      ],
      "metadata": {
        "id": "DFAWtazI9LH4",
        "outputId": "365bdd30-3275-47d4-b3d8-23ba93fedea5",
        "colab": {
          "base_uri": "https://localhost:8080/"
        }
      },
      "execution_count": 26,
      "outputs": [
        {
          "output_type": "stream",
          "name": "stdout",
          "text": [
            "Epoch 1/500\n",
            "2/2 [==============================] - 3s 1s/step - loss: 0.5410 - tp: 34.0000 - fp: 5.0000 - tn: 134.0000 - fn: 25.0000 - accuracy: 0.8485 - recall: 0.5763 - precision: 0.8718 - prc: 0.8294 - val_loss: 1.4173 - val_tp: 4.0000 - val_fp: 6.0000 - val_tn: 21.0000 - val_fn: 11.0000 - val_accuracy: 0.5952 - val_recall: 0.2667 - val_precision: 0.4000 - val_prc: 0.4787\n",
            "Epoch 2/500\n",
            "2/2 [==============================] - 0s 43ms/step - loss: 0.4597 - tp: 36.0000 - fp: 6.0000 - tn: 112.0000 - fn: 11.0000 - accuracy: 0.8970 - recall: 0.7660 - precision: 0.8571 - prc: 0.8732 - val_loss: 1.1628 - val_tp: 5.0000 - val_fp: 9.0000 - val_tn: 18.0000 - val_fn: 10.0000 - val_accuracy: 0.5476 - val_recall: 0.3333 - val_precision: 0.3571 - val_prc: 0.4070\n",
            "Epoch 3/500\n",
            "2/2 [==============================] - 0s 39ms/step - loss: 0.3280 - tp: 41.0000 - fp: 16.0000 - tn: 102.0000 - fn: 6.0000 - accuracy: 0.8667 - recall: 0.8723 - precision: 0.7193 - prc: 0.8916 - val_loss: 1.0530 - val_tp: 7.0000 - val_fp: 11.0000 - val_tn: 16.0000 - val_fn: 8.0000 - val_accuracy: 0.5476 - val_recall: 0.4667 - val_precision: 0.3889 - val_prc: 0.4194\n",
            "Epoch 4/500\n",
            "2/2 [==============================] - 0s 43ms/step - loss: 0.2759 - tp: 45.0000 - fp: 24.0000 - tn: 94.0000 - fn: 2.0000 - accuracy: 0.8424 - recall: 0.9574 - precision: 0.6522 - prc: 0.9124 - val_loss: 1.0126 - val_tp: 7.0000 - val_fp: 11.0000 - val_tn: 16.0000 - val_fn: 8.0000 - val_accuracy: 0.5476 - val_recall: 0.4667 - val_precision: 0.3889 - val_prc: 0.5090\n",
            "Epoch 5/500\n",
            "2/2 [==============================] - 0s 41ms/step - loss: 0.2273 - tp: 45.0000 - fp: 17.0000 - tn: 101.0000 - fn: 2.0000 - accuracy: 0.8848 - recall: 0.9574 - precision: 0.7258 - prc: 0.9451 - val_loss: 1.0254 - val_tp: 5.0000 - val_fp: 9.0000 - val_tn: 18.0000 - val_fn: 10.0000 - val_accuracy: 0.5476 - val_recall: 0.3333 - val_precision: 0.3571 - val_prc: 0.5194\n",
            "Epoch 6/500\n",
            "2/2 [==============================] - 0s 38ms/step - loss: 0.1981 - tp: 45.0000 - fp: 8.0000 - tn: 110.0000 - fn: 2.0000 - accuracy: 0.9394 - recall: 0.9574 - precision: 0.8491 - prc: 0.9615 - val_loss: 1.1216 - val_tp: 4.0000 - val_fp: 7.0000 - val_tn: 20.0000 - val_fn: 11.0000 - val_accuracy: 0.5714 - val_recall: 0.2667 - val_precision: 0.3636 - val_prc: 0.5143\n",
            "Epoch 7/500\n",
            "2/2 [==============================] - 0s 38ms/step - loss: 0.1790 - tp: 43.0000 - fp: 6.0000 - tn: 112.0000 - fn: 4.0000 - accuracy: 0.9394 - recall: 0.9149 - precision: 0.8776 - prc: 0.9719 - val_loss: 1.2464 - val_tp: 5.0000 - val_fp: 7.0000 - val_tn: 20.0000 - val_fn: 10.0000 - val_accuracy: 0.5952 - val_recall: 0.3333 - val_precision: 0.4167 - val_prc: 0.5133\n",
            "Epoch 8/500\n",
            "2/2 [==============================] - 0s 38ms/step - loss: 0.1435 - tp: 45.0000 - fp: 6.0000 - tn: 112.0000 - fn: 2.0000 - accuracy: 0.9515 - recall: 0.9574 - precision: 0.8824 - prc: 0.9762 - val_loss: 1.3881 - val_tp: 5.0000 - val_fp: 10.0000 - val_tn: 17.0000 - val_fn: 10.0000 - val_accuracy: 0.5238 - val_recall: 0.3333 - val_precision: 0.3333 - val_prc: 0.5154\n",
            "Epoch 9/500\n",
            "2/2 [==============================] - 0s 39ms/step - loss: 0.1244 - tp: 47.0000 - fp: 8.0000 - tn: 110.0000 - fn: 0.0000e+00 - accuracy: 0.9515 - recall: 1.0000 - precision: 0.8545 - prc: 0.9810 - val_loss: 1.5221 - val_tp: 5.0000 - val_fp: 10.0000 - val_tn: 17.0000 - val_fn: 10.0000 - val_accuracy: 0.5238 - val_recall: 0.3333 - val_precision: 0.3333 - val_prc: 0.5154\n",
            "Epoch 10/500\n",
            "2/2 [==============================] - 0s 39ms/step - loss: 0.1054 - tp: 47.0000 - fp: 8.0000 - tn: 110.0000 - fn: 0.0000e+00 - accuracy: 0.9515 - recall: 1.0000 - precision: 0.8545 - prc: 0.9862 - val_loss: 1.6268 - val_tp: 4.0000 - val_fp: 5.0000 - val_tn: 22.0000 - val_fn: 11.0000 - val_accuracy: 0.6190 - val_recall: 0.2667 - val_precision: 0.4444 - val_prc: 0.5143\n",
            "Epoch 11/500\n",
            "2/2 [==============================] - 0s 45ms/step - loss: 0.0836 - tp: 46.0000 - fp: 5.0000 - tn: 113.0000 - fn: 1.0000 - accuracy: 0.9636 - recall: 0.9787 - precision: 0.9020 - prc: 0.9917 - val_loss: 1.7769 - val_tp: 4.0000 - val_fp: 4.0000 - val_tn: 23.0000 - val_fn: 11.0000 - val_accuracy: 0.6429 - val_recall: 0.2667 - val_precision: 0.5000 - val_prc: 0.4917\n",
            "Epoch 12/500\n",
            "2/2 [==============================] - 0s 39ms/step - loss: 0.0804 - tp: 45.0000 - fp: 4.0000 - tn: 114.0000 - fn: 2.0000 - accuracy: 0.9636 - recall: 0.9574 - precision: 0.9184 - prc: 0.9919 - val_loss: 1.9137 - val_tp: 4.0000 - val_fp: 4.0000 - val_tn: 23.0000 - val_fn: 11.0000 - val_accuracy: 0.6429 - val_recall: 0.2667 - val_precision: 0.5000 - val_prc: 0.4464\n",
            "Epoch 13/500\n",
            "2/2 [==============================] - 0s 39ms/step - loss: 0.0589 - tp: 47.0000 - fp: 4.0000 - tn: 114.0000 - fn: 0.0000e+00 - accuracy: 0.9758 - recall: 1.0000 - precision: 0.9216 - prc: 0.9964 - val_loss: 1.9869 - val_tp: 4.0000 - val_fp: 5.0000 - val_tn: 22.0000 - val_fn: 11.0000 - val_accuracy: 0.6190 - val_recall: 0.2667 - val_precision: 0.4444 - val_prc: 0.4204\n",
            "Epoch 14/500\n",
            "2/2 [==============================] - 0s 41ms/step - loss: 0.0618 - tp: 47.0000 - fp: 5.0000 - tn: 113.0000 - fn: 0.0000e+00 - accuracy: 0.9697 - recall: 1.0000 - precision: 0.9038 - prc: 0.9931 - val_loss: 2.0837 - val_tp: 4.0000 - val_fp: 6.0000 - val_tn: 21.0000 - val_fn: 11.0000 - val_accuracy: 0.5952 - val_recall: 0.2667 - val_precision: 0.4000 - val_prc: 0.4299\n",
            "Epoch 15/500\n",
            "2/2 [==============================] - 0s 39ms/step - loss: 0.0529 - tp: 47.0000 - fp: 3.0000 - tn: 115.0000 - fn: 0.0000e+00 - accuracy: 0.9818 - recall: 1.0000 - precision: 0.9400 - prc: 0.9947 - val_loss: 2.2396 - val_tp: 4.0000 - val_fp: 4.0000 - val_tn: 23.0000 - val_fn: 11.0000 - val_accuracy: 0.6429 - val_recall: 0.2667 - val_precision: 0.5000 - val_prc: 0.4338\n",
            "Epoch 16/500\n",
            "2/2 [==============================] - 0s 40ms/step - loss: 0.0473 - tp: 47.0000 - fp: 3.0000 - tn: 115.0000 - fn: 0.0000e+00 - accuracy: 0.9818 - recall: 1.0000 - precision: 0.9400 - prc: 0.9962 - val_loss: 2.3906 - val_tp: 4.0000 - val_fp: 4.0000 - val_tn: 23.0000 - val_fn: 11.0000 - val_accuracy: 0.6429 - val_recall: 0.2667 - val_precision: 0.5000 - val_prc: 0.4314\n",
            "Epoch 17/500\n",
            "2/2 [==============================] - 0s 36ms/step - loss: 0.0459 - tp: 46.0000 - fp: 2.0000 - tn: 116.0000 - fn: 1.0000 - accuracy: 0.9818 - recall: 0.9787 - precision: 0.9583 - prc: 0.9971 - val_loss: 2.4616 - val_tp: 4.0000 - val_fp: 5.0000 - val_tn: 22.0000 - val_fn: 11.0000 - val_accuracy: 0.6190 - val_recall: 0.2667 - val_precision: 0.4444 - val_prc: 0.4354\n",
            "Epoch 18/500\n",
            "2/2 [==============================] - 0s 38ms/step - loss: 0.0407 - tp: 47.0000 - fp: 3.0000 - tn: 115.0000 - fn: 0.0000e+00 - accuracy: 0.9818 - recall: 1.0000 - precision: 0.9400 - prc: 0.9967 - val_loss: 2.5193 - val_tp: 5.0000 - val_fp: 6.0000 - val_tn: 21.0000 - val_fn: 10.0000 - val_accuracy: 0.6190 - val_recall: 0.3333 - val_precision: 0.4545 - val_prc: 0.4681\n",
            "Epoch 19/500\n",
            "2/2 [==============================] - 0s 38ms/step - loss: 0.0458 - tp: 47.0000 - fp: 3.0000 - tn: 115.0000 - fn: 0.0000e+00 - accuracy: 0.9818 - recall: 1.0000 - precision: 0.9400 - prc: 0.9961 - val_loss: 2.5705 - val_tp: 5.0000 - val_fp: 6.0000 - val_tn: 21.0000 - val_fn: 10.0000 - val_accuracy: 0.6190 - val_recall: 0.3333 - val_precision: 0.4545 - val_prc: 0.4429\n",
            "Epoch 20/500\n",
            "2/2 [==============================] - 0s 38ms/step - loss: 0.0427 - tp: 47.0000 - fp: 3.0000 - tn: 115.0000 - fn: 0.0000e+00 - accuracy: 0.9818 - recall: 1.0000 - precision: 0.9400 - prc: 0.9964 - val_loss: 2.6675 - val_tp: 5.0000 - val_fp: 5.0000 - val_tn: 22.0000 - val_fn: 10.0000 - val_accuracy: 0.6429 - val_recall: 0.3333 - val_precision: 0.5000 - val_prc: 0.4486\n",
            "Epoch 21/500\n",
            "2/2 [==============================] - 0s 44ms/step - loss: 0.0389 - tp: 47.0000 - fp: 3.0000 - tn: 115.0000 - fn: 0.0000e+00 - accuracy: 0.9818 - recall: 1.0000 - precision: 0.9400 - prc: 0.9966 - val_loss: 2.7770 - val_tp: 5.0000 - val_fp: 5.0000 - val_tn: 22.0000 - val_fn: 10.0000 - val_accuracy: 0.6429 - val_recall: 0.3333 - val_precision: 0.5000 - val_prc: 0.4428\n",
            "Epoch 22/500\n",
            "2/2 [==============================] - 0s 33ms/step - loss: 0.0373 - tp: 46.0000 - fp: 2.0000 - tn: 116.0000 - fn: 1.0000 - accuracy: 0.9818 - recall: 0.9787 - precision: 0.9583 - prc: 0.9976 - val_loss: 2.8402 - val_tp: 4.0000 - val_fp: 5.0000 - val_tn: 22.0000 - val_fn: 11.0000 - val_accuracy: 0.6190 - val_recall: 0.2667 - val_precision: 0.4444 - val_prc: 0.4411\n",
            "Epoch 23/500\n",
            "2/2 [==============================] - 0s 30ms/step - loss: 0.0354 - tp: 46.0000 - fp: 2.0000 - tn: 116.0000 - fn: 1.0000 - accuracy: 0.9818 - recall: 0.9787 - precision: 0.9583 - prc: 0.9980 - val_loss: 2.8987 - val_tp: 5.0000 - val_fp: 5.0000 - val_tn: 22.0000 - val_fn: 10.0000 - val_accuracy: 0.6429 - val_recall: 0.3333 - val_precision: 0.5000 - val_prc: 0.4561\n",
            "Epoch 24/500\n",
            "2/2 [==============================] - 0s 31ms/step - loss: 0.0371 - tp: 47.0000 - fp: 3.0000 - tn: 115.0000 - fn: 0.0000e+00 - accuracy: 0.9818 - recall: 1.0000 - precision: 0.9400 - prc: 0.9969 - val_loss: 2.9222 - val_tp: 5.0000 - val_fp: 6.0000 - val_tn: 21.0000 - val_fn: 10.0000 - val_accuracy: 0.6190 - val_recall: 0.3333 - val_precision: 0.4545 - val_prc: 0.4542\n",
            "Epoch 25/500\n",
            "2/2 [==============================] - 0s 31ms/step - loss: 0.0401 - tp: 47.0000 - fp: 3.0000 - tn: 115.0000 - fn: 0.0000e+00 - accuracy: 0.9818 - recall: 1.0000 - precision: 0.9400 - prc: 0.9971 - val_loss: 2.9496 - val_tp: 5.0000 - val_fp: 6.0000 - val_tn: 21.0000 - val_fn: 10.0000 - val_accuracy: 0.6190 - val_recall: 0.3333 - val_precision: 0.4545 - val_prc: 0.4480\n",
            "Epoch 26/500\n",
            "2/2 [==============================] - 0s 33ms/step - loss: 0.0390 - tp: 47.0000 - fp: 3.0000 - tn: 115.0000 - fn: 0.0000e+00 - accuracy: 0.9818 - recall: 1.0000 - precision: 0.9400 - prc: 0.9973 - val_loss: 2.9884 - val_tp: 5.0000 - val_fp: 6.0000 - val_tn: 21.0000 - val_fn: 10.0000 - val_accuracy: 0.6190 - val_recall: 0.3333 - val_precision: 0.4545 - val_prc: 0.4531\n",
            "Epoch 27/500\n",
            "2/2 [==============================] - 0s 30ms/step - loss: 0.0349 - tp: 47.0000 - fp: 3.0000 - tn: 115.0000 - fn: 0.0000e+00 - accuracy: 0.9818 - recall: 1.0000 - precision: 0.9400 - prc: 0.9971 - val_loss: 3.0261 - val_tp: 5.0000 - val_fp: 5.0000 - val_tn: 22.0000 - val_fn: 10.0000 - val_accuracy: 0.6429 - val_recall: 0.3333 - val_precision: 0.5000 - val_prc: 0.4396\n",
            "Epoch 28/500\n",
            "2/2 [==============================] - 0s 31ms/step - loss: 0.0340 - tp: 47.0000 - fp: 3.0000 - tn: 115.0000 - fn: 0.0000e+00 - accuracy: 0.9818 - recall: 1.0000 - precision: 0.9400 - prc: 0.9969 - val_loss: 3.0479 - val_tp: 5.0000 - val_fp: 5.0000 - val_tn: 22.0000 - val_fn: 10.0000 - val_accuracy: 0.6429 - val_recall: 0.3333 - val_precision: 0.5000 - val_prc: 0.4411\n",
            "Epoch 29/500\n",
            "2/2 [==============================] - 0s 31ms/step - loss: 0.0305 - tp: 47.0000 - fp: 3.0000 - tn: 115.0000 - fn: 0.0000e+00 - accuracy: 0.9818 - recall: 1.0000 - precision: 0.9400 - prc: 0.9982 - val_loss: 3.0807 - val_tp: 5.0000 - val_fp: 5.0000 - val_tn: 22.0000 - val_fn: 10.0000 - val_accuracy: 0.6429 - val_recall: 0.3333 - val_precision: 0.5000 - val_prc: 0.4266\n",
            "Epoch 30/500\n",
            "2/2 [==============================] - 0s 33ms/step - loss: 0.0372 - tp: 46.0000 - fp: 2.0000 - tn: 116.0000 - fn: 1.0000 - accuracy: 0.9818 - recall: 0.9787 - precision: 0.9583 - prc: 0.9971 - val_loss: 3.1055 - val_tp: 5.0000 - val_fp: 5.0000 - val_tn: 22.0000 - val_fn: 10.0000 - val_accuracy: 0.6429 - val_recall: 0.3333 - val_precision: 0.5000 - val_prc: 0.4319\n",
            "Epoch 31/500\n",
            "2/2 [==============================] - 0s 35ms/step - loss: 0.0353 - tp: 46.0000 - fp: 2.0000 - tn: 116.0000 - fn: 1.0000 - accuracy: 0.9818 - recall: 0.9787 - precision: 0.9583 - prc: 0.9973 - val_loss: 3.1027 - val_tp: 5.0000 - val_fp: 5.0000 - val_tn: 22.0000 - val_fn: 10.0000 - val_accuracy: 0.6429 - val_recall: 0.3333 - val_precision: 0.5000 - val_prc: 0.4325\n",
            "Epoch 32/500\n",
            "2/2 [==============================] - 0s 31ms/step - loss: 0.0336 - tp: 46.0000 - fp: 3.0000 - tn: 115.0000 - fn: 1.0000 - accuracy: 0.9758 - recall: 0.9787 - precision: 0.9388 - prc: 0.9973 - val_loss: 3.1049 - val_tp: 5.0000 - val_fp: 5.0000 - val_tn: 22.0000 - val_fn: 10.0000 - val_accuracy: 0.6429 - val_recall: 0.3333 - val_precision: 0.5000 - val_prc: 0.4334\n",
            "Epoch 33/500\n",
            "2/2 [==============================] - 0s 30ms/step - loss: 0.0328 - tp: 47.0000 - fp: 3.0000 - tn: 115.0000 - fn: 0.0000e+00 - accuracy: 0.9818 - recall: 1.0000 - precision: 0.9400 - prc: 0.9971 - val_loss: 3.1144 - val_tp: 5.0000 - val_fp: 5.0000 - val_tn: 22.0000 - val_fn: 10.0000 - val_accuracy: 0.6429 - val_recall: 0.3333 - val_precision: 0.5000 - val_prc: 0.4261\n",
            "Epoch 34/500\n",
            "2/2 [==============================] - 0s 33ms/step - loss: 0.0315 - tp: 47.0000 - fp: 3.0000 - tn: 115.0000 - fn: 0.0000e+00 - accuracy: 0.9818 - recall: 1.0000 - precision: 0.9400 - prc: 0.9968 - val_loss: 3.1457 - val_tp: 5.0000 - val_fp: 5.0000 - val_tn: 22.0000 - val_fn: 10.0000 - val_accuracy: 0.6429 - val_recall: 0.3333 - val_precision: 0.5000 - val_prc: 0.4289\n",
            "Epoch 35/500\n",
            "2/2 [==============================] - 0s 31ms/step - loss: 0.0338 - tp: 47.0000 - fp: 3.0000 - tn: 115.0000 - fn: 0.0000e+00 - accuracy: 0.9818 - recall: 1.0000 - precision: 0.9400 - prc: 0.9964 - val_loss: 3.1755 - val_tp: 5.0000 - val_fp: 5.0000 - val_tn: 22.0000 - val_fn: 10.0000 - val_accuracy: 0.6429 - val_recall: 0.3333 - val_precision: 0.5000 - val_prc: 0.4280\n",
            "Epoch 36/500\n",
            "2/2 [==============================] - 0s 31ms/step - loss: 0.0311 - tp: 47.0000 - fp: 3.0000 - tn: 115.0000 - fn: 0.0000e+00 - accuracy: 0.9818 - recall: 1.0000 - precision: 0.9400 - prc: 0.9971 - val_loss: 3.1981 - val_tp: 5.0000 - val_fp: 5.0000 - val_tn: 22.0000 - val_fn: 10.0000 - val_accuracy: 0.6429 - val_recall: 0.3333 - val_precision: 0.5000 - val_prc: 0.4261\n",
            "Epoch 37/500\n",
            "2/2 [==============================] - 0s 36ms/step - loss: 0.0315 - tp: 47.0000 - fp: 3.0000 - tn: 115.0000 - fn: 0.0000e+00 - accuracy: 0.9818 - recall: 1.0000 - precision: 0.9400 - prc: 0.9978 - val_loss: 3.2284 - val_tp: 5.0000 - val_fp: 5.0000 - val_tn: 22.0000 - val_fn: 10.0000 - val_accuracy: 0.6429 - val_recall: 0.3333 - val_precision: 0.5000 - val_prc: 0.4315\n",
            "Epoch 38/500\n",
            "2/2 [==============================] - 0s 44ms/step - loss: 0.0339 - tp: 47.0000 - fp: 3.0000 - tn: 115.0000 - fn: 0.0000e+00 - accuracy: 0.9818 - recall: 1.0000 - precision: 0.9400 - prc: 0.9975 - val_loss: 3.2206 - val_tp: 5.0000 - val_fp: 5.0000 - val_tn: 22.0000 - val_fn: 10.0000 - val_accuracy: 0.6429 - val_recall: 0.3333 - val_precision: 0.5000 - val_prc: 0.4314\n",
            "Epoch 39/500\n",
            "2/2 [==============================] - 0s 34ms/step - loss: 0.0346 - tp: 46.0000 - fp: 3.0000 - tn: 115.0000 - fn: 1.0000 - accuracy: 0.9758 - recall: 0.9787 - precision: 0.9388 - prc: 0.9969 - val_loss: 3.2234 - val_tp: 5.0000 - val_fp: 5.0000 - val_tn: 22.0000 - val_fn: 10.0000 - val_accuracy: 0.6429 - val_recall: 0.3333 - val_precision: 0.5000 - val_prc: 0.4255\n",
            "Epoch 40/500\n",
            "2/2 [==============================] - 0s 35ms/step - loss: 0.0334 - tp: 46.0000 - fp: 2.0000 - tn: 116.0000 - fn: 1.0000 - accuracy: 0.9818 - recall: 0.9787 - precision: 0.9583 - prc: 0.9975 - val_loss: 3.1905 - val_tp: 5.0000 - val_fp: 5.0000 - val_tn: 22.0000 - val_fn: 10.0000 - val_accuracy: 0.6429 - val_recall: 0.3333 - val_precision: 0.5000 - val_prc: 0.4355\n",
            "Epoch 41/500\n",
            "2/2 [==============================] - 0s 39ms/step - loss: 0.0308 - tp: 47.0000 - fp: 3.0000 - tn: 115.0000 - fn: 0.0000e+00 - accuracy: 0.9818 - recall: 1.0000 - precision: 0.9400 - prc: 0.9975 - val_loss: 3.1899 - val_tp: 5.0000 - val_fp: 6.0000 - val_tn: 21.0000 - val_fn: 10.0000 - val_accuracy: 0.6190 - val_recall: 0.3333 - val_precision: 0.4545 - val_prc: 0.4298\n",
            "Epoch 42/500\n",
            "2/2 [==============================] - 0s 39ms/step - loss: 0.0305 - tp: 47.0000 - fp: 3.0000 - tn: 115.0000 - fn: 0.0000e+00 - accuracy: 0.9818 - recall: 1.0000 - precision: 0.9400 - prc: 0.9978 - val_loss: 3.1943 - val_tp: 5.0000 - val_fp: 6.0000 - val_tn: 21.0000 - val_fn: 10.0000 - val_accuracy: 0.6190 - val_recall: 0.3333 - val_precision: 0.4545 - val_prc: 0.4296\n",
            "Epoch 43/500\n",
            "2/2 [==============================] - 0s 41ms/step - loss: 0.0334 - tp: 47.0000 - fp: 3.0000 - tn: 115.0000 - fn: 0.0000e+00 - accuracy: 0.9818 - recall: 1.0000 - precision: 0.9400 - prc: 0.9956 - val_loss: 3.2164 - val_tp: 5.0000 - val_fp: 6.0000 - val_tn: 21.0000 - val_fn: 10.0000 - val_accuracy: 0.6190 - val_recall: 0.3333 - val_precision: 0.4545 - val_prc: 0.4435\n",
            "Epoch 44/500\n",
            "2/2 [==============================] - 0s 44ms/step - loss: 0.0324 - tp: 47.0000 - fp: 3.0000 - tn: 115.0000 - fn: 0.0000e+00 - accuracy: 0.9818 - recall: 1.0000 - precision: 0.9400 - prc: 0.9973 - val_loss: 3.2347 - val_tp: 5.0000 - val_fp: 6.0000 - val_tn: 21.0000 - val_fn: 10.0000 - val_accuracy: 0.6190 - val_recall: 0.3333 - val_precision: 0.4545 - val_prc: 0.4434\n",
            "Epoch 45/500\n",
            "2/2 [==============================] - 0s 54ms/step - loss: 0.0340 - tp: 47.0000 - fp: 3.0000 - tn: 115.0000 - fn: 0.0000e+00 - accuracy: 0.9818 - recall: 1.0000 - precision: 0.9400 - prc: 0.9973 - val_loss: 3.2682 - val_tp: 5.0000 - val_fp: 5.0000 - val_tn: 22.0000 - val_fn: 10.0000 - val_accuracy: 0.6429 - val_recall: 0.3333 - val_precision: 0.5000 - val_prc: 0.4295\n",
            "Epoch 46/500\n",
            "2/2 [==============================] - 0s 42ms/step - loss: 0.0312 - tp: 47.0000 - fp: 3.0000 - tn: 115.0000 - fn: 0.0000e+00 - accuracy: 0.9818 - recall: 1.0000 - precision: 0.9400 - prc: 0.9978 - val_loss: 3.3258 - val_tp: 5.0000 - val_fp: 5.0000 - val_tn: 22.0000 - val_fn: 10.0000 - val_accuracy: 0.6429 - val_recall: 0.3333 - val_precision: 0.5000 - val_prc: 0.4333\n",
            "Epoch 47/500\n",
            "2/2 [==============================] - 0s 44ms/step - loss: 0.0349 - tp: 46.0000 - fp: 2.0000 - tn: 116.0000 - fn: 1.0000 - accuracy: 0.9818 - recall: 0.9787 - precision: 0.9583 - prc: 0.9973 - val_loss: 3.3286 - val_tp: 5.0000 - val_fp: 5.0000 - val_tn: 22.0000 - val_fn: 10.0000 - val_accuracy: 0.6429 - val_recall: 0.3333 - val_precision: 0.5000 - val_prc: 0.4224\n",
            "Epoch 48/500\n",
            "2/2 [==============================] - 0s 41ms/step - loss: 0.0337 - tp: 46.0000 - fp: 2.0000 - tn: 116.0000 - fn: 1.0000 - accuracy: 0.9818 - recall: 0.9787 - precision: 0.9583 - prc: 0.9975 - val_loss: 3.2622 - val_tp: 5.0000 - val_fp: 5.0000 - val_tn: 22.0000 - val_fn: 10.0000 - val_accuracy: 0.6429 - val_recall: 0.3333 - val_precision: 0.5000 - val_prc: 0.4323\n",
            "Epoch 49/500\n",
            "2/2 [==============================] - 0s 42ms/step - loss: 0.0313 - tp: 47.0000 - fp: 3.0000 - tn: 115.0000 - fn: 0.0000e+00 - accuracy: 0.9818 - recall: 1.0000 - precision: 0.9400 - prc: 0.9971 - val_loss: 3.1973 - val_tp: 5.0000 - val_fp: 5.0000 - val_tn: 22.0000 - val_fn: 10.0000 - val_accuracy: 0.6429 - val_recall: 0.3333 - val_precision: 0.5000 - val_prc: 0.4295\n",
            "Epoch 50/500\n",
            "2/2 [==============================] - 0s 39ms/step - loss: 0.0311 - tp: 47.0000 - fp: 3.0000 - tn: 115.0000 - fn: 0.0000e+00 - accuracy: 0.9818 - recall: 1.0000 - precision: 0.9400 - prc: 0.9975 - val_loss: 3.1740 - val_tp: 5.0000 - val_fp: 6.0000 - val_tn: 21.0000 - val_fn: 10.0000 - val_accuracy: 0.6190 - val_recall: 0.3333 - val_precision: 0.4545 - val_prc: 0.4286\n",
            "Epoch 51/500\n",
            "2/2 [==============================] - 0s 42ms/step - loss: 0.0344 - tp: 47.0000 - fp: 3.0000 - tn: 115.0000 - fn: 0.0000e+00 - accuracy: 0.9818 - recall: 1.0000 - precision: 0.9400 - prc: 0.9971 - val_loss: 3.1724 - val_tp: 5.0000 - val_fp: 6.0000 - val_tn: 21.0000 - val_fn: 10.0000 - val_accuracy: 0.6190 - val_recall: 0.3333 - val_precision: 0.4545 - val_prc: 0.4286\n",
            "Epoch 52/500\n",
            "2/2 [==============================] - 0s 39ms/step - loss: 0.0325 - tp: 47.0000 - fp: 3.0000 - tn: 115.0000 - fn: 0.0000e+00 - accuracy: 0.9818 - recall: 1.0000 - precision: 0.9400 - prc: 0.9985 - val_loss: 3.2131 - val_tp: 5.0000 - val_fp: 6.0000 - val_tn: 21.0000 - val_fn: 10.0000 - val_accuracy: 0.6190 - val_recall: 0.3333 - val_precision: 0.4545 - val_prc: 0.4280\n",
            "Epoch 53/500\n",
            "2/2 [==============================] - 0s 47ms/step - loss: 0.0343 - tp: 47.0000 - fp: 3.0000 - tn: 115.0000 - fn: 0.0000e+00 - accuracy: 0.9818 - recall: 1.0000 - precision: 0.9400 - prc: 0.9969 - val_loss: 3.2516 - val_tp: 5.0000 - val_fp: 5.0000 - val_tn: 22.0000 - val_fn: 10.0000 - val_accuracy: 0.6429 - val_recall: 0.3333 - val_precision: 0.5000 - val_prc: 0.4269\n",
            "Epoch 54/500\n",
            "2/2 [==============================] - 0s 57ms/step - loss: 0.0305 - tp: 47.0000 - fp: 3.0000 - tn: 115.0000 - fn: 0.0000e+00 - accuracy: 0.9818 - recall: 1.0000 - precision: 0.9400 - prc: 0.9971 - val_loss: 3.2588 - val_tp: 5.0000 - val_fp: 5.0000 - val_tn: 22.0000 - val_fn: 10.0000 - val_accuracy: 0.6429 - val_recall: 0.3333 - val_precision: 0.5000 - val_prc: 0.4286\n",
            "Epoch 55/500\n",
            "2/2 [==============================] - 0s 37ms/step - loss: 0.0346 - tp: 47.0000 - fp: 3.0000 - tn: 115.0000 - fn: 0.0000e+00 - accuracy: 0.9818 - recall: 1.0000 - precision: 0.9400 - prc: 0.9973 - val_loss: 3.2477 - val_tp: 5.0000 - val_fp: 6.0000 - val_tn: 21.0000 - val_fn: 10.0000 - val_accuracy: 0.6190 - val_recall: 0.3333 - val_precision: 0.4545 - val_prc: 0.4261\n",
            "Epoch 56/500\n",
            "2/2 [==============================] - 0s 40ms/step - loss: 0.0346 - tp: 46.0000 - fp: 2.0000 - tn: 116.0000 - fn: 1.0000 - accuracy: 0.9818 - recall: 0.9787 - precision: 0.9583 - prc: 0.9975 - val_loss: 3.2454 - val_tp: 5.0000 - val_fp: 6.0000 - val_tn: 21.0000 - val_fn: 10.0000 - val_accuracy: 0.6190 - val_recall: 0.3333 - val_precision: 0.4545 - val_prc: 0.4277\n",
            "Epoch 57/500\n",
            "2/2 [==============================] - 0s 38ms/step - loss: 0.0327 - tp: 47.0000 - fp: 3.0000 - tn: 115.0000 - fn: 0.0000e+00 - accuracy: 0.9818 - recall: 1.0000 - precision: 0.9400 - prc: 0.9975 - val_loss: 3.2270 - val_tp: 5.0000 - val_fp: 5.0000 - val_tn: 22.0000 - val_fn: 10.0000 - val_accuracy: 0.6429 - val_recall: 0.3333 - val_precision: 0.5000 - val_prc: 0.4286\n",
            "Epoch 58/500\n",
            "2/2 [==============================] - 0s 49ms/step - loss: 0.0306 - tp: 47.0000 - fp: 3.0000 - tn: 115.0000 - fn: 0.0000e+00 - accuracy: 0.9818 - recall: 1.0000 - precision: 0.9400 - prc: 0.9971 - val_loss: 3.1980 - val_tp: 5.0000 - val_fp: 5.0000 - val_tn: 22.0000 - val_fn: 10.0000 - val_accuracy: 0.6429 - val_recall: 0.3333 - val_precision: 0.5000 - val_prc: 0.4288\n",
            "Epoch 59/500\n",
            "2/2 [==============================] - 0s 59ms/step - loss: 0.0300 - tp: 47.0000 - fp: 3.0000 - tn: 115.0000 - fn: 0.0000e+00 - accuracy: 0.9818 - recall: 1.0000 - precision: 0.9400 - prc: 0.9982 - val_loss: 3.1837 - val_tp: 5.0000 - val_fp: 5.0000 - val_tn: 22.0000 - val_fn: 10.0000 - val_accuracy: 0.6429 - val_recall: 0.3333 - val_precision: 0.5000 - val_prc: 0.4309\n",
            "Epoch 60/500\n",
            "2/2 [==============================] - 0s 39ms/step - loss: 0.0339 - tp: 47.0000 - fp: 3.0000 - tn: 115.0000 - fn: 0.0000e+00 - accuracy: 0.9818 - recall: 1.0000 - precision: 0.9400 - prc: 0.9968 - val_loss: 3.1610 - val_tp: 5.0000 - val_fp: 5.0000 - val_tn: 22.0000 - val_fn: 10.0000 - val_accuracy: 0.6429 - val_recall: 0.3333 - val_precision: 0.5000 - val_prc: 0.4280\n",
            "Epoch 61/500\n",
            "2/2 [==============================] - 0s 53ms/step - loss: 0.0363 - tp: 47.0000 - fp: 3.0000 - tn: 115.0000 - fn: 0.0000e+00 - accuracy: 0.9818 - recall: 1.0000 - precision: 0.9400 - prc: 0.9962 - val_loss: 3.1409 - val_tp: 5.0000 - val_fp: 6.0000 - val_tn: 21.0000 - val_fn: 10.0000 - val_accuracy: 0.6190 - val_recall: 0.3333 - val_precision: 0.4545 - val_prc: 0.4296\n",
            "Epoch 62/500\n",
            "2/2 [==============================] - 0s 47ms/step - loss: 0.0318 - tp: 47.0000 - fp: 3.0000 - tn: 115.0000 - fn: 0.0000e+00 - accuracy: 0.9818 - recall: 1.0000 - precision: 0.9400 - prc: 0.9973 - val_loss: 3.1517 - val_tp: 5.0000 - val_fp: 5.0000 - val_tn: 22.0000 - val_fn: 10.0000 - val_accuracy: 0.6429 - val_recall: 0.3333 - val_precision: 0.5000 - val_prc: 0.4296\n",
            "Epoch 63/500\n",
            "2/2 [==============================] - 0s 49ms/step - loss: 0.0318 - tp: 47.0000 - fp: 3.0000 - tn: 115.0000 - fn: 0.0000e+00 - accuracy: 0.9818 - recall: 1.0000 - precision: 0.9400 - prc: 0.9973 - val_loss: 3.1709 - val_tp: 5.0000 - val_fp: 5.0000 - val_tn: 22.0000 - val_fn: 10.0000 - val_accuracy: 0.6429 - val_recall: 0.3333 - val_precision: 0.5000 - val_prc: 0.4326\n",
            "Epoch 64/500\n",
            "2/2 [==============================] - 0s 42ms/step - loss: 0.0314 - tp: 47.0000 - fp: 3.0000 - tn: 115.0000 - fn: 0.0000e+00 - accuracy: 0.9818 - recall: 1.0000 - precision: 0.9400 - prc: 0.9971 - val_loss: 3.1822 - val_tp: 5.0000 - val_fp: 5.0000 - val_tn: 22.0000 - val_fn: 10.0000 - val_accuracy: 0.6429 - val_recall: 0.3333 - val_precision: 0.5000 - val_prc: 0.4326\n",
            "Epoch 65/500\n",
            "2/2 [==============================] - 0s 40ms/step - loss: 0.0307 - tp: 47.0000 - fp: 3.0000 - tn: 115.0000 - fn: 0.0000e+00 - accuracy: 0.9818 - recall: 1.0000 - precision: 0.9400 - prc: 0.9976 - val_loss: 3.1952 - val_tp: 5.0000 - val_fp: 5.0000 - val_tn: 22.0000 - val_fn: 10.0000 - val_accuracy: 0.6429 - val_recall: 0.3333 - val_precision: 0.5000 - val_prc: 0.4326\n",
            "Epoch 66/500\n",
            "2/2 [==============================] - 0s 38ms/step - loss: 0.0310 - tp: 47.0000 - fp: 3.0000 - tn: 115.0000 - fn: 0.0000e+00 - accuracy: 0.9818 - recall: 1.0000 - precision: 0.9400 - prc: 0.9973 - val_loss: 3.2170 - val_tp: 5.0000 - val_fp: 5.0000 - val_tn: 22.0000 - val_fn: 10.0000 - val_accuracy: 0.6429 - val_recall: 0.3333 - val_precision: 0.5000 - val_prc: 0.4355\n",
            "Epoch 67/500\n",
            "2/2 [==============================] - 0s 42ms/step - loss: 0.0304 - tp: 47.0000 - fp: 3.0000 - tn: 115.0000 - fn: 0.0000e+00 - accuracy: 0.9818 - recall: 1.0000 - precision: 0.9400 - prc: 0.9978 - val_loss: 3.2424 - val_tp: 5.0000 - val_fp: 5.0000 - val_tn: 22.0000 - val_fn: 10.0000 - val_accuracy: 0.6429 - val_recall: 0.3333 - val_precision: 0.5000 - val_prc: 0.4367\n",
            "Epoch 68/500\n",
            "2/2 [==============================] - 0s 48ms/step - loss: 0.0325 - tp: 47.0000 - fp: 3.0000 - tn: 115.0000 - fn: 0.0000e+00 - accuracy: 0.9818 - recall: 1.0000 - precision: 0.9400 - prc: 0.9976 - val_loss: 3.2557 - val_tp: 5.0000 - val_fp: 5.0000 - val_tn: 22.0000 - val_fn: 10.0000 - val_accuracy: 0.6429 - val_recall: 0.3333 - val_precision: 0.5000 - val_prc: 0.4335\n",
            "Epoch 69/500\n",
            "2/2 [==============================] - 0s 50ms/step - loss: 0.0312 - tp: 47.0000 - fp: 3.0000 - tn: 115.0000 - fn: 0.0000e+00 - accuracy: 0.9818 - recall: 1.0000 - precision: 0.9400 - prc: 0.9978 - val_loss: 3.2304 - val_tp: 5.0000 - val_fp: 6.0000 - val_tn: 21.0000 - val_fn: 10.0000 - val_accuracy: 0.6190 - val_recall: 0.3333 - val_precision: 0.4545 - val_prc: 0.4292\n",
            "Epoch 70/500\n",
            "2/2 [==============================] - 0s 39ms/step - loss: 0.0301 - tp: 47.0000 - fp: 3.0000 - tn: 115.0000 - fn: 0.0000e+00 - accuracy: 0.9818 - recall: 1.0000 - precision: 0.9400 - prc: 0.9978 - val_loss: 3.2170 - val_tp: 5.0000 - val_fp: 6.0000 - val_tn: 21.0000 - val_fn: 10.0000 - val_accuracy: 0.6190 - val_recall: 0.3333 - val_precision: 0.4545 - val_prc: 0.4292\n",
            "Epoch 71/500\n",
            "2/2 [==============================] - 0s 47ms/step - loss: 0.0310 - tp: 47.0000 - fp: 3.0000 - tn: 115.0000 - fn: 0.0000e+00 - accuracy: 0.9818 - recall: 1.0000 - precision: 0.9400 - prc: 0.9976 - val_loss: 3.2080 - val_tp: 5.0000 - val_fp: 6.0000 - val_tn: 21.0000 - val_fn: 10.0000 - val_accuracy: 0.6190 - val_recall: 0.3333 - val_precision: 0.4545 - val_prc: 0.4283\n",
            "Epoch 72/500\n",
            "2/2 [==============================] - 0s 38ms/step - loss: 0.0309 - tp: 47.0000 - fp: 3.0000 - tn: 115.0000 - fn: 0.0000e+00 - accuracy: 0.9818 - recall: 1.0000 - precision: 0.9400 - prc: 0.9975 - val_loss: 3.2181 - val_tp: 5.0000 - val_fp: 6.0000 - val_tn: 21.0000 - val_fn: 10.0000 - val_accuracy: 0.6190 - val_recall: 0.3333 - val_precision: 0.4545 - val_prc: 0.4274\n",
            "Epoch 73/500\n",
            "2/2 [==============================] - 0s 42ms/step - loss: 0.0296 - tp: 47.0000 - fp: 3.0000 - tn: 115.0000 - fn: 0.0000e+00 - accuracy: 0.9818 - recall: 1.0000 - precision: 0.9400 - prc: 0.9980 - val_loss: 3.2420 - val_tp: 5.0000 - val_fp: 5.0000 - val_tn: 22.0000 - val_fn: 10.0000 - val_accuracy: 0.6429 - val_recall: 0.3333 - val_precision: 0.5000 - val_prc: 0.4293\n",
            "Epoch 74/500\n",
            "2/2 [==============================] - 0s 40ms/step - loss: 0.0304 - tp: 47.0000 - fp: 3.0000 - tn: 115.0000 - fn: 0.0000e+00 - accuracy: 0.9818 - recall: 1.0000 - precision: 0.9400 - prc: 0.9971 - val_loss: 3.2626 - val_tp: 5.0000 - val_fp: 5.0000 - val_tn: 22.0000 - val_fn: 10.0000 - val_accuracy: 0.6429 - val_recall: 0.3333 - val_precision: 0.5000 - val_prc: 0.4344\n",
            "Epoch 75/500\n",
            "2/2 [==============================] - 0s 48ms/step - loss: 0.0332 - tp: 47.0000 - fp: 3.0000 - tn: 115.0000 - fn: 0.0000e+00 - accuracy: 0.9818 - recall: 1.0000 - precision: 0.9400 - prc: 0.9960 - val_loss: 3.2581 - val_tp: 5.0000 - val_fp: 5.0000 - val_tn: 22.0000 - val_fn: 10.0000 - val_accuracy: 0.6429 - val_recall: 0.3333 - val_precision: 0.5000 - val_prc: 0.4344\n",
            "Epoch 76/500\n",
            "2/2 [==============================] - 0s 47ms/step - loss: 0.0294 - tp: 47.0000 - fp: 3.0000 - tn: 115.0000 - fn: 0.0000e+00 - accuracy: 0.9818 - recall: 1.0000 - precision: 0.9400 - prc: 0.9973 - val_loss: 3.2409 - val_tp: 5.0000 - val_fp: 5.0000 - val_tn: 22.0000 - val_fn: 10.0000 - val_accuracy: 0.6429 - val_recall: 0.3333 - val_precision: 0.5000 - val_prc: 0.4336\n",
            "Epoch 77/500\n",
            "2/2 [==============================] - 0s 38ms/step - loss: 0.0299 - tp: 47.0000 - fp: 3.0000 - tn: 115.0000 - fn: 0.0000e+00 - accuracy: 0.9818 - recall: 1.0000 - precision: 0.9400 - prc: 0.9980 - val_loss: 3.2428 - val_tp: 5.0000 - val_fp: 6.0000 - val_tn: 21.0000 - val_fn: 10.0000 - val_accuracy: 0.6190 - val_recall: 0.3333 - val_precision: 0.4545 - val_prc: 0.4267\n",
            "Epoch 78/500\n",
            "2/2 [==============================] - 0s 41ms/step - loss: 0.0321 - tp: 47.0000 - fp: 3.0000 - tn: 115.0000 - fn: 0.0000e+00 - accuracy: 0.9818 - recall: 1.0000 - precision: 0.9400 - prc: 0.9978 - val_loss: 3.2596 - val_tp: 5.0000 - val_fp: 6.0000 - val_tn: 21.0000 - val_fn: 10.0000 - val_accuracy: 0.6190 - val_recall: 0.3333 - val_precision: 0.4545 - val_prc: 0.4258\n",
            "Epoch 79/500\n",
            "2/2 [==============================] - 0s 41ms/step - loss: 0.0344 - tp: 47.0000 - fp: 3.0000 - tn: 115.0000 - fn: 0.0000e+00 - accuracy: 0.9818 - recall: 1.0000 - precision: 0.9400 - prc: 0.9973 - val_loss: 3.2948 - val_tp: 5.0000 - val_fp: 5.0000 - val_tn: 22.0000 - val_fn: 10.0000 - val_accuracy: 0.6429 - val_recall: 0.3333 - val_precision: 0.5000 - val_prc: 0.4292\n",
            "Epoch 80/500\n",
            "2/2 [==============================] - 0s 41ms/step - loss: 0.0320 - tp: 47.0000 - fp: 3.0000 - tn: 115.0000 - fn: 0.0000e+00 - accuracy: 0.9818 - recall: 1.0000 - precision: 0.9400 - prc: 0.9976 - val_loss: 3.3213 - val_tp: 5.0000 - val_fp: 5.0000 - val_tn: 22.0000 - val_fn: 10.0000 - val_accuracy: 0.6429 - val_recall: 0.3333 - val_precision: 0.5000 - val_prc: 0.4335\n",
            "Epoch 81/500\n",
            "2/2 [==============================] - 0s 41ms/step - loss: 0.0333 - tp: 47.0000 - fp: 3.0000 - tn: 115.0000 - fn: 0.0000e+00 - accuracy: 0.9818 - recall: 1.0000 - precision: 0.9400 - prc: 0.9975 - val_loss: 3.3369 - val_tp: 5.0000 - val_fp: 5.0000 - val_tn: 22.0000 - val_fn: 10.0000 - val_accuracy: 0.6429 - val_recall: 0.3333 - val_precision: 0.5000 - val_prc: 0.4428\n",
            "Epoch 82/500\n",
            "2/2 [==============================] - 0s 37ms/step - loss: 0.0324 - tp: 47.0000 - fp: 3.0000 - tn: 115.0000 - fn: 0.0000e+00 - accuracy: 0.9818 - recall: 1.0000 - precision: 0.9400 - prc: 0.9969 - val_loss: 3.3154 - val_tp: 5.0000 - val_fp: 5.0000 - val_tn: 22.0000 - val_fn: 10.0000 - val_accuracy: 0.6429 - val_recall: 0.3333 - val_precision: 0.5000 - val_prc: 0.4380\n",
            "Epoch 83/500\n",
            "2/2 [==============================] - 0s 45ms/step - loss: 0.0334 - tp: 47.0000 - fp: 3.0000 - tn: 115.0000 - fn: 0.0000e+00 - accuracy: 0.9818 - recall: 1.0000 - precision: 0.9400 - prc: 0.9969 - val_loss: 3.2801 - val_tp: 5.0000 - val_fp: 6.0000 - val_tn: 21.0000 - val_fn: 10.0000 - val_accuracy: 0.6190 - val_recall: 0.3333 - val_precision: 0.4545 - val_prc: 0.4301\n",
            "Epoch 84/500\n",
            "2/2 [==============================] - 0s 38ms/step - loss: 0.0315 - tp: 47.0000 - fp: 3.0000 - tn: 115.0000 - fn: 0.0000e+00 - accuracy: 0.9818 - recall: 1.0000 - precision: 0.9400 - prc: 0.9967 - val_loss: 3.2531 - val_tp: 5.0000 - val_fp: 6.0000 - val_tn: 21.0000 - val_fn: 10.0000 - val_accuracy: 0.6190 - val_recall: 0.3333 - val_precision: 0.4545 - val_prc: 0.4318\n",
            "Epoch 85/500\n",
            "2/2 [==============================] - 0s 50ms/step - loss: 0.0308 - tp: 47.0000 - fp: 3.0000 - tn: 115.0000 - fn: 0.0000e+00 - accuracy: 0.9818 - recall: 1.0000 - precision: 0.9400 - prc: 0.9973 - val_loss: 3.2444 - val_tp: 5.0000 - val_fp: 6.0000 - val_tn: 21.0000 - val_fn: 10.0000 - val_accuracy: 0.6190 - val_recall: 0.3333 - val_precision: 0.4545 - val_prc: 0.4318\n",
            "Epoch 86/500\n",
            "2/2 [==============================] - 0s 37ms/step - loss: 0.0307 - tp: 47.0000 - fp: 3.0000 - tn: 115.0000 - fn: 0.0000e+00 - accuracy: 0.9818 - recall: 1.0000 - precision: 0.9400 - prc: 0.9975 - val_loss: 3.2485 - val_tp: 5.0000 - val_fp: 6.0000 - val_tn: 21.0000 - val_fn: 10.0000 - val_accuracy: 0.6190 - val_recall: 0.3333 - val_precision: 0.4545 - val_prc: 0.4343\n",
            "Epoch 87/500\n",
            "2/2 [==============================] - 0s 62ms/step - loss: 0.0301 - tp: 47.0000 - fp: 3.0000 - tn: 115.0000 - fn: 0.0000e+00 - accuracy: 0.9818 - recall: 1.0000 - precision: 0.9400 - prc: 0.9976 - val_loss: 3.2551 - val_tp: 5.0000 - val_fp: 6.0000 - val_tn: 21.0000 - val_fn: 10.0000 - val_accuracy: 0.6190 - val_recall: 0.3333 - val_precision: 0.4545 - val_prc: 0.4343\n",
            "Epoch 88/500\n",
            "2/2 [==============================] - 0s 46ms/step - loss: 0.0324 - tp: 47.0000 - fp: 3.0000 - tn: 115.0000 - fn: 0.0000e+00 - accuracy: 0.9818 - recall: 1.0000 - precision: 0.9400 - prc: 0.9971 - val_loss: 3.2584 - val_tp: 5.0000 - val_fp: 6.0000 - val_tn: 21.0000 - val_fn: 10.0000 - val_accuracy: 0.6190 - val_recall: 0.3333 - val_precision: 0.4545 - val_prc: 0.4352\n",
            "Epoch 89/500\n",
            "2/2 [==============================] - 0s 39ms/step - loss: 0.0304 - tp: 47.0000 - fp: 3.0000 - tn: 115.0000 - fn: 0.0000e+00 - accuracy: 0.9818 - recall: 1.0000 - precision: 0.9400 - prc: 0.9969 - val_loss: 3.2264 - val_tp: 5.0000 - val_fp: 6.0000 - val_tn: 21.0000 - val_fn: 10.0000 - val_accuracy: 0.6190 - val_recall: 0.3333 - val_precision: 0.4545 - val_prc: 0.4339\n",
            "Epoch 90/500\n",
            "2/2 [==============================] - 0s 36ms/step - loss: 0.0310 - tp: 47.0000 - fp: 3.0000 - tn: 115.0000 - fn: 0.0000e+00 - accuracy: 0.9818 - recall: 1.0000 - precision: 0.9400 - prc: 0.9975 - val_loss: 3.2042 - val_tp: 5.0000 - val_fp: 6.0000 - val_tn: 21.0000 - val_fn: 10.0000 - val_accuracy: 0.6190 - val_recall: 0.3333 - val_precision: 0.4545 - val_prc: 0.4259\n",
            "Epoch 91/500\n",
            "2/2 [==============================] - 0s 46ms/step - loss: 0.0315 - tp: 47.0000 - fp: 3.0000 - tn: 115.0000 - fn: 0.0000e+00 - accuracy: 0.9818 - recall: 1.0000 - precision: 0.9400 - prc: 0.9976 - val_loss: 3.2041 - val_tp: 5.0000 - val_fp: 6.0000 - val_tn: 21.0000 - val_fn: 10.0000 - val_accuracy: 0.6190 - val_recall: 0.3333 - val_precision: 0.4545 - val_prc: 0.4259\n",
            "Epoch 92/500\n",
            "2/2 [==============================] - 0s 42ms/step - loss: 0.0310 - tp: 47.0000 - fp: 3.0000 - tn: 115.0000 - fn: 0.0000e+00 - accuracy: 0.9818 - recall: 1.0000 - precision: 0.9400 - prc: 0.9975 - val_loss: 3.2090 - val_tp: 5.0000 - val_fp: 6.0000 - val_tn: 21.0000 - val_fn: 10.0000 - val_accuracy: 0.6190 - val_recall: 0.3333 - val_precision: 0.4545 - val_prc: 0.4292\n",
            "Epoch 93/500\n",
            "2/2 [==============================] - 0s 39ms/step - loss: 0.0297 - tp: 47.0000 - fp: 3.0000 - tn: 115.0000 - fn: 0.0000e+00 - accuracy: 0.9818 - recall: 1.0000 - precision: 0.9400 - prc: 0.9980 - val_loss: 3.2171 - val_tp: 5.0000 - val_fp: 5.0000 - val_tn: 22.0000 - val_fn: 10.0000 - val_accuracy: 0.6429 - val_recall: 0.3333 - val_precision: 0.5000 - val_prc: 0.4371\n",
            "Epoch 94/500\n",
            "2/2 [==============================] - 0s 39ms/step - loss: 0.0296 - tp: 47.0000 - fp: 3.0000 - tn: 115.0000 - fn: 0.0000e+00 - accuracy: 0.9818 - recall: 1.0000 - precision: 0.9400 - prc: 0.9978 - val_loss: 3.2242 - val_tp: 5.0000 - val_fp: 5.0000 - val_tn: 22.0000 - val_fn: 10.0000 - val_accuracy: 0.6429 - val_recall: 0.3333 - val_precision: 0.5000 - val_prc: 0.4408\n",
            "Epoch 95/500\n",
            "2/2 [==============================] - 0s 42ms/step - loss: 0.0325 - tp: 47.0000 - fp: 3.0000 - tn: 115.0000 - fn: 0.0000e+00 - accuracy: 0.9818 - recall: 1.0000 - precision: 0.9400 - prc: 0.9971 - val_loss: 3.2241 - val_tp: 5.0000 - val_fp: 5.0000 - val_tn: 22.0000 - val_fn: 10.0000 - val_accuracy: 0.6429 - val_recall: 0.3333 - val_precision: 0.5000 - val_prc: 0.4408\n",
            "Epoch 96/500\n",
            "2/2 [==============================] - 0s 40ms/step - loss: 0.0309 - tp: 47.0000 - fp: 3.0000 - tn: 115.0000 - fn: 0.0000e+00 - accuracy: 0.9818 - recall: 1.0000 - precision: 0.9400 - prc: 0.9978 - val_loss: 3.2138 - val_tp: 5.0000 - val_fp: 5.0000 - val_tn: 22.0000 - val_fn: 10.0000 - val_accuracy: 0.6429 - val_recall: 0.3333 - val_precision: 0.5000 - val_prc: 0.4345\n",
            "Epoch 97/500\n",
            "2/2 [==============================] - 0s 42ms/step - loss: 0.0320 - tp: 47.0000 - fp: 3.0000 - tn: 115.0000 - fn: 0.0000e+00 - accuracy: 0.9818 - recall: 1.0000 - precision: 0.9400 - prc: 0.9967 - val_loss: 3.2129 - val_tp: 5.0000 - val_fp: 6.0000 - val_tn: 21.0000 - val_fn: 10.0000 - val_accuracy: 0.6190 - val_recall: 0.3333 - val_precision: 0.4545 - val_prc: 0.4326\n",
            "Epoch 98/500\n",
            "2/2 [==============================] - 0s 53ms/step - loss: 0.0308 - tp: 47.0000 - fp: 3.0000 - tn: 115.0000 - fn: 0.0000e+00 - accuracy: 0.9818 - recall: 1.0000 - precision: 0.9400 - prc: 0.9973 - val_loss: 3.2112 - val_tp: 5.0000 - val_fp: 6.0000 - val_tn: 21.0000 - val_fn: 10.0000 - val_accuracy: 0.6190 - val_recall: 0.3333 - val_precision: 0.4545 - val_prc: 0.4309\n",
            "Epoch 99/500\n",
            "2/2 [==============================] - 0s 46ms/step - loss: 0.0306 - tp: 47.0000 - fp: 3.0000 - tn: 115.0000 - fn: 0.0000e+00 - accuracy: 0.9818 - recall: 1.0000 - precision: 0.9400 - prc: 0.9975 - val_loss: 3.2217 - val_tp: 5.0000 - val_fp: 6.0000 - val_tn: 21.0000 - val_fn: 10.0000 - val_accuracy: 0.6190 - val_recall: 0.3333 - val_precision: 0.4545 - val_prc: 0.4309\n",
            "Epoch 100/500\n",
            "2/2 [==============================] - 0s 41ms/step - loss: 0.0303 - tp: 47.0000 - fp: 3.0000 - tn: 115.0000 - fn: 0.0000e+00 - accuracy: 0.9818 - recall: 1.0000 - precision: 0.9400 - prc: 0.9978 - val_loss: 3.2340 - val_tp: 5.0000 - val_fp: 6.0000 - val_tn: 21.0000 - val_fn: 10.0000 - val_accuracy: 0.6190 - val_recall: 0.3333 - val_precision: 0.4545 - val_prc: 0.4309\n",
            "Epoch 101/500\n",
            "2/2 [==============================] - 0s 54ms/step - loss: 0.0295 - tp: 47.0000 - fp: 3.0000 - tn: 115.0000 - fn: 0.0000e+00 - accuracy: 0.9818 - recall: 1.0000 - precision: 0.9400 - prc: 0.9982 - val_loss: 3.2451 - val_tp: 5.0000 - val_fp: 5.0000 - val_tn: 22.0000 - val_fn: 10.0000 - val_accuracy: 0.6429 - val_recall: 0.3333 - val_precision: 0.5000 - val_prc: 0.4352\n",
            "Epoch 102/500\n",
            "2/2 [==============================] - 0s 39ms/step - loss: 0.0297 - tp: 47.0000 - fp: 3.0000 - tn: 115.0000 - fn: 0.0000e+00 - accuracy: 0.9818 - recall: 1.0000 - precision: 0.9400 - prc: 0.9980 - val_loss: 3.2552 - val_tp: 5.0000 - val_fp: 5.0000 - val_tn: 22.0000 - val_fn: 10.0000 - val_accuracy: 0.6429 - val_recall: 0.3333 - val_precision: 0.5000 - val_prc: 0.4361\n",
            "Epoch 103/500\n",
            "2/2 [==============================] - 0s 39ms/step - loss: 0.0302 - tp: 47.0000 - fp: 3.0000 - tn: 115.0000 - fn: 0.0000e+00 - accuracy: 0.9818 - recall: 1.0000 - precision: 0.9400 - prc: 0.9978 - val_loss: 3.2580 - val_tp: 5.0000 - val_fp: 5.0000 - val_tn: 22.0000 - val_fn: 10.0000 - val_accuracy: 0.6429 - val_recall: 0.3333 - val_precision: 0.5000 - val_prc: 0.4389\n",
            "Epoch 104/500\n",
            "2/2 [==============================] - 0s 44ms/step - loss: 0.0315 - tp: 47.0000 - fp: 3.0000 - tn: 115.0000 - fn: 0.0000e+00 - accuracy: 0.9818 - recall: 1.0000 - precision: 0.9400 - prc: 0.9973 - val_loss: 3.2510 - val_tp: 5.0000 - val_fp: 5.0000 - val_tn: 22.0000 - val_fn: 10.0000 - val_accuracy: 0.6429 - val_recall: 0.3333 - val_precision: 0.5000 - val_prc: 0.4398\n",
            "Epoch 105/500\n",
            "2/2 [==============================] - 0s 44ms/step - loss: 0.0304 - tp: 47.0000 - fp: 3.0000 - tn: 115.0000 - fn: 0.0000e+00 - accuracy: 0.9818 - recall: 1.0000 - precision: 0.9400 - prc: 0.9980 - val_loss: 3.2540 - val_tp: 5.0000 - val_fp: 5.0000 - val_tn: 22.0000 - val_fn: 10.0000 - val_accuracy: 0.6429 - val_recall: 0.3333 - val_precision: 0.5000 - val_prc: 0.4355\n",
            "Epoch 106/500\n",
            "2/2 [==============================] - 0s 40ms/step - loss: 0.0306 - tp: 47.0000 - fp: 3.0000 - tn: 115.0000 - fn: 0.0000e+00 - accuracy: 0.9818 - recall: 1.0000 - precision: 0.9400 - prc: 0.9975 - val_loss: 3.2571 - val_tp: 5.0000 - val_fp: 6.0000 - val_tn: 21.0000 - val_fn: 10.0000 - val_accuracy: 0.6190 - val_recall: 0.3333 - val_precision: 0.4545 - val_prc: 0.4345\n",
            "Epoch 107/500\n",
            "2/2 [==============================] - 0s 44ms/step - loss: 0.0319 - tp: 47.0000 - fp: 3.0000 - tn: 115.0000 - fn: 0.0000e+00 - accuracy: 0.9818 - recall: 1.0000 - precision: 0.9400 - prc: 0.9971 - val_loss: 3.2716 - val_tp: 5.0000 - val_fp: 6.0000 - val_tn: 21.0000 - val_fn: 10.0000 - val_accuracy: 0.6190 - val_recall: 0.3333 - val_precision: 0.4545 - val_prc: 0.4300\n",
            "Epoch 108/500\n",
            "2/2 [==============================] - 0s 38ms/step - loss: 0.0304 - tp: 47.0000 - fp: 3.0000 - tn: 115.0000 - fn: 0.0000e+00 - accuracy: 0.9818 - recall: 1.0000 - precision: 0.9400 - prc: 0.9978 - val_loss: 3.2888 - val_tp: 5.0000 - val_fp: 6.0000 - val_tn: 21.0000 - val_fn: 10.0000 - val_accuracy: 0.6190 - val_recall: 0.3333 - val_precision: 0.4545 - val_prc: 0.4309\n",
            "Epoch 109/500\n",
            "2/2 [==============================] - 0s 46ms/step - loss: 0.0302 - tp: 47.0000 - fp: 3.0000 - tn: 115.0000 - fn: 0.0000e+00 - accuracy: 0.9818 - recall: 1.0000 - precision: 0.9400 - prc: 0.9976 - val_loss: 3.3184 - val_tp: 5.0000 - val_fp: 6.0000 - val_tn: 21.0000 - val_fn: 10.0000 - val_accuracy: 0.6190 - val_recall: 0.3333 - val_precision: 0.4545 - val_prc: 0.4352\n",
            "Epoch 110/500\n",
            "2/2 [==============================] - 0s 39ms/step - loss: 0.0297 - tp: 47.0000 - fp: 3.0000 - tn: 115.0000 - fn: 0.0000e+00 - accuracy: 0.9818 - recall: 1.0000 - precision: 0.9400 - prc: 0.9980 - val_loss: 3.3488 - val_tp: 5.0000 - val_fp: 5.0000 - val_tn: 22.0000 - val_fn: 10.0000 - val_accuracy: 0.6429 - val_recall: 0.3333 - val_precision: 0.5000 - val_prc: 0.4345\n",
            "Epoch 111/500\n",
            "2/2 [==============================] - 0s 40ms/step - loss: 0.0312 - tp: 47.0000 - fp: 3.0000 - tn: 115.0000 - fn: 0.0000e+00 - accuracy: 0.9818 - recall: 1.0000 - precision: 0.9400 - prc: 0.9969 - val_loss: 3.3702 - val_tp: 5.0000 - val_fp: 5.0000 - val_tn: 22.0000 - val_fn: 10.0000 - val_accuracy: 0.6429 - val_recall: 0.3333 - val_precision: 0.5000 - val_prc: 0.4344\n",
            "Epoch 112/500\n",
            "2/2 [==============================] - 0s 41ms/step - loss: 0.0303 - tp: 47.0000 - fp: 3.0000 - tn: 115.0000 - fn: 0.0000e+00 - accuracy: 0.9818 - recall: 1.0000 - precision: 0.9400 - prc: 0.9973 - val_loss: 3.3741 - val_tp: 5.0000 - val_fp: 6.0000 - val_tn: 21.0000 - val_fn: 10.0000 - val_accuracy: 0.6190 - val_recall: 0.3333 - val_precision: 0.4545 - val_prc: 0.4311\n",
            "Epoch 113/500\n",
            "2/2 [==============================] - 0s 43ms/step - loss: 0.0300 - tp: 47.0000 - fp: 3.0000 - tn: 115.0000 - fn: 0.0000e+00 - accuracy: 0.9818 - recall: 1.0000 - precision: 0.9400 - prc: 0.9975 - val_loss: 3.3754 - val_tp: 5.0000 - val_fp: 6.0000 - val_tn: 21.0000 - val_fn: 10.0000 - val_accuracy: 0.6190 - val_recall: 0.3333 - val_precision: 0.4545 - val_prc: 0.4303\n",
            "Epoch 114/500\n",
            "2/2 [==============================] - 0s 47ms/step - loss: 0.0300 - tp: 47.0000 - fp: 3.0000 - tn: 115.0000 - fn: 0.0000e+00 - accuracy: 0.9818 - recall: 1.0000 - precision: 0.9400 - prc: 0.9975 - val_loss: 3.3796 - val_tp: 5.0000 - val_fp: 6.0000 - val_tn: 21.0000 - val_fn: 10.0000 - val_accuracy: 0.6190 - val_recall: 0.3333 - val_precision: 0.4545 - val_prc: 0.4294\n",
            "Epoch 115/500\n",
            "2/2 [==============================] - 0s 40ms/step - loss: 0.0298 - tp: 47.0000 - fp: 3.0000 - tn: 115.0000 - fn: 0.0000e+00 - accuracy: 0.9818 - recall: 1.0000 - precision: 0.9400 - prc: 0.9976 - val_loss: 3.3814 - val_tp: 5.0000 - val_fp: 6.0000 - val_tn: 21.0000 - val_fn: 10.0000 - val_accuracy: 0.6190 - val_recall: 0.3333 - val_precision: 0.4545 - val_prc: 0.4295\n",
            "Epoch 116/500\n",
            "2/2 [==============================] - 0s 43ms/step - loss: 0.0295 - tp: 47.0000 - fp: 3.0000 - tn: 115.0000 - fn: 0.0000e+00 - accuracy: 0.9818 - recall: 1.0000 - precision: 0.9400 - prc: 0.9980 - val_loss: 3.3783 - val_tp: 5.0000 - val_fp: 5.0000 - val_tn: 22.0000 - val_fn: 10.0000 - val_accuracy: 0.6429 - val_recall: 0.3333 - val_precision: 0.5000 - val_prc: 0.4330\n",
            "Epoch 117/500\n",
            "2/2 [==============================] - 0s 51ms/step - loss: 0.0293 - tp: 47.0000 - fp: 3.0000 - tn: 115.0000 - fn: 0.0000e+00 - accuracy: 0.9818 - recall: 1.0000 - precision: 0.9400 - prc: 0.9977 - val_loss: 3.3788 - val_tp: 5.0000 - val_fp: 5.0000 - val_tn: 22.0000 - val_fn: 10.0000 - val_accuracy: 0.6429 - val_recall: 0.3333 - val_precision: 0.5000 - val_prc: 0.4314\n",
            "Epoch 118/500\n",
            "2/2 [==============================] - 0s 38ms/step - loss: 0.0303 - tp: 47.0000 - fp: 3.0000 - tn: 115.0000 - fn: 0.0000e+00 - accuracy: 0.9818 - recall: 1.0000 - precision: 0.9400 - prc: 0.9975 - val_loss: 3.3839 - val_tp: 5.0000 - val_fp: 5.0000 - val_tn: 22.0000 - val_fn: 10.0000 - val_accuracy: 0.6429 - val_recall: 0.3333 - val_precision: 0.5000 - val_prc: 0.4366\n",
            "Epoch 119/500\n",
            "2/2 [==============================] - 0s 40ms/step - loss: 0.0302 - tp: 47.0000 - fp: 3.0000 - tn: 115.0000 - fn: 0.0000e+00 - accuracy: 0.9818 - recall: 1.0000 - precision: 0.9400 - prc: 0.9975 - val_loss: 3.3916 - val_tp: 5.0000 - val_fp: 5.0000 - val_tn: 22.0000 - val_fn: 10.0000 - val_accuracy: 0.6429 - val_recall: 0.3333 - val_precision: 0.5000 - val_prc: 0.4366\n",
            "Epoch 120/500\n",
            "2/2 [==============================] - 0s 40ms/step - loss: 0.0307 - tp: 47.0000 - fp: 3.0000 - tn: 115.0000 - fn: 0.0000e+00 - accuracy: 0.9818 - recall: 1.0000 - precision: 0.9400 - prc: 0.9973 - val_loss: 3.4031 - val_tp: 5.0000 - val_fp: 5.0000 - val_tn: 22.0000 - val_fn: 10.0000 - val_accuracy: 0.6429 - val_recall: 0.3333 - val_precision: 0.5000 - val_prc: 0.4314\n",
            "Epoch 121/500\n",
            "2/2 [==============================] - 0s 35ms/step - loss: 0.0299 - tp: 47.0000 - fp: 3.0000 - tn: 115.0000 - fn: 0.0000e+00 - accuracy: 0.9818 - recall: 1.0000 - precision: 0.9400 - prc: 0.9975 - val_loss: 3.4212 - val_tp: 5.0000 - val_fp: 5.0000 - val_tn: 22.0000 - val_fn: 10.0000 - val_accuracy: 0.6429 - val_recall: 0.3333 - val_precision: 0.5000 - val_prc: 0.4314\n",
            "Epoch 122/500\n",
            "2/2 [==============================] - 0s 36ms/step - loss: 0.0295 - tp: 47.0000 - fp: 3.0000 - tn: 115.0000 - fn: 0.0000e+00 - accuracy: 0.9818 - recall: 1.0000 - precision: 0.9400 - prc: 0.9978 - val_loss: 3.4393 - val_tp: 5.0000 - val_fp: 6.0000 - val_tn: 21.0000 - val_fn: 10.0000 - val_accuracy: 0.6190 - val_recall: 0.3333 - val_precision: 0.4545 - val_prc: 0.4339\n",
            "Epoch 123/500\n",
            "2/2 [==============================] - 0s 45ms/step - loss: 0.0302 - tp: 47.0000 - fp: 3.0000 - tn: 115.0000 - fn: 0.0000e+00 - accuracy: 0.9818 - recall: 1.0000 - precision: 0.9400 - prc: 0.9973 - val_loss: 3.4534 - val_tp: 5.0000 - val_fp: 6.0000 - val_tn: 21.0000 - val_fn: 10.0000 - val_accuracy: 0.6190 - val_recall: 0.3333 - val_precision: 0.4545 - val_prc: 0.4306\n",
            "Epoch 124/500\n",
            "2/2 [==============================] - 0s 38ms/step - loss: 0.0301 - tp: 47.0000 - fp: 3.0000 - tn: 115.0000 - fn: 0.0000e+00 - accuracy: 0.9818 - recall: 1.0000 - precision: 0.9400 - prc: 0.9971 - val_loss: 3.4651 - val_tp: 5.0000 - val_fp: 6.0000 - val_tn: 21.0000 - val_fn: 10.0000 - val_accuracy: 0.6190 - val_recall: 0.3333 - val_precision: 0.4545 - val_prc: 0.4306\n",
            "Epoch 125/500\n",
            "2/2 [==============================] - 0s 35ms/step - loss: 0.0303 - tp: 47.0000 - fp: 3.0000 - tn: 115.0000 - fn: 0.0000e+00 - accuracy: 0.9818 - recall: 1.0000 - precision: 0.9400 - prc: 0.9969 - val_loss: 3.4842 - val_tp: 5.0000 - val_fp: 6.0000 - val_tn: 21.0000 - val_fn: 10.0000 - val_accuracy: 0.6190 - val_recall: 0.3333 - val_precision: 0.4545 - val_prc: 0.4340\n",
            "Epoch 126/500\n",
            "2/2 [==============================] - 0s 36ms/step - loss: 0.0300 - tp: 47.0000 - fp: 3.0000 - tn: 115.0000 - fn: 0.0000e+00 - accuracy: 0.9818 - recall: 1.0000 - precision: 0.9400 - prc: 0.9971 - val_loss: 3.4894 - val_tp: 5.0000 - val_fp: 6.0000 - val_tn: 21.0000 - val_fn: 10.0000 - val_accuracy: 0.6190 - val_recall: 0.3333 - val_precision: 0.4545 - val_prc: 0.4324\n",
            "Epoch 127/500\n",
            "2/2 [==============================] - 0s 36ms/step - loss: 0.0303 - tp: 47.0000 - fp: 3.0000 - tn: 115.0000 - fn: 0.0000e+00 - accuracy: 0.9818 - recall: 1.0000 - precision: 0.9400 - prc: 0.9975 - val_loss: 3.4869 - val_tp: 5.0000 - val_fp: 6.0000 - val_tn: 21.0000 - val_fn: 10.0000 - val_accuracy: 0.6190 - val_recall: 0.3333 - val_precision: 0.4545 - val_prc: 0.4339\n",
            "Epoch 128/500\n",
            "2/2 [==============================] - 0s 38ms/step - loss: 0.0297 - tp: 47.0000 - fp: 3.0000 - tn: 115.0000 - fn: 0.0000e+00 - accuracy: 0.9818 - recall: 1.0000 - precision: 0.9400 - prc: 0.9975 - val_loss: 3.4854 - val_tp: 5.0000 - val_fp: 6.0000 - val_tn: 21.0000 - val_fn: 10.0000 - val_accuracy: 0.6190 - val_recall: 0.3333 - val_precision: 0.4545 - val_prc: 0.4314\n",
            "Epoch 129/500\n",
            "2/2 [==============================] - 0s 34ms/step - loss: 0.0296 - tp: 47.0000 - fp: 3.0000 - tn: 115.0000 - fn: 0.0000e+00 - accuracy: 0.9818 - recall: 1.0000 - precision: 0.9400 - prc: 0.9976 - val_loss: 3.4830 - val_tp: 5.0000 - val_fp: 5.0000 - val_tn: 22.0000 - val_fn: 10.0000 - val_accuracy: 0.6429 - val_recall: 0.3333 - val_precision: 0.5000 - val_prc: 0.4314\n",
            "Epoch 130/500\n",
            "2/2 [==============================] - 0s 39ms/step - loss: 0.0293 - tp: 47.0000 - fp: 3.0000 - tn: 115.0000 - fn: 0.0000e+00 - accuracy: 0.9818 - recall: 1.0000 - precision: 0.9400 - prc: 0.9978 - val_loss: 3.4735 - val_tp: 5.0000 - val_fp: 6.0000 - val_tn: 21.0000 - val_fn: 10.0000 - val_accuracy: 0.6190 - val_recall: 0.3333 - val_precision: 0.4545 - val_prc: 0.4314\n",
            "Epoch 131/500\n",
            "2/2 [==============================] - 0s 34ms/step - loss: 0.0312 - tp: 47.0000 - fp: 3.0000 - tn: 115.0000 - fn: 0.0000e+00 - accuracy: 0.9818 - recall: 1.0000 - precision: 0.9400 - prc: 0.9969 - val_loss: 3.4684 - val_tp: 5.0000 - val_fp: 6.0000 - val_tn: 21.0000 - val_fn: 10.0000 - val_accuracy: 0.6190 - val_recall: 0.3333 - val_precision: 0.4545 - val_prc: 0.4321\n",
            "Epoch 132/500\n",
            "2/2 [==============================] - 0s 45ms/step - loss: 0.0304 - tp: 47.0000 - fp: 3.0000 - tn: 115.0000 - fn: 0.0000e+00 - accuracy: 0.9818 - recall: 1.0000 - precision: 0.9400 - prc: 0.9973 - val_loss: 3.4815 - val_tp: 5.0000 - val_fp: 6.0000 - val_tn: 21.0000 - val_fn: 10.0000 - val_accuracy: 0.6190 - val_recall: 0.3333 - val_precision: 0.4545 - val_prc: 0.4314\n",
            "Epoch 133/500\n",
            "2/2 [==============================] - 0s 37ms/step - loss: 0.0306 - tp: 47.0000 - fp: 3.0000 - tn: 115.0000 - fn: 0.0000e+00 - accuracy: 0.9818 - recall: 1.0000 - precision: 0.9400 - prc: 0.9973 - val_loss: 3.4981 - val_tp: 5.0000 - val_fp: 5.0000 - val_tn: 22.0000 - val_fn: 10.0000 - val_accuracy: 0.6429 - val_recall: 0.3333 - val_precision: 0.5000 - val_prc: 0.4314\n",
            "Epoch 134/500\n",
            "2/2 [==============================] - 0s 40ms/step - loss: 0.0297 - tp: 47.0000 - fp: 3.0000 - tn: 115.0000 - fn: 0.0000e+00 - accuracy: 0.9818 - recall: 1.0000 - precision: 0.9400 - prc: 0.9973 - val_loss: 3.5167 - val_tp: 5.0000 - val_fp: 6.0000 - val_tn: 21.0000 - val_fn: 10.0000 - val_accuracy: 0.6190 - val_recall: 0.3333 - val_precision: 0.4545 - val_prc: 0.4314\n",
            "Epoch 135/500\n",
            "2/2 [==============================] - 0s 35ms/step - loss: 0.0300 - tp: 47.0000 - fp: 3.0000 - tn: 115.0000 - fn: 0.0000e+00 - accuracy: 0.9818 - recall: 1.0000 - precision: 0.9400 - prc: 0.9967 - val_loss: 3.5361 - val_tp: 5.0000 - val_fp: 6.0000 - val_tn: 21.0000 - val_fn: 10.0000 - val_accuracy: 0.6190 - val_recall: 0.3333 - val_precision: 0.4545 - val_prc: 0.4339\n",
            "Epoch 136/500\n",
            "2/2 [==============================] - 0s 36ms/step - loss: 0.0296 - tp: 47.0000 - fp: 3.0000 - tn: 115.0000 - fn: 0.0000e+00 - accuracy: 0.9818 - recall: 1.0000 - precision: 0.9400 - prc: 0.9978 - val_loss: 3.5464 - val_tp: 5.0000 - val_fp: 6.0000 - val_tn: 21.0000 - val_fn: 10.0000 - val_accuracy: 0.6190 - val_recall: 0.3333 - val_precision: 0.4545 - val_prc: 0.4339\n",
            "Epoch 137/500\n",
            "2/2 [==============================] - 0s 35ms/step - loss: 0.0299 - tp: 47.0000 - fp: 3.0000 - tn: 115.0000 - fn: 0.0000e+00 - accuracy: 0.9818 - recall: 1.0000 - precision: 0.9400 - prc: 0.9973 - val_loss: 3.5520 - val_tp: 5.0000 - val_fp: 6.0000 - val_tn: 21.0000 - val_fn: 10.0000 - val_accuracy: 0.6190 - val_recall: 0.3333 - val_precision: 0.4545 - val_prc: 0.4324\n",
            "Epoch 138/500\n",
            "2/2 [==============================] - 0s 34ms/step - loss: 0.0302 - tp: 47.0000 - fp: 3.0000 - tn: 115.0000 - fn: 0.0000e+00 - accuracy: 0.9818 - recall: 1.0000 - precision: 0.9400 - prc: 0.9971 - val_loss: 3.5534 - val_tp: 5.0000 - val_fp: 6.0000 - val_tn: 21.0000 - val_fn: 10.0000 - val_accuracy: 0.6190 - val_recall: 0.3333 - val_precision: 0.4545 - val_prc: 0.4324\n",
            "Epoch 139/500\n",
            "2/2 [==============================] - 0s 35ms/step - loss: 0.0303 - tp: 47.0000 - fp: 3.0000 - tn: 115.0000 - fn: 0.0000e+00 - accuracy: 0.9818 - recall: 1.0000 - precision: 0.9400 - prc: 0.9964 - val_loss: 3.5596 - val_tp: 5.0000 - val_fp: 6.0000 - val_tn: 21.0000 - val_fn: 10.0000 - val_accuracy: 0.6190 - val_recall: 0.3333 - val_precision: 0.4545 - val_prc: 0.4299\n",
            "Epoch 140/500\n",
            "2/2 [==============================] - 0s 45ms/step - loss: 0.0296 - tp: 47.0000 - fp: 3.0000 - tn: 115.0000 - fn: 0.0000e+00 - accuracy: 0.9818 - recall: 1.0000 - precision: 0.9400 - prc: 0.9978 - val_loss: 3.5620 - val_tp: 5.0000 - val_fp: 6.0000 - val_tn: 21.0000 - val_fn: 10.0000 - val_accuracy: 0.6190 - val_recall: 0.3333 - val_precision: 0.4545 - val_prc: 0.4299\n",
            "Epoch 141/500\n",
            "2/2 [==============================] - 0s 36ms/step - loss: 0.0301 - tp: 47.0000 - fp: 3.0000 - tn: 115.0000 - fn: 0.0000e+00 - accuracy: 0.9818 - recall: 1.0000 - precision: 0.9400 - prc: 0.9975 - val_loss: 3.5582 - val_tp: 5.0000 - val_fp: 6.0000 - val_tn: 21.0000 - val_fn: 10.0000 - val_accuracy: 0.6190 - val_recall: 0.3333 - val_precision: 0.4545 - val_prc: 0.4274\n",
            "Epoch 142/500\n",
            "2/2 [==============================] - 0s 37ms/step - loss: 0.0301 - tp: 47.0000 - fp: 3.0000 - tn: 115.0000 - fn: 0.0000e+00 - accuracy: 0.9818 - recall: 1.0000 - precision: 0.9400 - prc: 0.9973 - val_loss: 3.5574 - val_tp: 5.0000 - val_fp: 6.0000 - val_tn: 21.0000 - val_fn: 10.0000 - val_accuracy: 0.6190 - val_recall: 0.3333 - val_precision: 0.4545 - val_prc: 0.4314\n",
            "Epoch 143/500\n",
            "2/2 [==============================] - 0s 38ms/step - loss: 0.0299 - tp: 47.0000 - fp: 3.0000 - tn: 115.0000 - fn: 0.0000e+00 - accuracy: 0.9818 - recall: 1.0000 - precision: 0.9400 - prc: 0.9978 - val_loss: 3.5538 - val_tp: 5.0000 - val_fp: 5.0000 - val_tn: 22.0000 - val_fn: 10.0000 - val_accuracy: 0.6429 - val_recall: 0.3333 - val_precision: 0.5000 - val_prc: 0.4330\n",
            "Epoch 144/500\n",
            "2/2 [==============================] - 0s 40ms/step - loss: 0.0301 - tp: 47.0000 - fp: 3.0000 - tn: 115.0000 - fn: 0.0000e+00 - accuracy: 0.9818 - recall: 1.0000 - precision: 0.9400 - prc: 0.9978 - val_loss: 3.5606 - val_tp: 5.0000 - val_fp: 5.0000 - val_tn: 22.0000 - val_fn: 10.0000 - val_accuracy: 0.6429 - val_recall: 0.3333 - val_precision: 0.5000 - val_prc: 0.4184\n",
            "Epoch 145/500\n",
            "2/2 [==============================] - 0s 34ms/step - loss: 0.0297 - tp: 47.0000 - fp: 3.0000 - tn: 115.0000 - fn: 0.0000e+00 - accuracy: 0.9818 - recall: 1.0000 - precision: 0.9400 - prc: 0.9980 - val_loss: 3.5750 - val_tp: 5.0000 - val_fp: 5.0000 - val_tn: 22.0000 - val_fn: 10.0000 - val_accuracy: 0.6429 - val_recall: 0.3333 - val_precision: 0.5000 - val_prc: 0.4184\n",
            "Epoch 146/500\n",
            "2/2 [==============================] - 0s 37ms/step - loss: 0.0299 - tp: 47.0000 - fp: 3.0000 - tn: 115.0000 - fn: 0.0000e+00 - accuracy: 0.9818 - recall: 1.0000 - precision: 0.9400 - prc: 0.9975 - val_loss: 3.5884 - val_tp: 5.0000 - val_fp: 5.0000 - val_tn: 22.0000 - val_fn: 10.0000 - val_accuracy: 0.6429 - val_recall: 0.3333 - val_precision: 0.5000 - val_prc: 0.4184\n",
            "Epoch 147/500\n",
            "2/2 [==============================] - 0s 35ms/step - loss: 0.0298 - tp: 47.0000 - fp: 3.0000 - tn: 115.0000 - fn: 0.0000e+00 - accuracy: 0.9818 - recall: 1.0000 - precision: 0.9400 - prc: 0.9976 - val_loss: 3.5991 - val_tp: 5.0000 - val_fp: 5.0000 - val_tn: 22.0000 - val_fn: 10.0000 - val_accuracy: 0.6429 - val_recall: 0.3333 - val_precision: 0.5000 - val_prc: 0.4282\n",
            "Epoch 148/500\n",
            "2/2 [==============================] - 0s 36ms/step - loss: 0.0297 - tp: 47.0000 - fp: 3.0000 - tn: 115.0000 - fn: 0.0000e+00 - accuracy: 0.9818 - recall: 1.0000 - precision: 0.9400 - prc: 0.9975 - val_loss: 3.6092 - val_tp: 5.0000 - val_fp: 6.0000 - val_tn: 21.0000 - val_fn: 10.0000 - val_accuracy: 0.6190 - val_recall: 0.3333 - val_precision: 0.4545 - val_prc: 0.4233\n",
            "Epoch 149/500\n",
            "2/2 [==============================] - 0s 43ms/step - loss: 0.0301 - tp: 47.0000 - fp: 3.0000 - tn: 115.0000 - fn: 0.0000e+00 - accuracy: 0.9818 - recall: 1.0000 - precision: 0.9400 - prc: 0.9973 - val_loss: 3.6176 - val_tp: 5.0000 - val_fp: 6.0000 - val_tn: 21.0000 - val_fn: 10.0000 - val_accuracy: 0.6190 - val_recall: 0.3333 - val_precision: 0.4545 - val_prc: 0.4314\n",
            "Epoch 150/500\n",
            "2/2 [==============================] - 0s 34ms/step - loss: 0.0299 - tp: 47.0000 - fp: 3.0000 - tn: 115.0000 - fn: 0.0000e+00 - accuracy: 0.9818 - recall: 1.0000 - precision: 0.9400 - prc: 0.9973 - val_loss: 3.6254 - val_tp: 5.0000 - val_fp: 6.0000 - val_tn: 21.0000 - val_fn: 10.0000 - val_accuracy: 0.6190 - val_recall: 0.3333 - val_precision: 0.4545 - val_prc: 0.4299\n",
            "Epoch 151/500\n",
            "2/2 [==============================] - 0s 37ms/step - loss: 0.0294 - tp: 47.0000 - fp: 3.0000 - tn: 115.0000 - fn: 0.0000e+00 - accuracy: 0.9818 - recall: 1.0000 - precision: 0.9400 - prc: 0.9978 - val_loss: 3.6337 - val_tp: 5.0000 - val_fp: 6.0000 - val_tn: 21.0000 - val_fn: 10.0000 - val_accuracy: 0.6190 - val_recall: 0.3333 - val_precision: 0.4545 - val_prc: 0.4289\n",
            "Epoch 152/500\n",
            "2/2 [==============================] - 0s 33ms/step - loss: 0.0298 - tp: 47.0000 - fp: 3.0000 - tn: 115.0000 - fn: 0.0000e+00 - accuracy: 0.9818 - recall: 1.0000 - precision: 0.9400 - prc: 0.9973 - val_loss: 3.6382 - val_tp: 5.0000 - val_fp: 6.0000 - val_tn: 21.0000 - val_fn: 10.0000 - val_accuracy: 0.6190 - val_recall: 0.3333 - val_precision: 0.4545 - val_prc: 0.4258\n",
            "Epoch 153/500\n",
            "2/2 [==============================] - 0s 50ms/step - loss: 0.0305 - tp: 47.0000 - fp: 3.0000 - tn: 115.0000 - fn: 0.0000e+00 - accuracy: 0.9818 - recall: 1.0000 - precision: 0.9400 - prc: 0.9967 - val_loss: 3.6404 - val_tp: 5.0000 - val_fp: 6.0000 - val_tn: 21.0000 - val_fn: 10.0000 - val_accuracy: 0.6190 - val_recall: 0.3333 - val_precision: 0.4545 - val_prc: 0.4258\n",
            "Epoch 154/500\n",
            "2/2 [==============================] - 0s 42ms/step - loss: 0.0302 - tp: 47.0000 - fp: 3.0000 - tn: 115.0000 - fn: 0.0000e+00 - accuracy: 0.9818 - recall: 1.0000 - precision: 0.9400 - prc: 0.9960 - val_loss: 3.6451 - val_tp: 5.0000 - val_fp: 6.0000 - val_tn: 21.0000 - val_fn: 10.0000 - val_accuracy: 0.6190 - val_recall: 0.3333 - val_precision: 0.4545 - val_prc: 0.4289\n",
            "Epoch 155/500\n",
            "2/2 [==============================] - 0s 45ms/step - loss: 0.0300 - tp: 47.0000 - fp: 3.0000 - tn: 115.0000 - fn: 0.0000e+00 - accuracy: 0.9818 - recall: 1.0000 - precision: 0.9400 - prc: 0.9976 - val_loss: 3.6521 - val_tp: 5.0000 - val_fp: 6.0000 - val_tn: 21.0000 - val_fn: 10.0000 - val_accuracy: 0.6190 - val_recall: 0.3333 - val_precision: 0.4545 - val_prc: 0.4208\n",
            "Epoch 156/500\n",
            "2/2 [==============================] - 0s 46ms/step - loss: 0.0309 - tp: 47.0000 - fp: 3.0000 - tn: 115.0000 - fn: 0.0000e+00 - accuracy: 0.9818 - recall: 1.0000 - precision: 0.9400 - prc: 0.9973 - val_loss: 3.6485 - val_tp: 5.0000 - val_fp: 6.0000 - val_tn: 21.0000 - val_fn: 10.0000 - val_accuracy: 0.6190 - val_recall: 0.3333 - val_precision: 0.4545 - val_prc: 0.4274\n",
            "Epoch 157/500\n",
            "2/2 [==============================] - 0s 45ms/step - loss: 0.0309 - tp: 47.0000 - fp: 3.0000 - tn: 115.0000 - fn: 0.0000e+00 - accuracy: 0.9818 - recall: 1.0000 - precision: 0.9400 - prc: 0.9973 - val_loss: 3.6455 - val_tp: 5.0000 - val_fp: 6.0000 - val_tn: 21.0000 - val_fn: 10.0000 - val_accuracy: 0.6190 - val_recall: 0.3333 - val_precision: 0.4545 - val_prc: 0.4289\n",
            "Epoch 158/500\n",
            "2/2 [==============================] - 0s 39ms/step - loss: 0.0300 - tp: 47.0000 - fp: 3.0000 - tn: 115.0000 - fn: 0.0000e+00 - accuracy: 0.9818 - recall: 1.0000 - precision: 0.9400 - prc: 0.9982 - val_loss: 3.6520 - val_tp: 5.0000 - val_fp: 5.0000 - val_tn: 22.0000 - val_fn: 10.0000 - val_accuracy: 0.6429 - val_recall: 0.3333 - val_precision: 0.5000 - val_prc: 0.4208\n",
            "Epoch 159/500\n",
            "2/2 [==============================] - 0s 43ms/step - loss: 0.0307 - tp: 47.0000 - fp: 3.0000 - tn: 115.0000 - fn: 0.0000e+00 - accuracy: 0.9818 - recall: 1.0000 - precision: 0.9400 - prc: 0.9971 - val_loss: 3.6567 - val_tp: 5.0000 - val_fp: 5.0000 - val_tn: 22.0000 - val_fn: 10.0000 - val_accuracy: 0.6429 - val_recall: 0.3333 - val_precision: 0.5000 - val_prc: 0.4138\n",
            "Epoch 160/500\n",
            "2/2 [==============================] - 0s 47ms/step - loss: 0.0304 - tp: 47.0000 - fp: 3.0000 - tn: 115.0000 - fn: 0.0000e+00 - accuracy: 0.9818 - recall: 1.0000 - precision: 0.9400 - prc: 0.9967 - val_loss: 3.6636 - val_tp: 5.0000 - val_fp: 5.0000 - val_tn: 22.0000 - val_fn: 10.0000 - val_accuracy: 0.6429 - val_recall: 0.3333 - val_precision: 0.5000 - val_prc: 0.4233\n",
            "Epoch 161/500\n",
            "2/2 [==============================] - 0s 43ms/step - loss: 0.0303 - tp: 47.0000 - fp: 3.0000 - tn: 115.0000 - fn: 0.0000e+00 - accuracy: 0.9818 - recall: 1.0000 - precision: 0.9400 - prc: 0.9973 - val_loss: 3.6686 - val_tp: 5.0000 - val_fp: 5.0000 - val_tn: 22.0000 - val_fn: 10.0000 - val_accuracy: 0.6429 - val_recall: 0.3333 - val_precision: 0.5000 - val_prc: 0.4113\n",
            "Epoch 162/500\n",
            "2/2 [==============================] - 0s 41ms/step - loss: 0.0300 - tp: 47.0000 - fp: 3.0000 - tn: 115.0000 - fn: 0.0000e+00 - accuracy: 0.9818 - recall: 1.0000 - precision: 0.9400 - prc: 0.9975 - val_loss: 3.6727 - val_tp: 5.0000 - val_fp: 5.0000 - val_tn: 22.0000 - val_fn: 10.0000 - val_accuracy: 0.6429 - val_recall: 0.3333 - val_precision: 0.5000 - val_prc: 0.4113\n",
            "Epoch 163/500\n",
            "2/2 [==============================] - 0s 46ms/step - loss: 0.0308 - tp: 47.0000 - fp: 3.0000 - tn: 115.0000 - fn: 0.0000e+00 - accuracy: 0.9818 - recall: 1.0000 - precision: 0.9400 - prc: 0.9971 - val_loss: 3.6677 - val_tp: 5.0000 - val_fp: 6.0000 - val_tn: 21.0000 - val_fn: 10.0000 - val_accuracy: 0.6190 - val_recall: 0.3333 - val_precision: 0.4545 - val_prc: 0.4208\n",
            "Epoch 164/500\n",
            "2/2 [==============================] - 0s 49ms/step - loss: 0.0298 - tp: 47.0000 - fp: 3.0000 - tn: 115.0000 - fn: 0.0000e+00 - accuracy: 0.9818 - recall: 1.0000 - precision: 0.9400 - prc: 0.9973 - val_loss: 3.6670 - val_tp: 5.0000 - val_fp: 6.0000 - val_tn: 21.0000 - val_fn: 10.0000 - val_accuracy: 0.6190 - val_recall: 0.3333 - val_precision: 0.4545 - val_prc: 0.4113\n",
            "Epoch 165/500\n",
            "2/2 [==============================] - 0s 40ms/step - loss: 0.0297 - tp: 47.0000 - fp: 3.0000 - tn: 115.0000 - fn: 0.0000e+00 - accuracy: 0.9818 - recall: 1.0000 - precision: 0.9400 - prc: 0.9975 - val_loss: 3.6710 - val_tp: 5.0000 - val_fp: 6.0000 - val_tn: 21.0000 - val_fn: 10.0000 - val_accuracy: 0.6190 - val_recall: 0.3333 - val_precision: 0.4545 - val_prc: 0.4113\n",
            "Epoch 166/500\n",
            "2/2 [==============================] - 0s 48ms/step - loss: 0.0300 - tp: 47.0000 - fp: 3.0000 - tn: 115.0000 - fn: 0.0000e+00 - accuracy: 0.9818 - recall: 1.0000 - precision: 0.9400 - prc: 0.9976 - val_loss: 3.6699 - val_tp: 5.0000 - val_fp: 6.0000 - val_tn: 21.0000 - val_fn: 10.0000 - val_accuracy: 0.6190 - val_recall: 0.3333 - val_precision: 0.4545 - val_prc: 0.4113\n",
            "Epoch 167/500\n",
            "2/2 [==============================] - 0s 52ms/step - loss: 0.0296 - tp: 47.0000 - fp: 3.0000 - tn: 115.0000 - fn: 0.0000e+00 - accuracy: 0.9818 - recall: 1.0000 - precision: 0.9400 - prc: 0.9975 - val_loss: 3.6744 - val_tp: 5.0000 - val_fp: 6.0000 - val_tn: 21.0000 - val_fn: 10.0000 - val_accuracy: 0.6190 - val_recall: 0.3333 - val_precision: 0.4545 - val_prc: 0.4113\n",
            "Epoch 168/500\n",
            "2/2 [==============================] - 0s 45ms/step - loss: 0.0297 - tp: 47.0000 - fp: 3.0000 - tn: 115.0000 - fn: 0.0000e+00 - accuracy: 0.9818 - recall: 1.0000 - precision: 0.9400 - prc: 0.9975 - val_loss: 3.6741 - val_tp: 5.0000 - val_fp: 6.0000 - val_tn: 21.0000 - val_fn: 10.0000 - val_accuracy: 0.6190 - val_recall: 0.3333 - val_precision: 0.4545 - val_prc: 0.4208\n",
            "Epoch 169/500\n",
            "2/2 [==============================] - 0s 51ms/step - loss: 0.0302 - tp: 47.0000 - fp: 3.0000 - tn: 115.0000 - fn: 0.0000e+00 - accuracy: 0.9818 - recall: 1.0000 - precision: 0.9400 - prc: 0.9971 - val_loss: 3.6688 - val_tp: 5.0000 - val_fp: 6.0000 - val_tn: 21.0000 - val_fn: 10.0000 - val_accuracy: 0.6190 - val_recall: 0.3333 - val_precision: 0.4545 - val_prc: 0.4177\n",
            "Epoch 170/500\n",
            "2/2 [==============================] - 0s 48ms/step - loss: 0.0298 - tp: 47.0000 - fp: 3.0000 - tn: 115.0000 - fn: 0.0000e+00 - accuracy: 0.9818 - recall: 1.0000 - precision: 0.9400 - prc: 0.9976 - val_loss: 3.6755 - val_tp: 5.0000 - val_fp: 6.0000 - val_tn: 21.0000 - val_fn: 10.0000 - val_accuracy: 0.6190 - val_recall: 0.3333 - val_precision: 0.4545 - val_prc: 0.4113\n",
            "Epoch 171/500\n",
            "2/2 [==============================] - 0s 37ms/step - loss: 0.0294 - tp: 47.0000 - fp: 3.0000 - tn: 115.0000 - fn: 0.0000e+00 - accuracy: 0.9818 - recall: 1.0000 - precision: 0.9400 - prc: 0.9975 - val_loss: 3.6708 - val_tp: 5.0000 - val_fp: 6.0000 - val_tn: 21.0000 - val_fn: 10.0000 - val_accuracy: 0.6190 - val_recall: 0.3333 - val_precision: 0.4545 - val_prc: 0.4208\n",
            "Epoch 172/500\n",
            "2/2 [==============================] - 0s 39ms/step - loss: 0.0299 - tp: 47.0000 - fp: 3.0000 - tn: 115.0000 - fn: 0.0000e+00 - accuracy: 0.9818 - recall: 1.0000 - precision: 0.9400 - prc: 0.9971 - val_loss: 3.6711 - val_tp: 5.0000 - val_fp: 6.0000 - val_tn: 21.0000 - val_fn: 10.0000 - val_accuracy: 0.6190 - val_recall: 0.3333 - val_precision: 0.4545 - val_prc: 0.4208\n",
            "Epoch 173/500\n",
            "2/2 [==============================] - 0s 43ms/step - loss: 0.0297 - tp: 47.0000 - fp: 3.0000 - tn: 115.0000 - fn: 0.0000e+00 - accuracy: 0.9818 - recall: 1.0000 - precision: 0.9400 - prc: 0.9969 - val_loss: 3.6841 - val_tp: 5.0000 - val_fp: 6.0000 - val_tn: 21.0000 - val_fn: 10.0000 - val_accuracy: 0.6190 - val_recall: 0.3333 - val_precision: 0.4545 - val_prc: 0.4138\n",
            "Epoch 174/500\n",
            "2/2 [==============================] - 0s 41ms/step - loss: 0.0304 - tp: 47.0000 - fp: 3.0000 - tn: 115.0000 - fn: 0.0000e+00 - accuracy: 0.9818 - recall: 1.0000 - precision: 0.9400 - prc: 0.9971 - val_loss: 3.6981 - val_tp: 5.0000 - val_fp: 6.0000 - val_tn: 21.0000 - val_fn: 10.0000 - val_accuracy: 0.6190 - val_recall: 0.3333 - val_precision: 0.4545 - val_prc: 0.4138\n",
            "Epoch 175/500\n",
            "2/2 [==============================] - 0s 52ms/step - loss: 0.0299 - tp: 47.0000 - fp: 3.0000 - tn: 115.0000 - fn: 0.0000e+00 - accuracy: 0.9818 - recall: 1.0000 - precision: 0.9400 - prc: 0.9975 - val_loss: 3.6983 - val_tp: 5.0000 - val_fp: 6.0000 - val_tn: 21.0000 - val_fn: 10.0000 - val_accuracy: 0.6190 - val_recall: 0.3333 - val_precision: 0.4545 - val_prc: 0.4138\n",
            "Epoch 176/500\n",
            "2/2 [==============================] - 0s 36ms/step - loss: 0.0293 - tp: 47.0000 - fp: 3.0000 - tn: 115.0000 - fn: 0.0000e+00 - accuracy: 0.9818 - recall: 1.0000 - precision: 0.9400 - prc: 0.9978 - val_loss: 3.7064 - val_tp: 5.0000 - val_fp: 6.0000 - val_tn: 21.0000 - val_fn: 10.0000 - val_accuracy: 0.6190 - val_recall: 0.3333 - val_precision: 0.4545 - val_prc: 0.4138\n",
            "Epoch 177/500\n",
            "2/2 [==============================] - 0s 35ms/step - loss: 0.0301 - tp: 47.0000 - fp: 3.0000 - tn: 115.0000 - fn: 0.0000e+00 - accuracy: 0.9818 - recall: 1.0000 - precision: 0.9400 - prc: 0.9973 - val_loss: 3.7146 - val_tp: 5.0000 - val_fp: 6.0000 - val_tn: 21.0000 - val_fn: 10.0000 - val_accuracy: 0.6190 - val_recall: 0.3333 - val_precision: 0.4545 - val_prc: 0.4233\n",
            "Epoch 178/500\n",
            "2/2 [==============================] - 0s 34ms/step - loss: 0.0296 - tp: 47.0000 - fp: 3.0000 - tn: 115.0000 - fn: 0.0000e+00 - accuracy: 0.9818 - recall: 1.0000 - precision: 0.9400 - prc: 0.9978 - val_loss: 3.7152 - val_tp: 5.0000 - val_fp: 6.0000 - val_tn: 21.0000 - val_fn: 10.0000 - val_accuracy: 0.6190 - val_recall: 0.3333 - val_precision: 0.4545 - val_prc: 0.4208\n",
            "Epoch 179/500\n",
            "2/2 [==============================] - 0s 37ms/step - loss: 0.0302 - tp: 47.0000 - fp: 3.0000 - tn: 115.0000 - fn: 0.0000e+00 - accuracy: 0.9818 - recall: 1.0000 - precision: 0.9400 - prc: 0.9973 - val_loss: 3.7176 - val_tp: 5.0000 - val_fp: 6.0000 - val_tn: 21.0000 - val_fn: 10.0000 - val_accuracy: 0.6190 - val_recall: 0.3333 - val_precision: 0.4545 - val_prc: 0.4233\n",
            "Epoch 180/500\n",
            "2/2 [==============================] - 0s 36ms/step - loss: 0.0296 - tp: 47.0000 - fp: 3.0000 - tn: 115.0000 - fn: 0.0000e+00 - accuracy: 0.9818 - recall: 1.0000 - precision: 0.9400 - prc: 0.9975 - val_loss: 3.7331 - val_tp: 5.0000 - val_fp: 6.0000 - val_tn: 21.0000 - val_fn: 10.0000 - val_accuracy: 0.6190 - val_recall: 0.3333 - val_precision: 0.4545 - val_prc: 0.4184\n",
            "Epoch 181/500\n",
            "2/2 [==============================] - 0s 37ms/step - loss: 0.0297 - tp: 47.0000 - fp: 3.0000 - tn: 115.0000 - fn: 0.0000e+00 - accuracy: 0.9818 - recall: 1.0000 - precision: 0.9400 - prc: 0.9975 - val_loss: 3.7463 - val_tp: 5.0000 - val_fp: 5.0000 - val_tn: 22.0000 - val_fn: 10.0000 - val_accuracy: 0.6429 - val_recall: 0.3333 - val_precision: 0.5000 - val_prc: 0.4233\n",
            "Epoch 182/500\n",
            "2/2 [==============================] - 0s 39ms/step - loss: 0.0298 - tp: 47.0000 - fp: 3.0000 - tn: 115.0000 - fn: 0.0000e+00 - accuracy: 0.9818 - recall: 1.0000 - precision: 0.9400 - prc: 0.9973 - val_loss: 3.7570 - val_tp: 5.0000 - val_fp: 5.0000 - val_tn: 22.0000 - val_fn: 10.0000 - val_accuracy: 0.6429 - val_recall: 0.3333 - val_precision: 0.5000 - val_prc: 0.4233\n",
            "Epoch 183/500\n",
            "2/2 [==============================] - 0s 39ms/step - loss: 0.0294 - tp: 47.0000 - fp: 3.0000 - tn: 115.0000 - fn: 0.0000e+00 - accuracy: 0.9818 - recall: 1.0000 - precision: 0.9400 - prc: 0.9975 - val_loss: 3.7565 - val_tp: 5.0000 - val_fp: 5.0000 - val_tn: 22.0000 - val_fn: 10.0000 - val_accuracy: 0.6429 - val_recall: 0.3333 - val_precision: 0.5000 - val_prc: 0.4208\n",
            "Epoch 184/500\n",
            "2/2 [==============================] - 0s 39ms/step - loss: 0.0297 - tp: 47.0000 - fp: 3.0000 - tn: 115.0000 - fn: 0.0000e+00 - accuracy: 0.9818 - recall: 1.0000 - precision: 0.9400 - prc: 0.9973 - val_loss: 3.7516 - val_tp: 5.0000 - val_fp: 5.0000 - val_tn: 22.0000 - val_fn: 10.0000 - val_accuracy: 0.6429 - val_recall: 0.3333 - val_precision: 0.5000 - val_prc: 0.4208\n",
            "Epoch 185/500\n",
            "2/2 [==============================] - 0s 36ms/step - loss: 0.0294 - tp: 47.0000 - fp: 3.0000 - tn: 115.0000 - fn: 0.0000e+00 - accuracy: 0.9818 - recall: 1.0000 - precision: 0.9400 - prc: 0.9975 - val_loss: 3.7553 - val_tp: 5.0000 - val_fp: 5.0000 - val_tn: 22.0000 - val_fn: 10.0000 - val_accuracy: 0.6429 - val_recall: 0.3333 - val_precision: 0.5000 - val_prc: 0.4231\n",
            "Epoch 186/500\n",
            "2/2 [==============================] - 0s 59ms/step - loss: 0.0292 - tp: 47.0000 - fp: 3.0000 - tn: 115.0000 - fn: 0.0000e+00 - accuracy: 0.9818 - recall: 1.0000 - precision: 0.9400 - prc: 0.9978 - val_loss: 3.7677 - val_tp: 5.0000 - val_fp: 5.0000 - val_tn: 22.0000 - val_fn: 10.0000 - val_accuracy: 0.6429 - val_recall: 0.3333 - val_precision: 0.5000 - val_prc: 0.4208\n",
            "Epoch 187/500\n",
            "2/2 [==============================] - 0s 50ms/step - loss: 0.0301 - tp: 47.0000 - fp: 3.0000 - tn: 115.0000 - fn: 0.0000e+00 - accuracy: 0.9818 - recall: 1.0000 - precision: 0.9400 - prc: 0.9969 - val_loss: 3.7780 - val_tp: 5.0000 - val_fp: 5.0000 - val_tn: 22.0000 - val_fn: 10.0000 - val_accuracy: 0.6429 - val_recall: 0.3333 - val_precision: 0.5000 - val_prc: 0.4185\n",
            "Epoch 188/500\n",
            "2/2 [==============================] - 0s 35ms/step - loss: 0.0298 - tp: 47.0000 - fp: 3.0000 - tn: 115.0000 - fn: 0.0000e+00 - accuracy: 0.9818 - recall: 1.0000 - precision: 0.9400 - prc: 0.9973 - val_loss: 3.7791 - val_tp: 5.0000 - val_fp: 6.0000 - val_tn: 21.0000 - val_fn: 10.0000 - val_accuracy: 0.6190 - val_recall: 0.3333 - val_precision: 0.4545 - val_prc: 0.4185\n",
            "Epoch 189/500\n",
            "2/2 [==============================] - 0s 38ms/step - loss: 0.0295 - tp: 47.0000 - fp: 3.0000 - tn: 115.0000 - fn: 0.0000e+00 - accuracy: 0.9818 - recall: 1.0000 - precision: 0.9400 - prc: 0.9975 - val_loss: 3.7723 - val_tp: 5.0000 - val_fp: 6.0000 - val_tn: 21.0000 - val_fn: 10.0000 - val_accuracy: 0.6190 - val_recall: 0.3333 - val_precision: 0.4545 - val_prc: 0.4182\n",
            "Epoch 190/500\n",
            "2/2 [==============================] - 0s 35ms/step - loss: 0.0310 - tp: 47.0000 - fp: 3.0000 - tn: 115.0000 - fn: 0.0000e+00 - accuracy: 0.9818 - recall: 1.0000 - precision: 0.9400 - prc: 0.9971 - val_loss: 3.7662 - val_tp: 5.0000 - val_fp: 6.0000 - val_tn: 21.0000 - val_fn: 10.0000 - val_accuracy: 0.6190 - val_recall: 0.3333 - val_precision: 0.4545 - val_prc: 0.4182\n",
            "Epoch 191/500\n",
            "2/2 [==============================] - 0s 38ms/step - loss: 0.0297 - tp: 47.0000 - fp: 3.0000 - tn: 115.0000 - fn: 0.0000e+00 - accuracy: 0.9818 - recall: 1.0000 - precision: 0.9400 - prc: 0.9973 - val_loss: 3.7719 - val_tp: 5.0000 - val_fp: 6.0000 - val_tn: 21.0000 - val_fn: 10.0000 - val_accuracy: 0.6190 - val_recall: 0.3333 - val_precision: 0.4545 - val_prc: 0.4182\n",
            "Epoch 192/500\n",
            "2/2 [==============================] - 0s 55ms/step - loss: 0.0295 - tp: 47.0000 - fp: 3.0000 - tn: 115.0000 - fn: 0.0000e+00 - accuracy: 0.9818 - recall: 1.0000 - precision: 0.9400 - prc: 0.9976 - val_loss: 3.7886 - val_tp: 5.0000 - val_fp: 6.0000 - val_tn: 21.0000 - val_fn: 10.0000 - val_accuracy: 0.6190 - val_recall: 0.3333 - val_precision: 0.4545 - val_prc: 0.4280\n",
            "Epoch 193/500\n",
            "2/2 [==============================] - 0s 39ms/step - loss: 0.0296 - tp: 47.0000 - fp: 3.0000 - tn: 115.0000 - fn: 0.0000e+00 - accuracy: 0.9818 - recall: 1.0000 - precision: 0.9400 - prc: 0.9976 - val_loss: 3.8030 - val_tp: 5.0000 - val_fp: 5.0000 - val_tn: 22.0000 - val_fn: 10.0000 - val_accuracy: 0.6429 - val_recall: 0.3333 - val_precision: 0.5000 - val_prc: 0.4305\n",
            "Epoch 194/500\n",
            "2/2 [==============================] - 0s 38ms/step - loss: 0.0294 - tp: 47.0000 - fp: 3.0000 - tn: 115.0000 - fn: 0.0000e+00 - accuracy: 0.9818 - recall: 1.0000 - precision: 0.9400 - prc: 0.9975 - val_loss: 3.8143 - val_tp: 5.0000 - val_fp: 5.0000 - val_tn: 22.0000 - val_fn: 10.0000 - val_accuracy: 0.6429 - val_recall: 0.3333 - val_precision: 0.5000 - val_prc: 0.4281\n",
            "Epoch 195/500\n",
            "2/2 [==============================] - 0s 38ms/step - loss: 0.0296 - tp: 47.0000 - fp: 3.0000 - tn: 115.0000 - fn: 0.0000e+00 - accuracy: 0.9818 - recall: 1.0000 - precision: 0.9400 - prc: 0.9976 - val_loss: 3.8198 - val_tp: 5.0000 - val_fp: 5.0000 - val_tn: 22.0000 - val_fn: 10.0000 - val_accuracy: 0.6429 - val_recall: 0.3333 - val_precision: 0.5000 - val_prc: 0.4305\n",
            "Epoch 196/500\n",
            "2/2 [==============================] - 0s 36ms/step - loss: 0.0296 - tp: 47.0000 - fp: 3.0000 - tn: 115.0000 - fn: 0.0000e+00 - accuracy: 0.9818 - recall: 1.0000 - precision: 0.9400 - prc: 0.9973 - val_loss: 3.8272 - val_tp: 5.0000 - val_fp: 5.0000 - val_tn: 22.0000 - val_fn: 10.0000 - val_accuracy: 0.6429 - val_recall: 0.3333 - val_precision: 0.5000 - val_prc: 0.4281\n",
            "Epoch 197/500\n",
            "2/2 [==============================] - 0s 40ms/step - loss: 0.0301 - tp: 47.0000 - fp: 3.0000 - tn: 115.0000 - fn: 0.0000e+00 - accuracy: 0.9818 - recall: 1.0000 - precision: 0.9400 - prc: 0.9973 - val_loss: 3.8396 - val_tp: 5.0000 - val_fp: 5.0000 - val_tn: 22.0000 - val_fn: 10.0000 - val_accuracy: 0.6429 - val_recall: 0.3333 - val_precision: 0.5000 - val_prc: 0.4305\n",
            "Epoch 198/500\n",
            "2/2 [==============================] - 0s 44ms/step - loss: 0.0298 - tp: 47.0000 - fp: 3.0000 - tn: 115.0000 - fn: 0.0000e+00 - accuracy: 0.9818 - recall: 1.0000 - precision: 0.9400 - prc: 0.9973 - val_loss: 3.8374 - val_tp: 5.0000 - val_fp: 6.0000 - val_tn: 21.0000 - val_fn: 10.0000 - val_accuracy: 0.6190 - val_recall: 0.3333 - val_precision: 0.4545 - val_prc: 0.4305\n",
            "Epoch 199/500\n",
            "2/2 [==============================] - 0s 44ms/step - loss: 0.0296 - tp: 47.0000 - fp: 3.0000 - tn: 115.0000 - fn: 0.0000e+00 - accuracy: 0.9818 - recall: 1.0000 - precision: 0.9400 - prc: 0.9975 - val_loss: 3.8253 - val_tp: 5.0000 - val_fp: 6.0000 - val_tn: 21.0000 - val_fn: 10.0000 - val_accuracy: 0.6190 - val_recall: 0.3333 - val_precision: 0.4545 - val_prc: 0.4384\n",
            "Epoch 200/500\n",
            "2/2 [==============================] - 0s 38ms/step - loss: 0.0294 - tp: 47.0000 - fp: 3.0000 - tn: 115.0000 - fn: 0.0000e+00 - accuracy: 0.9818 - recall: 1.0000 - precision: 0.9400 - prc: 0.9978 - val_loss: 3.8178 - val_tp: 5.0000 - val_fp: 6.0000 - val_tn: 21.0000 - val_fn: 10.0000 - val_accuracy: 0.6190 - val_recall: 0.3333 - val_precision: 0.4545 - val_prc: 0.4355\n",
            "Epoch 201/500\n",
            "2/2 [==============================] - 0s 42ms/step - loss: 0.0295 - tp: 47.0000 - fp: 3.0000 - tn: 115.0000 - fn: 0.0000e+00 - accuracy: 0.9818 - recall: 1.0000 - precision: 0.9400 - prc: 0.9975 - val_loss: 3.8167 - val_tp: 5.0000 - val_fp: 6.0000 - val_tn: 21.0000 - val_fn: 10.0000 - val_accuracy: 0.6190 - val_recall: 0.3333 - val_precision: 0.4545 - val_prc: 0.4355\n",
            "Epoch 202/500\n",
            "2/2 [==============================] - 0s 44ms/step - loss: 0.0297 - tp: 47.0000 - fp: 3.0000 - tn: 115.0000 - fn: 0.0000e+00 - accuracy: 0.9818 - recall: 1.0000 - precision: 0.9400 - prc: 0.9973 - val_loss: 3.8152 - val_tp: 5.0000 - val_fp: 6.0000 - val_tn: 21.0000 - val_fn: 10.0000 - val_accuracy: 0.6190 - val_recall: 0.3333 - val_precision: 0.4545 - val_prc: 0.4355\n",
            "Epoch 203/500\n",
            "2/2 [==============================] - 0s 50ms/step - loss: 0.0305 - tp: 47.0000 - fp: 3.0000 - tn: 115.0000 - fn: 0.0000e+00 - accuracy: 0.9818 - recall: 1.0000 - precision: 0.9400 - prc: 0.9969 - val_loss: 3.8210 - val_tp: 5.0000 - val_fp: 6.0000 - val_tn: 21.0000 - val_fn: 10.0000 - val_accuracy: 0.6190 - val_recall: 0.3333 - val_precision: 0.4545 - val_prc: 0.4408\n",
            "Epoch 204/500\n",
            "2/2 [==============================] - 0s 41ms/step - loss: 0.0299 - tp: 47.0000 - fp: 3.0000 - tn: 115.0000 - fn: 0.0000e+00 - accuracy: 0.9818 - recall: 1.0000 - precision: 0.9400 - prc: 0.9971 - val_loss: 3.8276 - val_tp: 5.0000 - val_fp: 6.0000 - val_tn: 21.0000 - val_fn: 10.0000 - val_accuracy: 0.6190 - val_recall: 0.3333 - val_precision: 0.4545 - val_prc: 0.4359\n",
            "Epoch 205/500\n",
            "2/2 [==============================] - 0s 38ms/step - loss: 0.0297 - tp: 47.0000 - fp: 3.0000 - tn: 115.0000 - fn: 0.0000e+00 - accuracy: 0.9818 - recall: 1.0000 - precision: 0.9400 - prc: 0.9976 - val_loss: 3.8345 - val_tp: 5.0000 - val_fp: 6.0000 - val_tn: 21.0000 - val_fn: 10.0000 - val_accuracy: 0.6190 - val_recall: 0.3333 - val_precision: 0.4545 - val_prc: 0.4359\n",
            "Epoch 206/500\n",
            "2/2 [==============================] - 0s 40ms/step - loss: 0.0297 - tp: 47.0000 - fp: 3.0000 - tn: 115.0000 - fn: 0.0000e+00 - accuracy: 0.9818 - recall: 1.0000 - precision: 0.9400 - prc: 0.9976 - val_loss: 3.8442 - val_tp: 5.0000 - val_fp: 6.0000 - val_tn: 21.0000 - val_fn: 10.0000 - val_accuracy: 0.6190 - val_recall: 0.3333 - val_precision: 0.4545 - val_prc: 0.4359\n",
            "Epoch 207/500\n",
            "2/2 [==============================] - 0s 36ms/step - loss: 0.0296 - tp: 47.0000 - fp: 3.0000 - tn: 115.0000 - fn: 0.0000e+00 - accuracy: 0.9818 - recall: 1.0000 - precision: 0.9400 - prc: 0.9975 - val_loss: 3.8591 - val_tp: 5.0000 - val_fp: 6.0000 - val_tn: 21.0000 - val_fn: 10.0000 - val_accuracy: 0.6190 - val_recall: 0.3333 - val_precision: 0.4545 - val_prc: 0.4384\n",
            "Epoch 208/500\n",
            "2/2 [==============================] - 0s 42ms/step - loss: 0.0294 - tp: 47.0000 - fp: 3.0000 - tn: 115.0000 - fn: 0.0000e+00 - accuracy: 0.9818 - recall: 1.0000 - precision: 0.9400 - prc: 0.9978 - val_loss: 3.8756 - val_tp: 5.0000 - val_fp: 6.0000 - val_tn: 21.0000 - val_fn: 10.0000 - val_accuracy: 0.6190 - val_recall: 0.3333 - val_precision: 0.4545 - val_prc: 0.4359\n",
            "Epoch 209/500\n",
            "2/2 [==============================] - 0s 38ms/step - loss: 0.0294 - tp: 47.0000 - fp: 3.0000 - tn: 115.0000 - fn: 0.0000e+00 - accuracy: 0.9818 - recall: 1.0000 - precision: 0.9400 - prc: 0.9976 - val_loss: 3.8913 - val_tp: 5.0000 - val_fp: 6.0000 - val_tn: 21.0000 - val_fn: 10.0000 - val_accuracy: 0.6190 - val_recall: 0.3333 - val_precision: 0.4545 - val_prc: 0.4359\n",
            "Epoch 210/500\n",
            "2/2 [==============================] - 0s 39ms/step - loss: 0.0295 - tp: 47.0000 - fp: 3.0000 - tn: 115.0000 - fn: 0.0000e+00 - accuracy: 0.9818 - recall: 1.0000 - precision: 0.9400 - prc: 0.9973 - val_loss: 3.9075 - val_tp: 5.0000 - val_fp: 6.0000 - val_tn: 21.0000 - val_fn: 10.0000 - val_accuracy: 0.6190 - val_recall: 0.3333 - val_precision: 0.4545 - val_prc: 0.4256\n",
            "Epoch 211/500\n",
            "2/2 [==============================] - 0s 42ms/step - loss: 0.0292 - tp: 47.0000 - fp: 3.0000 - tn: 115.0000 - fn: 0.0000e+00 - accuracy: 0.9818 - recall: 1.0000 - precision: 0.9400 - prc: 0.9978 - val_loss: 3.9224 - val_tp: 5.0000 - val_fp: 6.0000 - val_tn: 21.0000 - val_fn: 10.0000 - val_accuracy: 0.6190 - val_recall: 0.3333 - val_precision: 0.4545 - val_prc: 0.4256\n",
            "Epoch 212/500\n",
            "2/2 [==============================] - 0s 39ms/step - loss: 0.0299 - tp: 47.0000 - fp: 3.0000 - tn: 115.0000 - fn: 0.0000e+00 - accuracy: 0.9818 - recall: 1.0000 - precision: 0.9400 - prc: 0.9969 - val_loss: 3.9329 - val_tp: 5.0000 - val_fp: 6.0000 - val_tn: 21.0000 - val_fn: 10.0000 - val_accuracy: 0.6190 - val_recall: 0.3333 - val_precision: 0.4545 - val_prc: 0.4233\n",
            "Epoch 213/500\n",
            "2/2 [==============================] - 0s 40ms/step - loss: 0.0300 - tp: 47.0000 - fp: 3.0000 - tn: 115.0000 - fn: 0.0000e+00 - accuracy: 0.9818 - recall: 1.0000 - precision: 0.9400 - prc: 0.9971 - val_loss: 3.9435 - val_tp: 5.0000 - val_fp: 6.0000 - val_tn: 21.0000 - val_fn: 10.0000 - val_accuracy: 0.6190 - val_recall: 0.3333 - val_precision: 0.4545 - val_prc: 0.4256\n",
            "Epoch 214/500\n",
            "2/2 [==============================] - 0s 37ms/step - loss: 0.0294 - tp: 47.0000 - fp: 3.0000 - tn: 115.0000 - fn: 0.0000e+00 - accuracy: 0.9818 - recall: 1.0000 - precision: 0.9400 - prc: 0.9975 - val_loss: 3.9539 - val_tp: 5.0000 - val_fp: 6.0000 - val_tn: 21.0000 - val_fn: 10.0000 - val_accuracy: 0.6190 - val_recall: 0.3333 - val_precision: 0.4545 - val_prc: 0.4256\n",
            "Epoch 215/500\n",
            "2/2 [==============================] - 0s 38ms/step - loss: 0.0305 - tp: 47.0000 - fp: 3.0000 - tn: 115.0000 - fn: 0.0000e+00 - accuracy: 0.9818 - recall: 1.0000 - precision: 0.9400 - prc: 0.9973 - val_loss: 3.9594 - val_tp: 5.0000 - val_fp: 6.0000 - val_tn: 21.0000 - val_fn: 10.0000 - val_accuracy: 0.6190 - val_recall: 0.3333 - val_precision: 0.4545 - val_prc: 0.4256\n",
            "Epoch 216/500\n",
            "2/2 [==============================] - 0s 44ms/step - loss: 0.0298 - tp: 47.0000 - fp: 3.0000 - tn: 115.0000 - fn: 0.0000e+00 - accuracy: 0.9818 - recall: 1.0000 - precision: 0.9400 - prc: 0.9975 - val_loss: 3.9469 - val_tp: 5.0000 - val_fp: 6.0000 - val_tn: 21.0000 - val_fn: 10.0000 - val_accuracy: 0.6190 - val_recall: 0.3333 - val_precision: 0.4545 - val_prc: 0.4256\n",
            "Epoch 217/500\n",
            "2/2 [==============================] - 0s 39ms/step - loss: 0.0302 - tp: 47.0000 - fp: 3.0000 - tn: 115.0000 - fn: 0.0000e+00 - accuracy: 0.9818 - recall: 1.0000 - precision: 0.9400 - prc: 0.9971 - val_loss: 3.9339 - val_tp: 5.0000 - val_fp: 6.0000 - val_tn: 21.0000 - val_fn: 10.0000 - val_accuracy: 0.6190 - val_recall: 0.3333 - val_precision: 0.4545 - val_prc: 0.4305\n",
            "Epoch 218/500\n",
            "2/2 [==============================] - 0s 38ms/step - loss: 0.0292 - tp: 47.0000 - fp: 3.0000 - tn: 115.0000 - fn: 0.0000e+00 - accuracy: 0.9818 - recall: 1.0000 - precision: 0.9400 - prc: 0.9980 - val_loss: 3.9244 - val_tp: 5.0000 - val_fp: 6.0000 - val_tn: 21.0000 - val_fn: 10.0000 - val_accuracy: 0.6190 - val_recall: 0.3333 - val_precision: 0.4545 - val_prc: 0.4384\n",
            "Epoch 219/500\n",
            "2/2 [==============================] - 0s 39ms/step - loss: 0.0296 - tp: 47.0000 - fp: 3.0000 - tn: 115.0000 - fn: 0.0000e+00 - accuracy: 0.9818 - recall: 1.0000 - precision: 0.9400 - prc: 0.9975 - val_loss: 3.9093 - val_tp: 5.0000 - val_fp: 6.0000 - val_tn: 21.0000 - val_fn: 10.0000 - val_accuracy: 0.6190 - val_recall: 0.3333 - val_precision: 0.4545 - val_prc: 0.4355\n",
            "Epoch 220/500\n",
            "2/2 [==============================] - 0s 53ms/step - loss: 0.0299 - tp: 47.0000 - fp: 3.0000 - tn: 115.0000 - fn: 0.0000e+00 - accuracy: 0.9818 - recall: 1.0000 - precision: 0.9400 - prc: 0.9973 - val_loss: 3.8997 - val_tp: 5.0000 - val_fp: 6.0000 - val_tn: 21.0000 - val_fn: 10.0000 - val_accuracy: 0.6190 - val_recall: 0.3333 - val_precision: 0.4545 - val_prc: 0.4305\n",
            "Epoch 221/500\n",
            "2/2 [==============================] - 0s 43ms/step - loss: 0.0300 - tp: 47.0000 - fp: 3.0000 - tn: 115.0000 - fn: 0.0000e+00 - accuracy: 0.9818 - recall: 1.0000 - precision: 0.9400 - prc: 0.9964 - val_loss: 3.8958 - val_tp: 5.0000 - val_fp: 6.0000 - val_tn: 21.0000 - val_fn: 10.0000 - val_accuracy: 0.6190 - val_recall: 0.3333 - val_precision: 0.4545 - val_prc: 0.4305\n",
            "Epoch 222/500\n",
            "2/2 [==============================] - 0s 44ms/step - loss: 0.0296 - tp: 47.0000 - fp: 3.0000 - tn: 115.0000 - fn: 0.0000e+00 - accuracy: 0.9818 - recall: 1.0000 - precision: 0.9400 - prc: 0.9973 - val_loss: 3.8970 - val_tp: 5.0000 - val_fp: 6.0000 - val_tn: 21.0000 - val_fn: 10.0000 - val_accuracy: 0.6190 - val_recall: 0.3333 - val_precision: 0.4545 - val_prc: 0.4322\n",
            "Epoch 223/500\n",
            "2/2 [==============================] - 0s 39ms/step - loss: 0.0295 - tp: 47.0000 - fp: 3.0000 - tn: 115.0000 - fn: 0.0000e+00 - accuracy: 0.9818 - recall: 1.0000 - precision: 0.9400 - prc: 0.9978 - val_loss: 3.9073 - val_tp: 5.0000 - val_fp: 6.0000 - val_tn: 21.0000 - val_fn: 10.0000 - val_accuracy: 0.6190 - val_recall: 0.3333 - val_precision: 0.4545 - val_prc: 0.4256\n",
            "Epoch 224/500\n",
            "2/2 [==============================] - 0s 44ms/step - loss: 0.0299 - tp: 47.0000 - fp: 3.0000 - tn: 115.0000 - fn: 0.0000e+00 - accuracy: 0.9818 - recall: 1.0000 - precision: 0.9400 - prc: 0.9971 - val_loss: 3.9197 - val_tp: 5.0000 - val_fp: 6.0000 - val_tn: 21.0000 - val_fn: 10.0000 - val_accuracy: 0.6190 - val_recall: 0.3333 - val_precision: 0.4545 - val_prc: 0.4256\n",
            "Epoch 225/500\n",
            "2/2 [==============================] - 0s 42ms/step - loss: 0.0294 - tp: 47.0000 - fp: 3.0000 - tn: 115.0000 - fn: 0.0000e+00 - accuracy: 0.9818 - recall: 1.0000 - precision: 0.9400 - prc: 0.9980 - val_loss: 3.9360 - val_tp: 5.0000 - val_fp: 6.0000 - val_tn: 21.0000 - val_fn: 10.0000 - val_accuracy: 0.6190 - val_recall: 0.3333 - val_precision: 0.4545 - val_prc: 0.4256\n",
            "Epoch 226/500\n",
            "2/2 [==============================] - 0s 48ms/step - loss: 0.0296 - tp: 47.0000 - fp: 3.0000 - tn: 115.0000 - fn: 0.0000e+00 - accuracy: 0.9818 - recall: 1.0000 - precision: 0.9400 - prc: 0.9978 - val_loss: 3.9599 - val_tp: 5.0000 - val_fp: 6.0000 - val_tn: 21.0000 - val_fn: 10.0000 - val_accuracy: 0.6190 - val_recall: 0.3333 - val_precision: 0.4545 - val_prc: 0.4256\n",
            "Epoch 227/500\n",
            "2/2 [==============================] - 0s 38ms/step - loss: 0.0303 - tp: 47.0000 - fp: 3.0000 - tn: 115.0000 - fn: 0.0000e+00 - accuracy: 0.9818 - recall: 1.0000 - precision: 0.9400 - prc: 0.9976 - val_loss: 3.9808 - val_tp: 5.0000 - val_fp: 6.0000 - val_tn: 21.0000 - val_fn: 10.0000 - val_accuracy: 0.6190 - val_recall: 0.3333 - val_precision: 0.4545 - val_prc: 0.4256\n",
            "Epoch 228/500\n",
            "2/2 [==============================] - 0s 40ms/step - loss: 0.0299 - tp: 47.0000 - fp: 3.0000 - tn: 115.0000 - fn: 0.0000e+00 - accuracy: 0.9818 - recall: 1.0000 - precision: 0.9400 - prc: 0.9975 - val_loss: 3.9854 - val_tp: 5.0000 - val_fp: 6.0000 - val_tn: 21.0000 - val_fn: 10.0000 - val_accuracy: 0.6190 - val_recall: 0.3333 - val_precision: 0.4545 - val_prc: 0.4233\n",
            "Epoch 229/500\n",
            "2/2 [==============================] - 0s 59ms/step - loss: 0.0298 - tp: 47.0000 - fp: 3.0000 - tn: 115.0000 - fn: 0.0000e+00 - accuracy: 0.9818 - recall: 1.0000 - precision: 0.9400 - prc: 0.9973 - val_loss: 3.9886 - val_tp: 5.0000 - val_fp: 6.0000 - val_tn: 21.0000 - val_fn: 10.0000 - val_accuracy: 0.6190 - val_recall: 0.3333 - val_precision: 0.4545 - val_prc: 0.4281\n",
            "Epoch 230/500\n",
            "2/2 [==============================] - 0s 43ms/step - loss: 0.0298 - tp: 47.0000 - fp: 3.0000 - tn: 115.0000 - fn: 0.0000e+00 - accuracy: 0.9818 - recall: 1.0000 - precision: 0.9400 - prc: 0.9976 - val_loss: 3.9763 - val_tp: 5.0000 - val_fp: 6.0000 - val_tn: 21.0000 - val_fn: 10.0000 - val_accuracy: 0.6190 - val_recall: 0.3333 - val_precision: 0.4545 - val_prc: 0.4281\n",
            "Epoch 231/500\n",
            "2/2 [==============================] - 0s 42ms/step - loss: 0.0298 - tp: 47.0000 - fp: 3.0000 - tn: 115.0000 - fn: 0.0000e+00 - accuracy: 0.9818 - recall: 1.0000 - precision: 0.9400 - prc: 0.9975 - val_loss: 3.9697 - val_tp: 5.0000 - val_fp: 6.0000 - val_tn: 21.0000 - val_fn: 10.0000 - val_accuracy: 0.6190 - val_recall: 0.3333 - val_precision: 0.4545 - val_prc: 0.4305\n",
            "Epoch 232/500\n",
            "2/2 [==============================] - 0s 40ms/step - loss: 0.0304 - tp: 47.0000 - fp: 3.0000 - tn: 115.0000 - fn: 0.0000e+00 - accuracy: 0.9818 - recall: 1.0000 - precision: 0.9400 - prc: 0.9973 - val_loss: 3.9692 - val_tp: 5.0000 - val_fp: 6.0000 - val_tn: 21.0000 - val_fn: 10.0000 - val_accuracy: 0.6190 - val_recall: 0.3333 - val_precision: 0.4545 - val_prc: 0.4305\n",
            "Epoch 233/500\n",
            "2/2 [==============================] - 0s 38ms/step - loss: 0.0303 - tp: 47.0000 - fp: 3.0000 - tn: 115.0000 - fn: 0.0000e+00 - accuracy: 0.9818 - recall: 1.0000 - precision: 0.9400 - prc: 0.9971 - val_loss: 3.9669 - val_tp: 5.0000 - val_fp: 6.0000 - val_tn: 21.0000 - val_fn: 10.0000 - val_accuracy: 0.6190 - val_recall: 0.3333 - val_precision: 0.4545 - val_prc: 0.4281\n",
            "Epoch 234/500\n",
            "2/2 [==============================] - 0s 42ms/step - loss: 0.0293 - tp: 47.0000 - fp: 3.0000 - tn: 115.0000 - fn: 0.0000e+00 - accuracy: 0.9818 - recall: 1.0000 - precision: 0.9400 - prc: 0.9978 - val_loss: 3.9706 - val_tp: 5.0000 - val_fp: 6.0000 - val_tn: 21.0000 - val_fn: 10.0000 - val_accuracy: 0.6190 - val_recall: 0.3333 - val_precision: 0.4545 - val_prc: 0.4331\n",
            "Epoch 235/500\n",
            "2/2 [==============================] - 0s 61ms/step - loss: 0.0301 - tp: 47.0000 - fp: 3.0000 - tn: 115.0000 - fn: 0.0000e+00 - accuracy: 0.9818 - recall: 1.0000 - precision: 0.9400 - prc: 0.9975 - val_loss: 3.9801 - val_tp: 5.0000 - val_fp: 6.0000 - val_tn: 21.0000 - val_fn: 10.0000 - val_accuracy: 0.6190 - val_recall: 0.3333 - val_precision: 0.4545 - val_prc: 0.4233\n",
            "Epoch 236/500\n",
            "2/2 [==============================] - 0s 58ms/step - loss: 0.0298 - tp: 47.0000 - fp: 3.0000 - tn: 115.0000 - fn: 0.0000e+00 - accuracy: 0.9818 - recall: 1.0000 - precision: 0.9400 - prc: 0.9976 - val_loss: 3.9887 - val_tp: 5.0000 - val_fp: 6.0000 - val_tn: 21.0000 - val_fn: 10.0000 - val_accuracy: 0.6190 - val_recall: 0.3333 - val_precision: 0.4545 - val_prc: 0.4225\n",
            "Epoch 237/500\n",
            "2/2 [==============================] - 0s 41ms/step - loss: 0.0299 - tp: 47.0000 - fp: 3.0000 - tn: 115.0000 - fn: 0.0000e+00 - accuracy: 0.9818 - recall: 1.0000 - precision: 0.9400 - prc: 0.9973 - val_loss: 3.9844 - val_tp: 5.0000 - val_fp: 6.0000 - val_tn: 21.0000 - val_fn: 10.0000 - val_accuracy: 0.6190 - val_recall: 0.3333 - val_precision: 0.4545 - val_prc: 0.4225\n",
            "Epoch 238/500\n",
            "2/2 [==============================] - 0s 56ms/step - loss: 0.0299 - tp: 47.0000 - fp: 3.0000 - tn: 115.0000 - fn: 0.0000e+00 - accuracy: 0.9818 - recall: 1.0000 - precision: 0.9400 - prc: 0.9975 - val_loss: 3.9881 - val_tp: 5.0000 - val_fp: 6.0000 - val_tn: 21.0000 - val_fn: 10.0000 - val_accuracy: 0.6190 - val_recall: 0.3333 - val_precision: 0.4545 - val_prc: 0.4314\n",
            "Epoch 239/500\n",
            "2/2 [==============================] - 0s 46ms/step - loss: 0.0300 - tp: 47.0000 - fp: 3.0000 - tn: 115.0000 - fn: 0.0000e+00 - accuracy: 0.9818 - recall: 1.0000 - precision: 0.9400 - prc: 0.9973 - val_loss: 3.9885 - val_tp: 5.0000 - val_fp: 6.0000 - val_tn: 21.0000 - val_fn: 10.0000 - val_accuracy: 0.6190 - val_recall: 0.3333 - val_precision: 0.4545 - val_prc: 0.4203\n",
            "Epoch 240/500\n",
            "2/2 [==============================] - 0s 49ms/step - loss: 0.0296 - tp: 47.0000 - fp: 3.0000 - tn: 115.0000 - fn: 0.0000e+00 - accuracy: 0.9818 - recall: 1.0000 - precision: 0.9400 - prc: 0.9976 - val_loss: 3.9930 - val_tp: 5.0000 - val_fp: 6.0000 - val_tn: 21.0000 - val_fn: 10.0000 - val_accuracy: 0.6190 - val_recall: 0.3333 - val_precision: 0.4545 - val_prc: 0.4203\n",
            "Epoch 241/500\n",
            "2/2 [==============================] - 0s 46ms/step - loss: 0.0299 - tp: 47.0000 - fp: 3.0000 - tn: 115.0000 - fn: 0.0000e+00 - accuracy: 0.9818 - recall: 1.0000 - precision: 0.9400 - prc: 0.9973 - val_loss: 3.9876 - val_tp: 5.0000 - val_fp: 6.0000 - val_tn: 21.0000 - val_fn: 10.0000 - val_accuracy: 0.6190 - val_recall: 0.3333 - val_precision: 0.4545 - val_prc: 0.4233\n",
            "Epoch 242/500\n",
            "2/2 [==============================] - 0s 51ms/step - loss: 0.0296 - tp: 47.0000 - fp: 3.0000 - tn: 115.0000 - fn: 0.0000e+00 - accuracy: 0.9818 - recall: 1.0000 - precision: 0.9400 - prc: 0.9971 - val_loss: 3.9849 - val_tp: 5.0000 - val_fp: 6.0000 - val_tn: 21.0000 - val_fn: 10.0000 - val_accuracy: 0.6190 - val_recall: 0.3333 - val_precision: 0.4545 - val_prc: 0.4233\n",
            "Epoch 243/500\n",
            "2/2 [==============================] - 0s 48ms/step - loss: 0.0292 - tp: 47.0000 - fp: 3.0000 - tn: 115.0000 - fn: 0.0000e+00 - accuracy: 0.9818 - recall: 1.0000 - precision: 0.9400 - prc: 0.9978 - val_loss: 3.9832 - val_tp: 5.0000 - val_fp: 6.0000 - val_tn: 21.0000 - val_fn: 10.0000 - val_accuracy: 0.6190 - val_recall: 0.3333 - val_precision: 0.4545 - val_prc: 0.4233\n",
            "Epoch 244/500\n",
            "2/2 [==============================] - 0s 56ms/step - loss: 0.0296 - tp: 47.0000 - fp: 3.0000 - tn: 115.0000 - fn: 0.0000e+00 - accuracy: 0.9818 - recall: 1.0000 - precision: 0.9400 - prc: 0.9973 - val_loss: 3.9819 - val_tp: 5.0000 - val_fp: 6.0000 - val_tn: 21.0000 - val_fn: 10.0000 - val_accuracy: 0.6190 - val_recall: 0.3333 - val_precision: 0.4545 - val_prc: 0.4256\n",
            "Epoch 245/500\n",
            "2/2 [==============================] - 0s 45ms/step - loss: 0.0294 - tp: 47.0000 - fp: 3.0000 - tn: 115.0000 - fn: 0.0000e+00 - accuracy: 0.9818 - recall: 1.0000 - precision: 0.9400 - prc: 0.9975 - val_loss: 3.9832 - val_tp: 5.0000 - val_fp: 6.0000 - val_tn: 21.0000 - val_fn: 10.0000 - val_accuracy: 0.6190 - val_recall: 0.3333 - val_precision: 0.4545 - val_prc: 0.4306\n",
            "Epoch 246/500\n",
            "2/2 [==============================] - 0s 53ms/step - loss: 0.0295 - tp: 47.0000 - fp: 3.0000 - tn: 115.0000 - fn: 0.0000e+00 - accuracy: 0.9818 - recall: 1.0000 - precision: 0.9400 - prc: 0.9975 - val_loss: 3.9898 - val_tp: 5.0000 - val_fp: 6.0000 - val_tn: 21.0000 - val_fn: 10.0000 - val_accuracy: 0.6190 - val_recall: 0.3333 - val_precision: 0.4545 - val_prc: 0.4207\n",
            "Epoch 247/500\n",
            "2/2 [==============================] - 0s 45ms/step - loss: 0.0294 - tp: 47.0000 - fp: 3.0000 - tn: 115.0000 - fn: 0.0000e+00 - accuracy: 0.9818 - recall: 1.0000 - precision: 0.9400 - prc: 0.9976 - val_loss: 3.9930 - val_tp: 5.0000 - val_fp: 6.0000 - val_tn: 21.0000 - val_fn: 10.0000 - val_accuracy: 0.6190 - val_recall: 0.3333 - val_precision: 0.4545 - val_prc: 0.4256\n",
            "Epoch 248/500\n",
            "2/2 [==============================] - 0s 60ms/step - loss: 0.0295 - tp: 47.0000 - fp: 3.0000 - tn: 115.0000 - fn: 0.0000e+00 - accuracy: 0.9818 - recall: 1.0000 - precision: 0.9400 - prc: 0.9975 - val_loss: 3.9969 - val_tp: 5.0000 - val_fp: 6.0000 - val_tn: 21.0000 - val_fn: 10.0000 - val_accuracy: 0.6190 - val_recall: 0.3333 - val_precision: 0.4545 - val_prc: 0.4256\n",
            "Epoch 249/500\n",
            "2/2 [==============================] - 0s 46ms/step - loss: 0.0295 - tp: 47.0000 - fp: 3.0000 - tn: 115.0000 - fn: 0.0000e+00 - accuracy: 0.9818 - recall: 1.0000 - precision: 0.9400 - prc: 0.9976 - val_loss: 4.0112 - val_tp: 5.0000 - val_fp: 6.0000 - val_tn: 21.0000 - val_fn: 10.0000 - val_accuracy: 0.6190 - val_recall: 0.3333 - val_precision: 0.4545 - val_prc: 0.4232\n",
            "Epoch 250/500\n",
            "2/2 [==============================] - 0s 53ms/step - loss: 0.0295 - tp: 47.0000 - fp: 3.0000 - tn: 115.0000 - fn: 0.0000e+00 - accuracy: 0.9818 - recall: 1.0000 - precision: 0.9400 - prc: 0.9973 - val_loss: 4.0226 - val_tp: 5.0000 - val_fp: 6.0000 - val_tn: 21.0000 - val_fn: 10.0000 - val_accuracy: 0.6190 - val_recall: 0.3333 - val_precision: 0.4545 - val_prc: 0.4232\n",
            "Epoch 251/500\n",
            "2/2 [==============================] - 0s 57ms/step - loss: 0.0293 - tp: 47.0000 - fp: 3.0000 - tn: 115.0000 - fn: 0.0000e+00 - accuracy: 0.9818 - recall: 1.0000 - precision: 0.9400 - prc: 0.9975 - val_loss: 4.0358 - val_tp: 5.0000 - val_fp: 6.0000 - val_tn: 21.0000 - val_fn: 10.0000 - val_accuracy: 0.6190 - val_recall: 0.3333 - val_precision: 0.4545 - val_prc: 0.4232\n",
            "Epoch 252/500\n",
            "2/2 [==============================] - 0s 56ms/step - loss: 0.0296 - tp: 47.0000 - fp: 3.0000 - tn: 115.0000 - fn: 0.0000e+00 - accuracy: 0.9818 - recall: 1.0000 - precision: 0.9400 - prc: 0.9973 - val_loss: 4.0530 - val_tp: 5.0000 - val_fp: 6.0000 - val_tn: 21.0000 - val_fn: 10.0000 - val_accuracy: 0.6190 - val_recall: 0.3333 - val_precision: 0.4545 - val_prc: 0.4256\n",
            "Epoch 253/500\n",
            "2/2 [==============================] - 0s 46ms/step - loss: 0.0294 - tp: 47.0000 - fp: 3.0000 - tn: 115.0000 - fn: 0.0000e+00 - accuracy: 0.9818 - recall: 1.0000 - precision: 0.9400 - prc: 0.9975 - val_loss: 4.0659 - val_tp: 5.0000 - val_fp: 6.0000 - val_tn: 21.0000 - val_fn: 10.0000 - val_accuracy: 0.6190 - val_recall: 0.3333 - val_precision: 0.4545 - val_prc: 0.4281\n",
            "Epoch 254/500\n",
            "2/2 [==============================] - 0s 49ms/step - loss: 0.0303 - tp: 47.0000 - fp: 3.0000 - tn: 115.0000 - fn: 0.0000e+00 - accuracy: 0.9818 - recall: 1.0000 - precision: 0.9400 - prc: 0.9969 - val_loss: 4.0699 - val_tp: 5.0000 - val_fp: 6.0000 - val_tn: 21.0000 - val_fn: 10.0000 - val_accuracy: 0.6190 - val_recall: 0.3333 - val_precision: 0.4545 - val_prc: 0.4336\n",
            "Epoch 255/500\n",
            "2/2 [==============================] - 0s 43ms/step - loss: 0.0301 - tp: 47.0000 - fp: 3.0000 - tn: 115.0000 - fn: 0.0000e+00 - accuracy: 0.9818 - recall: 1.0000 - precision: 0.9400 - prc: 0.9973 - val_loss: 4.0767 - val_tp: 5.0000 - val_fp: 6.0000 - val_tn: 21.0000 - val_fn: 10.0000 - val_accuracy: 0.6190 - val_recall: 0.3333 - val_precision: 0.4545 - val_prc: 0.4233\n",
            "Epoch 256/500\n",
            "2/2 [==============================] - 0s 53ms/step - loss: 0.0300 - tp: 47.0000 - fp: 3.0000 - tn: 115.0000 - fn: 0.0000e+00 - accuracy: 0.9818 - recall: 1.0000 - precision: 0.9400 - prc: 0.9973 - val_loss: 4.0673 - val_tp: 5.0000 - val_fp: 6.0000 - val_tn: 21.0000 - val_fn: 10.0000 - val_accuracy: 0.6190 - val_recall: 0.3333 - val_precision: 0.4545 - val_prc: 0.4256\n",
            "Epoch 257/500\n",
            "2/2 [==============================] - 0s 56ms/step - loss: 0.0294 - tp: 47.0000 - fp: 3.0000 - tn: 115.0000 - fn: 0.0000e+00 - accuracy: 0.9818 - recall: 1.0000 - precision: 0.9400 - prc: 0.9978 - val_loss: 4.0581 - val_tp: 5.0000 - val_fp: 6.0000 - val_tn: 21.0000 - val_fn: 10.0000 - val_accuracy: 0.6190 - val_recall: 0.3333 - val_precision: 0.4545 - val_prc: 0.4256\n",
            "Epoch 258/500\n",
            "2/2 [==============================] - 0s 48ms/step - loss: 0.0302 - tp: 47.0000 - fp: 3.0000 - tn: 115.0000 - fn: 0.0000e+00 - accuracy: 0.9818 - recall: 1.0000 - precision: 0.9400 - prc: 0.9971 - val_loss: 4.0396 - val_tp: 5.0000 - val_fp: 6.0000 - val_tn: 21.0000 - val_fn: 10.0000 - val_accuracy: 0.6190 - val_recall: 0.3333 - val_precision: 0.4545 - val_prc: 0.4256\n",
            "Epoch 259/500\n",
            "2/2 [==============================] - 0s 51ms/step - loss: 0.0295 - tp: 47.0000 - fp: 3.0000 - tn: 115.0000 - fn: 0.0000e+00 - accuracy: 0.9818 - recall: 1.0000 - precision: 0.9400 - prc: 0.9975 - val_loss: 4.0310 - val_tp: 5.0000 - val_fp: 6.0000 - val_tn: 21.0000 - val_fn: 10.0000 - val_accuracy: 0.6190 - val_recall: 0.3333 - val_precision: 0.4545 - val_prc: 0.4256\n",
            "Epoch 260/500\n",
            "2/2 [==============================] - 0s 52ms/step - loss: 0.0298 - tp: 47.0000 - fp: 3.0000 - tn: 115.0000 - fn: 0.0000e+00 - accuracy: 0.9818 - recall: 1.0000 - precision: 0.9400 - prc: 0.9971 - val_loss: 4.0267 - val_tp: 5.0000 - val_fp: 6.0000 - val_tn: 21.0000 - val_fn: 10.0000 - val_accuracy: 0.6190 - val_recall: 0.3333 - val_precision: 0.4545 - val_prc: 0.4256\n",
            "Epoch 261/500\n",
            "2/2 [==============================] - 0s 42ms/step - loss: 0.0293 - tp: 47.0000 - fp: 3.0000 - tn: 115.0000 - fn: 0.0000e+00 - accuracy: 0.9818 - recall: 1.0000 - precision: 0.9400 - prc: 0.9978 - val_loss: 4.0329 - val_tp: 5.0000 - val_fp: 6.0000 - val_tn: 21.0000 - val_fn: 10.0000 - val_accuracy: 0.6190 - val_recall: 0.3333 - val_precision: 0.4545 - val_prc: 0.4232\n",
            "Epoch 262/500\n",
            "2/2 [==============================] - 0s 41ms/step - loss: 0.0297 - tp: 47.0000 - fp: 3.0000 - tn: 115.0000 - fn: 0.0000e+00 - accuracy: 0.9818 - recall: 1.0000 - precision: 0.9400 - prc: 0.9973 - val_loss: 4.0380 - val_tp: 5.0000 - val_fp: 6.0000 - val_tn: 21.0000 - val_fn: 10.0000 - val_accuracy: 0.6190 - val_recall: 0.3333 - val_precision: 0.4545 - val_prc: 0.4232\n",
            "Epoch 263/500\n",
            "2/2 [==============================] - 0s 54ms/step - loss: 0.0294 - tp: 47.0000 - fp: 3.0000 - tn: 115.0000 - fn: 0.0000e+00 - accuracy: 0.9818 - recall: 1.0000 - precision: 0.9400 - prc: 0.9976 - val_loss: 4.0529 - val_tp: 5.0000 - val_fp: 6.0000 - val_tn: 21.0000 - val_fn: 10.0000 - val_accuracy: 0.6190 - val_recall: 0.3333 - val_precision: 0.4545 - val_prc: 0.4232\n",
            "Epoch 264/500\n",
            "2/2 [==============================] - 0s 46ms/step - loss: 0.0295 - tp: 47.0000 - fp: 3.0000 - tn: 115.0000 - fn: 0.0000e+00 - accuracy: 0.9818 - recall: 1.0000 - precision: 0.9400 - prc: 0.9975 - val_loss: 4.0679 - val_tp: 5.0000 - val_fp: 6.0000 - val_tn: 21.0000 - val_fn: 10.0000 - val_accuracy: 0.6190 - val_recall: 0.3333 - val_precision: 0.4545 - val_prc: 0.4186\n",
            "Epoch 265/500\n",
            "2/2 [==============================] - 0s 62ms/step - loss: 0.0294 - tp: 47.0000 - fp: 3.0000 - tn: 115.0000 - fn: 0.0000e+00 - accuracy: 0.9818 - recall: 1.0000 - precision: 0.9400 - prc: 0.9971 - val_loss: 4.0793 - val_tp: 5.0000 - val_fp: 6.0000 - val_tn: 21.0000 - val_fn: 10.0000 - val_accuracy: 0.6190 - val_recall: 0.3333 - val_precision: 0.4545 - val_prc: 0.4186\n",
            "Epoch 266/500\n",
            "2/2 [==============================] - 0s 43ms/step - loss: 0.0300 - tp: 47.0000 - fp: 3.0000 - tn: 115.0000 - fn: 0.0000e+00 - accuracy: 0.9818 - recall: 1.0000 - precision: 0.9400 - prc: 0.9973 - val_loss: 4.0902 - val_tp: 5.0000 - val_fp: 6.0000 - val_tn: 21.0000 - val_fn: 10.0000 - val_accuracy: 0.6190 - val_recall: 0.3333 - val_precision: 0.4545 - val_prc: 0.4211\n",
            "Epoch 267/500\n",
            "2/2 [==============================] - 0s 41ms/step - loss: 0.0296 - tp: 47.0000 - fp: 3.0000 - tn: 115.0000 - fn: 0.0000e+00 - accuracy: 0.9818 - recall: 1.0000 - precision: 0.9400 - prc: 0.9975 - val_loss: 4.0848 - val_tp: 5.0000 - val_fp: 6.0000 - val_tn: 21.0000 - val_fn: 10.0000 - val_accuracy: 0.6190 - val_recall: 0.3333 - val_precision: 0.4545 - val_prc: 0.4232\n",
            "Epoch 268/500\n",
            "2/2 [==============================] - 0s 42ms/step - loss: 0.0295 - tp: 47.0000 - fp: 3.0000 - tn: 115.0000 - fn: 0.0000e+00 - accuracy: 0.9818 - recall: 1.0000 - precision: 0.9400 - prc: 0.9980 - val_loss: 4.0695 - val_tp: 5.0000 - val_fp: 6.0000 - val_tn: 21.0000 - val_fn: 10.0000 - val_accuracy: 0.6190 - val_recall: 0.3333 - val_precision: 0.4545 - val_prc: 0.4305\n",
            "Epoch 269/500\n",
            "2/2 [==============================] - 0s 40ms/step - loss: 0.0297 - tp: 47.0000 - fp: 3.0000 - tn: 115.0000 - fn: 0.0000e+00 - accuracy: 0.9818 - recall: 1.0000 - precision: 0.9400 - prc: 0.9973 - val_loss: 4.0539 - val_tp: 5.0000 - val_fp: 6.0000 - val_tn: 21.0000 - val_fn: 10.0000 - val_accuracy: 0.6190 - val_recall: 0.3333 - val_precision: 0.4545 - val_prc: 0.4305\n",
            "Epoch 270/500\n",
            "2/2 [==============================] - 0s 42ms/step - loss: 0.0293 - tp: 47.0000 - fp: 3.0000 - tn: 115.0000 - fn: 0.0000e+00 - accuracy: 0.9818 - recall: 1.0000 - precision: 0.9400 - prc: 0.9975 - val_loss: 4.0495 - val_tp: 5.0000 - val_fp: 6.0000 - val_tn: 21.0000 - val_fn: 10.0000 - val_accuracy: 0.6190 - val_recall: 0.3333 - val_precision: 0.4545 - val_prc: 0.4305\n",
            "Epoch 271/500\n",
            "2/2 [==============================] - 0s 39ms/step - loss: 0.0295 - tp: 47.0000 - fp: 3.0000 - tn: 115.0000 - fn: 0.0000e+00 - accuracy: 0.9818 - recall: 1.0000 - precision: 0.9400 - prc: 0.9975 - val_loss: 4.0408 - val_tp: 5.0000 - val_fp: 6.0000 - val_tn: 21.0000 - val_fn: 10.0000 - val_accuracy: 0.6190 - val_recall: 0.3333 - val_precision: 0.4545 - val_prc: 0.4305\n",
            "Epoch 272/500\n",
            "2/2 [==============================] - 0s 40ms/step - loss: 0.0297 - tp: 47.0000 - fp: 3.0000 - tn: 115.0000 - fn: 0.0000e+00 - accuracy: 0.9818 - recall: 1.0000 - precision: 0.9400 - prc: 0.9973 - val_loss: 4.0297 - val_tp: 5.0000 - val_fp: 6.0000 - val_tn: 21.0000 - val_fn: 10.0000 - val_accuracy: 0.6190 - val_recall: 0.3333 - val_precision: 0.4545 - val_prc: 0.4305\n",
            "Epoch 273/500\n",
            "2/2 [==============================] - 0s 42ms/step - loss: 0.0294 - tp: 47.0000 - fp: 3.0000 - tn: 115.0000 - fn: 0.0000e+00 - accuracy: 0.9818 - recall: 1.0000 - precision: 0.9400 - prc: 0.9975 - val_loss: 4.0203 - val_tp: 5.0000 - val_fp: 6.0000 - val_tn: 21.0000 - val_fn: 10.0000 - val_accuracy: 0.6190 - val_recall: 0.3333 - val_precision: 0.4545 - val_prc: 0.4305\n",
            "Epoch 274/500\n",
            "2/2 [==============================] - 0s 39ms/step - loss: 0.0295 - tp: 47.0000 - fp: 3.0000 - tn: 115.0000 - fn: 0.0000e+00 - accuracy: 0.9818 - recall: 1.0000 - precision: 0.9400 - prc: 0.9967 - val_loss: 4.0147 - val_tp: 5.0000 - val_fp: 6.0000 - val_tn: 21.0000 - val_fn: 10.0000 - val_accuracy: 0.6190 - val_recall: 0.3333 - val_precision: 0.4545 - val_prc: 0.4305\n",
            "Epoch 275/500\n",
            "2/2 [==============================] - 0s 43ms/step - loss: 0.0294 - tp: 47.0000 - fp: 3.0000 - tn: 115.0000 - fn: 0.0000e+00 - accuracy: 0.9818 - recall: 1.0000 - precision: 0.9400 - prc: 0.9974 - val_loss: 4.0042 - val_tp: 5.0000 - val_fp: 6.0000 - val_tn: 21.0000 - val_fn: 10.0000 - val_accuracy: 0.6190 - val_recall: 0.3333 - val_precision: 0.4545 - val_prc: 0.4305\n",
            "Epoch 276/500\n",
            "2/2 [==============================] - 0s 51ms/step - loss: 0.0298 - tp: 47.0000 - fp: 3.0000 - tn: 115.0000 - fn: 0.0000e+00 - accuracy: 0.9818 - recall: 1.0000 - precision: 0.9400 - prc: 0.9971 - val_loss: 3.9969 - val_tp: 5.0000 - val_fp: 6.0000 - val_tn: 21.0000 - val_fn: 10.0000 - val_accuracy: 0.6190 - val_recall: 0.3333 - val_precision: 0.4545 - val_prc: 0.4256\n",
            "Epoch 277/500\n",
            "2/2 [==============================] - 0s 43ms/step - loss: 0.0296 - tp: 47.0000 - fp: 3.0000 - tn: 115.0000 - fn: 0.0000e+00 - accuracy: 0.9818 - recall: 1.0000 - precision: 0.9400 - prc: 0.9973 - val_loss: 4.0021 - val_tp: 5.0000 - val_fp: 6.0000 - val_tn: 21.0000 - val_fn: 10.0000 - val_accuracy: 0.6190 - val_recall: 0.3333 - val_precision: 0.4545 - val_prc: 0.4256\n",
            "Epoch 278/500\n",
            "2/2 [==============================] - 0s 45ms/step - loss: 0.0294 - tp: 47.0000 - fp: 3.0000 - tn: 115.0000 - fn: 0.0000e+00 - accuracy: 0.9818 - recall: 1.0000 - precision: 0.9400 - prc: 0.9973 - val_loss: 4.0049 - val_tp: 5.0000 - val_fp: 6.0000 - val_tn: 21.0000 - val_fn: 10.0000 - val_accuracy: 0.6190 - val_recall: 0.3333 - val_precision: 0.4545 - val_prc: 0.4256\n",
            "Epoch 279/500\n",
            "2/2 [==============================] - 0s 40ms/step - loss: 0.0298 - tp: 47.0000 - fp: 3.0000 - tn: 115.0000 - fn: 0.0000e+00 - accuracy: 0.9818 - recall: 1.0000 - precision: 0.9400 - prc: 0.9971 - val_loss: 4.0024 - val_tp: 6.0000 - val_fp: 6.0000 - val_tn: 21.0000 - val_fn: 9.0000 - val_accuracy: 0.6429 - val_recall: 0.4000 - val_precision: 0.5000 - val_prc: 0.4256\n",
            "Epoch 280/500\n",
            "2/2 [==============================] - 0s 43ms/step - loss: 0.0295 - tp: 47.0000 - fp: 3.0000 - tn: 115.0000 - fn: 0.0000e+00 - accuracy: 0.9818 - recall: 1.0000 - precision: 0.9400 - prc: 0.9973 - val_loss: 4.0100 - val_tp: 6.0000 - val_fp: 6.0000 - val_tn: 21.0000 - val_fn: 9.0000 - val_accuracy: 0.6429 - val_recall: 0.4000 - val_precision: 0.5000 - val_prc: 0.4256\n",
            "Epoch 281/500\n",
            "2/2 [==============================] - 0s 62ms/step - loss: 0.0295 - tp: 47.0000 - fp: 3.0000 - tn: 115.0000 - fn: 0.0000e+00 - accuracy: 0.9818 - recall: 1.0000 - precision: 0.9400 - prc: 0.9975 - val_loss: 4.0236 - val_tp: 5.0000 - val_fp: 6.0000 - val_tn: 21.0000 - val_fn: 10.0000 - val_accuracy: 0.6190 - val_recall: 0.3333 - val_precision: 0.4545 - val_prc: 0.4305\n",
            "Epoch 282/500\n",
            "2/2 [==============================] - 0s 55ms/step - loss: 0.0292 - tp: 47.0000 - fp: 3.0000 - tn: 115.0000 - fn: 0.0000e+00 - accuracy: 0.9818 - recall: 1.0000 - precision: 0.9400 - prc: 0.9978 - val_loss: 4.0432 - val_tp: 5.0000 - val_fp: 6.0000 - val_tn: 21.0000 - val_fn: 10.0000 - val_accuracy: 0.6190 - val_recall: 0.3333 - val_precision: 0.4545 - val_prc: 0.4305\n",
            "Epoch 283/500\n",
            "2/2 [==============================] - 0s 49ms/step - loss: 0.0294 - tp: 47.0000 - fp: 3.0000 - tn: 115.0000 - fn: 0.0000e+00 - accuracy: 0.9818 - recall: 1.0000 - precision: 0.9400 - prc: 0.9975 - val_loss: 4.0594 - val_tp: 5.0000 - val_fp: 6.0000 - val_tn: 21.0000 - val_fn: 10.0000 - val_accuracy: 0.6190 - val_recall: 0.3333 - val_precision: 0.4545 - val_prc: 0.4305\n",
            "Epoch 284/500\n",
            "2/2 [==============================] - 0s 56ms/step - loss: 0.0297 - tp: 47.0000 - fp: 3.0000 - tn: 115.0000 - fn: 0.0000e+00 - accuracy: 0.9818 - recall: 1.0000 - precision: 0.9400 - prc: 0.9971 - val_loss: 4.0698 - val_tp: 5.0000 - val_fp: 6.0000 - val_tn: 21.0000 - val_fn: 10.0000 - val_accuracy: 0.6190 - val_recall: 0.3333 - val_precision: 0.4545 - val_prc: 0.4256\n",
            "Epoch 285/500\n",
            "2/2 [==============================] - 0s 48ms/step - loss: 0.0294 - tp: 47.0000 - fp: 3.0000 - tn: 115.0000 - fn: 0.0000e+00 - accuracy: 0.9818 - recall: 1.0000 - precision: 0.9400 - prc: 0.9973 - val_loss: 4.0809 - val_tp: 5.0000 - val_fp: 6.0000 - val_tn: 21.0000 - val_fn: 10.0000 - val_accuracy: 0.6190 - val_recall: 0.3333 - val_precision: 0.4545 - val_prc: 0.4305\n",
            "Epoch 286/500\n",
            "2/2 [==============================] - 0s 45ms/step - loss: 0.0302 - tp: 47.0000 - fp: 3.0000 - tn: 115.0000 - fn: 0.0000e+00 - accuracy: 0.9818 - recall: 1.0000 - precision: 0.9400 - prc: 0.9973 - val_loss: 4.0864 - val_tp: 5.0000 - val_fp: 6.0000 - val_tn: 21.0000 - val_fn: 10.0000 - val_accuracy: 0.6190 - val_recall: 0.3333 - val_precision: 0.4545 - val_prc: 0.4305\n",
            "Epoch 287/500\n",
            "2/2 [==============================] - 0s 49ms/step - loss: 0.0299 - tp: 47.0000 - fp: 3.0000 - tn: 115.0000 - fn: 0.0000e+00 - accuracy: 0.9818 - recall: 1.0000 - precision: 0.9400 - prc: 0.9971 - val_loss: 4.0788 - val_tp: 5.0000 - val_fp: 6.0000 - val_tn: 21.0000 - val_fn: 10.0000 - val_accuracy: 0.6190 - val_recall: 0.3333 - val_precision: 0.4545 - val_prc: 0.4305\n",
            "Epoch 288/500\n",
            "2/2 [==============================] - 0s 57ms/step - loss: 0.0297 - tp: 47.0000 - fp: 3.0000 - tn: 115.0000 - fn: 0.0000e+00 - accuracy: 0.9818 - recall: 1.0000 - precision: 0.9400 - prc: 0.9975 - val_loss: 4.0741 - val_tp: 6.0000 - val_fp: 6.0000 - val_tn: 21.0000 - val_fn: 9.0000 - val_accuracy: 0.6429 - val_recall: 0.4000 - val_precision: 0.5000 - val_prc: 0.4305\n",
            "Epoch 289/500\n",
            "2/2 [==============================] - 0s 50ms/step - loss: 0.0301 - tp: 47.0000 - fp: 3.0000 - tn: 115.0000 - fn: 0.0000e+00 - accuracy: 0.9818 - recall: 1.0000 - precision: 0.9400 - prc: 0.9969 - val_loss: 4.0624 - val_tp: 6.0000 - val_fp: 6.0000 - val_tn: 21.0000 - val_fn: 9.0000 - val_accuracy: 0.6429 - val_recall: 0.4000 - val_precision: 0.5000 - val_prc: 0.4256\n",
            "Epoch 290/500\n",
            "2/2 [==============================] - 0s 50ms/step - loss: 0.0294 - tp: 47.0000 - fp: 3.0000 - tn: 115.0000 - fn: 0.0000e+00 - accuracy: 0.9818 - recall: 1.0000 - precision: 0.9400 - prc: 0.9973 - val_loss: 4.0603 - val_tp: 6.0000 - val_fp: 6.0000 - val_tn: 21.0000 - val_fn: 9.0000 - val_accuracy: 0.6429 - val_recall: 0.4000 - val_precision: 0.5000 - val_prc: 0.4211\n",
            "Epoch 291/500\n",
            "2/2 [==============================] - 0s 46ms/step - loss: 0.0292 - tp: 47.0000 - fp: 3.0000 - tn: 115.0000 - fn: 0.0000e+00 - accuracy: 0.9818 - recall: 1.0000 - precision: 0.9400 - prc: 0.9978 - val_loss: 4.0639 - val_tp: 6.0000 - val_fp: 6.0000 - val_tn: 21.0000 - val_fn: 9.0000 - val_accuracy: 0.6429 - val_recall: 0.4000 - val_precision: 0.5000 - val_prc: 0.4211\n",
            "Epoch 292/500\n",
            "2/2 [==============================] - 0s 51ms/step - loss: 0.0300 - tp: 47.0000 - fp: 3.0000 - tn: 115.0000 - fn: 0.0000e+00 - accuracy: 0.9818 - recall: 1.0000 - precision: 0.9400 - prc: 0.9971 - val_loss: 4.0695 - val_tp: 6.0000 - val_fp: 6.0000 - val_tn: 21.0000 - val_fn: 9.0000 - val_accuracy: 0.6429 - val_recall: 0.4000 - val_precision: 0.5000 - val_prc: 0.4376\n",
            "Epoch 293/500\n",
            "2/2 [==============================] - 0s 52ms/step - loss: 0.0303 - tp: 47.0000 - fp: 3.0000 - tn: 115.0000 - fn: 0.0000e+00 - accuracy: 0.9818 - recall: 1.0000 - precision: 0.9400 - prc: 0.9969 - val_loss: 4.0687 - val_tp: 6.0000 - val_fp: 6.0000 - val_tn: 21.0000 - val_fn: 9.0000 - val_accuracy: 0.6429 - val_recall: 0.4000 - val_precision: 0.5000 - val_prc: 0.4211\n",
            "Epoch 294/500\n",
            "2/2 [==============================] - 0s 48ms/step - loss: 0.0296 - tp: 47.0000 - fp: 3.0000 - tn: 115.0000 - fn: 0.0000e+00 - accuracy: 0.9818 - recall: 1.0000 - precision: 0.9400 - prc: 0.9973 - val_loss: 4.0816 - val_tp: 6.0000 - val_fp: 6.0000 - val_tn: 21.0000 - val_fn: 9.0000 - val_accuracy: 0.6429 - val_recall: 0.4000 - val_precision: 0.5000 - val_prc: 0.4256\n",
            "Epoch 295/500\n",
            "2/2 [==============================] - 0s 50ms/step - loss: 0.0293 - tp: 47.0000 - fp: 3.0000 - tn: 115.0000 - fn: 0.0000e+00 - accuracy: 0.9818 - recall: 1.0000 - precision: 0.9400 - prc: 0.9975 - val_loss: 4.0901 - val_tp: 6.0000 - val_fp: 6.0000 - val_tn: 21.0000 - val_fn: 9.0000 - val_accuracy: 0.6429 - val_recall: 0.4000 - val_precision: 0.5000 - val_prc: 0.4256\n",
            "Epoch 296/500\n",
            "2/2 [==============================] - 0s 51ms/step - loss: 0.0297 - tp: 47.0000 - fp: 3.0000 - tn: 115.0000 - fn: 0.0000e+00 - accuracy: 0.9818 - recall: 1.0000 - precision: 0.9400 - prc: 0.9973 - val_loss: 4.1054 - val_tp: 6.0000 - val_fp: 6.0000 - val_tn: 21.0000 - val_fn: 9.0000 - val_accuracy: 0.6429 - val_recall: 0.4000 - val_precision: 0.5000 - val_prc: 0.4256\n",
            "Epoch 297/500\n",
            "2/2 [==============================] - 0s 52ms/step - loss: 0.0296 - tp: 47.0000 - fp: 3.0000 - tn: 115.0000 - fn: 0.0000e+00 - accuracy: 0.9818 - recall: 1.0000 - precision: 0.9400 - prc: 0.9973 - val_loss: 4.1148 - val_tp: 6.0000 - val_fp: 6.0000 - val_tn: 21.0000 - val_fn: 9.0000 - val_accuracy: 0.6429 - val_recall: 0.4000 - val_precision: 0.5000 - val_prc: 0.4422\n",
            "Epoch 298/500\n",
            "2/2 [==============================] - 0s 45ms/step - loss: 0.0295 - tp: 47.0000 - fp: 3.0000 - tn: 115.0000 - fn: 0.0000e+00 - accuracy: 0.9818 - recall: 1.0000 - precision: 0.9400 - prc: 0.9973 - val_loss: 4.1214 - val_tp: 6.0000 - val_fp: 6.0000 - val_tn: 21.0000 - val_fn: 9.0000 - val_accuracy: 0.6429 - val_recall: 0.4000 - val_precision: 0.5000 - val_prc: 0.4256\n",
            "Epoch 299/500\n",
            "2/2 [==============================] - 0s 46ms/step - loss: 0.0298 - tp: 47.0000 - fp: 3.0000 - tn: 115.0000 - fn: 0.0000e+00 - accuracy: 0.9818 - recall: 1.0000 - precision: 0.9400 - prc: 0.9967 - val_loss: 4.1222 - val_tp: 6.0000 - val_fp: 6.0000 - val_tn: 21.0000 - val_fn: 9.0000 - val_accuracy: 0.6429 - val_recall: 0.4000 - val_precision: 0.5000 - val_prc: 0.4422\n",
            "Epoch 300/500\n",
            "2/2 [==============================] - 0s 47ms/step - loss: 0.0293 - tp: 47.0000 - fp: 3.0000 - tn: 115.0000 - fn: 0.0000e+00 - accuracy: 0.9818 - recall: 1.0000 - precision: 0.9400 - prc: 0.9978 - val_loss: 4.1213 - val_tp: 6.0000 - val_fp: 6.0000 - val_tn: 21.0000 - val_fn: 9.0000 - val_accuracy: 0.6429 - val_recall: 0.4000 - val_precision: 0.5000 - val_prc: 0.4436\n",
            "Epoch 301/500\n",
            "2/2 [==============================] - 0s 40ms/step - loss: 0.0292 - tp: 47.0000 - fp: 3.0000 - tn: 115.0000 - fn: 0.0000e+00 - accuracy: 0.9818 - recall: 1.0000 - precision: 0.9400 - prc: 0.9978 - val_loss: 4.1233 - val_tp: 6.0000 - val_fp: 6.0000 - val_tn: 21.0000 - val_fn: 9.0000 - val_accuracy: 0.6429 - val_recall: 0.4000 - val_precision: 0.5000 - val_prc: 0.4376\n",
            "Epoch 302/500\n",
            "2/2 [==============================] - 0s 43ms/step - loss: 0.0296 - tp: 47.0000 - fp: 3.0000 - tn: 115.0000 - fn: 0.0000e+00 - accuracy: 0.9818 - recall: 1.0000 - precision: 0.9400 - prc: 0.9971 - val_loss: 4.1265 - val_tp: 6.0000 - val_fp: 6.0000 - val_tn: 21.0000 - val_fn: 9.0000 - val_accuracy: 0.6429 - val_recall: 0.4000 - val_precision: 0.5000 - val_prc: 0.4406\n",
            "Epoch 303/500\n",
            "2/2 [==============================] - 0s 41ms/step - loss: 0.0296 - tp: 47.0000 - fp: 3.0000 - tn: 115.0000 - fn: 0.0000e+00 - accuracy: 0.9818 - recall: 1.0000 - precision: 0.9400 - prc: 0.9973 - val_loss: 4.1385 - val_tp: 6.0000 - val_fp: 6.0000 - val_tn: 21.0000 - val_fn: 9.0000 - val_accuracy: 0.6429 - val_recall: 0.4000 - val_precision: 0.5000 - val_prc: 0.4376\n",
            "Epoch 304/500\n",
            "2/2 [==============================] - 0s 41ms/step - loss: 0.0301 - tp: 47.0000 - fp: 3.0000 - tn: 115.0000 - fn: 0.0000e+00 - accuracy: 0.9818 - recall: 1.0000 - precision: 0.9400 - prc: 0.9975 - val_loss: 4.1462 - val_tp: 6.0000 - val_fp: 6.0000 - val_tn: 21.0000 - val_fn: 9.0000 - val_accuracy: 0.6429 - val_recall: 0.4000 - val_precision: 0.5000 - val_prc: 0.4536\n",
            "Epoch 305/500\n",
            "2/2 [==============================] - 0s 43ms/step - loss: 0.0308 - tp: 47.0000 - fp: 3.0000 - tn: 115.0000 - fn: 0.0000e+00 - accuracy: 0.9818 - recall: 1.0000 - precision: 0.9400 - prc: 0.9964 - val_loss: 4.1456 - val_tp: 6.0000 - val_fp: 6.0000 - val_tn: 21.0000 - val_fn: 9.0000 - val_accuracy: 0.6429 - val_recall: 0.4000 - val_precision: 0.5000 - val_prc: 0.4452\n",
            "Epoch 306/500\n",
            "2/2 [==============================] - 0s 58ms/step - loss: 0.0296 - tp: 47.0000 - fp: 3.0000 - tn: 115.0000 - fn: 0.0000e+00 - accuracy: 0.9818 - recall: 1.0000 - precision: 0.9400 - prc: 0.9971 - val_loss: 4.1484 - val_tp: 6.0000 - val_fp: 6.0000 - val_tn: 21.0000 - val_fn: 9.0000 - val_accuracy: 0.6429 - val_recall: 0.4000 - val_precision: 0.5000 - val_prc: 0.4452\n",
            "Epoch 307/500\n",
            "2/2 [==============================] - 0s 45ms/step - loss: 0.0293 - tp: 47.0000 - fp: 3.0000 - tn: 115.0000 - fn: 0.0000e+00 - accuracy: 0.9818 - recall: 1.0000 - precision: 0.9400 - prc: 0.9978 - val_loss: 4.1494 - val_tp: 6.0000 - val_fp: 6.0000 - val_tn: 21.0000 - val_fn: 9.0000 - val_accuracy: 0.6429 - val_recall: 0.4000 - val_precision: 0.5000 - val_prc: 0.4452\n",
            "Epoch 308/500\n",
            "2/2 [==============================] - 0s 51ms/step - loss: 0.0294 - tp: 47.0000 - fp: 3.0000 - tn: 115.0000 - fn: 0.0000e+00 - accuracy: 0.9818 - recall: 1.0000 - precision: 0.9400 - prc: 0.9976 - val_loss: 4.1544 - val_tp: 6.0000 - val_fp: 6.0000 - val_tn: 21.0000 - val_fn: 9.0000 - val_accuracy: 0.6429 - val_recall: 0.4000 - val_precision: 0.5000 - val_prc: 0.4452\n",
            "Epoch 309/500\n",
            "2/2 [==============================] - 0s 48ms/step - loss: 0.0296 - tp: 47.0000 - fp: 3.0000 - tn: 115.0000 - fn: 0.0000e+00 - accuracy: 0.9818 - recall: 1.0000 - precision: 0.9400 - prc: 0.9973 - val_loss: 4.1591 - val_tp: 6.0000 - val_fp: 6.0000 - val_tn: 21.0000 - val_fn: 9.0000 - val_accuracy: 0.6429 - val_recall: 0.4000 - val_precision: 0.5000 - val_prc: 0.4336\n",
            "Epoch 310/500\n",
            "2/2 [==============================] - 0s 43ms/step - loss: 0.0293 - tp: 47.0000 - fp: 3.0000 - tn: 115.0000 - fn: 0.0000e+00 - accuracy: 0.9818 - recall: 1.0000 - precision: 0.9400 - prc: 0.9975 - val_loss: 4.1609 - val_tp: 6.0000 - val_fp: 6.0000 - val_tn: 21.0000 - val_fn: 9.0000 - val_accuracy: 0.6429 - val_recall: 0.4000 - val_precision: 0.5000 - val_prc: 0.4336\n",
            "Epoch 311/500\n",
            "2/2 [==============================] - 0s 41ms/step - loss: 0.0292 - tp: 47.0000 - fp: 3.0000 - tn: 115.0000 - fn: 0.0000e+00 - accuracy: 0.9818 - recall: 1.0000 - precision: 0.9400 - prc: 0.9978 - val_loss: 4.1653 - val_tp: 6.0000 - val_fp: 6.0000 - val_tn: 21.0000 - val_fn: 9.0000 - val_accuracy: 0.6429 - val_recall: 0.4000 - val_precision: 0.5000 - val_prc: 0.4336\n",
            "Epoch 312/500\n",
            "2/2 [==============================] - 0s 64ms/step - loss: 0.0292 - tp: 47.0000 - fp: 3.0000 - tn: 115.0000 - fn: 0.0000e+00 - accuracy: 0.9818 - recall: 1.0000 - precision: 0.9400 - prc: 0.9978 - val_loss: 4.1720 - val_tp: 6.0000 - val_fp: 6.0000 - val_tn: 21.0000 - val_fn: 9.0000 - val_accuracy: 0.6429 - val_recall: 0.4000 - val_precision: 0.5000 - val_prc: 0.4452\n",
            "Epoch 313/500\n",
            "2/2 [==============================] - 0s 48ms/step - loss: 0.0297 - tp: 47.0000 - fp: 3.0000 - tn: 115.0000 - fn: 0.0000e+00 - accuracy: 0.9818 - recall: 1.0000 - precision: 0.9400 - prc: 0.9973 - val_loss: 4.1806 - val_tp: 6.0000 - val_fp: 6.0000 - val_tn: 21.0000 - val_fn: 9.0000 - val_accuracy: 0.6429 - val_recall: 0.4000 - val_precision: 0.5000 - val_prc: 0.4452\n",
            "Epoch 314/500\n",
            "2/2 [==============================] - 0s 47ms/step - loss: 0.0293 - tp: 47.0000 - fp: 3.0000 - tn: 115.0000 - fn: 0.0000e+00 - accuracy: 0.9818 - recall: 1.0000 - precision: 0.9400 - prc: 0.9975 - val_loss: 4.1861 - val_tp: 6.0000 - val_fp: 6.0000 - val_tn: 21.0000 - val_fn: 9.0000 - val_accuracy: 0.6429 - val_recall: 0.4000 - val_precision: 0.5000 - val_prc: 0.4452\n",
            "Epoch 315/500\n",
            "2/2 [==============================] - 0s 48ms/step - loss: 0.0296 - tp: 47.0000 - fp: 3.0000 - tn: 115.0000 - fn: 0.0000e+00 - accuracy: 0.9818 - recall: 1.0000 - precision: 0.9400 - prc: 0.9973 - val_loss: 4.1935 - val_tp: 6.0000 - val_fp: 6.0000 - val_tn: 21.0000 - val_fn: 9.0000 - val_accuracy: 0.6429 - val_recall: 0.4000 - val_precision: 0.5000 - val_prc: 0.4452\n",
            "Epoch 316/500\n",
            "2/2 [==============================] - 0s 50ms/step - loss: 0.0295 - tp: 47.0000 - fp: 3.0000 - tn: 115.0000 - fn: 0.0000e+00 - accuracy: 0.9818 - recall: 1.0000 - precision: 0.9400 - prc: 0.9973 - val_loss: 4.1975 - val_tp: 6.0000 - val_fp: 6.0000 - val_tn: 21.0000 - val_fn: 9.0000 - val_accuracy: 0.6429 - val_recall: 0.4000 - val_precision: 0.5000 - val_prc: 0.4452\n",
            "Epoch 317/500\n",
            "2/2 [==============================] - 0s 60ms/step - loss: 0.0293 - tp: 47.0000 - fp: 3.0000 - tn: 115.0000 - fn: 0.0000e+00 - accuracy: 0.9818 - recall: 1.0000 - precision: 0.9400 - prc: 0.9976 - val_loss: 4.2005 - val_tp: 6.0000 - val_fp: 6.0000 - val_tn: 21.0000 - val_fn: 9.0000 - val_accuracy: 0.6429 - val_recall: 0.4000 - val_precision: 0.5000 - val_prc: 0.4422\n",
            "Epoch 318/500\n",
            "2/2 [==============================] - 0s 51ms/step - loss: 0.0295 - tp: 47.0000 - fp: 3.0000 - tn: 115.0000 - fn: 0.0000e+00 - accuracy: 0.9818 - recall: 1.0000 - precision: 0.9400 - prc: 0.9971 - val_loss: 4.1996 - val_tp: 6.0000 - val_fp: 6.0000 - val_tn: 21.0000 - val_fn: 9.0000 - val_accuracy: 0.6429 - val_recall: 0.4000 - val_precision: 0.5000 - val_prc: 0.4422\n",
            "Epoch 319/500\n",
            "2/2 [==============================] - 0s 51ms/step - loss: 0.0293 - tp: 47.0000 - fp: 3.0000 - tn: 115.0000 - fn: 0.0000e+00 - accuracy: 0.9818 - recall: 1.0000 - precision: 0.9400 - prc: 0.9971 - val_loss: 4.1989 - val_tp: 6.0000 - val_fp: 6.0000 - val_tn: 21.0000 - val_fn: 9.0000 - val_accuracy: 0.6429 - val_recall: 0.4000 - val_precision: 0.5000 - val_prc: 0.4422\n",
            "Epoch 320/500\n",
            "2/2 [==============================] - 0s 47ms/step - loss: 0.0295 - tp: 47.0000 - fp: 3.0000 - tn: 115.0000 - fn: 0.0000e+00 - accuracy: 0.9818 - recall: 1.0000 - precision: 0.9400 - prc: 0.9975 - val_loss: 4.1991 - val_tp: 6.0000 - val_fp: 6.0000 - val_tn: 21.0000 - val_fn: 9.0000 - val_accuracy: 0.6429 - val_recall: 0.4000 - val_precision: 0.5000 - val_prc: 0.4320\n",
            "Epoch 321/500\n",
            "2/2 [==============================] - 0s 54ms/step - loss: 0.0298 - tp: 47.0000 - fp: 3.0000 - tn: 115.0000 - fn: 0.0000e+00 - accuracy: 0.9818 - recall: 1.0000 - precision: 0.9400 - prc: 0.9969 - val_loss: 4.2015 - val_tp: 6.0000 - val_fp: 6.0000 - val_tn: 21.0000 - val_fn: 9.0000 - val_accuracy: 0.6429 - val_recall: 0.4000 - val_precision: 0.5000 - val_prc: 0.4336\n",
            "Epoch 322/500\n",
            "2/2 [==============================] - 0s 50ms/step - loss: 0.0296 - tp: 47.0000 - fp: 3.0000 - tn: 115.0000 - fn: 0.0000e+00 - accuracy: 0.9818 - recall: 1.0000 - precision: 0.9400 - prc: 0.9976 - val_loss: 4.2115 - val_tp: 6.0000 - val_fp: 6.0000 - val_tn: 21.0000 - val_fn: 9.0000 - val_accuracy: 0.6429 - val_recall: 0.4000 - val_precision: 0.5000 - val_prc: 0.4452\n",
            "Epoch 323/500\n",
            "2/2 [==============================] - 0s 48ms/step - loss: 0.0294 - tp: 47.0000 - fp: 3.0000 - tn: 115.0000 - fn: 0.0000e+00 - accuracy: 0.9818 - recall: 1.0000 - precision: 0.9400 - prc: 0.9975 - val_loss: 4.2245 - val_tp: 6.0000 - val_fp: 6.0000 - val_tn: 21.0000 - val_fn: 9.0000 - val_accuracy: 0.6429 - val_recall: 0.4000 - val_precision: 0.5000 - val_prc: 0.4452\n",
            "Epoch 324/500\n",
            "2/2 [==============================] - 0s 50ms/step - loss: 0.0291 - tp: 47.0000 - fp: 3.0000 - tn: 115.0000 - fn: 0.0000e+00 - accuracy: 0.9818 - recall: 1.0000 - precision: 0.9400 - prc: 0.9980 - val_loss: 4.2347 - val_tp: 6.0000 - val_fp: 6.0000 - val_tn: 21.0000 - val_fn: 9.0000 - val_accuracy: 0.6429 - val_recall: 0.4000 - val_precision: 0.5000 - val_prc: 0.4436\n",
            "Epoch 325/500\n",
            "2/2 [==============================] - 0s 48ms/step - loss: 0.0295 - tp: 47.0000 - fp: 3.0000 - tn: 115.0000 - fn: 0.0000e+00 - accuracy: 0.9818 - recall: 1.0000 - precision: 0.9400 - prc: 0.9973 - val_loss: 4.2460 - val_tp: 6.0000 - val_fp: 6.0000 - val_tn: 21.0000 - val_fn: 9.0000 - val_accuracy: 0.6429 - val_recall: 0.4000 - val_precision: 0.5000 - val_prc: 0.4422\n",
            "Epoch 326/500\n",
            "2/2 [==============================] - 0s 50ms/step - loss: 0.0292 - tp: 47.0000 - fp: 3.0000 - tn: 115.0000 - fn: 0.0000e+00 - accuracy: 0.9818 - recall: 1.0000 - precision: 0.9400 - prc: 0.9978 - val_loss: 4.2479 - val_tp: 6.0000 - val_fp: 6.0000 - val_tn: 21.0000 - val_fn: 9.0000 - val_accuracy: 0.6429 - val_recall: 0.4000 - val_precision: 0.5000 - val_prc: 0.4452\n",
            "Epoch 327/500\n",
            "2/2 [==============================] - 0s 48ms/step - loss: 0.0297 - tp: 47.0000 - fp: 3.0000 - tn: 115.0000 - fn: 0.0000e+00 - accuracy: 0.9818 - recall: 1.0000 - precision: 0.9400 - prc: 0.9969 - val_loss: 4.2483 - val_tp: 6.0000 - val_fp: 6.0000 - val_tn: 21.0000 - val_fn: 9.0000 - val_accuracy: 0.6429 - val_recall: 0.4000 - val_precision: 0.5000 - val_prc: 0.4452\n",
            "Epoch 328/500\n",
            "2/2 [==============================] - 0s 43ms/step - loss: 0.0294 - tp: 47.0000 - fp: 3.0000 - tn: 115.0000 - fn: 0.0000e+00 - accuracy: 0.9818 - recall: 1.0000 - precision: 0.9400 - prc: 0.9975 - val_loss: 4.2512 - val_tp: 6.0000 - val_fp: 6.0000 - val_tn: 21.0000 - val_fn: 9.0000 - val_accuracy: 0.6429 - val_recall: 0.4000 - val_precision: 0.5000 - val_prc: 0.4452\n",
            "Epoch 329/500\n",
            "2/2 [==============================] - 0s 50ms/step - loss: 0.0294 - tp: 47.0000 - fp: 3.0000 - tn: 115.0000 - fn: 0.0000e+00 - accuracy: 0.9818 - recall: 1.0000 - precision: 0.9400 - prc: 0.9974 - val_loss: 4.2551 - val_tp: 6.0000 - val_fp: 6.0000 - val_tn: 21.0000 - val_fn: 9.0000 - val_accuracy: 0.6429 - val_recall: 0.4000 - val_precision: 0.5000 - val_prc: 0.4452\n",
            "Epoch 330/500\n",
            "2/2 [==============================] - 0s 47ms/step - loss: 0.0294 - tp: 47.0000 - fp: 3.0000 - tn: 115.0000 - fn: 0.0000e+00 - accuracy: 0.9818 - recall: 1.0000 - precision: 0.9400 - prc: 0.9978 - val_loss: 4.2510 - val_tp: 6.0000 - val_fp: 6.0000 - val_tn: 21.0000 - val_fn: 9.0000 - val_accuracy: 0.6429 - val_recall: 0.4000 - val_precision: 0.5000 - val_prc: 0.4452\n",
            "Epoch 331/500\n",
            "2/2 [==============================] - 0s 53ms/step - loss: 0.0296 - tp: 47.0000 - fp: 3.0000 - tn: 115.0000 - fn: 0.0000e+00 - accuracy: 0.9818 - recall: 1.0000 - precision: 0.9400 - prc: 0.9973 - val_loss: 4.2491 - val_tp: 6.0000 - val_fp: 6.0000 - val_tn: 21.0000 - val_fn: 9.0000 - val_accuracy: 0.6429 - val_recall: 0.4000 - val_precision: 0.5000 - val_prc: 0.4452\n",
            "Epoch 332/500\n",
            "2/2 [==============================] - 0s 40ms/step - loss: 0.0296 - tp: 47.0000 - fp: 3.0000 - tn: 115.0000 - fn: 0.0000e+00 - accuracy: 0.9818 - recall: 1.0000 - precision: 0.9400 - prc: 0.9975 - val_loss: 4.2437 - val_tp: 6.0000 - val_fp: 6.0000 - val_tn: 21.0000 - val_fn: 9.0000 - val_accuracy: 0.6429 - val_recall: 0.4000 - val_precision: 0.5000 - val_prc: 0.4452\n",
            "Epoch 333/500\n",
            "2/2 [==============================] - 0s 44ms/step - loss: 0.0296 - tp: 47.0000 - fp: 3.0000 - tn: 115.0000 - fn: 0.0000e+00 - accuracy: 0.9818 - recall: 1.0000 - precision: 0.9400 - prc: 0.9971 - val_loss: 4.2445 - val_tp: 6.0000 - val_fp: 6.0000 - val_tn: 21.0000 - val_fn: 9.0000 - val_accuracy: 0.6429 - val_recall: 0.4000 - val_precision: 0.5000 - val_prc: 0.4452\n",
            "Epoch 334/500\n",
            "2/2 [==============================] - 0s 42ms/step - loss: 0.0301 - tp: 47.0000 - fp: 3.0000 - tn: 115.0000 - fn: 0.0000e+00 - accuracy: 0.9818 - recall: 1.0000 - precision: 0.9400 - prc: 0.9971 - val_loss: 4.2564 - val_tp: 6.0000 - val_fp: 6.0000 - val_tn: 21.0000 - val_fn: 9.0000 - val_accuracy: 0.6429 - val_recall: 0.4000 - val_precision: 0.5000 - val_prc: 0.4452\n",
            "Epoch 335/500\n",
            "2/2 [==============================] - 0s 43ms/step - loss: 0.0294 - tp: 47.0000 - fp: 3.0000 - tn: 115.0000 - fn: 0.0000e+00 - accuracy: 0.9818 - recall: 1.0000 - precision: 0.9400 - prc: 0.9971 - val_loss: 4.2637 - val_tp: 6.0000 - val_fp: 6.0000 - val_tn: 21.0000 - val_fn: 9.0000 - val_accuracy: 0.6429 - val_recall: 0.4000 - val_precision: 0.5000 - val_prc: 0.4452\n",
            "Epoch 336/500\n",
            "2/2 [==============================] - 0s 47ms/step - loss: 0.0296 - tp: 47.0000 - fp: 3.0000 - tn: 115.0000 - fn: 0.0000e+00 - accuracy: 0.9818 - recall: 1.0000 - precision: 0.9400 - prc: 0.9972 - val_loss: 4.2688 - val_tp: 6.0000 - val_fp: 6.0000 - val_tn: 21.0000 - val_fn: 9.0000 - val_accuracy: 0.6429 - val_recall: 0.4000 - val_precision: 0.5000 - val_prc: 0.4452\n",
            "Epoch 337/500\n",
            "2/2 [==============================] - 0s 47ms/step - loss: 0.0296 - tp: 47.0000 - fp: 3.0000 - tn: 115.0000 - fn: 0.0000e+00 - accuracy: 0.9818 - recall: 1.0000 - precision: 0.9400 - prc: 0.9971 - val_loss: 4.2698 - val_tp: 6.0000 - val_fp: 6.0000 - val_tn: 21.0000 - val_fn: 9.0000 - val_accuracy: 0.6429 - val_recall: 0.4000 - val_precision: 0.5000 - val_prc: 0.4452\n",
            "Epoch 338/500\n",
            "2/2 [==============================] - 0s 40ms/step - loss: 0.0296 - tp: 47.0000 - fp: 3.0000 - tn: 115.0000 - fn: 0.0000e+00 - accuracy: 0.9818 - recall: 1.0000 - precision: 0.9400 - prc: 0.9967 - val_loss: 4.2704 - val_tp: 6.0000 - val_fp: 6.0000 - val_tn: 21.0000 - val_fn: 9.0000 - val_accuracy: 0.6429 - val_recall: 0.4000 - val_precision: 0.5000 - val_prc: 0.4452\n",
            "Epoch 339/500\n",
            "2/2 [==============================] - 0s 48ms/step - loss: 0.0298 - tp: 47.0000 - fp: 3.0000 - tn: 115.0000 - fn: 0.0000e+00 - accuracy: 0.9818 - recall: 1.0000 - precision: 0.9400 - prc: 0.9967 - val_loss: 4.2822 - val_tp: 6.0000 - val_fp: 6.0000 - val_tn: 21.0000 - val_fn: 9.0000 - val_accuracy: 0.6429 - val_recall: 0.4000 - val_precision: 0.5000 - val_prc: 0.4436\n",
            "Epoch 340/500\n",
            "2/2 [==============================] - 0s 53ms/step - loss: 0.0295 - tp: 47.0000 - fp: 3.0000 - tn: 115.0000 - fn: 0.0000e+00 - accuracy: 0.9818 - recall: 1.0000 - precision: 0.9400 - prc: 0.9971 - val_loss: 4.2825 - val_tp: 6.0000 - val_fp: 6.0000 - val_tn: 21.0000 - val_fn: 9.0000 - val_accuracy: 0.6429 - val_recall: 0.4000 - val_precision: 0.5000 - val_prc: 0.4452\n",
            "Epoch 341/500\n",
            "2/2 [==============================] - 0s 39ms/step - loss: 0.0294 - tp: 47.0000 - fp: 3.0000 - tn: 115.0000 - fn: 0.0000e+00 - accuracy: 0.9818 - recall: 1.0000 - precision: 0.9400 - prc: 0.9973 - val_loss: 4.2894 - val_tp: 6.0000 - val_fp: 6.0000 - val_tn: 21.0000 - val_fn: 9.0000 - val_accuracy: 0.6429 - val_recall: 0.4000 - val_precision: 0.5000 - val_prc: 0.4452\n",
            "Epoch 342/500\n",
            "2/2 [==============================] - 0s 56ms/step - loss: 0.0291 - tp: 47.0000 - fp: 3.0000 - tn: 115.0000 - fn: 0.0000e+00 - accuracy: 0.9818 - recall: 1.0000 - precision: 0.9400 - prc: 0.9976 - val_loss: 4.2968 - val_tp: 6.0000 - val_fp: 6.0000 - val_tn: 21.0000 - val_fn: 9.0000 - val_accuracy: 0.6429 - val_recall: 0.4000 - val_precision: 0.5000 - val_prc: 0.4452\n",
            "Epoch 343/500\n",
            "2/2 [==============================] - 0s 73ms/step - loss: 0.0299 - tp: 47.0000 - fp: 3.0000 - tn: 115.0000 - fn: 0.0000e+00 - accuracy: 0.9818 - recall: 1.0000 - precision: 0.9400 - prc: 0.9969 - val_loss: 4.3083 - val_tp: 6.0000 - val_fp: 6.0000 - val_tn: 21.0000 - val_fn: 9.0000 - val_accuracy: 0.6429 - val_recall: 0.4000 - val_precision: 0.5000 - val_prc: 0.4422\n",
            "Epoch 344/500\n",
            "2/2 [==============================] - 0s 51ms/step - loss: 0.0294 - tp: 47.0000 - fp: 3.0000 - tn: 115.0000 - fn: 0.0000e+00 - accuracy: 0.9818 - recall: 1.0000 - precision: 0.9400 - prc: 0.9975 - val_loss: 4.3062 - val_tp: 6.0000 - val_fp: 6.0000 - val_tn: 21.0000 - val_fn: 9.0000 - val_accuracy: 0.6429 - val_recall: 0.4000 - val_precision: 0.5000 - val_prc: 0.4436\n",
            "Epoch 345/500\n",
            "2/2 [==============================] - 0s 54ms/step - loss: 0.0293 - tp: 47.0000 - fp: 3.0000 - tn: 115.0000 - fn: 0.0000e+00 - accuracy: 0.9818 - recall: 1.0000 - precision: 0.9400 - prc: 0.9978 - val_loss: 4.3046 - val_tp: 6.0000 - val_fp: 6.0000 - val_tn: 21.0000 - val_fn: 9.0000 - val_accuracy: 0.6429 - val_recall: 0.4000 - val_precision: 0.5000 - val_prc: 0.4452\n",
            "Epoch 346/500\n",
            "2/2 [==============================] - 0s 56ms/step - loss: 0.0298 - tp: 47.0000 - fp: 3.0000 - tn: 115.0000 - fn: 0.0000e+00 - accuracy: 0.9818 - recall: 1.0000 - precision: 0.9400 - prc: 0.9971 - val_loss: 4.3042 - val_tp: 6.0000 - val_fp: 6.0000 - val_tn: 21.0000 - val_fn: 9.0000 - val_accuracy: 0.6429 - val_recall: 0.4000 - val_precision: 0.5000 - val_prc: 0.4452\n",
            "Epoch 347/500\n",
            "2/2 [==============================] - 0s 53ms/step - loss: 0.0293 - tp: 47.0000 - fp: 3.0000 - tn: 115.0000 - fn: 0.0000e+00 - accuracy: 0.9818 - recall: 1.0000 - precision: 0.9400 - prc: 0.9976 - val_loss: 4.3011 - val_tp: 6.0000 - val_fp: 6.0000 - val_tn: 21.0000 - val_fn: 9.0000 - val_accuracy: 0.6429 - val_recall: 0.4000 - val_precision: 0.5000 - val_prc: 0.4452\n",
            "Epoch 348/500\n",
            "2/2 [==============================] - 0s 53ms/step - loss: 0.0292 - tp: 47.0000 - fp: 3.0000 - tn: 115.0000 - fn: 0.0000e+00 - accuracy: 0.9818 - recall: 1.0000 - precision: 0.9400 - prc: 0.9980 - val_loss: 4.3039 - val_tp: 6.0000 - val_fp: 6.0000 - val_tn: 21.0000 - val_fn: 9.0000 - val_accuracy: 0.6429 - val_recall: 0.4000 - val_precision: 0.5000 - val_prc: 0.4406\n",
            "Epoch 349/500\n",
            "2/2 [==============================] - 0s 48ms/step - loss: 0.0297 - tp: 47.0000 - fp: 3.0000 - tn: 115.0000 - fn: 0.0000e+00 - accuracy: 0.9818 - recall: 1.0000 - precision: 0.9400 - prc: 0.9975 - val_loss: 4.3018 - val_tp: 6.0000 - val_fp: 7.0000 - val_tn: 20.0000 - val_fn: 9.0000 - val_accuracy: 0.6190 - val_recall: 0.4000 - val_precision: 0.4615 - val_prc: 0.4493\n",
            "Epoch 350/500\n",
            "2/2 [==============================] - 0s 58ms/step - loss: 0.0296 - tp: 47.0000 - fp: 3.0000 - tn: 115.0000 - fn: 0.0000e+00 - accuracy: 0.9818 - recall: 1.0000 - precision: 0.9400 - prc: 0.9973 - val_loss: 4.3050 - val_tp: 6.0000 - val_fp: 7.0000 - val_tn: 20.0000 - val_fn: 9.0000 - val_accuracy: 0.6190 - val_recall: 0.4000 - val_precision: 0.4615 - val_prc: 0.4493\n",
            "Epoch 351/500\n",
            "2/2 [==============================] - 0s 57ms/step - loss: 0.0297 - tp: 47.0000 - fp: 3.0000 - tn: 115.0000 - fn: 0.0000e+00 - accuracy: 0.9818 - recall: 1.0000 - precision: 0.9400 - prc: 0.9976 - val_loss: 4.3121 - val_tp: 6.0000 - val_fp: 7.0000 - val_tn: 20.0000 - val_fn: 9.0000 - val_accuracy: 0.6190 - val_recall: 0.4000 - val_precision: 0.4615 - val_prc: 0.4653\n",
            "Epoch 352/500\n",
            "2/2 [==============================] - 0s 66ms/step - loss: 0.0295 - tp: 47.0000 - fp: 3.0000 - tn: 115.0000 - fn: 0.0000e+00 - accuracy: 0.9818 - recall: 1.0000 - precision: 0.9400 - prc: 0.9978 - val_loss: 4.3171 - val_tp: 6.0000 - val_fp: 7.0000 - val_tn: 20.0000 - val_fn: 9.0000 - val_accuracy: 0.6190 - val_recall: 0.4000 - val_precision: 0.4615 - val_prc: 0.4406\n",
            "Epoch 353/500\n",
            "2/2 [==============================] - 0s 55ms/step - loss: 0.0297 - tp: 47.0000 - fp: 3.0000 - tn: 115.0000 - fn: 0.0000e+00 - accuracy: 0.9818 - recall: 1.0000 - precision: 0.9400 - prc: 0.9973 - val_loss: 4.3225 - val_tp: 6.0000 - val_fp: 6.0000 - val_tn: 21.0000 - val_fn: 9.0000 - val_accuracy: 0.6429 - val_recall: 0.4000 - val_precision: 0.5000 - val_prc: 0.4406\n",
            "Epoch 354/500\n",
            "2/2 [==============================] - 0s 60ms/step - loss: 0.0292 - tp: 47.0000 - fp: 3.0000 - tn: 115.0000 - fn: 0.0000e+00 - accuracy: 0.9818 - recall: 1.0000 - precision: 0.9400 - prc: 0.9978 - val_loss: 4.3216 - val_tp: 6.0000 - val_fp: 6.0000 - val_tn: 21.0000 - val_fn: 9.0000 - val_accuracy: 0.6429 - val_recall: 0.4000 - val_precision: 0.5000 - val_prc: 0.4452\n",
            "Epoch 355/500\n",
            "2/2 [==============================] - 0s 52ms/step - loss: 0.0294 - tp: 47.0000 - fp: 3.0000 - tn: 115.0000 - fn: 0.0000e+00 - accuracy: 0.9818 - recall: 1.0000 - precision: 0.9400 - prc: 0.9973 - val_loss: 4.3211 - val_tp: 6.0000 - val_fp: 6.0000 - val_tn: 21.0000 - val_fn: 9.0000 - val_accuracy: 0.6429 - val_recall: 0.4000 - val_precision: 0.5000 - val_prc: 0.4452\n",
            "Epoch 356/500\n",
            "2/2 [==============================] - 0s 49ms/step - loss: 0.0296 - tp: 47.0000 - fp: 3.0000 - tn: 115.0000 - fn: 0.0000e+00 - accuracy: 0.9818 - recall: 1.0000 - precision: 0.9400 - prc: 0.9973 - val_loss: 4.3286 - val_tp: 6.0000 - val_fp: 6.0000 - val_tn: 21.0000 - val_fn: 9.0000 - val_accuracy: 0.6429 - val_recall: 0.4000 - val_precision: 0.5000 - val_prc: 0.4452\n",
            "Epoch 357/500\n",
            "2/2 [==============================] - 0s 69ms/step - loss: 0.0295 - tp: 47.0000 - fp: 3.0000 - tn: 115.0000 - fn: 0.0000e+00 - accuracy: 0.9818 - recall: 1.0000 - precision: 0.9400 - prc: 0.9975 - val_loss: 4.3393 - val_tp: 6.0000 - val_fp: 6.0000 - val_tn: 21.0000 - val_fn: 9.0000 - val_accuracy: 0.6429 - val_recall: 0.4000 - val_precision: 0.5000 - val_prc: 0.4452\n",
            "Epoch 358/500\n",
            "2/2 [==============================] - 0s 47ms/step - loss: 0.0294 - tp: 47.0000 - fp: 3.0000 - tn: 115.0000 - fn: 0.0000e+00 - accuracy: 0.9818 - recall: 1.0000 - precision: 0.9400 - prc: 0.9975 - val_loss: 4.3426 - val_tp: 6.0000 - val_fp: 6.0000 - val_tn: 21.0000 - val_fn: 9.0000 - val_accuracy: 0.6429 - val_recall: 0.4000 - val_precision: 0.5000 - val_prc: 0.4452\n",
            "Epoch 359/500\n",
            "2/2 [==============================] - 0s 52ms/step - loss: 0.0294 - tp: 47.0000 - fp: 3.0000 - tn: 115.0000 - fn: 0.0000e+00 - accuracy: 0.9818 - recall: 1.0000 - precision: 0.9400 - prc: 0.9973 - val_loss: 4.3499 - val_tp: 6.0000 - val_fp: 6.0000 - val_tn: 21.0000 - val_fn: 9.0000 - val_accuracy: 0.6429 - val_recall: 0.4000 - val_precision: 0.5000 - val_prc: 0.4452\n",
            "Epoch 360/500\n",
            "2/2 [==============================] - 0s 57ms/step - loss: 0.0295 - tp: 47.0000 - fp: 3.0000 - tn: 115.0000 - fn: 0.0000e+00 - accuracy: 0.9818 - recall: 1.0000 - precision: 0.9400 - prc: 0.9973 - val_loss: 4.3564 - val_tp: 6.0000 - val_fp: 6.0000 - val_tn: 21.0000 - val_fn: 9.0000 - val_accuracy: 0.6429 - val_recall: 0.4000 - val_precision: 0.5000 - val_prc: 0.4452\n",
            "Epoch 361/500\n",
            "2/2 [==============================] - 0s 49ms/step - loss: 0.0292 - tp: 47.0000 - fp: 3.0000 - tn: 115.0000 - fn: 0.0000e+00 - accuracy: 0.9818 - recall: 1.0000 - precision: 0.9400 - prc: 0.9980 - val_loss: 4.3592 - val_tp: 6.0000 - val_fp: 6.0000 - val_tn: 21.0000 - val_fn: 9.0000 - val_accuracy: 0.6429 - val_recall: 0.4000 - val_precision: 0.5000 - val_prc: 0.4422\n",
            "Epoch 362/500\n",
            "2/2 [==============================] - 0s 48ms/step - loss: 0.0294 - tp: 47.0000 - fp: 3.0000 - tn: 115.0000 - fn: 0.0000e+00 - accuracy: 0.9818 - recall: 1.0000 - precision: 0.9400 - prc: 0.9973 - val_loss: 4.3600 - val_tp: 6.0000 - val_fp: 6.0000 - val_tn: 21.0000 - val_fn: 9.0000 - val_accuracy: 0.6429 - val_recall: 0.4000 - val_precision: 0.5000 - val_prc: 0.4376\n",
            "Epoch 363/500\n",
            "2/2 [==============================] - 0s 45ms/step - loss: 0.0292 - tp: 47.0000 - fp: 3.0000 - tn: 115.0000 - fn: 0.0000e+00 - accuracy: 0.9818 - recall: 1.0000 - precision: 0.9400 - prc: 0.9978 - val_loss: 4.3687 - val_tp: 6.0000 - val_fp: 6.0000 - val_tn: 21.0000 - val_fn: 9.0000 - val_accuracy: 0.6429 - val_recall: 0.4000 - val_precision: 0.5000 - val_prc: 0.4376\n",
            "Epoch 364/500\n",
            "2/2 [==============================] - 0s 45ms/step - loss: 0.0299 - tp: 47.0000 - fp: 3.0000 - tn: 115.0000 - fn: 0.0000e+00 - accuracy: 0.9818 - recall: 1.0000 - precision: 0.9400 - prc: 0.9973 - val_loss: 4.3794 - val_tp: 6.0000 - val_fp: 6.0000 - val_tn: 21.0000 - val_fn: 9.0000 - val_accuracy: 0.6429 - val_recall: 0.4000 - val_precision: 0.5000 - val_prc: 0.4376\n",
            "Epoch 365/500\n",
            "2/2 [==============================] - 0s 58ms/step - loss: 0.0297 - tp: 47.0000 - fp: 3.0000 - tn: 115.0000 - fn: 0.0000e+00 - accuracy: 0.9818 - recall: 1.0000 - precision: 0.9400 - prc: 0.9976 - val_loss: 4.3894 - val_tp: 6.0000 - val_fp: 6.0000 - val_tn: 21.0000 - val_fn: 9.0000 - val_accuracy: 0.6429 - val_recall: 0.4000 - val_precision: 0.5000 - val_prc: 0.4376\n",
            "Epoch 366/500\n",
            "2/2 [==============================] - 0s 46ms/step - loss: 0.0295 - tp: 47.0000 - fp: 3.0000 - tn: 115.0000 - fn: 0.0000e+00 - accuracy: 0.9818 - recall: 1.0000 - precision: 0.9400 - prc: 0.9971 - val_loss: 4.3930 - val_tp: 6.0000 - val_fp: 6.0000 - val_tn: 21.0000 - val_fn: 9.0000 - val_accuracy: 0.6429 - val_recall: 0.4000 - val_precision: 0.5000 - val_prc: 0.4376\n",
            "Epoch 367/500\n",
            "2/2 [==============================] - 0s 49ms/step - loss: 0.0300 - tp: 47.0000 - fp: 3.0000 - tn: 115.0000 - fn: 0.0000e+00 - accuracy: 0.9818 - recall: 1.0000 - precision: 0.9400 - prc: 0.9971 - val_loss: 4.3923 - val_tp: 6.0000 - val_fp: 6.0000 - val_tn: 21.0000 - val_fn: 9.0000 - val_accuracy: 0.6429 - val_recall: 0.4000 - val_precision: 0.5000 - val_prc: 0.4422\n",
            "Epoch 368/500\n",
            "2/2 [==============================] - 0s 54ms/step - loss: 0.0296 - tp: 47.0000 - fp: 3.0000 - tn: 115.0000 - fn: 0.0000e+00 - accuracy: 0.9818 - recall: 1.0000 - precision: 0.9400 - prc: 0.9971 - val_loss: 4.3958 - val_tp: 6.0000 - val_fp: 6.0000 - val_tn: 21.0000 - val_fn: 9.0000 - val_accuracy: 0.6429 - val_recall: 0.4000 - val_precision: 0.5000 - val_prc: 0.4422\n",
            "Epoch 369/500\n",
            "2/2 [==============================] - 0s 47ms/step - loss: 0.0302 - tp: 47.0000 - fp: 3.0000 - tn: 115.0000 - fn: 0.0000e+00 - accuracy: 0.9818 - recall: 1.0000 - precision: 0.9400 - prc: 0.9969 - val_loss: 4.4090 - val_tp: 6.0000 - val_fp: 6.0000 - val_tn: 21.0000 - val_fn: 9.0000 - val_accuracy: 0.6429 - val_recall: 0.4000 - val_precision: 0.5000 - val_prc: 0.4422\n",
            "Epoch 370/500\n",
            "2/2 [==============================] - 0s 48ms/step - loss: 0.0294 - tp: 47.0000 - fp: 3.0000 - tn: 115.0000 - fn: 0.0000e+00 - accuracy: 0.9818 - recall: 1.0000 - precision: 0.9400 - prc: 0.9976 - val_loss: 4.4096 - val_tp: 6.0000 - val_fp: 6.0000 - val_tn: 21.0000 - val_fn: 9.0000 - val_accuracy: 0.6429 - val_recall: 0.4000 - val_precision: 0.5000 - val_prc: 0.4422\n",
            "Epoch 371/500\n",
            "2/2 [==============================] - 0s 41ms/step - loss: 0.0293 - tp: 47.0000 - fp: 3.0000 - tn: 115.0000 - fn: 0.0000e+00 - accuracy: 0.9818 - recall: 1.0000 - precision: 0.9400 - prc: 0.9978 - val_loss: 4.4070 - val_tp: 6.0000 - val_fp: 6.0000 - val_tn: 21.0000 - val_fn: 9.0000 - val_accuracy: 0.6429 - val_recall: 0.4000 - val_precision: 0.5000 - val_prc: 0.4422\n",
            "Epoch 372/500\n",
            "2/2 [==============================] - 0s 54ms/step - loss: 0.0292 - tp: 47.0000 - fp: 3.0000 - tn: 115.0000 - fn: 0.0000e+00 - accuracy: 0.9818 - recall: 1.0000 - precision: 0.9400 - prc: 0.9978 - val_loss: 4.3980 - val_tp: 6.0000 - val_fp: 6.0000 - val_tn: 21.0000 - val_fn: 9.0000 - val_accuracy: 0.6429 - val_recall: 0.4000 - val_precision: 0.5000 - val_prc: 0.4287\n",
            "Epoch 373/500\n",
            "2/2 [==============================] - 0s 39ms/step - loss: 0.0293 - tp: 47.0000 - fp: 3.0000 - tn: 115.0000 - fn: 0.0000e+00 - accuracy: 0.9818 - recall: 1.0000 - precision: 0.9400 - prc: 0.9973 - val_loss: 4.3924 - val_tp: 6.0000 - val_fp: 6.0000 - val_tn: 21.0000 - val_fn: 9.0000 - val_accuracy: 0.6429 - val_recall: 0.4000 - val_precision: 0.5000 - val_prc: 0.4287\n",
            "Epoch 374/500\n",
            "2/2 [==============================] - 0s 46ms/step - loss: 0.0292 - tp: 47.0000 - fp: 3.0000 - tn: 115.0000 - fn: 0.0000e+00 - accuracy: 0.9818 - recall: 1.0000 - precision: 0.9400 - prc: 0.9978 - val_loss: 4.3889 - val_tp: 6.0000 - val_fp: 6.0000 - val_tn: 21.0000 - val_fn: 9.0000 - val_accuracy: 0.6429 - val_recall: 0.4000 - val_precision: 0.5000 - val_prc: 0.4287\n",
            "Epoch 375/500\n",
            "2/2 [==============================] - 0s 43ms/step - loss: 0.0293 - tp: 47.0000 - fp: 3.0000 - tn: 115.0000 - fn: 0.0000e+00 - accuracy: 0.9818 - recall: 1.0000 - precision: 0.9400 - prc: 0.9978 - val_loss: 4.3907 - val_tp: 6.0000 - val_fp: 6.0000 - val_tn: 21.0000 - val_fn: 9.0000 - val_accuracy: 0.6429 - val_recall: 0.4000 - val_precision: 0.5000 - val_prc: 0.4452\n",
            "Epoch 376/500\n",
            "2/2 [==============================] - 0s 45ms/step - loss: 0.0295 - tp: 47.0000 - fp: 3.0000 - tn: 115.0000 - fn: 0.0000e+00 - accuracy: 0.9818 - recall: 1.0000 - precision: 0.9400 - prc: 0.9975 - val_loss: 4.3959 - val_tp: 6.0000 - val_fp: 6.0000 - val_tn: 21.0000 - val_fn: 9.0000 - val_accuracy: 0.6429 - val_recall: 0.4000 - val_precision: 0.5000 - val_prc: 0.4452\n",
            "Epoch 377/500\n",
            "2/2 [==============================] - 0s 45ms/step - loss: 0.0294 - tp: 47.0000 - fp: 3.0000 - tn: 115.0000 - fn: 0.0000e+00 - accuracy: 0.9818 - recall: 1.0000 - precision: 0.9400 - prc: 0.9975 - val_loss: 4.4019 - val_tp: 6.0000 - val_fp: 6.0000 - val_tn: 21.0000 - val_fn: 9.0000 - val_accuracy: 0.6429 - val_recall: 0.4000 - val_precision: 0.5000 - val_prc: 0.4452\n",
            "Epoch 378/500\n",
            "2/2 [==============================] - 0s 58ms/step - loss: 0.0293 - tp: 47.0000 - fp: 3.0000 - tn: 115.0000 - fn: 0.0000e+00 - accuracy: 0.9818 - recall: 1.0000 - precision: 0.9400 - prc: 0.9978 - val_loss: 4.4084 - val_tp: 6.0000 - val_fp: 6.0000 - val_tn: 21.0000 - val_fn: 9.0000 - val_accuracy: 0.6429 - val_recall: 0.4000 - val_precision: 0.5000 - val_prc: 0.4452\n",
            "Epoch 379/500\n",
            "2/2 [==============================] - 0s 52ms/step - loss: 0.0297 - tp: 47.0000 - fp: 3.0000 - tn: 115.0000 - fn: 0.0000e+00 - accuracy: 0.9818 - recall: 1.0000 - precision: 0.9400 - prc: 0.9973 - val_loss: 4.4145 - val_tp: 6.0000 - val_fp: 6.0000 - val_tn: 21.0000 - val_fn: 9.0000 - val_accuracy: 0.6429 - val_recall: 0.4000 - val_precision: 0.5000 - val_prc: 0.4287\n",
            "Epoch 380/500\n",
            "2/2 [==============================] - 0s 40ms/step - loss: 0.0297 - tp: 47.0000 - fp: 3.0000 - tn: 115.0000 - fn: 0.0000e+00 - accuracy: 0.9818 - recall: 1.0000 - precision: 0.9400 - prc: 0.9971 - val_loss: 4.4241 - val_tp: 6.0000 - val_fp: 6.0000 - val_tn: 21.0000 - val_fn: 9.0000 - val_accuracy: 0.6429 - val_recall: 0.4000 - val_precision: 0.5000 - val_prc: 0.4287\n",
            "Epoch 381/500\n",
            "2/2 [==============================] - 0s 53ms/step - loss: 0.0294 - tp: 47.0000 - fp: 3.0000 - tn: 115.0000 - fn: 0.0000e+00 - accuracy: 0.9818 - recall: 1.0000 - precision: 0.9400 - prc: 0.9976 - val_loss: 4.4308 - val_tp: 6.0000 - val_fp: 6.0000 - val_tn: 21.0000 - val_fn: 9.0000 - val_accuracy: 0.6429 - val_recall: 0.4000 - val_precision: 0.5000 - val_prc: 0.4452\n",
            "Epoch 382/500\n",
            "2/2 [==============================] - 0s 60ms/step - loss: 0.0292 - tp: 47.0000 - fp: 3.0000 - tn: 115.0000 - fn: 0.0000e+00 - accuracy: 0.9818 - recall: 1.0000 - precision: 0.9400 - prc: 0.9978 - val_loss: 4.4387 - val_tp: 6.0000 - val_fp: 6.0000 - val_tn: 21.0000 - val_fn: 9.0000 - val_accuracy: 0.6429 - val_recall: 0.4000 - val_precision: 0.5000 - val_prc: 0.4406\n",
            "Epoch 383/500\n",
            "2/2 [==============================] - 0s 42ms/step - loss: 0.0296 - tp: 47.0000 - fp: 3.0000 - tn: 115.0000 - fn: 0.0000e+00 - accuracy: 0.9818 - recall: 1.0000 - precision: 0.9400 - prc: 0.9971 - val_loss: 4.4485 - val_tp: 6.0000 - val_fp: 6.0000 - val_tn: 21.0000 - val_fn: 9.0000 - val_accuracy: 0.6429 - val_recall: 0.4000 - val_precision: 0.5000 - val_prc: 0.4406\n",
            "Epoch 384/500\n",
            "2/2 [==============================] - 0s 58ms/step - loss: 0.0296 - tp: 47.0000 - fp: 3.0000 - tn: 115.0000 - fn: 0.0000e+00 - accuracy: 0.9818 - recall: 1.0000 - precision: 0.9400 - prc: 0.9971 - val_loss: 4.4498 - val_tp: 6.0000 - val_fp: 6.0000 - val_tn: 21.0000 - val_fn: 9.0000 - val_accuracy: 0.6429 - val_recall: 0.4000 - val_precision: 0.5000 - val_prc: 0.4406\n",
            "Epoch 385/500\n",
            "2/2 [==============================] - 0s 69ms/step - loss: 0.0294 - tp: 47.0000 - fp: 3.0000 - tn: 115.0000 - fn: 0.0000e+00 - accuracy: 0.9818 - recall: 1.0000 - precision: 0.9400 - prc: 0.9978 - val_loss: 4.4515 - val_tp: 6.0000 - val_fp: 6.0000 - val_tn: 21.0000 - val_fn: 9.0000 - val_accuracy: 0.6429 - val_recall: 0.4000 - val_precision: 0.5000 - val_prc: 0.4406\n",
            "Epoch 386/500\n",
            "2/2 [==============================] - 0s 70ms/step - loss: 0.0296 - tp: 47.0000 - fp: 3.0000 - tn: 115.0000 - fn: 0.0000e+00 - accuracy: 0.9818 - recall: 1.0000 - precision: 0.9400 - prc: 0.9971 - val_loss: 4.4626 - val_tp: 6.0000 - val_fp: 7.0000 - val_tn: 20.0000 - val_fn: 9.0000 - val_accuracy: 0.6190 - val_recall: 0.4000 - val_precision: 0.4615 - val_prc: 0.4376\n",
            "Epoch 387/500\n",
            "2/2 [==============================] - 0s 63ms/step - loss: 0.0295 - tp: 47.0000 - fp: 3.0000 - tn: 115.0000 - fn: 0.0000e+00 - accuracy: 0.9818 - recall: 1.0000 - precision: 0.9400 - prc: 0.9973 - val_loss: 4.4635 - val_tp: 6.0000 - val_fp: 7.0000 - val_tn: 20.0000 - val_fn: 9.0000 - val_accuracy: 0.6190 - val_recall: 0.4000 - val_precision: 0.4615 - val_prc: 0.4376\n",
            "Epoch 388/500\n",
            "2/2 [==============================] - 0s 59ms/step - loss: 0.0293 - tp: 47.0000 - fp: 3.0000 - tn: 115.0000 - fn: 0.0000e+00 - accuracy: 0.9818 - recall: 1.0000 - precision: 0.9400 - prc: 0.9975 - val_loss: 4.4704 - val_tp: 6.0000 - val_fp: 7.0000 - val_tn: 20.0000 - val_fn: 9.0000 - val_accuracy: 0.6190 - val_recall: 0.4000 - val_precision: 0.4615 - val_prc: 0.4376\n",
            "Epoch 389/500\n",
            "2/2 [==============================] - 0s 51ms/step - loss: 0.0296 - tp: 47.0000 - fp: 3.0000 - tn: 115.0000 - fn: 0.0000e+00 - accuracy: 0.9818 - recall: 1.0000 - precision: 0.9400 - prc: 0.9969 - val_loss: 4.4791 - val_tp: 6.0000 - val_fp: 6.0000 - val_tn: 21.0000 - val_fn: 9.0000 - val_accuracy: 0.6429 - val_recall: 0.4000 - val_precision: 0.5000 - val_prc: 0.4376\n",
            "Epoch 390/500\n",
            "2/2 [==============================] - 0s 50ms/step - loss: 0.0294 - tp: 47.0000 - fp: 3.0000 - tn: 115.0000 - fn: 0.0000e+00 - accuracy: 0.9818 - recall: 1.0000 - precision: 0.9400 - prc: 0.9975 - val_loss: 4.4870 - val_tp: 6.0000 - val_fp: 7.0000 - val_tn: 20.0000 - val_fn: 9.0000 - val_accuracy: 0.6190 - val_recall: 0.4000 - val_precision: 0.4615 - val_prc: 0.4376\n",
            "Epoch 391/500\n",
            "2/2 [==============================] - 0s 79ms/step - loss: 0.0292 - tp: 47.0000 - fp: 3.0000 - tn: 115.0000 - fn: 0.0000e+00 - accuracy: 0.9818 - recall: 1.0000 - precision: 0.9400 - prc: 0.9978 - val_loss: 4.4905 - val_tp: 6.0000 - val_fp: 6.0000 - val_tn: 21.0000 - val_fn: 9.0000 - val_accuracy: 0.6429 - val_recall: 0.4000 - val_precision: 0.5000 - val_prc: 0.4376\n",
            "Epoch 392/500\n",
            "2/2 [==============================] - 0s 72ms/step - loss: 0.0292 - tp: 47.0000 - fp: 3.0000 - tn: 115.0000 - fn: 0.0000e+00 - accuracy: 0.9818 - recall: 1.0000 - precision: 0.9400 - prc: 0.9975 - val_loss: 4.4949 - val_tp: 6.0000 - val_fp: 6.0000 - val_tn: 21.0000 - val_fn: 9.0000 - val_accuracy: 0.6429 - val_recall: 0.4000 - val_precision: 0.5000 - val_prc: 0.4376\n",
            "Epoch 393/500\n",
            "2/2 [==============================] - 0s 66ms/step - loss: 0.0292 - tp: 47.0000 - fp: 3.0000 - tn: 115.0000 - fn: 0.0000e+00 - accuracy: 0.9818 - recall: 1.0000 - precision: 0.9400 - prc: 0.9978 - val_loss: 4.4968 - val_tp: 6.0000 - val_fp: 6.0000 - val_tn: 21.0000 - val_fn: 9.0000 - val_accuracy: 0.6429 - val_recall: 0.4000 - val_precision: 0.5000 - val_prc: 0.4422\n",
            "Epoch 394/500\n",
            "2/2 [==============================] - 0s 68ms/step - loss: 0.0293 - tp: 47.0000 - fp: 3.0000 - tn: 115.0000 - fn: 0.0000e+00 - accuracy: 0.9818 - recall: 1.0000 - precision: 0.9400 - prc: 0.9975 - val_loss: 4.4996 - val_tp: 6.0000 - val_fp: 6.0000 - val_tn: 21.0000 - val_fn: 9.0000 - val_accuracy: 0.6429 - val_recall: 0.4000 - val_precision: 0.5000 - val_prc: 0.4256\n",
            "Epoch 395/500\n",
            "2/2 [==============================] - 0s 54ms/step - loss: 0.0292 - tp: 47.0000 - fp: 3.0000 - tn: 115.0000 - fn: 0.0000e+00 - accuracy: 0.9818 - recall: 1.0000 - precision: 0.9400 - prc: 0.9978 - val_loss: 4.5006 - val_tp: 6.0000 - val_fp: 6.0000 - val_tn: 21.0000 - val_fn: 9.0000 - val_accuracy: 0.6429 - val_recall: 0.4000 - val_precision: 0.5000 - val_prc: 0.4287\n",
            "Epoch 396/500\n",
            "2/2 [==============================] - 0s 58ms/step - loss: 0.0295 - tp: 47.0000 - fp: 3.0000 - tn: 115.0000 - fn: 0.0000e+00 - accuracy: 0.9818 - recall: 1.0000 - precision: 0.9400 - prc: 0.9976 - val_loss: 4.4981 - val_tp: 6.0000 - val_fp: 6.0000 - val_tn: 21.0000 - val_fn: 9.0000 - val_accuracy: 0.6429 - val_recall: 0.4000 - val_precision: 0.5000 - val_prc: 0.4287\n",
            "Epoch 397/500\n",
            "2/2 [==============================] - 0s 50ms/step - loss: 0.0298 - tp: 47.0000 - fp: 3.0000 - tn: 115.0000 - fn: 0.0000e+00 - accuracy: 0.9818 - recall: 1.0000 - precision: 0.9400 - prc: 0.9971 - val_loss: 4.5000 - val_tp: 6.0000 - val_fp: 6.0000 - val_tn: 21.0000 - val_fn: 9.0000 - val_accuracy: 0.6429 - val_recall: 0.4000 - val_precision: 0.5000 - val_prc: 0.4287\n",
            "Epoch 398/500\n",
            "2/2 [==============================] - 0s 60ms/step - loss: 0.0297 - tp: 47.0000 - fp: 3.0000 - tn: 115.0000 - fn: 0.0000e+00 - accuracy: 0.9818 - recall: 1.0000 - precision: 0.9400 - prc: 0.9973 - val_loss: 4.5013 - val_tp: 6.0000 - val_fp: 6.0000 - val_tn: 21.0000 - val_fn: 9.0000 - val_accuracy: 0.6429 - val_recall: 0.4000 - val_precision: 0.5000 - val_prc: 0.4287\n",
            "Epoch 399/500\n",
            "2/2 [==============================] - 0s 52ms/step - loss: 0.0293 - tp: 47.0000 - fp: 3.0000 - tn: 115.0000 - fn: 0.0000e+00 - accuracy: 0.9818 - recall: 1.0000 - precision: 0.9400 - prc: 0.9978 - val_loss: 4.5104 - val_tp: 6.0000 - val_fp: 6.0000 - val_tn: 21.0000 - val_fn: 9.0000 - val_accuracy: 0.6429 - val_recall: 0.4000 - val_precision: 0.5000 - val_prc: 0.4287\n",
            "Epoch 400/500\n",
            "2/2 [==============================] - 0s 72ms/step - loss: 0.0297 - tp: 47.0000 - fp: 3.0000 - tn: 115.0000 - fn: 0.0000e+00 - accuracy: 0.9818 - recall: 1.0000 - precision: 0.9400 - prc: 0.9973 - val_loss: 4.5226 - val_tp: 6.0000 - val_fp: 6.0000 - val_tn: 21.0000 - val_fn: 9.0000 - val_accuracy: 0.6429 - val_recall: 0.4000 - val_precision: 0.5000 - val_prc: 0.4436\n",
            "Epoch 401/500\n",
            "2/2 [==============================] - 0s 54ms/step - loss: 0.0294 - tp: 47.0000 - fp: 3.0000 - tn: 115.0000 - fn: 0.0000e+00 - accuracy: 0.9818 - recall: 1.0000 - precision: 0.9400 - prc: 0.9975 - val_loss: 4.5330 - val_tp: 6.0000 - val_fp: 6.0000 - val_tn: 21.0000 - val_fn: 9.0000 - val_accuracy: 0.6429 - val_recall: 0.4000 - val_precision: 0.5000 - val_prc: 0.4376\n",
            "Epoch 402/500\n",
            "2/2 [==============================] - 0s 62ms/step - loss: 0.0296 - tp: 47.0000 - fp: 3.0000 - tn: 115.0000 - fn: 0.0000e+00 - accuracy: 0.9818 - recall: 1.0000 - precision: 0.9400 - prc: 0.9969 - val_loss: 4.5385 - val_tp: 6.0000 - val_fp: 6.0000 - val_tn: 21.0000 - val_fn: 9.0000 - val_accuracy: 0.6429 - val_recall: 0.4000 - val_precision: 0.5000 - val_prc: 0.4376\n",
            "Epoch 403/500\n",
            "2/2 [==============================] - 0s 50ms/step - loss: 0.0293 - tp: 47.0000 - fp: 3.0000 - tn: 115.0000 - fn: 0.0000e+00 - accuracy: 0.9818 - recall: 1.0000 - precision: 0.9400 - prc: 0.9971 - val_loss: 4.5433 - val_tp: 6.0000 - val_fp: 7.0000 - val_tn: 20.0000 - val_fn: 9.0000 - val_accuracy: 0.6190 - val_recall: 0.4000 - val_precision: 0.4615 - val_prc: 0.4376\n",
            "Epoch 404/500\n",
            "2/2 [==============================] - 0s 51ms/step - loss: 0.0294 - tp: 47.0000 - fp: 3.0000 - tn: 115.0000 - fn: 0.0000e+00 - accuracy: 0.9818 - recall: 1.0000 - precision: 0.9400 - prc: 0.9971 - val_loss: 4.5461 - val_tp: 6.0000 - val_fp: 7.0000 - val_tn: 20.0000 - val_fn: 9.0000 - val_accuracy: 0.6190 - val_recall: 0.4000 - val_precision: 0.4615 - val_prc: 0.4376\n",
            "Epoch 405/500\n",
            "2/2 [==============================] - 0s 59ms/step - loss: 0.0291 - tp: 47.0000 - fp: 3.0000 - tn: 115.0000 - fn: 0.0000e+00 - accuracy: 0.9818 - recall: 1.0000 - precision: 0.9400 - prc: 0.9978 - val_loss: 4.5487 - val_tp: 6.0000 - val_fp: 6.0000 - val_tn: 21.0000 - val_fn: 9.0000 - val_accuracy: 0.6429 - val_recall: 0.4000 - val_precision: 0.5000 - val_prc: 0.4376\n",
            "Epoch 406/500\n",
            "2/2 [==============================] - 0s 55ms/step - loss: 0.0293 - tp: 47.0000 - fp: 3.0000 - tn: 115.0000 - fn: 0.0000e+00 - accuracy: 0.9818 - recall: 1.0000 - precision: 0.9400 - prc: 0.9978 - val_loss: 4.5496 - val_tp: 6.0000 - val_fp: 6.0000 - val_tn: 21.0000 - val_fn: 9.0000 - val_accuracy: 0.6429 - val_recall: 0.4000 - val_precision: 0.5000 - val_prc: 0.4376\n",
            "Epoch 407/500\n",
            "2/2 [==============================] - 0s 57ms/step - loss: 0.0295 - tp: 47.0000 - fp: 3.0000 - tn: 115.0000 - fn: 0.0000e+00 - accuracy: 0.9818 - recall: 1.0000 - precision: 0.9400 - prc: 0.9973 - val_loss: 4.5460 - val_tp: 6.0000 - val_fp: 6.0000 - val_tn: 21.0000 - val_fn: 9.0000 - val_accuracy: 0.6429 - val_recall: 0.4000 - val_precision: 0.5000 - val_prc: 0.4376\n",
            "Epoch 408/500\n",
            "2/2 [==============================] - 0s 53ms/step - loss: 0.0301 - tp: 47.0000 - fp: 3.0000 - tn: 115.0000 - fn: 0.0000e+00 - accuracy: 0.9818 - recall: 1.0000 - precision: 0.9400 - prc: 0.9964 - val_loss: 4.5442 - val_tp: 6.0000 - val_fp: 6.0000 - val_tn: 21.0000 - val_fn: 9.0000 - val_accuracy: 0.6429 - val_recall: 0.4000 - val_precision: 0.5000 - val_prc: 0.4376\n",
            "Epoch 409/500\n",
            "2/2 [==============================] - 0s 72ms/step - loss: 0.0300 - tp: 47.0000 - fp: 3.0000 - tn: 115.0000 - fn: 0.0000e+00 - accuracy: 0.9818 - recall: 1.0000 - precision: 0.9400 - prc: 0.9971 - val_loss: 4.5389 - val_tp: 6.0000 - val_fp: 6.0000 - val_tn: 21.0000 - val_fn: 9.0000 - val_accuracy: 0.6429 - val_recall: 0.4000 - val_precision: 0.5000 - val_prc: 0.4211\n",
            "Epoch 410/500\n",
            "2/2 [==============================] - 0s 49ms/step - loss: 0.0293 - tp: 47.0000 - fp: 3.0000 - tn: 115.0000 - fn: 0.0000e+00 - accuracy: 0.9818 - recall: 1.0000 - precision: 0.9400 - prc: 0.9975 - val_loss: 4.5437 - val_tp: 6.0000 - val_fp: 6.0000 - val_tn: 21.0000 - val_fn: 9.0000 - val_accuracy: 0.6429 - val_recall: 0.4000 - val_precision: 0.5000 - val_prc: 0.4376\n",
            "Epoch 411/500\n",
            "2/2 [==============================] - 0s 51ms/step - loss: 0.0292 - tp: 47.0000 - fp: 3.0000 - tn: 115.0000 - fn: 0.0000e+00 - accuracy: 0.9818 - recall: 1.0000 - precision: 0.9400 - prc: 0.9978 - val_loss: 4.5515 - val_tp: 6.0000 - val_fp: 7.0000 - val_tn: 20.0000 - val_fn: 9.0000 - val_accuracy: 0.6190 - val_recall: 0.4000 - val_precision: 0.4615 - val_prc: 0.4376\n",
            "Epoch 412/500\n",
            "2/2 [==============================] - 0s 56ms/step - loss: 0.0293 - tp: 47.0000 - fp: 3.0000 - tn: 115.0000 - fn: 0.0000e+00 - accuracy: 0.9818 - recall: 1.0000 - precision: 0.9400 - prc: 0.9973 - val_loss: 4.5588 - val_tp: 6.0000 - val_fp: 7.0000 - val_tn: 20.0000 - val_fn: 9.0000 - val_accuracy: 0.6190 - val_recall: 0.4000 - val_precision: 0.4615 - val_prc: 0.4376\n",
            "Epoch 413/500\n",
            "2/2 [==============================] - 0s 77ms/step - loss: 0.0304 - tp: 47.0000 - fp: 3.0000 - tn: 115.0000 - fn: 0.0000e+00 - accuracy: 0.9818 - recall: 1.0000 - precision: 0.9400 - prc: 0.9964 - val_loss: 4.5709 - val_tp: 6.0000 - val_fp: 7.0000 - val_tn: 20.0000 - val_fn: 9.0000 - val_accuracy: 0.6190 - val_recall: 0.4000 - val_precision: 0.4615 - val_prc: 0.4376\n",
            "Epoch 414/500\n",
            "2/2 [==============================] - 0s 73ms/step - loss: 0.0292 - tp: 47.0000 - fp: 3.0000 - tn: 115.0000 - fn: 0.0000e+00 - accuracy: 0.9818 - recall: 1.0000 - precision: 0.9400 - prc: 0.9978 - val_loss: 4.5750 - val_tp: 6.0000 - val_fp: 6.0000 - val_tn: 21.0000 - val_fn: 9.0000 - val_accuracy: 0.6429 - val_recall: 0.4000 - val_precision: 0.5000 - val_prc: 0.4376\n",
            "Epoch 415/500\n",
            "2/2 [==============================] - 0s 49ms/step - loss: 0.0293 - tp: 47.0000 - fp: 3.0000 - tn: 115.0000 - fn: 0.0000e+00 - accuracy: 0.9818 - recall: 1.0000 - precision: 0.9400 - prc: 0.9975 - val_loss: 4.5763 - val_tp: 6.0000 - val_fp: 6.0000 - val_tn: 21.0000 - val_fn: 9.0000 - val_accuracy: 0.6429 - val_recall: 0.4000 - val_precision: 0.5000 - val_prc: 0.4422\n",
            "Epoch 416/500\n",
            "2/2 [==============================] - 0s 61ms/step - loss: 0.0294 - tp: 47.0000 - fp: 3.0000 - tn: 115.0000 - fn: 0.0000e+00 - accuracy: 0.9818 - recall: 1.0000 - precision: 0.9400 - prc: 0.9971 - val_loss: 4.5787 - val_tp: 6.0000 - val_fp: 6.0000 - val_tn: 21.0000 - val_fn: 9.0000 - val_accuracy: 0.6429 - val_recall: 0.4000 - val_precision: 0.5000 - val_prc: 0.4256\n",
            "Epoch 417/500\n",
            "2/2 [==============================] - 0s 53ms/step - loss: 0.0292 - tp: 47.0000 - fp: 3.0000 - tn: 115.0000 - fn: 0.0000e+00 - accuracy: 0.9818 - recall: 1.0000 - precision: 0.9400 - prc: 0.9978 - val_loss: 4.5747 - val_tp: 6.0000 - val_fp: 6.0000 - val_tn: 21.0000 - val_fn: 9.0000 - val_accuracy: 0.6429 - val_recall: 0.4000 - val_precision: 0.5000 - val_prc: 0.4256\n",
            "Epoch 418/500\n",
            "2/2 [==============================] - 0s 65ms/step - loss: 0.0294 - tp: 47.0000 - fp: 3.0000 - tn: 115.0000 - fn: 0.0000e+00 - accuracy: 0.9818 - recall: 1.0000 - precision: 0.9400 - prc: 0.9978 - val_loss: 4.5720 - val_tp: 6.0000 - val_fp: 6.0000 - val_tn: 21.0000 - val_fn: 9.0000 - val_accuracy: 0.6429 - val_recall: 0.4000 - val_precision: 0.5000 - val_prc: 0.4256\n",
            "Epoch 419/500\n",
            "2/2 [==============================] - 0s 56ms/step - loss: 0.0298 - tp: 47.0000 - fp: 3.0000 - tn: 115.0000 - fn: 0.0000e+00 - accuracy: 0.9818 - recall: 1.0000 - precision: 0.9400 - prc: 0.9973 - val_loss: 4.5670 - val_tp: 6.0000 - val_fp: 6.0000 - val_tn: 21.0000 - val_fn: 9.0000 - val_accuracy: 0.6429 - val_recall: 0.4000 - val_precision: 0.5000 - val_prc: 0.4256\n",
            "Epoch 420/500\n",
            "2/2 [==============================] - 0s 52ms/step - loss: 0.0296 - tp: 47.0000 - fp: 3.0000 - tn: 115.0000 - fn: 0.0000e+00 - accuracy: 0.9818 - recall: 1.0000 - precision: 0.9400 - prc: 0.9975 - val_loss: 4.5667 - val_tp: 6.0000 - val_fp: 6.0000 - val_tn: 21.0000 - val_fn: 9.0000 - val_accuracy: 0.6429 - val_recall: 0.4000 - val_precision: 0.5000 - val_prc: 0.4256\n",
            "Epoch 421/500\n",
            "2/2 [==============================] - 0s 48ms/step - loss: 0.0295 - tp: 47.0000 - fp: 3.0000 - tn: 115.0000 - fn: 0.0000e+00 - accuracy: 0.9818 - recall: 1.0000 - precision: 0.9400 - prc: 0.9973 - val_loss: 4.5663 - val_tp: 6.0000 - val_fp: 6.0000 - val_tn: 21.0000 - val_fn: 9.0000 - val_accuracy: 0.6429 - val_recall: 0.4000 - val_precision: 0.5000 - val_prc: 0.4422\n",
            "Epoch 422/500\n",
            "2/2 [==============================] - 0s 53ms/step - loss: 0.0297 - tp: 47.0000 - fp: 3.0000 - tn: 115.0000 - fn: 0.0000e+00 - accuracy: 0.9818 - recall: 1.0000 - precision: 0.9400 - prc: 0.9971 - val_loss: 4.5747 - val_tp: 6.0000 - val_fp: 6.0000 - val_tn: 21.0000 - val_fn: 9.0000 - val_accuracy: 0.6429 - val_recall: 0.4000 - val_precision: 0.5000 - val_prc: 0.4376\n",
            "Epoch 423/500\n",
            "2/2 [==============================] - 0s 51ms/step - loss: 0.0292 - tp: 47.0000 - fp: 3.0000 - tn: 115.0000 - fn: 0.0000e+00 - accuracy: 0.9818 - recall: 1.0000 - precision: 0.9400 - prc: 0.9978 - val_loss: 4.5787 - val_tp: 6.0000 - val_fp: 7.0000 - val_tn: 20.0000 - val_fn: 9.0000 - val_accuracy: 0.6190 - val_recall: 0.4000 - val_precision: 0.4615 - val_prc: 0.4376\n",
            "Epoch 424/500\n",
            "2/2 [==============================] - 0s 62ms/step - loss: 0.0291 - tp: 47.0000 - fp: 3.0000 - tn: 115.0000 - fn: 0.0000e+00 - accuracy: 0.9818 - recall: 1.0000 - precision: 0.9400 - prc: 0.9980 - val_loss: 4.5825 - val_tp: 6.0000 - val_fp: 7.0000 - val_tn: 20.0000 - val_fn: 9.0000 - val_accuracy: 0.6190 - val_recall: 0.4000 - val_precision: 0.4615 - val_prc: 0.4352\n",
            "Epoch 425/500\n",
            "2/2 [==============================] - 0s 44ms/step - loss: 0.0298 - tp: 47.0000 - fp: 3.0000 - tn: 115.0000 - fn: 0.0000e+00 - accuracy: 0.9818 - recall: 1.0000 - precision: 0.9400 - prc: 0.9975 - val_loss: 4.5860 - val_tp: 6.0000 - val_fp: 7.0000 - val_tn: 20.0000 - val_fn: 9.0000 - val_accuracy: 0.6190 - val_recall: 0.4000 - val_precision: 0.4615 - val_prc: 0.4376\n",
            "Epoch 426/500\n",
            "2/2 [==============================] - 0s 62ms/step - loss: 0.0295 - tp: 47.0000 - fp: 3.0000 - tn: 115.0000 - fn: 0.0000e+00 - accuracy: 0.9818 - recall: 1.0000 - precision: 0.9400 - prc: 0.9978 - val_loss: 4.5897 - val_tp: 6.0000 - val_fp: 7.0000 - val_tn: 20.0000 - val_fn: 9.0000 - val_accuracy: 0.6190 - val_recall: 0.4000 - val_precision: 0.4615 - val_prc: 0.4376\n",
            "Epoch 427/500\n",
            "2/2 [==============================] - 0s 59ms/step - loss: 0.0295 - tp: 47.0000 - fp: 3.0000 - tn: 115.0000 - fn: 0.0000e+00 - accuracy: 0.9818 - recall: 1.0000 - precision: 0.9400 - prc: 0.9975 - val_loss: 4.5896 - val_tp: 6.0000 - val_fp: 7.0000 - val_tn: 20.0000 - val_fn: 9.0000 - val_accuracy: 0.6190 - val_recall: 0.4000 - val_precision: 0.4615 - val_prc: 0.4376\n",
            "Epoch 428/500\n",
            "2/2 [==============================] - 0s 41ms/step - loss: 0.0295 - tp: 47.0000 - fp: 3.0000 - tn: 115.0000 - fn: 0.0000e+00 - accuracy: 0.9818 - recall: 1.0000 - precision: 0.9400 - prc: 0.9971 - val_loss: 4.5925 - val_tp: 6.0000 - val_fp: 7.0000 - val_tn: 20.0000 - val_fn: 9.0000 - val_accuracy: 0.6190 - val_recall: 0.4000 - val_precision: 0.4615 - val_prc: 0.4352\n",
            "Epoch 429/500\n",
            "2/2 [==============================] - 0s 42ms/step - loss: 0.0297 - tp: 47.0000 - fp: 3.0000 - tn: 115.0000 - fn: 0.0000e+00 - accuracy: 0.9818 - recall: 1.0000 - precision: 0.9400 - prc: 0.9975 - val_loss: 4.5973 - val_tp: 6.0000 - val_fp: 7.0000 - val_tn: 20.0000 - val_fn: 9.0000 - val_accuracy: 0.6190 - val_recall: 0.4000 - val_precision: 0.4615 - val_prc: 0.4376\n",
            "Epoch 430/500\n",
            "2/2 [==============================] - 0s 59ms/step - loss: 0.0295 - tp: 47.0000 - fp: 3.0000 - tn: 115.0000 - fn: 0.0000e+00 - accuracy: 0.9818 - recall: 1.0000 - precision: 0.9400 - prc: 0.9973 - val_loss: 4.5977 - val_tp: 6.0000 - val_fp: 6.0000 - val_tn: 21.0000 - val_fn: 9.0000 - val_accuracy: 0.6429 - val_recall: 0.4000 - val_precision: 0.5000 - val_prc: 0.4376\n",
            "Epoch 431/500\n",
            "2/2 [==============================] - 0s 46ms/step - loss: 0.0292 - tp: 47.0000 - fp: 3.0000 - tn: 115.0000 - fn: 0.0000e+00 - accuracy: 0.9818 - recall: 1.0000 - precision: 0.9400 - prc: 0.9975 - val_loss: 4.6035 - val_tp: 6.0000 - val_fp: 6.0000 - val_tn: 21.0000 - val_fn: 9.0000 - val_accuracy: 0.6429 - val_recall: 0.4000 - val_precision: 0.5000 - val_prc: 0.4376\n",
            "Epoch 432/500\n",
            "2/2 [==============================] - 0s 60ms/step - loss: 0.0294 - tp: 47.0000 - fp: 3.0000 - tn: 115.0000 - fn: 0.0000e+00 - accuracy: 0.9818 - recall: 1.0000 - precision: 0.9400 - prc: 0.9975 - val_loss: 4.6116 - val_tp: 6.0000 - val_fp: 7.0000 - val_tn: 20.0000 - val_fn: 9.0000 - val_accuracy: 0.6190 - val_recall: 0.4000 - val_precision: 0.4615 - val_prc: 0.4376\n",
            "Epoch 433/500\n",
            "2/2 [==============================] - 0s 46ms/step - loss: 0.0296 - tp: 47.0000 - fp: 3.0000 - tn: 115.0000 - fn: 0.0000e+00 - accuracy: 0.9818 - recall: 1.0000 - precision: 0.9400 - prc: 0.9971 - val_loss: 4.6135 - val_tp: 6.0000 - val_fp: 7.0000 - val_tn: 20.0000 - val_fn: 9.0000 - val_accuracy: 0.6190 - val_recall: 0.4000 - val_precision: 0.4615 - val_prc: 0.4376\n",
            "Epoch 434/500\n",
            "2/2 [==============================] - 0s 40ms/step - loss: 0.0294 - tp: 47.0000 - fp: 3.0000 - tn: 115.0000 - fn: 0.0000e+00 - accuracy: 0.9818 - recall: 1.0000 - precision: 0.9400 - prc: 0.9973 - val_loss: 4.6214 - val_tp: 6.0000 - val_fp: 7.0000 - val_tn: 20.0000 - val_fn: 9.0000 - val_accuracy: 0.6190 - val_recall: 0.4000 - val_precision: 0.4615 - val_prc: 0.4352\n",
            "Epoch 435/500\n",
            "2/2 [==============================] - 0s 39ms/step - loss: 0.0296 - tp: 47.0000 - fp: 3.0000 - tn: 115.0000 - fn: 0.0000e+00 - accuracy: 0.9818 - recall: 1.0000 - precision: 0.9400 - prc: 0.9973 - val_loss: 4.6369 - val_tp: 6.0000 - val_fp: 7.0000 - val_tn: 20.0000 - val_fn: 9.0000 - val_accuracy: 0.6190 - val_recall: 0.4000 - val_precision: 0.4615 - val_prc: 0.4376\n",
            "Epoch 436/500\n",
            "2/2 [==============================] - 0s 54ms/step - loss: 0.0293 - tp: 47.0000 - fp: 3.0000 - tn: 115.0000 - fn: 0.0000e+00 - accuracy: 0.9818 - recall: 1.0000 - precision: 0.9400 - prc: 0.9978 - val_loss: 4.6410 - val_tp: 6.0000 - val_fp: 7.0000 - val_tn: 20.0000 - val_fn: 9.0000 - val_accuracy: 0.6190 - val_recall: 0.4000 - val_precision: 0.4615 - val_prc: 0.4352\n",
            "Epoch 437/500\n",
            "2/2 [==============================] - 0s 45ms/step - loss: 0.0296 - tp: 47.0000 - fp: 3.0000 - tn: 115.0000 - fn: 0.0000e+00 - accuracy: 0.9818 - recall: 1.0000 - precision: 0.9400 - prc: 0.9973 - val_loss: 4.6448 - val_tp: 6.0000 - val_fp: 7.0000 - val_tn: 20.0000 - val_fn: 9.0000 - val_accuracy: 0.6190 - val_recall: 0.4000 - val_precision: 0.4615 - val_prc: 0.4352\n",
            "Epoch 438/500\n",
            "2/2 [==============================] - 0s 54ms/step - loss: 0.0296 - tp: 47.0000 - fp: 3.0000 - tn: 115.0000 - fn: 0.0000e+00 - accuracy: 0.9818 - recall: 1.0000 - precision: 0.9400 - prc: 0.9973 - val_loss: 4.6494 - val_tp: 6.0000 - val_fp: 7.0000 - val_tn: 20.0000 - val_fn: 9.0000 - val_accuracy: 0.6190 - val_recall: 0.4000 - val_precision: 0.4615 - val_prc: 0.4376\n",
            "Epoch 439/500\n",
            "2/2 [==============================] - 0s 47ms/step - loss: 0.0295 - tp: 47.0000 - fp: 3.0000 - tn: 115.0000 - fn: 0.0000e+00 - accuracy: 0.9818 - recall: 1.0000 - precision: 0.9400 - prc: 0.9973 - val_loss: 4.6484 - val_tp: 6.0000 - val_fp: 7.0000 - val_tn: 20.0000 - val_fn: 9.0000 - val_accuracy: 0.6190 - val_recall: 0.4000 - val_precision: 0.4615 - val_prc: 0.4376\n",
            "Epoch 440/500\n",
            "2/2 [==============================] - 0s 61ms/step - loss: 0.0295 - tp: 47.0000 - fp: 3.0000 - tn: 115.0000 - fn: 0.0000e+00 - accuracy: 0.9818 - recall: 1.0000 - precision: 0.9400 - prc: 0.9973 - val_loss: 4.6562 - val_tp: 6.0000 - val_fp: 7.0000 - val_tn: 20.0000 - val_fn: 9.0000 - val_accuracy: 0.6190 - val_recall: 0.4000 - val_precision: 0.4615 - val_prc: 0.4376\n",
            "Epoch 441/500\n",
            "2/2 [==============================] - 0s 72ms/step - loss: 0.0296 - tp: 47.0000 - fp: 3.0000 - tn: 115.0000 - fn: 0.0000e+00 - accuracy: 0.9818 - recall: 1.0000 - precision: 0.9400 - prc: 0.9973 - val_loss: 4.6530 - val_tp: 6.0000 - val_fp: 7.0000 - val_tn: 20.0000 - val_fn: 9.0000 - val_accuracy: 0.6190 - val_recall: 0.4000 - val_precision: 0.4615 - val_prc: 0.4376\n",
            "Epoch 442/500\n",
            "2/2 [==============================] - 0s 51ms/step - loss: 0.0295 - tp: 47.0000 - fp: 3.0000 - tn: 115.0000 - fn: 0.0000e+00 - accuracy: 0.9818 - recall: 1.0000 - precision: 0.9400 - prc: 0.9973 - val_loss: 4.6553 - val_tp: 6.0000 - val_fp: 7.0000 - val_tn: 20.0000 - val_fn: 9.0000 - val_accuracy: 0.6190 - val_recall: 0.4000 - val_precision: 0.4615 - val_prc: 0.4376\n",
            "Epoch 443/500\n",
            "2/2 [==============================] - 0s 59ms/step - loss: 0.0295 - tp: 47.0000 - fp: 3.0000 - tn: 115.0000 - fn: 0.0000e+00 - accuracy: 0.9818 - recall: 1.0000 - precision: 0.9400 - prc: 0.9976 - val_loss: 4.6552 - val_tp: 6.0000 - val_fp: 7.0000 - val_tn: 20.0000 - val_fn: 9.0000 - val_accuracy: 0.6190 - val_recall: 0.4000 - val_precision: 0.4615 - val_prc: 0.4376\n",
            "Epoch 444/500\n",
            "2/2 [==============================] - 0s 59ms/step - loss: 0.0297 - tp: 47.0000 - fp: 3.0000 - tn: 115.0000 - fn: 0.0000e+00 - accuracy: 0.9818 - recall: 1.0000 - precision: 0.9400 - prc: 0.9973 - val_loss: 4.6567 - val_tp: 6.0000 - val_fp: 6.0000 - val_tn: 21.0000 - val_fn: 9.0000 - val_accuracy: 0.6429 - val_recall: 0.4000 - val_precision: 0.5000 - val_prc: 0.4211\n",
            "Epoch 445/500\n",
            "2/2 [==============================] - 0s 49ms/step - loss: 0.0293 - tp: 47.0000 - fp: 3.0000 - tn: 115.0000 - fn: 0.0000e+00 - accuracy: 0.9818 - recall: 1.0000 - precision: 0.9400 - prc: 0.9975 - val_loss: 4.6585 - val_tp: 6.0000 - val_fp: 6.0000 - val_tn: 21.0000 - val_fn: 9.0000 - val_accuracy: 0.6429 - val_recall: 0.4000 - val_precision: 0.5000 - val_prc: 0.4211\n",
            "Epoch 446/500\n",
            "2/2 [==============================] - 0s 53ms/step - loss: 0.0297 - tp: 47.0000 - fp: 3.0000 - tn: 115.0000 - fn: 0.0000e+00 - accuracy: 0.9818 - recall: 1.0000 - precision: 0.9400 - prc: 0.9971 - val_loss: 4.6581 - val_tp: 6.0000 - val_fp: 6.0000 - val_tn: 21.0000 - val_fn: 9.0000 - val_accuracy: 0.6429 - val_recall: 0.4000 - val_precision: 0.5000 - val_prc: 0.4211\n",
            "Epoch 447/500\n",
            "2/2 [==============================] - 0s 67ms/step - loss: 0.0299 - tp: 47.0000 - fp: 3.0000 - tn: 115.0000 - fn: 0.0000e+00 - accuracy: 0.9818 - recall: 1.0000 - precision: 0.9400 - prc: 0.9971 - val_loss: 4.6553 - val_tp: 6.0000 - val_fp: 6.0000 - val_tn: 21.0000 - val_fn: 9.0000 - val_accuracy: 0.6429 - val_recall: 0.4000 - val_precision: 0.5000 - val_prc: 0.4256\n",
            "Epoch 448/500\n",
            "2/2 [==============================] - 0s 78ms/step - loss: 0.0296 - tp: 47.0000 - fp: 3.0000 - tn: 115.0000 - fn: 0.0000e+00 - accuracy: 0.9818 - recall: 1.0000 - precision: 0.9400 - prc: 0.9969 - val_loss: 4.6618 - val_tp: 6.0000 - val_fp: 6.0000 - val_tn: 21.0000 - val_fn: 9.0000 - val_accuracy: 0.6429 - val_recall: 0.4000 - val_precision: 0.5000 - val_prc: 0.4211\n",
            "Epoch 449/500\n",
            "2/2 [==============================] - 0s 55ms/step - loss: 0.0292 - tp: 47.0000 - fp: 3.0000 - tn: 115.0000 - fn: 0.0000e+00 - accuracy: 0.9818 - recall: 1.0000 - precision: 0.9400 - prc: 0.9975 - val_loss: 4.6617 - val_tp: 6.0000 - val_fp: 6.0000 - val_tn: 21.0000 - val_fn: 9.0000 - val_accuracy: 0.6429 - val_recall: 0.4000 - val_precision: 0.5000 - val_prc: 0.4211\n",
            "Epoch 450/500\n",
            "2/2 [==============================] - 0s 69ms/step - loss: 0.0292 - tp: 47.0000 - fp: 3.0000 - tn: 115.0000 - fn: 0.0000e+00 - accuracy: 0.9818 - recall: 1.0000 - precision: 0.9400 - prc: 0.9976 - val_loss: 4.6652 - val_tp: 6.0000 - val_fp: 7.0000 - val_tn: 20.0000 - val_fn: 9.0000 - val_accuracy: 0.6190 - val_recall: 0.4000 - val_precision: 0.4615 - val_prc: 0.4376\n",
            "Epoch 451/500\n",
            "2/2 [==============================] - 0s 62ms/step - loss: 0.0293 - tp: 47.0000 - fp: 3.0000 - tn: 115.0000 - fn: 0.0000e+00 - accuracy: 0.9818 - recall: 1.0000 - precision: 0.9400 - prc: 0.9971 - val_loss: 4.6693 - val_tp: 6.0000 - val_fp: 7.0000 - val_tn: 20.0000 - val_fn: 9.0000 - val_accuracy: 0.6190 - val_recall: 0.4000 - val_precision: 0.4615 - val_prc: 0.4376\n",
            "Epoch 452/500\n",
            "2/2 [==============================] - 0s 69ms/step - loss: 0.0298 - tp: 47.0000 - fp: 3.0000 - tn: 115.0000 - fn: 0.0000e+00 - accuracy: 0.9818 - recall: 1.0000 - precision: 0.9400 - prc: 0.9967 - val_loss: 4.6750 - val_tp: 6.0000 - val_fp: 7.0000 - val_tn: 20.0000 - val_fn: 9.0000 - val_accuracy: 0.6190 - val_recall: 0.4000 - val_precision: 0.4615 - val_prc: 0.4376\n",
            "Epoch 453/500\n",
            "2/2 [==============================] - 0s 71ms/step - loss: 0.0293 - tp: 47.0000 - fp: 3.0000 - tn: 115.0000 - fn: 0.0000e+00 - accuracy: 0.9818 - recall: 1.0000 - precision: 0.9400 - prc: 0.9975 - val_loss: 4.6711 - val_tp: 6.0000 - val_fp: 7.0000 - val_tn: 20.0000 - val_fn: 9.0000 - val_accuracy: 0.6190 - val_recall: 0.4000 - val_precision: 0.4615 - val_prc: 0.4376\n",
            "Epoch 454/500\n",
            "2/2 [==============================] - 0s 57ms/step - loss: 0.0295 - tp: 47.0000 - fp: 3.0000 - tn: 115.0000 - fn: 0.0000e+00 - accuracy: 0.9818 - recall: 1.0000 - precision: 0.9400 - prc: 0.9973 - val_loss: 4.6668 - val_tp: 6.0000 - val_fp: 7.0000 - val_tn: 20.0000 - val_fn: 9.0000 - val_accuracy: 0.6190 - val_recall: 0.4000 - val_precision: 0.4615 - val_prc: 0.4376\n",
            "Epoch 455/500\n",
            "2/2 [==============================] - 0s 65ms/step - loss: 0.0294 - tp: 47.0000 - fp: 3.0000 - tn: 115.0000 - fn: 0.0000e+00 - accuracy: 0.9818 - recall: 1.0000 - precision: 0.9400 - prc: 0.9975 - val_loss: 4.6652 - val_tp: 6.0000 - val_fp: 6.0000 - val_tn: 21.0000 - val_fn: 9.0000 - val_accuracy: 0.6429 - val_recall: 0.4000 - val_precision: 0.5000 - val_prc: 0.4211\n",
            "Epoch 456/500\n",
            "2/2 [==============================] - 0s 50ms/step - loss: 0.0293 - tp: 47.0000 - fp: 3.0000 - tn: 115.0000 - fn: 0.0000e+00 - accuracy: 0.9818 - recall: 1.0000 - precision: 0.9400 - prc: 0.9975 - val_loss: 4.6642 - val_tp: 6.0000 - val_fp: 6.0000 - val_tn: 21.0000 - val_fn: 9.0000 - val_accuracy: 0.6429 - val_recall: 0.4000 - val_precision: 0.5000 - val_prc: 0.4211\n",
            "Epoch 457/500\n",
            "2/2 [==============================] - 0s 54ms/step - loss: 0.0294 - tp: 47.0000 - fp: 3.0000 - tn: 115.0000 - fn: 0.0000e+00 - accuracy: 0.9818 - recall: 1.0000 - precision: 0.9400 - prc: 0.9973 - val_loss: 4.6687 - val_tp: 6.0000 - val_fp: 6.0000 - val_tn: 21.0000 - val_fn: 9.0000 - val_accuracy: 0.6429 - val_recall: 0.4000 - val_precision: 0.5000 - val_prc: 0.4211\n",
            "Epoch 458/500\n",
            "2/2 [==============================] - 0s 66ms/step - loss: 0.0296 - tp: 47.0000 - fp: 3.0000 - tn: 115.0000 - fn: 0.0000e+00 - accuracy: 0.9818 - recall: 1.0000 - precision: 0.9400 - prc: 0.9973 - val_loss: 4.6758 - val_tp: 6.0000 - val_fp: 6.0000 - val_tn: 21.0000 - val_fn: 9.0000 - val_accuracy: 0.6429 - val_recall: 0.4000 - val_precision: 0.5000 - val_prc: 0.4211\n",
            "Epoch 459/500\n",
            "2/2 [==============================] - 0s 68ms/step - loss: 0.0296 - tp: 47.0000 - fp: 3.0000 - tn: 115.0000 - fn: 0.0000e+00 - accuracy: 0.9818 - recall: 1.0000 - precision: 0.9400 - prc: 0.9971 - val_loss: 4.6851 - val_tp: 6.0000 - val_fp: 6.0000 - val_tn: 21.0000 - val_fn: 9.0000 - val_accuracy: 0.6429 - val_recall: 0.4000 - val_precision: 0.5000 - val_prc: 0.4211\n",
            "Epoch 460/500\n",
            "2/2 [==============================] - 0s 52ms/step - loss: 0.0292 - tp: 47.0000 - fp: 3.0000 - tn: 115.0000 - fn: 0.0000e+00 - accuracy: 0.9818 - recall: 1.0000 - precision: 0.9400 - prc: 0.9975 - val_loss: 4.6884 - val_tp: 6.0000 - val_fp: 6.0000 - val_tn: 21.0000 - val_fn: 9.0000 - val_accuracy: 0.6429 - val_recall: 0.4000 - val_precision: 0.5000 - val_prc: 0.4211\n",
            "Epoch 461/500\n",
            "2/2 [==============================] - 0s 69ms/step - loss: 0.0295 - tp: 47.0000 - fp: 3.0000 - tn: 115.0000 - fn: 0.0000e+00 - accuracy: 0.9818 - recall: 1.0000 - precision: 0.9400 - prc: 0.9973 - val_loss: 4.6902 - val_tp: 6.0000 - val_fp: 6.0000 - val_tn: 21.0000 - val_fn: 9.0000 - val_accuracy: 0.6429 - val_recall: 0.4000 - val_precision: 0.5000 - val_prc: 0.4211\n",
            "Epoch 462/500\n",
            "2/2 [==============================] - 0s 54ms/step - loss: 0.0294 - tp: 47.0000 - fp: 3.0000 - tn: 115.0000 - fn: 0.0000e+00 - accuracy: 0.9818 - recall: 1.0000 - precision: 0.9400 - prc: 0.9973 - val_loss: 4.6992 - val_tp: 6.0000 - val_fp: 7.0000 - val_tn: 20.0000 - val_fn: 9.0000 - val_accuracy: 0.6190 - val_recall: 0.4000 - val_precision: 0.4615 - val_prc: 0.4211\n",
            "Epoch 463/500\n",
            "2/2 [==============================] - 0s 58ms/step - loss: 0.0293 - tp: 47.0000 - fp: 3.0000 - tn: 115.0000 - fn: 0.0000e+00 - accuracy: 0.9818 - recall: 1.0000 - precision: 0.9400 - prc: 0.9973 - val_loss: 4.7051 - val_tp: 6.0000 - val_fp: 7.0000 - val_tn: 20.0000 - val_fn: 9.0000 - val_accuracy: 0.6190 - val_recall: 0.4000 - val_precision: 0.4615 - val_prc: 0.4211\n",
            "Epoch 464/500\n",
            "2/2 [==============================] - 0s 66ms/step - loss: 0.0291 - tp: 47.0000 - fp: 3.0000 - tn: 115.0000 - fn: 0.0000e+00 - accuracy: 0.9818 - recall: 1.0000 - precision: 0.9400 - prc: 0.9976 - val_loss: 4.7153 - val_tp: 6.0000 - val_fp: 7.0000 - val_tn: 20.0000 - val_fn: 9.0000 - val_accuracy: 0.6190 - val_recall: 0.4000 - val_precision: 0.4615 - val_prc: 0.4376\n",
            "Epoch 465/500\n",
            "2/2 [==============================] - 0s 47ms/step - loss: 0.0297 - tp: 47.0000 - fp: 3.0000 - tn: 115.0000 - fn: 0.0000e+00 - accuracy: 0.9818 - recall: 1.0000 - precision: 0.9400 - prc: 0.9969 - val_loss: 4.7278 - val_tp: 6.0000 - val_fp: 7.0000 - val_tn: 20.0000 - val_fn: 9.0000 - val_accuracy: 0.6190 - val_recall: 0.4000 - val_precision: 0.4615 - val_prc: 0.4376\n",
            "Epoch 466/500\n",
            "2/2 [==============================] - 0s 45ms/step - loss: 0.0292 - tp: 47.0000 - fp: 3.0000 - tn: 115.0000 - fn: 0.0000e+00 - accuracy: 0.9818 - recall: 1.0000 - precision: 0.9400 - prc: 0.9978 - val_loss: 4.7259 - val_tp: 6.0000 - val_fp: 7.0000 - val_tn: 20.0000 - val_fn: 9.0000 - val_accuracy: 0.6190 - val_recall: 0.4000 - val_precision: 0.4615 - val_prc: 0.4376\n",
            "Epoch 467/500\n",
            "2/2 [==============================] - 0s 92ms/step - loss: 0.0295 - tp: 47.0000 - fp: 3.0000 - tn: 115.0000 - fn: 0.0000e+00 - accuracy: 0.9818 - recall: 1.0000 - precision: 0.9400 - prc: 0.9973 - val_loss: 4.7249 - val_tp: 6.0000 - val_fp: 7.0000 - val_tn: 20.0000 - val_fn: 9.0000 - val_accuracy: 0.6190 - val_recall: 0.4000 - val_precision: 0.4615 - val_prc: 0.4376\n",
            "Epoch 468/500\n",
            "2/2 [==============================] - 0s 49ms/step - loss: 0.0294 - tp: 47.0000 - fp: 3.0000 - tn: 115.0000 - fn: 0.0000e+00 - accuracy: 0.9818 - recall: 1.0000 - precision: 0.9400 - prc: 0.9976 - val_loss: 4.7189 - val_tp: 6.0000 - val_fp: 7.0000 - val_tn: 20.0000 - val_fn: 9.0000 - val_accuracy: 0.6190 - val_recall: 0.4000 - val_precision: 0.4615 - val_prc: 0.4211\n",
            "Epoch 469/500\n",
            "2/2 [==============================] - 0s 52ms/step - loss: 0.0291 - tp: 47.0000 - fp: 3.0000 - tn: 115.0000 - fn: 0.0000e+00 - accuracy: 0.9818 - recall: 1.0000 - precision: 0.9400 - prc: 0.9982 - val_loss: 4.7078 - val_tp: 6.0000 - val_fp: 7.0000 - val_tn: 20.0000 - val_fn: 9.0000 - val_accuracy: 0.6190 - val_recall: 0.4000 - val_precision: 0.4615 - val_prc: 0.4211\n",
            "Epoch 470/500\n",
            "2/2 [==============================] - 0s 66ms/step - loss: 0.0293 - tp: 47.0000 - fp: 3.0000 - tn: 115.0000 - fn: 0.0000e+00 - accuracy: 0.9818 - recall: 1.0000 - precision: 0.9400 - prc: 0.9973 - val_loss: 4.6961 - val_tp: 6.0000 - val_fp: 6.0000 - val_tn: 21.0000 - val_fn: 9.0000 - val_accuracy: 0.6429 - val_recall: 0.4000 - val_precision: 0.5000 - val_prc: 0.4211\n",
            "Epoch 471/500\n",
            "2/2 [==============================] - 0s 52ms/step - loss: 0.0293 - tp: 47.0000 - fp: 3.0000 - tn: 115.0000 - fn: 0.0000e+00 - accuracy: 0.9818 - recall: 1.0000 - precision: 0.9400 - prc: 0.9982 - val_loss: 4.6941 - val_tp: 6.0000 - val_fp: 6.0000 - val_tn: 21.0000 - val_fn: 9.0000 - val_accuracy: 0.6429 - val_recall: 0.4000 - val_precision: 0.5000 - val_prc: 0.4256\n",
            "Epoch 472/500\n",
            "2/2 [==============================] - 0s 48ms/step - loss: 0.0305 - tp: 47.0000 - fp: 3.0000 - tn: 115.0000 - fn: 0.0000e+00 - accuracy: 0.9818 - recall: 1.0000 - precision: 0.9400 - prc: 0.9971 - val_loss: 4.6915 - val_tp: 6.0000 - val_fp: 6.0000 - val_tn: 21.0000 - val_fn: 9.0000 - val_accuracy: 0.6429 - val_recall: 0.4000 - val_precision: 0.5000 - val_prc: 0.4256\n",
            "Epoch 473/500\n",
            "2/2 [==============================] - 0s 51ms/step - loss: 0.0301 - tp: 47.0000 - fp: 3.0000 - tn: 115.0000 - fn: 0.0000e+00 - accuracy: 0.9818 - recall: 1.0000 - precision: 0.9400 - prc: 0.9969 - val_loss: 4.6944 - val_tp: 6.0000 - val_fp: 6.0000 - val_tn: 21.0000 - val_fn: 9.0000 - val_accuracy: 0.6429 - val_recall: 0.4000 - val_precision: 0.5000 - val_prc: 0.4256\n",
            "Epoch 474/500\n",
            "2/2 [==============================] - 0s 53ms/step - loss: 0.0299 - tp: 47.0000 - fp: 3.0000 - tn: 115.0000 - fn: 0.0000e+00 - accuracy: 0.9818 - recall: 1.0000 - precision: 0.9400 - prc: 0.9976 - val_loss: 4.7085 - val_tp: 6.0000 - val_fp: 7.0000 - val_tn: 20.0000 - val_fn: 9.0000 - val_accuracy: 0.6190 - val_recall: 0.4000 - val_precision: 0.4615 - val_prc: 0.4211\n",
            "Epoch 475/500\n",
            "2/2 [==============================] - 0s 65ms/step - loss: 0.0294 - tp: 47.0000 - fp: 3.0000 - tn: 115.0000 - fn: 0.0000e+00 - accuracy: 0.9818 - recall: 1.0000 - precision: 0.9400 - prc: 0.9973 - val_loss: 4.7219 - val_tp: 6.0000 - val_fp: 7.0000 - val_tn: 20.0000 - val_fn: 9.0000 - val_accuracy: 0.6190 - val_recall: 0.4000 - val_precision: 0.4615 - val_prc: 0.4211\n",
            "Epoch 476/500\n",
            "2/2 [==============================] - 0s 52ms/step - loss: 0.0292 - tp: 47.0000 - fp: 3.0000 - tn: 115.0000 - fn: 0.0000e+00 - accuracy: 0.9818 - recall: 1.0000 - precision: 0.9400 - prc: 0.9978 - val_loss: 4.7296 - val_tp: 6.0000 - val_fp: 7.0000 - val_tn: 20.0000 - val_fn: 9.0000 - val_accuracy: 0.6190 - val_recall: 0.4000 - val_precision: 0.4615 - val_prc: 0.4376\n",
            "Epoch 477/500\n",
            "2/2 [==============================] - 0s 57ms/step - loss: 0.0298 - tp: 47.0000 - fp: 3.0000 - tn: 115.0000 - fn: 0.0000e+00 - accuracy: 0.9818 - recall: 1.0000 - precision: 0.9400 - prc: 0.9973 - val_loss: 4.7421 - val_tp: 6.0000 - val_fp: 7.0000 - val_tn: 20.0000 - val_fn: 9.0000 - val_accuracy: 0.6190 - val_recall: 0.4000 - val_precision: 0.4615 - val_prc: 0.4376\n",
            "Epoch 478/500\n",
            "2/2 [==============================] - 0s 74ms/step - loss: 0.0296 - tp: 47.0000 - fp: 3.0000 - tn: 115.0000 - fn: 0.0000e+00 - accuracy: 0.9818 - recall: 1.0000 - precision: 0.9400 - prc: 0.9973 - val_loss: 4.7433 - val_tp: 6.0000 - val_fp: 7.0000 - val_tn: 20.0000 - val_fn: 9.0000 - val_accuracy: 0.6190 - val_recall: 0.4000 - val_precision: 0.4615 - val_prc: 0.4376\n",
            "Epoch 479/500\n",
            "2/2 [==============================] - 0s 49ms/step - loss: 0.0294 - tp: 47.0000 - fp: 3.0000 - tn: 115.0000 - fn: 0.0000e+00 - accuracy: 0.9818 - recall: 1.0000 - precision: 0.9400 - prc: 0.9978 - val_loss: 4.7403 - val_tp: 6.0000 - val_fp: 7.0000 - val_tn: 20.0000 - val_fn: 9.0000 - val_accuracy: 0.6190 - val_recall: 0.4000 - val_precision: 0.4615 - val_prc: 0.4376\n",
            "Epoch 480/500\n",
            "2/2 [==============================] - 0s 77ms/step - loss: 0.0293 - tp: 47.0000 - fp: 3.0000 - tn: 115.0000 - fn: 0.0000e+00 - accuracy: 0.9818 - recall: 1.0000 - precision: 0.9400 - prc: 0.9978 - val_loss: 4.7298 - val_tp: 6.0000 - val_fp: 7.0000 - val_tn: 20.0000 - val_fn: 9.0000 - val_accuracy: 0.6190 - val_recall: 0.4000 - val_precision: 0.4615 - val_prc: 0.4211\n",
            "Epoch 481/500\n",
            "2/2 [==============================] - 0s 49ms/step - loss: 0.0294 - tp: 47.0000 - fp: 3.0000 - tn: 115.0000 - fn: 0.0000e+00 - accuracy: 0.9818 - recall: 1.0000 - precision: 0.9400 - prc: 0.9973 - val_loss: 4.7208 - val_tp: 6.0000 - val_fp: 7.0000 - val_tn: 20.0000 - val_fn: 9.0000 - val_accuracy: 0.6190 - val_recall: 0.4000 - val_precision: 0.4615 - val_prc: 0.4211\n",
            "Epoch 482/500\n",
            "2/2 [==============================] - 0s 43ms/step - loss: 0.0294 - tp: 47.0000 - fp: 3.0000 - tn: 115.0000 - fn: 0.0000e+00 - accuracy: 0.9818 - recall: 1.0000 - precision: 0.9400 - prc: 0.9975 - val_loss: 4.7185 - val_tp: 6.0000 - val_fp: 6.0000 - val_tn: 21.0000 - val_fn: 9.0000 - val_accuracy: 0.6429 - val_recall: 0.4000 - val_precision: 0.5000 - val_prc: 0.4211\n",
            "Epoch 483/500\n",
            "2/2 [==============================] - 0s 40ms/step - loss: 0.0295 - tp: 47.0000 - fp: 3.0000 - tn: 115.0000 - fn: 0.0000e+00 - accuracy: 0.9818 - recall: 1.0000 - precision: 0.9400 - prc: 0.9978 - val_loss: 4.7227 - val_tp: 6.0000 - val_fp: 6.0000 - val_tn: 21.0000 - val_fn: 9.0000 - val_accuracy: 0.6429 - val_recall: 0.4000 - val_precision: 0.5000 - val_prc: 0.4211\n",
            "Epoch 484/500\n",
            "2/2 [==============================] - 0s 121ms/step - loss: 0.0300 - tp: 47.0000 - fp: 3.0000 - tn: 115.0000 - fn: 0.0000e+00 - accuracy: 0.9818 - recall: 1.0000 - precision: 0.9400 - prc: 0.9964 - val_loss: 4.7344 - val_tp: 6.0000 - val_fp: 7.0000 - val_tn: 20.0000 - val_fn: 9.0000 - val_accuracy: 0.6190 - val_recall: 0.4000 - val_precision: 0.4615 - val_prc: 0.4211\n",
            "Epoch 485/500\n",
            "2/2 [==============================] - 0s 96ms/step - loss: 0.0296 - tp: 47.0000 - fp: 3.0000 - tn: 115.0000 - fn: 0.0000e+00 - accuracy: 0.9818 - recall: 1.0000 - precision: 0.9400 - prc: 0.9975 - val_loss: 4.7391 - val_tp: 6.0000 - val_fp: 7.0000 - val_tn: 20.0000 - val_fn: 9.0000 - val_accuracy: 0.6190 - val_recall: 0.4000 - val_precision: 0.4615 - val_prc: 0.4211\n",
            "Epoch 486/500\n",
            "2/2 [==============================] - 0s 49ms/step - loss: 0.0295 - tp: 47.0000 - fp: 3.0000 - tn: 115.0000 - fn: 0.0000e+00 - accuracy: 0.9818 - recall: 1.0000 - precision: 0.9400 - prc: 0.9973 - val_loss: 4.7429 - val_tp: 6.0000 - val_fp: 7.0000 - val_tn: 20.0000 - val_fn: 9.0000 - val_accuracy: 0.6190 - val_recall: 0.4000 - val_precision: 0.4615 - val_prc: 0.4211\n",
            "Epoch 487/500\n",
            "2/2 [==============================] - 0s 56ms/step - loss: 0.0293 - tp: 47.0000 - fp: 3.0000 - tn: 115.0000 - fn: 0.0000e+00 - accuracy: 0.9818 - recall: 1.0000 - precision: 0.9400 - prc: 0.9977 - val_loss: 4.7453 - val_tp: 6.0000 - val_fp: 7.0000 - val_tn: 20.0000 - val_fn: 9.0000 - val_accuracy: 0.6190 - val_recall: 0.4000 - val_precision: 0.4615 - val_prc: 0.4376\n",
            "Epoch 488/500\n",
            "2/2 [==============================] - 0s 71ms/step - loss: 0.0293 - tp: 47.0000 - fp: 3.0000 - tn: 115.0000 - fn: 0.0000e+00 - accuracy: 0.9818 - recall: 1.0000 - precision: 0.9400 - prc: 0.9976 - val_loss: 4.7422 - val_tp: 6.0000 - val_fp: 7.0000 - val_tn: 20.0000 - val_fn: 9.0000 - val_accuracy: 0.6190 - val_recall: 0.4000 - val_precision: 0.4615 - val_prc: 0.4376\n",
            "Epoch 489/500\n",
            "2/2 [==============================] - 0s 63ms/step - loss: 0.0293 - tp: 47.0000 - fp: 3.0000 - tn: 115.0000 - fn: 0.0000e+00 - accuracy: 0.9818 - recall: 1.0000 - precision: 0.9400 - prc: 0.9973 - val_loss: 4.7391 - val_tp: 6.0000 - val_fp: 7.0000 - val_tn: 20.0000 - val_fn: 9.0000 - val_accuracy: 0.6190 - val_recall: 0.4000 - val_precision: 0.4615 - val_prc: 0.4456\n",
            "Epoch 490/500\n",
            "2/2 [==============================] - 0s 99ms/step - loss: 0.0300 - tp: 47.0000 - fp: 3.0000 - tn: 115.0000 - fn: 0.0000e+00 - accuracy: 0.9818 - recall: 1.0000 - precision: 0.9400 - prc: 0.9973 - val_loss: 4.7415 - val_tp: 6.0000 - val_fp: 7.0000 - val_tn: 20.0000 - val_fn: 9.0000 - val_accuracy: 0.6190 - val_recall: 0.4000 - val_precision: 0.4615 - val_prc: 0.4456\n",
            "Epoch 491/500\n",
            "2/2 [==============================] - 0s 117ms/step - loss: 0.0297 - tp: 47.0000 - fp: 3.0000 - tn: 115.0000 - fn: 0.0000e+00 - accuracy: 0.9818 - recall: 1.0000 - precision: 0.9400 - prc: 0.9971 - val_loss: 4.7443 - val_tp: 6.0000 - val_fp: 7.0000 - val_tn: 20.0000 - val_fn: 9.0000 - val_accuracy: 0.6190 - val_recall: 0.4000 - val_precision: 0.4615 - val_prc: 0.4211\n",
            "Epoch 492/500\n",
            "2/2 [==============================] - 0s 86ms/step - loss: 0.0293 - tp: 47.0000 - fp: 3.0000 - tn: 115.0000 - fn: 0.0000e+00 - accuracy: 0.9818 - recall: 1.0000 - precision: 0.9400 - prc: 0.9975 - val_loss: 4.7409 - val_tp: 6.0000 - val_fp: 6.0000 - val_tn: 21.0000 - val_fn: 9.0000 - val_accuracy: 0.6429 - val_recall: 0.4000 - val_precision: 0.5000 - val_prc: 0.4211\n",
            "Epoch 493/500\n",
            "2/2 [==============================] - 0s 212ms/step - loss: 0.0296 - tp: 47.0000 - fp: 3.0000 - tn: 115.0000 - fn: 0.0000e+00 - accuracy: 0.9818 - recall: 1.0000 - precision: 0.9400 - prc: 0.9980 - val_loss: 4.7381 - val_tp: 6.0000 - val_fp: 6.0000 - val_tn: 21.0000 - val_fn: 9.0000 - val_accuracy: 0.6429 - val_recall: 0.4000 - val_precision: 0.5000 - val_prc: 0.4211\n",
            "Epoch 494/500\n",
            "2/2 [==============================] - 0s 165ms/step - loss: 0.0294 - tp: 47.0000 - fp: 3.0000 - tn: 115.0000 - fn: 0.0000e+00 - accuracy: 0.9818 - recall: 1.0000 - precision: 0.9400 - prc: 0.9975 - val_loss: 4.7248 - val_tp: 5.0000 - val_fp: 6.0000 - val_tn: 21.0000 - val_fn: 10.0000 - val_accuracy: 0.6190 - val_recall: 0.3333 - val_precision: 0.4545 - val_prc: 0.4256\n",
            "Epoch 495/500\n",
            "2/2 [==============================] - 0s 103ms/step - loss: 0.0292 - tp: 47.0000 - fp: 3.0000 - tn: 115.0000 - fn: 0.0000e+00 - accuracy: 0.9818 - recall: 1.0000 - precision: 0.9400 - prc: 0.9980 - val_loss: 4.7142 - val_tp: 5.0000 - val_fp: 6.0000 - val_tn: 21.0000 - val_fn: 10.0000 - val_accuracy: 0.6190 - val_recall: 0.3333 - val_precision: 0.4545 - val_prc: 0.4305\n",
            "Epoch 496/500\n",
            "2/2 [==============================] - 0s 92ms/step - loss: 0.0294 - tp: 47.0000 - fp: 3.0000 - tn: 115.0000 - fn: 0.0000e+00 - accuracy: 0.9818 - recall: 1.0000 - precision: 0.9400 - prc: 0.9975 - val_loss: 4.7057 - val_tp: 5.0000 - val_fp: 6.0000 - val_tn: 21.0000 - val_fn: 10.0000 - val_accuracy: 0.6190 - val_recall: 0.3333 - val_precision: 0.4545 - val_prc: 0.4305\n",
            "Epoch 497/500\n",
            "2/2 [==============================] - 0s 64ms/step - loss: 0.0299 - tp: 47.0000 - fp: 3.0000 - tn: 115.0000 - fn: 0.0000e+00 - accuracy: 0.9818 - recall: 1.0000 - precision: 0.9400 - prc: 0.9969 - val_loss: 4.7046 - val_tp: 5.0000 - val_fp: 6.0000 - val_tn: 21.0000 - val_fn: 10.0000 - val_accuracy: 0.6190 - val_recall: 0.3333 - val_precision: 0.4545 - val_prc: 0.4305\n",
            "Epoch 498/500\n",
            "2/2 [==============================] - 0s 108ms/step - loss: 0.0295 - tp: 47.0000 - fp: 3.0000 - tn: 115.0000 - fn: 0.0000e+00 - accuracy: 0.9818 - recall: 1.0000 - precision: 0.9400 - prc: 0.9973 - val_loss: 4.6993 - val_tp: 5.0000 - val_fp: 6.0000 - val_tn: 21.0000 - val_fn: 10.0000 - val_accuracy: 0.6190 - val_recall: 0.3333 - val_precision: 0.4545 - val_prc: 0.4305\n",
            "Epoch 499/500\n",
            "2/2 [==============================] - 0s 109ms/step - loss: 0.0296 - tp: 47.0000 - fp: 3.0000 - tn: 115.0000 - fn: 0.0000e+00 - accuracy: 0.9818 - recall: 1.0000 - precision: 0.9400 - prc: 0.9973 - val_loss: 4.6990 - val_tp: 5.0000 - val_fp: 6.0000 - val_tn: 21.0000 - val_fn: 10.0000 - val_accuracy: 0.6190 - val_recall: 0.3333 - val_precision: 0.4545 - val_prc: 0.4305\n",
            "Epoch 500/500\n",
            "2/2 [==============================] - 0s 93ms/step - loss: 0.0293 - tp: 47.0000 - fp: 3.0000 - tn: 115.0000 - fn: 0.0000e+00 - accuracy: 0.9818 - recall: 1.0000 - precision: 0.9400 - prc: 0.9978 - val_loss: 4.7088 - val_tp: 5.0000 - val_fp: 6.0000 - val_tn: 21.0000 - val_fn: 10.0000 - val_accuracy: 0.6190 - val_recall: 0.3333 - val_precision: 0.4545 - val_prc: 0.4211\n"
          ]
        },
        {
          "output_type": "execute_result",
          "data": {
            "text/plain": [
              "<keras.callbacks.History at 0x7ff71bc75710>"
            ]
          },
          "metadata": {},
          "execution_count": 26
        }
      ]
    },
    {
      "cell_type": "markdown",
      "source": [
        "Visualise the loss and accuracy for each epoch"
      ],
      "metadata": {
        "id": "G9DPmZDDXEnt"
      }
    },
    {
      "cell_type": "code",
      "source": [
        "# summarize history for loss\n",
        "plt.plot(my_model.best_model.history.history['loss'])\n",
        "plt.title('model loss')\n",
        "plt.ylabel('loss')\n",
        "plt.xlabel('epoch')\n",
        "plt.legend(['train', 'test'], loc='upper left')\n",
        "plt.show()"
      ],
      "metadata": {
        "id": "84wnXBf0XDyz",
        "outputId": "a2cf98b7-34a1-431b-91aa-b2a565ddcb97",
        "colab": {
          "base_uri": "https://localhost:8080/",
          "height": 295
        }
      },
      "execution_count": 27,
      "outputs": [
        {
          "output_type": "display_data",
          "data": {
            "text/plain": [
              "<Figure size 432x288 with 1 Axes>"
            ],
            "image/png": "[encoded data removed]"
          },
          "metadata": {
            "needs_background": "light"
          }
        }
      ]
    },
    {
      "cell_type": "code",
      "source": [
        "# list all data in history\n",
        "#print(my_model.best_model.history.history.keys())\n",
        "# summarize history for accuracy\n",
        "plt.plot(my_model.best_model.history.history['accuracy'])\n",
        "plt.title('model accuracy')\n",
        "plt.ylabel('accuracy')\n",
        "plt.xlabel('epoch')\n",
        "plt.legend(['train', 'test'], loc='upper left')\n",
        "plt.show()"
      ],
      "metadata": {
        "id": "c_bC8ZieW5fQ",
        "colab": {
          "base_uri": "https://localhost:8080/",
          "height": 295
        },
        "outputId": "6cda20d7-3bc0-444d-9e01-9145a1ad9f8b"
      },
      "execution_count": 28,
      "outputs": [
        {
          "output_type": "display_data",
          "data": {
            "text/plain": [
              "<Figure size 432x288 with 1 Axes>"
            ],
            "image/png": "[encoded data removed]"
          },
          "metadata": {
            "needs_background": "light"
          }
        }
      ]
    },
    {
      "cell_type": "code",
      "execution_count": 29,
      "metadata": {
        "id": "kwOiqNee7goj"
      },
      "outputs": [],
      "source": [
        "# use your model to make a prediction on unseen data\n",
        "y_pred = my_model.best_model.predict(x_test_processed,batch_size=my_model.BATCH)\n",
        "#convert values\n",
        "y_pred = (y_pred>my_model.THR)"
      ]
    },
    {
      "cell_type": "code",
      "execution_count": 30,
      "metadata": {
        "id": "VGgleoej7gok",
        "outputId": "5c3cb551-1b27-4285-97e0-92b3cdd9fb96",
        "colab": {
          "base_uri": "https://localhost:8080/",
          "height": 333
        }
      },
      "outputs": [
        {
          "output_type": "stream",
          "name": "stdout",
          "text": [
            "Accuracy: 74.29 %\n",
            "Weighted ROC AUC accuracy: 69.14 %\n",
            "Confusion matrix:\n"
          ]
        },
        {
          "output_type": "display_data",
          "data": {
            "text/plain": [
              "<Figure size 432x288 with 2 Axes>"
            ],
            "image/png": "[encoded data removed]"
          },
          "metadata": {
            "needs_background": "light"
          }
        }
      ],
      "source": [
        "# Asssess the accuracy of your model and explain your key findings\n",
        "# Generate confusion matrix\n",
        "from sklearn.metrics import confusion_matrix, accuracy_score, roc_auc_score, ConfusionMatrixDisplay\n",
        "cm = confusion_matrix(y_test, y_pred)\n",
        "score = accuracy_score(y_test, y_pred)\n",
        "print(\"Accuracy: {:.2f} %\".format(score*100))\n",
        "print(\"Weighted ROC AUC accuracy: {:.2f} %\".format(roc_auc_score(y_test, y_pred, average='weighted')*100))\n",
        "print(\"Confusion matrix:\")\n",
        "disp = ConfusionMatrixDisplay(cm)\n",
        "disp.plot()\n",
        "plt.show()\n",
        "\n",
        "# Apply k-fold Cross Validation\n",
        "# from sklearn.model_selection import cross_val_score\n",
        "# from numpy import ravel\n",
        "# accuracies = cross_val_score(estimator = classifier, X = x_train_processed, y = ravel(y_train.values), scoring = 'roc_auc_ovo', cv = 10)\n",
        "# print(\"K-fold cross validation results\")\n",
        "# print(\"Accuracy: {:.2f} %\".format(accuracies.mean()*100))\n",
        "# print(\"Standard Deviation: {:.2f} %\".format(accuracies.std()*100))"
      ]
    },
    {
      "cell_type": "markdown",
      "source": [
        "**Model is approx 65-70% accurate at predicting whether cancer recurrence will occur.**\n",
        "\n",
        "**Crucially, the proportion of False Negatives is low (<15%). In cancer diagnosis these are the outcomes that we want to minimise. False Positives, whilst undesirable, will likely lead to further diagnostic testing before it is realised that cancer is not present.**"
      ],
      "metadata": {
        "id": "UMNN4P_E07L6"
      }
    },
    {
      "cell_type": "markdown",
      "metadata": {
        "id": "VDU85k7J7gok"
      },
      "source": [
        "### Unit tests:"
      ]
    },
    {
      "cell_type": "markdown",
      "metadata": {
        "id": "uq2QRpri7gol"
      },
      "source": [
        "###Checking training and test data for null values. This will work for both pd dataframes and np arrays, and ensures no null values exist."
      ]
    },
    {
      "cell_type": "code",
      "execution_count": 31,
      "metadata": {
        "id": "oUeh38w_7gol"
      },
      "outputs": [],
      "source": [
        "def test_no_nulls(data):\n",
        "    \"\"\" Assert no null values within pd dataframe or np array \"\"\"\n",
        "    \n",
        "    # if data is numpy array, handle accordingly\n",
        "    if isinstance(data, (np.ndarray)):\n",
        "        assert not np.isnan(np.min(data))\n",
        "    \n",
        "    # if not np array, assume data is pandas dataframe\n",
        "    else:\n",
        "        assert data.isna().sum().sum() == 0"
      ]
    },
    {
      "cell_type": "code",
      "execution_count": 32,
      "metadata": {
        "id": "BV9Z1F3i7gom"
      },
      "outputs": [],
      "source": [
        "# run null data unit test on both training and test data\n",
        "test_no_nulls(x_train_processed)\n",
        "test_no_nulls(x_test_processed)"
      ]
    }
  ],
  "metadata": {
    "colab": {
      "collapsed_sections": [],
      "name": "Copy of KSVC.ipynb",
      "provenance": [],
      "include_colab_link": true
    },
    "kernelspec": {
      "display_name": "Python 3 (ipykernel)",
      "language": "python",
      "name": "python3"
    },
    "language_info": {
      "codemirror_mode": {
        "name": "ipython",
        "version": 3
      },
      "file_extension": ".py",
      "mimetype": "text/x-python",
      "name": "python",
      "nbconvert_exporter": "python",
      "pygments_lexer": "ipython3",
      "version": "3.9.7"
    }
  },
  "nbformat": 4,
  "nbformat_minor": 0
}