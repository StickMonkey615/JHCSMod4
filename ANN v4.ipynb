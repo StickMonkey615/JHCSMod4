{
  "cells": [
    {
      "cell_type": "markdown",
      "metadata": {
        "id": "view-in-github",
        "colab_type": "text"
      },
      "source": [
        "<a href=\"https://colab.research.google.com/github/StickMonkey615/JHCSMod4/blob/main/ANN%20v4.ipynb\" target=\"_parent\"><img src=\"https://colab.research.google.com/assets/colab-badge.svg\" alt=\"Open In Colab\"/></a>"
      ]
    },
    {
      "cell_type": "markdown",
      "metadata": {
        "id": "iRn73TIW7gn9"
      },
      "source": [
        "# Module 4 Guidance\n",
        "\n",
        "This notebook is a template for module 4b and 4c, which will be tested in Google Colab, your code needs to run there.\n",
        "The structure has been provided to improve consistency and make it easier for markers to understand your code but still give students the flexibility to be creative.  You need to populate the required functions to solve this problem.  All dependencies should be documented in the next cell.\n",
        "\n",
        "You can:\n",
        "    add further cells or text blocks to extend or further explain your solution\n",
        "    add further functions\n",
        "\n",
        "Dont:\n",
        "    rename functions\n",
        "   "
      ]
    },
    {
      "cell_type": "markdown",
      "source": [
        "### Setup"
      ],
      "metadata": {
        "id": "I5Pj_LPoJcrT"
      }
    },
    {
      "cell_type": "code",
      "execution_count": 1,
      "metadata": {
        "id": "ZxOsuHxz7goC",
        "colab": {
          "base_uri": "https://localhost:8080/"
        },
        "outputId": "8eee1243-a5df-4435-ec4a-17b9419b9e74"
      },
      "outputs": [
        {
          "output_type": "stream",
          "name": "stdout",
          "text": [
            "Looking in indexes: https://pypi.org/simple, https://us-python.pkg.dev/colab-wheels/public/simple/\n",
            "Collecting keras-tuner\n",
            "  Downloading keras_tuner-1.1.3-py3-none-any.whl (135 kB)\n",
            "\u001b[K     |████████████████████████████████| 135 kB 7.0 MB/s \n",
            "\u001b[?25hRequirement already satisfied: packaging in /usr/local/lib/python3.7/dist-packages (from keras-tuner) (21.3)\n",
            "Requirement already satisfied: requests in /usr/local/lib/python3.7/dist-packages (from keras-tuner) (2.23.0)\n",
            "Requirement already satisfied: ipython in /usr/local/lib/python3.7/dist-packages (from keras-tuner) (7.9.0)\n",
            "Collecting kt-legacy\n",
            "  Downloading kt_legacy-1.0.4-py3-none-any.whl (9.6 kB)\n",
            "Requirement already satisfied: numpy in /usr/local/lib/python3.7/dist-packages (from keras-tuner) (1.21.6)\n",
            "Requirement already satisfied: tensorboard in /usr/local/lib/python3.7/dist-packages (from keras-tuner) (2.8.0)\n",
            "Requirement already satisfied: prompt-toolkit<2.1.0,>=2.0.0 in /usr/local/lib/python3.7/dist-packages (from ipython->keras-tuner) (2.0.10)\n",
            "Requirement already satisfied: decorator in /usr/local/lib/python3.7/dist-packages (from ipython->keras-tuner) (4.4.2)\n",
            "Requirement already satisfied: pygments in /usr/local/lib/python3.7/dist-packages (from ipython->keras-tuner) (2.6.1)\n",
            "Requirement already satisfied: traitlets>=4.2 in /usr/local/lib/python3.7/dist-packages (from ipython->keras-tuner) (5.1.1)\n",
            "Requirement already satisfied: setuptools>=18.5 in /usr/local/lib/python3.7/dist-packages (from ipython->keras-tuner) (57.4.0)\n",
            "Requirement already satisfied: backcall in /usr/local/lib/python3.7/dist-packages (from ipython->keras-tuner) (0.2.0)\n",
            "Collecting jedi>=0.10\n",
            "  Downloading jedi-0.18.1-py2.py3-none-any.whl (1.6 MB)\n",
            "\u001b[K     |████████████████████████████████| 1.6 MB 8.7 MB/s \n",
            "\u001b[?25hRequirement already satisfied: pickleshare in /usr/local/lib/python3.7/dist-packages (from ipython->keras-tuner) (0.7.5)\n",
            "Requirement already satisfied: pexpect in /usr/local/lib/python3.7/dist-packages (from ipython->keras-tuner) (4.8.0)\n",
            "Requirement already satisfied: parso<0.9.0,>=0.8.0 in /usr/local/lib/python3.7/dist-packages (from jedi>=0.10->ipython->keras-tuner) (0.8.3)\n",
            "Requirement already satisfied: wcwidth in /usr/local/lib/python3.7/dist-packages (from prompt-toolkit<2.1.0,>=2.0.0->ipython->keras-tuner) (0.2.5)\n",
            "Requirement already satisfied: six>=1.9.0 in /usr/local/lib/python3.7/dist-packages (from prompt-toolkit<2.1.0,>=2.0.0->ipython->keras-tuner) (1.15.0)\n",
            "Requirement already satisfied: pyparsing!=3.0.5,>=2.0.2 in /usr/local/lib/python3.7/dist-packages (from packaging->keras-tuner) (3.0.9)\n",
            "Requirement already satisfied: ptyprocess>=0.5 in /usr/local/lib/python3.7/dist-packages (from pexpect->ipython->keras-tuner) (0.7.0)\n",
            "Requirement already satisfied: idna<3,>=2.5 in /usr/local/lib/python3.7/dist-packages (from requests->keras-tuner) (2.10)\n",
            "Requirement already satisfied: chardet<4,>=3.0.2 in /usr/local/lib/python3.7/dist-packages (from requests->keras-tuner) (3.0.4)\n",
            "Requirement already satisfied: urllib3!=1.25.0,!=1.25.1,<1.26,>=1.21.1 in /usr/local/lib/python3.7/dist-packages (from requests->keras-tuner) (1.24.3)\n",
            "Requirement already satisfied: certifi>=2017.4.17 in /usr/local/lib/python3.7/dist-packages (from requests->keras-tuner) (2022.9.24)\n",
            "Requirement already satisfied: grpcio>=1.24.3 in /usr/local/lib/python3.7/dist-packages (from tensorboard->keras-tuner) (1.49.1)\n",
            "Requirement already satisfied: werkzeug>=0.11.15 in /usr/local/lib/python3.7/dist-packages (from tensorboard->keras-tuner) (1.0.1)\n",
            "Requirement already satisfied: wheel>=0.26 in /usr/local/lib/python3.7/dist-packages (from tensorboard->keras-tuner) (0.37.1)\n",
            "Requirement already satisfied: absl-py>=0.4 in /usr/local/lib/python3.7/dist-packages (from tensorboard->keras-tuner) (1.2.0)\n",
            "Requirement already satisfied: markdown>=2.6.8 in /usr/local/lib/python3.7/dist-packages (from tensorboard->keras-tuner) (3.4.1)\n",
            "Requirement already satisfied: google-auth<3,>=1.6.3 in /usr/local/lib/python3.7/dist-packages (from tensorboard->keras-tuner) (1.35.0)\n",
            "Requirement already satisfied: tensorboard-data-server<0.7.0,>=0.6.0 in /usr/local/lib/python3.7/dist-packages (from tensorboard->keras-tuner) (0.6.1)\n",
            "Requirement already satisfied: google-auth-oauthlib<0.5,>=0.4.1 in /usr/local/lib/python3.7/dist-packages (from tensorboard->keras-tuner) (0.4.6)\n",
            "Requirement already satisfied: protobuf>=3.6.0 in /usr/local/lib/python3.7/dist-packages (from tensorboard->keras-tuner) (3.17.3)\n",
            "Requirement already satisfied: tensorboard-plugin-wit>=1.6.0 in /usr/local/lib/python3.7/dist-packages (from tensorboard->keras-tuner) (1.8.1)\n",
            "Requirement already satisfied: rsa<5,>=3.1.4 in /usr/local/lib/python3.7/dist-packages (from google-auth<3,>=1.6.3->tensorboard->keras-tuner) (4.9)\n",
            "Requirement already satisfied: cachetools<5.0,>=2.0.0 in /usr/local/lib/python3.7/dist-packages (from google-auth<3,>=1.6.3->tensorboard->keras-tuner) (4.2.4)\n",
            "Requirement already satisfied: pyasn1-modules>=0.2.1 in /usr/local/lib/python3.7/dist-packages (from google-auth<3,>=1.6.3->tensorboard->keras-tuner) (0.2.8)\n",
            "Requirement already satisfied: requests-oauthlib>=0.7.0 in /usr/local/lib/python3.7/dist-packages (from google-auth-oauthlib<0.5,>=0.4.1->tensorboard->keras-tuner) (1.3.1)\n",
            "Requirement already satisfied: importlib-metadata>=4.4 in /usr/local/lib/python3.7/dist-packages (from markdown>=2.6.8->tensorboard->keras-tuner) (5.0.0)\n",
            "Requirement already satisfied: zipp>=0.5 in /usr/local/lib/python3.7/dist-packages (from importlib-metadata>=4.4->markdown>=2.6.8->tensorboard->keras-tuner) (3.8.1)\n",
            "Requirement already satisfied: typing-extensions>=3.6.4 in /usr/local/lib/python3.7/dist-packages (from importlib-metadata>=4.4->markdown>=2.6.8->tensorboard->keras-tuner) (4.1.1)\n",
            "Requirement already satisfied: pyasn1<0.5.0,>=0.4.6 in /usr/local/lib/python3.7/dist-packages (from pyasn1-modules>=0.2.1->google-auth<3,>=1.6.3->tensorboard->keras-tuner) (0.4.8)\n",
            "Requirement already satisfied: oauthlib>=3.0.0 in /usr/local/lib/python3.7/dist-packages (from requests-oauthlib>=0.7.0->google-auth-oauthlib<0.5,>=0.4.1->tensorboard->keras-tuner) (3.2.1)\n",
            "Installing collected packages: jedi, kt-legacy, keras-tuner\n",
            "Successfully installed jedi-0.18.1 keras-tuner-1.1.3 kt-legacy-1.0.4\n"
          ]
        }
      ],
      "source": [
        "# Fixed dependencies - do not remove or change.\n",
        "import pytest\n",
        "import pandas as pd\n",
        "import numpy as np\n",
        "from google.colab import drive\n",
        "# drive.mount('/content/gdrive/')\n",
        "# Import your dependencies\n",
        "!pip install --upgrade xlrd > 1.2.0\n",
        "import xlrd\n",
        "import matplotlib.pyplot as plt\n",
        "import seaborn as sb\n",
        "import tensorflow as tf\n",
        "import keras\n",
        "!pip install keras-tuner --upgrade\n",
        "import keras_tuner as kt"
      ]
    },
    {
      "cell_type": "code",
      "execution_count": 2,
      "metadata": {
        "id": "1m_gmKQP7goE"
      },
      "outputs": [],
      "source": [
        "# Import data\n",
        "\n",
        "def import_local_data(file_path):\n",
        "    \"\"\"This function needs to import the data file into collab and return a pandas dataframe\n",
        "    \"\"\"\n",
        "    raw_df = pd.read_excel(file_path)\n",
        "    return raw_df"
      ]
    },
    {
      "cell_type": "code",
      "execution_count": 3,
      "metadata": {
        "id": "cIljHljB7goF"
      },
      "outputs": [],
      "source": [
        "local_file_path = \"breast-cancer.xls\""
      ]
    },
    {
      "cell_type": "code",
      "execution_count": 4,
      "metadata": {
        "id": "LCu51H5Z7goF"
      },
      "outputs": [],
      "source": [
        "# Dont change\n",
        "raw_data = import_local_data(local_file_path)"
      ]
    },
    {
      "cell_type": "markdown",
      "metadata": {
        "id": "U9WDYKUP7goG"
      },
      "source": [
        "### Conduct exploratory data analysis and explain your key findings - Examine the data, explain its key features and what they look like.  Highlight any fields that are anomalous."
      ]
    },
    {
      "cell_type": "code",
      "source": [
        "# Look at the different dataframe column headings\n",
        "print(raw_data.columns)"
      ],
      "metadata": {
        "colab": {
          "base_uri": "https://localhost:8080/"
        },
        "id": "HkjdfYHGiz7a",
        "outputId": "5680f916-93a1-48e0-ab32-4a95cd4bd3af"
      },
      "execution_count": 5,
      "outputs": [
        {
          "output_type": "stream",
          "name": "stdout",
          "text": [
            "Index(['age', 'menopause', 'tumor-size', 'inv-nodes', 'node-caps', 'deg-malig',\n",
            "       'breast', 'breast-quad', 'irradiat', 'Class'],\n",
            "      dtype='object')\n"
          ]
        }
      ]
    },
    {
      "cell_type": "code",
      "source": [
        "# Determine data types for each column\n",
        "for i in range(0, len(raw_data.columns)):\n",
        "    print(type(raw_data.values[1][i]))"
      ],
      "metadata": {
        "colab": {
          "base_uri": "https://localhost:8080/"
        },
        "id": "oKqjAI-XigbI",
        "outputId": "3e7e7b82-f4b8-4a75-c6b1-b5fa920c84b0"
      },
      "execution_count": 6,
      "outputs": [
        {
          "output_type": "stream",
          "name": "stdout",
          "text": [
            "<class 'str'>\n",
            "<class 'str'>\n",
            "<class 'str'>\n",
            "<class 'str'>\n",
            "<class 'str'>\n",
            "<class 'int'>\n",
            "<class 'str'>\n",
            "<class 'str'>\n",
            "<class 'str'>\n",
            "<class 'str'>\n"
          ]
        }
      ]
    },
    {
      "cell_type": "code",
      "source": [
        "#Look at the range of values for each field\n",
        "from collections import Counter\n",
        "rng_vals=[]\n",
        "for i in range(0,len(raw_data.columns)):\n",
        "    rng_vals.append(Counter(raw_data.iloc[:,i].values))\n",
        "    print(f\"{raw_data.columns[i]}: {rng_vals[i]}\")\n",
        "del rng_vals, i"
      ],
      "metadata": {
        "id": "-lQUCdTe36Dp",
        "outputId": "6245b150-06c5-45ec-bc20-162d29e54b21",
        "colab": {
          "base_uri": "https://localhost:8080/"
        }
      },
      "execution_count": 7,
      "outputs": [
        {
          "output_type": "stream",
          "name": "stdout",
          "text": [
            "age: Counter({'50-59': 96, '40-49': 90, '60-69': 57, '30-39': 36, '70-79': 6, '20-29': 1})\n",
            "menopause: Counter({'premeno': 150, 'ge40': 129, 'lt40': 7})\n",
            "tumor-size: Counter({'30-34': 60, '25-29': 54, '20-24': 50, '15-19': 30, datetime.datetime(2014, 10, 1, 0, 0): 28, '40-44': 22, '35-39': 19, '0-4': 8, '50-54': 8, datetime.datetime(2019, 9, 5, 0, 0): 4, '45-49': 3})\n",
            "inv-nodes: Counter({'0-2': 213, datetime.datetime(2019, 5, 3, 0, 0): 36, datetime.datetime(2019, 8, 6, 0, 0): 17, datetime.datetime(2019, 11, 9, 0, 0): 10, '15-17': 6, datetime.datetime(2014, 12, 1, 0, 0): 3, '24-26': 1})\n",
            "node-caps: Counter({'no': 222, 'yes': 56, '?': 8})\n",
            "deg-malig: Counter({2: 130, 3: 85, 1: 71})\n",
            "breast: Counter({'left': 152, 'right': 134})\n",
            "breast-quad: Counter({'left_low': 110, 'left_up': 97, 'right_up': 33, 'right_low': 24, 'central': 21, '?': 1})\n",
            "irradiat: Counter({'no': 218, 'yes': 68})\n",
            "Class: Counter({'no-recurrence-events': 201, 'recurrence-events': 85})\n"
          ]
        }
      ]
    },
    {
      "cell_type": "markdown",
      "source": [
        "**All fields look to contain data that is catagorical in nature.**\n",
        "\n",
        "**Some contain data that appears erroneous:**\n",
        " \n",
        "*   **'tumor-size' and 'inv-nodes' appear to contain some data in a datetime format and some in string.**\n",
        "*   **'node-caps' and 'breast-quad' contain Question Marks.**\n",
        "\n",
        "**Need a way to address these erroneous data inputs.**\n",
        "\n"
      ],
      "metadata": {
        "id": "lALFUx2EEQF0"
      }
    },
    {
      "cell_type": "code",
      "source": [
        "# Look in more detail at the columns with datetime data.\n",
        "print(raw_data.iloc[:, 2].values)"
      ],
      "metadata": {
        "colab": {
          "base_uri": "https://localhost:8080/"
        },
        "id": "1IetVwnCr3XI",
        "outputId": "c64a3f57-12b2-4a6e-964b-3bda5183d5a0"
      },
      "execution_count": 8,
      "outputs": [
        {
          "output_type": "stream",
          "name": "stdout",
          "text": [
            "['15-19' '15-19' '35-39' '35-39' '30-34' '25-29' '40-44'\n",
            " datetime.datetime(2014, 10, 1, 0, 0) '0-4' '40-44' '25-29' '15-19'\n",
            " '30-34' '25-29' '25-29' '20-24' datetime.datetime(2014, 10, 1, 0, 0)\n",
            " '15-19' '40-44' '20-24' '20-24' '40-44' '15-19'\n",
            " datetime.datetime(2014, 10, 1, 0, 0) '15-19' '20-24'\n",
            " datetime.datetime(2014, 10, 1, 0, 0) datetime.datetime(2014, 10, 1, 0, 0)\n",
            " '30-34' '15-19' '30-34' '25-29' '25-29' '20-24' '30-34' '15-19'\n",
            " datetime.datetime(2014, 10, 1, 0, 0) '45-49' '20-24'\n",
            " datetime.datetime(2014, 10, 1, 0, 0) '35-39' '35-39' '25-29' '20-24'\n",
            " '15-19' '30-34' datetime.datetime(2014, 10, 1, 0, 0) '35-39' '50-54'\n",
            " '40-44' '15-19' '30-34' '0-4' '40-44' '25-29' '25-29' '20-24' '35-39'\n",
            " '50-54' '0-4' '40-44' '30-34' '20-24' '30-34' '20-24' '15-19' '25-29'\n",
            " '15-19' '50-54' datetime.datetime(2014, 10, 1, 0, 0) '25-29' '25-29'\n",
            " datetime.datetime(2014, 10, 1, 0, 0) '30-34' '25-29'\n",
            " datetime.datetime(2014, 10, 1, 0, 0) '15-19' '25-29' '25-29' '30-34'\n",
            " '15-19' '25-29' '30-34' '15-19' '0-4' '35-39' '40-44' '25-29' '20-24'\n",
            " '30-34' '20-24' '30-34' '20-24' datetime.datetime(2014, 10, 1, 0, 0)\n",
            " '20-24' '45-49' '40-44' datetime.datetime(2014, 10, 1, 0, 0) '30-34'\n",
            " '35-39' '20-24' '15-19' '30-34' '20-24' '20-24' '30-34' '20-24' '25-29'\n",
            " '30-34' '20-24' '15-19' '30-34' '30-34' '40-44'\n",
            " datetime.datetime(2019, 9, 5, 0, 0) datetime.datetime(2014, 10, 1, 0, 0)\n",
            " '30-34' datetime.datetime(2014, 10, 1, 0, 0) '35-39' '20-24' '30-34'\n",
            " '25-29' '15-19' '35-39' datetime.datetime(2014, 10, 1, 0, 0) '30-34'\n",
            " '30-34' '25-29' '15-19' '15-19' '30-34' '35-39' '30-34' '25-29' '30-34'\n",
            " '15-19' '0-4' '0-4' '50-54' '30-34' '20-24' '25-29' '30-34' '20-24'\n",
            " '15-19' datetime.datetime(2014, 10, 1, 0, 0) '30-34'\n",
            " datetime.datetime(2014, 10, 1, 0, 0) '40-44' '30-34' '50-54' '15-19'\n",
            " '40-44' '25-29' datetime.datetime(2014, 10, 1, 0, 0)\n",
            " datetime.datetime(2014, 10, 1, 0, 0) '30-34' '20-24'\n",
            " datetime.datetime(2014, 10, 1, 0, 0) '25-29' '25-29' '30-34' '50-54'\n",
            " '30-34' '20-24' '30-34' '25-29' '20-24' '20-24' '50-54' '20-24' '30-34'\n",
            " '25-29' '25-29' '40-44' '20-24' '20-24' '25-29' '25-29' '20-24' '40-44'\n",
            " datetime.datetime(2014, 10, 1, 0, 0) '35-39' '30-34'\n",
            " datetime.datetime(2019, 9, 5, 0, 0) '15-19' '30-34' '25-29'\n",
            " datetime.datetime(2019, 9, 5, 0, 0) '25-29' '25-29'\n",
            " datetime.datetime(2014, 10, 1, 0, 0) '35-39' '50-54' '25-29' '20-24'\n",
            " '30-34' '30-34' '15-19' '20-24' datetime.datetime(2019, 9, 5, 0, 0)\n",
            " '30-34' '30-34' '25-29' '25-29' '40-44' '25-29' '30-34' '30-34' '25-29'\n",
            " '25-29' '40-44' '20-24' '25-29' '20-24' '40-44' '25-29' '25-29' '45-49'\n",
            " '20-24' '25-29' '20-24' '20-24' '35-39' '20-24' '30-34' '25-29' '30-34'\n",
            " '25-29' '20-24' '20-24' datetime.datetime(2014, 10, 1, 0, 0) '15-19'\n",
            " '25-29' '20-24' '40-44' '15-19' '30-34' '30-34' '40-44' '30-34'\n",
            " datetime.datetime(2014, 10, 1, 0, 0) '40-44' '30-34' '30-34' '15-19'\n",
            " datetime.datetime(2014, 10, 1, 0, 0) '20-24'\n",
            " datetime.datetime(2014, 10, 1, 0, 0) '25-29' '30-34'\n",
            " datetime.datetime(2014, 10, 1, 0, 0) '30-34' '0-4' '25-29' '25-29'\n",
            " '40-44' '25-29' '30-34' '20-24' '20-24' '25-29' '30-34' '20-24' '30-34'\n",
            " '0-4' '20-24' '35-39' '30-34' '20-24' '25-29' '35-39' '20-24' '20-24'\n",
            " '35-39' '35-39' '25-29' '35-39' '30-34' '20-24' '15-19' '30-34' '25-29'\n",
            " '30-34' '15-19' '40-44']\n"
          ]
        }
      ]
    },
    {
      "cell_type": "code",
      "source": [
        "# Look at output data\n",
        "raw_data['Class'].value_counts()"
      ],
      "metadata": {
        "colab": {
          "base_uri": "https://localhost:8080/"
        },
        "id": "3HePUlhNvfWF",
        "outputId": "1c1598a0-f776-45b7-ec1b-373020e7a2e1"
      },
      "execution_count": 9,
      "outputs": [
        {
          "output_type": "execute_result",
          "data": {
            "text/plain": [
              "no-recurrence-events    201\n",
              "recurrence-events        85\n",
              "Name: Class, dtype: int64"
            ]
          },
          "metadata": {},
          "execution_count": 9
        }
      ]
    },
    {
      "cell_type": "markdown",
      "source": [
        "Only 2 possible outputs, thus needs converting to binary format for use in classifier models."
      ],
      "metadata": {
        "id": "bkV5bQKKwYHj"
      }
    },
    {
      "cell_type": "code",
      "execution_count": 10,
      "metadata": {
        "id": "KMB3eKfC7goU",
        "colab": {
          "base_uri": "https://localhost:8080/"
        },
        "outputId": "6a07207a-50bc-46b4-b96f-72f8e511f63e"
      },
      "outputs": [
        {
          "output_type": "stream",
          "name": "stdout",
          "text": [
            "True outputs: 29.72 %\n"
          ]
        }
      ],
      "source": [
        "# Check output balance\n",
        "out = raw_data.iloc[:, -1].values\n",
        "no_rows = len(raw_data)\n",
        "\n",
        "from sklearn.preprocessing import LabelEncoder\n",
        "le = LabelEncoder()\n",
        "code_rows = le.fit_transform(out)\n",
        "print(\"True outputs: {:.2f} %\".format(sum(code_rows)/len(raw_data)*100))\n",
        "pos = sum(code_rows)\n",
        "neg = len(raw_data)-sum(code_rows)\n",
        "del out, no_rows, le, code_rows"
      ]
    },
    {
      "cell_type": "markdown",
      "source": [
        "Clear imbalance between output data. Some degree of bias/weighting/sampling will be required to ensure that results accurately predict outcomes for both True and False outcomes."
      ],
      "metadata": {
        "id": "mMo9-0hTwirc"
      }
    },
    {
      "cell_type": "code",
      "execution_count": 11,
      "metadata": {
        "id": "f02MTYgB7goW"
      },
      "outputs": [],
      "source": [
        "# Explain your key findings"
      ]
    },
    {
      "cell_type": "markdown",
      "source": [
        "**Data set is made up of 9 independent variables all of which appear catagorical in nature. Although stored as an integer, 'deg-malig' can be viewed as  catagorical data as it can only contain 3 discrete values.**\n",
        "\n",
        "**The inclusion of datetime data entries in both the 'tumor-size' and 'inv-nodes' fields appears to be caused by a formatting entry within Excel. For example, '10-14' being input erroneously as 10/14 thus Excel has interpreted (and converted) it to the datetime field 01/10/2014. A function will need to be written within the model to convert these back to correct format.**\n",
        "\n",
        "**How to deal with '?' entries in fields that are otherwise boolean poses an interesting dilemma. If these are infact meant to signify that the presence is unknown because no diagnostic work has been conducted, then this woiuld signify a valid dat entry. If it is however just an incomplete data entry then there is a risk its inclusion could skew the model results. Without knowing which it seems wisest to remove this data from the dataset. Removal of the entire field could well deprive the model of important information, thus just removing these specific entries (rows) appears the most sensible option, particularly noting that there are relatively few occurences.**\n",
        "\n",
        "**Data set is imbalanced, with dependent variable outputs only True in 30% of instances. The model applied will require this imbalance to be taken into account so as not to sacrifice results predicting this smaller class (surely the aim of cancer diagnosis) so as to achieve a high accuracy figure.**\n",
        "\n",
        "**Output variable will need converting into binary output for use with a binary classification model.**"
      ],
      "metadata": {
        "id": "V7OWyLcOrgWJ"
      }
    },
    {
      "cell_type": "markdown",
      "metadata": {
        "id": "SzZj8I8G7goX"
      },
      "source": [
        "###Create any data pre-processing that you will conduct on seen and unseen data.  Regardless of the model you use, this dataframe must contain only numeric features and have a strategy for any expected missing values. Any objects can that are needed to handle the test data that are dependent on the training data can be stored in the model class.  You are recommended to use sklearn Pipelines or similar functionality to ensure reproducibility."
      ]
    },
    {
      "cell_type": "code",
      "source": [
        "# Correct date types in 'tumor-size' and 'inv-nodes' variables\n",
        "for i in range(0, len(raw_data)):\n",
        "    if type(raw_data['tumor-size'][i]) is not str:\n",
        "        if raw_data['tumor-size'][i].day == 1:\n",
        "            raw_data['tumor-size'][i] = str(raw_data['tumor-size'][i].month) +'-' + str(raw_data['tumor-size'][i].year-2000)\n",
        "        else:\n",
        "            raw_data['tumor-size'][i] = str(raw_data['tumor-size'][i].day) + '-' + str(raw_data['tumor-size'][i].month)\n",
        "    if type(raw_data['inv-nodes'][i]) is not str:\n",
        "        if raw_data['inv-nodes'][i].day == 1:\n",
        "            raw_data['inv-nodes'][i] = str(raw_data['inv-nodes'][i].month) + '-' + str(raw_data['inv-nodes'][i].year-2000)\n",
        "        else:\n",
        "            raw_data['inv-nodes'][i] = str(raw_data['inv-nodes'][i].day) + '-' + str(raw_data['inv-nodes'][i].month)        "
      ],
      "metadata": {
        "id": "GlZwiMllRpUB",
        "outputId": "c9dcb113-16dd-4e7b-eba0-f96157414c28",
        "colab": {
          "base_uri": "https://localhost:8080/"
        }
      },
      "execution_count": 12,
      "outputs": [
        {
          "output_type": "stream",
          "name": "stderr",
          "text": [
            "/usr/local/lib/python3.7/dist-packages/ipykernel_launcher.py:12: SettingWithCopyWarning: \n",
            "A value is trying to be set on a copy of a slice from a DataFrame\n",
            "\n",
            "See the caveats in the documentation: https://pandas.pydata.org/pandas-docs/stable/user_guide/indexing.html#returning-a-view-versus-a-copy\n",
            "  if sys.path[0] == '':\n",
            "/usr/local/lib/python3.7/dist-packages/ipykernel_launcher.py:5: SettingWithCopyWarning: \n",
            "A value is trying to be set on a copy of a slice from a DataFrame\n",
            "\n",
            "See the caveats in the documentation: https://pandas.pydata.org/pandas-docs/stable/user_guide/indexing.html#returning-a-view-versus-a-copy\n",
            "  \"\"\"\n",
            "/usr/local/lib/python3.7/dist-packages/ipykernel_launcher.py:7: SettingWithCopyWarning: \n",
            "A value is trying to be set on a copy of a slice from a DataFrame\n",
            "\n",
            "See the caveats in the documentation: https://pandas.pydata.org/pandas-docs/stable/user_guide/indexing.html#returning-a-view-versus-a-copy\n",
            "  import sys\n",
            "/usr/local/lib/python3.7/dist-packages/ipykernel_launcher.py:10: SettingWithCopyWarning: \n",
            "A value is trying to be set on a copy of a slice from a DataFrame\n",
            "\n",
            "See the caveats in the documentation: https://pandas.pydata.org/pandas-docs/stable/user_guide/indexing.html#returning-a-view-versus-a-copy\n",
            "  # Remove the CWD from sys.path while we load stuff.\n"
          ]
        }
      ]
    },
    {
      "cell_type": "code",
      "source": [
        "# Remove all rows containing ? data\n",
        "indx = raw_data[raw_data.isin(['?'])].stack(dropna=True).unstack().index\n",
        "print(f\"indx: {indx}\")\n",
        "raw_data = raw_data.drop(index=indx)"
      ],
      "metadata": {
        "id": "ThhbSU5gPBYA",
        "outputId": "68b65fe3-f458-4f2b-d1c8-aceab60a206f",
        "colab": {
          "base_uri": "https://localhost:8080/"
        }
      },
      "execution_count": 13,
      "outputs": [
        {
          "output_type": "stream",
          "name": "stdout",
          "text": [
            "indx: Int64Index([20, 31, 50, 54, 71, 92, 149, 240, 264], dtype='int64')\n"
          ]
        }
      ]
    },
    {
      "cell_type": "code",
      "execution_count": 14,
      "metadata": {
        "id": "WIh9_0pp7goY"
      },
      "outputs": [],
      "source": [
        "# Split your data so that you can test the effectiveness of your model\n",
        "# Split the data into a Training set and a Test set\n",
        "dfs = np.split(raw_data, [len(raw_data.columns)-1], axis=1)\n",
        "X = dfs[0]\n",
        "y = dfs[1]\n",
        "\n",
        "# Handle categorical values and drop dummy variable\n",
        "# Remove non-categorical data\n",
        "dm = X.pop('deg-malig')\n",
        "# Encode the catagorical data (dummy variables)\n",
        "proc_X = pd.get_dummies(data=X, prefix_sep='_', drop_first=True)\n",
        "# Add back in non-categorical data\n",
        "proc_X.insert(0, 'deg-malig', dm)\n",
        "\n",
        "from sklearn.model_selection import train_test_split\n",
        "X_train, X_test, y_train, y_test = train_test_split(proc_X, y, test_size = 0.25, random_state = 42)"
      ]
    },
    {
      "cell_type": "code",
      "source": [
        "# Calculate class weights\n",
        "weight_0 = (1 / neg) * ((pos + neg) / 2)\n",
        "weight_1 = (1 / pos) * ((pos + neg) / 2)\n",
        "class_weight = np.log([pos/neg])\n",
        "class_weight_dict = {0: weight_0, 1: weight_1}\n",
        "print(f\"Weight for 0: {weight_0}\")\n",
        "print(f\"Weight for 1: {weight_1}\")"
      ],
      "metadata": {
        "id": "CtCPaYUj8dcn",
        "outputId": "8335ffc1-284b-46e8-826b-43e3b5d99a7d",
        "colab": {
          "base_uri": "https://localhost:8080/"
        }
      },
      "execution_count": 15,
      "outputs": [
        {
          "output_type": "stream",
          "name": "stdout",
          "text": [
            "Weight for 0: 0.7114427860696517\n",
            "Weight for 1: 1.6823529411764706\n"
          ]
        }
      ]
    },
    {
      "cell_type": "code",
      "execution_count": 16,
      "metadata": {
        "id": "AbOQACY77goY"
      },
      "outputs": [],
      "source": [
        "# Populate preprocess_training_data and preprocess_test_data to preprocess data.\n",
        "# You must process test and train separately so your model does not accidently gain information that a model wouldnt have in reality and therefore get better predictions"
      ]
    },
    {
      "cell_type": "code",
      "execution_count": 17,
      "metadata": {
        "id": "Xsq2f8747goZ"
      },
      "outputs": [],
      "source": [
        "from keras.layers.advanced_activations import LeakyReLU\n",
        "class Module4_Model:\n",
        "    \n",
        "    def __init__(self):\n",
        "        self.model = None\n",
        "        self.metrics = [\n",
        "            keras.metrics.TruePositives(name='tp'),\n",
        "            keras.metrics.FalsePositives(name='fp'),\n",
        "            keras.metrics.TrueNegatives(name='tn'),\n",
        "            keras.metrics.FalseNegatives(name='fn'),\n",
        "            keras.metrics.BinaryAccuracy(name='accuracy'),\n",
        "            keras.metrics.Recall(name='recall'),\n",
        "            keras.metrics.Precision(name='precision'),\n",
        "            keras.metrics.AUC(name='prc', curve='PR'),\n",
        "        ]\n",
        "        self.EPOCHS = 500\n",
        "        self.BATCH = 100\n",
        "        self.THR = 0.3\n",
        "        self.stop_crit = keras.callbacks.EarlyStopping(\n",
        "            monitor='val_prc',\n",
        "            verbose=1,\n",
        "            patience=100,\n",
        "            mode='max',\n",
        "            restore_best_weights=True)\n",
        "\n",
        "    def preprocess_training_data(self, training_df):\n",
        "        \"\"\"\n",
        "        This function should process the training data and store any features\n",
        "        required in the class\n",
        "        \"\"\"         \n",
        "        # Apply feature scaling\n",
        "        from sklearn.preprocessing import StandardScaler\n",
        "        sc = StandardScaler()\n",
        "        processed_df = sc.fit_transform(training_df)\n",
        "        return processed_df, sc\n",
        "\n",
        "    def preprocess_test_data(self, test_df):\n",
        "        \"\"\"\n",
        "        This function should process the test data and store any features\n",
        "        required in the class\n",
        "        \"\"\"\n",
        "        # Apply feature scaling\n",
        "        processed_df = self.scalar.transform(test_df)\n",
        "        return processed_df\n",
        "\n",
        "    def make_model(self,hp):\n",
        "        model = keras.Sequential()\n",
        "        output_bias = keras.initializers.Constant(class_weight)\n",
        "        # Tune the number of units in each layer\n",
        "        hp_units1 = hp.Int('units1',min_value=16,max_value=128,step=2)\n",
        "        hp_units2 = hp.Int('units2',min_value=16,max_value=64,step=2)\n",
        "        hp_units3 = hp.Int('units3',min_value=16,max_value=32,step=2)\n",
        "\n",
        "        model.add(Dense(hp_units1,\n",
        "                        activation=hp.Choice(\n",
        "                            name='dense_activation1',\n",
        "                            values=['tanh','relu','selu','leaky-relu'],\n",
        "                            default='selu'),\n",
        "                        input_shape=(x_train_processed.shape[-1],),\n",
        "                        kernel_initializer='lecun_normal'\n",
        "                        ))\n",
        "        #model.add(Dropout(0.5))\n",
        "        model.add(Dense(hp_units2,\n",
        "                        activation=hp.Choice(\n",
        "                            name='dense_activation2',\n",
        "                            values=['tanh','relu','selu','leaky-relu'],\n",
        "                            default='leaky-relu'),\n",
        "                        kernel_initializer='lecun_normal'\n",
        "                        ))\n",
        "        model.add(Dense(hp_units3,\n",
        "                        activation=hp.Choice(\n",
        "                            name='dense_activation3',\n",
        "                            values=['tanh','relu','selu','leaky-relu'],\n",
        "                            default='leaky-relu'),\n",
        "                        kernel_initializer='lecun_normal'\n",
        "                        ))\n",
        "        model.add(Dense(1,kernel_initializer='normal',activation='sigmoid',bias_initializer=output_bias))\n",
        "        hp_learning_rate = hp.Choice('learning_rate',values=[1e-2, 1e-3, 1e-4])\n",
        "\n",
        "        model.compile(\n",
        "            optimizer=tf.keras.optimizers.Adamax(learning_rate=hp_learning_rate),\n",
        "            loss=keras.losses.BinaryCrossentropy(),\n",
        "            metrics=self.metrics)\n",
        "        \n",
        "        return model\n"
      ]
    },
    {
      "cell_type": "code",
      "execution_count": 18,
      "metadata": {
        "id": "F3LiNNCb7goa"
      },
      "outputs": [],
      "source": [
        "# Dont change\n",
        "my_model = Module4_Model()"
      ]
    },
    {
      "cell_type": "code",
      "execution_count": 19,
      "metadata": {
        "id": "ZQD7WPdN7god"
      },
      "outputs": [],
      "source": [
        "# Dont change\n",
        "x_train_processed, my_model.scalar = my_model.preprocess_training_data(X_train)"
      ]
    },
    {
      "cell_type": "code",
      "source": [
        "# Encode the output data\n",
        "from sklearn.preprocessing import LabelEncoder\n",
        "lb = LabelEncoder()\n",
        "y_train = pd.DataFrame(lb.fit_transform(y_train))\n",
        "y_test = pd.DataFrame(lb.transform(y_test))"
      ],
      "metadata": {
        "id": "xZNGF1UxWGU5",
        "outputId": "80d655b4-c565-45d7-b23d-06af5cf7f73c",
        "colab": {
          "base_uri": "https://localhost:8080/"
        }
      },
      "execution_count": 20,
      "outputs": [
        {
          "output_type": "stream",
          "name": "stderr",
          "text": [
            "/usr/local/lib/python3.7/dist-packages/sklearn/preprocessing/_label.py:115: DataConversionWarning: A column-vector y was passed when a 1d array was expected. Please change the shape of y to (n_samples, ), for example using ravel().\n",
            "  y = column_or_1d(y, warn=True)\n",
            "/usr/local/lib/python3.7/dist-packages/sklearn/preprocessing/_label.py:133: DataConversionWarning: A column-vector y was passed when a 1d array was expected. Please change the shape of y to (n_samples, ), for example using ravel().\n",
            "  y = column_or_1d(y, warn=True)\n"
          ]
        }
      ]
    },
    {
      "cell_type": "markdown",
      "source": [
        "### Create model and train"
      ],
      "metadata": {
        "id": "deUEPqVyJUpX"
      }
    },
    {
      "cell_type": "code",
      "execution_count": 21,
      "metadata": {
        "id": "XnLHgaXS7goe"
      },
      "outputs": [],
      "source": [
        "# Create a model\n",
        "from keras.models import Sequential\n",
        "from keras.layers import Dense,Activation\n",
        "from keras.layers import LeakyReLU,ELU,PReLU,Dropout\n",
        "from keras.losses import MeanSquaredLogarithmicError\n",
        "from keras.utils.generic_utils import get_custom_objects\n",
        "\n",
        "msle = MeanSquaredLogarithmicError()\n",
        "get_custom_objects().update({'leaky-relu': Activation(LeakyReLU(alpha=0.3))})"
      ]
    },
    {
      "cell_type": "code",
      "source": [
        "# Utilise HyperBand algorithm from keras tuner to construct model\n",
        "tuner = kt.Hyperband(\n",
        "    my_model.make_model,\n",
        "    objective=kt.Objective('val_prc', direction='max'),\n",
        "    max_epochs=50,\n",
        "    directory='keras_tuner_dir',\n",
        "    project_name='keras_tuner',\n",
        ")\n",
        "tuner.search(x_train_processed,y_train,epochs=50,validation_split=0.2)"
      ],
      "metadata": {
        "id": "p1Ph9bZMV5G6",
        "outputId": "8bd1a848-ea8e-40f5-c11b-a36032298dbb",
        "colab": {
          "base_uri": "https://localhost:8080/"
        }
      },
      "execution_count": 22,
      "outputs": [
        {
          "output_type": "stream",
          "name": "stdout",
          "text": [
            "Trial 90 Complete [00h 00m 06s]\n",
            "val_prc: 0.4440464973449707\n",
            "\n",
            "Best val_prc So Far: 0.5715206265449524\n",
            "Total elapsed time: 00h 06m 37s\n"
          ]
        }
      ]
    },
    {
      "cell_type": "code",
      "execution_count": 23,
      "metadata": {
        "id": "rQwUj4lk7goe"
      },
      "outputs": [],
      "source": [
        "# Dont change\n",
        "x_test_processed = my_model.preprocess_test_data(X_test)"
      ]
    },
    {
      "cell_type": "code",
      "source": [
        "for h_param in [f\"units{i}\" for i in range(1,4)] + ['learning_rate'] + [f\"dense_activation{i}\" for i in range(1,4)]:\n",
        "    print(h_param, tuner.get_best_hyperparameters()[0].get(h_param))\n",
        "\n",
        "    "
      ],
      "metadata": {
        "id": "HuWZxfcvYOI4",
        "outputId": "4b20834e-f675-4c0b-f042-70cf89fc3a36",
        "colab": {
          "base_uri": "https://localhost:8080/"
        }
      },
      "execution_count": 24,
      "outputs": [
        {
          "output_type": "stream",
          "name": "stdout",
          "text": [
            "units1 54\n",
            "units2 28\n",
            "units3 26\n",
            "learning_rate 0.01\n",
            "dense_activation1 relu\n",
            "dense_activation2 tanh\n",
            "dense_activation3 tanh\n"
          ]
        }
      ]
    },
    {
      "cell_type": "code",
      "source": [
        "my_model.best_model = tuner.get_best_models()[0]\n",
        "my_model.best_model.build(x_train_processed.shape)\n",
        "my_model.best_model.summary()"
      ],
      "metadata": {
        "id": "Lku4uguEY1ar",
        "outputId": "eee548d6-5339-4087-9ef4-5649adad03de",
        "colab": {
          "base_uri": "https://localhost:8080/"
        }
      },
      "execution_count": 25,
      "outputs": [
        {
          "output_type": "stream",
          "name": "stdout",
          "text": [
            "Model: \"sequential\"\n",
            "_________________________________________________________________\n",
            " Layer (type)                Output Shape              Param #   \n",
            "=================================================================\n",
            " dense (Dense)               (None, 54)                1728      \n",
            "                                                                 \n",
            " dense_1 (Dense)             (None, 28)                1540      \n",
            "                                                                 \n",
            " dense_2 (Dense)             (None, 26)                754       \n",
            "                                                                 \n",
            " dense_3 (Dense)             (None, 1)                 27        \n",
            "                                                                 \n",
            "=================================================================\n",
            "Total params: 4,049\n",
            "Trainable params: 4,049\n",
            "Non-trainable params: 0\n",
            "_________________________________________________________________\n"
          ]
        }
      ]
    },
    {
      "cell_type": "code",
      "source": [
        "# Train the best model (with class weights)\n",
        "my_model.best_model.fit(x_train_processed,\n",
        "                   y_train,\n",
        "                   batch_size=my_model.BATCH,\n",
        "                   epochs=my_model.EPOCHS,\n",
        "                   callbacks=[my_model.stop_crit],\n",
        "                   validation_split=0.2,\n",
        "                   class_weight=class_weight_dict)"
      ],
      "metadata": {
        "id": "DFAWtazI9LH4",
        "outputId": "c4763961-cad5-472a-d55b-64115e570fc3",
        "colab": {
          "base_uri": "https://localhost:8080/"
        }
      },
      "execution_count": 26,
      "outputs": [
        {
          "output_type": "stream",
          "name": "stdout",
          "text": [
            "Epoch 1/500\n",
            "2/2 [==============================] - 3s 1s/step - loss: 0.7257 - tp: 4.0000 - fp: 8.0000 - tn: 137.0000 - fn: 58.0000 - accuracy: 0.6812 - recall: 0.0645 - precision: 0.3333 - prc: 0.4891 - val_loss: 0.4877 - val_tp: 0.0000e+00 - val_fp: 0.0000e+00 - val_tn: 34.0000 - val_fn: 8.0000 - val_accuracy: 0.8095 - val_recall: 0.0000e+00 - val_precision: 0.0000e+00 - val_prc: 0.5190\n",
            "Epoch 2/500\n",
            "2/2 [==============================] - 0s 64ms/step - loss: 0.6983 - tp: 1.0000 - fp: 0.0000e+00 - tn: 111.0000 - fn: 53.0000 - accuracy: 0.6788 - recall: 0.0185 - precision: 1.0000 - prc: 0.7003 - val_loss: 0.5031 - val_tp: 1.0000 - val_fp: 1.0000 - val_tn: 33.0000 - val_fn: 7.0000 - val_accuracy: 0.8095 - val_recall: 0.1250 - val_precision: 0.5000 - val_prc: 0.5144\n",
            "Epoch 3/500\n",
            "2/2 [==============================] - 0s 43ms/step - loss: 0.6559 - tp: 20.0000 - fp: 6.0000 - tn: 105.0000 - fn: 34.0000 - accuracy: 0.7576 - recall: 0.3704 - precision: 0.7692 - prc: 0.6592 - val_loss: 0.5415 - val_tp: 5.0000 - val_fp: 7.0000 - val_tn: 27.0000 - val_fn: 3.0000 - val_accuracy: 0.7619 - val_recall: 0.6250 - val_precision: 0.4167 - val_prc: 0.4993\n",
            "Epoch 4/500\n",
            "2/2 [==============================] - 0s 46ms/step - loss: 0.6085 - tp: 36.0000 - fp: 23.0000 - tn: 88.0000 - fn: 18.0000 - accuracy: 0.7515 - recall: 0.6667 - precision: 0.6102 - prc: 0.6510 - val_loss: 0.5936 - val_tp: 6.0000 - val_fp: 15.0000 - val_tn: 19.0000 - val_fn: 2.0000 - val_accuracy: 0.5952 - val_recall: 0.7500 - val_precision: 0.2857 - val_prc: 0.4949\n",
            "Epoch 5/500\n",
            "2/2 [==============================] - 0s 68ms/step - loss: 0.5708 - tp: 43.0000 - fp: 33.0000 - tn: 78.0000 - fn: 11.0000 - accuracy: 0.7333 - recall: 0.7963 - precision: 0.5658 - prc: 0.6903 - val_loss: 0.6499 - val_tp: 6.0000 - val_fp: 17.0000 - val_tn: 17.0000 - val_fn: 2.0000 - val_accuracy: 0.5476 - val_recall: 0.7500 - val_precision: 0.2609 - val_prc: 0.4747\n",
            "Epoch 6/500\n",
            "2/2 [==============================] - 0s 74ms/step - loss: 0.5522 - tp: 47.0000 - fp: 40.0000 - tn: 71.0000 - fn: 7.0000 - accuracy: 0.7152 - recall: 0.8704 - precision: 0.5402 - prc: 0.6383 - val_loss: 0.7005 - val_tp: 7.0000 - val_fp: 19.0000 - val_tn: 15.0000 - val_fn: 1.0000 - val_accuracy: 0.5238 - val_recall: 0.8750 - val_precision: 0.2692 - val_prc: 0.4740\n",
            "Epoch 7/500\n",
            "2/2 [==============================] - 0s 63ms/step - loss: 0.5357 - tp: 48.0000 - fp: 44.0000 - tn: 67.0000 - fn: 6.0000 - accuracy: 0.6970 - recall: 0.8889 - precision: 0.5217 - prc: 0.6591 - val_loss: 0.7241 - val_tp: 7.0000 - val_fp: 19.0000 - val_tn: 15.0000 - val_fn: 1.0000 - val_accuracy: 0.5238 - val_recall: 0.8750 - val_precision: 0.2692 - val_prc: 0.3913\n",
            "Epoch 8/500\n",
            "2/2 [==============================] - 0s 66ms/step - loss: 0.5148 - tp: 48.0000 - fp: 44.0000 - tn: 67.0000 - fn: 6.0000 - accuracy: 0.6970 - recall: 0.8889 - precision: 0.5217 - prc: 0.7190 - val_loss: 0.7163 - val_tp: 7.0000 - val_fp: 19.0000 - val_tn: 15.0000 - val_fn: 1.0000 - val_accuracy: 0.5238 - val_recall: 0.8750 - val_precision: 0.2692 - val_prc: 0.4468\n",
            "Epoch 9/500\n",
            "2/2 [==============================] - 0s 47ms/step - loss: 0.4929 - tp: 48.0000 - fp: 41.0000 - tn: 70.0000 - fn: 6.0000 - accuracy: 0.7152 - recall: 0.8889 - precision: 0.5393 - prc: 0.7486 - val_loss: 0.6849 - val_tp: 6.0000 - val_fp: 16.0000 - val_tn: 18.0000 - val_fn: 2.0000 - val_accuracy: 0.5714 - val_recall: 0.7500 - val_precision: 0.2727 - val_prc: 0.4451\n",
            "Epoch 10/500\n",
            "2/2 [==============================] - 0s 54ms/step - loss: 0.4740 - tp: 48.0000 - fp: 34.0000 - tn: 77.0000 - fn: 6.0000 - accuracy: 0.7576 - recall: 0.8889 - precision: 0.5854 - prc: 0.7575 - val_loss: 0.6529 - val_tp: 6.0000 - val_fp: 14.0000 - val_tn: 20.0000 - val_fn: 2.0000 - val_accuracy: 0.6190 - val_recall: 0.7500 - val_precision: 0.3000 - val_prc: 0.4422\n",
            "Epoch 11/500\n",
            "2/2 [==============================] - 0s 56ms/step - loss: 0.4579 - tp: 47.0000 - fp: 29.0000 - tn: 82.0000 - fn: 7.0000 - accuracy: 0.7818 - recall: 0.8704 - precision: 0.6184 - prc: 0.7731 - val_loss: 0.6384 - val_tp: 6.0000 - val_fp: 14.0000 - val_tn: 20.0000 - val_fn: 2.0000 - val_accuracy: 0.6190 - val_recall: 0.7500 - val_precision: 0.3000 - val_prc: 0.4350\n",
            "Epoch 12/500\n",
            "2/2 [==============================] - 0s 63ms/step - loss: 0.4448 - tp: 47.0000 - fp: 28.0000 - tn: 83.0000 - fn: 7.0000 - accuracy: 0.7879 - recall: 0.8704 - precision: 0.6267 - prc: 0.7800 - val_loss: 0.6432 - val_tp: 6.0000 - val_fp: 13.0000 - val_tn: 21.0000 - val_fn: 2.0000 - val_accuracy: 0.6429 - val_recall: 0.7500 - val_precision: 0.3158 - val_prc: 0.3502\n",
            "Epoch 13/500\n",
            "2/2 [==============================] - 0s 76ms/step - loss: 0.4263 - tp: 47.0000 - fp: 29.0000 - tn: 82.0000 - fn: 7.0000 - accuracy: 0.7818 - recall: 0.8704 - precision: 0.6184 - prc: 0.7983 - val_loss: 0.6480 - val_tp: 6.0000 - val_fp: 14.0000 - val_tn: 20.0000 - val_fn: 2.0000 - val_accuracy: 0.6190 - val_recall: 0.7500 - val_precision: 0.3000 - val_prc: 0.3315\n",
            "Epoch 14/500\n",
            "2/2 [==============================] - 0s 58ms/step - loss: 0.4088 - tp: 49.0000 - fp: 30.0000 - tn: 81.0000 - fn: 5.0000 - accuracy: 0.7879 - recall: 0.9074 - precision: 0.6203 - prc: 0.8131 - val_loss: 0.6592 - val_tp: 6.0000 - val_fp: 14.0000 - val_tn: 20.0000 - val_fn: 2.0000 - val_accuracy: 0.6190 - val_recall: 0.7500 - val_precision: 0.3000 - val_prc: 0.3301\n",
            "Epoch 15/500\n",
            "2/2 [==============================] - 0s 86ms/step - loss: 0.3884 - tp: 50.0000 - fp: 30.0000 - tn: 81.0000 - fn: 4.0000 - accuracy: 0.7939 - recall: 0.9259 - precision: 0.6250 - prc: 0.8344 - val_loss: 0.6607 - val_tp: 6.0000 - val_fp: 14.0000 - val_tn: 20.0000 - val_fn: 2.0000 - val_accuracy: 0.6190 - val_recall: 0.7500 - val_precision: 0.3000 - val_prc: 0.3206\n",
            "Epoch 16/500\n",
            "2/2 [==============================] - 0s 133ms/step - loss: 0.3705 - tp: 50.0000 - fp: 30.0000 - tn: 81.0000 - fn: 4.0000 - accuracy: 0.7939 - recall: 0.9259 - precision: 0.6250 - prc: 0.8526 - val_loss: 0.6553 - val_tp: 6.0000 - val_fp: 16.0000 - val_tn: 18.0000 - val_fn: 2.0000 - val_accuracy: 0.5714 - val_recall: 0.7500 - val_precision: 0.2727 - val_prc: 0.3114\n",
            "Epoch 17/500\n",
            "2/2 [==============================] - 0s 61ms/step - loss: 0.3535 - tp: 50.0000 - fp: 28.0000 - tn: 83.0000 - fn: 4.0000 - accuracy: 0.8061 - recall: 0.9259 - precision: 0.6410 - prc: 0.8743 - val_loss: 0.6512 - val_tp: 5.0000 - val_fp: 15.0000 - val_tn: 19.0000 - val_fn: 3.0000 - val_accuracy: 0.5714 - val_recall: 0.6250 - val_precision: 0.2500 - val_prc: 0.2974\n",
            "Epoch 18/500\n",
            "2/2 [==============================] - 0s 40ms/step - loss: 0.3341 - tp: 51.0000 - fp: 26.0000 - tn: 85.0000 - fn: 3.0000 - accuracy: 0.8242 - recall: 0.9444 - precision: 0.6623 - prc: 0.8965 - val_loss: 0.6460 - val_tp: 5.0000 - val_fp: 15.0000 - val_tn: 19.0000 - val_fn: 3.0000 - val_accuracy: 0.5714 - val_recall: 0.6250 - val_precision: 0.2500 - val_prc: 0.2847\n",
            "Epoch 19/500\n",
            "2/2 [==============================] - 0s 81ms/step - loss: 0.3114 - tp: 51.0000 - fp: 23.0000 - tn: 88.0000 - fn: 3.0000 - accuracy: 0.8424 - recall: 0.9444 - precision: 0.6892 - prc: 0.9255 - val_loss: 0.6391 - val_tp: 4.0000 - val_fp: 14.0000 - val_tn: 20.0000 - val_fn: 4.0000 - val_accuracy: 0.5714 - val_recall: 0.5000 - val_precision: 0.2222 - val_prc: 0.2889\n",
            "Epoch 20/500\n",
            "2/2 [==============================] - 0s 56ms/step - loss: 0.2907 - tp: 50.0000 - fp: 17.0000 - tn: 94.0000 - fn: 4.0000 - accuracy: 0.8727 - recall: 0.9259 - precision: 0.7463 - prc: 0.9408 - val_loss: 0.6438 - val_tp: 4.0000 - val_fp: 14.0000 - val_tn: 20.0000 - val_fn: 4.0000 - val_accuracy: 0.5714 - val_recall: 0.5000 - val_precision: 0.2222 - val_prc: 0.2881\n",
            "Epoch 21/500\n",
            "2/2 [==============================] - 0s 69ms/step - loss: 0.2720 - tp: 51.0000 - fp: 14.0000 - tn: 97.0000 - fn: 3.0000 - accuracy: 0.8970 - recall: 0.9444 - precision: 0.7846 - prc: 0.9543 - val_loss: 0.6527 - val_tp: 4.0000 - val_fp: 14.0000 - val_tn: 20.0000 - val_fn: 4.0000 - val_accuracy: 0.5714 - val_recall: 0.5000 - val_precision: 0.2222 - val_prc: 0.2777\n",
            "Epoch 22/500\n",
            "2/2 [==============================] - 0s 91ms/step - loss: 0.2490 - tp: 52.0000 - fp: 13.0000 - tn: 98.0000 - fn: 2.0000 - accuracy: 0.9091 - recall: 0.9630 - precision: 0.8000 - prc: 0.9625 - val_loss: 0.6874 - val_tp: 4.0000 - val_fp: 14.0000 - val_tn: 20.0000 - val_fn: 4.0000 - val_accuracy: 0.5714 - val_recall: 0.5000 - val_precision: 0.2222 - val_prc: 0.2762\n",
            "Epoch 23/500\n",
            "2/2 [==============================] - 0s 64ms/step - loss: 0.2264 - tp: 53.0000 - fp: 12.0000 - tn: 99.0000 - fn: 1.0000 - accuracy: 0.9212 - recall: 0.9815 - precision: 0.8154 - prc: 0.9694 - val_loss: 0.7154 - val_tp: 4.0000 - val_fp: 14.0000 - val_tn: 20.0000 - val_fn: 4.0000 - val_accuracy: 0.5714 - val_recall: 0.5000 - val_precision: 0.2222 - val_prc: 0.2660\n",
            "Epoch 24/500\n",
            "2/2 [==============================] - 0s 57ms/step - loss: 0.2069 - tp: 54.0000 - fp: 12.0000 - tn: 99.0000 - fn: 0.0000e+00 - accuracy: 0.9273 - recall: 1.0000 - precision: 0.8182 - prc: 0.9734 - val_loss: 0.7395 - val_tp: 5.0000 - val_fp: 15.0000 - val_tn: 19.0000 - val_fn: 3.0000 - val_accuracy: 0.5714 - val_recall: 0.6250 - val_precision: 0.2500 - val_prc: 0.2659\n",
            "Epoch 25/500\n",
            "2/2 [==============================] - 0s 46ms/step - loss: 0.1881 - tp: 54.0000 - fp: 12.0000 - tn: 99.0000 - fn: 0.0000e+00 - accuracy: 0.9273 - recall: 1.0000 - precision: 0.8182 - prc: 0.9769 - val_loss: 0.7577 - val_tp: 6.0000 - val_fp: 14.0000 - val_tn: 20.0000 - val_fn: 2.0000 - val_accuracy: 0.6190 - val_recall: 0.7500 - val_precision: 0.3000 - val_prc: 0.2711\n",
            "Epoch 26/500\n",
            "2/2 [==============================] - 0s 78ms/step - loss: 0.1710 - tp: 54.0000 - fp: 10.0000 - tn: 101.0000 - fn: 0.0000e+00 - accuracy: 0.9394 - recall: 1.0000 - precision: 0.8438 - prc: 0.9812 - val_loss: 0.7440 - val_tp: 6.0000 - val_fp: 14.0000 - val_tn: 20.0000 - val_fn: 2.0000 - val_accuracy: 0.6190 - val_recall: 0.7500 - val_precision: 0.3000 - val_prc: 0.2697\n",
            "Epoch 27/500\n",
            "2/2 [==============================] - 0s 65ms/step - loss: 0.1539 - tp: 54.0000 - fp: 9.0000 - tn: 102.0000 - fn: 0.0000e+00 - accuracy: 0.9455 - recall: 1.0000 - precision: 0.8571 - prc: 0.9878 - val_loss: 0.7399 - val_tp: 6.0000 - val_fp: 13.0000 - val_tn: 21.0000 - val_fn: 2.0000 - val_accuracy: 0.6429 - val_recall: 0.7500 - val_precision: 0.3158 - val_prc: 0.2661\n",
            "Epoch 28/500\n",
            "2/2 [==============================] - 0s 75ms/step - loss: 0.1432 - tp: 54.0000 - fp: 7.0000 - tn: 104.0000 - fn: 0.0000e+00 - accuracy: 0.9576 - recall: 1.0000 - precision: 0.8852 - prc: 0.9888 - val_loss: 0.7678 - val_tp: 6.0000 - val_fp: 13.0000 - val_tn: 21.0000 - val_fn: 2.0000 - val_accuracy: 0.6429 - val_recall: 0.7500 - val_precision: 0.3158 - val_prc: 0.2809\n",
            "Epoch 29/500\n",
            "2/2 [==============================] - 0s 87ms/step - loss: 0.1262 - tp: 54.0000 - fp: 5.0000 - tn: 106.0000 - fn: 0.0000e+00 - accuracy: 0.9697 - recall: 1.0000 - precision: 0.9153 - prc: 0.9897 - val_loss: 0.7903 - val_tp: 6.0000 - val_fp: 13.0000 - val_tn: 21.0000 - val_fn: 2.0000 - val_accuracy: 0.6429 - val_recall: 0.7500 - val_precision: 0.3158 - val_prc: 0.2827\n",
            "Epoch 30/500\n",
            "2/2 [==============================] - 0s 84ms/step - loss: 0.1154 - tp: 54.0000 - fp: 5.0000 - tn: 106.0000 - fn: 0.0000e+00 - accuracy: 0.9697 - recall: 1.0000 - precision: 0.9153 - prc: 0.9903 - val_loss: 0.8263 - val_tp: 6.0000 - val_fp: 13.0000 - val_tn: 21.0000 - val_fn: 2.0000 - val_accuracy: 0.6429 - val_recall: 0.7500 - val_precision: 0.3158 - val_prc: 0.2895\n",
            "Epoch 31/500\n",
            "2/2 [==============================] - 0s 50ms/step - loss: 0.1040 - tp: 54.0000 - fp: 6.0000 - tn: 105.0000 - fn: 0.0000e+00 - accuracy: 0.9636 - recall: 1.0000 - precision: 0.9000 - prc: 0.9928 - val_loss: 0.8811 - val_tp: 6.0000 - val_fp: 14.0000 - val_tn: 20.0000 - val_fn: 2.0000 - val_accuracy: 0.6190 - val_recall: 0.7500 - val_precision: 0.3000 - val_prc: 0.2963\n",
            "Epoch 32/500\n",
            "2/2 [==============================] - 0s 81ms/step - loss: 0.0952 - tp: 54.0000 - fp: 6.0000 - tn: 105.0000 - fn: 0.0000e+00 - accuracy: 0.9636 - recall: 1.0000 - precision: 0.9000 - prc: 0.9946 - val_loss: 0.8894 - val_tp: 6.0000 - val_fp: 13.0000 - val_tn: 21.0000 - val_fn: 2.0000 - val_accuracy: 0.6429 - val_recall: 0.7500 - val_precision: 0.3158 - val_prc: 0.2985\n",
            "Epoch 33/500\n",
            "2/2 [==============================] - 0s 71ms/step - loss: 0.0866 - tp: 54.0000 - fp: 6.0000 - tn: 105.0000 - fn: 0.0000e+00 - accuracy: 0.9636 - recall: 1.0000 - precision: 0.9000 - prc: 0.9962 - val_loss: 0.8710 - val_tp: 6.0000 - val_fp: 12.0000 - val_tn: 22.0000 - val_fn: 2.0000 - val_accuracy: 0.6667 - val_recall: 0.7500 - val_precision: 0.3333 - val_prc: 0.3023\n",
            "Epoch 34/500\n",
            "2/2 [==============================] - 0s 65ms/step - loss: 0.0808 - tp: 53.0000 - fp: 3.0000 - tn: 108.0000 - fn: 1.0000 - accuracy: 0.9758 - recall: 0.9815 - precision: 0.9464 - prc: 0.9967 - val_loss: 0.8658 - val_tp: 5.0000 - val_fp: 11.0000 - val_tn: 23.0000 - val_fn: 3.0000 - val_accuracy: 0.6667 - val_recall: 0.6250 - val_precision: 0.3125 - val_prc: 0.3028\n",
            "Epoch 35/500\n",
            "2/2 [==============================] - 0s 66ms/step - loss: 0.0744 - tp: 53.0000 - fp: 3.0000 - tn: 108.0000 - fn: 1.0000 - accuracy: 0.9758 - recall: 0.9815 - precision: 0.9464 - prc: 0.9968 - val_loss: 0.9024 - val_tp: 6.0000 - val_fp: 11.0000 - val_tn: 23.0000 - val_fn: 2.0000 - val_accuracy: 0.6905 - val_recall: 0.7500 - val_precision: 0.3529 - val_prc: 0.3118\n",
            "Epoch 36/500\n",
            "2/2 [==============================] - 0s 85ms/step - loss: 0.0689 - tp: 54.0000 - fp: 4.0000 - tn: 107.0000 - fn: 0.0000e+00 - accuracy: 0.9758 - recall: 1.0000 - precision: 0.9310 - prc: 0.9964 - val_loss: 0.9389 - val_tp: 6.0000 - val_fp: 11.0000 - val_tn: 23.0000 - val_fn: 2.0000 - val_accuracy: 0.6905 - val_recall: 0.7500 - val_precision: 0.3529 - val_prc: 0.3107\n",
            "Epoch 37/500\n",
            "2/2 [==============================] - 0s 52ms/step - loss: 0.0654 - tp: 54.0000 - fp: 4.0000 - tn: 107.0000 - fn: 0.0000e+00 - accuracy: 0.9758 - recall: 1.0000 - precision: 0.9310 - prc: 0.9967 - val_loss: 0.9811 - val_tp: 6.0000 - val_fp: 11.0000 - val_tn: 23.0000 - val_fn: 2.0000 - val_accuracy: 0.6905 - val_recall: 0.7500 - val_precision: 0.3529 - val_prc: 0.3086\n",
            "Epoch 38/500\n",
            "2/2 [==============================] - 0s 76ms/step - loss: 0.0640 - tp: 54.0000 - fp: 4.0000 - tn: 107.0000 - fn: 0.0000e+00 - accuracy: 0.9758 - recall: 1.0000 - precision: 0.9310 - prc: 0.9966 - val_loss: 1.0103 - val_tp: 6.0000 - val_fp: 11.0000 - val_tn: 23.0000 - val_fn: 2.0000 - val_accuracy: 0.6905 - val_recall: 0.7500 - val_precision: 0.3529 - val_prc: 0.3084\n",
            "Epoch 39/500\n",
            "2/2 [==============================] - 0s 64ms/step - loss: 0.0621 - tp: 54.0000 - fp: 4.0000 - tn: 107.0000 - fn: 0.0000e+00 - accuracy: 0.9758 - recall: 1.0000 - precision: 0.9310 - prc: 0.9959 - val_loss: 1.0195 - val_tp: 5.0000 - val_fp: 11.0000 - val_tn: 23.0000 - val_fn: 3.0000 - val_accuracy: 0.6667 - val_recall: 0.6250 - val_precision: 0.3125 - val_prc: 0.3179\n",
            "Epoch 40/500\n",
            "2/2 [==============================] - 0s 72ms/step - loss: 0.0570 - tp: 54.0000 - fp: 4.0000 - tn: 107.0000 - fn: 0.0000e+00 - accuracy: 0.9758 - recall: 1.0000 - precision: 0.9310 - prc: 0.9966 - val_loss: 1.0472 - val_tp: 5.0000 - val_fp: 11.0000 - val_tn: 23.0000 - val_fn: 3.0000 - val_accuracy: 0.6667 - val_recall: 0.6250 - val_precision: 0.3125 - val_prc: 0.3119\n",
            "Epoch 41/500\n",
            "2/2 [==============================] - 0s 45ms/step - loss: 0.0584 - tp: 54.0000 - fp: 4.0000 - tn: 107.0000 - fn: 0.0000e+00 - accuracy: 0.9758 - recall: 1.0000 - precision: 0.9310 - prc: 0.9962 - val_loss: 1.0758 - val_tp: 5.0000 - val_fp: 11.0000 - val_tn: 23.0000 - val_fn: 3.0000 - val_accuracy: 0.6667 - val_recall: 0.6250 - val_precision: 0.3125 - val_prc: 0.3429\n",
            "Epoch 42/500\n",
            "2/2 [==============================] - 0s 64ms/step - loss: 0.0532 - tp: 54.0000 - fp: 4.0000 - tn: 107.0000 - fn: 0.0000e+00 - accuracy: 0.9758 - recall: 1.0000 - precision: 0.9310 - prc: 0.9971 - val_loss: 1.0370 - val_tp: 4.0000 - val_fp: 11.0000 - val_tn: 23.0000 - val_fn: 4.0000 - val_accuracy: 0.6429 - val_recall: 0.5000 - val_precision: 0.2667 - val_prc: 0.3053\n",
            "Epoch 43/500\n",
            "2/2 [==============================] - 0s 63ms/step - loss: 0.0534 - tp: 53.0000 - fp: 4.0000 - tn: 107.0000 - fn: 1.0000 - accuracy: 0.9697 - recall: 0.9815 - precision: 0.9298 - prc: 0.9973 - val_loss: 1.0395 - val_tp: 4.0000 - val_fp: 11.0000 - val_tn: 23.0000 - val_fn: 4.0000 - val_accuracy: 0.6429 - val_recall: 0.5000 - val_precision: 0.2667 - val_prc: 0.3065\n",
            "Epoch 44/500\n",
            "2/2 [==============================] - 0s 51ms/step - loss: 0.0505 - tp: 54.0000 - fp: 3.0000 - tn: 108.0000 - fn: 0.0000e+00 - accuracy: 0.9818 - recall: 1.0000 - precision: 0.9474 - prc: 0.9975 - val_loss: 1.0805 - val_tp: 5.0000 - val_fp: 11.0000 - val_tn: 23.0000 - val_fn: 3.0000 - val_accuracy: 0.6667 - val_recall: 0.6250 - val_precision: 0.3125 - val_prc: 0.2905\n",
            "Epoch 45/500\n",
            "2/2 [==============================] - 0s 72ms/step - loss: 0.0465 - tp: 54.0000 - fp: 4.0000 - tn: 107.0000 - fn: 0.0000e+00 - accuracy: 0.9758 - recall: 1.0000 - precision: 0.9310 - prc: 0.9981 - val_loss: 1.1380 - val_tp: 5.0000 - val_fp: 11.0000 - val_tn: 23.0000 - val_fn: 3.0000 - val_accuracy: 0.6667 - val_recall: 0.6250 - val_precision: 0.3125 - val_prc: 0.2838\n",
            "Epoch 46/500\n",
            "2/2 [==============================] - 0s 56ms/step - loss: 0.0485 - tp: 54.0000 - fp: 4.0000 - tn: 107.0000 - fn: 0.0000e+00 - accuracy: 0.9758 - recall: 1.0000 - precision: 0.9310 - prc: 0.9979 - val_loss: 1.1338 - val_tp: 4.0000 - val_fp: 11.0000 - val_tn: 23.0000 - val_fn: 4.0000 - val_accuracy: 0.6429 - val_recall: 0.5000 - val_precision: 0.2667 - val_prc: 0.2853\n",
            "Epoch 47/500\n",
            "2/2 [==============================] - 0s 64ms/step - loss: 0.0470 - tp: 54.0000 - fp: 4.0000 - tn: 107.0000 - fn: 0.0000e+00 - accuracy: 0.9758 - recall: 1.0000 - precision: 0.9310 - prc: 0.9971 - val_loss: 1.1152 - val_tp: 4.0000 - val_fp: 11.0000 - val_tn: 23.0000 - val_fn: 4.0000 - val_accuracy: 0.6429 - val_recall: 0.5000 - val_precision: 0.2667 - val_prc: 0.2850\n",
            "Epoch 48/500\n",
            "2/2 [==============================] - 0s 61ms/step - loss: 0.0464 - tp: 54.0000 - fp: 3.0000 - tn: 108.0000 - fn: 0.0000e+00 - accuracy: 0.9818 - recall: 1.0000 - precision: 0.9474 - prc: 0.9972 - val_loss: 1.0961 - val_tp: 4.0000 - val_fp: 11.0000 - val_tn: 23.0000 - val_fn: 4.0000 - val_accuracy: 0.6429 - val_recall: 0.5000 - val_precision: 0.2667 - val_prc: 0.2885\n",
            "Epoch 49/500\n",
            "2/2 [==============================] - 0s 48ms/step - loss: 0.0483 - tp: 53.0000 - fp: 2.0000 - tn: 109.0000 - fn: 1.0000 - accuracy: 0.9818 - recall: 0.9815 - precision: 0.9636 - prc: 0.9972 - val_loss: 1.1121 - val_tp: 4.0000 - val_fp: 11.0000 - val_tn: 23.0000 - val_fn: 4.0000 - val_accuracy: 0.6429 - val_recall: 0.5000 - val_precision: 0.2667 - val_prc: 0.3075\n",
            "Epoch 50/500\n",
            "2/2 [==============================] - 0s 56ms/step - loss: 0.0420 - tp: 54.0000 - fp: 3.0000 - tn: 108.0000 - fn: 0.0000e+00 - accuracy: 0.9818 - recall: 1.0000 - precision: 0.9474 - prc: 0.9981 - val_loss: 1.1214 - val_tp: 4.0000 - val_fp: 11.0000 - val_tn: 23.0000 - val_fn: 4.0000 - val_accuracy: 0.6429 - val_recall: 0.5000 - val_precision: 0.2667 - val_prc: 0.3104\n",
            "Epoch 51/500\n",
            "2/2 [==============================] - 0s 78ms/step - loss: 0.0443 - tp: 54.0000 - fp: 3.0000 - tn: 108.0000 - fn: 0.0000e+00 - accuracy: 0.9818 - recall: 1.0000 - precision: 0.9474 - prc: 0.9969 - val_loss: 1.1372 - val_tp: 4.0000 - val_fp: 11.0000 - val_tn: 23.0000 - val_fn: 4.0000 - val_accuracy: 0.6429 - val_recall: 0.5000 - val_precision: 0.2667 - val_prc: 0.3074\n",
            "Epoch 52/500\n",
            "2/2 [==============================] - 0s 85ms/step - loss: 0.0477 - tp: 53.0000 - fp: 2.0000 - tn: 109.0000 - fn: 1.0000 - accuracy: 0.9818 - recall: 0.9815 - precision: 0.9636 - prc: 0.9973 - val_loss: 1.1546 - val_tp: 4.0000 - val_fp: 11.0000 - val_tn: 23.0000 - val_fn: 4.0000 - val_accuracy: 0.6429 - val_recall: 0.5000 - val_precision: 0.2667 - val_prc: 0.3070\n",
            "Epoch 53/500\n",
            "2/2 [==============================] - 0s 95ms/step - loss: 0.0476 - tp: 53.0000 - fp: 3.0000 - tn: 108.0000 - fn: 1.0000 - accuracy: 0.9758 - recall: 0.9815 - precision: 0.9464 - prc: 0.9972 - val_loss: 1.1933 - val_tp: 4.0000 - val_fp: 11.0000 - val_tn: 23.0000 - val_fn: 4.0000 - val_accuracy: 0.6429 - val_recall: 0.5000 - val_precision: 0.2667 - val_prc: 0.3065\n",
            "Epoch 54/500\n",
            "2/2 [==============================] - 0s 92ms/step - loss: 0.0424 - tp: 54.0000 - fp: 4.0000 - tn: 107.0000 - fn: 0.0000e+00 - accuracy: 0.9758 - recall: 1.0000 - precision: 0.9310 - prc: 0.9974 - val_loss: 1.1790 - val_tp: 4.0000 - val_fp: 11.0000 - val_tn: 23.0000 - val_fn: 4.0000 - val_accuracy: 0.6429 - val_recall: 0.5000 - val_precision: 0.2667 - val_prc: 0.3052\n",
            "Epoch 55/500\n",
            "2/2 [==============================] - 0s 85ms/step - loss: 0.0469 - tp: 53.0000 - fp: 2.0000 - tn: 109.0000 - fn: 1.0000 - accuracy: 0.9818 - recall: 0.9815 - precision: 0.9636 - prc: 0.9976 - val_loss: 1.1818 - val_tp: 4.0000 - val_fp: 11.0000 - val_tn: 23.0000 - val_fn: 4.0000 - val_accuracy: 0.6429 - val_recall: 0.5000 - val_precision: 0.2667 - val_prc: 0.3124\n",
            "Epoch 56/500\n",
            "2/2 [==============================] - 0s 107ms/step - loss: 0.0437 - tp: 53.0000 - fp: 2.0000 - tn: 109.0000 - fn: 1.0000 - accuracy: 0.9818 - recall: 0.9815 - precision: 0.9636 - prc: 0.9974 - val_loss: 1.2065 - val_tp: 5.0000 - val_fp: 11.0000 - val_tn: 23.0000 - val_fn: 3.0000 - val_accuracy: 0.6667 - val_recall: 0.6250 - val_precision: 0.3125 - val_prc: 0.3123\n",
            "Epoch 57/500\n",
            "2/2 [==============================] - 0s 83ms/step - loss: 0.0414 - tp: 54.0000 - fp: 3.0000 - tn: 108.0000 - fn: 0.0000e+00 - accuracy: 0.9818 - recall: 1.0000 - precision: 0.9474 - prc: 0.9979 - val_loss: 1.1860 - val_tp: 5.0000 - val_fp: 11.0000 - val_tn: 23.0000 - val_fn: 3.0000 - val_accuracy: 0.6667 - val_recall: 0.6250 - val_precision: 0.3125 - val_prc: 0.3130\n",
            "Epoch 58/500\n",
            "2/2 [==============================] - 0s 87ms/step - loss: 0.0415 - tp: 54.0000 - fp: 3.0000 - tn: 108.0000 - fn: 0.0000e+00 - accuracy: 0.9818 - recall: 1.0000 - precision: 0.9474 - prc: 0.9976 - val_loss: 1.1660 - val_tp: 4.0000 - val_fp: 11.0000 - val_tn: 23.0000 - val_fn: 4.0000 - val_accuracy: 0.6429 - val_recall: 0.5000 - val_precision: 0.2667 - val_prc: 0.3095\n",
            "Epoch 59/500\n",
            "2/2 [==============================] - 0s 48ms/step - loss: 0.0404 - tp: 54.0000 - fp: 3.0000 - tn: 108.0000 - fn: 0.0000e+00 - accuracy: 0.9818 - recall: 1.0000 - precision: 0.9474 - prc: 0.9973 - val_loss: 1.1761 - val_tp: 4.0000 - val_fp: 11.0000 - val_tn: 23.0000 - val_fn: 4.0000 - val_accuracy: 0.6429 - val_recall: 0.5000 - val_precision: 0.2667 - val_prc: 0.3159\n",
            "Epoch 60/500\n",
            "2/2 [==============================] - 0s 48ms/step - loss: 0.0400 - tp: 54.0000 - fp: 3.0000 - tn: 108.0000 - fn: 0.0000e+00 - accuracy: 0.9818 - recall: 1.0000 - precision: 0.9474 - prc: 0.9975 - val_loss: 1.2030 - val_tp: 4.0000 - val_fp: 11.0000 - val_tn: 23.0000 - val_fn: 4.0000 - val_accuracy: 0.6429 - val_recall: 0.5000 - val_precision: 0.2667 - val_prc: 0.3424\n",
            "Epoch 61/500\n",
            "2/2 [==============================] - 0s 70ms/step - loss: 0.0380 - tp: 54.0000 - fp: 3.0000 - tn: 108.0000 - fn: 0.0000e+00 - accuracy: 0.9818 - recall: 1.0000 - precision: 0.9474 - prc: 0.9983 - val_loss: 1.2358 - val_tp: 5.0000 - val_fp: 11.0000 - val_tn: 23.0000 - val_fn: 3.0000 - val_accuracy: 0.6667 - val_recall: 0.6250 - val_precision: 0.3125 - val_prc: 0.3390\n",
            "Epoch 62/500\n",
            "2/2 [==============================] - 0s 68ms/step - loss: 0.0401 - tp: 54.0000 - fp: 3.0000 - tn: 108.0000 - fn: 0.0000e+00 - accuracy: 0.9818 - recall: 1.0000 - precision: 0.9474 - prc: 0.9981 - val_loss: 1.2332 - val_tp: 5.0000 - val_fp: 11.0000 - val_tn: 23.0000 - val_fn: 3.0000 - val_accuracy: 0.6667 - val_recall: 0.6250 - val_precision: 0.3125 - val_prc: 0.3390\n",
            "Epoch 63/500\n",
            "2/2 [==============================] - 0s 47ms/step - loss: 0.0397 - tp: 54.0000 - fp: 3.0000 - tn: 108.0000 - fn: 0.0000e+00 - accuracy: 0.9818 - recall: 1.0000 - precision: 0.9474 - prc: 0.9980 - val_loss: 1.2045 - val_tp: 4.0000 - val_fp: 11.0000 - val_tn: 23.0000 - val_fn: 4.0000 - val_accuracy: 0.6429 - val_recall: 0.5000 - val_precision: 0.2667 - val_prc: 0.3361\n",
            "Epoch 64/500\n",
            "2/2 [==============================] - 0s 52ms/step - loss: 0.0371 - tp: 54.0000 - fp: 3.0000 - tn: 108.0000 - fn: 0.0000e+00 - accuracy: 0.9818 - recall: 1.0000 - precision: 0.9474 - prc: 0.9985 - val_loss: 1.1800 - val_tp: 4.0000 - val_fp: 11.0000 - val_tn: 23.0000 - val_fn: 4.0000 - val_accuracy: 0.6429 - val_recall: 0.5000 - val_precision: 0.2667 - val_prc: 0.3200\n",
            "Epoch 65/500\n",
            "2/2 [==============================] - 0s 47ms/step - loss: 0.0445 - tp: 52.0000 - fp: 2.0000 - tn: 109.0000 - fn: 2.0000 - accuracy: 0.9758 - recall: 0.9630 - precision: 0.9630 - prc: 0.9978 - val_loss: 1.1948 - val_tp: 4.0000 - val_fp: 11.0000 - val_tn: 23.0000 - val_fn: 4.0000 - val_accuracy: 0.6429 - val_recall: 0.5000 - val_precision: 0.2667 - val_prc: 0.3224\n",
            "Epoch 66/500\n",
            "2/2 [==============================] - 0s 44ms/step - loss: 0.0397 - tp: 54.0000 - fp: 3.0000 - tn: 108.0000 - fn: 0.0000e+00 - accuracy: 0.9818 - recall: 1.0000 - precision: 0.9474 - prc: 0.9977 - val_loss: 1.2868 - val_tp: 5.0000 - val_fp: 12.0000 - val_tn: 22.0000 - val_fn: 3.0000 - val_accuracy: 0.6429 - val_recall: 0.6250 - val_precision: 0.2941 - val_prc: 0.3211\n",
            "Epoch 67/500\n",
            "2/2 [==============================] - 0s 51ms/step - loss: 0.0466 - tp: 54.0000 - fp: 3.0000 - tn: 108.0000 - fn: 0.0000e+00 - accuracy: 0.9818 - recall: 1.0000 - precision: 0.9474 - prc: 0.9973 - val_loss: 1.3240 - val_tp: 5.0000 - val_fp: 12.0000 - val_tn: 22.0000 - val_fn: 3.0000 - val_accuracy: 0.6429 - val_recall: 0.6250 - val_precision: 0.2941 - val_prc: 0.3238\n",
            "Epoch 68/500\n",
            "2/2 [==============================] - 0s 66ms/step - loss: 0.0444 - tp: 54.0000 - fp: 3.0000 - tn: 108.0000 - fn: 0.0000e+00 - accuracy: 0.9818 - recall: 1.0000 - precision: 0.9474 - prc: 0.9977 - val_loss: 1.2600 - val_tp: 5.0000 - val_fp: 11.0000 - val_tn: 23.0000 - val_fn: 3.0000 - val_accuracy: 0.6667 - val_recall: 0.6250 - val_precision: 0.3125 - val_prc: 0.3214\n",
            "Epoch 69/500\n",
            "2/2 [==============================] - 0s 62ms/step - loss: 0.0369 - tp: 54.0000 - fp: 3.0000 - tn: 108.0000 - fn: 0.0000e+00 - accuracy: 0.9818 - recall: 1.0000 - precision: 0.9474 - prc: 0.9981 - val_loss: 1.2191 - val_tp: 4.0000 - val_fp: 11.0000 - val_tn: 23.0000 - val_fn: 4.0000 - val_accuracy: 0.6429 - val_recall: 0.5000 - val_precision: 0.2667 - val_prc: 0.3243\n",
            "Epoch 70/500\n",
            "2/2 [==============================] - 0s 46ms/step - loss: 0.0429 - tp: 53.0000 - fp: 3.0000 - tn: 108.0000 - fn: 1.0000 - accuracy: 0.9758 - recall: 0.9815 - precision: 0.9464 - prc: 0.9976 - val_loss: 1.2309 - val_tp: 4.0000 - val_fp: 11.0000 - val_tn: 23.0000 - val_fn: 4.0000 - val_accuracy: 0.6429 - val_recall: 0.5000 - val_precision: 0.2667 - val_prc: 0.3244\n",
            "Epoch 71/500\n",
            "2/2 [==============================] - 0s 74ms/step - loss: 0.0399 - tp: 54.0000 - fp: 3.0000 - tn: 108.0000 - fn: 0.0000e+00 - accuracy: 0.9818 - recall: 1.0000 - precision: 0.9474 - prc: 0.9973 - val_loss: 1.2532 - val_tp: 5.0000 - val_fp: 11.0000 - val_tn: 23.0000 - val_fn: 3.0000 - val_accuracy: 0.6667 - val_recall: 0.6250 - val_precision: 0.3125 - val_prc: 0.3213\n",
            "Epoch 72/500\n",
            "2/2 [==============================] - 0s 99ms/step - loss: 0.0395 - tp: 54.0000 - fp: 3.0000 - tn: 108.0000 - fn: 0.0000e+00 - accuracy: 0.9818 - recall: 1.0000 - precision: 0.9474 - prc: 0.9978 - val_loss: 1.2474 - val_tp: 5.0000 - val_fp: 11.0000 - val_tn: 23.0000 - val_fn: 3.0000 - val_accuracy: 0.6667 - val_recall: 0.6250 - val_precision: 0.3125 - val_prc: 0.3204\n",
            "Epoch 73/500\n",
            "2/2 [==============================] - 0s 131ms/step - loss: 0.0402 - tp: 54.0000 - fp: 3.0000 - tn: 108.0000 - fn: 0.0000e+00 - accuracy: 0.9818 - recall: 1.0000 - precision: 0.9474 - prc: 0.9978 - val_loss: 1.2117 - val_tp: 4.0000 - val_fp: 11.0000 - val_tn: 23.0000 - val_fn: 4.0000 - val_accuracy: 0.6429 - val_recall: 0.5000 - val_precision: 0.2667 - val_prc: 0.3167\n",
            "Epoch 74/500\n",
            "2/2 [==============================] - 0s 49ms/step - loss: 0.0347 - tp: 54.0000 - fp: 3.0000 - tn: 108.0000 - fn: 0.0000e+00 - accuracy: 0.9818 - recall: 1.0000 - precision: 0.9474 - prc: 0.9987 - val_loss: 1.1991 - val_tp: 4.0000 - val_fp: 11.0000 - val_tn: 23.0000 - val_fn: 4.0000 - val_accuracy: 0.6429 - val_recall: 0.5000 - val_precision: 0.2667 - val_prc: 0.3196\n",
            "Epoch 75/500\n",
            "2/2 [==============================] - 0s 51ms/step - loss: 0.0521 - tp: 53.0000 - fp: 2.0000 - tn: 109.0000 - fn: 1.0000 - accuracy: 0.9818 - recall: 0.9815 - precision: 0.9636 - prc: 0.9971 - val_loss: 1.2167 - val_tp: 4.0000 - val_fp: 11.0000 - val_tn: 23.0000 - val_fn: 4.0000 - val_accuracy: 0.6429 - val_recall: 0.5000 - val_precision: 0.2667 - val_prc: 0.3248\n",
            "Epoch 76/500\n",
            "2/2 [==============================] - 0s 47ms/step - loss: 0.0421 - tp: 53.0000 - fp: 2.0000 - tn: 109.0000 - fn: 1.0000 - accuracy: 0.9818 - recall: 0.9815 - precision: 0.9636 - prc: 0.9980 - val_loss: 1.3082 - val_tp: 5.0000 - val_fp: 12.0000 - val_tn: 22.0000 - val_fn: 3.0000 - val_accuracy: 0.6429 - val_recall: 0.6250 - val_precision: 0.2941 - val_prc: 0.3186\n",
            "Epoch 77/500\n",
            "2/2 [==============================] - 0s 77ms/step - loss: 0.0428 - tp: 54.0000 - fp: 3.0000 - tn: 108.0000 - fn: 0.0000e+00 - accuracy: 0.9818 - recall: 1.0000 - precision: 0.9474 - prc: 0.9978 - val_loss: 1.3660 - val_tp: 6.0000 - val_fp: 12.0000 - val_tn: 22.0000 - val_fn: 2.0000 - val_accuracy: 0.6667 - val_recall: 0.7500 - val_precision: 0.3333 - val_prc: 0.3159\n",
            "Epoch 78/500\n",
            "2/2 [==============================] - 0s 58ms/step - loss: 0.0455 - tp: 54.0000 - fp: 3.0000 - tn: 108.0000 - fn: 0.0000e+00 - accuracy: 0.9818 - recall: 1.0000 - precision: 0.9474 - prc: 0.9976 - val_loss: 1.3457 - val_tp: 6.0000 - val_fp: 12.0000 - val_tn: 22.0000 - val_fn: 2.0000 - val_accuracy: 0.6667 - val_recall: 0.7500 - val_precision: 0.3333 - val_prc: 0.3171\n",
            "Epoch 79/500\n",
            "2/2 [==============================] - 0s 53ms/step - loss: 0.0425 - tp: 54.0000 - fp: 3.0000 - tn: 108.0000 - fn: 0.0000e+00 - accuracy: 0.9818 - recall: 1.0000 - precision: 0.9474 - prc: 0.9978 - val_loss: 1.2771 - val_tp: 5.0000 - val_fp: 11.0000 - val_tn: 23.0000 - val_fn: 3.0000 - val_accuracy: 0.6667 - val_recall: 0.6250 - val_precision: 0.3125 - val_prc: 0.3187\n",
            "Epoch 80/500\n",
            "2/2 [==============================] - 0s 94ms/step - loss: 0.0386 - tp: 53.0000 - fp: 3.0000 - tn: 108.0000 - fn: 1.0000 - accuracy: 0.9758 - recall: 0.9815 - precision: 0.9464 - prc: 0.9985 - val_loss: 1.2241 - val_tp: 4.0000 - val_fp: 11.0000 - val_tn: 23.0000 - val_fn: 4.0000 - val_accuracy: 0.6429 - val_recall: 0.5000 - val_precision: 0.2667 - val_prc: 0.3172\n",
            "Epoch 81/500\n",
            "2/2 [==============================] - 0s 54ms/step - loss: 0.0382 - tp: 54.0000 - fp: 3.0000 - tn: 108.0000 - fn: 0.0000e+00 - accuracy: 0.9818 - recall: 1.0000 - precision: 0.9474 - prc: 0.9978 - val_loss: 1.2216 - val_tp: 4.0000 - val_fp: 11.0000 - val_tn: 23.0000 - val_fn: 4.0000 - val_accuracy: 0.6429 - val_recall: 0.5000 - val_precision: 0.2667 - val_prc: 0.3215\n",
            "Epoch 82/500\n",
            "2/2 [==============================] - 0s 73ms/step - loss: 0.0393 - tp: 54.0000 - fp: 3.0000 - tn: 108.0000 - fn: 0.0000e+00 - accuracy: 0.9818 - recall: 1.0000 - precision: 0.9474 - prc: 0.9976 - val_loss: 1.2574 - val_tp: 4.0000 - val_fp: 11.0000 - val_tn: 23.0000 - val_fn: 4.0000 - val_accuracy: 0.6429 - val_recall: 0.5000 - val_precision: 0.2667 - val_prc: 0.3237\n",
            "Epoch 83/500\n",
            "2/2 [==============================] - 0s 66ms/step - loss: 0.0354 - tp: 54.0000 - fp: 3.0000 - tn: 108.0000 - fn: 0.0000e+00 - accuracy: 0.9818 - recall: 1.0000 - precision: 0.9474 - prc: 0.9983 - val_loss: 1.2852 - val_tp: 4.0000 - val_fp: 11.0000 - val_tn: 23.0000 - val_fn: 4.0000 - val_accuracy: 0.6429 - val_recall: 0.5000 - val_precision: 0.2667 - val_prc: 0.3210\n",
            "Epoch 84/500\n",
            "2/2 [==============================] - 0s 72ms/step - loss: 0.0354 - tp: 54.0000 - fp: 3.0000 - tn: 108.0000 - fn: 0.0000e+00 - accuracy: 0.9818 - recall: 1.0000 - precision: 0.9474 - prc: 0.9985 - val_loss: 1.3082 - val_tp: 5.0000 - val_fp: 11.0000 - val_tn: 23.0000 - val_fn: 3.0000 - val_accuracy: 0.6667 - val_recall: 0.6250 - val_precision: 0.3125 - val_prc: 0.3210\n",
            "Epoch 85/500\n",
            "2/2 [==============================] - 0s 118ms/step - loss: 0.0375 - tp: 54.0000 - fp: 3.0000 - tn: 108.0000 - fn: 0.0000e+00 - accuracy: 0.9818 - recall: 1.0000 - precision: 0.9474 - prc: 0.9983 - val_loss: 1.3084 - val_tp: 5.0000 - val_fp: 11.0000 - val_tn: 23.0000 - val_fn: 3.0000 - val_accuracy: 0.6667 - val_recall: 0.6250 - val_precision: 0.3125 - val_prc: 0.3210\n",
            "Epoch 86/500\n",
            "2/2 [==============================] - 0s 69ms/step - loss: 0.0375 - tp: 54.0000 - fp: 3.0000 - tn: 108.0000 - fn: 0.0000e+00 - accuracy: 0.9818 - recall: 1.0000 - precision: 0.9474 - prc: 0.9980 - val_loss: 1.2875 - val_tp: 5.0000 - val_fp: 11.0000 - val_tn: 23.0000 - val_fn: 3.0000 - val_accuracy: 0.6667 - val_recall: 0.6250 - val_precision: 0.3125 - val_prc: 0.3237\n",
            "Epoch 87/500\n",
            "2/2 [==============================] - 0s 68ms/step - loss: 0.0355 - tp: 54.0000 - fp: 3.0000 - tn: 108.0000 - fn: 0.0000e+00 - accuracy: 0.9818 - recall: 1.0000 - precision: 0.9474 - prc: 0.9983 - val_loss: 1.2463 - val_tp: 4.0000 - val_fp: 11.0000 - val_tn: 23.0000 - val_fn: 4.0000 - val_accuracy: 0.6429 - val_recall: 0.5000 - val_precision: 0.2667 - val_prc: 0.3182\n",
            "Epoch 88/500\n",
            "2/2 [==============================] - 0s 71ms/step - loss: 0.0363 - tp: 54.0000 - fp: 3.0000 - tn: 108.0000 - fn: 0.0000e+00 - accuracy: 0.9818 - recall: 1.0000 - precision: 0.9474 - prc: 0.9978 - val_loss: 1.2306 - val_tp: 4.0000 - val_fp: 11.0000 - val_tn: 23.0000 - val_fn: 4.0000 - val_accuracy: 0.6429 - val_recall: 0.5000 - val_precision: 0.2667 - val_prc: 0.3182\n",
            "Epoch 89/500\n",
            "2/2 [==============================] - 0s 59ms/step - loss: 0.0370 - tp: 54.0000 - fp: 3.0000 - tn: 108.0000 - fn: 0.0000e+00 - accuracy: 0.9818 - recall: 1.0000 - precision: 0.9474 - prc: 0.9973 - val_loss: 1.2467 - val_tp: 4.0000 - val_fp: 11.0000 - val_tn: 23.0000 - val_fn: 4.0000 - val_accuracy: 0.6429 - val_recall: 0.5000 - val_precision: 0.2667 - val_prc: 0.3182\n",
            "Epoch 90/500\n",
            "2/2 [==============================] - 0s 63ms/step - loss: 0.0365 - tp: 54.0000 - fp: 3.0000 - tn: 108.0000 - fn: 0.0000e+00 - accuracy: 0.9818 - recall: 1.0000 - precision: 0.9474 - prc: 0.9976 - val_loss: 1.2667 - val_tp: 4.0000 - val_fp: 11.0000 - val_tn: 23.0000 - val_fn: 4.0000 - val_accuracy: 0.6429 - val_recall: 0.5000 - val_precision: 0.2667 - val_prc: 0.3209\n",
            "Epoch 91/500\n",
            "2/2 [==============================] - 0s 47ms/step - loss: 0.0389 - tp: 54.0000 - fp: 3.0000 - tn: 108.0000 - fn: 0.0000e+00 - accuracy: 0.9818 - recall: 1.0000 - precision: 0.9474 - prc: 0.9976 - val_loss: 1.3343 - val_tp: 6.0000 - val_fp: 12.0000 - val_tn: 22.0000 - val_fn: 2.0000 - val_accuracy: 0.6667 - val_recall: 0.7500 - val_precision: 0.3333 - val_prc: 0.3201\n",
            "Epoch 92/500\n",
            "2/2 [==============================] - 0s 55ms/step - loss: 0.0392 - tp: 54.0000 - fp: 3.0000 - tn: 108.0000 - fn: 0.0000e+00 - accuracy: 0.9818 - recall: 1.0000 - precision: 0.9474 - prc: 0.9980 - val_loss: 1.3314 - val_tp: 6.0000 - val_fp: 12.0000 - val_tn: 22.0000 - val_fn: 2.0000 - val_accuracy: 0.6667 - val_recall: 0.7500 - val_precision: 0.3333 - val_prc: 0.3213\n",
            "Epoch 93/500\n",
            "2/2 [==============================] - 0s 54ms/step - loss: 0.0398 - tp: 54.0000 - fp: 3.0000 - tn: 108.0000 - fn: 0.0000e+00 - accuracy: 0.9818 - recall: 1.0000 - precision: 0.9474 - prc: 0.9977 - val_loss: 1.2855 - val_tp: 5.0000 - val_fp: 11.0000 - val_tn: 23.0000 - val_fn: 3.0000 - val_accuracy: 0.6667 - val_recall: 0.6250 - val_precision: 0.3125 - val_prc: 0.3204\n",
            "Epoch 94/500\n",
            "2/2 [==============================] - 0s 45ms/step - loss: 0.0361 - tp: 54.0000 - fp: 3.0000 - tn: 108.0000 - fn: 0.0000e+00 - accuracy: 0.9818 - recall: 1.0000 - precision: 0.9474 - prc: 0.9980 - val_loss: 1.2687 - val_tp: 4.0000 - val_fp: 11.0000 - val_tn: 23.0000 - val_fn: 4.0000 - val_accuracy: 0.6429 - val_recall: 0.5000 - val_precision: 0.2667 - val_prc: 0.3193\n",
            "Epoch 95/500\n",
            "2/2 [==============================] - 0s 70ms/step - loss: 0.0336 - tp: 54.0000 - fp: 3.0000 - tn: 108.0000 - fn: 0.0000e+00 - accuracy: 0.9818 - recall: 1.0000 - precision: 0.9474 - prc: 0.9985 - val_loss: 1.2588 - val_tp: 4.0000 - val_fp: 11.0000 - val_tn: 23.0000 - val_fn: 4.0000 - val_accuracy: 0.6429 - val_recall: 0.5000 - val_precision: 0.2667 - val_prc: 0.3193\n",
            "Epoch 96/500\n",
            "2/2 [==============================] - 0s 48ms/step - loss: 0.0343 - tp: 54.0000 - fp: 3.0000 - tn: 108.0000 - fn: 0.0000e+00 - accuracy: 0.9818 - recall: 1.0000 - precision: 0.9474 - prc: 0.9983 - val_loss: 1.2626 - val_tp: 4.0000 - val_fp: 11.0000 - val_tn: 23.0000 - val_fn: 4.0000 - val_accuracy: 0.6429 - val_recall: 0.5000 - val_precision: 0.2667 - val_prc: 0.3193\n",
            "Epoch 97/500\n",
            "2/2 [==============================] - 0s 73ms/step - loss: 0.0368 - tp: 54.0000 - fp: 3.0000 - tn: 108.0000 - fn: 0.0000e+00 - accuracy: 0.9818 - recall: 1.0000 - precision: 0.9474 - prc: 0.9976 - val_loss: 1.2799 - val_tp: 4.0000 - val_fp: 11.0000 - val_tn: 23.0000 - val_fn: 4.0000 - val_accuracy: 0.6429 - val_recall: 0.5000 - val_precision: 0.2667 - val_prc: 0.3193\n",
            "Epoch 98/500\n",
            "2/2 [==============================] - 0s 74ms/step - loss: 0.0359 - tp: 54.0000 - fp: 3.0000 - tn: 108.0000 - fn: 0.0000e+00 - accuracy: 0.9818 - recall: 1.0000 - precision: 0.9474 - prc: 0.9973 - val_loss: 1.3005 - val_tp: 4.0000 - val_fp: 11.0000 - val_tn: 23.0000 - val_fn: 4.0000 - val_accuracy: 0.6429 - val_recall: 0.5000 - val_precision: 0.2667 - val_prc: 0.3193\n",
            "Epoch 99/500\n",
            "2/2 [==============================] - 0s 77ms/step - loss: 0.0342 - tp: 54.0000 - fp: 3.0000 - tn: 108.0000 - fn: 0.0000e+00 - accuracy: 0.9818 - recall: 1.0000 - precision: 0.9474 - prc: 0.9973 - val_loss: 1.3057 - val_tp: 4.0000 - val_fp: 11.0000 - val_tn: 23.0000 - val_fn: 4.0000 - val_accuracy: 0.6429 - val_recall: 0.5000 - val_precision: 0.2667 - val_prc: 0.3193\n",
            "Epoch 100/500\n",
            "2/2 [==============================] - 0s 68ms/step - loss: 0.0335 - tp: 54.0000 - fp: 3.0000 - tn: 108.0000 - fn: 0.0000e+00 - accuracy: 0.9818 - recall: 1.0000 - precision: 0.9474 - prc: 0.9981 - val_loss: 1.3113 - val_tp: 4.0000 - val_fp: 11.0000 - val_tn: 23.0000 - val_fn: 4.0000 - val_accuracy: 0.6429 - val_recall: 0.5000 - val_precision: 0.2667 - val_prc: 0.3193\n",
            "Epoch 101/500\n",
            "1/2 [==============>...............] - ETA: 0s - loss: 0.0251 - tp: 32.0000 - fp: 1.0000 - tn: 67.0000 - fn: 0.0000e+00 - accuracy: 0.9900 - recall: 1.0000 - precision: 0.9697 - prc: 0.9995Restoring model weights from the end of the best epoch: 1.\n",
            "2/2 [==============================] - 0s 60ms/step - loss: 0.0341 - tp: 54.0000 - fp: 3.0000 - tn: 108.0000 - fn: 0.0000e+00 - accuracy: 0.9818 - recall: 1.0000 - precision: 0.9474 - prc: 0.9979 - val_loss: 1.3069 - val_tp: 4.0000 - val_fp: 11.0000 - val_tn: 23.0000 - val_fn: 4.0000 - val_accuracy: 0.6429 - val_recall: 0.5000 - val_precision: 0.2667 - val_prc: 0.3195\n",
            "Epoch 101: early stopping\n"
          ]
        },
        {
          "output_type": "execute_result",
          "data": {
            "text/plain": [
              "<keras.callbacks.History at 0x7fe83108cb50>"
            ]
          },
          "metadata": {},
          "execution_count": 26
        }
      ]
    },
    {
      "cell_type": "markdown",
      "source": [
        "Visualise the loss and accuracy for each epoch"
      ],
      "metadata": {
        "id": "G9DPmZDDXEnt"
      }
    },
    {
      "cell_type": "code",
      "source": [
        "# summarize history for loss\n",
        "plt.plot(my_model.best_model.history.history['loss'])\n",
        "plt.title('model loss')\n",
        "plt.ylabel('loss')\n",
        "plt.xlabel('epoch')\n",
        "plt.legend(['train', 'test'], loc='upper left')\n",
        "plt.show()"
      ],
      "metadata": {
        "id": "84wnXBf0XDyz",
        "outputId": "e54c25ad-e0d1-40f2-99a0-dbd9630f2555",
        "colab": {
          "base_uri": "https://localhost:8080/",
          "height": 295
        }
      },
      "execution_count": 27,
      "outputs": [
        {
          "output_type": "display_data",
          "data": {
            "text/plain": [
              "<Figure size 432x288 with 1 Axes>"
            ],
            "image/png": "[encoded data removed]"
          },
          "metadata": {
            "needs_background": "light"
          }
        }
      ]
    },
    {
      "cell_type": "code",
      "source": [
        "# summarize history for accuracy\n",
        "plt.plot(my_model.best_model.history.history['accuracy'])\n",
        "plt.title('model accuracy')\n",
        "plt.ylabel('accuracy')\n",
        "plt.xlabel('epoch')\n",
        "plt.legend(['train', 'test'], loc='upper left')\n",
        "plt.show()"
      ],
      "metadata": {
        "id": "c_bC8ZieW5fQ",
        "colab": {
          "base_uri": "https://localhost:8080/",
          "height": 295
        },
        "outputId": "99711c05-d561-447b-f3e4-0b7c2e5a6256"
      },
      "execution_count": 28,
      "outputs": [
        {
          "output_type": "display_data",
          "data": {
            "text/plain": [
              "<Figure size 432x288 with 1 Axes>"
            ],
            "image/png": "[encoded data removed]"
          },
          "metadata": {
            "needs_background": "light"
          }
        }
      ]
    },
    {
      "cell_type": "code",
      "execution_count": 29,
      "metadata": {
        "id": "kwOiqNee7goj"
      },
      "outputs": [],
      "source": [
        "# use your model to make a prediction on unseen data\n",
        "y_pred = my_model.best_model.predict(x_test_processed,batch_size=my_model.BATCH)\n",
        "#convert values\n",
        "y_pred = (y_pred>my_model.THR)"
      ]
    },
    {
      "cell_type": "code",
      "execution_count": 30,
      "metadata": {
        "id": "VGgleoej7gok",
        "outputId": "1d67c4b1-3e19-4041-9d4c-0d2baa8a46b9",
        "colab": {
          "base_uri": "https://localhost:8080/",
          "height": 335
        }
      },
      "outputs": [
        {
          "output_type": "stream",
          "name": "stdout",
          "text": [
            "Accuracy: 65.71 %\n",
            "Weighted ROC AUC accuracy: 71.52 %\n",
            "Confusion matrix:\n"
          ]
        },
        {
          "output_type": "display_data",
          "data": {
            "text/plain": [
              "<Figure size 432x288 with 2 Axes>"
            ],
            "image/png": "[encoded data removed]"
          },
          "metadata": {
            "needs_background": "light"
          }
        }
      ],
      "source": [
        "# Asssess the accuracy of your model and explain your key findings\n",
        "# Generate confusion matrix\n",
        "from sklearn.metrics import confusion_matrix, accuracy_score, roc_auc_score, ConfusionMatrixDisplay\n",
        "cm = confusion_matrix(y_test, y_pred)\n",
        "score = accuracy_score(y_test, y_pred)\n",
        "print(\"Accuracy: {:.2f} %\".format(score*100))\n",
        "print(\"Weighted ROC AUC accuracy: {:.2f} %\".format(roc_auc_score(y_test, y_pred, average='weighted')*100))\n",
        "print(\"Confusion matrix:\")\n",
        "disp = ConfusionMatrixDisplay(cm)\n",
        "disp.plot()\n",
        "plt.show()\n"
      ]
    },
    {
      "cell_type": "markdown",
      "source": [
        "**Model is approx 65-70% accurate at predicting whether cancer recurrence will occur.**\n",
        "\n",
        "**Crucially, the proportion of False Negatives is low (<15%). In cancer diagnosis these are the outcomes that we want to minimise. False Positives, whilst undesirable, will likely lead to further diagnostic testing before it is realised that cancer is not present.**"
      ],
      "metadata": {
        "id": "UMNN4P_E07L6"
      }
    },
    {
      "cell_type": "markdown",
      "metadata": {
        "id": "VDU85k7J7gok"
      },
      "source": [
        "### Unit tests:"
      ]
    },
    {
      "cell_type": "markdown",
      "metadata": {
        "id": "uq2QRpri7gol"
      },
      "source": [
        "###Checking training and test data for null values. This will work for both pd dataframes and np arrays, and ensures no null values exist."
      ]
    },
    {
      "cell_type": "code",
      "execution_count": 31,
      "metadata": {
        "id": "oUeh38w_7gol"
      },
      "outputs": [],
      "source": [
        "def test_no_nulls(data):\n",
        "    \"\"\" Assert no null values within pd dataframe or np array \"\"\"\n",
        "    \n",
        "    # if data is numpy array, handle accordingly\n",
        "    if isinstance(data, (np.ndarray)):\n",
        "        assert not np.isnan(np.min(data))\n",
        "    \n",
        "    # if not np array, assume data is pandas dataframe\n",
        "    else:\n",
        "        assert data.isna().sum().sum() == 0"
      ]
    },
    {
      "cell_type": "code",
      "execution_count": 32,
      "metadata": {
        "id": "BV9Z1F3i7gom"
      },
      "outputs": [],
      "source": [
        "# run null data unit test on both training and test data\n",
        "test_no_nulls(x_train_processed)\n",
        "test_no_nulls(x_test_processed)"
      ]
    }
  ],
  "metadata": {
    "colab": {
      "collapsed_sections": [],
      "name": "Copy of KSVC.ipynb",
      "provenance": [],
      "include_colab_link": true
    },
    "kernelspec": {
      "display_name": "Python 3 (ipykernel)",
      "language": "python",
      "name": "python3"
    },
    "language_info": {
      "codemirror_mode": {
        "name": "ipython",
        "version": 3
      },
      "file_extension": ".py",
      "mimetype": "text/x-python",
      "name": "python",
      "nbconvert_exporter": "python",
      "pygments_lexer": "ipython3",
      "version": "3.9.7"
    }
  },
  "nbformat": 4,
  "nbformat_minor": 0
}