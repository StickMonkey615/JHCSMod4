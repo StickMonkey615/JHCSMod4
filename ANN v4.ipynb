{
  "cells": [
    {
      "cell_type": "markdown",
      "metadata": {
        "id": "view-in-github",
        "colab_type": "text"
      },
      "source": [
        "<a href=\"https://colab.research.google.com/github/StickMonkey615/JHCSMod4/blob/main/ANN%20v4.ipynb\" target=\"_parent\"><img src=\"https://colab.research.google.com/assets/colab-badge.svg\" alt=\"Open In Colab\"/></a>"
      ]
    },
    {
      "cell_type": "markdown",
      "metadata": {
        "id": "iRn73TIW7gn9"
      },
      "source": [
        "# Module 4 Guidance\n",
        "\n",
        "This notebook is a template for module 4b and 4c, which will be tested in Google Colab, your code needs to run there.\n",
        "The structure has been provided to improve consistency and make it easier for markers to understand your code but still give students the flexibility to be creative.  You need to populate the required functions to solve this problem.  All dependencies should be documented in the next cell.\n",
        "\n",
        "You can:\n",
        "    add further cells or text blocks to extend or further explain your solution\n",
        "    add further functions\n",
        "\n",
        "Dont:\n",
        "    rename functions\n",
        "   "
      ]
    },
    {
      "cell_type": "code",
      "execution_count": 1,
      "metadata": {
        "id": "ZxOsuHxz7goC",
        "colab": {
          "base_uri": "https://localhost:8080/"
        },
        "outputId": "1e6dc00e-1cb4-4569-8af5-29711623b04b"
      },
      "outputs": [
        {
          "output_type": "stream",
          "name": "stdout",
          "text": [
            "Looking in indexes: https://pypi.org/simple, https://us-python.pkg.dev/colab-wheels/public/simple/\n",
            "Collecting keras-tuner\n",
            "  Downloading keras_tuner-1.1.3-py3-none-any.whl (135 kB)\n",
            "\u001b[K     |████████████████████████████████| 135 kB 6.7 MB/s \n",
            "\u001b[?25hRequirement already satisfied: packaging in /usr/local/lib/python3.7/dist-packages (from keras-tuner) (21.3)\n",
            "Requirement already satisfied: tensorboard in /usr/local/lib/python3.7/dist-packages (from keras-tuner) (2.8.0)\n",
            "Requirement already satisfied: requests in /usr/local/lib/python3.7/dist-packages (from keras-tuner) (2.23.0)\n",
            "Requirement already satisfied: numpy in /usr/local/lib/python3.7/dist-packages (from keras-tuner) (1.21.6)\n",
            "Collecting kt-legacy\n",
            "  Downloading kt_legacy-1.0.4-py3-none-any.whl (9.6 kB)\n",
            "Requirement already satisfied: ipython in /usr/local/lib/python3.7/dist-packages (from keras-tuner) (7.9.0)\n",
            "Requirement already satisfied: pickleshare in /usr/local/lib/python3.7/dist-packages (from ipython->keras-tuner) (0.7.5)\n",
            "Requirement already satisfied: pexpect in /usr/local/lib/python3.7/dist-packages (from ipython->keras-tuner) (4.8.0)\n",
            "Requirement already satisfied: prompt-toolkit<2.1.0,>=2.0.0 in /usr/local/lib/python3.7/dist-packages (from ipython->keras-tuner) (2.0.10)\n",
            "Requirement already satisfied: traitlets>=4.2 in /usr/local/lib/python3.7/dist-packages (from ipython->keras-tuner) (5.1.1)\n",
            "Collecting jedi>=0.10\n",
            "  Downloading jedi-0.18.1-py2.py3-none-any.whl (1.6 MB)\n",
            "\u001b[K     |████████████████████████████████| 1.6 MB 35.7 MB/s \n",
            "\u001b[?25hRequirement already satisfied: pygments in /usr/local/lib/python3.7/dist-packages (from ipython->keras-tuner) (2.6.1)\n",
            "Requirement already satisfied: decorator in /usr/local/lib/python3.7/dist-packages (from ipython->keras-tuner) (4.4.2)\n",
            "Requirement already satisfied: setuptools>=18.5 in /usr/local/lib/python3.7/dist-packages (from ipython->keras-tuner) (57.4.0)\n",
            "Requirement already satisfied: backcall in /usr/local/lib/python3.7/dist-packages (from ipython->keras-tuner) (0.2.0)\n",
            "Requirement already satisfied: parso<0.9.0,>=0.8.0 in /usr/local/lib/python3.7/dist-packages (from jedi>=0.10->ipython->keras-tuner) (0.8.3)\n",
            "Requirement already satisfied: six>=1.9.0 in /usr/local/lib/python3.7/dist-packages (from prompt-toolkit<2.1.0,>=2.0.0->ipython->keras-tuner) (1.15.0)\n",
            "Requirement already satisfied: wcwidth in /usr/local/lib/python3.7/dist-packages (from prompt-toolkit<2.1.0,>=2.0.0->ipython->keras-tuner) (0.2.5)\n",
            "Requirement already satisfied: pyparsing!=3.0.5,>=2.0.2 in /usr/local/lib/python3.7/dist-packages (from packaging->keras-tuner) (3.0.9)\n",
            "Requirement already satisfied: ptyprocess>=0.5 in /usr/local/lib/python3.7/dist-packages (from pexpect->ipython->keras-tuner) (0.7.0)\n",
            "Requirement already satisfied: chardet<4,>=3.0.2 in /usr/local/lib/python3.7/dist-packages (from requests->keras-tuner) (3.0.4)\n",
            "Requirement already satisfied: certifi>=2017.4.17 in /usr/local/lib/python3.7/dist-packages (from requests->keras-tuner) (2022.6.15)\n",
            "Requirement already satisfied: urllib3!=1.25.0,!=1.25.1,<1.26,>=1.21.1 in /usr/local/lib/python3.7/dist-packages (from requests->keras-tuner) (1.24.3)\n",
            "Requirement already satisfied: idna<3,>=2.5 in /usr/local/lib/python3.7/dist-packages (from requests->keras-tuner) (2.10)\n",
            "Requirement already satisfied: markdown>=2.6.8 in /usr/local/lib/python3.7/dist-packages (from tensorboard->keras-tuner) (3.4.1)\n",
            "Requirement already satisfied: grpcio>=1.24.3 in /usr/local/lib/python3.7/dist-packages (from tensorboard->keras-tuner) (1.48.1)\n",
            "Requirement already satisfied: google-auth<3,>=1.6.3 in /usr/local/lib/python3.7/dist-packages (from tensorboard->keras-tuner) (1.35.0)\n",
            "Requirement already satisfied: tensorboard-plugin-wit>=1.6.0 in /usr/local/lib/python3.7/dist-packages (from tensorboard->keras-tuner) (1.8.1)\n",
            "Requirement already satisfied: tensorboard-data-server<0.7.0,>=0.6.0 in /usr/local/lib/python3.7/dist-packages (from tensorboard->keras-tuner) (0.6.1)\n",
            "Requirement already satisfied: wheel>=0.26 in /usr/local/lib/python3.7/dist-packages (from tensorboard->keras-tuner) (0.37.1)\n",
            "Requirement already satisfied: absl-py>=0.4 in /usr/local/lib/python3.7/dist-packages (from tensorboard->keras-tuner) (1.2.0)\n",
            "Requirement already satisfied: werkzeug>=0.11.15 in /usr/local/lib/python3.7/dist-packages (from tensorboard->keras-tuner) (1.0.1)\n",
            "Requirement already satisfied: google-auth-oauthlib<0.5,>=0.4.1 in /usr/local/lib/python3.7/dist-packages (from tensorboard->keras-tuner) (0.4.6)\n",
            "Requirement already satisfied: protobuf>=3.6.0 in /usr/local/lib/python3.7/dist-packages (from tensorboard->keras-tuner) (3.17.3)\n",
            "Requirement already satisfied: pyasn1-modules>=0.2.1 in /usr/local/lib/python3.7/dist-packages (from google-auth<3,>=1.6.3->tensorboard->keras-tuner) (0.2.8)\n",
            "Requirement already satisfied: cachetools<5.0,>=2.0.0 in /usr/local/lib/python3.7/dist-packages (from google-auth<3,>=1.6.3->tensorboard->keras-tuner) (4.2.4)\n",
            "Requirement already satisfied: rsa<5,>=3.1.4 in /usr/local/lib/python3.7/dist-packages (from google-auth<3,>=1.6.3->tensorboard->keras-tuner) (4.9)\n",
            "Requirement already satisfied: requests-oauthlib>=0.7.0 in /usr/local/lib/python3.7/dist-packages (from google-auth-oauthlib<0.5,>=0.4.1->tensorboard->keras-tuner) (1.3.1)\n",
            "Requirement already satisfied: importlib-metadata>=4.4 in /usr/local/lib/python3.7/dist-packages (from markdown>=2.6.8->tensorboard->keras-tuner) (4.12.0)\n",
            "Requirement already satisfied: typing-extensions>=3.6.4 in /usr/local/lib/python3.7/dist-packages (from importlib-metadata>=4.4->markdown>=2.6.8->tensorboard->keras-tuner) (4.1.1)\n",
            "Requirement already satisfied: zipp>=0.5 in /usr/local/lib/python3.7/dist-packages (from importlib-metadata>=4.4->markdown>=2.6.8->tensorboard->keras-tuner) (3.8.1)\n",
            "Requirement already satisfied: pyasn1<0.5.0,>=0.4.6 in /usr/local/lib/python3.7/dist-packages (from pyasn1-modules>=0.2.1->google-auth<3,>=1.6.3->tensorboard->keras-tuner) (0.4.8)\n",
            "Requirement already satisfied: oauthlib>=3.0.0 in /usr/local/lib/python3.7/dist-packages (from requests-oauthlib>=0.7.0->google-auth-oauthlib<0.5,>=0.4.1->tensorboard->keras-tuner) (3.2.0)\n",
            "Installing collected packages: jedi, kt-legacy, keras-tuner\n",
            "Successfully installed jedi-0.18.1 keras-tuner-1.1.3 kt-legacy-1.0.4\n"
          ]
        }
      ],
      "source": [
        "# Fixed dependencies - do not remove or change.\n",
        "import pytest\n",
        "import pandas as pd\n",
        "import numpy as np\n",
        "from google.colab import drive\n",
        "# drive.mount('/content/gdrive/')\n",
        "# Import your dependencies\n",
        "!pip install --upgrade xlrd > 1.2.0\n",
        "import xlrd\n",
        "import matplotlib.pyplot as plt\n",
        "import seaborn as sb\n",
        "import tensorflow as tf\n",
        "import keras\n",
        "!pip install keras-tuner --upgrade\n",
        "import keras_tuner as kt"
      ]
    },
    {
      "cell_type": "code",
      "execution_count": 2,
      "metadata": {
        "id": "1m_gmKQP7goE"
      },
      "outputs": [],
      "source": [
        "# Import data\n",
        "\n",
        "def import_local_data(file_path):\n",
        "    \"\"\"This function needs to import the data file into collab and return a pandas dataframe\n",
        "    \"\"\"\n",
        "    raw_df = pd.read_excel(file_path)\n",
        "    return raw_df"
      ]
    },
    {
      "cell_type": "code",
      "execution_count": 3,
      "metadata": {
        "id": "cIljHljB7goF"
      },
      "outputs": [],
      "source": [
        "local_file_path = \"breast-cancer.xls\""
      ]
    },
    {
      "cell_type": "code",
      "execution_count": 4,
      "metadata": {
        "id": "LCu51H5Z7goF"
      },
      "outputs": [],
      "source": [
        "# Dont change\n",
        "raw_data = import_local_data(local_file_path)"
      ]
    },
    {
      "cell_type": "markdown",
      "metadata": {
        "id": "U9WDYKUP7goG"
      },
      "source": [
        "### Conduct exploratory data analysis and explain your key findings - Examine the data, explain its key features and what they look like.  Highlight any fields that are anomalous."
      ]
    },
    {
      "cell_type": "code",
      "source": [
        "# Look at the different dataframe column headings\n",
        "print(raw_data.columns)"
      ],
      "metadata": {
        "colab": {
          "base_uri": "https://localhost:8080/"
        },
        "id": "HkjdfYHGiz7a",
        "outputId": "09fe34db-f9cb-414b-a3b7-e810a2e206c1"
      },
      "execution_count": 5,
      "outputs": [
        {
          "output_type": "stream",
          "name": "stdout",
          "text": [
            "Index(['age', 'menopause', 'tumor-size', 'inv-nodes', 'node-caps', 'deg-malig',\n",
            "       'breast', 'breast-quad', 'irradiat', 'Class'],\n",
            "      dtype='object')\n"
          ]
        }
      ]
    },
    {
      "cell_type": "code",
      "source": [
        "# Determine data types for each column\n",
        "for i in range(0, len(raw_data.columns)):\n",
        "    print(type(raw_data.values[1][i]))"
      ],
      "metadata": {
        "colab": {
          "base_uri": "https://localhost:8080/"
        },
        "id": "oKqjAI-XigbI",
        "outputId": "6997afe5-30ef-4134-d224-e5e26c9d366a"
      },
      "execution_count": 6,
      "outputs": [
        {
          "output_type": "stream",
          "name": "stdout",
          "text": [
            "<class 'str'>\n",
            "<class 'str'>\n",
            "<class 'str'>\n",
            "<class 'str'>\n",
            "<class 'str'>\n",
            "<class 'int'>\n",
            "<class 'str'>\n",
            "<class 'str'>\n",
            "<class 'str'>\n",
            "<class 'str'>\n"
          ]
        }
      ]
    },
    {
      "cell_type": "code",
      "source": [
        "#Look at the range of values for each field\n",
        "from collections import Counter\n",
        "rng_vals=[]\n",
        "for i in range(0,len(raw_data.columns)):\n",
        "    rng_vals.append(Counter(raw_data.iloc[:,i].values))\n",
        "    print(f\"{raw_data.columns[i]}: {rng_vals[i]}\")\n",
        "del rng_vals, i"
      ],
      "metadata": {
        "id": "-lQUCdTe36Dp",
        "outputId": "0ca23b59-fda8-4f6b-d087-17da9793da2e",
        "colab": {
          "base_uri": "https://localhost:8080/"
        }
      },
      "execution_count": 7,
      "outputs": [
        {
          "output_type": "stream",
          "name": "stdout",
          "text": [
            "age: Counter({'50-59': 96, '40-49': 90, '60-69': 57, '30-39': 36, '70-79': 6, '20-29': 1})\n",
            "menopause: Counter({'premeno': 150, 'ge40': 129, 'lt40': 7})\n",
            "tumor-size: Counter({'30-34': 60, '25-29': 54, '20-24': 50, '15-19': 30, datetime.datetime(2014, 10, 1, 0, 0): 28, '40-44': 22, '35-39': 19, '0-4': 8, '50-54': 8, datetime.datetime(2019, 9, 5, 0, 0): 4, '45-49': 3})\n",
            "inv-nodes: Counter({'0-2': 213, datetime.datetime(2019, 5, 3, 0, 0): 36, datetime.datetime(2019, 8, 6, 0, 0): 17, datetime.datetime(2019, 11, 9, 0, 0): 10, '15-17': 6, datetime.datetime(2014, 12, 1, 0, 0): 3, '24-26': 1})\n",
            "node-caps: Counter({'no': 222, 'yes': 56, '?': 8})\n",
            "deg-malig: Counter({2: 130, 3: 85, 1: 71})\n",
            "breast: Counter({'left': 152, 'right': 134})\n",
            "breast-quad: Counter({'left_low': 110, 'left_up': 97, 'right_up': 33, 'right_low': 24, 'central': 21, '?': 1})\n",
            "irradiat: Counter({'no': 218, 'yes': 68})\n",
            "Class: Counter({'no-recurrence-events': 201, 'recurrence-events': 85})\n"
          ]
        }
      ]
    },
    {
      "cell_type": "markdown",
      "source": [
        "**All fields look to contain data that is catagorical in nature.**\n",
        "\n",
        "**Some contain data that appears erroneous:**\n",
        " \n",
        "*   **'tumor-size' and 'inv-nodes' appear to contain some data in a datetime format and some in string.**\n",
        "*   **'node-caps' and 'breast-quad' contain Question Marks.**\n",
        "\n",
        "**Need a way to address these erroneous data inputs.**\n",
        "\n"
      ],
      "metadata": {
        "id": "lALFUx2EEQF0"
      }
    },
    {
      "cell_type": "code",
      "source": [
        "# Look in more detail at the columns with datetime data.\n",
        "print(raw_data.iloc[:, 2].values)"
      ],
      "metadata": {
        "colab": {
          "base_uri": "https://localhost:8080/"
        },
        "id": "1IetVwnCr3XI",
        "outputId": "6cfaf205-9ff1-4376-e4a9-1443aac936e2"
      },
      "execution_count": 8,
      "outputs": [
        {
          "output_type": "stream",
          "name": "stdout",
          "text": [
            "['15-19' '15-19' '35-39' '35-39' '30-34' '25-29' '40-44'\n",
            " datetime.datetime(2014, 10, 1, 0, 0) '0-4' '40-44' '25-29' '15-19'\n",
            " '30-34' '25-29' '25-29' '20-24' datetime.datetime(2014, 10, 1, 0, 0)\n",
            " '15-19' '40-44' '20-24' '20-24' '40-44' '15-19'\n",
            " datetime.datetime(2014, 10, 1, 0, 0) '15-19' '20-24'\n",
            " datetime.datetime(2014, 10, 1, 0, 0) datetime.datetime(2014, 10, 1, 0, 0)\n",
            " '30-34' '15-19' '30-34' '25-29' '25-29' '20-24' '30-34' '15-19'\n",
            " datetime.datetime(2014, 10, 1, 0, 0) '45-49' '20-24'\n",
            " datetime.datetime(2014, 10, 1, 0, 0) '35-39' '35-39' '25-29' '20-24'\n",
            " '15-19' '30-34' datetime.datetime(2014, 10, 1, 0, 0) '35-39' '50-54'\n",
            " '40-44' '15-19' '30-34' '0-4' '40-44' '25-29' '25-29' '20-24' '35-39'\n",
            " '50-54' '0-4' '40-44' '30-34' '20-24' '30-34' '20-24' '15-19' '25-29'\n",
            " '15-19' '50-54' datetime.datetime(2014, 10, 1, 0, 0) '25-29' '25-29'\n",
            " datetime.datetime(2014, 10, 1, 0, 0) '30-34' '25-29'\n",
            " datetime.datetime(2014, 10, 1, 0, 0) '15-19' '25-29' '25-29' '30-34'\n",
            " '15-19' '25-29' '30-34' '15-19' '0-4' '35-39' '40-44' '25-29' '20-24'\n",
            " '30-34' '20-24' '30-34' '20-24' datetime.datetime(2014, 10, 1, 0, 0)\n",
            " '20-24' '45-49' '40-44' datetime.datetime(2014, 10, 1, 0, 0) '30-34'\n",
            " '35-39' '20-24' '15-19' '30-34' '20-24' '20-24' '30-34' '20-24' '25-29'\n",
            " '30-34' '20-24' '15-19' '30-34' '30-34' '40-44'\n",
            " datetime.datetime(2019, 9, 5, 0, 0) datetime.datetime(2014, 10, 1, 0, 0)\n",
            " '30-34' datetime.datetime(2014, 10, 1, 0, 0) '35-39' '20-24' '30-34'\n",
            " '25-29' '15-19' '35-39' datetime.datetime(2014, 10, 1, 0, 0) '30-34'\n",
            " '30-34' '25-29' '15-19' '15-19' '30-34' '35-39' '30-34' '25-29' '30-34'\n",
            " '15-19' '0-4' '0-4' '50-54' '30-34' '20-24' '25-29' '30-34' '20-24'\n",
            " '15-19' datetime.datetime(2014, 10, 1, 0, 0) '30-34'\n",
            " datetime.datetime(2014, 10, 1, 0, 0) '40-44' '30-34' '50-54' '15-19'\n",
            " '40-44' '25-29' datetime.datetime(2014, 10, 1, 0, 0)\n",
            " datetime.datetime(2014, 10, 1, 0, 0) '30-34' '20-24'\n",
            " datetime.datetime(2014, 10, 1, 0, 0) '25-29' '25-29' '30-34' '50-54'\n",
            " '30-34' '20-24' '30-34' '25-29' '20-24' '20-24' '50-54' '20-24' '30-34'\n",
            " '25-29' '25-29' '40-44' '20-24' '20-24' '25-29' '25-29' '20-24' '40-44'\n",
            " datetime.datetime(2014, 10, 1, 0, 0) '35-39' '30-34'\n",
            " datetime.datetime(2019, 9, 5, 0, 0) '15-19' '30-34' '25-29'\n",
            " datetime.datetime(2019, 9, 5, 0, 0) '25-29' '25-29'\n",
            " datetime.datetime(2014, 10, 1, 0, 0) '35-39' '50-54' '25-29' '20-24'\n",
            " '30-34' '30-34' '15-19' '20-24' datetime.datetime(2019, 9, 5, 0, 0)\n",
            " '30-34' '30-34' '25-29' '25-29' '40-44' '25-29' '30-34' '30-34' '25-29'\n",
            " '25-29' '40-44' '20-24' '25-29' '20-24' '40-44' '25-29' '25-29' '45-49'\n",
            " '20-24' '25-29' '20-24' '20-24' '35-39' '20-24' '30-34' '25-29' '30-34'\n",
            " '25-29' '20-24' '20-24' datetime.datetime(2014, 10, 1, 0, 0) '15-19'\n",
            " '25-29' '20-24' '40-44' '15-19' '30-34' '30-34' '40-44' '30-34'\n",
            " datetime.datetime(2014, 10, 1, 0, 0) '40-44' '30-34' '30-34' '15-19'\n",
            " datetime.datetime(2014, 10, 1, 0, 0) '20-24'\n",
            " datetime.datetime(2014, 10, 1, 0, 0) '25-29' '30-34'\n",
            " datetime.datetime(2014, 10, 1, 0, 0) '30-34' '0-4' '25-29' '25-29'\n",
            " '40-44' '25-29' '30-34' '20-24' '20-24' '25-29' '30-34' '20-24' '30-34'\n",
            " '0-4' '20-24' '35-39' '30-34' '20-24' '25-29' '35-39' '20-24' '20-24'\n",
            " '35-39' '35-39' '25-29' '35-39' '30-34' '20-24' '15-19' '30-34' '25-29'\n",
            " '30-34' '15-19' '40-44']\n"
          ]
        }
      ]
    },
    {
      "cell_type": "code",
      "source": [
        "# Look at output data\n",
        "raw_data['Class'].value_counts()"
      ],
      "metadata": {
        "colab": {
          "base_uri": "https://localhost:8080/"
        },
        "id": "3HePUlhNvfWF",
        "outputId": "ff837519-5705-4f69-d645-2759a8cddc64"
      },
      "execution_count": 9,
      "outputs": [
        {
          "output_type": "execute_result",
          "data": {
            "text/plain": [
              "no-recurrence-events    201\n",
              "recurrence-events        85\n",
              "Name: Class, dtype: int64"
            ]
          },
          "metadata": {},
          "execution_count": 9
        }
      ]
    },
    {
      "cell_type": "markdown",
      "source": [
        "Only 2 possible outputs, thus needs converting to binary format for use in classifier models."
      ],
      "metadata": {
        "id": "bkV5bQKKwYHj"
      }
    },
    {
      "cell_type": "code",
      "execution_count": 10,
      "metadata": {
        "id": "KMB3eKfC7goU",
        "colab": {
          "base_uri": "https://localhost:8080/"
        },
        "outputId": "25d43d28-2557-4616-9801-e6d5e957d55c"
      },
      "outputs": [
        {
          "output_type": "stream",
          "name": "stdout",
          "text": [
            "True outputs: 29.72 %\n"
          ]
        }
      ],
      "source": [
        "# Check output balance\n",
        "out = raw_data.iloc[:, -1].values\n",
        "no_rows = len(raw_data)\n",
        "\n",
        "from sklearn.preprocessing import LabelEncoder\n",
        "le = LabelEncoder()\n",
        "code_rows = le.fit_transform(out)\n",
        "print(\"True outputs: {:.2f} %\".format(sum(code_rows)/len(raw_data)*100))\n",
        "pos = sum(code_rows)\n",
        "neg = len(raw_data)-sum(code_rows)\n",
        "del out, no_rows, le, code_rows"
      ]
    },
    {
      "cell_type": "markdown",
      "source": [
        "Clear imbalance between output data. Some degree of bias/weighting/sampling will be required to ensure that results accurately predict outcomes for both True and False outcomes."
      ],
      "metadata": {
        "id": "mMo9-0hTwirc"
      }
    },
    {
      "cell_type": "code",
      "execution_count": 11,
      "metadata": {
        "id": "f02MTYgB7goW"
      },
      "outputs": [],
      "source": [
        "# Explain your key findings"
      ]
    },
    {
      "cell_type": "markdown",
      "source": [
        "**Data set is made up of 9 independent variables all of which appear catagorical in nature. Although stored as an integer, 'deg-malig' can be viewed as  catagorical data as it can only contain 3 discrete values.**\n",
        "\n",
        "**The inclusion of datetime data entries in both the 'tumor-size' and 'inv-nodes' fields appears to be caused by a formatting entry within Excel. For example, '10-14' being input erroneously as 10/14 thus Excel has interpreted (and converted) it to the datetime field 01/10/2014. A function will need to be written within the model to convert these back to correct format.**\n",
        "\n",
        "**How to deal with '?' entries in fields that are otherwise boolean poses an interesting dilemma. If these are infact meant to signify that the presence is unknown because no diagnostic work has been conducted, then this woiuld signify a valid dat entry. If it is however just an incomplete data entry then there is a risk its inclusion could skew the model results. Without knowing which it seems wisest to remove this data from the dataset. Removal of the entire field could well deprive the model of important information, thus just removing these specific entries (rows) appears the most sensible option, particularly noting that there are relatively few occurences.**\n",
        "\n",
        "**Data set is imbalanced, with dependent variable outputs only True in 30% of instances. The model applied will require this imbalance to be taken into account so as not to sacrifice results predicting this smaller class (surely the aim of cancer diagnosis) so as to achieve a high accuracy figure.**\n",
        "\n",
        "**Output variable will need converting into binary output for use with a binary classification model.**"
      ],
      "metadata": {
        "id": "V7OWyLcOrgWJ"
      }
    },
    {
      "cell_type": "markdown",
      "metadata": {
        "id": "SzZj8I8G7goX"
      },
      "source": [
        "Create any data pre-processing that you will conduct on seen and unseen data.  Regardless of the model you use, this dataframe must contain only numeric features and have a strategy for any expected missing values. Any objects can that are needed to handle the test data that are dependent on the training data can be stored in the model class.  You are recommended to use sklearn Pipelines or similar functionality to ensure reproducibility."
      ]
    },
    {
      "cell_type": "code",
      "source": [
        "# Correct date types in 'tumor-size' and 'inv-nodes' variables\n",
        "for i in range(0, len(raw_data)):\n",
        "    if type(raw_data['tumor-size'][i]) is not str:\n",
        "        if raw_data['tumor-size'][i].day == 1:\n",
        "            raw_data['tumor-size'][i] = str(raw_data['tumor-size'][i].month) +'-' + str(raw_data['tumor-size'][i].year-2000)\n",
        "        else:\n",
        "            raw_data['tumor-size'][i] = str(raw_data['tumor-size'][i].day) + '-' + str(raw_data['tumor-size'][i].month)\n",
        "    if type(raw_data['inv-nodes'][i]) is not str:\n",
        "        if raw_data['inv-nodes'][i].day == 1:\n",
        "            raw_data['inv-nodes'][i] = str(raw_data['inv-nodes'][i].month) + '-' + str(raw_data['inv-nodes'][i].year-2000)\n",
        "        else:\n",
        "            raw_data['inv-nodes'][i] = str(raw_data['inv-nodes'][i].day) + '-' + str(raw_data['inv-nodes'][i].month)        "
      ],
      "metadata": {
        "id": "GlZwiMllRpUB",
        "outputId": "e8a3627c-cbfc-45bd-ee99-79e75f1c4fc6",
        "colab": {
          "base_uri": "https://localhost:8080/"
        }
      },
      "execution_count": 12,
      "outputs": [
        {
          "output_type": "stream",
          "name": "stderr",
          "text": [
            "/usr/local/lib/python3.7/dist-packages/ipykernel_launcher.py:12: SettingWithCopyWarning: \n",
            "A value is trying to be set on a copy of a slice from a DataFrame\n",
            "\n",
            "See the caveats in the documentation: https://pandas.pydata.org/pandas-docs/stable/user_guide/indexing.html#returning-a-view-versus-a-copy\n",
            "  if sys.path[0] == '':\n",
            "/usr/local/lib/python3.7/dist-packages/ipykernel_launcher.py:5: SettingWithCopyWarning: \n",
            "A value is trying to be set on a copy of a slice from a DataFrame\n",
            "\n",
            "See the caveats in the documentation: https://pandas.pydata.org/pandas-docs/stable/user_guide/indexing.html#returning-a-view-versus-a-copy\n",
            "  \"\"\"\n",
            "/usr/local/lib/python3.7/dist-packages/ipykernel_launcher.py:7: SettingWithCopyWarning: \n",
            "A value is trying to be set on a copy of a slice from a DataFrame\n",
            "\n",
            "See the caveats in the documentation: https://pandas.pydata.org/pandas-docs/stable/user_guide/indexing.html#returning-a-view-versus-a-copy\n",
            "  import sys\n",
            "/usr/local/lib/python3.7/dist-packages/ipykernel_launcher.py:10: SettingWithCopyWarning: \n",
            "A value is trying to be set on a copy of a slice from a DataFrame\n",
            "\n",
            "See the caveats in the documentation: https://pandas.pydata.org/pandas-docs/stable/user_guide/indexing.html#returning-a-view-versus-a-copy\n",
            "  # Remove the CWD from sys.path while we load stuff.\n"
          ]
        }
      ]
    },
    {
      "cell_type": "code",
      "source": [
        "# Remove all rows containing ? data\n",
        "indx = raw_data[raw_data.isin(['?'])].stack(dropna=True).unstack().index\n",
        "print(f\"indx: {indx}\")\n",
        "raw_data = raw_data.drop(index=indx)"
      ],
      "metadata": {
        "id": "ThhbSU5gPBYA",
        "outputId": "783177cd-b48b-407d-9f1a-191c0ea490f2",
        "colab": {
          "base_uri": "https://localhost:8080/"
        }
      },
      "execution_count": 13,
      "outputs": [
        {
          "output_type": "stream",
          "name": "stdout",
          "text": [
            "indx: Int64Index([20, 31, 50, 54, 71, 92, 149, 240, 264], dtype='int64')\n"
          ]
        }
      ]
    },
    {
      "cell_type": "code",
      "execution_count": 14,
      "metadata": {
        "id": "WIh9_0pp7goY"
      },
      "outputs": [],
      "source": [
        "# Split your data so that you can test the effectiveness of your model\n",
        "# Split the data into a Training set and a Test set\n",
        "dfs = np.split(raw_data, [len(raw_data.columns)-1], axis=1)\n",
        "X = dfs[0]\n",
        "y = dfs[1]\n",
        "\n",
        "# Handle categorical values and drop dummy variable\n",
        "# Remove non-categorical data\n",
        "dm = X.pop('deg-malig')\n",
        "# Encode the catagorical data (dummy variables)\n",
        "proc_X = pd.get_dummies(data=X, prefix_sep='_', drop_first=True)\n",
        "# Add back in non-categorical data\n",
        "proc_X.insert(0, 'deg-malig', dm)\n",
        "\n",
        "from sklearn.model_selection import train_test_split\n",
        "X_train, X_test, y_train, y_test = train_test_split(proc_X, y, test_size = 0.25, random_state = 42)\n",
        "X_train, X_val, y_train, y_val = train_test_split(X_train, y_train, test_size = 0.2, random_state = 42)"
      ]
    },
    {
      "cell_type": "code",
      "source": [
        "# Calculate class weights\n",
        "weight_0 = (1 / neg) * ((pos + neg) / 2)\n",
        "weight_1 = (1 / pos) * ((pos + neg) / 2)\n",
        "class_weight = np.log([pos/neg])\n",
        "class_weight_dict = {0: weight_0, 1: weight_1}\n",
        "print(f\"Weight for 0: {weight_0}\")\n",
        "print(f\"Weight for 1: {weight_1}\")"
      ],
      "metadata": {
        "id": "CtCPaYUj8dcn",
        "outputId": "9afc4440-8536-49d8-e183-f6d02361d375",
        "colab": {
          "base_uri": "https://localhost:8080/"
        }
      },
      "execution_count": 28,
      "outputs": [
        {
          "output_type": "stream",
          "name": "stdout",
          "text": [
            "Weight for 0: 0.7114427860696517\n",
            "Weight for 1: 1.6823529411764706\n"
          ]
        }
      ]
    },
    {
      "cell_type": "code",
      "execution_count": 16,
      "metadata": {
        "id": "AbOQACY77goY"
      },
      "outputs": [],
      "source": [
        "# Populate preprocess_training_data and preprocess_test_data to preprocess data.\n",
        "# You must process test and train separately so your model does not accidently gain information that a model wouldnt have in reality and therefore get better predictions"
      ]
    },
    {
      "cell_type": "code",
      "execution_count": 17,
      "metadata": {
        "id": "Xsq2f8747goZ"
      },
      "outputs": [],
      "source": [
        "from keras.layers.advanced_activations import LeakyReLU\n",
        "class Module4_Model:\n",
        "    \n",
        "    def __init__(self):\n",
        "        self.model = None\n",
        "        self.metrics = [\n",
        "            keras.metrics.TruePositives(name='tp'),\n",
        "            keras.metrics.FalsePositives(name='fp'),\n",
        "            keras.metrics.TrueNegatives(name='tn'),\n",
        "            keras.metrics.FalseNegatives(name='fn'),\n",
        "            keras.metrics.BinaryAccuracy(name='accuracy'),\n",
        "            keras.metrics.Recall(name='recall'),\n",
        "            keras.metrics.Precision(name='precision'),\n",
        "            keras.metrics.AUC(name='prc', curve='PR'),\n",
        "        ]\n",
        "        self.EPOCHS = 500\n",
        "        self.BATCH = 100\n",
        "        self.THR = 0.3\n",
        "        self.stop_crit = keras.callbacks.EarlyStopping(\n",
        "            monitor='val_prc',\n",
        "            verbose=1,\n",
        "            patience=500,\n",
        "            mode='max',\n",
        "            restore_best_weights=True)\n",
        "\n",
        "    def preprocess_training_data(self, training_df):\n",
        "        \"\"\"\n",
        "        This function should process the training data and store any features\n",
        "        required in the class\n",
        "        \"\"\"         \n",
        "        # Apply feature scaling\n",
        "        from sklearn.preprocessing import StandardScaler\n",
        "        sc = StandardScaler()\n",
        "        processed_df = sc.fit_transform(training_df)\n",
        "        return processed_df, sc\n",
        "\n",
        "    def preprocess_test_data(self, test_df):\n",
        "        \"\"\"\n",
        "        This function should process the test data and store any features\n",
        "        required in the class\n",
        "        \"\"\"\n",
        "        # Apply feature scaling\n",
        "        processed_df = self.scalar.transform(test_df)\n",
        "        return processed_df\n",
        "\n",
        "    def make_model(self,hp):\n",
        "        #msle = MeanSquaredLogarithmicError()\n",
        "        model = keras.Sequential()\n",
        "\n",
        "        #if output_bias is not None:\n",
        "        #output_bias=None\n",
        "        output_bias = keras.initializers.Constant(class_weight)\n",
        "        # Tune the number of units in each layer\n",
        "        hp_units1 = hp.Int('units1',min_value=16,max_value=18,step=1)\n",
        "        #hp_units2 = hp.Int('units2',min_value=32,max_value=512,step=32)\n",
        "        #hp_units3 = hp.Int('units3',min_value=32,max_value=512,step=32)\n",
        "\n",
        "        #self.model = keras.Sequential()\n",
        "        model.add(Dense(hp_units1,\n",
        "                        activation='relu',\n",
        "                        input_shape=(x_train_processed.shape[-1],)))\n",
        "        model.add(Dropout(0.5))\n",
        "        #model.add(Dense(hp_units2,activation=hp.Choice(\n",
        "        #    name='dense_activation',\n",
        "        #    values=['relu','selu','leaky-relu'],\n",
        "        #    default='leaky-relu'\n",
        "        #)))\n",
        "        #model.add(Dense(hp_units3,activation=hp.Choice(\n",
        "        #    name='dense_activation',\n",
        "        #    values=['relu','selu','leaky-relu'],\n",
        "        #    default='leaky-relu'\n",
        "        #    )))\n",
        "        model.add(Dense(1,kernel_initializer='normal',activation='sigmoid',bias_initializer=output_bias))\n",
        "        hp_learning_rate = hp.Choice('learning_rate',values=[1e-2, 1e-3, 1e-4])\n",
        "\n",
        "        model.compile(\n",
        "            optimizer=tf.keras.optimizers.Adam(learning_rate=hp_learning_rate),\n",
        "            loss=keras.losses.BinaryCrossentropy(),\n",
        "            metrics=self.metrics)\n",
        "        \n",
        "        return model\n"
      ]
    },
    {
      "cell_type": "code",
      "execution_count": 18,
      "metadata": {
        "id": "F3LiNNCb7goa"
      },
      "outputs": [],
      "source": [
        "# Dont change\n",
        "my_model = Module4_Model()"
      ]
    },
    {
      "cell_type": "code",
      "execution_count": 19,
      "metadata": {
        "id": "ZQD7WPdN7god"
      },
      "outputs": [],
      "source": [
        "# Dont change\n",
        "x_train_processed, my_model.scalar = my_model.preprocess_training_data(X_train)\n",
        "x_val_processed = my_model.preprocess_test_data(X_val)"
      ]
    },
    {
      "cell_type": "code",
      "source": [
        "# Encode the output data\n",
        "from sklearn.preprocessing import LabelEncoder\n",
        "lb = LabelEncoder()\n",
        "y_train = pd.DataFrame(lb.fit_transform(y_train))\n",
        "y_val = pd.DataFrame(lb.transform(y_val))\n",
        "y_test = pd.DataFrame(lb.transform(y_test))"
      ],
      "metadata": {
        "id": "xZNGF1UxWGU5",
        "outputId": "e11a5871-e938-48fc-d8a5-ef2050721ea9",
        "colab": {
          "base_uri": "https://localhost:8080/"
        }
      },
      "execution_count": 20,
      "outputs": [
        {
          "output_type": "stream",
          "name": "stderr",
          "text": [
            "/usr/local/lib/python3.7/dist-packages/sklearn/preprocessing/_label.py:115: DataConversionWarning: A column-vector y was passed when a 1d array was expected. Please change the shape of y to (n_samples, ), for example using ravel().\n",
            "  y = column_or_1d(y, warn=True)\n",
            "/usr/local/lib/python3.7/dist-packages/sklearn/preprocessing/_label.py:133: DataConversionWarning: A column-vector y was passed when a 1d array was expected. Please change the shape of y to (n_samples, ), for example using ravel().\n",
            "  y = column_or_1d(y, warn=True)\n"
          ]
        }
      ]
    },
    {
      "cell_type": "code",
      "execution_count": 21,
      "metadata": {
        "id": "XnLHgaXS7goe"
      },
      "outputs": [],
      "source": [
        "# Create a model\n",
        "from keras.models import Sequential\n",
        "from keras.layers import Dense,Activation\n",
        "from keras.layers import LeakyReLU,ELU,PReLU,Dropout\n",
        "from keras.losses import MeanSquaredLogarithmicError\n",
        "from keras.utils.generic_utils import get_custom_objects\n",
        "\n",
        "msle = MeanSquaredLogarithmicError()\n",
        "get_custom_objects().update({'leaky-relu': Activation(LeakyReLU(alpha=0.3))})"
      ]
    },
    {
      "cell_type": "code",
      "source": [
        "# Utilise HyperBand algorithm from keras tuner to construct model\n",
        "tuner = kt.Hyperband(\n",
        "    my_model.make_model,\n",
        "    objective=kt.Objective('val_prc', direction='max'),\n",
        "    max_epochs=50,\n",
        "    directory='keras_tuner_dir',\n",
        "    project_name='keras_tuner',\n",
        ")\n",
        "tuner.search(x_train_processed,y_train,epochs=10,validation_split=0.2)"
      ],
      "metadata": {
        "id": "p1Ph9bZMV5G6",
        "outputId": "db7ee498-78e1-49e6-f5d6-73f438e0bff2",
        "colab": {
          "base_uri": "https://localhost:8080/"
        }
      },
      "execution_count": 22,
      "outputs": [
        {
          "output_type": "stream",
          "name": "stdout",
          "text": [
            "Trial 9 Complete [00h 00m 04s]\n",
            "val_prc: 0.4165799915790558\n",
            "\n",
            "Best val_prc So Far: 0.51025390625\n",
            "Total elapsed time: 00h 00m 45s\n"
          ]
        }
      ]
    },
    {
      "cell_type": "code",
      "execution_count": 23,
      "metadata": {
        "id": "rQwUj4lk7goe"
      },
      "outputs": [],
      "source": [
        "# Dont change\n",
        "x_test_processed = my_model.preprocess_test_data(X_test)"
      ]
    },
    {
      "cell_type": "code",
      "source": [
        "for h_param in [f\"units{i}\" for i in range(1,2)] + ['learning_rate']:\n",
        "    print(h_param, tuner.get_best_hyperparameters()[0].get(h_param))"
      ],
      "metadata": {
        "id": "HuWZxfcvYOI4",
        "outputId": "846bf182-0c26-4e85-b0a1-14e896ca49be",
        "colab": {
          "base_uri": "https://localhost:8080/"
        }
      },
      "execution_count": 24,
      "outputs": [
        {
          "output_type": "stream",
          "name": "stdout",
          "text": [
            "units1 16\n",
            "learning_rate 0.01\n"
          ]
        }
      ]
    },
    {
      "cell_type": "code",
      "source": [
        "tuner.get_best_hyperparameters()[0].get('units1')"
      ],
      "metadata": {
        "id": "Tctq4rG0eoO5",
        "outputId": "c5673b5a-3a83-4f87-8772-fc094c8c153e",
        "colab": {
          "base_uri": "https://localhost:8080/"
        }
      },
      "execution_count": 25,
      "outputs": [
        {
          "output_type": "execute_result",
          "data": {
            "text/plain": [
              "16"
            ]
          },
          "metadata": {},
          "execution_count": 25
        }
      ]
    },
    {
      "cell_type": "code",
      "source": [
        "my_model.best_model = tuner.get_best_models()[0]\n",
        "my_model.best_model.build(x_train_processed.shape)\n",
        "my_model.best_model.summary()"
      ],
      "metadata": {
        "id": "Lku4uguEY1ar",
        "outputId": "84b166b7-4379-4a4e-b441-e74064ca701e",
        "colab": {
          "base_uri": "https://localhost:8080/"
        }
      },
      "execution_count": 26,
      "outputs": [
        {
          "output_type": "stream",
          "name": "stdout",
          "text": [
            "Model: \"sequential\"\n",
            "_________________________________________________________________\n",
            " Layer (type)                Output Shape              Param #   \n",
            "=================================================================\n",
            " dense (Dense)               (None, 16)                512       \n",
            "                                                                 \n",
            " dropout (Dropout)           (None, 16)                0         \n",
            "                                                                 \n",
            " dense_1 (Dense)             (None, 1)                 17        \n",
            "                                                                 \n",
            "=================================================================\n",
            "Total params: 529\n",
            "Trainable params: 529\n",
            "Non-trainable params: 0\n",
            "_________________________________________________________________\n"
          ]
        }
      ]
    },
    {
      "cell_type": "code",
      "source": [
        "# Train the best model (with class weights)\n",
        "my_model.best_model.fit(x_train_processed,\n",
        "                   y_train,\n",
        "                   batch_size=my_model.BATCH,\n",
        "                   epochs=my_model.EPOCHS,\n",
        "                   callbacks=[my_model.stop_crit],\n",
        "                   validation_data=(x_val_processed,y_val),\n",
        "                   class_weight=class_weight_dict)"
      ],
      "metadata": {
        "id": "DFAWtazI9LH4",
        "outputId": "3f00beef-793f-4e7a-c9f5-b7b201814c1d",
        "colab": {
          "base_uri": "https://localhost:8080/"
        }
      },
      "execution_count": 29,
      "outputs": [
        {
          "output_type": "stream",
          "name": "stdout",
          "text": [
            "Epoch 1/500\n",
            "2/2 [==============================] - 7s 2s/step - loss: 0.7653 - tp: 1.0000 - fp: 0.0000e+00 - tn: 139.0000 - fn: 58.0000 - accuracy: 0.7071 - recall: 0.0169 - precision: 1.0000 - prc: 0.4334 - val_loss: 0.6688 - val_tp: 0.0000e+00 - val_fp: 0.0000e+00 - val_tn: 27.0000 - val_fn: 15.0000 - val_accuracy: 0.6429 - val_recall: 0.0000e+00 - val_precision: 0.0000e+00 - val_prc: 0.4735\n",
            "Epoch 2/500\n",
            "2/2 [==============================] - 0s 56ms/step - loss: 0.7247 - tp: 3.0000 - fp: 0.0000e+00 - tn: 118.0000 - fn: 44.0000 - accuracy: 0.7333 - recall: 0.0638 - precision: 1.0000 - prc: 0.5487 - val_loss: 0.6638 - val_tp: 0.0000e+00 - val_fp: 0.0000e+00 - val_tn: 27.0000 - val_fn: 15.0000 - val_accuracy: 0.6429 - val_recall: 0.0000e+00 - val_precision: 0.0000e+00 - val_prc: 0.5081\n",
            "Epoch 3/500\n",
            "2/2 [==============================] - 0s 58ms/step - loss: 0.7191 - tp: 5.0000 - fp: 0.0000e+00 - tn: 118.0000 - fn: 42.0000 - accuracy: 0.7455 - recall: 0.1064 - precision: 1.0000 - prc: 0.5357 - val_loss: 0.6573 - val_tp: 0.0000e+00 - val_fp: 0.0000e+00 - val_tn: 27.0000 - val_fn: 15.0000 - val_accuracy: 0.6429 - val_recall: 0.0000e+00 - val_precision: 0.0000e+00 - val_prc: 0.5060\n",
            "Epoch 4/500\n",
            "2/2 [==============================] - 0s 44ms/step - loss: 0.6878 - tp: 3.0000 - fp: 3.0000 - tn: 115.0000 - fn: 44.0000 - accuracy: 0.7152 - recall: 0.0638 - precision: 0.5000 - prc: 0.5144 - val_loss: 0.6520 - val_tp: 1.0000 - val_fp: 0.0000e+00 - val_tn: 27.0000 - val_fn: 14.0000 - val_accuracy: 0.6667 - val_recall: 0.0667 - val_precision: 1.0000 - val_prc: 0.5037\n",
            "Epoch 5/500\n",
            "2/2 [==============================] - 0s 67ms/step - loss: 0.6906 - tp: 5.0000 - fp: 2.0000 - tn: 116.0000 - fn: 42.0000 - accuracy: 0.7333 - recall: 0.1064 - precision: 0.7143 - prc: 0.5110 - val_loss: 0.6485 - val_tp: 1.0000 - val_fp: 1.0000 - val_tn: 26.0000 - val_fn: 14.0000 - val_accuracy: 0.6429 - val_recall: 0.0667 - val_precision: 0.5000 - val_prc: 0.5094\n",
            "Epoch 6/500\n",
            "2/2 [==============================] - 0s 75ms/step - loss: 0.6645 - tp: 6.0000 - fp: 2.0000 - tn: 116.0000 - fn: 41.0000 - accuracy: 0.7394 - recall: 0.1277 - precision: 0.7500 - prc: 0.5285 - val_loss: 0.6475 - val_tp: 2.0000 - val_fp: 2.0000 - val_tn: 25.0000 - val_fn: 13.0000 - val_accuracy: 0.6429 - val_recall: 0.1333 - val_precision: 0.5000 - val_prc: 0.5023\n",
            "Epoch 7/500\n",
            "2/2 [==============================] - 0s 49ms/step - loss: 0.6384 - tp: 10.0000 - fp: 7.0000 - tn: 111.0000 - fn: 37.0000 - accuracy: 0.7333 - recall: 0.2128 - precision: 0.5882 - prc: 0.5427 - val_loss: 0.6490 - val_tp: 3.0000 - val_fp: 3.0000 - val_tn: 24.0000 - val_fn: 12.0000 - val_accuracy: 0.6429 - val_recall: 0.2000 - val_precision: 0.5000 - val_prc: 0.5044\n",
            "Epoch 8/500\n",
            "2/2 [==============================] - 0s 46ms/step - loss: 0.5905 - tp: 20.0000 - fp: 12.0000 - tn: 106.0000 - fn: 27.0000 - accuracy: 0.7636 - recall: 0.4255 - precision: 0.6250 - prc: 0.5982 - val_loss: 0.6534 - val_tp: 3.0000 - val_fp: 3.0000 - val_tn: 24.0000 - val_fn: 12.0000 - val_accuracy: 0.6429 - val_recall: 0.2000 - val_precision: 0.5000 - val_prc: 0.5055\n",
            "Epoch 9/500\n",
            "2/2 [==============================] - 0s 45ms/step - loss: 0.6283 - tp: 15.0000 - fp: 18.0000 - tn: 100.0000 - fn: 32.0000 - accuracy: 0.6970 - recall: 0.3191 - precision: 0.4545 - prc: 0.5010 - val_loss: 0.6599 - val_tp: 4.0000 - val_fp: 3.0000 - val_tn: 24.0000 - val_fn: 11.0000 - val_accuracy: 0.6667 - val_recall: 0.2667 - val_precision: 0.5714 - val_prc: 0.4983\n",
            "Epoch 10/500\n",
            "2/2 [==============================] - 0s 47ms/step - loss: 0.6248 - tp: 18.0000 - fp: 21.0000 - tn: 97.0000 - fn: 29.0000 - accuracy: 0.6970 - recall: 0.3830 - precision: 0.4615 - prc: 0.5094 - val_loss: 0.6704 - val_tp: 5.0000 - val_fp: 5.0000 - val_tn: 22.0000 - val_fn: 10.0000 - val_accuracy: 0.6429 - val_recall: 0.3333 - val_precision: 0.5000 - val_prc: 0.4928\n",
            "Epoch 11/500\n",
            "2/2 [==============================] - 0s 46ms/step - loss: 0.5820 - tp: 21.0000 - fp: 15.0000 - tn: 103.0000 - fn: 26.0000 - accuracy: 0.7515 - recall: 0.4468 - precision: 0.5833 - prc: 0.5647 - val_loss: 0.6821 - val_tp: 6.0000 - val_fp: 6.0000 - val_tn: 21.0000 - val_fn: 9.0000 - val_accuracy: 0.6429 - val_recall: 0.4000 - val_precision: 0.5000 - val_prc: 0.4821\n",
            "Epoch 12/500\n",
            "2/2 [==============================] - 0s 61ms/step - loss: 0.5661 - tp: 26.0000 - fp: 24.0000 - tn: 94.0000 - fn: 21.0000 - accuracy: 0.7273 - recall: 0.5532 - precision: 0.5200 - prc: 0.5634 - val_loss: 0.6939 - val_tp: 7.0000 - val_fp: 6.0000 - val_tn: 21.0000 - val_fn: 8.0000 - val_accuracy: 0.6667 - val_recall: 0.4667 - val_precision: 0.5385 - val_prc: 0.4781\n",
            "Epoch 13/500\n",
            "2/2 [==============================] - 0s 40ms/step - loss: 0.5591 - tp: 27.0000 - fp: 20.0000 - tn: 98.0000 - fn: 20.0000 - accuracy: 0.7576 - recall: 0.5745 - precision: 0.5745 - prc: 0.5942 - val_loss: 0.7071 - val_tp: 7.0000 - val_fp: 8.0000 - val_tn: 19.0000 - val_fn: 8.0000 - val_accuracy: 0.6190 - val_recall: 0.4667 - val_precision: 0.4667 - val_prc: 0.4776\n",
            "Epoch 14/500\n",
            "2/2 [==============================] - 0s 50ms/step - loss: 0.5569 - tp: 30.0000 - fp: 24.0000 - tn: 94.0000 - fn: 17.0000 - accuracy: 0.7515 - recall: 0.6383 - precision: 0.5556 - prc: 0.5684 - val_loss: 0.7190 - val_tp: 7.0000 - val_fp: 9.0000 - val_tn: 18.0000 - val_fn: 8.0000 - val_accuracy: 0.5952 - val_recall: 0.4667 - val_precision: 0.4375 - val_prc: 0.4777\n",
            "Epoch 15/500\n",
            "2/2 [==============================] - 0s 94ms/step - loss: 0.5335 - tp: 30.0000 - fp: 24.0000 - tn: 94.0000 - fn: 17.0000 - accuracy: 0.7515 - recall: 0.6383 - precision: 0.5556 - prc: 0.6092 - val_loss: 0.7300 - val_tp: 8.0000 - val_fp: 9.0000 - val_tn: 18.0000 - val_fn: 7.0000 - val_accuracy: 0.6190 - val_recall: 0.5333 - val_precision: 0.4706 - val_prc: 0.4781\n",
            "Epoch 16/500\n",
            "2/2 [==============================] - 0s 63ms/step - loss: 0.5470 - tp: 29.0000 - fp: 27.0000 - tn: 91.0000 - fn: 18.0000 - accuracy: 0.7273 - recall: 0.6170 - precision: 0.5179 - prc: 0.6128 - val_loss: 0.7392 - val_tp: 8.0000 - val_fp: 8.0000 - val_tn: 19.0000 - val_fn: 7.0000 - val_accuracy: 0.6429 - val_recall: 0.5333 - val_precision: 0.5000 - val_prc: 0.4798\n",
            "Epoch 17/500\n",
            "2/2 [==============================] - 0s 54ms/step - loss: 0.5444 - tp: 35.0000 - fp: 29.0000 - tn: 89.0000 - fn: 12.0000 - accuracy: 0.7515 - recall: 0.7447 - precision: 0.5469 - prc: 0.5996 - val_loss: 0.7478 - val_tp: 8.0000 - val_fp: 8.0000 - val_tn: 19.0000 - val_fn: 7.0000 - val_accuracy: 0.6429 - val_recall: 0.5333 - val_precision: 0.5000 - val_prc: 0.4841\n",
            "Epoch 18/500\n",
            "2/2 [==============================] - 0s 54ms/step - loss: 0.5126 - tp: 35.0000 - fp: 32.0000 - tn: 86.0000 - fn: 12.0000 - accuracy: 0.7333 - recall: 0.7447 - precision: 0.5224 - prc: 0.6498 - val_loss: 0.7551 - val_tp: 8.0000 - val_fp: 8.0000 - val_tn: 19.0000 - val_fn: 7.0000 - val_accuracy: 0.6429 - val_recall: 0.5333 - val_precision: 0.5000 - val_prc: 0.4882\n",
            "Epoch 19/500\n",
            "2/2 [==============================] - 0s 51ms/step - loss: 0.5207 - tp: 34.0000 - fp: 27.0000 - tn: 91.0000 - fn: 13.0000 - accuracy: 0.7576 - recall: 0.7234 - precision: 0.5574 - prc: 0.6413 - val_loss: 0.7620 - val_tp: 8.0000 - val_fp: 7.0000 - val_tn: 20.0000 - val_fn: 7.0000 - val_accuracy: 0.6667 - val_recall: 0.5333 - val_precision: 0.5333 - val_prc: 0.4882\n",
            "Epoch 20/500\n",
            "2/2 [==============================] - 0s 61ms/step - loss: 0.4887 - tp: 33.0000 - fp: 31.0000 - tn: 87.0000 - fn: 14.0000 - accuracy: 0.7273 - recall: 0.7021 - precision: 0.5156 - prc: 0.6824 - val_loss: 0.7693 - val_tp: 7.0000 - val_fp: 6.0000 - val_tn: 21.0000 - val_fn: 8.0000 - val_accuracy: 0.6667 - val_recall: 0.4667 - val_precision: 0.5385 - val_prc: 0.4924\n",
            "Epoch 21/500\n",
            "2/2 [==============================] - 0s 61ms/step - loss: 0.5082 - tp: 31.0000 - fp: 25.0000 - tn: 93.0000 - fn: 16.0000 - accuracy: 0.7515 - recall: 0.6596 - precision: 0.5536 - prc: 0.6487 - val_loss: 0.7774 - val_tp: 6.0000 - val_fp: 6.0000 - val_tn: 21.0000 - val_fn: 9.0000 - val_accuracy: 0.6429 - val_recall: 0.4000 - val_precision: 0.5000 - val_prc: 0.4854\n",
            "Epoch 22/500\n",
            "2/2 [==============================] - 0s 49ms/step - loss: 0.4835 - tp: 30.0000 - fp: 22.0000 - tn: 96.0000 - fn: 17.0000 - accuracy: 0.7636 - recall: 0.6383 - precision: 0.5769 - prc: 0.7142 - val_loss: 0.7877 - val_tp: 6.0000 - val_fp: 5.0000 - val_tn: 22.0000 - val_fn: 9.0000 - val_accuracy: 0.6667 - val_recall: 0.4000 - val_precision: 0.5455 - val_prc: 0.4751\n",
            "Epoch 23/500\n",
            "2/2 [==============================] - 0s 47ms/step - loss: 0.4868 - tp: 32.0000 - fp: 28.0000 - tn: 90.0000 - fn: 15.0000 - accuracy: 0.7394 - recall: 0.6809 - precision: 0.5333 - prc: 0.6765 - val_loss: 0.8002 - val_tp: 6.0000 - val_fp: 6.0000 - val_tn: 21.0000 - val_fn: 9.0000 - val_accuracy: 0.6429 - val_recall: 0.4000 - val_precision: 0.5000 - val_prc: 0.4712\n",
            "Epoch 24/500\n",
            "2/2 [==============================] - 0s 46ms/step - loss: 0.4717 - tp: 34.0000 - fp: 27.0000 - tn: 91.0000 - fn: 13.0000 - accuracy: 0.7576 - recall: 0.7234 - precision: 0.5574 - prc: 0.6835 - val_loss: 0.8125 - val_tp: 6.0000 - val_fp: 7.0000 - val_tn: 20.0000 - val_fn: 9.0000 - val_accuracy: 0.6190 - val_recall: 0.4000 - val_precision: 0.4615 - val_prc: 0.4625\n",
            "Epoch 25/500\n",
            "2/2 [==============================] - 0s 43ms/step - loss: 0.5112 - tp: 31.0000 - fp: 24.0000 - tn: 94.0000 - fn: 16.0000 - accuracy: 0.7576 - recall: 0.6596 - precision: 0.5636 - prc: 0.6203 - val_loss: 0.8255 - val_tp: 5.0000 - val_fp: 7.0000 - val_tn: 20.0000 - val_fn: 10.0000 - val_accuracy: 0.5952 - val_recall: 0.3333 - val_precision: 0.4167 - val_prc: 0.4565\n",
            "Epoch 26/500\n",
            "2/2 [==============================] - 0s 63ms/step - loss: 0.4450 - tp: 36.0000 - fp: 30.0000 - tn: 88.0000 - fn: 11.0000 - accuracy: 0.7515 - recall: 0.7660 - precision: 0.5455 - prc: 0.7479 - val_loss: 0.8395 - val_tp: 5.0000 - val_fp: 7.0000 - val_tn: 20.0000 - val_fn: 10.0000 - val_accuracy: 0.5952 - val_recall: 0.3333 - val_precision: 0.4167 - val_prc: 0.4463\n",
            "Epoch 27/500\n",
            "2/2 [==============================] - 0s 65ms/step - loss: 0.4377 - tp: 34.0000 - fp: 23.0000 - tn: 95.0000 - fn: 13.0000 - accuracy: 0.7818 - recall: 0.7234 - precision: 0.5965 - prc: 0.7553 - val_loss: 0.8544 - val_tp: 5.0000 - val_fp: 7.0000 - val_tn: 20.0000 - val_fn: 10.0000 - val_accuracy: 0.5952 - val_recall: 0.3333 - val_precision: 0.4167 - val_prc: 0.4462\n",
            "Epoch 28/500\n",
            "2/2 [==============================] - 0s 85ms/step - loss: 0.4302 - tp: 35.0000 - fp: 26.0000 - tn: 92.0000 - fn: 12.0000 - accuracy: 0.7697 - recall: 0.7447 - precision: 0.5738 - prc: 0.7507 - val_loss: 0.8695 - val_tp: 5.0000 - val_fp: 8.0000 - val_tn: 19.0000 - val_fn: 10.0000 - val_accuracy: 0.5714 - val_recall: 0.3333 - val_precision: 0.3846 - val_prc: 0.4420\n",
            "Epoch 29/500\n",
            "2/2 [==============================] - 0s 71ms/step - loss: 0.4510 - tp: 32.0000 - fp: 24.0000 - tn: 94.0000 - fn: 15.0000 - accuracy: 0.7636 - recall: 0.6809 - precision: 0.5714 - prc: 0.7080 - val_loss: 0.8841 - val_tp: 5.0000 - val_fp: 10.0000 - val_tn: 17.0000 - val_fn: 10.0000 - val_accuracy: 0.5238 - val_recall: 0.3333 - val_precision: 0.3333 - val_prc: 0.4406\n",
            "Epoch 30/500\n",
            "2/2 [==============================] - 0s 47ms/step - loss: 0.4547 - tp: 35.0000 - fp: 25.0000 - tn: 93.0000 - fn: 12.0000 - accuracy: 0.7758 - recall: 0.7447 - precision: 0.5833 - prc: 0.7337 - val_loss: 0.8980 - val_tp: 5.0000 - val_fp: 9.0000 - val_tn: 18.0000 - val_fn: 10.0000 - val_accuracy: 0.5476 - val_recall: 0.3333 - val_precision: 0.3571 - val_prc: 0.4382\n",
            "Epoch 31/500\n",
            "2/2 [==============================] - 0s 60ms/step - loss: 0.4064 - tp: 39.0000 - fp: 26.0000 - tn: 92.0000 - fn: 8.0000 - accuracy: 0.7939 - recall: 0.8298 - precision: 0.6000 - prc: 0.7671 - val_loss: 0.9126 - val_tp: 5.0000 - val_fp: 9.0000 - val_tn: 18.0000 - val_fn: 10.0000 - val_accuracy: 0.5476 - val_recall: 0.3333 - val_precision: 0.3571 - val_prc: 0.4365\n",
            "Epoch 32/500\n",
            "2/2 [==============================] - 0s 61ms/step - loss: 0.4181 - tp: 38.0000 - fp: 23.0000 - tn: 95.0000 - fn: 9.0000 - accuracy: 0.8061 - recall: 0.8085 - precision: 0.6230 - prc: 0.7748 - val_loss: 0.9271 - val_tp: 5.0000 - val_fp: 9.0000 - val_tn: 18.0000 - val_fn: 10.0000 - val_accuracy: 0.5476 - val_recall: 0.3333 - val_precision: 0.3571 - val_prc: 0.4302\n",
            "Epoch 33/500\n",
            "2/2 [==============================] - 0s 54ms/step - loss: 0.4501 - tp: 33.0000 - fp: 26.0000 - tn: 92.0000 - fn: 14.0000 - accuracy: 0.7576 - recall: 0.7021 - precision: 0.5593 - prc: 0.7206 - val_loss: 0.9396 - val_tp: 5.0000 - val_fp: 9.0000 - val_tn: 18.0000 - val_fn: 10.0000 - val_accuracy: 0.5476 - val_recall: 0.3333 - val_precision: 0.3571 - val_prc: 0.4335\n",
            "Epoch 34/500\n",
            "2/2 [==============================] - 0s 60ms/step - loss: 0.4346 - tp: 35.0000 - fp: 21.0000 - tn: 97.0000 - fn: 12.0000 - accuracy: 0.8000 - recall: 0.7447 - precision: 0.6250 - prc: 0.7108 - val_loss: 0.9528 - val_tp: 5.0000 - val_fp: 9.0000 - val_tn: 18.0000 - val_fn: 10.0000 - val_accuracy: 0.5476 - val_recall: 0.3333 - val_precision: 0.3571 - val_prc: 0.4306\n",
            "Epoch 35/500\n",
            "2/2 [==============================] - 0s 71ms/step - loss: 0.4248 - tp: 34.0000 - fp: 27.0000 - tn: 91.0000 - fn: 13.0000 - accuracy: 0.7576 - recall: 0.7234 - precision: 0.5574 - prc: 0.7450 - val_loss: 0.9636 - val_tp: 5.0000 - val_fp: 9.0000 - val_tn: 18.0000 - val_fn: 10.0000 - val_accuracy: 0.5476 - val_recall: 0.3333 - val_precision: 0.3571 - val_prc: 0.4276\n",
            "Epoch 36/500\n",
            "2/2 [==============================] - 0s 83ms/step - loss: 0.3962 - tp: 37.0000 - fp: 25.0000 - tn: 93.0000 - fn: 10.0000 - accuracy: 0.7879 - recall: 0.7872 - precision: 0.5968 - prc: 0.7907 - val_loss: 0.9729 - val_tp: 5.0000 - val_fp: 8.0000 - val_tn: 19.0000 - val_fn: 10.0000 - val_accuracy: 0.5714 - val_recall: 0.3333 - val_precision: 0.3846 - val_prc: 0.4257\n",
            "Epoch 37/500\n",
            "2/2 [==============================] - 0s 73ms/step - loss: 0.4170 - tp: 34.0000 - fp: 22.0000 - tn: 96.0000 - fn: 13.0000 - accuracy: 0.7879 - recall: 0.7234 - precision: 0.6071 - prc: 0.7742 - val_loss: 0.9835 - val_tp: 5.0000 - val_fp: 8.0000 - val_tn: 19.0000 - val_fn: 10.0000 - val_accuracy: 0.5714 - val_recall: 0.3333 - val_precision: 0.3846 - val_prc: 0.4308\n",
            "Epoch 38/500\n",
            "2/2 [==============================] - 0s 64ms/step - loss: 0.3970 - tp: 42.0000 - fp: 27.0000 - tn: 91.0000 - fn: 5.0000 - accuracy: 0.8061 - recall: 0.8936 - precision: 0.6087 - prc: 0.8234 - val_loss: 0.9950 - val_tp: 5.0000 - val_fp: 8.0000 - val_tn: 19.0000 - val_fn: 10.0000 - val_accuracy: 0.5714 - val_recall: 0.3333 - val_precision: 0.3846 - val_prc: 0.4340\n",
            "Epoch 39/500\n",
            "2/2 [==============================] - 0s 85ms/step - loss: 0.3811 - tp: 40.0000 - fp: 17.0000 - tn: 101.0000 - fn: 7.0000 - accuracy: 0.8545 - recall: 0.8511 - precision: 0.7018 - prc: 0.8260 - val_loss: 1.0071 - val_tp: 5.0000 - val_fp: 8.0000 - val_tn: 19.0000 - val_fn: 10.0000 - val_accuracy: 0.5714 - val_recall: 0.3333 - val_precision: 0.3846 - val_prc: 0.4328\n",
            "Epoch 40/500\n",
            "2/2 [==============================] - 0s 62ms/step - loss: 0.3646 - tp: 37.0000 - fp: 17.0000 - tn: 101.0000 - fn: 10.0000 - accuracy: 0.8364 - recall: 0.7872 - precision: 0.6852 - prc: 0.8471 - val_loss: 1.0215 - val_tp: 5.0000 - val_fp: 8.0000 - val_tn: 19.0000 - val_fn: 10.0000 - val_accuracy: 0.5714 - val_recall: 0.3333 - val_precision: 0.3846 - val_prc: 0.4355\n",
            "Epoch 41/500\n",
            "2/2 [==============================] - 0s 91ms/step - loss: 0.4026 - tp: 36.0000 - fp: 23.0000 - tn: 95.0000 - fn: 11.0000 - accuracy: 0.7939 - recall: 0.7660 - precision: 0.6102 - prc: 0.7765 - val_loss: 1.0381 - val_tp: 5.0000 - val_fp: 8.0000 - val_tn: 19.0000 - val_fn: 10.0000 - val_accuracy: 0.5714 - val_recall: 0.3333 - val_precision: 0.3846 - val_prc: 0.4315\n",
            "Epoch 42/500\n",
            "2/2 [==============================] - 0s 49ms/step - loss: 0.3797 - tp: 39.0000 - fp: 26.0000 - tn: 92.0000 - fn: 8.0000 - accuracy: 0.7939 - recall: 0.8298 - precision: 0.6000 - prc: 0.8097 - val_loss: 1.0554 - val_tp: 5.0000 - val_fp: 8.0000 - val_tn: 19.0000 - val_fn: 10.0000 - val_accuracy: 0.5714 - val_recall: 0.3333 - val_precision: 0.3846 - val_prc: 0.4287\n",
            "Epoch 43/500\n",
            "2/2 [==============================] - 0s 35ms/step - loss: 0.3838 - tp: 37.0000 - fp: 25.0000 - tn: 93.0000 - fn: 10.0000 - accuracy: 0.7879 - recall: 0.7872 - precision: 0.5968 - prc: 0.8181 - val_loss: 1.0730 - val_tp: 5.0000 - val_fp: 8.0000 - val_tn: 19.0000 - val_fn: 10.0000 - val_accuracy: 0.5714 - val_recall: 0.3333 - val_precision: 0.3846 - val_prc: 0.4245\n",
            "Epoch 44/500\n",
            "2/2 [==============================] - 0s 29ms/step - loss: 0.3544 - tp: 38.0000 - fp: 22.0000 - tn: 96.0000 - fn: 9.0000 - accuracy: 0.8121 - recall: 0.8085 - precision: 0.6333 - prc: 0.8219 - val_loss: 1.0905 - val_tp: 5.0000 - val_fp: 9.0000 - val_tn: 18.0000 - val_fn: 10.0000 - val_accuracy: 0.5476 - val_recall: 0.3333 - val_precision: 0.3571 - val_prc: 0.4243\n",
            "Epoch 45/500\n",
            "2/2 [==============================] - 0s 29ms/step - loss: 0.3735 - tp: 40.0000 - fp: 18.0000 - tn: 100.0000 - fn: 7.0000 - accuracy: 0.8485 - recall: 0.8511 - precision: 0.6897 - prc: 0.8378 - val_loss: 1.1083 - val_tp: 5.0000 - val_fp: 9.0000 - val_tn: 18.0000 - val_fn: 10.0000 - val_accuracy: 0.5476 - val_recall: 0.3333 - val_precision: 0.3571 - val_prc: 0.4271\n",
            "Epoch 46/500\n",
            "2/2 [==============================] - 0s 34ms/step - loss: 0.3793 - tp: 39.0000 - fp: 22.0000 - tn: 96.0000 - fn: 8.0000 - accuracy: 0.8182 - recall: 0.8298 - precision: 0.6393 - prc: 0.7887 - val_loss: 1.1262 - val_tp: 5.0000 - val_fp: 10.0000 - val_tn: 17.0000 - val_fn: 10.0000 - val_accuracy: 0.5238 - val_recall: 0.3333 - val_precision: 0.3333 - val_prc: 0.4376\n",
            "Epoch 47/500\n",
            "2/2 [==============================] - 0s 59ms/step - loss: 0.3811 - tp: 36.0000 - fp: 18.0000 - tn: 100.0000 - fn: 11.0000 - accuracy: 0.8242 - recall: 0.7660 - precision: 0.6667 - prc: 0.8074 - val_loss: 1.1440 - val_tp: 5.0000 - val_fp: 10.0000 - val_tn: 17.0000 - val_fn: 10.0000 - val_accuracy: 0.5238 - val_recall: 0.3333 - val_precision: 0.3333 - val_prc: 0.4457\n",
            "Epoch 48/500\n",
            "2/2 [==============================] - 0s 51ms/step - loss: 0.3949 - tp: 38.0000 - fp: 21.0000 - tn: 97.0000 - fn: 9.0000 - accuracy: 0.8182 - recall: 0.8085 - precision: 0.6441 - prc: 0.7760 - val_loss: 1.1594 - val_tp: 5.0000 - val_fp: 10.0000 - val_tn: 17.0000 - val_fn: 10.0000 - val_accuracy: 0.5238 - val_recall: 0.3333 - val_precision: 0.3333 - val_prc: 0.4442\n",
            "Epoch 49/500\n",
            "2/2 [==============================] - 0s 74ms/step - loss: 0.3434 - tp: 40.0000 - fp: 16.0000 - tn: 102.0000 - fn: 7.0000 - accuracy: 0.8606 - recall: 0.8511 - precision: 0.7143 - prc: 0.8257 - val_loss: 1.1725 - val_tp: 5.0000 - val_fp: 10.0000 - val_tn: 17.0000 - val_fn: 10.0000 - val_accuracy: 0.5238 - val_recall: 0.3333 - val_precision: 0.3333 - val_prc: 0.4426\n",
            "Epoch 50/500\n",
            "2/2 [==============================] - 0s 56ms/step - loss: 0.3399 - tp: 41.0000 - fp: 24.0000 - tn: 94.0000 - fn: 6.0000 - accuracy: 0.8182 - recall: 0.8723 - precision: 0.6308 - prc: 0.8361 - val_loss: 1.1869 - val_tp: 5.0000 - val_fp: 9.0000 - val_tn: 18.0000 - val_fn: 10.0000 - val_accuracy: 0.5476 - val_recall: 0.3333 - val_precision: 0.3571 - val_prc: 0.4423\n",
            "Epoch 51/500\n",
            "2/2 [==============================] - 0s 77ms/step - loss: 0.3610 - tp: 38.0000 - fp: 21.0000 - tn: 97.0000 - fn: 9.0000 - accuracy: 0.8182 - recall: 0.8085 - precision: 0.6441 - prc: 0.8125 - val_loss: 1.2009 - val_tp: 5.0000 - val_fp: 9.0000 - val_tn: 18.0000 - val_fn: 10.0000 - val_accuracy: 0.5476 - val_recall: 0.3333 - val_precision: 0.3571 - val_prc: 0.4441\n",
            "Epoch 52/500\n",
            "2/2 [==============================] - 0s 60ms/step - loss: 0.3450 - tp: 40.0000 - fp: 18.0000 - tn: 100.0000 - fn: 7.0000 - accuracy: 0.8485 - recall: 0.8511 - precision: 0.6897 - prc: 0.8083 - val_loss: 1.2156 - val_tp: 5.0000 - val_fp: 9.0000 - val_tn: 18.0000 - val_fn: 10.0000 - val_accuracy: 0.5476 - val_recall: 0.3333 - val_precision: 0.3571 - val_prc: 0.4446\n",
            "Epoch 53/500\n",
            "2/2 [==============================] - 0s 60ms/step - loss: 0.3750 - tp: 39.0000 - fp: 24.0000 - tn: 94.0000 - fn: 8.0000 - accuracy: 0.8061 - recall: 0.8298 - precision: 0.6190 - prc: 0.7800 - val_loss: 1.2296 - val_tp: 5.0000 - val_fp: 9.0000 - val_tn: 18.0000 - val_fn: 10.0000 - val_accuracy: 0.5476 - val_recall: 0.3333 - val_precision: 0.3571 - val_prc: 0.4440\n",
            "Epoch 54/500\n",
            "2/2 [==============================] - 0s 74ms/step - loss: 0.3397 - tp: 40.0000 - fp: 21.0000 - tn: 97.0000 - fn: 7.0000 - accuracy: 0.8303 - recall: 0.8511 - precision: 0.6557 - prc: 0.8334 - val_loss: 1.2431 - val_tp: 5.0000 - val_fp: 9.0000 - val_tn: 18.0000 - val_fn: 10.0000 - val_accuracy: 0.5476 - val_recall: 0.3333 - val_precision: 0.3571 - val_prc: 0.4259\n",
            "Epoch 55/500\n",
            "2/2 [==============================] - 0s 93ms/step - loss: 0.3609 - tp: 38.0000 - fp: 20.0000 - tn: 98.0000 - fn: 9.0000 - accuracy: 0.8242 - recall: 0.8085 - precision: 0.6552 - prc: 0.7921 - val_loss: 1.2535 - val_tp: 5.0000 - val_fp: 9.0000 - val_tn: 18.0000 - val_fn: 10.0000 - val_accuracy: 0.5476 - val_recall: 0.3333 - val_precision: 0.3571 - val_prc: 0.4184\n",
            "Epoch 56/500\n",
            "2/2 [==============================] - 0s 92ms/step - loss: 0.3493 - tp: 36.0000 - fp: 18.0000 - tn: 100.0000 - fn: 11.0000 - accuracy: 0.8242 - recall: 0.7660 - precision: 0.6667 - prc: 0.8280 - val_loss: 1.2649 - val_tp: 5.0000 - val_fp: 9.0000 - val_tn: 18.0000 - val_fn: 10.0000 - val_accuracy: 0.5476 - val_recall: 0.3333 - val_precision: 0.3571 - val_prc: 0.4183\n",
            "Epoch 57/500\n",
            "2/2 [==============================] - 0s 47ms/step - loss: 0.3727 - tp: 41.0000 - fp: 25.0000 - tn: 93.0000 - fn: 6.0000 - accuracy: 0.8121 - recall: 0.8723 - precision: 0.6212 - prc: 0.8076 - val_loss: 1.2768 - val_tp: 5.0000 - val_fp: 9.0000 - val_tn: 18.0000 - val_fn: 10.0000 - val_accuracy: 0.5476 - val_recall: 0.3333 - val_precision: 0.3571 - val_prc: 0.4258\n",
            "Epoch 58/500\n",
            "2/2 [==============================] - 0s 47ms/step - loss: 0.3193 - tp: 43.0000 - fp: 20.0000 - tn: 98.0000 - fn: 4.0000 - accuracy: 0.8545 - recall: 0.9149 - precision: 0.6825 - prc: 0.8422 - val_loss: 1.2902 - val_tp: 5.0000 - val_fp: 9.0000 - val_tn: 18.0000 - val_fn: 10.0000 - val_accuracy: 0.5476 - val_recall: 0.3333 - val_precision: 0.3571 - val_prc: 0.4316\n",
            "Epoch 59/500\n",
            "2/2 [==============================] - 0s 68ms/step - loss: 0.3853 - tp: 35.0000 - fp: 21.0000 - tn: 97.0000 - fn: 12.0000 - accuracy: 0.8000 - recall: 0.7447 - precision: 0.6250 - prc: 0.7845 - val_loss: 1.2991 - val_tp: 5.0000 - val_fp: 8.0000 - val_tn: 19.0000 - val_fn: 10.0000 - val_accuracy: 0.5714 - val_recall: 0.3333 - val_precision: 0.3846 - val_prc: 0.4270\n",
            "Epoch 60/500\n",
            "2/2 [==============================] - 0s 119ms/step - loss: 0.3434 - tp: 40.0000 - fp: 22.0000 - tn: 96.0000 - fn: 7.0000 - accuracy: 0.8242 - recall: 0.8511 - precision: 0.6452 - prc: 0.8368 - val_loss: 1.3097 - val_tp: 5.0000 - val_fp: 8.0000 - val_tn: 19.0000 - val_fn: 10.0000 - val_accuracy: 0.5714 - val_recall: 0.3333 - val_precision: 0.3846 - val_prc: 0.4316\n",
            "Epoch 61/500\n",
            "2/2 [==============================] - 0s 104ms/step - loss: 0.3129 - tp: 38.0000 - fp: 19.0000 - tn: 99.0000 - fn: 9.0000 - accuracy: 0.8303 - recall: 0.8085 - precision: 0.6667 - prc: 0.8613 - val_loss: 1.3188 - val_tp: 5.0000 - val_fp: 8.0000 - val_tn: 19.0000 - val_fn: 10.0000 - val_accuracy: 0.5714 - val_recall: 0.3333 - val_precision: 0.3846 - val_prc: 0.4259\n",
            "Epoch 62/500\n",
            "2/2 [==============================] - 0s 65ms/step - loss: 0.3655 - tp: 40.0000 - fp: 24.0000 - tn: 94.0000 - fn: 7.0000 - accuracy: 0.8121 - recall: 0.8511 - precision: 0.6250 - prc: 0.7859 - val_loss: 1.3280 - val_tp: 5.0000 - val_fp: 9.0000 - val_tn: 18.0000 - val_fn: 10.0000 - val_accuracy: 0.5476 - val_recall: 0.3333 - val_precision: 0.3571 - val_prc: 0.4332\n",
            "Epoch 63/500\n",
            "2/2 [==============================] - 0s 83ms/step - loss: 0.3293 - tp: 37.0000 - fp: 14.0000 - tn: 104.0000 - fn: 10.0000 - accuracy: 0.8545 - recall: 0.7872 - precision: 0.7255 - prc: 0.8651 - val_loss: 1.3418 - val_tp: 4.0000 - val_fp: 9.0000 - val_tn: 18.0000 - val_fn: 11.0000 - val_accuracy: 0.5238 - val_recall: 0.2667 - val_precision: 0.3077 - val_prc: 0.4280\n",
            "Epoch 64/500\n",
            "2/2 [==============================] - 0s 50ms/step - loss: 0.3455 - tp: 38.0000 - fp: 22.0000 - tn: 96.0000 - fn: 9.0000 - accuracy: 0.8121 - recall: 0.8085 - precision: 0.6333 - prc: 0.8114 - val_loss: 1.3561 - val_tp: 4.0000 - val_fp: 9.0000 - val_tn: 18.0000 - val_fn: 11.0000 - val_accuracy: 0.5238 - val_recall: 0.2667 - val_precision: 0.3077 - val_prc: 0.4274\n",
            "Epoch 65/500\n",
            "2/2 [==============================] - 0s 50ms/step - loss: 0.3408 - tp: 38.0000 - fp: 22.0000 - tn: 96.0000 - fn: 9.0000 - accuracy: 0.8121 - recall: 0.8085 - precision: 0.6333 - prc: 0.8394 - val_loss: 1.3732 - val_tp: 4.0000 - val_fp: 9.0000 - val_tn: 18.0000 - val_fn: 11.0000 - val_accuracy: 0.5238 - val_recall: 0.2667 - val_precision: 0.3077 - val_prc: 0.4184\n",
            "Epoch 66/500\n",
            "2/2 [==============================] - 0s 57ms/step - loss: 0.3496 - tp: 37.0000 - fp: 20.0000 - tn: 98.0000 - fn: 10.0000 - accuracy: 0.8182 - recall: 0.7872 - precision: 0.6491 - prc: 0.8134 - val_loss: 1.3893 - val_tp: 4.0000 - val_fp: 8.0000 - val_tn: 19.0000 - val_fn: 11.0000 - val_accuracy: 0.5476 - val_recall: 0.2667 - val_precision: 0.3333 - val_prc: 0.4163\n",
            "Epoch 67/500\n",
            "2/2 [==============================] - 0s 63ms/step - loss: 0.3183 - tp: 43.0000 - fp: 18.0000 - tn: 100.0000 - fn: 4.0000 - accuracy: 0.8667 - recall: 0.9149 - precision: 0.7049 - prc: 0.8572 - val_loss: 1.4081 - val_tp: 4.0000 - val_fp: 8.0000 - val_tn: 19.0000 - val_fn: 11.0000 - val_accuracy: 0.5476 - val_recall: 0.2667 - val_precision: 0.3333 - val_prc: 0.4173\n",
            "Epoch 68/500\n",
            "2/2 [==============================] - 0s 69ms/step - loss: 0.3257 - tp: 41.0000 - fp: 20.0000 - tn: 98.0000 - fn: 6.0000 - accuracy: 0.8424 - recall: 0.8723 - precision: 0.6721 - prc: 0.8082 - val_loss: 1.4269 - val_tp: 4.0000 - val_fp: 9.0000 - val_tn: 18.0000 - val_fn: 11.0000 - val_accuracy: 0.5238 - val_recall: 0.2667 - val_precision: 0.3077 - val_prc: 0.4178\n",
            "Epoch 69/500\n",
            "2/2 [==============================] - 0s 76ms/step - loss: 0.2849 - tp: 40.0000 - fp: 19.0000 - tn: 99.0000 - fn: 7.0000 - accuracy: 0.8424 - recall: 0.8511 - precision: 0.6780 - prc: 0.8892 - val_loss: 1.4443 - val_tp: 4.0000 - val_fp: 10.0000 - val_tn: 17.0000 - val_fn: 11.0000 - val_accuracy: 0.5000 - val_recall: 0.2667 - val_precision: 0.2857 - val_prc: 0.4171\n",
            "Epoch 70/500\n",
            "2/2 [==============================] - 0s 60ms/step - loss: 0.3251 - tp: 38.0000 - fp: 18.0000 - tn: 100.0000 - fn: 9.0000 - accuracy: 0.8364 - recall: 0.8085 - precision: 0.6786 - prc: 0.8571 - val_loss: 1.4615 - val_tp: 4.0000 - val_fp: 10.0000 - val_tn: 17.0000 - val_fn: 11.0000 - val_accuracy: 0.5000 - val_recall: 0.2667 - val_precision: 0.2857 - val_prc: 0.4201\n",
            "Epoch 71/500\n",
            "2/2 [==============================] - 0s 86ms/step - loss: 0.3082 - tp: 44.0000 - fp: 23.0000 - tn: 95.0000 - fn: 3.0000 - accuracy: 0.8424 - recall: 0.9362 - precision: 0.6567 - prc: 0.8440 - val_loss: 1.4758 - val_tp: 4.0000 - val_fp: 10.0000 - val_tn: 17.0000 - val_fn: 11.0000 - val_accuracy: 0.5000 - val_recall: 0.2667 - val_precision: 0.2857 - val_prc: 0.4223\n",
            "Epoch 72/500\n",
            "2/2 [==============================] - 0s 39ms/step - loss: 0.3122 - tp: 41.0000 - fp: 19.0000 - tn: 99.0000 - fn: 6.0000 - accuracy: 0.8485 - recall: 0.8723 - precision: 0.6833 - prc: 0.8501 - val_loss: 1.4888 - val_tp: 5.0000 - val_fp: 10.0000 - val_tn: 17.0000 - val_fn: 10.0000 - val_accuracy: 0.5238 - val_recall: 0.3333 - val_precision: 0.3333 - val_prc: 0.4267\n",
            "Epoch 73/500\n",
            "2/2 [==============================] - 0s 39ms/step - loss: 0.3103 - tp: 44.0000 - fp: 22.0000 - tn: 96.0000 - fn: 3.0000 - accuracy: 0.8485 - recall: 0.9362 - precision: 0.6667 - prc: 0.8540 - val_loss: 1.5025 - val_tp: 5.0000 - val_fp: 10.0000 - val_tn: 17.0000 - val_fn: 10.0000 - val_accuracy: 0.5238 - val_recall: 0.3333 - val_precision: 0.3333 - val_prc: 0.3987\n",
            "Epoch 74/500\n",
            "2/2 [==============================] - 0s 35ms/step - loss: 0.3182 - tp: 43.0000 - fp: 22.0000 - tn: 96.0000 - fn: 4.0000 - accuracy: 0.8424 - recall: 0.9149 - precision: 0.6615 - prc: 0.8735 - val_loss: 1.5186 - val_tp: 5.0000 - val_fp: 10.0000 - val_tn: 17.0000 - val_fn: 10.0000 - val_accuracy: 0.5238 - val_recall: 0.3333 - val_precision: 0.3333 - val_prc: 0.3974\n",
            "Epoch 75/500\n",
            "2/2 [==============================] - 0s 40ms/step - loss: 0.3270 - tp: 41.0000 - fp: 19.0000 - tn: 99.0000 - fn: 6.0000 - accuracy: 0.8485 - recall: 0.8723 - precision: 0.6833 - prc: 0.8082 - val_loss: 1.5331 - val_tp: 5.0000 - val_fp: 10.0000 - val_tn: 17.0000 - val_fn: 10.0000 - val_accuracy: 0.5238 - val_recall: 0.3333 - val_precision: 0.3333 - val_prc: 0.4303\n",
            "Epoch 76/500\n",
            "2/2 [==============================] - 0s 66ms/step - loss: 0.3011 - tp: 42.0000 - fp: 17.0000 - tn: 101.0000 - fn: 5.0000 - accuracy: 0.8667 - recall: 0.8936 - precision: 0.7119 - prc: 0.8546 - val_loss: 1.5475 - val_tp: 5.0000 - val_fp: 9.0000 - val_tn: 18.0000 - val_fn: 10.0000 - val_accuracy: 0.5476 - val_recall: 0.3333 - val_precision: 0.3571 - val_prc: 0.4392\n",
            "Epoch 77/500\n",
            "2/2 [==============================] - 0s 43ms/step - loss: 0.3378 - tp: 41.0000 - fp: 26.0000 - tn: 92.0000 - fn: 6.0000 - accuracy: 0.8061 - recall: 0.8723 - precision: 0.6119 - prc: 0.8349 - val_loss: 1.5611 - val_tp: 5.0000 - val_fp: 9.0000 - val_tn: 18.0000 - val_fn: 10.0000 - val_accuracy: 0.5476 - val_recall: 0.3333 - val_precision: 0.3571 - val_prc: 0.4353\n",
            "Epoch 78/500\n",
            "2/2 [==============================] - 0s 38ms/step - loss: 0.3225 - tp: 38.0000 - fp: 21.0000 - tn: 97.0000 - fn: 9.0000 - accuracy: 0.8182 - recall: 0.8085 - precision: 0.6441 - prc: 0.8374 - val_loss: 1.5737 - val_tp: 5.0000 - val_fp: 9.0000 - val_tn: 18.0000 - val_fn: 10.0000 - val_accuracy: 0.5476 - val_recall: 0.3333 - val_precision: 0.3571 - val_prc: 0.4383\n",
            "Epoch 79/500\n",
            "2/2 [==============================] - 0s 33ms/step - loss: 0.3030 - tp: 39.0000 - fp: 13.0000 - tn: 105.0000 - fn: 8.0000 - accuracy: 0.8727 - recall: 0.8298 - precision: 0.7500 - prc: 0.8643 - val_loss: 1.5838 - val_tp: 5.0000 - val_fp: 9.0000 - val_tn: 18.0000 - val_fn: 10.0000 - val_accuracy: 0.5476 - val_recall: 0.3333 - val_precision: 0.3571 - val_prc: 0.4387\n",
            "Epoch 80/500\n",
            "2/2 [==============================] - 0s 30ms/step - loss: 0.2867 - tp: 45.0000 - fp: 18.0000 - tn: 100.0000 - fn: 2.0000 - accuracy: 0.8788 - recall: 0.9574 - precision: 0.7143 - prc: 0.8790 - val_loss: 1.5957 - val_tp: 5.0000 - val_fp: 9.0000 - val_tn: 18.0000 - val_fn: 10.0000 - val_accuracy: 0.5476 - val_recall: 0.3333 - val_precision: 0.3571 - val_prc: 0.4389\n",
            "Epoch 81/500\n",
            "2/2 [==============================] - 0s 30ms/step - loss: 0.3212 - tp: 40.0000 - fp: 18.0000 - tn: 100.0000 - fn: 7.0000 - accuracy: 0.8485 - recall: 0.8511 - precision: 0.6897 - prc: 0.8468 - val_loss: 1.6093 - val_tp: 5.0000 - val_fp: 8.0000 - val_tn: 19.0000 - val_fn: 10.0000 - val_accuracy: 0.5714 - val_recall: 0.3333 - val_precision: 0.3846 - val_prc: 0.4374\n",
            "Epoch 82/500\n",
            "2/2 [==============================] - 0s 29ms/step - loss: 0.2974 - tp: 39.0000 - fp: 15.0000 - tn: 103.0000 - fn: 8.0000 - accuracy: 0.8606 - recall: 0.8298 - precision: 0.7222 - prc: 0.8658 - val_loss: 1.6228 - val_tp: 5.0000 - val_fp: 9.0000 - val_tn: 18.0000 - val_fn: 10.0000 - val_accuracy: 0.5476 - val_recall: 0.3333 - val_precision: 0.3571 - val_prc: 0.4400\n",
            "Epoch 83/500\n",
            "2/2 [==============================] - 0s 31ms/step - loss: 0.2971 - tp: 42.0000 - fp: 19.0000 - tn: 99.0000 - fn: 5.0000 - accuracy: 0.8545 - recall: 0.8936 - precision: 0.6885 - prc: 0.8736 - val_loss: 1.6387 - val_tp: 5.0000 - val_fp: 8.0000 - val_tn: 19.0000 - val_fn: 10.0000 - val_accuracy: 0.5714 - val_recall: 0.3333 - val_precision: 0.3846 - val_prc: 0.4397\n",
            "Epoch 84/500\n",
            "2/2 [==============================] - 0s 29ms/step - loss: 0.3523 - tp: 38.0000 - fp: 23.0000 - tn: 95.0000 - fn: 9.0000 - accuracy: 0.8061 - recall: 0.8085 - precision: 0.6230 - prc: 0.8242 - val_loss: 1.6555 - val_tp: 5.0000 - val_fp: 8.0000 - val_tn: 19.0000 - val_fn: 10.0000 - val_accuracy: 0.5714 - val_recall: 0.3333 - val_precision: 0.3846 - val_prc: 0.4368\n",
            "Epoch 85/500\n",
            "2/2 [==============================] - 0s 33ms/step - loss: 0.2525 - tp: 45.0000 - fp: 13.0000 - tn: 105.0000 - fn: 2.0000 - accuracy: 0.9091 - recall: 0.9574 - precision: 0.7759 - prc: 0.9197 - val_loss: 1.6733 - val_tp: 5.0000 - val_fp: 9.0000 - val_tn: 18.0000 - val_fn: 10.0000 - val_accuracy: 0.5476 - val_recall: 0.3333 - val_precision: 0.3571 - val_prc: 0.3981\n",
            "Epoch 86/500\n",
            "2/2 [==============================] - 0s 31ms/step - loss: 0.3165 - tp: 41.0000 - fp: 21.0000 - tn: 97.0000 - fn: 6.0000 - accuracy: 0.8364 - recall: 0.8723 - precision: 0.6613 - prc: 0.8307 - val_loss: 1.6895 - val_tp: 5.0000 - val_fp: 10.0000 - val_tn: 17.0000 - val_fn: 10.0000 - val_accuracy: 0.5238 - val_recall: 0.3333 - val_precision: 0.3333 - val_prc: 0.4002\n",
            "Epoch 87/500\n",
            "2/2 [==============================] - 0s 29ms/step - loss: 0.2377 - tp: 43.0000 - fp: 14.0000 - tn: 104.0000 - fn: 4.0000 - accuracy: 0.8909 - recall: 0.9149 - precision: 0.7544 - prc: 0.9396 - val_loss: 1.7042 - val_tp: 5.0000 - val_fp: 10.0000 - val_tn: 17.0000 - val_fn: 10.0000 - val_accuracy: 0.5238 - val_recall: 0.3333 - val_precision: 0.3333 - val_prc: 0.4007\n",
            "Epoch 88/500\n",
            "2/2 [==============================] - 0s 28ms/step - loss: 0.2983 - tp: 41.0000 - fp: 17.0000 - tn: 101.0000 - fn: 6.0000 - accuracy: 0.8606 - recall: 0.8723 - precision: 0.7069 - prc: 0.8608 - val_loss: 1.7199 - val_tp: 5.0000 - val_fp: 10.0000 - val_tn: 17.0000 - val_fn: 10.0000 - val_accuracy: 0.5238 - val_recall: 0.3333 - val_precision: 0.3333 - val_prc: 0.4012\n",
            "Epoch 89/500\n",
            "2/2 [==============================] - 0s 29ms/step - loss: 0.3152 - tp: 41.0000 - fp: 20.0000 - tn: 98.0000 - fn: 6.0000 - accuracy: 0.8424 - recall: 0.8723 - precision: 0.6721 - prc: 0.8393 - val_loss: 1.7334 - val_tp: 5.0000 - val_fp: 10.0000 - val_tn: 17.0000 - val_fn: 10.0000 - val_accuracy: 0.5238 - val_recall: 0.3333 - val_precision: 0.3333 - val_prc: 0.4048\n",
            "Epoch 90/500\n",
            "2/2 [==============================] - 0s 29ms/step - loss: 0.2552 - tp: 45.0000 - fp: 14.0000 - tn: 104.0000 - fn: 2.0000 - accuracy: 0.9030 - recall: 0.9574 - precision: 0.7627 - prc: 0.8801 - val_loss: 1.7475 - val_tp: 5.0000 - val_fp: 10.0000 - val_tn: 17.0000 - val_fn: 10.0000 - val_accuracy: 0.5238 - val_recall: 0.3333 - val_precision: 0.3333 - val_prc: 0.4053\n",
            "Epoch 91/500\n",
            "2/2 [==============================] - 0s 35ms/step - loss: 0.3024 - tp: 43.0000 - fp: 21.0000 - tn: 97.0000 - fn: 4.0000 - accuracy: 0.8485 - recall: 0.9149 - precision: 0.6719 - prc: 0.8337 - val_loss: 1.7637 - val_tp: 5.0000 - val_fp: 10.0000 - val_tn: 17.0000 - val_fn: 10.0000 - val_accuracy: 0.5238 - val_recall: 0.3333 - val_precision: 0.3333 - val_prc: 0.4057\n",
            "Epoch 92/500\n",
            "2/2 [==============================] - 0s 29ms/step - loss: 0.2734 - tp: 43.0000 - fp: 14.0000 - tn: 104.0000 - fn: 4.0000 - accuracy: 0.8909 - recall: 0.9149 - precision: 0.7544 - prc: 0.8878 - val_loss: 1.7803 - val_tp: 5.0000 - val_fp: 10.0000 - val_tn: 17.0000 - val_fn: 10.0000 - val_accuracy: 0.5238 - val_recall: 0.3333 - val_precision: 0.3333 - val_prc: 0.4043\n",
            "Epoch 93/500\n",
            "2/2 [==============================] - 0s 30ms/step - loss: 0.2658 - tp: 43.0000 - fp: 15.0000 - tn: 103.0000 - fn: 4.0000 - accuracy: 0.8848 - recall: 0.9149 - precision: 0.7414 - prc: 0.9073 - val_loss: 1.7951 - val_tp: 5.0000 - val_fp: 10.0000 - val_tn: 17.0000 - val_fn: 10.0000 - val_accuracy: 0.5238 - val_recall: 0.3333 - val_precision: 0.3333 - val_prc: 0.4033\n",
            "Epoch 94/500\n",
            "2/2 [==============================] - 0s 32ms/step - loss: 0.2702 - tp: 43.0000 - fp: 22.0000 - tn: 96.0000 - fn: 4.0000 - accuracy: 0.8424 - recall: 0.9149 - precision: 0.6615 - prc: 0.8994 - val_loss: 1.8099 - val_tp: 5.0000 - val_fp: 10.0000 - val_tn: 17.0000 - val_fn: 10.0000 - val_accuracy: 0.5238 - val_recall: 0.3333 - val_precision: 0.3333 - val_prc: 0.4092\n",
            "Epoch 95/500\n",
            "2/2 [==============================] - 0s 31ms/step - loss: 0.2809 - tp: 44.0000 - fp: 21.0000 - tn: 97.0000 - fn: 3.0000 - accuracy: 0.8545 - recall: 0.9362 - precision: 0.6769 - prc: 0.8701 - val_loss: 1.8253 - val_tp: 5.0000 - val_fp: 9.0000 - val_tn: 18.0000 - val_fn: 10.0000 - val_accuracy: 0.5476 - val_recall: 0.3333 - val_precision: 0.3571 - val_prc: 0.4072\n",
            "Epoch 96/500\n",
            "2/2 [==============================] - 0s 31ms/step - loss: 0.2311 - tp: 46.0000 - fp: 16.0000 - tn: 102.0000 - fn: 1.0000 - accuracy: 0.8970 - recall: 0.9787 - precision: 0.7419 - prc: 0.9259 - val_loss: 1.8418 - val_tp: 5.0000 - val_fp: 9.0000 - val_tn: 18.0000 - val_fn: 10.0000 - val_accuracy: 0.5476 - val_recall: 0.3333 - val_precision: 0.3571 - val_prc: 0.3991\n",
            "Epoch 97/500\n",
            "2/2 [==============================] - 0s 44ms/step - loss: 0.2692 - tp: 41.0000 - fp: 15.0000 - tn: 103.0000 - fn: 6.0000 - accuracy: 0.8727 - recall: 0.8723 - precision: 0.7321 - prc: 0.8952 - val_loss: 1.8562 - val_tp: 5.0000 - val_fp: 8.0000 - val_tn: 19.0000 - val_fn: 10.0000 - val_accuracy: 0.5714 - val_recall: 0.3333 - val_precision: 0.3846 - val_prc: 0.4001\n",
            "Epoch 98/500\n",
            "2/2 [==============================] - 0s 34ms/step - loss: 0.2899 - tp: 42.0000 - fp: 18.0000 - tn: 100.0000 - fn: 5.0000 - accuracy: 0.8606 - recall: 0.8936 - precision: 0.7000 - prc: 0.8556 - val_loss: 1.8667 - val_tp: 5.0000 - val_fp: 9.0000 - val_tn: 18.0000 - val_fn: 10.0000 - val_accuracy: 0.5476 - val_recall: 0.3333 - val_precision: 0.3571 - val_prc: 0.4028\n",
            "Epoch 99/500\n",
            "2/2 [==============================] - 0s 31ms/step - loss: 0.2718 - tp: 42.0000 - fp: 14.0000 - tn: 104.0000 - fn: 5.0000 - accuracy: 0.8848 - recall: 0.8936 - precision: 0.7500 - prc: 0.8897 - val_loss: 1.8764 - val_tp: 5.0000 - val_fp: 9.0000 - val_tn: 18.0000 - val_fn: 10.0000 - val_accuracy: 0.5476 - val_recall: 0.3333 - val_precision: 0.3571 - val_prc: 0.4069\n",
            "Epoch 100/500\n",
            "2/2 [==============================] - 0s 32ms/step - loss: 0.2370 - tp: 44.0000 - fp: 13.0000 - tn: 105.0000 - fn: 3.0000 - accuracy: 0.9030 - recall: 0.9362 - precision: 0.7719 - prc: 0.9258 - val_loss: 1.8861 - val_tp: 5.0000 - val_fp: 9.0000 - val_tn: 18.0000 - val_fn: 10.0000 - val_accuracy: 0.5476 - val_recall: 0.3333 - val_precision: 0.3571 - val_prc: 0.4104\n",
            "Epoch 101/500\n",
            "2/2 [==============================] - 0s 36ms/step - loss: 0.2643 - tp: 41.0000 - fp: 18.0000 - tn: 100.0000 - fn: 6.0000 - accuracy: 0.8545 - recall: 0.8723 - precision: 0.6949 - prc: 0.9063 - val_loss: 1.8942 - val_tp: 5.0000 - val_fp: 8.0000 - val_tn: 19.0000 - val_fn: 10.0000 - val_accuracy: 0.5714 - val_recall: 0.3333 - val_precision: 0.3846 - val_prc: 0.4092\n",
            "Epoch 102/500\n",
            "2/2 [==============================] - 0s 30ms/step - loss: 0.2959 - tp: 39.0000 - fp: 17.0000 - tn: 101.0000 - fn: 8.0000 - accuracy: 0.8485 - recall: 0.8298 - precision: 0.6964 - prc: 0.8622 - val_loss: 1.9026 - val_tp: 5.0000 - val_fp: 8.0000 - val_tn: 19.0000 - val_fn: 10.0000 - val_accuracy: 0.5714 - val_recall: 0.3333 - val_precision: 0.3846 - val_prc: 0.4102\n",
            "Epoch 103/500\n",
            "2/2 [==============================] - 0s 31ms/step - loss: 0.2829 - tp: 43.0000 - fp: 17.0000 - tn: 101.0000 - fn: 4.0000 - accuracy: 0.8727 - recall: 0.9149 - precision: 0.7167 - prc: 0.8573 - val_loss: 1.9098 - val_tp: 5.0000 - val_fp: 8.0000 - val_tn: 19.0000 - val_fn: 10.0000 - val_accuracy: 0.5714 - val_recall: 0.3333 - val_precision: 0.3846 - val_prc: 0.4132\n",
            "Epoch 104/500\n",
            "2/2 [==============================] - 0s 33ms/step - loss: 0.2349 - tp: 42.0000 - fp: 12.0000 - tn: 106.0000 - fn: 5.0000 - accuracy: 0.8970 - recall: 0.8936 - precision: 0.7778 - prc: 0.9202 - val_loss: 1.9145 - val_tp: 5.0000 - val_fp: 8.0000 - val_tn: 19.0000 - val_fn: 10.0000 - val_accuracy: 0.5714 - val_recall: 0.3333 - val_precision: 0.3846 - val_prc: 0.4143\n",
            "Epoch 105/500\n",
            "2/2 [==============================] - 0s 35ms/step - loss: 0.2859 - tp: 41.0000 - fp: 19.0000 - tn: 99.0000 - fn: 6.0000 - accuracy: 0.8485 - recall: 0.8723 - precision: 0.6833 - prc: 0.8744 - val_loss: 1.9175 - val_tp: 5.0000 - val_fp: 8.0000 - val_tn: 19.0000 - val_fn: 10.0000 - val_accuracy: 0.5714 - val_recall: 0.3333 - val_precision: 0.3846 - val_prc: 0.4143\n",
            "Epoch 106/500\n",
            "2/2 [==============================] - 0s 35ms/step - loss: 0.2714 - tp: 44.0000 - fp: 19.0000 - tn: 99.0000 - fn: 3.0000 - accuracy: 0.8667 - recall: 0.9362 - precision: 0.6984 - prc: 0.8711 - val_loss: 1.9184 - val_tp: 5.0000 - val_fp: 8.0000 - val_tn: 19.0000 - val_fn: 10.0000 - val_accuracy: 0.5714 - val_recall: 0.3333 - val_precision: 0.3846 - val_prc: 0.4149\n",
            "Epoch 107/500\n",
            "2/2 [==============================] - 0s 34ms/step - loss: 0.2467 - tp: 43.0000 - fp: 19.0000 - tn: 99.0000 - fn: 4.0000 - accuracy: 0.8606 - recall: 0.9149 - precision: 0.6935 - prc: 0.9076 - val_loss: 1.9216 - val_tp: 5.0000 - val_fp: 7.0000 - val_tn: 20.0000 - val_fn: 10.0000 - val_accuracy: 0.5952 - val_recall: 0.3333 - val_precision: 0.4167 - val_prc: 0.4241\n",
            "Epoch 108/500\n",
            "2/2 [==============================] - 0s 30ms/step - loss: 0.2437 - tp: 45.0000 - fp: 12.0000 - tn: 106.0000 - fn: 2.0000 - accuracy: 0.9152 - recall: 0.9574 - precision: 0.7895 - prc: 0.8972 - val_loss: 1.9255 - val_tp: 5.0000 - val_fp: 7.0000 - val_tn: 20.0000 - val_fn: 10.0000 - val_accuracy: 0.5952 - val_recall: 0.3333 - val_precision: 0.4167 - val_prc: 0.4250\n",
            "Epoch 109/500\n",
            "2/2 [==============================] - 0s 34ms/step - loss: 0.2687 - tp: 41.0000 - fp: 14.0000 - tn: 104.0000 - fn: 6.0000 - accuracy: 0.8788 - recall: 0.8723 - precision: 0.7455 - prc: 0.8862 - val_loss: 1.9324 - val_tp: 5.0000 - val_fp: 7.0000 - val_tn: 20.0000 - val_fn: 10.0000 - val_accuracy: 0.5952 - val_recall: 0.3333 - val_precision: 0.4167 - val_prc: 0.4322\n",
            "Epoch 110/500\n",
            "2/2 [==============================] - 0s 31ms/step - loss: 0.2585 - tp: 44.0000 - fp: 18.0000 - tn: 100.0000 - fn: 3.0000 - accuracy: 0.8727 - recall: 0.9362 - precision: 0.7097 - prc: 0.8886 - val_loss: 1.9366 - val_tp: 5.0000 - val_fp: 7.0000 - val_tn: 20.0000 - val_fn: 10.0000 - val_accuracy: 0.5952 - val_recall: 0.3333 - val_precision: 0.4167 - val_prc: 0.4332\n",
            "Epoch 111/500\n",
            "2/2 [==============================] - 0s 31ms/step - loss: 0.2408 - tp: 43.0000 - fp: 13.0000 - tn: 105.0000 - fn: 4.0000 - accuracy: 0.8970 - recall: 0.9149 - precision: 0.7679 - prc: 0.9118 - val_loss: 1.9405 - val_tp: 5.0000 - val_fp: 7.0000 - val_tn: 20.0000 - val_fn: 10.0000 - val_accuracy: 0.5952 - val_recall: 0.3333 - val_precision: 0.4167 - val_prc: 0.4331\n",
            "Epoch 112/500\n",
            "2/2 [==============================] - 0s 30ms/step - loss: 0.2808 - tp: 42.0000 - fp: 14.0000 - tn: 104.0000 - fn: 5.0000 - accuracy: 0.8848 - recall: 0.8936 - precision: 0.7500 - prc: 0.8799 - val_loss: 1.9469 - val_tp: 5.0000 - val_fp: 7.0000 - val_tn: 20.0000 - val_fn: 10.0000 - val_accuracy: 0.5952 - val_recall: 0.3333 - val_precision: 0.4167 - val_prc: 0.4349\n",
            "Epoch 113/500\n",
            "2/2 [==============================] - 0s 33ms/step - loss: 0.2418 - tp: 42.0000 - fp: 16.0000 - tn: 102.0000 - fn: 5.0000 - accuracy: 0.8727 - recall: 0.8936 - precision: 0.7241 - prc: 0.9178 - val_loss: 1.9592 - val_tp: 5.0000 - val_fp: 7.0000 - val_tn: 20.0000 - val_fn: 10.0000 - val_accuracy: 0.5952 - val_recall: 0.3333 - val_precision: 0.4167 - val_prc: 0.4337\n",
            "Epoch 114/500\n",
            "2/2 [==============================] - 0s 34ms/step - loss: 0.2690 - tp: 38.0000 - fp: 13.0000 - tn: 105.0000 - fn: 9.0000 - accuracy: 0.8667 - recall: 0.8085 - precision: 0.7451 - prc: 0.8978 - val_loss: 1.9720 - val_tp: 5.0000 - val_fp: 7.0000 - val_tn: 20.0000 - val_fn: 10.0000 - val_accuracy: 0.5952 - val_recall: 0.3333 - val_precision: 0.4167 - val_prc: 0.4386\n",
            "Epoch 115/500\n",
            "2/2 [==============================] - 0s 31ms/step - loss: 0.2607 - tp: 43.0000 - fp: 14.0000 - tn: 104.0000 - fn: 4.0000 - accuracy: 0.8909 - recall: 0.9149 - precision: 0.7544 - prc: 0.8938 - val_loss: 1.9889 - val_tp: 5.0000 - val_fp: 7.0000 - val_tn: 20.0000 - val_fn: 10.0000 - val_accuracy: 0.5952 - val_recall: 0.3333 - val_precision: 0.4167 - val_prc: 0.4349\n",
            "Epoch 116/500\n",
            "2/2 [==============================] - 0s 32ms/step - loss: 0.2473 - tp: 43.0000 - fp: 15.0000 - tn: 103.0000 - fn: 4.0000 - accuracy: 0.8848 - recall: 0.9149 - precision: 0.7414 - prc: 0.9104 - val_loss: 2.0068 - val_tp: 5.0000 - val_fp: 6.0000 - val_tn: 21.0000 - val_fn: 10.0000 - val_accuracy: 0.6190 - val_recall: 0.3333 - val_precision: 0.4545 - val_prc: 0.4339\n",
            "Epoch 117/500\n",
            "2/2 [==============================] - 0s 41ms/step - loss: 0.2616 - tp: 38.0000 - fp: 14.0000 - tn: 104.0000 - fn: 9.0000 - accuracy: 0.8606 - recall: 0.8085 - precision: 0.7308 - prc: 0.8915 - val_loss: 2.0206 - val_tp: 5.0000 - val_fp: 6.0000 - val_tn: 21.0000 - val_fn: 10.0000 - val_accuracy: 0.6190 - val_recall: 0.3333 - val_precision: 0.4545 - val_prc: 0.4375\n",
            "Epoch 118/500\n",
            "2/2 [==============================] - 0s 30ms/step - loss: 0.2734 - tp: 45.0000 - fp: 21.0000 - tn: 97.0000 - fn: 2.0000 - accuracy: 0.8606 - recall: 0.9574 - precision: 0.6818 - prc: 0.8823 - val_loss: 2.0395 - val_tp: 5.0000 - val_fp: 6.0000 - val_tn: 21.0000 - val_fn: 10.0000 - val_accuracy: 0.6190 - val_recall: 0.3333 - val_precision: 0.4545 - val_prc: 0.4387\n",
            "Epoch 119/500\n",
            "2/2 [==============================] - 0s 37ms/step - loss: 0.2959 - tp: 41.0000 - fp: 19.0000 - tn: 99.0000 - fn: 6.0000 - accuracy: 0.8485 - recall: 0.8723 - precision: 0.6833 - prc: 0.8487 - val_loss: 2.0546 - val_tp: 5.0000 - val_fp: 6.0000 - val_tn: 21.0000 - val_fn: 10.0000 - val_accuracy: 0.6190 - val_recall: 0.3333 - val_precision: 0.4545 - val_prc: 0.4373\n",
            "Epoch 120/500\n",
            "2/2 [==============================] - 0s 31ms/step - loss: 0.2590 - tp: 43.0000 - fp: 13.0000 - tn: 105.0000 - fn: 4.0000 - accuracy: 0.8970 - recall: 0.9149 - precision: 0.7679 - prc: 0.8834 - val_loss: 2.0659 - val_tp: 5.0000 - val_fp: 6.0000 - val_tn: 21.0000 - val_fn: 10.0000 - val_accuracy: 0.6190 - val_recall: 0.3333 - val_precision: 0.4545 - val_prc: 0.4355\n",
            "Epoch 121/500\n",
            "2/2 [==============================] - 0s 33ms/step - loss: 0.2616 - tp: 43.0000 - fp: 16.0000 - tn: 102.0000 - fn: 4.0000 - accuracy: 0.8788 - recall: 0.9149 - precision: 0.7288 - prc: 0.8924 - val_loss: 2.0755 - val_tp: 5.0000 - val_fp: 6.0000 - val_tn: 21.0000 - val_fn: 10.0000 - val_accuracy: 0.6190 - val_recall: 0.3333 - val_precision: 0.4545 - val_prc: 0.4360\n",
            "Epoch 122/500\n",
            "2/2 [==============================] - 0s 33ms/step - loss: 0.2579 - tp: 45.0000 - fp: 17.0000 - tn: 101.0000 - fn: 2.0000 - accuracy: 0.8848 - recall: 0.9574 - precision: 0.7258 - prc: 0.8962 - val_loss: 2.0846 - val_tp: 5.0000 - val_fp: 6.0000 - val_tn: 21.0000 - val_fn: 10.0000 - val_accuracy: 0.6190 - val_recall: 0.3333 - val_precision: 0.4545 - val_prc: 0.4398\n",
            "Epoch 123/500\n",
            "2/2 [==============================] - 0s 34ms/step - loss: 0.2195 - tp: 44.0000 - fp: 13.0000 - tn: 105.0000 - fn: 3.0000 - accuracy: 0.9030 - recall: 0.9362 - precision: 0.7719 - prc: 0.9256 - val_loss: 2.0936 - val_tp: 5.0000 - val_fp: 6.0000 - val_tn: 21.0000 - val_fn: 10.0000 - val_accuracy: 0.6190 - val_recall: 0.3333 - val_precision: 0.4545 - val_prc: 0.4426\n",
            "Epoch 124/500\n",
            "2/2 [==============================] - 0s 32ms/step - loss: 0.2393 - tp: 44.0000 - fp: 17.0000 - tn: 101.0000 - fn: 3.0000 - accuracy: 0.8788 - recall: 0.9362 - precision: 0.7213 - prc: 0.9170 - val_loss: 2.1031 - val_tp: 5.0000 - val_fp: 6.0000 - val_tn: 21.0000 - val_fn: 10.0000 - val_accuracy: 0.6190 - val_recall: 0.3333 - val_precision: 0.4545 - val_prc: 0.4436\n",
            "Epoch 125/500\n",
            "2/2 [==============================] - 0s 31ms/step - loss: 0.2509 - tp: 46.0000 - fp: 19.0000 - tn: 99.0000 - fn: 1.0000 - accuracy: 0.8788 - recall: 0.9787 - precision: 0.7077 - prc: 0.8855 - val_loss: 2.1124 - val_tp: 5.0000 - val_fp: 6.0000 - val_tn: 21.0000 - val_fn: 10.0000 - val_accuracy: 0.6190 - val_recall: 0.3333 - val_precision: 0.4545 - val_prc: 0.4375\n",
            "Epoch 126/500\n",
            "2/2 [==============================] - 0s 33ms/step - loss: 0.2311 - tp: 42.0000 - fp: 12.0000 - tn: 106.0000 - fn: 5.0000 - accuracy: 0.8970 - recall: 0.8936 - precision: 0.7778 - prc: 0.9336 - val_loss: 2.1224 - val_tp: 5.0000 - val_fp: 6.0000 - val_tn: 21.0000 - val_fn: 10.0000 - val_accuracy: 0.6190 - val_recall: 0.3333 - val_precision: 0.4545 - val_prc: 0.4375\n",
            "Epoch 127/500\n",
            "2/2 [==============================] - 0s 31ms/step - loss: 0.2463 - tp: 45.0000 - fp: 17.0000 - tn: 101.0000 - fn: 2.0000 - accuracy: 0.8848 - recall: 0.9574 - precision: 0.7258 - prc: 0.9022 - val_loss: 2.1314 - val_tp: 5.0000 - val_fp: 6.0000 - val_tn: 21.0000 - val_fn: 10.0000 - val_accuracy: 0.6190 - val_recall: 0.3333 - val_precision: 0.4545 - val_prc: 0.4344\n",
            "Epoch 128/500\n",
            "2/2 [==============================] - 0s 40ms/step - loss: 0.2623 - tp: 42.0000 - fp: 20.0000 - tn: 98.0000 - fn: 5.0000 - accuracy: 0.8485 - recall: 0.8936 - precision: 0.6774 - prc: 0.8904 - val_loss: 2.1432 - val_tp: 5.0000 - val_fp: 6.0000 - val_tn: 21.0000 - val_fn: 10.0000 - val_accuracy: 0.6190 - val_recall: 0.3333 - val_precision: 0.4545 - val_prc: 0.4335\n",
            "Epoch 129/500\n",
            "2/2 [==============================] - 0s 33ms/step - loss: 0.2447 - tp: 41.0000 - fp: 16.0000 - tn: 102.0000 - fn: 6.0000 - accuracy: 0.8667 - recall: 0.8723 - precision: 0.7193 - prc: 0.9084 - val_loss: 2.1572 - val_tp: 5.0000 - val_fp: 6.0000 - val_tn: 21.0000 - val_fn: 10.0000 - val_accuracy: 0.6190 - val_recall: 0.3333 - val_precision: 0.4545 - val_prc: 0.4363\n",
            "Epoch 130/500\n",
            "2/2 [==============================] - 0s 31ms/step - loss: 0.2211 - tp: 44.0000 - fp: 15.0000 - tn: 103.0000 - fn: 3.0000 - accuracy: 0.8909 - recall: 0.9362 - precision: 0.7458 - prc: 0.9291 - val_loss: 2.1723 - val_tp: 5.0000 - val_fp: 6.0000 - val_tn: 21.0000 - val_fn: 10.0000 - val_accuracy: 0.6190 - val_recall: 0.3333 - val_precision: 0.4545 - val_prc: 0.4382\n",
            "Epoch 131/500\n",
            "2/2 [==============================] - 0s 34ms/step - loss: 0.2273 - tp: 47.0000 - fp: 19.0000 - tn: 99.0000 - fn: 0.0000e+00 - accuracy: 0.8848 - recall: 1.0000 - precision: 0.7121 - prc: 0.9128 - val_loss: 2.1928 - val_tp: 5.0000 - val_fp: 6.0000 - val_tn: 21.0000 - val_fn: 10.0000 - val_accuracy: 0.6190 - val_recall: 0.3333 - val_precision: 0.4545 - val_prc: 0.4344\n",
            "Epoch 132/500\n",
            "2/2 [==============================] - 0s 35ms/step - loss: 0.2202 - tp: 39.0000 - fp: 9.0000 - tn: 109.0000 - fn: 8.0000 - accuracy: 0.8970 - recall: 0.8298 - precision: 0.8125 - prc: 0.9266 - val_loss: 2.2111 - val_tp: 5.0000 - val_fp: 6.0000 - val_tn: 21.0000 - val_fn: 10.0000 - val_accuracy: 0.6190 - val_recall: 0.3333 - val_precision: 0.4545 - val_prc: 0.4363\n",
            "Epoch 133/500\n",
            "2/2 [==============================] - 0s 33ms/step - loss: 0.2245 - tp: 45.0000 - fp: 12.0000 - tn: 106.0000 - fn: 2.0000 - accuracy: 0.9152 - recall: 0.9574 - precision: 0.7895 - prc: 0.9170 - val_loss: 2.2267 - val_tp: 5.0000 - val_fp: 6.0000 - val_tn: 21.0000 - val_fn: 10.0000 - val_accuracy: 0.6190 - val_recall: 0.3333 - val_precision: 0.4545 - val_prc: 0.4358\n",
            "Epoch 134/500\n",
            "2/2 [==============================] - 0s 36ms/step - loss: 0.2061 - tp: 46.0000 - fp: 17.0000 - tn: 101.0000 - fn: 1.0000 - accuracy: 0.8909 - recall: 0.9787 - precision: 0.7302 - prc: 0.9472 - val_loss: 2.2386 - val_tp: 5.0000 - val_fp: 6.0000 - val_tn: 21.0000 - val_fn: 10.0000 - val_accuracy: 0.6190 - val_recall: 0.3333 - val_precision: 0.4545 - val_prc: 0.4363\n",
            "Epoch 135/500\n",
            "2/2 [==============================] - 0s 41ms/step - loss: 0.2568 - tp: 44.0000 - fp: 14.0000 - tn: 104.0000 - fn: 3.0000 - accuracy: 0.8970 - recall: 0.9362 - precision: 0.7586 - prc: 0.8926 - val_loss: 2.2505 - val_tp: 5.0000 - val_fp: 7.0000 - val_tn: 20.0000 - val_fn: 10.0000 - val_accuracy: 0.5952 - val_recall: 0.3333 - val_precision: 0.4167 - val_prc: 0.4349\n",
            "Epoch 136/500\n",
            "2/2 [==============================] - 0s 33ms/step - loss: 0.2353 - tp: 43.0000 - fp: 14.0000 - tn: 104.0000 - fn: 4.0000 - accuracy: 0.8909 - recall: 0.9149 - precision: 0.7544 - prc: 0.9192 - val_loss: 2.2632 - val_tp: 5.0000 - val_fp: 7.0000 - val_tn: 20.0000 - val_fn: 10.0000 - val_accuracy: 0.5952 - val_recall: 0.3333 - val_precision: 0.4167 - val_prc: 0.4354\n",
            "Epoch 137/500\n",
            "2/2 [==============================] - 0s 47ms/step - loss: 0.2333 - tp: 43.0000 - fp: 17.0000 - tn: 101.0000 - fn: 4.0000 - accuracy: 0.8727 - recall: 0.9149 - precision: 0.7167 - prc: 0.8961 - val_loss: 2.2760 - val_tp: 5.0000 - val_fp: 7.0000 - val_tn: 20.0000 - val_fn: 10.0000 - val_accuracy: 0.5952 - val_recall: 0.3333 - val_precision: 0.4167 - val_prc: 0.4354\n",
            "Epoch 138/500\n",
            "2/2 [==============================] - 0s 42ms/step - loss: 0.2556 - tp: 41.0000 - fp: 12.0000 - tn: 106.0000 - fn: 6.0000 - accuracy: 0.8909 - recall: 0.8723 - precision: 0.7736 - prc: 0.8837 - val_loss: 2.2888 - val_tp: 5.0000 - val_fp: 7.0000 - val_tn: 20.0000 - val_fn: 10.0000 - val_accuracy: 0.5952 - val_recall: 0.3333 - val_precision: 0.4167 - val_prc: 0.4358\n",
            "Epoch 139/500\n",
            "2/2 [==============================] - 0s 33ms/step - loss: 0.2283 - tp: 44.0000 - fp: 16.0000 - tn: 102.0000 - fn: 3.0000 - accuracy: 0.8848 - recall: 0.9362 - precision: 0.7333 - prc: 0.9191 - val_loss: 2.3018 - val_tp: 5.0000 - val_fp: 7.0000 - val_tn: 20.0000 - val_fn: 10.0000 - val_accuracy: 0.5952 - val_recall: 0.3333 - val_precision: 0.4167 - val_prc: 0.4368\n",
            "Epoch 140/500\n",
            "2/2 [==============================] - 0s 35ms/step - loss: 0.2093 - tp: 45.0000 - fp: 17.0000 - tn: 101.0000 - fn: 2.0000 - accuracy: 0.8848 - recall: 0.9574 - precision: 0.7258 - prc: 0.9611 - val_loss: 2.3130 - val_tp: 5.0000 - val_fp: 7.0000 - val_tn: 20.0000 - val_fn: 10.0000 - val_accuracy: 0.5952 - val_recall: 0.3333 - val_precision: 0.4167 - val_prc: 0.4368\n",
            "Epoch 141/500\n",
            "2/2 [==============================] - 0s 43ms/step - loss: 0.2657 - tp: 44.0000 - fp: 14.0000 - tn: 104.0000 - fn: 3.0000 - accuracy: 0.8970 - recall: 0.9362 - precision: 0.7586 - prc: 0.8660 - val_loss: 2.3240 - val_tp: 5.0000 - val_fp: 8.0000 - val_tn: 19.0000 - val_fn: 10.0000 - val_accuracy: 0.5714 - val_recall: 0.3333 - val_precision: 0.3846 - val_prc: 0.4353\n",
            "Epoch 142/500\n",
            "2/2 [==============================] - 0s 35ms/step - loss: 0.2200 - tp: 45.0000 - fp: 13.0000 - tn: 105.0000 - fn: 2.0000 - accuracy: 0.9091 - recall: 0.9574 - precision: 0.7759 - prc: 0.9168 - val_loss: 2.3334 - val_tp: 5.0000 - val_fp: 8.0000 - val_tn: 19.0000 - val_fn: 10.0000 - val_accuracy: 0.5714 - val_recall: 0.3333 - val_precision: 0.3846 - val_prc: 0.4339\n",
            "Epoch 143/500\n",
            "2/2 [==============================] - 0s 34ms/step - loss: 0.2271 - tp: 46.0000 - fp: 19.0000 - tn: 99.0000 - fn: 1.0000 - accuracy: 0.8788 - recall: 0.9787 - precision: 0.7077 - prc: 0.9157 - val_loss: 2.3423 - val_tp: 5.0000 - val_fp: 8.0000 - val_tn: 19.0000 - val_fn: 10.0000 - val_accuracy: 0.5714 - val_recall: 0.3333 - val_precision: 0.3846 - val_prc: 0.4346\n",
            "Epoch 144/500\n",
            "2/2 [==============================] - 0s 33ms/step - loss: 0.2837 - tp: 41.0000 - fp: 18.0000 - tn: 100.0000 - fn: 6.0000 - accuracy: 0.8545 - recall: 0.8723 - precision: 0.6949 - prc: 0.8647 - val_loss: 2.3544 - val_tp: 5.0000 - val_fp: 8.0000 - val_tn: 19.0000 - val_fn: 10.0000 - val_accuracy: 0.5714 - val_recall: 0.3333 - val_precision: 0.3846 - val_prc: 0.4343\n",
            "Epoch 145/500\n",
            "2/2 [==============================] - 0s 31ms/step - loss: 0.2403 - tp: 45.0000 - fp: 17.0000 - tn: 101.0000 - fn: 2.0000 - accuracy: 0.8848 - recall: 0.9574 - precision: 0.7258 - prc: 0.9012 - val_loss: 2.3666 - val_tp: 5.0000 - val_fp: 8.0000 - val_tn: 19.0000 - val_fn: 10.0000 - val_accuracy: 0.5714 - val_recall: 0.3333 - val_precision: 0.3846 - val_prc: 0.4324\n",
            "Epoch 146/500\n",
            "2/2 [==============================] - 0s 32ms/step - loss: 0.2449 - tp: 42.0000 - fp: 18.0000 - tn: 100.0000 - fn: 5.0000 - accuracy: 0.8606 - recall: 0.8936 - precision: 0.7000 - prc: 0.9031 - val_loss: 2.3782 - val_tp: 5.0000 - val_fp: 7.0000 - val_tn: 20.0000 - val_fn: 10.0000 - val_accuracy: 0.5952 - val_recall: 0.3333 - val_precision: 0.4167 - val_prc: 0.4315\n",
            "Epoch 147/500\n",
            "2/2 [==============================] - 0s 33ms/step - loss: 0.2370 - tp: 41.0000 - fp: 12.0000 - tn: 106.0000 - fn: 6.0000 - accuracy: 0.8909 - recall: 0.8723 - precision: 0.7736 - prc: 0.9140 - val_loss: 2.3903 - val_tp: 5.0000 - val_fp: 7.0000 - val_tn: 20.0000 - val_fn: 10.0000 - val_accuracy: 0.5952 - val_recall: 0.3333 - val_precision: 0.4167 - val_prc: 0.4315\n",
            "Epoch 148/500\n",
            "2/2 [==============================] - 0s 37ms/step - loss: 0.2362 - tp: 45.0000 - fp: 16.0000 - tn: 102.0000 - fn: 2.0000 - accuracy: 0.8909 - recall: 0.9574 - precision: 0.7377 - prc: 0.8979 - val_loss: 2.4012 - val_tp: 5.0000 - val_fp: 7.0000 - val_tn: 20.0000 - val_fn: 10.0000 - val_accuracy: 0.5952 - val_recall: 0.3333 - val_precision: 0.4167 - val_prc: 0.4325\n",
            "Epoch 149/500\n",
            "2/2 [==============================] - 0s 31ms/step - loss: 0.2490 - tp: 40.0000 - fp: 18.0000 - tn: 100.0000 - fn: 7.0000 - accuracy: 0.8485 - recall: 0.8511 - precision: 0.6897 - prc: 0.9058 - val_loss: 2.4104 - val_tp: 5.0000 - val_fp: 7.0000 - val_tn: 20.0000 - val_fn: 10.0000 - val_accuracy: 0.5952 - val_recall: 0.3333 - val_precision: 0.4167 - val_prc: 0.4325\n",
            "Epoch 150/500\n",
            "2/2 [==============================] - 0s 36ms/step - loss: 0.2396 - tp: 40.0000 - fp: 11.0000 - tn: 107.0000 - fn: 7.0000 - accuracy: 0.8909 - recall: 0.8511 - precision: 0.7843 - prc: 0.9070 - val_loss: 2.4235 - val_tp: 5.0000 - val_fp: 7.0000 - val_tn: 20.0000 - val_fn: 10.0000 - val_accuracy: 0.5952 - val_recall: 0.3333 - val_precision: 0.4167 - val_prc: 0.4332\n",
            "Epoch 151/500\n",
            "2/2 [==============================] - 0s 34ms/step - loss: 0.2149 - tp: 42.0000 - fp: 12.0000 - tn: 106.0000 - fn: 5.0000 - accuracy: 0.8970 - recall: 0.8936 - precision: 0.7778 - prc: 0.9245 - val_loss: 2.4342 - val_tp: 5.0000 - val_fp: 7.0000 - val_tn: 20.0000 - val_fn: 10.0000 - val_accuracy: 0.5952 - val_recall: 0.3333 - val_precision: 0.4167 - val_prc: 0.4321\n",
            "Epoch 152/500\n",
            "2/2 [==============================] - 0s 31ms/step - loss: 0.2473 - tp: 43.0000 - fp: 16.0000 - tn: 102.0000 - fn: 4.0000 - accuracy: 0.8788 - recall: 0.9149 - precision: 0.7288 - prc: 0.8870 - val_loss: 2.4418 - val_tp: 5.0000 - val_fp: 7.0000 - val_tn: 20.0000 - val_fn: 10.0000 - val_accuracy: 0.5952 - val_recall: 0.3333 - val_precision: 0.4167 - val_prc: 0.4321\n",
            "Epoch 153/500\n",
            "2/2 [==============================] - 0s 32ms/step - loss: 0.2352 - tp: 46.0000 - fp: 16.0000 - tn: 102.0000 - fn: 1.0000 - accuracy: 0.8970 - recall: 0.9787 - precision: 0.7419 - prc: 0.8954 - val_loss: 2.4481 - val_tp: 5.0000 - val_fp: 7.0000 - val_tn: 20.0000 - val_fn: 10.0000 - val_accuracy: 0.5952 - val_recall: 0.3333 - val_precision: 0.4167 - val_prc: 0.4321\n",
            "Epoch 154/500\n",
            "2/2 [==============================] - 0s 38ms/step - loss: 0.2117 - tp: 45.0000 - fp: 15.0000 - tn: 103.0000 - fn: 2.0000 - accuracy: 0.8970 - recall: 0.9574 - precision: 0.7500 - prc: 0.9250 - val_loss: 2.4555 - val_tp: 5.0000 - val_fp: 7.0000 - val_tn: 20.0000 - val_fn: 10.0000 - val_accuracy: 0.5952 - val_recall: 0.3333 - val_precision: 0.4167 - val_prc: 0.4365\n",
            "Epoch 155/500\n",
            "2/2 [==============================] - 0s 37ms/step - loss: 0.2145 - tp: 44.0000 - fp: 17.0000 - tn: 101.0000 - fn: 3.0000 - accuracy: 0.8788 - recall: 0.9362 - precision: 0.7213 - prc: 0.9364 - val_loss: 2.4656 - val_tp: 5.0000 - val_fp: 7.0000 - val_tn: 20.0000 - val_fn: 10.0000 - val_accuracy: 0.5952 - val_recall: 0.3333 - val_precision: 0.4167 - val_prc: 0.4334\n",
            "Epoch 156/500\n",
            "2/2 [==============================] - 0s 51ms/step - loss: 0.2076 - tp: 42.0000 - fp: 12.0000 - tn: 106.0000 - fn: 5.0000 - accuracy: 0.8970 - recall: 0.8936 - precision: 0.7778 - prc: 0.9368 - val_loss: 2.4753 - val_tp: 5.0000 - val_fp: 7.0000 - val_tn: 20.0000 - val_fn: 10.0000 - val_accuracy: 0.5952 - val_recall: 0.3333 - val_precision: 0.4167 - val_prc: 0.4330\n",
            "Epoch 157/500\n",
            "2/2 [==============================] - 0s 40ms/step - loss: 0.2587 - tp: 42.0000 - fp: 20.0000 - tn: 98.0000 - fn: 5.0000 - accuracy: 0.8485 - recall: 0.8936 - precision: 0.6774 - prc: 0.8908 - val_loss: 2.4877 - val_tp: 5.0000 - val_fp: 7.0000 - val_tn: 20.0000 - val_fn: 10.0000 - val_accuracy: 0.5952 - val_recall: 0.3333 - val_precision: 0.4167 - val_prc: 0.4344\n",
            "Epoch 158/500\n",
            "2/2 [==============================] - 0s 35ms/step - loss: 0.2331 - tp: 44.0000 - fp: 17.0000 - tn: 101.0000 - fn: 3.0000 - accuracy: 0.8788 - recall: 0.9362 - precision: 0.7213 - prc: 0.9104 - val_loss: 2.4987 - val_tp: 5.0000 - val_fp: 7.0000 - val_tn: 20.0000 - val_fn: 10.0000 - val_accuracy: 0.5952 - val_recall: 0.3333 - val_precision: 0.4167 - val_prc: 0.4355\n",
            "Epoch 159/500\n",
            "2/2 [==============================] - 0s 46ms/step - loss: 0.2426 - tp: 41.0000 - fp: 15.0000 - tn: 103.0000 - fn: 6.0000 - accuracy: 0.8727 - recall: 0.8723 - precision: 0.7321 - prc: 0.9113 - val_loss: 2.5078 - val_tp: 5.0000 - val_fp: 7.0000 - val_tn: 20.0000 - val_fn: 10.0000 - val_accuracy: 0.5952 - val_recall: 0.3333 - val_precision: 0.4167 - val_prc: 0.4356\n",
            "Epoch 160/500\n",
            "2/2 [==============================] - 0s 69ms/step - loss: 0.2107 - tp: 45.0000 - fp: 15.0000 - tn: 103.0000 - fn: 2.0000 - accuracy: 0.8970 - recall: 0.9574 - precision: 0.7500 - prc: 0.9311 - val_loss: 2.5159 - val_tp: 5.0000 - val_fp: 7.0000 - val_tn: 20.0000 - val_fn: 10.0000 - val_accuracy: 0.5952 - val_recall: 0.3333 - val_precision: 0.4167 - val_prc: 0.4347\n",
            "Epoch 161/500\n",
            "2/2 [==============================] - 0s 199ms/step - loss: 0.1935 - tp: 45.0000 - fp: 14.0000 - tn: 104.0000 - fn: 2.0000 - accuracy: 0.9030 - recall: 0.9574 - precision: 0.7627 - prc: 0.9512 - val_loss: 2.5233 - val_tp: 5.0000 - val_fp: 7.0000 - val_tn: 20.0000 - val_fn: 10.0000 - val_accuracy: 0.5952 - val_recall: 0.3333 - val_precision: 0.4167 - val_prc: 0.4370\n",
            "Epoch 162/500\n",
            "2/2 [==============================] - 0s 74ms/step - loss: 0.2184 - tp: 45.0000 - fp: 11.0000 - tn: 107.0000 - fn: 2.0000 - accuracy: 0.9212 - recall: 0.9574 - precision: 0.8036 - prc: 0.9215 - val_loss: 2.5315 - val_tp: 5.0000 - val_fp: 7.0000 - val_tn: 20.0000 - val_fn: 10.0000 - val_accuracy: 0.5952 - val_recall: 0.3333 - val_precision: 0.4167 - val_prc: 0.4347\n",
            "Epoch 163/500\n",
            "2/2 [==============================] - 0s 71ms/step - loss: 0.1809 - tp: 44.0000 - fp: 14.0000 - tn: 104.0000 - fn: 3.0000 - accuracy: 0.8970 - recall: 0.9362 - precision: 0.7586 - prc: 0.9615 - val_loss: 2.5390 - val_tp: 5.0000 - val_fp: 7.0000 - val_tn: 20.0000 - val_fn: 10.0000 - val_accuracy: 0.5952 - val_recall: 0.3333 - val_precision: 0.4167 - val_prc: 0.4370\n",
            "Epoch 164/500\n",
            "2/2 [==============================] - 0s 53ms/step - loss: 0.2246 - tp: 45.0000 - fp: 11.0000 - tn: 107.0000 - fn: 2.0000 - accuracy: 0.9212 - recall: 0.9574 - precision: 0.8036 - prc: 0.9127 - val_loss: 2.5501 - val_tp: 5.0000 - val_fp: 7.0000 - val_tn: 20.0000 - val_fn: 10.0000 - val_accuracy: 0.5952 - val_recall: 0.3333 - val_precision: 0.4167 - val_prc: 0.4328\n",
            "Epoch 165/500\n",
            "2/2 [==============================] - 0s 60ms/step - loss: 0.2001 - tp: 45.0000 - fp: 12.0000 - tn: 106.0000 - fn: 2.0000 - accuracy: 0.9152 - recall: 0.9574 - precision: 0.7895 - prc: 0.9427 - val_loss: 2.5608 - val_tp: 5.0000 - val_fp: 7.0000 - val_tn: 20.0000 - val_fn: 10.0000 - val_accuracy: 0.5952 - val_recall: 0.3333 - val_precision: 0.4167 - val_prc: 0.4321\n",
            "Epoch 166/500\n",
            "2/2 [==============================] - 0s 66ms/step - loss: 0.2359 - tp: 43.0000 - fp: 15.0000 - tn: 103.0000 - fn: 4.0000 - accuracy: 0.8848 - recall: 0.9149 - precision: 0.7414 - prc: 0.9035 - val_loss: 2.5716 - val_tp: 5.0000 - val_fp: 7.0000 - val_tn: 20.0000 - val_fn: 10.0000 - val_accuracy: 0.5952 - val_recall: 0.3333 - val_precision: 0.4167 - val_prc: 0.4296\n",
            "Epoch 167/500\n",
            "2/2 [==============================] - 0s 127ms/step - loss: 0.2130 - tp: 45.0000 - fp: 14.0000 - tn: 104.0000 - fn: 2.0000 - accuracy: 0.9030 - recall: 0.9574 - precision: 0.7627 - prc: 0.9401 - val_loss: 2.5834 - val_tp: 5.0000 - val_fp: 7.0000 - val_tn: 20.0000 - val_fn: 10.0000 - val_accuracy: 0.5952 - val_recall: 0.3333 - val_precision: 0.4167 - val_prc: 0.4315\n",
            "Epoch 168/500\n",
            "2/2 [==============================] - 0s 72ms/step - loss: 0.2257 - tp: 43.0000 - fp: 12.0000 - tn: 106.0000 - fn: 4.0000 - accuracy: 0.9030 - recall: 0.9149 - precision: 0.7818 - prc: 0.9138 - val_loss: 2.5958 - val_tp: 5.0000 - val_fp: 7.0000 - val_tn: 20.0000 - val_fn: 10.0000 - val_accuracy: 0.5952 - val_recall: 0.3333 - val_precision: 0.4167 - val_prc: 0.4315\n",
            "Epoch 169/500\n",
            "2/2 [==============================] - 0s 59ms/step - loss: 0.2242 - tp: 43.0000 - fp: 12.0000 - tn: 106.0000 - fn: 4.0000 - accuracy: 0.9030 - recall: 0.9149 - precision: 0.7818 - prc: 0.9148 - val_loss: 2.6124 - val_tp: 5.0000 - val_fp: 7.0000 - val_tn: 20.0000 - val_fn: 10.0000 - val_accuracy: 0.5952 - val_recall: 0.3333 - val_precision: 0.4167 - val_prc: 0.4200\n",
            "Epoch 170/500\n",
            "2/2 [==============================] - 0s 58ms/step - loss: 0.1923 - tp: 45.0000 - fp: 11.0000 - tn: 107.0000 - fn: 2.0000 - accuracy: 0.9212 - recall: 0.9574 - precision: 0.8036 - prc: 0.9346 - val_loss: 2.6313 - val_tp: 5.0000 - val_fp: 6.0000 - val_tn: 21.0000 - val_fn: 10.0000 - val_accuracy: 0.6190 - val_recall: 0.3333 - val_precision: 0.4545 - val_prc: 0.4146\n",
            "Epoch 171/500\n",
            "2/2 [==============================] - 0s 42ms/step - loss: 0.2133 - tp: 43.0000 - fp: 11.0000 - tn: 107.0000 - fn: 4.0000 - accuracy: 0.9091 - recall: 0.9149 - precision: 0.7963 - prc: 0.9373 - val_loss: 2.6508 - val_tp: 5.0000 - val_fp: 6.0000 - val_tn: 21.0000 - val_fn: 10.0000 - val_accuracy: 0.6190 - val_recall: 0.3333 - val_precision: 0.4545 - val_prc: 0.4138\n",
            "Epoch 172/500\n",
            "2/2 [==============================] - 0s 44ms/step - loss: 0.2448 - tp: 43.0000 - fp: 13.0000 - tn: 105.0000 - fn: 4.0000 - accuracy: 0.8970 - recall: 0.9149 - precision: 0.7679 - prc: 0.9048 - val_loss: 2.6681 - val_tp: 5.0000 - val_fp: 6.0000 - val_tn: 21.0000 - val_fn: 10.0000 - val_accuracy: 0.6190 - val_recall: 0.3333 - val_precision: 0.4545 - val_prc: 0.4171\n",
            "Epoch 173/500\n",
            "2/2 [==============================] - 0s 46ms/step - loss: 0.2047 - tp: 45.0000 - fp: 13.0000 - tn: 105.0000 - fn: 2.0000 - accuracy: 0.9091 - recall: 0.9574 - precision: 0.7759 - prc: 0.9423 - val_loss: 2.6859 - val_tp: 5.0000 - val_fp: 6.0000 - val_tn: 21.0000 - val_fn: 10.0000 - val_accuracy: 0.6190 - val_recall: 0.3333 - val_precision: 0.4545 - val_prc: 0.4177\n",
            "Epoch 174/500\n",
            "2/2 [==============================] - 0s 43ms/step - loss: 0.1818 - tp: 46.0000 - fp: 10.0000 - tn: 108.0000 - fn: 1.0000 - accuracy: 0.9333 - recall: 0.9787 - precision: 0.8214 - prc: 0.9557 - val_loss: 2.7058 - val_tp: 5.0000 - val_fp: 6.0000 - val_tn: 21.0000 - val_fn: 10.0000 - val_accuracy: 0.6190 - val_recall: 0.3333 - val_precision: 0.4545 - val_prc: 0.4209\n",
            "Epoch 175/500\n",
            "2/2 [==============================] - 0s 47ms/step - loss: 0.2110 - tp: 44.0000 - fp: 13.0000 - tn: 105.0000 - fn: 3.0000 - accuracy: 0.9030 - recall: 0.9362 - precision: 0.7719 - prc: 0.9138 - val_loss: 2.7240 - val_tp: 6.0000 - val_fp: 6.0000 - val_tn: 21.0000 - val_fn: 9.0000 - val_accuracy: 0.6429 - val_recall: 0.4000 - val_precision: 0.5000 - val_prc: 0.4203\n",
            "Epoch 176/500\n",
            "2/2 [==============================] - 0s 42ms/step - loss: 0.2120 - tp: 44.0000 - fp: 11.0000 - tn: 107.0000 - fn: 3.0000 - accuracy: 0.9152 - recall: 0.9362 - precision: 0.8000 - prc: 0.9198 - val_loss: 2.7432 - val_tp: 6.0000 - val_fp: 7.0000 - val_tn: 20.0000 - val_fn: 9.0000 - val_accuracy: 0.6190 - val_recall: 0.4000 - val_precision: 0.4615 - val_prc: 0.4154\n",
            "Epoch 177/500\n",
            "2/2 [==============================] - 0s 94ms/step - loss: 0.2948 - tp: 37.0000 - fp: 20.0000 - tn: 98.0000 - fn: 10.0000 - accuracy: 0.8182 - recall: 0.7872 - precision: 0.6491 - prc: 0.8626 - val_loss: 2.7569 - val_tp: 6.0000 - val_fp: 7.0000 - val_tn: 20.0000 - val_fn: 9.0000 - val_accuracy: 0.6190 - val_recall: 0.4000 - val_precision: 0.4615 - val_prc: 0.4189\n",
            "Epoch 178/500\n",
            "2/2 [==============================] - 0s 59ms/step - loss: 0.2220 - tp: 44.0000 - fp: 14.0000 - tn: 104.0000 - fn: 3.0000 - accuracy: 0.8970 - recall: 0.9362 - precision: 0.7586 - prc: 0.9117 - val_loss: 2.7627 - val_tp: 6.0000 - val_fp: 7.0000 - val_tn: 20.0000 - val_fn: 9.0000 - val_accuracy: 0.6190 - val_recall: 0.4000 - val_precision: 0.4615 - val_prc: 0.4227\n",
            "Epoch 179/500\n",
            "2/2 [==============================] - 0s 68ms/step - loss: 0.2294 - tp: 43.0000 - fp: 15.0000 - tn: 103.0000 - fn: 4.0000 - accuracy: 0.8848 - recall: 0.9149 - precision: 0.7414 - prc: 0.9130 - val_loss: 2.7657 - val_tp: 6.0000 - val_fp: 7.0000 - val_tn: 20.0000 - val_fn: 9.0000 - val_accuracy: 0.6190 - val_recall: 0.4000 - val_precision: 0.4615 - val_prc: 0.4205\n",
            "Epoch 180/500\n",
            "2/2 [==============================] - 0s 68ms/step - loss: 0.2306 - tp: 40.0000 - fp: 11.0000 - tn: 107.0000 - fn: 7.0000 - accuracy: 0.8909 - recall: 0.8511 - precision: 0.7843 - prc: 0.9134 - val_loss: 2.7671 - val_tp: 6.0000 - val_fp: 7.0000 - val_tn: 20.0000 - val_fn: 9.0000 - val_accuracy: 0.6190 - val_recall: 0.4000 - val_precision: 0.4615 - val_prc: 0.4239\n",
            "Epoch 181/500\n",
            "2/2 [==============================] - 0s 63ms/step - loss: 0.2177 - tp: 43.0000 - fp: 13.0000 - tn: 105.0000 - fn: 4.0000 - accuracy: 0.8970 - recall: 0.9149 - precision: 0.7679 - prc: 0.9271 - val_loss: 2.7677 - val_tp: 6.0000 - val_fp: 7.0000 - val_tn: 20.0000 - val_fn: 9.0000 - val_accuracy: 0.6190 - val_recall: 0.4000 - val_precision: 0.4615 - val_prc: 0.4367\n",
            "Epoch 182/500\n",
            "2/2 [==============================] - 0s 58ms/step - loss: 0.2396 - tp: 40.0000 - fp: 10.0000 - tn: 108.0000 - fn: 7.0000 - accuracy: 0.8970 - recall: 0.8511 - precision: 0.8000 - prc: 0.9028 - val_loss: 2.7706 - val_tp: 6.0000 - val_fp: 7.0000 - val_tn: 20.0000 - val_fn: 9.0000 - val_accuracy: 0.6190 - val_recall: 0.4000 - val_precision: 0.4615 - val_prc: 0.4318\n",
            "Epoch 183/500\n",
            "2/2 [==============================] - 0s 91ms/step - loss: 0.2606 - tp: 42.0000 - fp: 14.0000 - tn: 104.0000 - fn: 5.0000 - accuracy: 0.8848 - recall: 0.8936 - precision: 0.7500 - prc: 0.8931 - val_loss: 2.7694 - val_tp: 6.0000 - val_fp: 6.0000 - val_tn: 21.0000 - val_fn: 9.0000 - val_accuracy: 0.6429 - val_recall: 0.4000 - val_precision: 0.5000 - val_prc: 0.4385\n",
            "Epoch 184/500\n",
            "2/2 [==============================] - 0s 70ms/step - loss: 0.2340 - tp: 43.0000 - fp: 14.0000 - tn: 104.0000 - fn: 4.0000 - accuracy: 0.8909 - recall: 0.9149 - precision: 0.7544 - prc: 0.8892 - val_loss: 2.7653 - val_tp: 6.0000 - val_fp: 6.0000 - val_tn: 21.0000 - val_fn: 9.0000 - val_accuracy: 0.6429 - val_recall: 0.4000 - val_precision: 0.5000 - val_prc: 0.4369\n",
            "Epoch 185/500\n",
            "2/2 [==============================] - 0s 111ms/step - loss: 0.2084 - tp: 42.0000 - fp: 12.0000 - tn: 106.0000 - fn: 5.0000 - accuracy: 0.8970 - recall: 0.8936 - precision: 0.7778 - prc: 0.9446 - val_loss: 2.7636 - val_tp: 6.0000 - val_fp: 6.0000 - val_tn: 21.0000 - val_fn: 9.0000 - val_accuracy: 0.6429 - val_recall: 0.4000 - val_precision: 0.5000 - val_prc: 0.4352\n",
            "Epoch 186/500\n",
            "2/2 [==============================] - 0s 113ms/step - loss: 0.2080 - tp: 44.0000 - fp: 14.0000 - tn: 104.0000 - fn: 3.0000 - accuracy: 0.8970 - recall: 0.9362 - precision: 0.7586 - prc: 0.9241 - val_loss: 2.7633 - val_tp: 6.0000 - val_fp: 6.0000 - val_tn: 21.0000 - val_fn: 9.0000 - val_accuracy: 0.6429 - val_recall: 0.4000 - val_precision: 0.5000 - val_prc: 0.4376\n",
            "Epoch 187/500\n",
            "2/2 [==============================] - 0s 99ms/step - loss: 0.2096 - tp: 44.0000 - fp: 14.0000 - tn: 104.0000 - fn: 3.0000 - accuracy: 0.8970 - recall: 0.9362 - precision: 0.7586 - prc: 0.9330 - val_loss: 2.7658 - val_tp: 6.0000 - val_fp: 6.0000 - val_tn: 21.0000 - val_fn: 9.0000 - val_accuracy: 0.6429 - val_recall: 0.4000 - val_precision: 0.5000 - val_prc: 0.4426\n",
            "Epoch 188/500\n",
            "2/2 [==============================] - 0s 49ms/step - loss: 0.1912 - tp: 44.0000 - fp: 15.0000 - tn: 103.0000 - fn: 3.0000 - accuracy: 0.8909 - recall: 0.9362 - precision: 0.7458 - prc: 0.9563 - val_loss: 2.7707 - val_tp: 6.0000 - val_fp: 6.0000 - val_tn: 21.0000 - val_fn: 9.0000 - val_accuracy: 0.6429 - val_recall: 0.4000 - val_precision: 0.5000 - val_prc: 0.4440\n",
            "Epoch 189/500\n",
            "2/2 [==============================] - 0s 38ms/step - loss: 0.2502 - tp: 41.0000 - fp: 16.0000 - tn: 102.0000 - fn: 6.0000 - accuracy: 0.8667 - recall: 0.8723 - precision: 0.7193 - prc: 0.8947 - val_loss: 2.7770 - val_tp: 6.0000 - val_fp: 7.0000 - val_tn: 20.0000 - val_fn: 9.0000 - val_accuracy: 0.6190 - val_recall: 0.4000 - val_precision: 0.4615 - val_prc: 0.4452\n",
            "Epoch 190/500\n",
            "2/2 [==============================] - 0s 35ms/step - loss: 0.2230 - tp: 44.0000 - fp: 11.0000 - tn: 107.0000 - fn: 3.0000 - accuracy: 0.9152 - recall: 0.9362 - precision: 0.8000 - prc: 0.9267 - val_loss: 2.7857 - val_tp: 6.0000 - val_fp: 7.0000 - val_tn: 20.0000 - val_fn: 9.0000 - val_accuracy: 0.6190 - val_recall: 0.4000 - val_precision: 0.4615 - val_prc: 0.4489\n",
            "Epoch 191/500\n",
            "2/2 [==============================] - 0s 38ms/step - loss: 0.1881 - tp: 43.0000 - fp: 14.0000 - tn: 104.0000 - fn: 4.0000 - accuracy: 0.8909 - recall: 0.9149 - precision: 0.7544 - prc: 0.9422 - val_loss: 2.7940 - val_tp: 6.0000 - val_fp: 6.0000 - val_tn: 21.0000 - val_fn: 9.0000 - val_accuracy: 0.6429 - val_recall: 0.4000 - val_precision: 0.5000 - val_prc: 0.4544\n",
            "Epoch 192/500\n",
            "2/2 [==============================] - 0s 35ms/step - loss: 0.1801 - tp: 46.0000 - fp: 12.0000 - tn: 106.0000 - fn: 1.0000 - accuracy: 0.9212 - recall: 0.9787 - precision: 0.7931 - prc: 0.9526 - val_loss: 2.8042 - val_tp: 6.0000 - val_fp: 7.0000 - val_tn: 20.0000 - val_fn: 9.0000 - val_accuracy: 0.6190 - val_recall: 0.4000 - val_precision: 0.4615 - val_prc: 0.4553\n",
            "Epoch 193/500\n",
            "2/2 [==============================] - 0s 34ms/step - loss: 0.2153 - tp: 43.0000 - fp: 11.0000 - tn: 107.0000 - fn: 4.0000 - accuracy: 0.9091 - recall: 0.9149 - precision: 0.7963 - prc: 0.9271 - val_loss: 2.8162 - val_tp: 6.0000 - val_fp: 7.0000 - val_tn: 20.0000 - val_fn: 9.0000 - val_accuracy: 0.6190 - val_recall: 0.4000 - val_precision: 0.4615 - val_prc: 0.4553\n",
            "Epoch 194/500\n",
            "2/2 [==============================] - 0s 34ms/step - loss: 0.2392 - tp: 42.0000 - fp: 17.0000 - tn: 101.0000 - fn: 5.0000 - accuracy: 0.8667 - recall: 0.8936 - precision: 0.7119 - prc: 0.9122 - val_loss: 2.8289 - val_tp: 6.0000 - val_fp: 7.0000 - val_tn: 20.0000 - val_fn: 9.0000 - val_accuracy: 0.6190 - val_recall: 0.4000 - val_precision: 0.4615 - val_prc: 0.4553\n",
            "Epoch 195/500\n",
            "2/2 [==============================] - 0s 38ms/step - loss: 0.1885 - tp: 46.0000 - fp: 11.0000 - tn: 107.0000 - fn: 1.0000 - accuracy: 0.9273 - recall: 0.9787 - precision: 0.8070 - prc: 0.9394 - val_loss: 2.8419 - val_tp: 6.0000 - val_fp: 7.0000 - val_tn: 20.0000 - val_fn: 9.0000 - val_accuracy: 0.6190 - val_recall: 0.4000 - val_precision: 0.4615 - val_prc: 0.4553\n",
            "Epoch 196/500\n",
            "2/2 [==============================] - 0s 35ms/step - loss: 0.2505 - tp: 42.0000 - fp: 15.0000 - tn: 103.0000 - fn: 5.0000 - accuracy: 0.8788 - recall: 0.8936 - precision: 0.7368 - prc: 0.8801 - val_loss: 2.8518 - val_tp: 6.0000 - val_fp: 7.0000 - val_tn: 20.0000 - val_fn: 9.0000 - val_accuracy: 0.6190 - val_recall: 0.4000 - val_precision: 0.4615 - val_prc: 0.4538\n",
            "Epoch 197/500\n",
            "2/2 [==============================] - 0s 41ms/step - loss: 0.2349 - tp: 42.0000 - fp: 14.0000 - tn: 104.0000 - fn: 5.0000 - accuracy: 0.8848 - recall: 0.8936 - precision: 0.7500 - prc: 0.9099 - val_loss: 2.8634 - val_tp: 6.0000 - val_fp: 6.0000 - val_tn: 21.0000 - val_fn: 9.0000 - val_accuracy: 0.6429 - val_recall: 0.4000 - val_precision: 0.5000 - val_prc: 0.4577\n",
            "Epoch 198/500\n",
            "2/2 [==============================] - 0s 34ms/step - loss: 0.1798 - tp: 46.0000 - fp: 10.0000 - tn: 108.0000 - fn: 1.0000 - accuracy: 0.9333 - recall: 0.9787 - precision: 0.8214 - prc: 0.9636 - val_loss: 2.8769 - val_tp: 6.0000 - val_fp: 6.0000 - val_tn: 21.0000 - val_fn: 9.0000 - val_accuracy: 0.6429 - val_recall: 0.4000 - val_precision: 0.5000 - val_prc: 0.4577\n",
            "Epoch 199/500\n",
            "2/2 [==============================] - 0s 36ms/step - loss: 0.1741 - tp: 45.0000 - fp: 11.0000 - tn: 107.0000 - fn: 2.0000 - accuracy: 0.9212 - recall: 0.9574 - precision: 0.8036 - prc: 0.9534 - val_loss: 2.8893 - val_tp: 6.0000 - val_fp: 6.0000 - val_tn: 21.0000 - val_fn: 9.0000 - val_accuracy: 0.6429 - val_recall: 0.4000 - val_precision: 0.5000 - val_prc: 0.4572\n",
            "Epoch 200/500\n",
            "2/2 [==============================] - 0s 35ms/step - loss: 0.1889 - tp: 44.0000 - fp: 12.0000 - tn: 106.0000 - fn: 3.0000 - accuracy: 0.9091 - recall: 0.9362 - precision: 0.7857 - prc: 0.9496 - val_loss: 2.9029 - val_tp: 6.0000 - val_fp: 6.0000 - val_tn: 21.0000 - val_fn: 9.0000 - val_accuracy: 0.6429 - val_recall: 0.4000 - val_precision: 0.5000 - val_prc: 0.4572\n",
            "Epoch 201/500\n",
            "2/2 [==============================] - 0s 37ms/step - loss: 0.1948 - tp: 44.0000 - fp: 13.0000 - tn: 105.0000 - fn: 3.0000 - accuracy: 0.9030 - recall: 0.9362 - precision: 0.7719 - prc: 0.9408 - val_loss: 2.9158 - val_tp: 6.0000 - val_fp: 6.0000 - val_tn: 21.0000 - val_fn: 9.0000 - val_accuracy: 0.6429 - val_recall: 0.4000 - val_precision: 0.5000 - val_prc: 0.4513\n",
            "Epoch 202/500\n",
            "2/2 [==============================] - 0s 37ms/step - loss: 0.1505 - tp: 45.0000 - fp: 8.0000 - tn: 110.0000 - fn: 2.0000 - accuracy: 0.9394 - recall: 0.9574 - precision: 0.8491 - prc: 0.9637 - val_loss: 2.9319 - val_tp: 6.0000 - val_fp: 6.0000 - val_tn: 21.0000 - val_fn: 9.0000 - val_accuracy: 0.6429 - val_recall: 0.4000 - val_precision: 0.5000 - val_prc: 0.4504\n",
            "Epoch 203/500\n",
            "2/2 [==============================] - 0s 39ms/step - loss: 0.2395 - tp: 43.0000 - fp: 14.0000 - tn: 104.0000 - fn: 4.0000 - accuracy: 0.8909 - recall: 0.9149 - precision: 0.7544 - prc: 0.8900 - val_loss: 2.9448 - val_tp: 6.0000 - val_fp: 7.0000 - val_tn: 20.0000 - val_fn: 9.0000 - val_accuracy: 0.6190 - val_recall: 0.4000 - val_precision: 0.4615 - val_prc: 0.4549\n",
            "Epoch 204/500\n",
            "2/2 [==============================] - 0s 35ms/step - loss: 0.2190 - tp: 42.0000 - fp: 10.0000 - tn: 108.0000 - fn: 5.0000 - accuracy: 0.9091 - recall: 0.8936 - precision: 0.8077 - prc: 0.9136 - val_loss: 2.9566 - val_tp: 6.0000 - val_fp: 7.0000 - val_tn: 20.0000 - val_fn: 9.0000 - val_accuracy: 0.6190 - val_recall: 0.4000 - val_precision: 0.4615 - val_prc: 0.4523\n",
            "Epoch 205/500\n",
            "2/2 [==============================] - 0s 37ms/step - loss: 0.1772 - tp: 45.0000 - fp: 12.0000 - tn: 106.0000 - fn: 2.0000 - accuracy: 0.9152 - recall: 0.9574 - precision: 0.7895 - prc: 0.9638 - val_loss: 2.9696 - val_tp: 6.0000 - val_fp: 7.0000 - val_tn: 20.0000 - val_fn: 9.0000 - val_accuracy: 0.6190 - val_recall: 0.4000 - val_precision: 0.4615 - val_prc: 0.4527\n",
            "Epoch 206/500\n",
            "2/2 [==============================] - 0s 36ms/step - loss: 0.1974 - tp: 43.0000 - fp: 12.0000 - tn: 106.0000 - fn: 4.0000 - accuracy: 0.9030 - recall: 0.9149 - precision: 0.7818 - prc: 0.9333 - val_loss: 2.9831 - val_tp: 6.0000 - val_fp: 7.0000 - val_tn: 20.0000 - val_fn: 9.0000 - val_accuracy: 0.6190 - val_recall: 0.4000 - val_precision: 0.4615 - val_prc: 0.4441\n",
            "Epoch 207/500\n",
            "2/2 [==============================] - 0s 41ms/step - loss: 0.1923 - tp: 41.0000 - fp: 11.0000 - tn: 107.0000 - fn: 6.0000 - accuracy: 0.8970 - recall: 0.8723 - precision: 0.7885 - prc: 0.9390 - val_loss: 3.0013 - val_tp: 5.0000 - val_fp: 7.0000 - val_tn: 20.0000 - val_fn: 10.0000 - val_accuracy: 0.5952 - val_recall: 0.3333 - val_precision: 0.4167 - val_prc: 0.4408\n",
            "Epoch 208/500\n",
            "2/2 [==============================] - 0s 44ms/step - loss: 0.2415 - tp: 44.0000 - fp: 16.0000 - tn: 102.0000 - fn: 3.0000 - accuracy: 0.8848 - recall: 0.9362 - precision: 0.7333 - prc: 0.8830 - val_loss: 3.0170 - val_tp: 5.0000 - val_fp: 7.0000 - val_tn: 20.0000 - val_fn: 10.0000 - val_accuracy: 0.5952 - val_recall: 0.3333 - val_precision: 0.4167 - val_prc: 0.4408\n",
            "Epoch 209/500\n",
            "2/2 [==============================] - 0s 40ms/step - loss: 0.1858 - tp: 44.0000 - fp: 14.0000 - tn: 104.0000 - fn: 3.0000 - accuracy: 0.8970 - recall: 0.9362 - precision: 0.7586 - prc: 0.9418 - val_loss: 3.0277 - val_tp: 5.0000 - val_fp: 7.0000 - val_tn: 20.0000 - val_fn: 10.0000 - val_accuracy: 0.5952 - val_recall: 0.3333 - val_precision: 0.4167 - val_prc: 0.4388\n",
            "Epoch 210/500\n",
            "2/2 [==============================] - 0s 38ms/step - loss: 0.1754 - tp: 45.0000 - fp: 14.0000 - tn: 104.0000 - fn: 2.0000 - accuracy: 0.9030 - recall: 0.9574 - precision: 0.7627 - prc: 0.9581 - val_loss: 3.0390 - val_tp: 5.0000 - val_fp: 7.0000 - val_tn: 20.0000 - val_fn: 10.0000 - val_accuracy: 0.5952 - val_recall: 0.3333 - val_precision: 0.4167 - val_prc: 0.4388\n",
            "Epoch 211/500\n",
            "2/2 [==============================] - 0s 50ms/step - loss: 0.1831 - tp: 43.0000 - fp: 14.0000 - tn: 104.0000 - fn: 4.0000 - accuracy: 0.8909 - recall: 0.9149 - precision: 0.7544 - prc: 0.9471 - val_loss: 3.0515 - val_tp: 5.0000 - val_fp: 7.0000 - val_tn: 20.0000 - val_fn: 10.0000 - val_accuracy: 0.5952 - val_recall: 0.3333 - val_precision: 0.4167 - val_prc: 0.4388\n",
            "Epoch 212/500\n",
            "2/2 [==============================] - 0s 42ms/step - loss: 0.2030 - tp: 43.0000 - fp: 13.0000 - tn: 105.0000 - fn: 4.0000 - accuracy: 0.8970 - recall: 0.9149 - precision: 0.7679 - prc: 0.9387 - val_loss: 3.0658 - val_tp: 5.0000 - val_fp: 7.0000 - val_tn: 20.0000 - val_fn: 10.0000 - val_accuracy: 0.5952 - val_recall: 0.3333 - val_precision: 0.4167 - val_prc: 0.4420\n",
            "Epoch 213/500\n",
            "2/2 [==============================] - 0s 41ms/step - loss: 0.2052 - tp: 42.0000 - fp: 13.0000 - tn: 105.0000 - fn: 5.0000 - accuracy: 0.8909 - recall: 0.8936 - precision: 0.7636 - prc: 0.9367 - val_loss: 3.0803 - val_tp: 6.0000 - val_fp: 7.0000 - val_tn: 20.0000 - val_fn: 9.0000 - val_accuracy: 0.6190 - val_recall: 0.4000 - val_precision: 0.4615 - val_prc: 0.4428\n",
            "Epoch 214/500\n",
            "2/2 [==============================] - 0s 40ms/step - loss: 0.2447 - tp: 42.0000 - fp: 13.0000 - tn: 105.0000 - fn: 5.0000 - accuracy: 0.8909 - recall: 0.8936 - precision: 0.7636 - prc: 0.8983 - val_loss: 3.0935 - val_tp: 6.0000 - val_fp: 7.0000 - val_tn: 20.0000 - val_fn: 9.0000 - val_accuracy: 0.6190 - val_recall: 0.4000 - val_precision: 0.4615 - val_prc: 0.4437\n",
            "Epoch 215/500\n",
            "2/2 [==============================] - 0s 45ms/step - loss: 0.2021 - tp: 42.0000 - fp: 14.0000 - tn: 104.0000 - fn: 5.0000 - accuracy: 0.8848 - recall: 0.8936 - precision: 0.7500 - prc: 0.9443 - val_loss: 3.1110 - val_tp: 6.0000 - val_fp: 7.0000 - val_tn: 20.0000 - val_fn: 9.0000 - val_accuracy: 0.6190 - val_recall: 0.4000 - val_precision: 0.4615 - val_prc: 0.4498\n",
            "Epoch 216/500\n",
            "2/2 [==============================] - 0s 48ms/step - loss: 0.2150 - tp: 41.0000 - fp: 14.0000 - tn: 104.0000 - fn: 6.0000 - accuracy: 0.8788 - recall: 0.8723 - precision: 0.7455 - prc: 0.9244 - val_loss: 3.1373 - val_tp: 6.0000 - val_fp: 7.0000 - val_tn: 20.0000 - val_fn: 9.0000 - val_accuracy: 0.6190 - val_recall: 0.4000 - val_precision: 0.4615 - val_prc: 0.4451\n",
            "Epoch 217/500\n",
            "2/2 [==============================] - 0s 42ms/step - loss: 0.1849 - tp: 43.0000 - fp: 12.0000 - tn: 106.0000 - fn: 4.0000 - accuracy: 0.9030 - recall: 0.9149 - precision: 0.7818 - prc: 0.9555 - val_loss: 3.1634 - val_tp: 6.0000 - val_fp: 7.0000 - val_tn: 20.0000 - val_fn: 9.0000 - val_accuracy: 0.6190 - val_recall: 0.4000 - val_precision: 0.4615 - val_prc: 0.4439\n",
            "Epoch 218/500\n",
            "2/2 [==============================] - 0s 39ms/step - loss: 0.1861 - tp: 44.0000 - fp: 10.0000 - tn: 108.0000 - fn: 3.0000 - accuracy: 0.9212 - recall: 0.9362 - precision: 0.8148 - prc: 0.9489 - val_loss: 3.1866 - val_tp: 6.0000 - val_fp: 7.0000 - val_tn: 20.0000 - val_fn: 9.0000 - val_accuracy: 0.6190 - val_recall: 0.4000 - val_precision: 0.4615 - val_prc: 0.4384\n",
            "Epoch 219/500\n",
            "2/2 [==============================] - 0s 43ms/step - loss: 0.1625 - tp: 45.0000 - fp: 8.0000 - tn: 110.0000 - fn: 2.0000 - accuracy: 0.9394 - recall: 0.9574 - precision: 0.8491 - prc: 0.9721 - val_loss: 3.2075 - val_tp: 6.0000 - val_fp: 7.0000 - val_tn: 20.0000 - val_fn: 9.0000 - val_accuracy: 0.6190 - val_recall: 0.4000 - val_precision: 0.4615 - val_prc: 0.4410\n",
            "Epoch 220/500\n",
            "2/2 [==============================] - 0s 39ms/step - loss: 0.1552 - tp: 45.0000 - fp: 5.0000 - tn: 113.0000 - fn: 2.0000 - accuracy: 0.9576 - recall: 0.9574 - precision: 0.9000 - prc: 0.9569 - val_loss: 3.2240 - val_tp: 6.0000 - val_fp: 6.0000 - val_tn: 21.0000 - val_fn: 9.0000 - val_accuracy: 0.6429 - val_recall: 0.4000 - val_precision: 0.5000 - val_prc: 0.4397\n",
            "Epoch 221/500\n",
            "2/2 [==============================] - 0s 44ms/step - loss: 0.1759 - tp: 45.0000 - fp: 13.0000 - tn: 105.0000 - fn: 2.0000 - accuracy: 0.9091 - recall: 0.9574 - precision: 0.7759 - prc: 0.9562 - val_loss: 3.2397 - val_tp: 6.0000 - val_fp: 7.0000 - val_tn: 20.0000 - val_fn: 9.0000 - val_accuracy: 0.6190 - val_recall: 0.4000 - val_precision: 0.4615 - val_prc: 0.4416\n",
            "Epoch 222/500\n",
            "2/2 [==============================] - 0s 47ms/step - loss: 0.1796 - tp: 44.0000 - fp: 10.0000 - tn: 108.0000 - fn: 3.0000 - accuracy: 0.9212 - recall: 0.9362 - precision: 0.8148 - prc: 0.9501 - val_loss: 3.2528 - val_tp: 6.0000 - val_fp: 6.0000 - val_tn: 21.0000 - val_fn: 9.0000 - val_accuracy: 0.6429 - val_recall: 0.4000 - val_precision: 0.5000 - val_prc: 0.4410\n",
            "Epoch 223/500\n",
            "2/2 [==============================] - 0s 38ms/step - loss: 0.2008 - tp: 43.0000 - fp: 12.0000 - tn: 106.0000 - fn: 4.0000 - accuracy: 0.9030 - recall: 0.9149 - precision: 0.7818 - prc: 0.9320 - val_loss: 3.2664 - val_tp: 6.0000 - val_fp: 7.0000 - val_tn: 20.0000 - val_fn: 9.0000 - val_accuracy: 0.6190 - val_recall: 0.4000 - val_precision: 0.4615 - val_prc: 0.4485\n",
            "Epoch 224/500\n",
            "2/2 [==============================] - 0s 53ms/step - loss: 0.1980 - tp: 45.0000 - fp: 13.0000 - tn: 105.0000 - fn: 2.0000 - accuracy: 0.9091 - recall: 0.9574 - precision: 0.7759 - prc: 0.9388 - val_loss: 3.2821 - val_tp: 6.0000 - val_fp: 7.0000 - val_tn: 20.0000 - val_fn: 9.0000 - val_accuracy: 0.6190 - val_recall: 0.4000 - val_precision: 0.4615 - val_prc: 0.4479\n",
            "Epoch 225/500\n",
            "2/2 [==============================] - 0s 35ms/step - loss: 0.1672 - tp: 47.0000 - fp: 10.0000 - tn: 108.0000 - fn: 0.0000e+00 - accuracy: 0.9394 - recall: 1.0000 - precision: 0.8246 - prc: 0.9693 - val_loss: 3.2951 - val_tp: 5.0000 - val_fp: 7.0000 - val_tn: 20.0000 - val_fn: 10.0000 - val_accuracy: 0.5952 - val_recall: 0.3333 - val_precision: 0.4167 - val_prc: 0.4486\n",
            "Epoch 226/500\n",
            "2/2 [==============================] - 0s 40ms/step - loss: 0.2057 - tp: 45.0000 - fp: 12.0000 - tn: 106.0000 - fn: 2.0000 - accuracy: 0.9152 - recall: 0.9574 - precision: 0.7895 - prc: 0.9297 - val_loss: 3.3085 - val_tp: 5.0000 - val_fp: 7.0000 - val_tn: 20.0000 - val_fn: 10.0000 - val_accuracy: 0.5952 - val_recall: 0.3333 - val_precision: 0.4167 - val_prc: 0.4474\n",
            "Epoch 227/500\n",
            "2/2 [==============================] - 0s 40ms/step - loss: 0.1895 - tp: 39.0000 - fp: 11.0000 - tn: 107.0000 - fn: 8.0000 - accuracy: 0.8848 - recall: 0.8298 - precision: 0.7800 - prc: 0.9419 - val_loss: 3.3213 - val_tp: 5.0000 - val_fp: 8.0000 - val_tn: 19.0000 - val_fn: 10.0000 - val_accuracy: 0.5714 - val_recall: 0.3333 - val_precision: 0.3846 - val_prc: 0.4471\n",
            "Epoch 228/500\n",
            "2/2 [==============================] - 0s 36ms/step - loss: 0.1702 - tp: 43.0000 - fp: 10.0000 - tn: 108.0000 - fn: 4.0000 - accuracy: 0.9152 - recall: 0.9149 - precision: 0.8113 - prc: 0.9551 - val_loss: 3.3343 - val_tp: 5.0000 - val_fp: 8.0000 - val_tn: 19.0000 - val_fn: 10.0000 - val_accuracy: 0.5714 - val_recall: 0.3333 - val_precision: 0.3846 - val_prc: 0.4471\n",
            "Epoch 229/500\n",
            "2/2 [==============================] - 0s 36ms/step - loss: 0.1971 - tp: 42.0000 - fp: 12.0000 - tn: 106.0000 - fn: 5.0000 - accuracy: 0.8970 - recall: 0.8936 - precision: 0.7778 - prc: 0.9278 - val_loss: 3.3483 - val_tp: 5.0000 - val_fp: 8.0000 - val_tn: 19.0000 - val_fn: 10.0000 - val_accuracy: 0.5714 - val_recall: 0.3333 - val_precision: 0.3846 - val_prc: 0.4424\n",
            "Epoch 230/500\n",
            "2/2 [==============================] - 0s 37ms/step - loss: 0.1988 - tp: 43.0000 - fp: 13.0000 - tn: 105.0000 - fn: 4.0000 - accuracy: 0.8970 - recall: 0.9149 - precision: 0.7679 - prc: 0.9359 - val_loss: 3.3592 - val_tp: 5.0000 - val_fp: 8.0000 - val_tn: 19.0000 - val_fn: 10.0000 - val_accuracy: 0.5714 - val_recall: 0.3333 - val_precision: 0.3846 - val_prc: 0.4424\n",
            "Epoch 231/500\n",
            "2/2 [==============================] - 0s 36ms/step - loss: 0.2015 - tp: 42.0000 - fp: 11.0000 - tn: 107.0000 - fn: 5.0000 - accuracy: 0.9030 - recall: 0.8936 - precision: 0.7925 - prc: 0.9289 - val_loss: 3.3675 - val_tp: 5.0000 - val_fp: 8.0000 - val_tn: 19.0000 - val_fn: 10.0000 - val_accuracy: 0.5714 - val_recall: 0.3333 - val_precision: 0.3846 - val_prc: 0.4410\n",
            "Epoch 232/500\n",
            "2/2 [==============================] - 0s 36ms/step - loss: 0.2185 - tp: 45.0000 - fp: 14.0000 - tn: 104.0000 - fn: 2.0000 - accuracy: 0.9030 - recall: 0.9574 - precision: 0.7627 - prc: 0.9119 - val_loss: 3.3745 - val_tp: 5.0000 - val_fp: 8.0000 - val_tn: 19.0000 - val_fn: 10.0000 - val_accuracy: 0.5714 - val_recall: 0.3333 - val_precision: 0.3846 - val_prc: 0.4363\n",
            "Epoch 233/500\n",
            "2/2 [==============================] - 0s 36ms/step - loss: 0.2344 - tp: 45.0000 - fp: 16.0000 - tn: 102.0000 - fn: 2.0000 - accuracy: 0.8909 - recall: 0.9574 - precision: 0.7377 - prc: 0.9112 - val_loss: 3.3791 - val_tp: 5.0000 - val_fp: 8.0000 - val_tn: 19.0000 - val_fn: 10.0000 - val_accuracy: 0.5714 - val_recall: 0.3333 - val_precision: 0.3846 - val_prc: 0.4369\n",
            "Epoch 234/500\n",
            "2/2 [==============================] - 0s 37ms/step - loss: 0.2052 - tp: 44.0000 - fp: 15.0000 - tn: 103.0000 - fn: 3.0000 - accuracy: 0.8909 - recall: 0.9362 - precision: 0.7458 - prc: 0.9293 - val_loss: 3.3857 - val_tp: 5.0000 - val_fp: 8.0000 - val_tn: 19.0000 - val_fn: 10.0000 - val_accuracy: 0.5714 - val_recall: 0.3333 - val_precision: 0.3846 - val_prc: 0.4359\n",
            "Epoch 235/500\n",
            "2/2 [==============================] - 0s 37ms/step - loss: 0.1946 - tp: 42.0000 - fp: 14.0000 - tn: 104.0000 - fn: 5.0000 - accuracy: 0.8848 - recall: 0.8936 - precision: 0.7500 - prc: 0.9355 - val_loss: 3.3949 - val_tp: 5.0000 - val_fp: 8.0000 - val_tn: 19.0000 - val_fn: 10.0000 - val_accuracy: 0.5714 - val_recall: 0.3333 - val_precision: 0.3846 - val_prc: 0.4325\n",
            "Epoch 236/500\n",
            "2/2 [==============================] - 0s 38ms/step - loss: 0.1902 - tp: 45.0000 - fp: 14.0000 - tn: 104.0000 - fn: 2.0000 - accuracy: 0.9030 - recall: 0.9574 - precision: 0.7627 - prc: 0.9457 - val_loss: 3.4031 - val_tp: 5.0000 - val_fp: 8.0000 - val_tn: 19.0000 - val_fn: 10.0000 - val_accuracy: 0.5714 - val_recall: 0.3333 - val_precision: 0.3846 - val_prc: 0.4364\n",
            "Epoch 237/500\n",
            "2/2 [==============================] - 0s 34ms/step - loss: 0.1724 - tp: 45.0000 - fp: 12.0000 - tn: 106.0000 - fn: 2.0000 - accuracy: 0.9152 - recall: 0.9574 - precision: 0.7895 - prc: 0.9564 - val_loss: 3.4117 - val_tp: 5.0000 - val_fp: 8.0000 - val_tn: 19.0000 - val_fn: 10.0000 - val_accuracy: 0.5714 - val_recall: 0.3333 - val_precision: 0.3846 - val_prc: 0.4356\n",
            "Epoch 238/500\n",
            "2/2 [==============================] - 0s 36ms/step - loss: 0.1594 - tp: 45.0000 - fp: 7.0000 - tn: 111.0000 - fn: 2.0000 - accuracy: 0.9455 - recall: 0.9574 - precision: 0.8654 - prc: 0.9696 - val_loss: 3.4222 - val_tp: 5.0000 - val_fp: 8.0000 - val_tn: 19.0000 - val_fn: 10.0000 - val_accuracy: 0.5714 - val_recall: 0.3333 - val_precision: 0.3846 - val_prc: 0.4319\n",
            "Epoch 239/500\n",
            "2/2 [==============================] - 0s 57ms/step - loss: 0.1864 - tp: 45.0000 - fp: 13.0000 - tn: 105.0000 - fn: 2.0000 - accuracy: 0.9091 - recall: 0.9574 - precision: 0.7759 - prc: 0.9541 - val_loss: 3.4335 - val_tp: 5.0000 - val_fp: 8.0000 - val_tn: 19.0000 - val_fn: 10.0000 - val_accuracy: 0.5714 - val_recall: 0.3333 - val_precision: 0.3846 - val_prc: 0.4319\n",
            "Epoch 240/500\n",
            "2/2 [==============================] - 0s 59ms/step - loss: 0.1899 - tp: 42.0000 - fp: 9.0000 - tn: 109.0000 - fn: 5.0000 - accuracy: 0.9152 - recall: 0.8936 - precision: 0.8235 - prc: 0.9492 - val_loss: 3.4489 - val_tp: 5.0000 - val_fp: 8.0000 - val_tn: 19.0000 - val_fn: 10.0000 - val_accuracy: 0.5714 - val_recall: 0.3333 - val_precision: 0.3846 - val_prc: 0.4319\n",
            "Epoch 241/500\n",
            "2/2 [==============================] - 0s 36ms/step - loss: 0.1740 - tp: 45.0000 - fp: 13.0000 - tn: 105.0000 - fn: 2.0000 - accuracy: 0.9091 - recall: 0.9574 - precision: 0.7759 - prc: 0.9626 - val_loss: 3.4622 - val_tp: 5.0000 - val_fp: 8.0000 - val_tn: 19.0000 - val_fn: 10.0000 - val_accuracy: 0.5714 - val_recall: 0.3333 - val_precision: 0.3846 - val_prc: 0.4536\n",
            "Epoch 242/500\n",
            "2/2 [==============================] - 0s 38ms/step - loss: 0.1873 - tp: 44.0000 - fp: 16.0000 - tn: 102.0000 - fn: 3.0000 - accuracy: 0.8848 - recall: 0.9362 - precision: 0.7333 - prc: 0.9505 - val_loss: 3.4755 - val_tp: 5.0000 - val_fp: 7.0000 - val_tn: 20.0000 - val_fn: 10.0000 - val_accuracy: 0.5952 - val_recall: 0.3333 - val_precision: 0.4167 - val_prc: 0.4601\n",
            "Epoch 243/500\n",
            "2/2 [==============================] - 0s 56ms/step - loss: 0.1810 - tp: 46.0000 - fp: 15.0000 - tn: 103.0000 - fn: 1.0000 - accuracy: 0.9030 - recall: 0.9787 - precision: 0.7541 - prc: 0.9488 - val_loss: 3.4900 - val_tp: 5.0000 - val_fp: 6.0000 - val_tn: 21.0000 - val_fn: 10.0000 - val_accuracy: 0.6190 - val_recall: 0.3333 - val_precision: 0.4545 - val_prc: 0.4601\n",
            "Epoch 244/500\n",
            "2/2 [==============================] - 0s 46ms/step - loss: 0.1800 - tp: 46.0000 - fp: 14.0000 - tn: 104.0000 - fn: 1.0000 - accuracy: 0.9091 - recall: 0.9787 - precision: 0.7667 - prc: 0.9567 - val_loss: 3.5065 - val_tp: 5.0000 - val_fp: 6.0000 - val_tn: 21.0000 - val_fn: 10.0000 - val_accuracy: 0.6190 - val_recall: 0.3333 - val_precision: 0.4545 - val_prc: 0.4601\n",
            "Epoch 245/500\n",
            "2/2 [==============================] - 0s 43ms/step - loss: 0.1797 - tp: 46.0000 - fp: 10.0000 - tn: 108.0000 - fn: 1.0000 - accuracy: 0.9333 - recall: 0.9787 - precision: 0.8214 - prc: 0.9489 - val_loss: 3.5193 - val_tp: 5.0000 - val_fp: 6.0000 - val_tn: 21.0000 - val_fn: 10.0000 - val_accuracy: 0.6190 - val_recall: 0.3333 - val_precision: 0.4545 - val_prc: 0.4649\n",
            "Epoch 246/500\n",
            "2/2 [==============================] - 0s 43ms/step - loss: 0.1694 - tp: 44.0000 - fp: 11.0000 - tn: 107.0000 - fn: 3.0000 - accuracy: 0.9152 - recall: 0.9362 - precision: 0.8000 - prc: 0.9549 - val_loss: 3.5316 - val_tp: 5.0000 - val_fp: 6.0000 - val_tn: 21.0000 - val_fn: 10.0000 - val_accuracy: 0.6190 - val_recall: 0.3333 - val_precision: 0.4545 - val_prc: 0.4656\n",
            "Epoch 247/500\n",
            "2/2 [==============================] - 0s 47ms/step - loss: 0.2145 - tp: 44.0000 - fp: 16.0000 - tn: 102.0000 - fn: 3.0000 - accuracy: 0.8848 - recall: 0.9362 - precision: 0.7333 - prc: 0.9221 - val_loss: 3.5460 - val_tp: 5.0000 - val_fp: 6.0000 - val_tn: 21.0000 - val_fn: 10.0000 - val_accuracy: 0.6190 - val_recall: 0.3333 - val_precision: 0.4545 - val_prc: 0.4679\n",
            "Epoch 248/500\n",
            "2/2 [==============================] - 0s 45ms/step - loss: 0.2009 - tp: 41.0000 - fp: 10.0000 - tn: 108.0000 - fn: 6.0000 - accuracy: 0.9030 - recall: 0.8723 - precision: 0.8039 - prc: 0.9238 - val_loss: 3.5625 - val_tp: 5.0000 - val_fp: 6.0000 - val_tn: 21.0000 - val_fn: 10.0000 - val_accuracy: 0.6190 - val_recall: 0.3333 - val_precision: 0.4545 - val_prc: 0.4645\n",
            "Epoch 249/500\n",
            "2/2 [==============================] - 0s 44ms/step - loss: 0.2247 - tp: 40.0000 - fp: 13.0000 - tn: 105.0000 - fn: 7.0000 - accuracy: 0.8788 - recall: 0.8511 - precision: 0.7547 - prc: 0.9017 - val_loss: 3.5748 - val_tp: 5.0000 - val_fp: 6.0000 - val_tn: 21.0000 - val_fn: 10.0000 - val_accuracy: 0.6190 - val_recall: 0.3333 - val_precision: 0.4545 - val_prc: 0.4450\n",
            "Epoch 250/500\n",
            "2/2 [==============================] - 0s 41ms/step - loss: 0.1868 - tp: 42.0000 - fp: 13.0000 - tn: 105.0000 - fn: 5.0000 - accuracy: 0.8909 - recall: 0.8936 - precision: 0.7636 - prc: 0.9397 - val_loss: 3.5797 - val_tp: 5.0000 - val_fp: 6.0000 - val_tn: 21.0000 - val_fn: 10.0000 - val_accuracy: 0.6190 - val_recall: 0.3333 - val_precision: 0.4545 - val_prc: 0.4436\n",
            "Epoch 251/500\n",
            "2/2 [==============================] - 0s 43ms/step - loss: 0.1767 - tp: 44.0000 - fp: 12.0000 - tn: 106.0000 - fn: 3.0000 - accuracy: 0.9091 - recall: 0.9362 - precision: 0.7857 - prc: 0.9514 - val_loss: 3.5861 - val_tp: 5.0000 - val_fp: 6.0000 - val_tn: 21.0000 - val_fn: 10.0000 - val_accuracy: 0.6190 - val_recall: 0.3333 - val_precision: 0.4545 - val_prc: 0.4439\n",
            "Epoch 252/500\n",
            "2/2 [==============================] - 0s 58ms/step - loss: 0.1802 - tp: 44.0000 - fp: 10.0000 - tn: 108.0000 - fn: 3.0000 - accuracy: 0.9212 - recall: 0.9362 - precision: 0.8148 - prc: 0.9515 - val_loss: 3.5946 - val_tp: 5.0000 - val_fp: 6.0000 - val_tn: 21.0000 - val_fn: 10.0000 - val_accuracy: 0.6190 - val_recall: 0.3333 - val_precision: 0.4545 - val_prc: 0.4436\n",
            "Epoch 253/500\n",
            "2/2 [==============================] - 0s 46ms/step - loss: 0.1723 - tp: 43.0000 - fp: 12.0000 - tn: 106.0000 - fn: 4.0000 - accuracy: 0.9030 - recall: 0.9149 - precision: 0.7818 - prc: 0.9614 - val_loss: 3.6046 - val_tp: 5.0000 - val_fp: 6.0000 - val_tn: 21.0000 - val_fn: 10.0000 - val_accuracy: 0.6190 - val_recall: 0.3333 - val_precision: 0.4545 - val_prc: 0.4436\n",
            "Epoch 254/500\n",
            "2/2 [==============================] - 0s 48ms/step - loss: 0.2199 - tp: 40.0000 - fp: 11.0000 - tn: 107.0000 - fn: 7.0000 - accuracy: 0.8909 - recall: 0.8511 - precision: 0.7843 - prc: 0.9169 - val_loss: 3.6152 - val_tp: 5.0000 - val_fp: 6.0000 - val_tn: 21.0000 - val_fn: 10.0000 - val_accuracy: 0.6190 - val_recall: 0.3333 - val_precision: 0.4545 - val_prc: 0.4436\n",
            "Epoch 255/500\n",
            "2/2 [==============================] - 0s 41ms/step - loss: 0.1759 - tp: 46.0000 - fp: 11.0000 - tn: 107.0000 - fn: 1.0000 - accuracy: 0.9273 - recall: 0.9787 - precision: 0.8070 - prc: 0.9601 - val_loss: 3.6255 - val_tp: 5.0000 - val_fp: 6.0000 - val_tn: 21.0000 - val_fn: 10.0000 - val_accuracy: 0.6190 - val_recall: 0.3333 - val_precision: 0.4545 - val_prc: 0.4430\n",
            "Epoch 256/500\n",
            "2/2 [==============================] - 0s 45ms/step - loss: 0.2084 - tp: 43.0000 - fp: 15.0000 - tn: 103.0000 - fn: 4.0000 - accuracy: 0.8848 - recall: 0.9149 - precision: 0.7414 - prc: 0.8934 - val_loss: 3.6338 - val_tp: 5.0000 - val_fp: 6.0000 - val_tn: 21.0000 - val_fn: 10.0000 - val_accuracy: 0.6190 - val_recall: 0.3333 - val_precision: 0.4545 - val_prc: 0.4430\n",
            "Epoch 257/500\n",
            "2/2 [==============================] - 0s 42ms/step - loss: 0.1610 - tp: 46.0000 - fp: 10.0000 - tn: 108.0000 - fn: 1.0000 - accuracy: 0.9333 - recall: 0.9787 - precision: 0.8214 - prc: 0.9659 - val_loss: 3.6384 - val_tp: 5.0000 - val_fp: 7.0000 - val_tn: 20.0000 - val_fn: 10.0000 - val_accuracy: 0.5952 - val_recall: 0.3333 - val_precision: 0.4167 - val_prc: 0.4424\n",
            "Epoch 258/500\n",
            "2/2 [==============================] - 0s 42ms/step - loss: 0.1791 - tp: 43.0000 - fp: 8.0000 - tn: 110.0000 - fn: 4.0000 - accuracy: 0.9273 - recall: 0.9149 - precision: 0.8431 - prc: 0.9525 - val_loss: 3.6417 - val_tp: 5.0000 - val_fp: 7.0000 - val_tn: 20.0000 - val_fn: 10.0000 - val_accuracy: 0.5952 - val_recall: 0.3333 - val_precision: 0.4167 - val_prc: 0.4400\n",
            "Epoch 259/500\n",
            "2/2 [==============================] - 0s 43ms/step - loss: 0.2085 - tp: 42.0000 - fp: 8.0000 - tn: 110.0000 - fn: 5.0000 - accuracy: 0.9212 - recall: 0.8936 - precision: 0.8400 - prc: 0.9283 - val_loss: 3.6470 - val_tp: 5.0000 - val_fp: 7.0000 - val_tn: 20.0000 - val_fn: 10.0000 - val_accuracy: 0.5952 - val_recall: 0.3333 - val_precision: 0.4167 - val_prc: 0.4424\n",
            "Epoch 260/500\n",
            "2/2 [==============================] - 0s 55ms/step - loss: 0.1870 - tp: 44.0000 - fp: 12.0000 - tn: 106.0000 - fn: 3.0000 - accuracy: 0.9091 - recall: 0.9362 - precision: 0.7857 - prc: 0.9534 - val_loss: 3.6561 - val_tp: 5.0000 - val_fp: 7.0000 - val_tn: 20.0000 - val_fn: 10.0000 - val_accuracy: 0.5952 - val_recall: 0.3333 - val_precision: 0.4167 - val_prc: 0.4584\n",
            "Epoch 261/500\n",
            "2/2 [==============================] - 0s 36ms/step - loss: 0.1947 - tp: 44.0000 - fp: 12.0000 - tn: 106.0000 - fn: 3.0000 - accuracy: 0.9091 - recall: 0.9362 - precision: 0.7857 - prc: 0.9417 - val_loss: 3.6632 - val_tp: 5.0000 - val_fp: 7.0000 - val_tn: 20.0000 - val_fn: 10.0000 - val_accuracy: 0.5952 - val_recall: 0.3333 - val_precision: 0.4167 - val_prc: 0.4559\n",
            "Epoch 262/500\n",
            "2/2 [==============================] - 0s 39ms/step - loss: 0.2037 - tp: 44.0000 - fp: 12.0000 - tn: 106.0000 - fn: 3.0000 - accuracy: 0.9091 - recall: 0.9362 - precision: 0.7857 - prc: 0.9317 - val_loss: 3.6720 - val_tp: 5.0000 - val_fp: 7.0000 - val_tn: 20.0000 - val_fn: 10.0000 - val_accuracy: 0.5952 - val_recall: 0.3333 - val_precision: 0.4167 - val_prc: 0.4559\n",
            "Epoch 263/500\n",
            "2/2 [==============================] - 0s 37ms/step - loss: 0.2331 - tp: 42.0000 - fp: 15.0000 - tn: 103.0000 - fn: 5.0000 - accuracy: 0.8788 - recall: 0.8936 - precision: 0.7368 - prc: 0.9158 - val_loss: 3.6937 - val_tp: 5.0000 - val_fp: 7.0000 - val_tn: 20.0000 - val_fn: 10.0000 - val_accuracy: 0.5952 - val_recall: 0.3333 - val_precision: 0.4167 - val_prc: 0.4542\n",
            "Epoch 264/500\n",
            "2/2 [==============================] - 0s 42ms/step - loss: 0.1935 - tp: 43.0000 - fp: 11.0000 - tn: 107.0000 - fn: 4.0000 - accuracy: 0.9091 - recall: 0.9149 - precision: 0.7963 - prc: 0.9255 - val_loss: 3.7127 - val_tp: 5.0000 - val_fp: 7.0000 - val_tn: 20.0000 - val_fn: 10.0000 - val_accuracy: 0.5952 - val_recall: 0.3333 - val_precision: 0.4167 - val_prc: 0.4569\n",
            "Epoch 265/500\n",
            "2/2 [==============================] - 0s 42ms/step - loss: 0.1688 - tp: 41.0000 - fp: 7.0000 - tn: 111.0000 - fn: 6.0000 - accuracy: 0.9212 - recall: 0.8723 - precision: 0.8542 - prc: 0.9515 - val_loss: 3.7287 - val_tp: 5.0000 - val_fp: 7.0000 - val_tn: 20.0000 - val_fn: 10.0000 - val_accuracy: 0.5952 - val_recall: 0.3333 - val_precision: 0.4167 - val_prc: 0.4558\n",
            "Epoch 266/500\n",
            "2/2 [==============================] - 0s 44ms/step - loss: 0.1579 - tp: 46.0000 - fp: 10.0000 - tn: 108.0000 - fn: 1.0000 - accuracy: 0.9333 - recall: 0.9787 - precision: 0.8214 - prc: 0.9714 - val_loss: 3.7398 - val_tp: 5.0000 - val_fp: 7.0000 - val_tn: 20.0000 - val_fn: 10.0000 - val_accuracy: 0.5952 - val_recall: 0.3333 - val_precision: 0.4167 - val_prc: 0.4552\n",
            "Epoch 267/500\n",
            "2/2 [==============================] - 0s 38ms/step - loss: 0.2007 - tp: 43.0000 - fp: 13.0000 - tn: 105.0000 - fn: 4.0000 - accuracy: 0.8970 - recall: 0.9149 - precision: 0.7679 - prc: 0.9395 - val_loss: 3.7462 - val_tp: 5.0000 - val_fp: 7.0000 - val_tn: 20.0000 - val_fn: 10.0000 - val_accuracy: 0.5952 - val_recall: 0.3333 - val_precision: 0.4167 - val_prc: 0.4573\n",
            "Epoch 268/500\n",
            "2/2 [==============================] - 0s 41ms/step - loss: 0.1759 - tp: 44.0000 - fp: 14.0000 - tn: 104.0000 - fn: 3.0000 - accuracy: 0.8970 - recall: 0.9362 - precision: 0.7586 - prc: 0.9521 - val_loss: 3.7496 - val_tp: 5.0000 - val_fp: 7.0000 - val_tn: 20.0000 - val_fn: 10.0000 - val_accuracy: 0.5952 - val_recall: 0.3333 - val_precision: 0.4167 - val_prc: 0.4614\n",
            "Epoch 269/500\n",
            "2/2 [==============================] - 0s 37ms/step - loss: 0.2110 - tp: 39.0000 - fp: 11.0000 - tn: 107.0000 - fn: 8.0000 - accuracy: 0.8848 - recall: 0.8298 - precision: 0.7800 - prc: 0.9280 - val_loss: 3.7531 - val_tp: 5.0000 - val_fp: 7.0000 - val_tn: 20.0000 - val_fn: 10.0000 - val_accuracy: 0.5952 - val_recall: 0.3333 - val_precision: 0.4167 - val_prc: 0.4597\n",
            "Epoch 270/500\n",
            "2/2 [==============================] - 0s 39ms/step - loss: 0.1948 - tp: 46.0000 - fp: 12.0000 - tn: 106.0000 - fn: 1.0000 - accuracy: 0.9212 - recall: 0.9787 - precision: 0.7931 - prc: 0.9300 - val_loss: 3.7596 - val_tp: 5.0000 - val_fp: 7.0000 - val_tn: 20.0000 - val_fn: 10.0000 - val_accuracy: 0.5952 - val_recall: 0.3333 - val_precision: 0.4167 - val_prc: 0.4620\n",
            "Epoch 271/500\n",
            "2/2 [==============================] - 0s 35ms/step - loss: 0.2033 - tp: 44.0000 - fp: 14.0000 - tn: 104.0000 - fn: 3.0000 - accuracy: 0.8970 - recall: 0.9362 - precision: 0.7586 - prc: 0.9324 - val_loss: 3.7713 - val_tp: 5.0000 - val_fp: 7.0000 - val_tn: 20.0000 - val_fn: 10.0000 - val_accuracy: 0.5952 - val_recall: 0.3333 - val_precision: 0.4167 - val_prc: 0.4491\n",
            "Epoch 272/500\n",
            "2/2 [==============================] - 0s 41ms/step - loss: 0.2064 - tp: 44.0000 - fp: 16.0000 - tn: 102.0000 - fn: 3.0000 - accuracy: 0.8848 - recall: 0.9362 - precision: 0.7333 - prc: 0.9352 - val_loss: 3.7847 - val_tp: 5.0000 - val_fp: 7.0000 - val_tn: 20.0000 - val_fn: 10.0000 - val_accuracy: 0.5952 - val_recall: 0.3333 - val_precision: 0.4167 - val_prc: 0.4490\n",
            "Epoch 273/500\n",
            "2/2 [==============================] - 0s 39ms/step - loss: 0.1865 - tp: 43.0000 - fp: 17.0000 - tn: 101.0000 - fn: 4.0000 - accuracy: 0.8727 - recall: 0.9149 - precision: 0.7167 - prc: 0.9487 - val_loss: 3.7892 - val_tp: 5.0000 - val_fp: 7.0000 - val_tn: 20.0000 - val_fn: 10.0000 - val_accuracy: 0.5952 - val_recall: 0.3333 - val_precision: 0.4167 - val_prc: 0.4511\n",
            "Epoch 274/500\n",
            "2/2 [==============================] - 0s 39ms/step - loss: 0.1885 - tp: 43.0000 - fp: 10.0000 - tn: 108.0000 - fn: 4.0000 - accuracy: 0.9152 - recall: 0.9149 - precision: 0.8113 - prc: 0.9471 - val_loss: 3.7960 - val_tp: 5.0000 - val_fp: 7.0000 - val_tn: 20.0000 - val_fn: 10.0000 - val_accuracy: 0.5952 - val_recall: 0.3333 - val_precision: 0.4167 - val_prc: 0.4504\n",
            "Epoch 275/500\n",
            "2/2 [==============================] - 0s 41ms/step - loss: 0.1878 - tp: 44.0000 - fp: 15.0000 - tn: 103.0000 - fn: 3.0000 - accuracy: 0.8909 - recall: 0.9362 - precision: 0.7458 - prc: 0.9553 - val_loss: 3.8019 - val_tp: 5.0000 - val_fp: 7.0000 - val_tn: 20.0000 - val_fn: 10.0000 - val_accuracy: 0.5952 - val_recall: 0.3333 - val_precision: 0.4167 - val_prc: 0.4490\n",
            "Epoch 276/500\n",
            "2/2 [==============================] - 0s 56ms/step - loss: 0.2185 - tp: 42.0000 - fp: 16.0000 - tn: 102.0000 - fn: 5.0000 - accuracy: 0.8727 - recall: 0.8936 - precision: 0.7241 - prc: 0.9102 - val_loss: 3.8088 - val_tp: 5.0000 - val_fp: 7.0000 - val_tn: 20.0000 - val_fn: 10.0000 - val_accuracy: 0.5952 - val_recall: 0.3333 - val_precision: 0.4167 - val_prc: 0.4423\n",
            "Epoch 277/500\n",
            "2/2 [==============================] - 0s 44ms/step - loss: 0.2126 - tp: 44.0000 - fp: 10.0000 - tn: 108.0000 - fn: 3.0000 - accuracy: 0.9212 - recall: 0.9362 - precision: 0.8148 - prc: 0.9327 - val_loss: 3.8127 - val_tp: 5.0000 - val_fp: 7.0000 - val_tn: 20.0000 - val_fn: 10.0000 - val_accuracy: 0.5952 - val_recall: 0.3333 - val_precision: 0.4167 - val_prc: 0.4392\n",
            "Epoch 278/500\n",
            "2/2 [==============================] - 0s 56ms/step - loss: 0.1835 - tp: 42.0000 - fp: 13.0000 - tn: 105.0000 - fn: 5.0000 - accuracy: 0.8909 - recall: 0.8936 - precision: 0.7636 - prc: 0.9486 - val_loss: 3.8187 - val_tp: 5.0000 - val_fp: 7.0000 - val_tn: 20.0000 - val_fn: 10.0000 - val_accuracy: 0.5952 - val_recall: 0.3333 - val_precision: 0.4167 - val_prc: 0.4409\n",
            "Epoch 279/500\n",
            "2/2 [==============================] - 0s 41ms/step - loss: 0.2133 - tp: 46.0000 - fp: 15.0000 - tn: 103.0000 - fn: 1.0000 - accuracy: 0.9030 - recall: 0.9787 - precision: 0.7541 - prc: 0.9289 - val_loss: 3.8283 - val_tp: 5.0000 - val_fp: 7.0000 - val_tn: 20.0000 - val_fn: 10.0000 - val_accuracy: 0.5952 - val_recall: 0.3333 - val_precision: 0.4167 - val_prc: 0.4420\n",
            "Epoch 280/500\n",
            "2/2 [==============================] - 0s 59ms/step - loss: 0.2106 - tp: 44.0000 - fp: 16.0000 - tn: 102.0000 - fn: 3.0000 - accuracy: 0.8848 - recall: 0.9362 - precision: 0.7333 - prc: 0.9289 - val_loss: 3.8396 - val_tp: 5.0000 - val_fp: 7.0000 - val_tn: 20.0000 - val_fn: 10.0000 - val_accuracy: 0.5952 - val_recall: 0.3333 - val_precision: 0.4167 - val_prc: 0.4420\n",
            "Epoch 281/500\n",
            "2/2 [==============================] - 0s 41ms/step - loss: 0.1863 - tp: 43.0000 - fp: 13.0000 - tn: 105.0000 - fn: 4.0000 - accuracy: 0.8970 - recall: 0.9149 - precision: 0.7679 - prc: 0.9415 - val_loss: 3.8502 - val_tp: 5.0000 - val_fp: 7.0000 - val_tn: 20.0000 - val_fn: 10.0000 - val_accuracy: 0.5952 - val_recall: 0.3333 - val_precision: 0.4167 - val_prc: 0.4434\n",
            "Epoch 282/500\n",
            "2/2 [==============================] - 0s 37ms/step - loss: 0.1673 - tp: 44.0000 - fp: 10.0000 - tn: 108.0000 - fn: 3.0000 - accuracy: 0.9212 - recall: 0.9362 - precision: 0.8148 - prc: 0.9589 - val_loss: 3.8560 - val_tp: 5.0000 - val_fp: 7.0000 - val_tn: 20.0000 - val_fn: 10.0000 - val_accuracy: 0.5952 - val_recall: 0.3333 - val_precision: 0.4167 - val_prc: 0.4441\n",
            "Epoch 283/500\n",
            "2/2 [==============================] - 0s 64ms/step - loss: 0.1900 - tp: 44.0000 - fp: 14.0000 - tn: 104.0000 - fn: 3.0000 - accuracy: 0.8970 - recall: 0.9362 - precision: 0.7586 - prc: 0.9361 - val_loss: 3.8625 - val_tp: 5.0000 - val_fp: 7.0000 - val_tn: 20.0000 - val_fn: 10.0000 - val_accuracy: 0.5952 - val_recall: 0.3333 - val_precision: 0.4167 - val_prc: 0.4466\n",
            "Epoch 284/500\n",
            "2/2 [==============================] - 0s 76ms/step - loss: 0.1735 - tp: 45.0000 - fp: 12.0000 - tn: 106.0000 - fn: 2.0000 - accuracy: 0.9152 - recall: 0.9574 - precision: 0.7895 - prc: 0.9519 - val_loss: 3.8677 - val_tp: 6.0000 - val_fp: 7.0000 - val_tn: 20.0000 - val_fn: 9.0000 - val_accuracy: 0.6190 - val_recall: 0.4000 - val_precision: 0.4615 - val_prc: 0.4466\n",
            "Epoch 285/500\n",
            "2/2 [==============================] - 0s 68ms/step - loss: 0.1679 - tp: 47.0000 - fp: 11.0000 - tn: 107.0000 - fn: 0.0000e+00 - accuracy: 0.9333 - recall: 1.0000 - precision: 0.8103 - prc: 0.9715 - val_loss: 3.8743 - val_tp: 6.0000 - val_fp: 7.0000 - val_tn: 20.0000 - val_fn: 9.0000 - val_accuracy: 0.6190 - val_recall: 0.4000 - val_precision: 0.4615 - val_prc: 0.4466\n",
            "Epoch 286/500\n",
            "2/2 [==============================] - 0s 97ms/step - loss: 0.1556 - tp: 47.0000 - fp: 9.0000 - tn: 109.0000 - fn: 0.0000e+00 - accuracy: 0.9455 - recall: 1.0000 - precision: 0.8393 - prc: 0.9792 - val_loss: 3.8771 - val_tp: 6.0000 - val_fp: 7.0000 - val_tn: 20.0000 - val_fn: 9.0000 - val_accuracy: 0.6190 - val_recall: 0.4000 - val_precision: 0.4615 - val_prc: 0.4466\n",
            "Epoch 287/500\n",
            "2/2 [==============================] - 0s 45ms/step - loss: 0.1699 - tp: 45.0000 - fp: 12.0000 - tn: 106.0000 - fn: 2.0000 - accuracy: 0.9152 - recall: 0.9574 - precision: 0.7895 - prc: 0.9634 - val_loss: 3.8821 - val_tp: 6.0000 - val_fp: 7.0000 - val_tn: 20.0000 - val_fn: 9.0000 - val_accuracy: 0.6190 - val_recall: 0.4000 - val_precision: 0.4615 - val_prc: 0.4488\n",
            "Epoch 288/500\n",
            "2/2 [==============================] - 0s 86ms/step - loss: 0.1684 - tp: 45.0000 - fp: 14.0000 - tn: 104.0000 - fn: 2.0000 - accuracy: 0.9030 - recall: 0.9574 - precision: 0.7627 - prc: 0.9560 - val_loss: 3.8896 - val_tp: 6.0000 - val_fp: 7.0000 - val_tn: 20.0000 - val_fn: 9.0000 - val_accuracy: 0.6190 - val_recall: 0.4000 - val_precision: 0.4615 - val_prc: 0.4513\n",
            "Epoch 289/500\n",
            "2/2 [==============================] - 0s 93ms/step - loss: 0.2063 - tp: 40.0000 - fp: 10.0000 - tn: 108.0000 - fn: 7.0000 - accuracy: 0.8970 - recall: 0.8511 - precision: 0.8000 - prc: 0.9325 - val_loss: 3.8965 - val_tp: 6.0000 - val_fp: 7.0000 - val_tn: 20.0000 - val_fn: 9.0000 - val_accuracy: 0.6190 - val_recall: 0.4000 - val_precision: 0.4615 - val_prc: 0.4513\n",
            "Epoch 290/500\n",
            "2/2 [==============================] - 0s 132ms/step - loss: 0.2170 - tp: 43.0000 - fp: 12.0000 - tn: 106.0000 - fn: 4.0000 - accuracy: 0.9030 - recall: 0.9149 - precision: 0.7818 - prc: 0.9271 - val_loss: 3.9046 - val_tp: 6.0000 - val_fp: 7.0000 - val_tn: 20.0000 - val_fn: 9.0000 - val_accuracy: 0.6190 - val_recall: 0.4000 - val_precision: 0.4615 - val_prc: 0.4501\n",
            "Epoch 291/500\n",
            "2/2 [==============================] - 0s 76ms/step - loss: 0.1897 - tp: 43.0000 - fp: 14.0000 - tn: 104.0000 - fn: 4.0000 - accuracy: 0.8909 - recall: 0.9149 - precision: 0.7544 - prc: 0.9422 - val_loss: 3.9136 - val_tp: 6.0000 - val_fp: 7.0000 - val_tn: 20.0000 - val_fn: 9.0000 - val_accuracy: 0.6190 - val_recall: 0.4000 - val_precision: 0.4615 - val_prc: 0.4489\n",
            "Epoch 292/500\n",
            "2/2 [==============================] - 0s 78ms/step - loss: 0.1999 - tp: 42.0000 - fp: 12.0000 - tn: 106.0000 - fn: 5.0000 - accuracy: 0.8970 - recall: 0.8936 - precision: 0.7778 - prc: 0.9344 - val_loss: 3.9236 - val_tp: 6.0000 - val_fp: 7.0000 - val_tn: 20.0000 - val_fn: 9.0000 - val_accuracy: 0.6190 - val_recall: 0.4000 - val_precision: 0.4615 - val_prc: 0.4468\n",
            "Epoch 293/500\n",
            "2/2 [==============================] - 0s 66ms/step - loss: 0.1904 - tp: 44.0000 - fp: 13.0000 - tn: 105.0000 - fn: 3.0000 - accuracy: 0.9030 - recall: 0.9362 - precision: 0.7719 - prc: 0.9361 - val_loss: 3.9310 - val_tp: 6.0000 - val_fp: 7.0000 - val_tn: 20.0000 - val_fn: 9.0000 - val_accuracy: 0.6190 - val_recall: 0.4000 - val_precision: 0.4615 - val_prc: 0.4450\n",
            "Epoch 294/500\n",
            "2/2 [==============================] - 0s 57ms/step - loss: 0.1903 - tp: 45.0000 - fp: 11.0000 - tn: 107.0000 - fn: 2.0000 - accuracy: 0.9212 - recall: 0.9574 - precision: 0.8036 - prc: 0.9426 - val_loss: 3.9394 - val_tp: 5.0000 - val_fp: 7.0000 - val_tn: 20.0000 - val_fn: 10.0000 - val_accuracy: 0.5952 - val_recall: 0.3333 - val_precision: 0.4167 - val_prc: 0.4450\n",
            "Epoch 295/500\n",
            "2/2 [==============================] - 0s 60ms/step - loss: 0.2200 - tp: 45.0000 - fp: 17.0000 - tn: 101.0000 - fn: 2.0000 - accuracy: 0.8848 - recall: 0.9574 - precision: 0.7258 - prc: 0.9247 - val_loss: 3.9488 - val_tp: 4.0000 - val_fp: 7.0000 - val_tn: 20.0000 - val_fn: 11.0000 - val_accuracy: 0.5714 - val_recall: 0.2667 - val_precision: 0.3636 - val_prc: 0.4450\n",
            "Epoch 296/500\n",
            "2/2 [==============================] - 0s 51ms/step - loss: 0.1976 - tp: 45.0000 - fp: 10.0000 - tn: 108.0000 - fn: 2.0000 - accuracy: 0.9273 - recall: 0.9574 - precision: 0.8182 - prc: 0.9364 - val_loss: 3.9590 - val_tp: 4.0000 - val_fp: 7.0000 - val_tn: 20.0000 - val_fn: 11.0000 - val_accuracy: 0.5714 - val_recall: 0.2667 - val_precision: 0.3636 - val_prc: 0.4450\n",
            "Epoch 297/500\n",
            "2/2 [==============================] - 0s 113ms/step - loss: 0.2120 - tp: 44.0000 - fp: 14.0000 - tn: 104.0000 - fn: 3.0000 - accuracy: 0.8970 - recall: 0.9362 - precision: 0.7586 - prc: 0.9294 - val_loss: 3.9693 - val_tp: 4.0000 - val_fp: 7.0000 - val_tn: 20.0000 - val_fn: 11.0000 - val_accuracy: 0.5714 - val_recall: 0.2667 - val_precision: 0.3636 - val_prc: 0.4450\n",
            "Epoch 298/500\n",
            "2/2 [==============================] - 0s 49ms/step - loss: 0.1628 - tp: 44.0000 - fp: 13.0000 - tn: 105.0000 - fn: 3.0000 - accuracy: 0.9030 - recall: 0.9362 - precision: 0.7719 - prc: 0.9669 - val_loss: 3.9814 - val_tp: 4.0000 - val_fp: 7.0000 - val_tn: 20.0000 - val_fn: 11.0000 - val_accuracy: 0.5714 - val_recall: 0.2667 - val_precision: 0.3636 - val_prc: 0.4450\n",
            "Epoch 299/500\n",
            "2/2 [==============================] - 0s 64ms/step - loss: 0.2050 - tp: 42.0000 - fp: 11.0000 - tn: 107.0000 - fn: 5.0000 - accuracy: 0.9030 - recall: 0.8936 - precision: 0.7925 - prc: 0.9341 - val_loss: 3.9921 - val_tp: 4.0000 - val_fp: 7.0000 - val_tn: 20.0000 - val_fn: 11.0000 - val_accuracy: 0.5714 - val_recall: 0.2667 - val_precision: 0.3636 - val_prc: 0.4450\n",
            "Epoch 300/500\n",
            "2/2 [==============================] - 0s 52ms/step - loss: 0.1887 - tp: 46.0000 - fp: 14.0000 - tn: 104.0000 - fn: 1.0000 - accuracy: 0.9091 - recall: 0.9787 - precision: 0.7667 - prc: 0.9474 - val_loss: 3.9988 - val_tp: 4.0000 - val_fp: 7.0000 - val_tn: 20.0000 - val_fn: 11.0000 - val_accuracy: 0.5714 - val_recall: 0.2667 - val_precision: 0.3636 - val_prc: 0.4444\n",
            "Epoch 301/500\n",
            "2/2 [==============================] - 0s 50ms/step - loss: 0.1689 - tp: 44.0000 - fp: 9.0000 - tn: 109.0000 - fn: 3.0000 - accuracy: 0.9273 - recall: 0.9362 - precision: 0.8302 - prc: 0.9690 - val_loss: 4.0038 - val_tp: 4.0000 - val_fp: 7.0000 - val_tn: 20.0000 - val_fn: 11.0000 - val_accuracy: 0.5714 - val_recall: 0.2667 - val_precision: 0.3636 - val_prc: 0.4444\n",
            "Epoch 302/500\n",
            "2/2 [==============================] - 0s 82ms/step - loss: 0.2000 - tp: 41.0000 - fp: 17.0000 - tn: 101.0000 - fn: 6.0000 - accuracy: 0.8606 - recall: 0.8723 - precision: 0.7069 - prc: 0.9323 - val_loss: 4.0074 - val_tp: 4.0000 - val_fp: 7.0000 - val_tn: 20.0000 - val_fn: 11.0000 - val_accuracy: 0.5714 - val_recall: 0.2667 - val_precision: 0.3636 - val_prc: 0.4604\n",
            "Epoch 303/500\n",
            "2/2 [==============================] - 0s 75ms/step - loss: 0.1780 - tp: 44.0000 - fp: 14.0000 - tn: 104.0000 - fn: 3.0000 - accuracy: 0.8970 - recall: 0.9362 - precision: 0.7586 - prc: 0.9620 - val_loss: 4.0123 - val_tp: 4.0000 - val_fp: 7.0000 - val_tn: 20.0000 - val_fn: 11.0000 - val_accuracy: 0.5714 - val_recall: 0.2667 - val_precision: 0.3636 - val_prc: 0.4604\n",
            "Epoch 304/500\n",
            "2/2 [==============================] - 0s 50ms/step - loss: 0.1439 - tp: 45.0000 - fp: 6.0000 - tn: 112.0000 - fn: 2.0000 - accuracy: 0.9515 - recall: 0.9574 - precision: 0.8824 - prc: 0.9677 - val_loss: 4.0152 - val_tp: 5.0000 - val_fp: 7.0000 - val_tn: 20.0000 - val_fn: 10.0000 - val_accuracy: 0.5952 - val_recall: 0.3333 - val_precision: 0.4167 - val_prc: 0.4627\n",
            "Epoch 305/500\n",
            "2/2 [==============================] - 0s 76ms/step - loss: 0.1930 - tp: 44.0000 - fp: 11.0000 - tn: 107.0000 - fn: 3.0000 - accuracy: 0.9152 - recall: 0.9362 - precision: 0.8000 - prc: 0.9435 - val_loss: 4.0186 - val_tp: 5.0000 - val_fp: 7.0000 - val_tn: 20.0000 - val_fn: 10.0000 - val_accuracy: 0.5952 - val_recall: 0.3333 - val_precision: 0.4167 - val_prc: 0.4615\n",
            "Epoch 306/500\n",
            "2/2 [==============================] - 0s 39ms/step - loss: 0.1767 - tp: 45.0000 - fp: 12.0000 - tn: 106.0000 - fn: 2.0000 - accuracy: 0.9152 - recall: 0.9574 - precision: 0.7895 - prc: 0.9608 - val_loss: 4.0263 - val_tp: 5.0000 - val_fp: 7.0000 - val_tn: 20.0000 - val_fn: 10.0000 - val_accuracy: 0.5952 - val_recall: 0.3333 - val_precision: 0.4167 - val_prc: 0.4615\n",
            "Epoch 307/500\n",
            "2/2 [==============================] - 0s 40ms/step - loss: 0.1603 - tp: 43.0000 - fp: 10.0000 - tn: 108.0000 - fn: 4.0000 - accuracy: 0.9152 - recall: 0.9149 - precision: 0.8113 - prc: 0.9628 - val_loss: 4.0362 - val_tp: 5.0000 - val_fp: 7.0000 - val_tn: 20.0000 - val_fn: 10.0000 - val_accuracy: 0.5952 - val_recall: 0.3333 - val_precision: 0.4167 - val_prc: 0.4615\n",
            "Epoch 308/500\n",
            "2/2 [==============================] - 0s 42ms/step - loss: 0.2160 - tp: 43.0000 - fp: 17.0000 - tn: 101.0000 - fn: 4.0000 - accuracy: 0.8727 - recall: 0.9149 - precision: 0.7167 - prc: 0.9283 - val_loss: 4.0486 - val_tp: 5.0000 - val_fp: 7.0000 - val_tn: 20.0000 - val_fn: 10.0000 - val_accuracy: 0.5952 - val_recall: 0.3333 - val_precision: 0.4167 - val_prc: 0.4634\n",
            "Epoch 309/500\n",
            "2/2 [==============================] - 0s 57ms/step - loss: 0.1493 - tp: 45.0000 - fp: 10.0000 - tn: 108.0000 - fn: 2.0000 - accuracy: 0.9273 - recall: 0.9574 - precision: 0.8182 - prc: 0.9690 - val_loss: 4.0558 - val_tp: 5.0000 - val_fp: 7.0000 - val_tn: 20.0000 - val_fn: 10.0000 - val_accuracy: 0.5952 - val_recall: 0.3333 - val_precision: 0.4167 - val_prc: 0.4782\n",
            "Epoch 310/500\n",
            "2/2 [==============================] - 0s 42ms/step - loss: 0.1845 - tp: 43.0000 - fp: 14.0000 - tn: 104.0000 - fn: 4.0000 - accuracy: 0.8909 - recall: 0.9149 - precision: 0.7544 - prc: 0.9489 - val_loss: 4.0650 - val_tp: 5.0000 - val_fp: 7.0000 - val_tn: 20.0000 - val_fn: 10.0000 - val_accuracy: 0.5952 - val_recall: 0.3333 - val_precision: 0.4167 - val_prc: 0.4806\n",
            "Epoch 311/500\n",
            "2/2 [==============================] - 0s 52ms/step - loss: 0.1571 - tp: 43.0000 - fp: 13.0000 - tn: 105.0000 - fn: 4.0000 - accuracy: 0.8970 - recall: 0.9149 - precision: 0.7679 - prc: 0.9670 - val_loss: 4.0738 - val_tp: 5.0000 - val_fp: 7.0000 - val_tn: 20.0000 - val_fn: 10.0000 - val_accuracy: 0.5952 - val_recall: 0.3333 - val_precision: 0.4167 - val_prc: 0.4782\n",
            "Epoch 312/500\n",
            "2/2 [==============================] - 0s 46ms/step - loss: 0.2049 - tp: 44.0000 - fp: 11.0000 - tn: 107.0000 - fn: 3.0000 - accuracy: 0.9152 - recall: 0.9362 - precision: 0.8000 - prc: 0.9251 - val_loss: 4.0848 - val_tp: 5.0000 - val_fp: 7.0000 - val_tn: 20.0000 - val_fn: 10.0000 - val_accuracy: 0.5952 - val_recall: 0.3333 - val_precision: 0.4167 - val_prc: 0.4776\n",
            "Epoch 313/500\n",
            "2/2 [==============================] - 0s 74ms/step - loss: 0.1538 - tp: 45.0000 - fp: 8.0000 - tn: 110.0000 - fn: 2.0000 - accuracy: 0.9394 - recall: 0.9574 - precision: 0.8491 - prc: 0.9712 - val_loss: 4.0928 - val_tp: 5.0000 - val_fp: 7.0000 - val_tn: 20.0000 - val_fn: 10.0000 - val_accuracy: 0.5952 - val_recall: 0.3333 - val_precision: 0.4167 - val_prc: 0.4776\n",
            "Epoch 314/500\n",
            "2/2 [==============================] - 0s 53ms/step - loss: 0.1649 - tp: 44.0000 - fp: 12.0000 - tn: 106.0000 - fn: 3.0000 - accuracy: 0.9091 - recall: 0.9362 - precision: 0.7857 - prc: 0.9454 - val_loss: 4.0997 - val_tp: 5.0000 - val_fp: 7.0000 - val_tn: 20.0000 - val_fn: 10.0000 - val_accuracy: 0.5952 - val_recall: 0.3333 - val_precision: 0.4167 - val_prc: 0.4770\n",
            "Epoch 315/500\n",
            "2/2 [==============================] - 0s 54ms/step - loss: 0.1967 - tp: 44.0000 - fp: 12.0000 - tn: 106.0000 - fn: 3.0000 - accuracy: 0.9091 - recall: 0.9362 - precision: 0.7857 - prc: 0.9363 - val_loss: 4.1071 - val_tp: 5.0000 - val_fp: 7.0000 - val_tn: 20.0000 - val_fn: 10.0000 - val_accuracy: 0.5952 - val_recall: 0.3333 - val_precision: 0.4167 - val_prc: 0.4770\n",
            "Epoch 316/500\n",
            "2/2 [==============================] - 0s 49ms/step - loss: 0.1455 - tp: 43.0000 - fp: 11.0000 - tn: 107.0000 - fn: 4.0000 - accuracy: 0.9091 - recall: 0.9149 - precision: 0.7963 - prc: 0.9699 - val_loss: 4.1118 - val_tp: 5.0000 - val_fp: 7.0000 - val_tn: 20.0000 - val_fn: 10.0000 - val_accuracy: 0.5952 - val_recall: 0.3333 - val_precision: 0.4167 - val_prc: 0.4776\n",
            "Epoch 317/500\n",
            "2/2 [==============================] - 0s 50ms/step - loss: 0.1222 - tp: 45.0000 - fp: 8.0000 - tn: 110.0000 - fn: 2.0000 - accuracy: 0.9394 - recall: 0.9574 - precision: 0.8491 - prc: 0.9840 - val_loss: 4.1159 - val_tp: 5.0000 - val_fp: 7.0000 - val_tn: 20.0000 - val_fn: 10.0000 - val_accuracy: 0.5952 - val_recall: 0.3333 - val_precision: 0.4167 - val_prc: 0.4770\n",
            "Epoch 318/500\n",
            "2/2 [==============================] - 0s 49ms/step - loss: 0.1784 - tp: 40.0000 - fp: 10.0000 - tn: 108.0000 - fn: 7.0000 - accuracy: 0.8970 - recall: 0.8511 - precision: 0.8000 - prc: 0.9446 - val_loss: 4.1158 - val_tp: 5.0000 - val_fp: 6.0000 - val_tn: 21.0000 - val_fn: 10.0000 - val_accuracy: 0.6190 - val_recall: 0.3333 - val_precision: 0.4545 - val_prc: 0.4776\n",
            "Epoch 319/500\n",
            "2/2 [==============================] - 0s 46ms/step - loss: 0.1925 - tp: 46.0000 - fp: 14.0000 - tn: 104.0000 - fn: 1.0000 - accuracy: 0.9091 - recall: 0.9787 - precision: 0.7667 - prc: 0.9511 - val_loss: 4.1179 - val_tp: 5.0000 - val_fp: 6.0000 - val_tn: 21.0000 - val_fn: 10.0000 - val_accuracy: 0.6190 - val_recall: 0.3333 - val_precision: 0.4545 - val_prc: 0.4776\n",
            "Epoch 320/500\n",
            "2/2 [==============================] - 0s 48ms/step - loss: 0.2044 - tp: 46.0000 - fp: 9.0000 - tn: 109.0000 - fn: 1.0000 - accuracy: 0.9394 - recall: 0.9787 - precision: 0.8364 - prc: 0.8954 - val_loss: 4.1236 - val_tp: 5.0000 - val_fp: 6.0000 - val_tn: 21.0000 - val_fn: 10.0000 - val_accuracy: 0.6190 - val_recall: 0.3333 - val_precision: 0.4545 - val_prc: 0.4776\n",
            "Epoch 321/500\n",
            "2/2 [==============================] - 0s 45ms/step - loss: 0.1434 - tp: 45.0000 - fp: 9.0000 - tn: 109.0000 - fn: 2.0000 - accuracy: 0.9333 - recall: 0.9574 - precision: 0.8333 - prc: 0.9673 - val_loss: 4.1318 - val_tp: 5.0000 - val_fp: 6.0000 - val_tn: 21.0000 - val_fn: 10.0000 - val_accuracy: 0.6190 - val_recall: 0.3333 - val_precision: 0.4545 - val_prc: 0.4776\n",
            "Epoch 322/500\n",
            "2/2 [==============================] - 0s 69ms/step - loss: 0.1937 - tp: 45.0000 - fp: 13.0000 - tn: 105.0000 - fn: 2.0000 - accuracy: 0.9091 - recall: 0.9574 - precision: 0.7759 - prc: 0.9326 - val_loss: 4.1419 - val_tp: 5.0000 - val_fp: 6.0000 - val_tn: 21.0000 - val_fn: 10.0000 - val_accuracy: 0.6190 - val_recall: 0.3333 - val_precision: 0.4545 - val_prc: 0.4765\n",
            "Epoch 323/500\n",
            "2/2 [==============================] - 0s 48ms/step - loss: 0.1924 - tp: 42.0000 - fp: 11.0000 - tn: 107.0000 - fn: 5.0000 - accuracy: 0.9030 - recall: 0.8936 - precision: 0.7925 - prc: 0.9430 - val_loss: 4.1515 - val_tp: 5.0000 - val_fp: 6.0000 - val_tn: 21.0000 - val_fn: 10.0000 - val_accuracy: 0.6190 - val_recall: 0.3333 - val_precision: 0.4545 - val_prc: 0.4765\n",
            "Epoch 324/500\n",
            "2/2 [==============================] - 0s 47ms/step - loss: 0.1630 - tp: 43.0000 - fp: 7.0000 - tn: 111.0000 - fn: 4.0000 - accuracy: 0.9333 - recall: 0.9149 - precision: 0.8600 - prc: 0.9686 - val_loss: 4.1608 - val_tp: 5.0000 - val_fp: 6.0000 - val_tn: 21.0000 - val_fn: 10.0000 - val_accuracy: 0.6190 - val_recall: 0.3333 - val_precision: 0.4545 - val_prc: 0.4765\n",
            "Epoch 325/500\n",
            "2/2 [==============================] - 0s 49ms/step - loss: 0.2115 - tp: 43.0000 - fp: 14.0000 - tn: 104.0000 - fn: 4.0000 - accuracy: 0.8909 - recall: 0.9149 - precision: 0.7544 - prc: 0.9103 - val_loss: 4.1695 - val_tp: 4.0000 - val_fp: 6.0000 - val_tn: 21.0000 - val_fn: 11.0000 - val_accuracy: 0.5952 - val_recall: 0.2667 - val_precision: 0.4000 - val_prc: 0.4790\n",
            "Epoch 326/500\n",
            "2/2 [==============================] - 0s 47ms/step - loss: 0.1904 - tp: 44.0000 - fp: 11.0000 - tn: 107.0000 - fn: 3.0000 - accuracy: 0.9152 - recall: 0.9362 - precision: 0.8000 - prc: 0.9433 - val_loss: 4.1739 - val_tp: 4.0000 - val_fp: 6.0000 - val_tn: 21.0000 - val_fn: 11.0000 - val_accuracy: 0.5952 - val_recall: 0.2667 - val_precision: 0.4000 - val_prc: 0.4807\n",
            "Epoch 327/500\n",
            "2/2 [==============================] - 0s 46ms/step - loss: 0.2458 - tp: 43.0000 - fp: 19.0000 - tn: 99.0000 - fn: 4.0000 - accuracy: 0.8606 - recall: 0.9149 - precision: 0.6935 - prc: 0.8956 - val_loss: 4.1826 - val_tp: 4.0000 - val_fp: 6.0000 - val_tn: 21.0000 - val_fn: 11.0000 - val_accuracy: 0.5952 - val_recall: 0.2667 - val_precision: 0.4000 - val_prc: 0.4796\n",
            "Epoch 328/500\n",
            "2/2 [==============================] - 0s 62ms/step - loss: 0.1446 - tp: 46.0000 - fp: 7.0000 - tn: 111.0000 - fn: 1.0000 - accuracy: 0.9515 - recall: 0.9787 - precision: 0.8679 - prc: 0.9843 - val_loss: 4.1887 - val_tp: 4.0000 - val_fp: 6.0000 - val_tn: 21.0000 - val_fn: 11.0000 - val_accuracy: 0.5952 - val_recall: 0.2667 - val_precision: 0.4000 - val_prc: 0.4779\n",
            "Epoch 329/500\n",
            "2/2 [==============================] - 0s 51ms/step - loss: 0.1565 - tp: 45.0000 - fp: 11.0000 - tn: 107.0000 - fn: 2.0000 - accuracy: 0.9212 - recall: 0.9574 - precision: 0.8036 - prc: 0.9612 - val_loss: 4.1936 - val_tp: 4.0000 - val_fp: 6.0000 - val_tn: 21.0000 - val_fn: 11.0000 - val_accuracy: 0.5952 - val_recall: 0.2667 - val_precision: 0.4000 - val_prc: 0.4785\n",
            "Epoch 330/500\n",
            "2/2 [==============================] - 0s 47ms/step - loss: 0.1625 - tp: 42.0000 - fp: 6.0000 - tn: 112.0000 - fn: 5.0000 - accuracy: 0.9333 - recall: 0.8936 - precision: 0.8750 - prc: 0.9615 - val_loss: 4.1997 - val_tp: 5.0000 - val_fp: 6.0000 - val_tn: 21.0000 - val_fn: 10.0000 - val_accuracy: 0.6190 - val_recall: 0.3333 - val_precision: 0.4545 - val_prc: 0.4766\n",
            "Epoch 331/500\n",
            "2/2 [==============================] - 0s 59ms/step - loss: 0.1622 - tp: 46.0000 - fp: 9.0000 - tn: 109.0000 - fn: 1.0000 - accuracy: 0.9394 - recall: 0.9787 - precision: 0.8364 - prc: 0.9697 - val_loss: 4.2100 - val_tp: 5.0000 - val_fp: 6.0000 - val_tn: 21.0000 - val_fn: 10.0000 - val_accuracy: 0.6190 - val_recall: 0.3333 - val_precision: 0.4545 - val_prc: 0.4766\n",
            "Epoch 332/500\n",
            "2/2 [==============================] - 0s 48ms/step - loss: 0.1628 - tp: 45.0000 - fp: 13.0000 - tn: 105.0000 - fn: 2.0000 - accuracy: 0.9091 - recall: 0.9574 - precision: 0.7759 - prc: 0.9565 - val_loss: 4.2192 - val_tp: 5.0000 - val_fp: 6.0000 - val_tn: 21.0000 - val_fn: 10.0000 - val_accuracy: 0.6190 - val_recall: 0.3333 - val_precision: 0.4545 - val_prc: 0.4766\n",
            "Epoch 333/500\n",
            "2/2 [==============================] - 0s 48ms/step - loss: 0.2035 - tp: 43.0000 - fp: 13.0000 - tn: 105.0000 - fn: 4.0000 - accuracy: 0.8970 - recall: 0.9149 - precision: 0.7679 - prc: 0.9014 - val_loss: 4.2273 - val_tp: 6.0000 - val_fp: 6.0000 - val_tn: 21.0000 - val_fn: 9.0000 - val_accuracy: 0.6429 - val_recall: 0.4000 - val_precision: 0.5000 - val_prc: 0.4781\n",
            "Epoch 334/500\n",
            "2/2 [==============================] - 0s 48ms/step - loss: 0.1798 - tp: 45.0000 - fp: 11.0000 - tn: 107.0000 - fn: 2.0000 - accuracy: 0.9212 - recall: 0.9574 - precision: 0.8036 - prc: 0.9545 - val_loss: 4.2334 - val_tp: 6.0000 - val_fp: 6.0000 - val_tn: 21.0000 - val_fn: 9.0000 - val_accuracy: 0.6429 - val_recall: 0.4000 - val_precision: 0.5000 - val_prc: 0.4802\n",
            "Epoch 335/500\n",
            "2/2 [==============================] - 0s 50ms/step - loss: 0.2274 - tp: 43.0000 - fp: 14.0000 - tn: 104.0000 - fn: 4.0000 - accuracy: 0.8909 - recall: 0.9149 - precision: 0.7544 - prc: 0.9147 - val_loss: 4.2393 - val_tp: 6.0000 - val_fp: 6.0000 - val_tn: 21.0000 - val_fn: 9.0000 - val_accuracy: 0.6429 - val_recall: 0.4000 - val_precision: 0.5000 - val_prc: 0.4802\n",
            "Epoch 336/500\n",
            "2/2 [==============================] - 0s 60ms/step - loss: 0.1625 - tp: 46.0000 - fp: 9.0000 - tn: 109.0000 - fn: 1.0000 - accuracy: 0.9394 - recall: 0.9787 - precision: 0.8364 - prc: 0.9632 - val_loss: 4.2458 - val_tp: 6.0000 - val_fp: 6.0000 - val_tn: 21.0000 - val_fn: 9.0000 - val_accuracy: 0.6429 - val_recall: 0.4000 - val_precision: 0.5000 - val_prc: 0.4802\n",
            "Epoch 337/500\n",
            "2/2 [==============================] - 0s 49ms/step - loss: 0.2005 - tp: 44.0000 - fp: 12.0000 - tn: 106.0000 - fn: 3.0000 - accuracy: 0.9091 - recall: 0.9362 - precision: 0.7857 - prc: 0.9281 - val_loss: 4.2513 - val_tp: 5.0000 - val_fp: 6.0000 - val_tn: 21.0000 - val_fn: 10.0000 - val_accuracy: 0.6190 - val_recall: 0.3333 - val_precision: 0.4545 - val_prc: 0.4809\n",
            "Epoch 338/500\n",
            "2/2 [==============================] - 0s 48ms/step - loss: 0.1597 - tp: 45.0000 - fp: 13.0000 - tn: 105.0000 - fn: 2.0000 - accuracy: 0.9091 - recall: 0.9574 - precision: 0.7759 - prc: 0.9722 - val_loss: 4.2583 - val_tp: 5.0000 - val_fp: 6.0000 - val_tn: 21.0000 - val_fn: 10.0000 - val_accuracy: 0.6190 - val_recall: 0.3333 - val_precision: 0.4545 - val_prc: 0.4783\n",
            "Epoch 339/500\n",
            "2/2 [==============================] - 0s 47ms/step - loss: 0.1976 - tp: 46.0000 - fp: 14.0000 - tn: 104.0000 - fn: 1.0000 - accuracy: 0.9091 - recall: 0.9787 - precision: 0.7667 - prc: 0.9334 - val_loss: 4.2689 - val_tp: 5.0000 - val_fp: 6.0000 - val_tn: 21.0000 - val_fn: 10.0000 - val_accuracy: 0.6190 - val_recall: 0.3333 - val_precision: 0.4545 - val_prc: 0.4783\n",
            "Epoch 340/500\n",
            "2/2 [==============================] - 0s 53ms/step - loss: 0.1955 - tp: 45.0000 - fp: 11.0000 - tn: 107.0000 - fn: 2.0000 - accuracy: 0.9212 - recall: 0.9574 - precision: 0.8036 - prc: 0.9221 - val_loss: 4.2824 - val_tp: 5.0000 - val_fp: 7.0000 - val_tn: 20.0000 - val_fn: 10.0000 - val_accuracy: 0.5952 - val_recall: 0.3333 - val_precision: 0.4167 - val_prc: 0.4783\n",
            "Epoch 341/500\n",
            "2/2 [==============================] - 0s 49ms/step - loss: 0.1720 - tp: 44.0000 - fp: 12.0000 - tn: 106.0000 - fn: 3.0000 - accuracy: 0.9091 - recall: 0.9362 - precision: 0.7857 - prc: 0.9553 - val_loss: 4.2955 - val_tp: 5.0000 - val_fp: 7.0000 - val_tn: 20.0000 - val_fn: 10.0000 - val_accuracy: 0.5952 - val_recall: 0.3333 - val_precision: 0.4167 - val_prc: 0.4783\n",
            "Epoch 342/500\n",
            "2/2 [==============================] - 0s 50ms/step - loss: 0.1602 - tp: 46.0000 - fp: 12.0000 - tn: 106.0000 - fn: 1.0000 - accuracy: 0.9212 - recall: 0.9787 - precision: 0.7931 - prc: 0.9609 - val_loss: 4.3097 - val_tp: 5.0000 - val_fp: 7.0000 - val_tn: 20.0000 - val_fn: 10.0000 - val_accuracy: 0.5952 - val_recall: 0.3333 - val_precision: 0.4167 - val_prc: 0.4777\n",
            "Epoch 343/500\n",
            "2/2 [==============================] - 0s 59ms/step - loss: 0.1782 - tp: 44.0000 - fp: 11.0000 - tn: 107.0000 - fn: 3.0000 - accuracy: 0.9152 - recall: 0.9362 - precision: 0.8000 - prc: 0.9527 - val_loss: 4.3225 - val_tp: 5.0000 - val_fp: 7.0000 - val_tn: 20.0000 - val_fn: 10.0000 - val_accuracy: 0.5952 - val_recall: 0.3333 - val_precision: 0.4167 - val_prc: 0.4747\n",
            "Epoch 344/500\n",
            "2/2 [==============================] - 0s 63ms/step - loss: 0.1530 - tp: 44.0000 - fp: 9.0000 - tn: 109.0000 - fn: 3.0000 - accuracy: 0.9273 - recall: 0.9362 - precision: 0.8302 - prc: 0.9658 - val_loss: 4.3317 - val_tp: 5.0000 - val_fp: 7.0000 - val_tn: 20.0000 - val_fn: 10.0000 - val_accuracy: 0.5952 - val_recall: 0.3333 - val_precision: 0.4167 - val_prc: 0.4747\n",
            "Epoch 345/500\n",
            "2/2 [==============================] - 0s 75ms/step - loss: 0.2012 - tp: 42.0000 - fp: 13.0000 - tn: 105.0000 - fn: 5.0000 - accuracy: 0.8909 - recall: 0.8936 - precision: 0.7636 - prc: 0.9294 - val_loss: 4.3326 - val_tp: 5.0000 - val_fp: 7.0000 - val_tn: 20.0000 - val_fn: 10.0000 - val_accuracy: 0.5952 - val_recall: 0.3333 - val_precision: 0.4167 - val_prc: 0.4766\n",
            "Epoch 346/500\n",
            "2/2 [==============================] - 0s 51ms/step - loss: 0.1867 - tp: 43.0000 - fp: 11.0000 - tn: 107.0000 - fn: 4.0000 - accuracy: 0.9091 - recall: 0.9149 - precision: 0.7963 - prc: 0.9476 - val_loss: 4.3327 - val_tp: 5.0000 - val_fp: 7.0000 - val_tn: 20.0000 - val_fn: 10.0000 - val_accuracy: 0.5952 - val_recall: 0.3333 - val_precision: 0.4167 - val_prc: 0.4751\n",
            "Epoch 347/500\n",
            "2/2 [==============================] - 0s 64ms/step - loss: 0.1639 - tp: 43.0000 - fp: 7.0000 - tn: 111.0000 - fn: 4.0000 - accuracy: 0.9333 - recall: 0.9149 - precision: 0.8600 - prc: 0.9520 - val_loss: 4.3331 - val_tp: 5.0000 - val_fp: 7.0000 - val_tn: 20.0000 - val_fn: 10.0000 - val_accuracy: 0.5952 - val_recall: 0.3333 - val_precision: 0.4167 - val_prc: 0.4751\n",
            "Epoch 348/500\n",
            "2/2 [==============================] - 0s 52ms/step - loss: 0.1949 - tp: 47.0000 - fp: 20.0000 - tn: 98.0000 - fn: 0.0000e+00 - accuracy: 0.8788 - recall: 1.0000 - precision: 0.7015 - prc: 0.9544 - val_loss: 4.3383 - val_tp: 4.0000 - val_fp: 7.0000 - val_tn: 20.0000 - val_fn: 11.0000 - val_accuracy: 0.5714 - val_recall: 0.2667 - val_precision: 0.3636 - val_prc: 0.4751\n",
            "Epoch 349/500\n",
            "2/2 [==============================] - 0s 53ms/step - loss: 0.1403 - tp: 46.0000 - fp: 9.0000 - tn: 109.0000 - fn: 1.0000 - accuracy: 0.9394 - recall: 0.9787 - precision: 0.8364 - prc: 0.9742 - val_loss: 4.3409 - val_tp: 4.0000 - val_fp: 7.0000 - val_tn: 20.0000 - val_fn: 11.0000 - val_accuracy: 0.5714 - val_recall: 0.2667 - val_precision: 0.3636 - val_prc: 0.4751\n",
            "Epoch 350/500\n",
            "2/2 [==============================] - 0s 48ms/step - loss: 0.1992 - tp: 44.0000 - fp: 15.0000 - tn: 103.0000 - fn: 3.0000 - accuracy: 0.8909 - recall: 0.9362 - precision: 0.7458 - prc: 0.9362 - val_loss: 4.3412 - val_tp: 4.0000 - val_fp: 7.0000 - val_tn: 20.0000 - val_fn: 11.0000 - val_accuracy: 0.5714 - val_recall: 0.2667 - val_precision: 0.3636 - val_prc: 0.4751\n",
            "Epoch 351/500\n",
            "2/2 [==============================] - 0s 48ms/step - loss: 0.1998 - tp: 42.0000 - fp: 13.0000 - tn: 105.0000 - fn: 5.0000 - accuracy: 0.8909 - recall: 0.8936 - precision: 0.7636 - prc: 0.9422 - val_loss: 4.3421 - val_tp: 4.0000 - val_fp: 6.0000 - val_tn: 21.0000 - val_fn: 11.0000 - val_accuracy: 0.5952 - val_recall: 0.2667 - val_precision: 0.4000 - val_prc: 0.4763\n",
            "Epoch 352/500\n",
            "2/2 [==============================] - 0s 52ms/step - loss: 0.1690 - tp: 45.0000 - fp: 13.0000 - tn: 105.0000 - fn: 2.0000 - accuracy: 0.9091 - recall: 0.9574 - precision: 0.7759 - prc: 0.9614 - val_loss: 4.3452 - val_tp: 4.0000 - val_fp: 6.0000 - val_tn: 21.0000 - val_fn: 11.0000 - val_accuracy: 0.5952 - val_recall: 0.2667 - val_precision: 0.4000 - val_prc: 0.4751\n",
            "Epoch 353/500\n",
            "2/2 [==============================] - 0s 50ms/step - loss: 0.1618 - tp: 43.0000 - fp: 7.0000 - tn: 111.0000 - fn: 4.0000 - accuracy: 0.9333 - recall: 0.9149 - precision: 0.8600 - prc: 0.9547 - val_loss: 4.3559 - val_tp: 4.0000 - val_fp: 7.0000 - val_tn: 20.0000 - val_fn: 11.0000 - val_accuracy: 0.5714 - val_recall: 0.2667 - val_precision: 0.3636 - val_prc: 0.4615\n",
            "Epoch 354/500\n",
            "2/2 [==============================] - 0s 51ms/step - loss: 0.1965 - tp: 39.0000 - fp: 6.0000 - tn: 112.0000 - fn: 8.0000 - accuracy: 0.9152 - recall: 0.8298 - precision: 0.8667 - prc: 0.9307 - val_loss: 4.3648 - val_tp: 4.0000 - val_fp: 7.0000 - val_tn: 20.0000 - val_fn: 11.0000 - val_accuracy: 0.5714 - val_recall: 0.2667 - val_precision: 0.3636 - val_prc: 0.4615\n",
            "Epoch 355/500\n",
            "2/2 [==============================] - 0s 52ms/step - loss: 0.1878 - tp: 39.0000 - fp: 4.0000 - tn: 114.0000 - fn: 8.0000 - accuracy: 0.9273 - recall: 0.8298 - precision: 0.9070 - prc: 0.9353 - val_loss: 4.3664 - val_tp: 4.0000 - val_fp: 7.0000 - val_tn: 20.0000 - val_fn: 11.0000 - val_accuracy: 0.5714 - val_recall: 0.2667 - val_precision: 0.3636 - val_prc: 0.4615\n",
            "Epoch 356/500\n",
            "2/2 [==============================] - 0s 62ms/step - loss: 0.1541 - tp: 46.0000 - fp: 10.0000 - tn: 108.0000 - fn: 1.0000 - accuracy: 0.9333 - recall: 0.9787 - precision: 0.8214 - prc: 0.9568 - val_loss: 4.3722 - val_tp: 4.0000 - val_fp: 7.0000 - val_tn: 20.0000 - val_fn: 11.0000 - val_accuracy: 0.5714 - val_recall: 0.2667 - val_precision: 0.3636 - val_prc: 0.4603\n",
            "Epoch 357/500\n",
            "2/2 [==============================] - 0s 74ms/step - loss: 0.1651 - tp: 44.0000 - fp: 9.0000 - tn: 109.0000 - fn: 3.0000 - accuracy: 0.9273 - recall: 0.9362 - precision: 0.8302 - prc: 0.9581 - val_loss: 4.3819 - val_tp: 4.0000 - val_fp: 7.0000 - val_tn: 20.0000 - val_fn: 11.0000 - val_accuracy: 0.5714 - val_recall: 0.2667 - val_precision: 0.3636 - val_prc: 0.4583\n",
            "Epoch 358/500\n",
            "2/2 [==============================] - 0s 60ms/step - loss: 0.1347 - tp: 45.0000 - fp: 7.0000 - tn: 111.0000 - fn: 2.0000 - accuracy: 0.9455 - recall: 0.9574 - precision: 0.8654 - prc: 0.9749 - val_loss: 4.3902 - val_tp: 4.0000 - val_fp: 7.0000 - val_tn: 20.0000 - val_fn: 11.0000 - val_accuracy: 0.5714 - val_recall: 0.2667 - val_precision: 0.3636 - val_prc: 0.4583\n",
            "Epoch 359/500\n",
            "2/2 [==============================] - 0s 57ms/step - loss: 0.1603 - tp: 44.0000 - fp: 8.0000 - tn: 110.0000 - fn: 3.0000 - accuracy: 0.9333 - recall: 0.9362 - precision: 0.8462 - prc: 0.9619 - val_loss: 4.3976 - val_tp: 4.0000 - val_fp: 7.0000 - val_tn: 20.0000 - val_fn: 11.0000 - val_accuracy: 0.5714 - val_recall: 0.2667 - val_precision: 0.3636 - val_prc: 0.4573\n",
            "Epoch 360/500\n",
            "2/2 [==============================] - 0s 62ms/step - loss: 0.1358 - tp: 46.0000 - fp: 9.0000 - tn: 109.0000 - fn: 1.0000 - accuracy: 0.9394 - recall: 0.9787 - precision: 0.8364 - prc: 0.9793 - val_loss: 4.4048 - val_tp: 4.0000 - val_fp: 7.0000 - val_tn: 20.0000 - val_fn: 11.0000 - val_accuracy: 0.5714 - val_recall: 0.2667 - val_precision: 0.3636 - val_prc: 0.4573\n",
            "Epoch 361/500\n",
            "2/2 [==============================] - 0s 68ms/step - loss: 0.1940 - tp: 43.0000 - fp: 10.0000 - tn: 108.0000 - fn: 4.0000 - accuracy: 0.9152 - recall: 0.9149 - precision: 0.8113 - prc: 0.9352 - val_loss: 4.4127 - val_tp: 4.0000 - val_fp: 7.0000 - val_tn: 20.0000 - val_fn: 11.0000 - val_accuracy: 0.5714 - val_recall: 0.2667 - val_precision: 0.3636 - val_prc: 0.4573\n",
            "Epoch 362/500\n",
            "2/2 [==============================] - 0s 49ms/step - loss: 0.1600 - tp: 43.0000 - fp: 10.0000 - tn: 108.0000 - fn: 4.0000 - accuracy: 0.9152 - recall: 0.9149 - precision: 0.8113 - prc: 0.9526 - val_loss: 4.4218 - val_tp: 4.0000 - val_fp: 7.0000 - val_tn: 20.0000 - val_fn: 11.0000 - val_accuracy: 0.5714 - val_recall: 0.2667 - val_precision: 0.3636 - val_prc: 0.4573\n",
            "Epoch 363/500\n",
            "2/2 [==============================] - 0s 64ms/step - loss: 0.1908 - tp: 44.0000 - fp: 9.0000 - tn: 109.0000 - fn: 3.0000 - accuracy: 0.9273 - recall: 0.9362 - precision: 0.8302 - prc: 0.9468 - val_loss: 4.4279 - val_tp: 4.0000 - val_fp: 7.0000 - val_tn: 20.0000 - val_fn: 11.0000 - val_accuracy: 0.5714 - val_recall: 0.2667 - val_precision: 0.3636 - val_prc: 0.4573\n",
            "Epoch 364/500\n",
            "2/2 [==============================] - 0s 64ms/step - loss: 0.1520 - tp: 44.0000 - fp: 10.0000 - tn: 108.0000 - fn: 3.0000 - accuracy: 0.9212 - recall: 0.9362 - precision: 0.8148 - prc: 0.9697 - val_loss: 4.4314 - val_tp: 4.0000 - val_fp: 7.0000 - val_tn: 20.0000 - val_fn: 11.0000 - val_accuracy: 0.5714 - val_recall: 0.2667 - val_precision: 0.3636 - val_prc: 0.4615\n",
            "Epoch 365/500\n",
            "2/2 [==============================] - 0s 47ms/step - loss: 0.2070 - tp: 42.0000 - fp: 14.0000 - tn: 104.0000 - fn: 5.0000 - accuracy: 0.8848 - recall: 0.8936 - precision: 0.7500 - prc: 0.9349 - val_loss: 4.4404 - val_tp: 4.0000 - val_fp: 7.0000 - val_tn: 20.0000 - val_fn: 11.0000 - val_accuracy: 0.5714 - val_recall: 0.2667 - val_precision: 0.3636 - val_prc: 0.4615\n",
            "Epoch 366/500\n",
            "2/2 [==============================] - 0s 47ms/step - loss: 0.1424 - tp: 45.0000 - fp: 10.0000 - tn: 108.0000 - fn: 2.0000 - accuracy: 0.9273 - recall: 0.9574 - precision: 0.8182 - prc: 0.9717 - val_loss: 4.4430 - val_tp: 4.0000 - val_fp: 7.0000 - val_tn: 20.0000 - val_fn: 11.0000 - val_accuracy: 0.5714 - val_recall: 0.2667 - val_precision: 0.3636 - val_prc: 0.4757\n",
            "Epoch 367/500\n",
            "2/2 [==============================] - 0s 53ms/step - loss: 0.1792 - tp: 45.0000 - fp: 12.0000 - tn: 106.0000 - fn: 2.0000 - accuracy: 0.9152 - recall: 0.9574 - precision: 0.7895 - prc: 0.9477 - val_loss: 4.4477 - val_tp: 4.0000 - val_fp: 7.0000 - val_tn: 20.0000 - val_fn: 11.0000 - val_accuracy: 0.5714 - val_recall: 0.2667 - val_precision: 0.3636 - val_prc: 0.4745\n",
            "Epoch 368/500\n",
            "2/2 [==============================] - 0s 46ms/step - loss: 0.1615 - tp: 45.0000 - fp: 9.0000 - tn: 109.0000 - fn: 2.0000 - accuracy: 0.9333 - recall: 0.9574 - precision: 0.8333 - prc: 0.9675 - val_loss: 4.4511 - val_tp: 5.0000 - val_fp: 7.0000 - val_tn: 20.0000 - val_fn: 10.0000 - val_accuracy: 0.5952 - val_recall: 0.3333 - val_precision: 0.4167 - val_prc: 0.4740\n",
            "Epoch 369/500\n",
            "2/2 [==============================] - 0s 66ms/step - loss: 0.1387 - tp: 46.0000 - fp: 10.0000 - tn: 108.0000 - fn: 1.0000 - accuracy: 0.9333 - recall: 0.9787 - precision: 0.8214 - prc: 0.9795 - val_loss: 4.4481 - val_tp: 5.0000 - val_fp: 7.0000 - val_tn: 20.0000 - val_fn: 10.0000 - val_accuracy: 0.5952 - val_recall: 0.3333 - val_precision: 0.4167 - val_prc: 0.4658\n",
            "Epoch 370/500\n",
            "2/2 [==============================] - 0s 51ms/step - loss: 0.1652 - tp: 40.0000 - fp: 10.0000 - tn: 108.0000 - fn: 7.0000 - accuracy: 0.8970 - recall: 0.8511 - precision: 0.8000 - prc: 0.9523 - val_loss: 4.4455 - val_tp: 5.0000 - val_fp: 6.0000 - val_tn: 21.0000 - val_fn: 10.0000 - val_accuracy: 0.6190 - val_recall: 0.3333 - val_precision: 0.4545 - val_prc: 0.4804\n",
            "Epoch 371/500\n",
            "2/2 [==============================] - 0s 86ms/step - loss: 0.1897 - tp: 42.0000 - fp: 13.0000 - tn: 105.0000 - fn: 5.0000 - accuracy: 0.8909 - recall: 0.8936 - precision: 0.7636 - prc: 0.9374 - val_loss: 4.4445 - val_tp: 5.0000 - val_fp: 6.0000 - val_tn: 21.0000 - val_fn: 10.0000 - val_accuracy: 0.6190 - val_recall: 0.3333 - val_precision: 0.4545 - val_prc: 0.4709\n",
            "Epoch 372/500\n",
            "2/2 [==============================] - 0s 68ms/step - loss: 0.2028 - tp: 45.0000 - fp: 12.0000 - tn: 106.0000 - fn: 2.0000 - accuracy: 0.9152 - recall: 0.9574 - precision: 0.7895 - prc: 0.9100 - val_loss: 4.4475 - val_tp: 6.0000 - val_fp: 6.0000 - val_tn: 21.0000 - val_fn: 9.0000 - val_accuracy: 0.6429 - val_recall: 0.4000 - val_precision: 0.5000 - val_prc: 0.4709\n",
            "Epoch 373/500\n",
            "2/2 [==============================] - 0s 51ms/step - loss: 0.1871 - tp: 44.0000 - fp: 11.0000 - tn: 107.0000 - fn: 3.0000 - accuracy: 0.9152 - recall: 0.9362 - precision: 0.8000 - prc: 0.9482 - val_loss: 4.4552 - val_tp: 6.0000 - val_fp: 6.0000 - val_tn: 21.0000 - val_fn: 9.0000 - val_accuracy: 0.6429 - val_recall: 0.4000 - val_precision: 0.5000 - val_prc: 0.4686\n",
            "Epoch 374/500\n",
            "2/2 [==============================] - 0s 45ms/step - loss: 0.1689 - tp: 46.0000 - fp: 12.0000 - tn: 106.0000 - fn: 1.0000 - accuracy: 0.9212 - recall: 0.9787 - precision: 0.7931 - prc: 0.9721 - val_loss: 4.4688 - val_tp: 6.0000 - val_fp: 6.0000 - val_tn: 21.0000 - val_fn: 9.0000 - val_accuracy: 0.6429 - val_recall: 0.4000 - val_precision: 0.5000 - val_prc: 0.4699\n",
            "Epoch 375/500\n",
            "2/2 [==============================] - 0s 46ms/step - loss: 0.1849 - tp: 41.0000 - fp: 11.0000 - tn: 107.0000 - fn: 6.0000 - accuracy: 0.8970 - recall: 0.8723 - precision: 0.7885 - prc: 0.9363 - val_loss: 4.4854 - val_tp: 4.0000 - val_fp: 6.0000 - val_tn: 21.0000 - val_fn: 11.0000 - val_accuracy: 0.5952 - val_recall: 0.2667 - val_precision: 0.4000 - val_prc: 0.4680\n",
            "Epoch 376/500\n",
            "2/2 [==============================] - 0s 46ms/step - loss: 0.1533 - tp: 45.0000 - fp: 10.0000 - tn: 108.0000 - fn: 2.0000 - accuracy: 0.9273 - recall: 0.9574 - precision: 0.8182 - prc: 0.9604 - val_loss: 4.4991 - val_tp: 4.0000 - val_fp: 6.0000 - val_tn: 21.0000 - val_fn: 11.0000 - val_accuracy: 0.5952 - val_recall: 0.2667 - val_precision: 0.4000 - val_prc: 0.4680\n",
            "Epoch 377/500\n",
            "2/2 [==============================] - 0s 56ms/step - loss: 0.1653 - tp: 43.0000 - fp: 9.0000 - tn: 109.0000 - fn: 4.0000 - accuracy: 0.9212 - recall: 0.9149 - precision: 0.8269 - prc: 0.9600 - val_loss: 4.5105 - val_tp: 4.0000 - val_fp: 6.0000 - val_tn: 21.0000 - val_fn: 11.0000 - val_accuracy: 0.5952 - val_recall: 0.2667 - val_precision: 0.4000 - val_prc: 0.4680\n",
            "Epoch 378/500\n",
            "2/2 [==============================] - 0s 65ms/step - loss: 0.1880 - tp: 44.0000 - fp: 9.0000 - tn: 109.0000 - fn: 3.0000 - accuracy: 0.9273 - recall: 0.9362 - precision: 0.8302 - prc: 0.9219 - val_loss: 4.5221 - val_tp: 4.0000 - val_fp: 6.0000 - val_tn: 21.0000 - val_fn: 11.0000 - val_accuracy: 0.5952 - val_recall: 0.2667 - val_precision: 0.4000 - val_prc: 0.4568\n",
            "Epoch 379/500\n",
            "2/2 [==============================] - 0s 50ms/step - loss: 0.1434 - tp: 46.0000 - fp: 6.0000 - tn: 112.0000 - fn: 1.0000 - accuracy: 0.9576 - recall: 0.9787 - precision: 0.8846 - prc: 0.9684 - val_loss: 4.5357 - val_tp: 4.0000 - val_fp: 6.0000 - val_tn: 21.0000 - val_fn: 11.0000 - val_accuracy: 0.5952 - val_recall: 0.2667 - val_precision: 0.4000 - val_prc: 0.4623\n",
            "Epoch 380/500\n",
            "2/2 [==============================] - 0s 44ms/step - loss: 0.1658 - tp: 47.0000 - fp: 10.0000 - tn: 108.0000 - fn: 0.0000e+00 - accuracy: 0.9394 - recall: 1.0000 - precision: 0.8246 - prc: 0.9641 - val_loss: 4.5497 - val_tp: 4.0000 - val_fp: 6.0000 - val_tn: 21.0000 - val_fn: 11.0000 - val_accuracy: 0.5952 - val_recall: 0.2667 - val_precision: 0.4000 - val_prc: 0.4623\n",
            "Epoch 381/500\n",
            "2/2 [==============================] - 0s 47ms/step - loss: 0.1373 - tp: 45.0000 - fp: 11.0000 - tn: 107.0000 - fn: 2.0000 - accuracy: 0.9212 - recall: 0.9574 - precision: 0.8036 - prc: 0.9779 - val_loss: 4.5648 - val_tp: 5.0000 - val_fp: 6.0000 - val_tn: 21.0000 - val_fn: 10.0000 - val_accuracy: 0.6190 - val_recall: 0.3333 - val_precision: 0.4545 - val_prc: 0.4623\n",
            "Epoch 382/500\n",
            "2/2 [==============================] - 0s 44ms/step - loss: 0.1834 - tp: 43.0000 - fp: 10.0000 - tn: 108.0000 - fn: 4.0000 - accuracy: 0.9152 - recall: 0.9149 - precision: 0.8113 - prc: 0.9487 - val_loss: 4.5735 - val_tp: 5.0000 - val_fp: 6.0000 - val_tn: 21.0000 - val_fn: 10.0000 - val_accuracy: 0.6190 - val_recall: 0.3333 - val_precision: 0.4545 - val_prc: 0.4623\n",
            "Epoch 383/500\n",
            "2/2 [==============================] - 0s 42ms/step - loss: 0.1531 - tp: 44.0000 - fp: 11.0000 - tn: 107.0000 - fn: 3.0000 - accuracy: 0.9152 - recall: 0.9362 - precision: 0.8000 - prc: 0.9599 - val_loss: 4.5794 - val_tp: 5.0000 - val_fp: 6.0000 - val_tn: 21.0000 - val_fn: 10.0000 - val_accuracy: 0.6190 - val_recall: 0.3333 - val_precision: 0.4545 - val_prc: 0.4653\n",
            "Epoch 384/500\n",
            "2/2 [==============================] - 0s 67ms/step - loss: 0.2313 - tp: 37.0000 - fp: 11.0000 - tn: 107.0000 - fn: 10.0000 - accuracy: 0.8727 - recall: 0.7872 - precision: 0.7708 - prc: 0.9067 - val_loss: 4.5798 - val_tp: 5.0000 - val_fp: 6.0000 - val_tn: 21.0000 - val_fn: 10.0000 - val_accuracy: 0.6190 - val_recall: 0.3333 - val_precision: 0.4545 - val_prc: 0.4710\n",
            "Epoch 385/500\n",
            "2/2 [==============================] - 0s 45ms/step - loss: 0.1784 - tp: 41.0000 - fp: 8.0000 - tn: 110.0000 - fn: 6.0000 - accuracy: 0.9152 - recall: 0.8723 - precision: 0.8367 - prc: 0.9493 - val_loss: 4.5690 - val_tp: 5.0000 - val_fp: 6.0000 - val_tn: 21.0000 - val_fn: 10.0000 - val_accuracy: 0.6190 - val_recall: 0.3333 - val_precision: 0.4545 - val_prc: 0.4888\n",
            "Epoch 386/500\n",
            "2/2 [==============================] - 0s 92ms/step - loss: 0.1875 - tp: 43.0000 - fp: 12.0000 - tn: 106.0000 - fn: 4.0000 - accuracy: 0.9030 - recall: 0.9149 - precision: 0.7818 - prc: 0.9383 - val_loss: 4.5605 - val_tp: 5.0000 - val_fp: 6.0000 - val_tn: 21.0000 - val_fn: 10.0000 - val_accuracy: 0.6190 - val_recall: 0.3333 - val_precision: 0.4545 - val_prc: 0.4888\n",
            "Epoch 387/500\n",
            "2/2 [==============================] - 0s 92ms/step - loss: 0.1829 - tp: 41.0000 - fp: 12.0000 - tn: 106.0000 - fn: 6.0000 - accuracy: 0.8909 - recall: 0.8723 - precision: 0.7736 - prc: 0.9403 - val_loss: 4.5538 - val_tp: 5.0000 - val_fp: 6.0000 - val_tn: 21.0000 - val_fn: 10.0000 - val_accuracy: 0.6190 - val_recall: 0.3333 - val_precision: 0.4545 - val_prc: 0.4888\n",
            "Epoch 388/500\n",
            "2/2 [==============================] - 0s 87ms/step - loss: 0.1528 - tp: 46.0000 - fp: 11.0000 - tn: 107.0000 - fn: 1.0000 - accuracy: 0.9273 - recall: 0.9787 - precision: 0.8070 - prc: 0.9760 - val_loss: 4.5500 - val_tp: 6.0000 - val_fp: 5.0000 - val_tn: 22.0000 - val_fn: 9.0000 - val_accuracy: 0.6667 - val_recall: 0.4000 - val_precision: 0.5455 - val_prc: 0.4919\n",
            "Epoch 389/500\n",
            "2/2 [==============================] - 0s 95ms/step - loss: 0.1626 - tp: 42.0000 - fp: 8.0000 - tn: 110.0000 - fn: 5.0000 - accuracy: 0.9212 - recall: 0.8936 - precision: 0.8400 - prc: 0.9554 - val_loss: 4.5389 - val_tp: 6.0000 - val_fp: 5.0000 - val_tn: 22.0000 - val_fn: 9.0000 - val_accuracy: 0.6667 - val_recall: 0.4000 - val_precision: 0.5455 - val_prc: 0.4919\n",
            "Epoch 390/500\n",
            "2/2 [==============================] - 0s 94ms/step - loss: 0.1745 - tp: 44.0000 - fp: 14.0000 - tn: 104.0000 - fn: 3.0000 - accuracy: 0.8970 - recall: 0.9362 - precision: 0.7586 - prc: 0.9506 - val_loss: 4.5358 - val_tp: 6.0000 - val_fp: 5.0000 - val_tn: 22.0000 - val_fn: 9.0000 - val_accuracy: 0.6667 - val_recall: 0.4000 - val_precision: 0.5455 - val_prc: 0.4919\n",
            "Epoch 391/500\n",
            "2/2 [==============================] - 0s 100ms/step - loss: 0.1379 - tp: 46.0000 - fp: 8.0000 - tn: 110.0000 - fn: 1.0000 - accuracy: 0.9455 - recall: 0.9787 - precision: 0.8519 - prc: 0.9748 - val_loss: 4.5329 - val_tp: 6.0000 - val_fp: 5.0000 - val_tn: 22.0000 - val_fn: 9.0000 - val_accuracy: 0.6667 - val_recall: 0.4000 - val_precision: 0.5455 - val_prc: 0.4939\n",
            "Epoch 392/500\n",
            "2/2 [==============================] - 0s 97ms/step - loss: 0.1583 - tp: 46.0000 - fp: 8.0000 - tn: 110.0000 - fn: 1.0000 - accuracy: 0.9455 - recall: 0.9787 - precision: 0.8519 - prc: 0.9338 - val_loss: 4.5332 - val_tp: 6.0000 - val_fp: 4.0000 - val_tn: 23.0000 - val_fn: 9.0000 - val_accuracy: 0.6905 - val_recall: 0.4000 - val_precision: 0.6000 - val_prc: 0.4949\n",
            "Epoch 393/500\n",
            "2/2 [==============================] - 0s 133ms/step - loss: 0.1772 - tp: 45.0000 - fp: 12.0000 - tn: 106.0000 - fn: 2.0000 - accuracy: 0.9152 - recall: 0.9574 - precision: 0.7895 - prc: 0.9454 - val_loss: 4.5361 - val_tp: 6.0000 - val_fp: 4.0000 - val_tn: 23.0000 - val_fn: 9.0000 - val_accuracy: 0.6905 - val_recall: 0.4000 - val_precision: 0.6000 - val_prc: 0.4949\n",
            "Epoch 394/500\n",
            "2/2 [==============================] - 0s 74ms/step - loss: 0.1417 - tp: 44.0000 - fp: 6.0000 - tn: 112.0000 - fn: 3.0000 - accuracy: 0.9455 - recall: 0.9362 - precision: 0.8800 - prc: 0.9728 - val_loss: 4.5404 - val_tp: 6.0000 - val_fp: 4.0000 - val_tn: 23.0000 - val_fn: 9.0000 - val_accuracy: 0.6905 - val_recall: 0.4000 - val_precision: 0.6000 - val_prc: 0.4949\n",
            "Epoch 395/500\n",
            "2/2 [==============================] - 0s 117ms/step - loss: 0.1545 - tp: 46.0000 - fp: 12.0000 - tn: 106.0000 - fn: 1.0000 - accuracy: 0.9212 - recall: 0.9787 - precision: 0.7931 - prc: 0.9647 - val_loss: 4.5485 - val_tp: 6.0000 - val_fp: 5.0000 - val_tn: 22.0000 - val_fn: 9.0000 - val_accuracy: 0.6667 - val_recall: 0.4000 - val_precision: 0.5455 - val_prc: 0.4949\n",
            "Epoch 396/500\n",
            "2/2 [==============================] - 0s 85ms/step - loss: 0.1792 - tp: 44.0000 - fp: 11.0000 - tn: 107.0000 - fn: 3.0000 - accuracy: 0.9152 - recall: 0.9362 - precision: 0.8000 - prc: 0.9520 - val_loss: 4.5616 - val_tp: 6.0000 - val_fp: 5.0000 - val_tn: 22.0000 - val_fn: 9.0000 - val_accuracy: 0.6667 - val_recall: 0.4000 - val_precision: 0.5455 - val_prc: 0.4949\n",
            "Epoch 397/500\n",
            "2/2 [==============================] - 0s 70ms/step - loss: 0.1684 - tp: 43.0000 - fp: 12.0000 - tn: 106.0000 - fn: 4.0000 - accuracy: 0.9030 - recall: 0.9149 - precision: 0.7818 - prc: 0.9453 - val_loss: 4.5732 - val_tp: 6.0000 - val_fp: 5.0000 - val_tn: 22.0000 - val_fn: 9.0000 - val_accuracy: 0.6667 - val_recall: 0.4000 - val_precision: 0.5455 - val_prc: 0.4876\n",
            "Epoch 398/500\n",
            "2/2 [==============================] - 0s 80ms/step - loss: 0.1806 - tp: 44.0000 - fp: 16.0000 - tn: 102.0000 - fn: 3.0000 - accuracy: 0.8848 - recall: 0.9362 - precision: 0.7333 - prc: 0.9502 - val_loss: 4.5916 - val_tp: 6.0000 - val_fp: 5.0000 - val_tn: 22.0000 - val_fn: 9.0000 - val_accuracy: 0.6667 - val_recall: 0.4000 - val_precision: 0.5455 - val_prc: 0.4876\n",
            "Epoch 399/500\n",
            "2/2 [==============================] - 0s 97ms/step - loss: 0.1739 - tp: 44.0000 - fp: 12.0000 - tn: 106.0000 - fn: 3.0000 - accuracy: 0.9091 - recall: 0.9362 - precision: 0.7857 - prc: 0.9563 - val_loss: 4.6078 - val_tp: 5.0000 - val_fp: 6.0000 - val_tn: 21.0000 - val_fn: 10.0000 - val_accuracy: 0.6190 - val_recall: 0.3333 - val_precision: 0.4545 - val_prc: 0.4815\n",
            "Epoch 400/500\n",
            "2/2 [==============================] - 0s 63ms/step - loss: 0.2042 - tp: 41.0000 - fp: 9.0000 - tn: 109.0000 - fn: 6.0000 - accuracy: 0.9091 - recall: 0.8723 - precision: 0.8200 - prc: 0.9277 - val_loss: 4.6240 - val_tp: 4.0000 - val_fp: 6.0000 - val_tn: 21.0000 - val_fn: 11.0000 - val_accuracy: 0.5952 - val_recall: 0.2667 - val_precision: 0.4000 - val_prc: 0.4765\n",
            "Epoch 401/500\n",
            "2/2 [==============================] - 0s 76ms/step - loss: 0.1484 - tp: 43.0000 - fp: 7.0000 - tn: 111.0000 - fn: 4.0000 - accuracy: 0.9333 - recall: 0.9149 - precision: 0.8600 - prc: 0.9665 - val_loss: 4.6383 - val_tp: 4.0000 - val_fp: 6.0000 - val_tn: 21.0000 - val_fn: 11.0000 - val_accuracy: 0.5952 - val_recall: 0.2667 - val_precision: 0.4000 - val_prc: 0.4759\n",
            "Epoch 402/500\n",
            "2/2 [==============================] - 0s 65ms/step - loss: 0.1604 - tp: 43.0000 - fp: 10.0000 - tn: 108.0000 - fn: 4.0000 - accuracy: 0.9152 - recall: 0.9149 - precision: 0.8113 - prc: 0.9595 - val_loss: 4.6511 - val_tp: 4.0000 - val_fp: 6.0000 - val_tn: 21.0000 - val_fn: 11.0000 - val_accuracy: 0.5952 - val_recall: 0.2667 - val_precision: 0.4000 - val_prc: 0.4791\n",
            "Epoch 403/500\n",
            "2/2 [==============================] - 0s 106ms/step - loss: 0.1957 - tp: 43.0000 - fp: 11.0000 - tn: 107.0000 - fn: 4.0000 - accuracy: 0.9091 - recall: 0.9149 - precision: 0.7963 - prc: 0.9157 - val_loss: 4.6698 - val_tp: 4.0000 - val_fp: 7.0000 - val_tn: 20.0000 - val_fn: 11.0000 - val_accuracy: 0.5714 - val_recall: 0.2667 - val_precision: 0.3636 - val_prc: 0.4801\n",
            "Epoch 404/500\n",
            "2/2 [==============================] - 0s 72ms/step - loss: 0.1457 - tp: 45.0000 - fp: 7.0000 - tn: 111.0000 - fn: 2.0000 - accuracy: 0.9455 - recall: 0.9574 - precision: 0.8654 - prc: 0.9834 - val_loss: 4.6850 - val_tp: 4.0000 - val_fp: 7.0000 - val_tn: 20.0000 - val_fn: 11.0000 - val_accuracy: 0.5714 - val_recall: 0.2667 - val_precision: 0.3636 - val_prc: 0.4813\n",
            "Epoch 405/500\n",
            "2/2 [==============================] - 0s 82ms/step - loss: 0.1780 - tp: 41.0000 - fp: 10.0000 - tn: 108.0000 - fn: 6.0000 - accuracy: 0.9030 - recall: 0.8723 - precision: 0.8039 - prc: 0.9465 - val_loss: 4.6971 - val_tp: 4.0000 - val_fp: 7.0000 - val_tn: 20.0000 - val_fn: 11.0000 - val_accuracy: 0.5714 - val_recall: 0.2667 - val_precision: 0.3636 - val_prc: 0.4813\n",
            "Epoch 406/500\n",
            "2/2 [==============================] - 0s 83ms/step - loss: 0.1851 - tp: 44.0000 - fp: 11.0000 - tn: 107.0000 - fn: 3.0000 - accuracy: 0.9152 - recall: 0.9362 - precision: 0.8000 - prc: 0.9375 - val_loss: 4.7113 - val_tp: 5.0000 - val_fp: 7.0000 - val_tn: 20.0000 - val_fn: 10.0000 - val_accuracy: 0.5952 - val_recall: 0.3333 - val_precision: 0.4167 - val_prc: 0.4813\n",
            "Epoch 407/500\n",
            "2/2 [==============================] - 0s 70ms/step - loss: 0.1744 - tp: 41.0000 - fp: 7.0000 - tn: 111.0000 - fn: 6.0000 - accuracy: 0.9212 - recall: 0.8723 - precision: 0.8542 - prc: 0.9485 - val_loss: 4.7234 - val_tp: 5.0000 - val_fp: 7.0000 - val_tn: 20.0000 - val_fn: 10.0000 - val_accuracy: 0.5952 - val_recall: 0.3333 - val_precision: 0.4167 - val_prc: 0.4813\n",
            "Epoch 408/500\n",
            "2/2 [==============================] - 0s 54ms/step - loss: 0.2064 - tp: 42.0000 - fp: 13.0000 - tn: 105.0000 - fn: 5.0000 - accuracy: 0.8909 - recall: 0.8936 - precision: 0.7636 - prc: 0.9254 - val_loss: 4.7337 - val_tp: 5.0000 - val_fp: 7.0000 - val_tn: 20.0000 - val_fn: 10.0000 - val_accuracy: 0.5952 - val_recall: 0.3333 - val_precision: 0.4167 - val_prc: 0.4813\n",
            "Epoch 409/500\n",
            "2/2 [==============================] - 0s 38ms/step - loss: 0.1461 - tp: 45.0000 - fp: 10.0000 - tn: 108.0000 - fn: 2.0000 - accuracy: 0.9273 - recall: 0.9574 - precision: 0.8182 - prc: 0.9667 - val_loss: 4.7448 - val_tp: 5.0000 - val_fp: 7.0000 - val_tn: 20.0000 - val_fn: 10.0000 - val_accuracy: 0.5952 - val_recall: 0.3333 - val_precision: 0.4167 - val_prc: 0.4765\n",
            "Epoch 410/500\n",
            "2/2 [==============================] - 0s 43ms/step - loss: 0.1133 - tp: 47.0000 - fp: 8.0000 - tn: 110.0000 - fn: 0.0000e+00 - accuracy: 0.9515 - recall: 1.0000 - precision: 0.8545 - prc: 0.9827 - val_loss: 4.7509 - val_tp: 5.0000 - val_fp: 7.0000 - val_tn: 20.0000 - val_fn: 10.0000 - val_accuracy: 0.5952 - val_recall: 0.3333 - val_precision: 0.4167 - val_prc: 0.4813\n",
            "Epoch 411/500\n",
            "2/2 [==============================] - 0s 39ms/step - loss: 0.1841 - tp: 42.0000 - fp: 13.0000 - tn: 105.0000 - fn: 5.0000 - accuracy: 0.8909 - recall: 0.8936 - precision: 0.7636 - prc: 0.9411 - val_loss: 4.7629 - val_tp: 5.0000 - val_fp: 7.0000 - val_tn: 20.0000 - val_fn: 10.0000 - val_accuracy: 0.5952 - val_recall: 0.3333 - val_precision: 0.4167 - val_prc: 0.4838\n",
            "Epoch 412/500\n",
            "2/2 [==============================] - 0s 57ms/step - loss: 0.2047 - tp: 44.0000 - fp: 15.0000 - tn: 103.0000 - fn: 3.0000 - accuracy: 0.8909 - recall: 0.9362 - precision: 0.7458 - prc: 0.8992 - val_loss: 4.7754 - val_tp: 5.0000 - val_fp: 7.0000 - val_tn: 20.0000 - val_fn: 10.0000 - val_accuracy: 0.5952 - val_recall: 0.3333 - val_precision: 0.4167 - val_prc: 0.4826\n",
            "Epoch 413/500\n",
            "2/2 [==============================] - 0s 37ms/step - loss: 0.1462 - tp: 42.0000 - fp: 6.0000 - tn: 112.0000 - fn: 5.0000 - accuracy: 0.9333 - recall: 0.8936 - precision: 0.8750 - prc: 0.9606 - val_loss: 4.7837 - val_tp: 5.0000 - val_fp: 7.0000 - val_tn: 20.0000 - val_fn: 10.0000 - val_accuracy: 0.5952 - val_recall: 0.3333 - val_precision: 0.4167 - val_prc: 0.4804\n",
            "Epoch 414/500\n",
            "2/2 [==============================] - 0s 62ms/step - loss: 0.2088 - tp: 44.0000 - fp: 11.0000 - tn: 107.0000 - fn: 3.0000 - accuracy: 0.9152 - recall: 0.9362 - precision: 0.8000 - prc: 0.9028 - val_loss: 4.7945 - val_tp: 5.0000 - val_fp: 6.0000 - val_tn: 21.0000 - val_fn: 10.0000 - val_accuracy: 0.6190 - val_recall: 0.3333 - val_precision: 0.4545 - val_prc: 0.4793\n",
            "Epoch 415/500\n",
            "2/2 [==============================] - 0s 46ms/step - loss: 0.1671 - tp: 44.0000 - fp: 8.0000 - tn: 110.0000 - fn: 3.0000 - accuracy: 0.9333 - recall: 0.9362 - precision: 0.8462 - prc: 0.9536 - val_loss: 4.8028 - val_tp: 5.0000 - val_fp: 6.0000 - val_tn: 21.0000 - val_fn: 10.0000 - val_accuracy: 0.6190 - val_recall: 0.3333 - val_precision: 0.4545 - val_prc: 0.4841\n",
            "Epoch 416/500\n",
            "2/2 [==============================] - 0s 54ms/step - loss: 0.1774 - tp: 44.0000 - fp: 11.0000 - tn: 107.0000 - fn: 3.0000 - accuracy: 0.9152 - recall: 0.9362 - precision: 0.8000 - prc: 0.9557 - val_loss: 4.8106 - val_tp: 5.0000 - val_fp: 6.0000 - val_tn: 21.0000 - val_fn: 10.0000 - val_accuracy: 0.6190 - val_recall: 0.3333 - val_precision: 0.4545 - val_prc: 0.4841\n",
            "Epoch 417/500\n",
            "2/2 [==============================] - 0s 57ms/step - loss: 0.1683 - tp: 44.0000 - fp: 9.0000 - tn: 109.0000 - fn: 3.0000 - accuracy: 0.9273 - recall: 0.9362 - precision: 0.8302 - prc: 0.9609 - val_loss: 4.8205 - val_tp: 5.0000 - val_fp: 5.0000 - val_tn: 22.0000 - val_fn: 10.0000 - val_accuracy: 0.6429 - val_recall: 0.3333 - val_precision: 0.5000 - val_prc: 0.4777\n",
            "Epoch 418/500\n",
            "2/2 [==============================] - 0s 36ms/step - loss: 0.1580 - tp: 41.0000 - fp: 9.0000 - tn: 109.0000 - fn: 6.0000 - accuracy: 0.9091 - recall: 0.8723 - precision: 0.8200 - prc: 0.9635 - val_loss: 4.8329 - val_tp: 5.0000 - val_fp: 5.0000 - val_tn: 22.0000 - val_fn: 10.0000 - val_accuracy: 0.6429 - val_recall: 0.3333 - val_precision: 0.5000 - val_prc: 0.4754\n",
            "Epoch 419/500\n",
            "2/2 [==============================] - 0s 40ms/step - loss: 0.1057 - tp: 47.0000 - fp: 5.0000 - tn: 113.0000 - fn: 0.0000e+00 - accuracy: 0.9697 - recall: 1.0000 - precision: 0.9038 - prc: 0.9938 - val_loss: 4.8440 - val_tp: 5.0000 - val_fp: 5.0000 - val_tn: 22.0000 - val_fn: 10.0000 - val_accuracy: 0.6429 - val_recall: 0.3333 - val_precision: 0.5000 - val_prc: 0.4717\n",
            "Epoch 420/500\n",
            "2/2 [==============================] - 0s 38ms/step - loss: 0.1576 - tp: 45.0000 - fp: 9.0000 - tn: 109.0000 - fn: 2.0000 - accuracy: 0.9333 - recall: 0.9574 - precision: 0.8333 - prc: 0.9641 - val_loss: 4.8498 - val_tp: 5.0000 - val_fp: 5.0000 - val_tn: 22.0000 - val_fn: 10.0000 - val_accuracy: 0.6429 - val_recall: 0.3333 - val_precision: 0.5000 - val_prc: 0.4756\n",
            "Epoch 421/500\n",
            "2/2 [==============================] - 0s 36ms/step - loss: 0.1752 - tp: 43.0000 - fp: 11.0000 - tn: 107.0000 - fn: 4.0000 - accuracy: 0.9091 - recall: 0.9149 - precision: 0.7963 - prc: 0.9524 - val_loss: 4.8530 - val_tp: 5.0000 - val_fp: 5.0000 - val_tn: 22.0000 - val_fn: 10.0000 - val_accuracy: 0.6429 - val_recall: 0.3333 - val_precision: 0.5000 - val_prc: 0.4777\n",
            "Epoch 422/500\n",
            "2/2 [==============================] - 0s 37ms/step - loss: 0.2069 - tp: 44.0000 - fp: 12.0000 - tn: 106.0000 - fn: 3.0000 - accuracy: 0.9091 - recall: 0.9362 - precision: 0.7857 - prc: 0.9273 - val_loss: 4.8606 - val_tp: 5.0000 - val_fp: 5.0000 - val_tn: 22.0000 - val_fn: 10.0000 - val_accuracy: 0.6429 - val_recall: 0.3333 - val_precision: 0.5000 - val_prc: 0.4754\n",
            "Epoch 423/500\n",
            "2/2 [==============================] - 0s 35ms/step - loss: 0.1956 - tp: 40.0000 - fp: 11.0000 - tn: 107.0000 - fn: 7.0000 - accuracy: 0.8909 - recall: 0.8511 - precision: 0.7843 - prc: 0.9328 - val_loss: 4.8685 - val_tp: 5.0000 - val_fp: 5.0000 - val_tn: 22.0000 - val_fn: 10.0000 - val_accuracy: 0.6429 - val_recall: 0.3333 - val_precision: 0.5000 - val_prc: 0.4754\n",
            "Epoch 424/500\n",
            "2/2 [==============================] - 0s 36ms/step - loss: 0.1571 - tp: 42.0000 - fp: 7.0000 - tn: 111.0000 - fn: 5.0000 - accuracy: 0.9273 - recall: 0.8936 - precision: 0.8571 - prc: 0.9593 - val_loss: 4.8720 - val_tp: 4.0000 - val_fp: 6.0000 - val_tn: 21.0000 - val_fn: 11.0000 - val_accuracy: 0.5952 - val_recall: 0.2667 - val_precision: 0.4000 - val_prc: 0.4693\n",
            "Epoch 425/500\n",
            "2/2 [==============================] - 0s 35ms/step - loss: 0.1875 - tp: 42.0000 - fp: 13.0000 - tn: 105.0000 - fn: 5.0000 - accuracy: 0.8909 - recall: 0.8936 - precision: 0.7636 - prc: 0.9432 - val_loss: 4.8745 - val_tp: 4.0000 - val_fp: 6.0000 - val_tn: 21.0000 - val_fn: 11.0000 - val_accuracy: 0.5952 - val_recall: 0.2667 - val_precision: 0.4000 - val_prc: 0.4693\n",
            "Epoch 426/500\n",
            "2/2 [==============================] - 0s 37ms/step - loss: 0.1541 - tp: 46.0000 - fp: 11.0000 - tn: 107.0000 - fn: 1.0000 - accuracy: 0.9273 - recall: 0.9787 - precision: 0.8070 - prc: 0.9782 - val_loss: 4.8789 - val_tp: 4.0000 - val_fp: 6.0000 - val_tn: 21.0000 - val_fn: 11.0000 - val_accuracy: 0.5952 - val_recall: 0.2667 - val_precision: 0.4000 - val_prc: 0.4693\n",
            "Epoch 427/500\n",
            "2/2 [==============================] - 0s 53ms/step - loss: 0.2006 - tp: 41.0000 - fp: 7.0000 - tn: 111.0000 - fn: 6.0000 - accuracy: 0.9212 - recall: 0.8723 - precision: 0.8542 - prc: 0.9286 - val_loss: 4.8827 - val_tp: 4.0000 - val_fp: 6.0000 - val_tn: 21.0000 - val_fn: 11.0000 - val_accuracy: 0.5952 - val_recall: 0.2667 - val_precision: 0.4000 - val_prc: 0.4693\n",
            "Epoch 428/500\n",
            "2/2 [==============================] - 0s 38ms/step - loss: 0.1805 - tp: 40.0000 - fp: 10.0000 - tn: 108.0000 - fn: 7.0000 - accuracy: 0.8970 - recall: 0.8511 - precision: 0.8000 - prc: 0.9448 - val_loss: 4.8835 - val_tp: 4.0000 - val_fp: 6.0000 - val_tn: 21.0000 - val_fn: 11.0000 - val_accuracy: 0.5952 - val_recall: 0.2667 - val_precision: 0.4000 - val_prc: 0.4714\n",
            "Epoch 429/500\n",
            "2/2 [==============================] - 0s 36ms/step - loss: 0.1748 - tp: 42.0000 - fp: 7.0000 - tn: 111.0000 - fn: 5.0000 - accuracy: 0.9273 - recall: 0.8936 - precision: 0.8571 - prc: 0.9272 - val_loss: 4.8879 - val_tp: 4.0000 - val_fp: 6.0000 - val_tn: 21.0000 - val_fn: 11.0000 - val_accuracy: 0.5952 - val_recall: 0.2667 - val_precision: 0.4000 - val_prc: 0.4668\n",
            "Epoch 430/500\n",
            "2/2 [==============================] - 0s 39ms/step - loss: 0.1637 - tp: 47.0000 - fp: 12.0000 - tn: 106.0000 - fn: 0.0000e+00 - accuracy: 0.9273 - recall: 1.0000 - precision: 0.7966 - prc: 0.9666 - val_loss: 4.8916 - val_tp: 4.0000 - val_fp: 6.0000 - val_tn: 21.0000 - val_fn: 11.0000 - val_accuracy: 0.5952 - val_recall: 0.2667 - val_precision: 0.4000 - val_prc: 0.4668\n",
            "Epoch 431/500\n",
            "2/2 [==============================] - 0s 65ms/step - loss: 0.2039 - tp: 43.0000 - fp: 11.0000 - tn: 107.0000 - fn: 4.0000 - accuracy: 0.9091 - recall: 0.9149 - precision: 0.7963 - prc: 0.9348 - val_loss: 4.8899 - val_tp: 4.0000 - val_fp: 6.0000 - val_tn: 21.0000 - val_fn: 11.0000 - val_accuracy: 0.5952 - val_recall: 0.2667 - val_precision: 0.4000 - val_prc: 0.4660\n",
            "Epoch 432/500\n",
            "2/2 [==============================] - 0s 40ms/step - loss: 0.1729 - tp: 42.0000 - fp: 10.0000 - tn: 108.0000 - fn: 5.0000 - accuracy: 0.9091 - recall: 0.8936 - precision: 0.8077 - prc: 0.9514 - val_loss: 4.8930 - val_tp: 4.0000 - val_fp: 6.0000 - val_tn: 21.0000 - val_fn: 11.0000 - val_accuracy: 0.5952 - val_recall: 0.2667 - val_precision: 0.4000 - val_prc: 0.4685\n",
            "Epoch 433/500\n",
            "2/2 [==============================] - 0s 37ms/step - loss: 0.1684 - tp: 45.0000 - fp: 11.0000 - tn: 107.0000 - fn: 2.0000 - accuracy: 0.9212 - recall: 0.9574 - precision: 0.8036 - prc: 0.9507 - val_loss: 4.8955 - val_tp: 4.0000 - val_fp: 6.0000 - val_tn: 21.0000 - val_fn: 11.0000 - val_accuracy: 0.5952 - val_recall: 0.2667 - val_precision: 0.4000 - val_prc: 0.4685\n",
            "Epoch 434/500\n",
            "2/2 [==============================] - 0s 65ms/step - loss: 0.1580 - tp: 43.0000 - fp: 10.0000 - tn: 108.0000 - fn: 4.0000 - accuracy: 0.9152 - recall: 0.9149 - precision: 0.8113 - prc: 0.9477 - val_loss: 4.8998 - val_tp: 4.0000 - val_fp: 6.0000 - val_tn: 21.0000 - val_fn: 11.0000 - val_accuracy: 0.5952 - val_recall: 0.2667 - val_precision: 0.4000 - val_prc: 0.4696\n",
            "Epoch 435/500\n",
            "2/2 [==============================] - 0s 41ms/step - loss: 0.1519 - tp: 44.0000 - fp: 8.0000 - tn: 110.0000 - fn: 3.0000 - accuracy: 0.9333 - recall: 0.9362 - precision: 0.8462 - prc: 0.9656 - val_loss: 4.9038 - val_tp: 4.0000 - val_fp: 6.0000 - val_tn: 21.0000 - val_fn: 11.0000 - val_accuracy: 0.5952 - val_recall: 0.2667 - val_precision: 0.4000 - val_prc: 0.4729\n",
            "Epoch 436/500\n",
            "2/2 [==============================] - 0s 54ms/step - loss: 0.1650 - tp: 43.0000 - fp: 10.0000 - tn: 108.0000 - fn: 4.0000 - accuracy: 0.9152 - recall: 0.9149 - precision: 0.8113 - prc: 0.9572 - val_loss: 4.9070 - val_tp: 4.0000 - val_fp: 6.0000 - val_tn: 21.0000 - val_fn: 11.0000 - val_accuracy: 0.5952 - val_recall: 0.2667 - val_precision: 0.4000 - val_prc: 0.4729\n",
            "Epoch 437/500\n",
            "2/2 [==============================] - 0s 43ms/step - loss: 0.1428 - tp: 43.0000 - fp: 7.0000 - tn: 111.0000 - fn: 4.0000 - accuracy: 0.9333 - recall: 0.9149 - precision: 0.8600 - prc: 0.9709 - val_loss: 4.9107 - val_tp: 4.0000 - val_fp: 6.0000 - val_tn: 21.0000 - val_fn: 11.0000 - val_accuracy: 0.5952 - val_recall: 0.2667 - val_precision: 0.4000 - val_prc: 0.4777\n",
            "Epoch 438/500\n",
            "2/2 [==============================] - 0s 57ms/step - loss: 0.1307 - tp: 45.0000 - fp: 6.0000 - tn: 112.0000 - fn: 2.0000 - accuracy: 0.9515 - recall: 0.9574 - precision: 0.8824 - prc: 0.9782 - val_loss: 4.9138 - val_tp: 4.0000 - val_fp: 6.0000 - val_tn: 21.0000 - val_fn: 11.0000 - val_accuracy: 0.5952 - val_recall: 0.2667 - val_precision: 0.4000 - val_prc: 0.4807\n",
            "Epoch 439/500\n",
            "2/2 [==============================] - 0s 62ms/step - loss: 0.1691 - tp: 45.0000 - fp: 12.0000 - tn: 106.0000 - fn: 2.0000 - accuracy: 0.9152 - recall: 0.9574 - precision: 0.7895 - prc: 0.9554 - val_loss: 4.9156 - val_tp: 4.0000 - val_fp: 6.0000 - val_tn: 21.0000 - val_fn: 11.0000 - val_accuracy: 0.5952 - val_recall: 0.2667 - val_precision: 0.4000 - val_prc: 0.4869\n",
            "Epoch 440/500\n",
            "2/2 [==============================] - 0s 45ms/step - loss: 0.2045 - tp: 40.0000 - fp: 12.0000 - tn: 106.0000 - fn: 7.0000 - accuracy: 0.8848 - recall: 0.8511 - precision: 0.7692 - prc: 0.9184 - val_loss: 4.9217 - val_tp: 4.0000 - val_fp: 6.0000 - val_tn: 21.0000 - val_fn: 11.0000 - val_accuracy: 0.5952 - val_recall: 0.2667 - val_precision: 0.4000 - val_prc: 0.4869\n",
            "Epoch 441/500\n",
            "2/2 [==============================] - 0s 48ms/step - loss: 0.1411 - tp: 43.0000 - fp: 9.0000 - tn: 109.0000 - fn: 4.0000 - accuracy: 0.9212 - recall: 0.9149 - precision: 0.8269 - prc: 0.9664 - val_loss: 4.9309 - val_tp: 5.0000 - val_fp: 6.0000 - val_tn: 21.0000 - val_fn: 10.0000 - val_accuracy: 0.6190 - val_recall: 0.3333 - val_precision: 0.4545 - val_prc: 0.4902\n",
            "Epoch 442/500\n",
            "2/2 [==============================] - 0s 37ms/step - loss: 0.1833 - tp: 45.0000 - fp: 12.0000 - tn: 106.0000 - fn: 2.0000 - accuracy: 0.9152 - recall: 0.9574 - precision: 0.7895 - prc: 0.9439 - val_loss: 4.9408 - val_tp: 5.0000 - val_fp: 6.0000 - val_tn: 21.0000 - val_fn: 10.0000 - val_accuracy: 0.6190 - val_recall: 0.3333 - val_precision: 0.4545 - val_prc: 0.4916\n",
            "Epoch 443/500\n",
            "2/2 [==============================] - 0s 41ms/step - loss: 0.1466 - tp: 45.0000 - fp: 9.0000 - tn: 109.0000 - fn: 2.0000 - accuracy: 0.9333 - recall: 0.9574 - precision: 0.8333 - prc: 0.9660 - val_loss: 4.9501 - val_tp: 5.0000 - val_fp: 6.0000 - val_tn: 21.0000 - val_fn: 10.0000 - val_accuracy: 0.6190 - val_recall: 0.3333 - val_precision: 0.4545 - val_prc: 0.4907\n",
            "Epoch 444/500\n",
            "2/2 [==============================] - 0s 37ms/step - loss: 0.1181 - tp: 44.0000 - fp: 8.0000 - tn: 110.0000 - fn: 3.0000 - accuracy: 0.9333 - recall: 0.9362 - precision: 0.8462 - prc: 0.9780 - val_loss: 4.9594 - val_tp: 5.0000 - val_fp: 6.0000 - val_tn: 21.0000 - val_fn: 10.0000 - val_accuracy: 0.6190 - val_recall: 0.3333 - val_precision: 0.4545 - val_prc: 0.4932\n",
            "Epoch 445/500\n",
            "2/2 [==============================] - 0s 45ms/step - loss: 0.1557 - tp: 46.0000 - fp: 14.0000 - tn: 104.0000 - fn: 1.0000 - accuracy: 0.9091 - recall: 0.9787 - precision: 0.7667 - prc: 0.9721 - val_loss: 4.9695 - val_tp: 5.0000 - val_fp: 6.0000 - val_tn: 21.0000 - val_fn: 10.0000 - val_accuracy: 0.6190 - val_recall: 0.3333 - val_precision: 0.4545 - val_prc: 0.4910\n",
            "Epoch 446/500\n",
            "2/2 [==============================] - 0s 58ms/step - loss: 0.1612 - tp: 45.0000 - fp: 9.0000 - tn: 109.0000 - fn: 2.0000 - accuracy: 0.9333 - recall: 0.9574 - precision: 0.8333 - prc: 0.9492 - val_loss: 4.9707 - val_tp: 5.0000 - val_fp: 6.0000 - val_tn: 21.0000 - val_fn: 10.0000 - val_accuracy: 0.6190 - val_recall: 0.3333 - val_precision: 0.4545 - val_prc: 0.4893\n",
            "Epoch 447/500\n",
            "2/2 [==============================] - 0s 37ms/step - loss: 0.1722 - tp: 42.0000 - fp: 14.0000 - tn: 104.0000 - fn: 5.0000 - accuracy: 0.8848 - recall: 0.8936 - precision: 0.7500 - prc: 0.9509 - val_loss: 4.9711 - val_tp: 5.0000 - val_fp: 5.0000 - val_tn: 22.0000 - val_fn: 10.0000 - val_accuracy: 0.6429 - val_recall: 0.3333 - val_precision: 0.5000 - val_prc: 0.4893\n",
            "Epoch 448/500\n",
            "2/2 [==============================] - 0s 39ms/step - loss: 0.1757 - tp: 43.0000 - fp: 12.0000 - tn: 106.0000 - fn: 4.0000 - accuracy: 0.9030 - recall: 0.9149 - precision: 0.7818 - prc: 0.9445 - val_loss: 4.9726 - val_tp: 5.0000 - val_fp: 5.0000 - val_tn: 22.0000 - val_fn: 10.0000 - val_accuracy: 0.6429 - val_recall: 0.3333 - val_precision: 0.5000 - val_prc: 0.4593\n",
            "Epoch 449/500\n",
            "2/2 [==============================] - 0s 56ms/step - loss: 0.1565 - tp: 44.0000 - fp: 8.0000 - tn: 110.0000 - fn: 3.0000 - accuracy: 0.9333 - recall: 0.9362 - precision: 0.8462 - prc: 0.9666 - val_loss: 4.9795 - val_tp: 6.0000 - val_fp: 5.0000 - val_tn: 22.0000 - val_fn: 9.0000 - val_accuracy: 0.6667 - val_recall: 0.4000 - val_precision: 0.5455 - val_prc: 0.4581\n",
            "Epoch 450/500\n",
            "2/2 [==============================] - 0s 50ms/step - loss: 0.2077 - tp: 40.0000 - fp: 13.0000 - tn: 105.0000 - fn: 7.0000 - accuracy: 0.8788 - recall: 0.8511 - precision: 0.7547 - prc: 0.9231 - val_loss: 4.9880 - val_tp: 6.0000 - val_fp: 5.0000 - val_tn: 22.0000 - val_fn: 9.0000 - val_accuracy: 0.6667 - val_recall: 0.4000 - val_precision: 0.5455 - val_prc: 0.4593\n",
            "Epoch 451/500\n",
            "2/2 [==============================] - 0s 57ms/step - loss: 0.2054 - tp: 44.0000 - fp: 13.0000 - tn: 105.0000 - fn: 3.0000 - accuracy: 0.9030 - recall: 0.9362 - precision: 0.7719 - prc: 0.9252 - val_loss: 5.0009 - val_tp: 6.0000 - val_fp: 5.0000 - val_tn: 22.0000 - val_fn: 9.0000 - val_accuracy: 0.6667 - val_recall: 0.4000 - val_precision: 0.5455 - val_prc: 0.4593\n",
            "Epoch 452/500\n",
            "2/2 [==============================] - 0s 41ms/step - loss: 0.1963 - tp: 44.0000 - fp: 12.0000 - tn: 106.0000 - fn: 3.0000 - accuracy: 0.9091 - recall: 0.9362 - precision: 0.7857 - prc: 0.9147 - val_loss: 5.0120 - val_tp: 6.0000 - val_fp: 5.0000 - val_tn: 22.0000 - val_fn: 9.0000 - val_accuracy: 0.6667 - val_recall: 0.4000 - val_precision: 0.5455 - val_prc: 0.4630\n",
            "Epoch 453/500\n",
            "2/2 [==============================] - 0s 37ms/step - loss: 0.1463 - tp: 45.0000 - fp: 9.0000 - tn: 109.0000 - fn: 2.0000 - accuracy: 0.9333 - recall: 0.9574 - precision: 0.8333 - prc: 0.9803 - val_loss: 5.0203 - val_tp: 5.0000 - val_fp: 5.0000 - val_tn: 22.0000 - val_fn: 10.0000 - val_accuracy: 0.6429 - val_recall: 0.3333 - val_precision: 0.5000 - val_prc: 0.4580\n",
            "Epoch 454/500\n",
            "2/2 [==============================] - 0s 39ms/step - loss: 0.1470 - tp: 44.0000 - fp: 10.0000 - tn: 108.0000 - fn: 3.0000 - accuracy: 0.9212 - recall: 0.9362 - precision: 0.8148 - prc: 0.9677 - val_loss: 5.0300 - val_tp: 5.0000 - val_fp: 5.0000 - val_tn: 22.0000 - val_fn: 10.0000 - val_accuracy: 0.6429 - val_recall: 0.3333 - val_precision: 0.5000 - val_prc: 0.4562\n",
            "Epoch 455/500\n",
            "2/2 [==============================] - 0s 39ms/step - loss: 0.1806 - tp: 43.0000 - fp: 15.0000 - tn: 103.0000 - fn: 4.0000 - accuracy: 0.8848 - recall: 0.9149 - precision: 0.7414 - prc: 0.9411 - val_loss: 5.0385 - val_tp: 5.0000 - val_fp: 5.0000 - val_tn: 22.0000 - val_fn: 10.0000 - val_accuracy: 0.6429 - val_recall: 0.3333 - val_precision: 0.5000 - val_prc: 0.4893\n",
            "Epoch 456/500\n",
            "2/2 [==============================] - 0s 42ms/step - loss: 0.1350 - tp: 46.0000 - fp: 10.0000 - tn: 108.0000 - fn: 1.0000 - accuracy: 0.9333 - recall: 0.9787 - precision: 0.8214 - prc: 0.9510 - val_loss: 5.0427 - val_tp: 5.0000 - val_fp: 5.0000 - val_tn: 22.0000 - val_fn: 10.0000 - val_accuracy: 0.6429 - val_recall: 0.3333 - val_precision: 0.5000 - val_prc: 0.4867\n",
            "Epoch 457/500\n",
            "2/2 [==============================] - 0s 37ms/step - loss: 0.1846 - tp: 43.0000 - fp: 11.0000 - tn: 107.0000 - fn: 4.0000 - accuracy: 0.9091 - recall: 0.9149 - precision: 0.7963 - prc: 0.9452 - val_loss: 5.0514 - val_tp: 5.0000 - val_fp: 5.0000 - val_tn: 22.0000 - val_fn: 10.0000 - val_accuracy: 0.6429 - val_recall: 0.3333 - val_precision: 0.5000 - val_prc: 0.4893\n",
            "Epoch 458/500\n",
            "2/2 [==============================] - 0s 34ms/step - loss: 0.1638 - tp: 43.0000 - fp: 10.0000 - tn: 108.0000 - fn: 4.0000 - accuracy: 0.9152 - recall: 0.9149 - precision: 0.8113 - prc: 0.9468 - val_loss: 5.0642 - val_tp: 5.0000 - val_fp: 5.0000 - val_tn: 22.0000 - val_fn: 10.0000 - val_accuracy: 0.6429 - val_recall: 0.3333 - val_precision: 0.5000 - val_prc: 0.4845\n",
            "Epoch 459/500\n",
            "2/2 [==============================] - 0s 37ms/step - loss: 0.1639 - tp: 45.0000 - fp: 10.0000 - tn: 108.0000 - fn: 2.0000 - accuracy: 0.9273 - recall: 0.9574 - precision: 0.8182 - prc: 0.9646 - val_loss: 5.0737 - val_tp: 5.0000 - val_fp: 5.0000 - val_tn: 22.0000 - val_fn: 10.0000 - val_accuracy: 0.6429 - val_recall: 0.3333 - val_precision: 0.5000 - val_prc: 0.4845\n",
            "Epoch 460/500\n",
            "2/2 [==============================] - 0s 42ms/step - loss: 0.1639 - tp: 43.0000 - fp: 9.0000 - tn: 109.0000 - fn: 4.0000 - accuracy: 0.9212 - recall: 0.9149 - precision: 0.8269 - prc: 0.9538 - val_loss: 5.0808 - val_tp: 4.0000 - val_fp: 5.0000 - val_tn: 22.0000 - val_fn: 11.0000 - val_accuracy: 0.6190 - val_recall: 0.2667 - val_precision: 0.4444 - val_prc: 0.4823\n",
            "Epoch 461/500\n",
            "2/2 [==============================] - 0s 36ms/step - loss: 0.1713 - tp: 43.0000 - fp: 11.0000 - tn: 107.0000 - fn: 4.0000 - accuracy: 0.9091 - recall: 0.9149 - precision: 0.7963 - prc: 0.9498 - val_loss: 5.0899 - val_tp: 4.0000 - val_fp: 5.0000 - val_tn: 22.0000 - val_fn: 11.0000 - val_accuracy: 0.6190 - val_recall: 0.2667 - val_precision: 0.4444 - val_prc: 0.4762\n",
            "Epoch 462/500\n",
            "2/2 [==============================] - 0s 39ms/step - loss: 0.1660 - tp: 46.0000 - fp: 12.0000 - tn: 106.0000 - fn: 1.0000 - accuracy: 0.9212 - recall: 0.9787 - precision: 0.7931 - prc: 0.9660 - val_loss: 5.0993 - val_tp: 4.0000 - val_fp: 5.0000 - val_tn: 22.0000 - val_fn: 11.0000 - val_accuracy: 0.6190 - val_recall: 0.2667 - val_precision: 0.4444 - val_prc: 0.4762\n",
            "Epoch 463/500\n",
            "2/2 [==============================] - 0s 40ms/step - loss: 0.1739 - tp: 44.0000 - fp: 13.0000 - tn: 105.0000 - fn: 3.0000 - accuracy: 0.9030 - recall: 0.9362 - precision: 0.7719 - prc: 0.9548 - val_loss: 5.1148 - val_tp: 4.0000 - val_fp: 5.0000 - val_tn: 22.0000 - val_fn: 11.0000 - val_accuracy: 0.6190 - val_recall: 0.2667 - val_precision: 0.4444 - val_prc: 0.4762\n",
            "Epoch 464/500\n",
            "2/2 [==============================] - 0s 43ms/step - loss: 0.2309 - tp: 39.0000 - fp: 10.0000 - tn: 108.0000 - fn: 8.0000 - accuracy: 0.8909 - recall: 0.8298 - precision: 0.7959 - prc: 0.8872 - val_loss: 5.1300 - val_tp: 4.0000 - val_fp: 5.0000 - val_tn: 22.0000 - val_fn: 11.0000 - val_accuracy: 0.6190 - val_recall: 0.2667 - val_precision: 0.4444 - val_prc: 0.4762\n",
            "Epoch 465/500\n",
            "2/2 [==============================] - 0s 49ms/step - loss: 0.1636 - tp: 44.0000 - fp: 8.0000 - tn: 110.0000 - fn: 3.0000 - accuracy: 0.9333 - recall: 0.9362 - precision: 0.8462 - prc: 0.9733 - val_loss: 5.1447 - val_tp: 4.0000 - val_fp: 5.0000 - val_tn: 22.0000 - val_fn: 11.0000 - val_accuracy: 0.6190 - val_recall: 0.2667 - val_precision: 0.4444 - val_prc: 0.4762\n",
            "Epoch 466/500\n",
            "2/2 [==============================] - 0s 39ms/step - loss: 0.1528 - tp: 44.0000 - fp: 9.0000 - tn: 109.0000 - fn: 3.0000 - accuracy: 0.9273 - recall: 0.9362 - precision: 0.8302 - prc: 0.9686 - val_loss: 5.1589 - val_tp: 4.0000 - val_fp: 5.0000 - val_tn: 22.0000 - val_fn: 11.0000 - val_accuracy: 0.6190 - val_recall: 0.2667 - val_precision: 0.4444 - val_prc: 0.4762\n",
            "Epoch 467/500\n",
            "2/2 [==============================] - 0s 35ms/step - loss: 0.1540 - tp: 40.0000 - fp: 8.0000 - tn: 110.0000 - fn: 7.0000 - accuracy: 0.9091 - recall: 0.8511 - precision: 0.8333 - prc: 0.9608 - val_loss: 5.1706 - val_tp: 4.0000 - val_fp: 5.0000 - val_tn: 22.0000 - val_fn: 11.0000 - val_accuracy: 0.6190 - val_recall: 0.2667 - val_precision: 0.4444 - val_prc: 0.4414\n",
            "Epoch 468/500\n",
            "2/2 [==============================] - 0s 44ms/step - loss: 0.1588 - tp: 45.0000 - fp: 7.0000 - tn: 111.0000 - fn: 2.0000 - accuracy: 0.9455 - recall: 0.9574 - precision: 0.8654 - prc: 0.9435 - val_loss: 5.1815 - val_tp: 4.0000 - val_fp: 5.0000 - val_tn: 22.0000 - val_fn: 11.0000 - val_accuracy: 0.6190 - val_recall: 0.2667 - val_precision: 0.4444 - val_prc: 0.4382\n",
            "Epoch 469/500\n",
            "2/2 [==============================] - 0s 43ms/step - loss: 0.1538 - tp: 40.0000 - fp: 5.0000 - tn: 113.0000 - fn: 7.0000 - accuracy: 0.9273 - recall: 0.8511 - precision: 0.8889 - prc: 0.9608 - val_loss: 5.1916 - val_tp: 4.0000 - val_fp: 5.0000 - val_tn: 22.0000 - val_fn: 11.0000 - val_accuracy: 0.6190 - val_recall: 0.2667 - val_precision: 0.4444 - val_prc: 0.4430\n",
            "Epoch 470/500\n",
            "2/2 [==============================] - 0s 58ms/step - loss: 0.1668 - tp: 45.0000 - fp: 9.0000 - tn: 109.0000 - fn: 2.0000 - accuracy: 0.9333 - recall: 0.9574 - precision: 0.8333 - prc: 0.9654 - val_loss: 5.1982 - val_tp: 4.0000 - val_fp: 5.0000 - val_tn: 22.0000 - val_fn: 11.0000 - val_accuracy: 0.6190 - val_recall: 0.2667 - val_precision: 0.4444 - val_prc: 0.4452\n",
            "Epoch 471/500\n",
            "2/2 [==============================] - 0s 37ms/step - loss: 0.1780 - tp: 44.0000 - fp: 8.0000 - tn: 110.0000 - fn: 3.0000 - accuracy: 0.9333 - recall: 0.9362 - precision: 0.8462 - prc: 0.9541 - val_loss: 5.2123 - val_tp: 4.0000 - val_fp: 4.0000 - val_tn: 23.0000 - val_fn: 11.0000 - val_accuracy: 0.6429 - val_recall: 0.2667 - val_precision: 0.5000 - val_prc: 0.4439\n",
            "Epoch 472/500\n",
            "2/2 [==============================] - 0s 35ms/step - loss: 0.1312 - tp: 46.0000 - fp: 9.0000 - tn: 109.0000 - fn: 1.0000 - accuracy: 0.9394 - recall: 0.9787 - precision: 0.8364 - prc: 0.9776 - val_loss: 5.2245 - val_tp: 4.0000 - val_fp: 4.0000 - val_tn: 23.0000 - val_fn: 11.0000 - val_accuracy: 0.6429 - val_recall: 0.2667 - val_precision: 0.5000 - val_prc: 0.4439\n",
            "Epoch 473/500\n",
            "2/2 [==============================] - 0s 43ms/step - loss: 0.1605 - tp: 45.0000 - fp: 13.0000 - tn: 105.0000 - fn: 2.0000 - accuracy: 0.9091 - recall: 0.9574 - precision: 0.7759 - prc: 0.9628 - val_loss: 5.2344 - val_tp: 4.0000 - val_fp: 5.0000 - val_tn: 22.0000 - val_fn: 11.0000 - val_accuracy: 0.6190 - val_recall: 0.2667 - val_precision: 0.4444 - val_prc: 0.4439\n",
            "Epoch 474/500\n",
            "2/2 [==============================] - 0s 54ms/step - loss: 0.1610 - tp: 44.0000 - fp: 10.0000 - tn: 108.0000 - fn: 3.0000 - accuracy: 0.9212 - recall: 0.9362 - precision: 0.8148 - prc: 0.9565 - val_loss: 5.2443 - val_tp: 4.0000 - val_fp: 6.0000 - val_tn: 21.0000 - val_fn: 11.0000 - val_accuracy: 0.5952 - val_recall: 0.2667 - val_precision: 0.4000 - val_prc: 0.4439\n",
            "Epoch 475/500\n",
            "2/2 [==============================] - 0s 39ms/step - loss: 0.1723 - tp: 44.0000 - fp: 10.0000 - tn: 108.0000 - fn: 3.0000 - accuracy: 0.9212 - recall: 0.9362 - precision: 0.8148 - prc: 0.9544 - val_loss: 5.2505 - val_tp: 4.0000 - val_fp: 6.0000 - val_tn: 21.0000 - val_fn: 11.0000 - val_accuracy: 0.5952 - val_recall: 0.2667 - val_precision: 0.4000 - val_prc: 0.4439\n",
            "Epoch 476/500\n",
            "2/2 [==============================] - 0s 36ms/step - loss: 0.1754 - tp: 43.0000 - fp: 13.0000 - tn: 105.0000 - fn: 4.0000 - accuracy: 0.8970 - recall: 0.9149 - precision: 0.7679 - prc: 0.9464 - val_loss: 5.2568 - val_tp: 4.0000 - val_fp: 6.0000 - val_tn: 21.0000 - val_fn: 11.0000 - val_accuracy: 0.5952 - val_recall: 0.2667 - val_precision: 0.4000 - val_prc: 0.4439\n",
            "Epoch 477/500\n",
            "2/2 [==============================] - 0s 39ms/step - loss: 0.1291 - tp: 46.0000 - fp: 9.0000 - tn: 109.0000 - fn: 1.0000 - accuracy: 0.9394 - recall: 0.9787 - precision: 0.8364 - prc: 0.9716 - val_loss: 5.2644 - val_tp: 4.0000 - val_fp: 6.0000 - val_tn: 21.0000 - val_fn: 11.0000 - val_accuracy: 0.5952 - val_recall: 0.2667 - val_precision: 0.4000 - val_prc: 0.4739\n",
            "Epoch 478/500\n",
            "2/2 [==============================] - 0s 39ms/step - loss: 0.1607 - tp: 44.0000 - fp: 7.0000 - tn: 111.0000 - fn: 3.0000 - accuracy: 0.9394 - recall: 0.9362 - precision: 0.8627 - prc: 0.9710 - val_loss: 5.2731 - val_tp: 4.0000 - val_fp: 6.0000 - val_tn: 21.0000 - val_fn: 11.0000 - val_accuracy: 0.5952 - val_recall: 0.2667 - val_precision: 0.4000 - val_prc: 0.4759\n",
            "Epoch 479/500\n",
            "2/2 [==============================] - 0s 37ms/step - loss: 0.1817 - tp: 44.0000 - fp: 14.0000 - tn: 104.0000 - fn: 3.0000 - accuracy: 0.8970 - recall: 0.9362 - precision: 0.7586 - prc: 0.9453 - val_loss: 5.2831 - val_tp: 4.0000 - val_fp: 6.0000 - val_tn: 21.0000 - val_fn: 11.0000 - val_accuracy: 0.5952 - val_recall: 0.2667 - val_precision: 0.4000 - val_prc: 0.4723\n",
            "Epoch 480/500\n",
            "2/2 [==============================] - 0s 43ms/step - loss: 0.1803 - tp: 44.0000 - fp: 8.0000 - tn: 110.0000 - fn: 3.0000 - accuracy: 0.9333 - recall: 0.9362 - precision: 0.8462 - prc: 0.9459 - val_loss: 5.2776 - val_tp: 4.0000 - val_fp: 6.0000 - val_tn: 21.0000 - val_fn: 11.0000 - val_accuracy: 0.5952 - val_recall: 0.2667 - val_precision: 0.4000 - val_prc: 0.4716\n",
            "Epoch 481/500\n",
            "2/2 [==============================] - 0s 56ms/step - loss: 0.1913 - tp: 42.0000 - fp: 10.0000 - tn: 108.0000 - fn: 5.0000 - accuracy: 0.9091 - recall: 0.8936 - precision: 0.8077 - prc: 0.9329 - val_loss: 5.2661 - val_tp: 4.0000 - val_fp: 6.0000 - val_tn: 21.0000 - val_fn: 11.0000 - val_accuracy: 0.5952 - val_recall: 0.2667 - val_precision: 0.4000 - val_prc: 0.4474\n",
            "Epoch 482/500\n",
            "2/2 [==============================] - 0s 38ms/step - loss: 0.1621 - tp: 43.0000 - fp: 8.0000 - tn: 110.0000 - fn: 4.0000 - accuracy: 0.9273 - recall: 0.9149 - precision: 0.8431 - prc: 0.9589 - val_loss: 5.2604 - val_tp: 4.0000 - val_fp: 6.0000 - val_tn: 21.0000 - val_fn: 11.0000 - val_accuracy: 0.5952 - val_recall: 0.2667 - val_precision: 0.4000 - val_prc: 0.4474\n",
            "Epoch 483/500\n",
            "2/2 [==============================] - 0s 42ms/step - loss: 0.1440 - tp: 42.0000 - fp: 8.0000 - tn: 110.0000 - fn: 5.0000 - accuracy: 0.9212 - recall: 0.8936 - precision: 0.8400 - prc: 0.9663 - val_loss: 5.2584 - val_tp: 4.0000 - val_fp: 6.0000 - val_tn: 21.0000 - val_fn: 11.0000 - val_accuracy: 0.5952 - val_recall: 0.2667 - val_precision: 0.4000 - val_prc: 0.4483\n",
            "Epoch 484/500\n",
            "2/2 [==============================] - 0s 55ms/step - loss: 0.1985 - tp: 43.0000 - fp: 13.0000 - tn: 105.0000 - fn: 4.0000 - accuracy: 0.8970 - recall: 0.9149 - precision: 0.7679 - prc: 0.9249 - val_loss: 5.2559 - val_tp: 4.0000 - val_fp: 6.0000 - val_tn: 21.0000 - val_fn: 11.0000 - val_accuracy: 0.5952 - val_recall: 0.2667 - val_precision: 0.4000 - val_prc: 0.4515\n",
            "Epoch 485/500\n",
            "2/2 [==============================] - 0s 37ms/step - loss: 0.1476 - tp: 43.0000 - fp: 6.0000 - tn: 112.0000 - fn: 4.0000 - accuracy: 0.9394 - recall: 0.9149 - precision: 0.8776 - prc: 0.9636 - val_loss: 5.2549 - val_tp: 4.0000 - val_fp: 6.0000 - val_tn: 21.0000 - val_fn: 11.0000 - val_accuracy: 0.5952 - val_recall: 0.2667 - val_precision: 0.4000 - val_prc: 0.4515\n",
            "Epoch 486/500\n",
            "2/2 [==============================] - 0s 48ms/step - loss: 0.0854 - tp: 45.0000 - fp: 2.0000 - tn: 116.0000 - fn: 2.0000 - accuracy: 0.9758 - recall: 0.9574 - precision: 0.9574 - prc: 0.9912 - val_loss: 5.2552 - val_tp: 5.0000 - val_fp: 6.0000 - val_tn: 21.0000 - val_fn: 10.0000 - val_accuracy: 0.6190 - val_recall: 0.3333 - val_precision: 0.4545 - val_prc: 0.4515\n",
            "Epoch 487/500\n",
            "2/2 [==============================] - 0s 59ms/step - loss: 0.1863 - tp: 44.0000 - fp: 13.0000 - tn: 105.0000 - fn: 3.0000 - accuracy: 0.9030 - recall: 0.9362 - precision: 0.7719 - prc: 0.9474 - val_loss: 5.2542 - val_tp: 5.0000 - val_fp: 6.0000 - val_tn: 21.0000 - val_fn: 10.0000 - val_accuracy: 0.6190 - val_recall: 0.3333 - val_precision: 0.4545 - val_prc: 0.4546\n",
            "Epoch 488/500\n",
            "2/2 [==============================] - 0s 36ms/step - loss: 0.1890 - tp: 43.0000 - fp: 10.0000 - tn: 108.0000 - fn: 4.0000 - accuracy: 0.9152 - recall: 0.9149 - precision: 0.8113 - prc: 0.9405 - val_loss: 5.2498 - val_tp: 5.0000 - val_fp: 6.0000 - val_tn: 21.0000 - val_fn: 10.0000 - val_accuracy: 0.6190 - val_recall: 0.3333 - val_precision: 0.4545 - val_prc: 0.4599\n",
            "Epoch 489/500\n",
            "2/2 [==============================] - 0s 41ms/step - loss: 0.1316 - tp: 44.0000 - fp: 8.0000 - tn: 110.0000 - fn: 3.0000 - accuracy: 0.9333 - recall: 0.9362 - precision: 0.8462 - prc: 0.9741 - val_loss: 5.2447 - val_tp: 5.0000 - val_fp: 6.0000 - val_tn: 21.0000 - val_fn: 10.0000 - val_accuracy: 0.6190 - val_recall: 0.3333 - val_precision: 0.4545 - val_prc: 0.4588\n",
            "Epoch 490/500\n",
            "2/2 [==============================] - 0s 37ms/step - loss: 0.1630 - tp: 42.0000 - fp: 7.0000 - tn: 111.0000 - fn: 5.0000 - accuracy: 0.9273 - recall: 0.8936 - precision: 0.8571 - prc: 0.9513 - val_loss: 5.2423 - val_tp: 5.0000 - val_fp: 6.0000 - val_tn: 21.0000 - val_fn: 10.0000 - val_accuracy: 0.6190 - val_recall: 0.3333 - val_precision: 0.4545 - val_prc: 0.4588\n",
            "Epoch 491/500\n",
            "2/2 [==============================] - 0s 56ms/step - loss: 0.1853 - tp: 41.0000 - fp: 15.0000 - tn: 103.0000 - fn: 6.0000 - accuracy: 0.8727 - recall: 0.8723 - precision: 0.7321 - prc: 0.9431 - val_loss: 5.2448 - val_tp: 5.0000 - val_fp: 6.0000 - val_tn: 21.0000 - val_fn: 10.0000 - val_accuracy: 0.6190 - val_recall: 0.3333 - val_precision: 0.4545 - val_prc: 0.4558\n",
            "Epoch 492/500\n",
            "2/2 [==============================] - 0s 57ms/step - loss: 0.1587 - tp: 42.0000 - fp: 5.0000 - tn: 113.0000 - fn: 5.0000 - accuracy: 0.9394 - recall: 0.8936 - precision: 0.8936 - prc: 0.9656 - val_loss: 5.2504 - val_tp: 5.0000 - val_fp: 6.0000 - val_tn: 21.0000 - val_fn: 10.0000 - val_accuracy: 0.6190 - val_recall: 0.3333 - val_precision: 0.4545 - val_prc: 0.4558\n",
            "Epoch 493/500\n",
            "2/2 [==============================] - 0s 38ms/step - loss: 0.1778 - tp: 42.0000 - fp: 6.0000 - tn: 112.0000 - fn: 5.0000 - accuracy: 0.9333 - recall: 0.8936 - precision: 0.8750 - prc: 0.9455 - val_loss: 5.2604 - val_tp: 5.0000 - val_fp: 6.0000 - val_tn: 21.0000 - val_fn: 10.0000 - val_accuracy: 0.6190 - val_recall: 0.3333 - val_precision: 0.4545 - val_prc: 0.4558\n",
            "Epoch 494/500\n",
            "2/2 [==============================] - 0s 59ms/step - loss: 0.1251 - tp: 47.0000 - fp: 10.0000 - tn: 108.0000 - fn: 0.0000e+00 - accuracy: 0.9394 - recall: 1.0000 - precision: 0.8246 - prc: 0.9840 - val_loss: 5.2756 - val_tp: 4.0000 - val_fp: 6.0000 - val_tn: 21.0000 - val_fn: 11.0000 - val_accuracy: 0.5952 - val_recall: 0.2667 - val_precision: 0.4000 - val_prc: 0.4558\n",
            "Epoch 495/500\n",
            "2/2 [==============================] - 0s 40ms/step - loss: 0.1497 - tp: 44.0000 - fp: 8.0000 - tn: 110.0000 - fn: 3.0000 - accuracy: 0.9333 - recall: 0.9362 - precision: 0.8462 - prc: 0.9688 - val_loss: 5.2910 - val_tp: 4.0000 - val_fp: 6.0000 - val_tn: 21.0000 - val_fn: 11.0000 - val_accuracy: 0.5952 - val_recall: 0.2667 - val_precision: 0.4000 - val_prc: 0.4524\n",
            "Epoch 496/500\n",
            "2/2 [==============================] - 0s 56ms/step - loss: 0.1619 - tp: 44.0000 - fp: 8.0000 - tn: 110.0000 - fn: 3.0000 - accuracy: 0.9333 - recall: 0.9362 - precision: 0.8462 - prc: 0.9515 - val_loss: 5.3091 - val_tp: 4.0000 - val_fp: 6.0000 - val_tn: 21.0000 - val_fn: 11.0000 - val_accuracy: 0.5952 - val_recall: 0.2667 - val_precision: 0.4000 - val_prc: 0.4493\n",
            "Epoch 497/500\n",
            "2/2 [==============================] - 0s 42ms/step - loss: 0.1465 - tp: 45.0000 - fp: 10.0000 - tn: 108.0000 - fn: 2.0000 - accuracy: 0.9273 - recall: 0.9574 - precision: 0.8182 - prc: 0.9581 - val_loss: 5.3223 - val_tp: 4.0000 - val_fp: 6.0000 - val_tn: 21.0000 - val_fn: 11.0000 - val_accuracy: 0.5952 - val_recall: 0.2667 - val_precision: 0.4000 - val_prc: 0.4462\n",
            "Epoch 498/500\n",
            "2/2 [==============================] - 0s 35ms/step - loss: 0.1673 - tp: 42.0000 - fp: 9.0000 - tn: 109.0000 - fn: 5.0000 - accuracy: 0.9152 - recall: 0.8936 - precision: 0.8235 - prc: 0.9511 - val_loss: 5.3338 - val_tp: 4.0000 - val_fp: 6.0000 - val_tn: 21.0000 - val_fn: 11.0000 - val_accuracy: 0.5952 - val_recall: 0.2667 - val_precision: 0.4000 - val_prc: 0.4462\n",
            "Epoch 499/500\n",
            "2/2 [==============================] - 0s 36ms/step - loss: 0.1685 - tp: 39.0000 - fp: 6.0000 - tn: 112.0000 - fn: 8.0000 - accuracy: 0.9152 - recall: 0.8298 - precision: 0.8667 - prc: 0.9473 - val_loss: 5.3448 - val_tp: 4.0000 - val_fp: 6.0000 - val_tn: 21.0000 - val_fn: 11.0000 - val_accuracy: 0.5952 - val_recall: 0.2667 - val_precision: 0.4000 - val_prc: 0.4437\n",
            "Epoch 500/500\n",
            "2/2 [==============================] - 0s 34ms/step - loss: 0.2082 - tp: 43.0000 - fp: 12.0000 - tn: 106.0000 - fn: 4.0000 - accuracy: 0.9030 - recall: 0.9149 - precision: 0.7818 - prc: 0.9337 - val_loss: 5.3548 - val_tp: 4.0000 - val_fp: 6.0000 - val_tn: 21.0000 - val_fn: 11.0000 - val_accuracy: 0.5952 - val_recall: 0.2667 - val_precision: 0.4000 - val_prc: 0.4437\n"
          ]
        },
        {
          "output_type": "execute_result",
          "data": {
            "text/plain": [
              "<keras.callbacks.History at 0x7f993bbf8510>"
            ]
          },
          "metadata": {},
          "execution_count": 29
        }
      ]
    },
    {
      "cell_type": "markdown",
      "source": [
        "Visualise the loss and accuracy for each epoch"
      ],
      "metadata": {
        "id": "G9DPmZDDXEnt"
      }
    },
    {
      "cell_type": "code",
      "source": [
        "# summarize history for loss\n",
        "plt.plot(my_model.best_model.history.history['loss'])\n",
        "plt.title('model loss')\n",
        "plt.ylabel('loss')\n",
        "plt.xlabel('epoch')\n",
        "plt.legend(['train', 'test'], loc='upper left')\n",
        "plt.show()"
      ],
      "metadata": {
        "id": "84wnXBf0XDyz",
        "outputId": "494612e9-8252-43d4-f908-3458695b16fd",
        "colab": {
          "base_uri": "https://localhost:8080/",
          "height": 295
        }
      },
      "execution_count": 30,
      "outputs": [
        {
          "output_type": "display_data",
          "data": {
            "text/plain": [
              "<Figure size 432x288 with 1 Axes>"
            ],
            "image/png": "[encoded data removed]"
          },
          "metadata": {
            "needs_background": "light"
          }
        }
      ]
    },
    {
      "cell_type": "code",
      "source": [
        "# list all data in history\n",
        "#print(my_model.best_model.history.history.keys())\n",
        "# summarize history for accuracy\n",
        "plt.plot(my_model.best_model.history.history['accuracy'])\n",
        "plt.title('model accuracy')\n",
        "plt.ylabel('accuracy')\n",
        "plt.xlabel('epoch')\n",
        "plt.legend(['train', 'test'], loc='upper left')\n",
        "plt.show()"
      ],
      "metadata": {
        "id": "c_bC8ZieW5fQ",
        "colab": {
          "base_uri": "https://localhost:8080/",
          "height": 295
        },
        "outputId": "73a54537-0610-45b5-d19c-940d6532a2bd"
      },
      "execution_count": 31,
      "outputs": [
        {
          "output_type": "display_data",
          "data": {
            "text/plain": [
              "<Figure size 432x288 with 1 Axes>"
            ],
            "image/png": "[encoded data removed]"
          },
          "metadata": {
            "needs_background": "light"
          }
        }
      ]
    },
    {
      "cell_type": "code",
      "execution_count": 32,
      "metadata": {
        "id": "kwOiqNee7goj"
      },
      "outputs": [],
      "source": [
        "# use your model to make a prediction on unseen data\n",
        "y_pred = my_model.best_model.predict(x_test_processed,batch_size=my_model.BATCH)\n",
        "#convert values\n",
        "y_pred = (y_pred>my_model.THR)"
      ]
    },
    {
      "cell_type": "code",
      "execution_count": 33,
      "metadata": {
        "id": "VGgleoej7gok",
        "outputId": "5b7c0b52-f8ff-4e7e-c656-5161d8a16d91",
        "colab": {
          "base_uri": "https://localhost:8080/",
          "height": 333
        }
      },
      "outputs": [
        {
          "output_type": "stream",
          "name": "stdout",
          "text": [
            "Accuracy: 68.57 %\n",
            "Weighted ROC AUC accuracy: 65.22 %\n",
            "Confusion matrix:\n"
          ]
        },
        {
          "output_type": "display_data",
          "data": {
            "text/plain": [
              "<Figure size 432x288 with 2 Axes>"
            ],
            "image/png": "[encoded data removed]"
          },
          "metadata": {
            "needs_background": "light"
          }
        }
      ],
      "source": [
        "# Asssess the accuracy of your model and explain your key findings\n",
        "# Generate confusion matrix\n",
        "from sklearn.metrics import confusion_matrix, accuracy_score, roc_auc_score, ConfusionMatrixDisplay\n",
        "cm = confusion_matrix(y_test, y_pred)\n",
        "score = accuracy_score(y_test, y_pred)\n",
        "print(\"Accuracy: {:.2f} %\".format(score*100))\n",
        "print(\"Weighted ROC AUC accuracy: {:.2f} %\".format(roc_auc_score(y_test, y_pred, average='weighted')*100))\n",
        "print(\"Confusion matrix:\")\n",
        "disp = ConfusionMatrixDisplay(cm)\n",
        "disp.plot()\n",
        "plt.show()\n",
        "\n",
        "# Apply k-fold Cross Validation\n",
        "# from sklearn.model_selection import cross_val_score\n",
        "# from numpy import ravel\n",
        "# accuracies = cross_val_score(estimator = classifier, X = x_train_processed, y = ravel(y_train.values), scoring = 'roc_auc_ovo', cv = 10)\n",
        "# print(\"K-fold cross validation results\")\n",
        "# print(\"Accuracy: {:.2f} %\".format(accuracies.mean()*100))\n",
        "# print(\"Standard Deviation: {:.2f} %\".format(accuracies.std()*100))"
      ]
    },
    {
      "cell_type": "markdown",
      "source": [
        "**Model is approx 65-70% accurate at predicting whether cancer recurrence will occur.**\n",
        "\n",
        "**Crucially, the proportion of False Negatives is low (<15%). In cancer diagnosis these are the outcomes that we want to minimise. False Positives, whilst undesirable, will likely lead to further diagnostic testing before it is realised that cancer is not present.**"
      ],
      "metadata": {
        "id": "UMNN4P_E07L6"
      }
    },
    {
      "cell_type": "markdown",
      "metadata": {
        "id": "VDU85k7J7gok"
      },
      "source": [
        "### Unit tests:"
      ]
    },
    {
      "cell_type": "markdown",
      "metadata": {
        "id": "uq2QRpri7gol"
      },
      "source": [
        "###Checking training and test data for null values. This will work for both pd dataframes and np arrays, and ensures no null values exist."
      ]
    },
    {
      "cell_type": "code",
      "execution_count": null,
      "metadata": {
        "id": "oUeh38w_7gol"
      },
      "outputs": [],
      "source": [
        "def test_no_nulls(data):\n",
        "    \"\"\" Assert no null values within pd dataframe or np array \"\"\"\n",
        "    \n",
        "    # if data is numpy array, handle accordingly\n",
        "    if isinstance(data, (np.ndarray)):\n",
        "        assert not np.isnan(np.min(data))\n",
        "    \n",
        "    # if not np array, assume data is pandas dataframe\n",
        "    else:\n",
        "        assert data.isna().sum().sum() == 0"
      ]
    },
    {
      "cell_type": "code",
      "execution_count": null,
      "metadata": {
        "id": "BV9Z1F3i7gom"
      },
      "outputs": [],
      "source": [
        "# run null data unit test on both training and test data\n",
        "test_no_nulls(x_train_processed)\n",
        "test_no_nulls(x_test_processed)"
      ]
    }
  ],
  "metadata": {
    "colab": {
      "collapsed_sections": [],
      "name": "Copy of KSVC.ipynb",
      "provenance": [],
      "include_colab_link": true
    },
    "kernelspec": {
      "display_name": "Python 3 (ipykernel)",
      "language": "python",
      "name": "python3"
    },
    "language_info": {
      "codemirror_mode": {
        "name": "ipython",
        "version": 3
      },
      "file_extension": ".py",
      "mimetype": "text/x-python",
      "name": "python",
      "nbconvert_exporter": "python",
      "pygments_lexer": "ipython3",
      "version": "3.9.7"
    }
  },
  "nbformat": 4,
  "nbformat_minor": 0
}