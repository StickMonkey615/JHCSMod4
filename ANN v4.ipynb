{
  "cells": [
    {
      "cell_type": "markdown",
      "metadata": {
        "id": "view-in-github",
        "colab_type": "text"
      },
      "source": [
        "<a href=\"https://colab.research.google.com/github/StickMonkey615/JHCSMod4/blob/main/ANN%20v4.ipynb\" target=\"_parent\"><img src=\"https://colab.research.google.com/assets/colab-badge.svg\" alt=\"Open In Colab\"/></a>"
      ]
    },
    {
      "cell_type": "markdown",
      "metadata": {
        "id": "iRn73TIW7gn9"
      },
      "source": [
        "# Module 4 Guidance\n",
        "\n",
        "This notebook is a template for module 4b and 4c, which will be tested in Google Colab, your code needs to run there.\n",
        "The structure has been provided to improve consistency and make it easier for markers to understand your code but still give students the flexibility to be creative.  You need to populate the required functions to solve this problem.  All dependencies should be documented in the next cell.\n",
        "\n",
        "You can:\n",
        "    add further cells or text blocks to extend or further explain your solution\n",
        "    add further functions\n",
        "\n",
        "Dont:\n",
        "    rename functions\n",
        "   "
      ]
    },
    {
      "cell_type": "code",
      "execution_count": 32,
      "metadata": {
        "id": "ZxOsuHxz7goC",
        "colab": {
          "base_uri": "https://localhost:8080/"
        },
        "outputId": "4f0c4bec-296f-4ed6-ee4e-b9df077f090e"
      },
      "outputs": [
        {
          "output_type": "stream",
          "name": "stdout",
          "text": [
            "Looking in indexes: https://pypi.org/simple, https://us-python.pkg.dev/colab-wheels/public/simple/\n",
            "Requirement already satisfied: keras-tuner in /usr/local/lib/python3.7/dist-packages (1.1.3)\n",
            "Requirement already satisfied: numpy in /usr/local/lib/python3.7/dist-packages (from keras-tuner) (1.21.6)\n",
            "Requirement already satisfied: ipython in /usr/local/lib/python3.7/dist-packages (from keras-tuner) (7.9.0)\n",
            "Requirement already satisfied: kt-legacy in /usr/local/lib/python3.7/dist-packages (from keras-tuner) (1.0.4)\n",
            "Requirement already satisfied: packaging in /usr/local/lib/python3.7/dist-packages (from keras-tuner) (21.3)\n",
            "Requirement already satisfied: tensorboard in /usr/local/lib/python3.7/dist-packages (from keras-tuner) (2.8.0)\n",
            "Requirement already satisfied: requests in /usr/local/lib/python3.7/dist-packages (from keras-tuner) (2.23.0)\n",
            "Requirement already satisfied: jedi>=0.10 in /usr/local/lib/python3.7/dist-packages (from ipython->keras-tuner) (0.18.1)\n",
            "Requirement already satisfied: decorator in /usr/local/lib/python3.7/dist-packages (from ipython->keras-tuner) (4.4.2)\n",
            "Requirement already satisfied: setuptools>=18.5 in /usr/local/lib/python3.7/dist-packages (from ipython->keras-tuner) (57.4.0)\n",
            "Requirement already satisfied: prompt-toolkit<2.1.0,>=2.0.0 in /usr/local/lib/python3.7/dist-packages (from ipython->keras-tuner) (2.0.10)\n",
            "Requirement already satisfied: pygments in /usr/local/lib/python3.7/dist-packages (from ipython->keras-tuner) (2.6.1)\n",
            "Requirement already satisfied: pickleshare in /usr/local/lib/python3.7/dist-packages (from ipython->keras-tuner) (0.7.5)\n",
            "Requirement already satisfied: pexpect in /usr/local/lib/python3.7/dist-packages (from ipython->keras-tuner) (4.8.0)\n",
            "Requirement already satisfied: backcall in /usr/local/lib/python3.7/dist-packages (from ipython->keras-tuner) (0.2.0)\n",
            "Requirement already satisfied: traitlets>=4.2 in /usr/local/lib/python3.7/dist-packages (from ipython->keras-tuner) (5.1.1)\n",
            "Requirement already satisfied: parso<0.9.0,>=0.8.0 in /usr/local/lib/python3.7/dist-packages (from jedi>=0.10->ipython->keras-tuner) (0.8.3)\n",
            "Requirement already satisfied: wcwidth in /usr/local/lib/python3.7/dist-packages (from prompt-toolkit<2.1.0,>=2.0.0->ipython->keras-tuner) (0.2.5)\n",
            "Requirement already satisfied: six>=1.9.0 in /usr/local/lib/python3.7/dist-packages (from prompt-toolkit<2.1.0,>=2.0.0->ipython->keras-tuner) (1.15.0)\n",
            "Requirement already satisfied: pyparsing!=3.0.5,>=2.0.2 in /usr/local/lib/python3.7/dist-packages (from packaging->keras-tuner) (3.0.9)\n",
            "Requirement already satisfied: ptyprocess>=0.5 in /usr/local/lib/python3.7/dist-packages (from pexpect->ipython->keras-tuner) (0.7.0)\n",
            "Requirement already satisfied: urllib3!=1.25.0,!=1.25.1,<1.26,>=1.21.1 in /usr/local/lib/python3.7/dist-packages (from requests->keras-tuner) (1.24.3)\n",
            "Requirement already satisfied: certifi>=2017.4.17 in /usr/local/lib/python3.7/dist-packages (from requests->keras-tuner) (2022.6.15)\n",
            "Requirement already satisfied: chardet<4,>=3.0.2 in /usr/local/lib/python3.7/dist-packages (from requests->keras-tuner) (3.0.4)\n",
            "Requirement already satisfied: idna<3,>=2.5 in /usr/local/lib/python3.7/dist-packages (from requests->keras-tuner) (2.10)\n",
            "Requirement already satisfied: wheel>=0.26 in /usr/local/lib/python3.7/dist-packages (from tensorboard->keras-tuner) (0.37.1)\n",
            "Requirement already satisfied: grpcio>=1.24.3 in /usr/local/lib/python3.7/dist-packages (from tensorboard->keras-tuner) (1.48.1)\n",
            "Requirement already satisfied: protobuf>=3.6.0 in /usr/local/lib/python3.7/dist-packages (from tensorboard->keras-tuner) (3.17.3)\n",
            "Requirement already satisfied: tensorboard-data-server<0.7.0,>=0.6.0 in /usr/local/lib/python3.7/dist-packages (from tensorboard->keras-tuner) (0.6.1)\n",
            "Requirement already satisfied: google-auth-oauthlib<0.5,>=0.4.1 in /usr/local/lib/python3.7/dist-packages (from tensorboard->keras-tuner) (0.4.6)\n",
            "Requirement already satisfied: markdown>=2.6.8 in /usr/local/lib/python3.7/dist-packages (from tensorboard->keras-tuner) (3.4.1)\n",
            "Requirement already satisfied: tensorboard-plugin-wit>=1.6.0 in /usr/local/lib/python3.7/dist-packages (from tensorboard->keras-tuner) (1.8.1)\n",
            "Requirement already satisfied: werkzeug>=0.11.15 in /usr/local/lib/python3.7/dist-packages (from tensorboard->keras-tuner) (1.0.1)\n",
            "Requirement already satisfied: absl-py>=0.4 in /usr/local/lib/python3.7/dist-packages (from tensorboard->keras-tuner) (1.2.0)\n",
            "Requirement already satisfied: google-auth<3,>=1.6.3 in /usr/local/lib/python3.7/dist-packages (from tensorboard->keras-tuner) (1.35.0)\n",
            "Requirement already satisfied: pyasn1-modules>=0.2.1 in /usr/local/lib/python3.7/dist-packages (from google-auth<3,>=1.6.3->tensorboard->keras-tuner) (0.2.8)\n",
            "Requirement already satisfied: cachetools<5.0,>=2.0.0 in /usr/local/lib/python3.7/dist-packages (from google-auth<3,>=1.6.3->tensorboard->keras-tuner) (4.2.4)\n",
            "Requirement already satisfied: rsa<5,>=3.1.4 in /usr/local/lib/python3.7/dist-packages (from google-auth<3,>=1.6.3->tensorboard->keras-tuner) (4.9)\n",
            "Requirement already satisfied: requests-oauthlib>=0.7.0 in /usr/local/lib/python3.7/dist-packages (from google-auth-oauthlib<0.5,>=0.4.1->tensorboard->keras-tuner) (1.3.1)\n",
            "Requirement already satisfied: importlib-metadata>=4.4 in /usr/local/lib/python3.7/dist-packages (from markdown>=2.6.8->tensorboard->keras-tuner) (4.12.0)\n",
            "Requirement already satisfied: typing-extensions>=3.6.4 in /usr/local/lib/python3.7/dist-packages (from importlib-metadata>=4.4->markdown>=2.6.8->tensorboard->keras-tuner) (4.1.1)\n",
            "Requirement already satisfied: zipp>=0.5 in /usr/local/lib/python3.7/dist-packages (from importlib-metadata>=4.4->markdown>=2.6.8->tensorboard->keras-tuner) (3.8.1)\n",
            "Requirement already satisfied: pyasn1<0.5.0,>=0.4.6 in /usr/local/lib/python3.7/dist-packages (from pyasn1-modules>=0.2.1->google-auth<3,>=1.6.3->tensorboard->keras-tuner) (0.4.8)\n",
            "Requirement already satisfied: oauthlib>=3.0.0 in /usr/local/lib/python3.7/dist-packages (from requests-oauthlib>=0.7.0->google-auth-oauthlib<0.5,>=0.4.1->tensorboard->keras-tuner) (3.2.0)\n"
          ]
        }
      ],
      "source": [
        "# Fixed dependencies - do not remove or change.\n",
        "import pytest\n",
        "import pandas as pd\n",
        "import numpy as np\n",
        "from google.colab import drive\n",
        "# drive.mount('/content/gdrive/')\n",
        "# Import your dependencies\n",
        "!pip install --upgrade xlrd > 1.2.0\n",
        "import xlrd\n",
        "import matplotlib.pyplot as plt\n",
        "import seaborn as sb\n",
        "import tensorflow as tf\n",
        "import keras\n",
        "!pip install keras-tuner --upgrade\n",
        "import keras_tuner as kt"
      ]
    },
    {
      "cell_type": "code",
      "execution_count": 33,
      "metadata": {
        "id": "1m_gmKQP7goE"
      },
      "outputs": [],
      "source": [
        "# Import data\n",
        "\n",
        "def import_local_data(file_path):\n",
        "    \"\"\"This function needs to import the data file into collab and return a pandas dataframe\n",
        "    \"\"\"\n",
        "    raw_df = pd.read_excel(file_path)\n",
        "    return raw_df"
      ]
    },
    {
      "cell_type": "code",
      "execution_count": 34,
      "metadata": {
        "id": "cIljHljB7goF"
      },
      "outputs": [],
      "source": [
        "local_file_path = \"breast-cancer.xls\""
      ]
    },
    {
      "cell_type": "code",
      "execution_count": 35,
      "metadata": {
        "id": "LCu51H5Z7goF"
      },
      "outputs": [],
      "source": [
        "# Dont change\n",
        "raw_data = import_local_data(local_file_path)"
      ]
    },
    {
      "cell_type": "markdown",
      "metadata": {
        "id": "U9WDYKUP7goG"
      },
      "source": [
        "### Conduct exploratory data analysis and explain your key findings - Examine the data, explain its key features and what they look like.  Highlight any fields that are anomalous."
      ]
    },
    {
      "cell_type": "code",
      "source": [
        "# Look at the different dataframe column headings\n",
        "print(raw_data.columns)"
      ],
      "metadata": {
        "colab": {
          "base_uri": "https://localhost:8080/"
        },
        "id": "HkjdfYHGiz7a",
        "outputId": "75854fc1-ea46-43fe-fb8e-32b495fdb03e"
      },
      "execution_count": 36,
      "outputs": [
        {
          "output_type": "stream",
          "name": "stdout",
          "text": [
            "Index(['age', 'menopause', 'tumor-size', 'inv-nodes', 'node-caps', 'deg-malig',\n",
            "       'breast', 'breast-quad', 'irradiat', 'Class'],\n",
            "      dtype='object')\n"
          ]
        }
      ]
    },
    {
      "cell_type": "code",
      "source": [
        "# Determine data types for each column\n",
        "for i in range(0, len(raw_data.columns)):\n",
        "    print(type(raw_data.values[1][i]))"
      ],
      "metadata": {
        "colab": {
          "base_uri": "https://localhost:8080/"
        },
        "id": "oKqjAI-XigbI",
        "outputId": "1fd27bbe-f99c-43f3-97e0-f9f13d53912a"
      },
      "execution_count": 37,
      "outputs": [
        {
          "output_type": "stream",
          "name": "stdout",
          "text": [
            "<class 'str'>\n",
            "<class 'str'>\n",
            "<class 'str'>\n",
            "<class 'str'>\n",
            "<class 'str'>\n",
            "<class 'int'>\n",
            "<class 'str'>\n",
            "<class 'str'>\n",
            "<class 'str'>\n",
            "<class 'str'>\n"
          ]
        }
      ]
    },
    {
      "cell_type": "code",
      "source": [
        "#Look at the range of values for each field\n",
        "from collections import Counter\n",
        "rng_vals=[]\n",
        "for i in range(0,len(raw_data.columns)):\n",
        "    rng_vals.append(Counter(raw_data.iloc[:,i].values))\n",
        "    print(f\"{raw_data.columns[i]}: {rng_vals[i]}\")\n",
        "del rng_vals, i"
      ],
      "metadata": {
        "id": "-lQUCdTe36Dp",
        "outputId": "31bdbda3-e575-4378-ab9b-37f500511fab",
        "colab": {
          "base_uri": "https://localhost:8080/"
        }
      },
      "execution_count": 38,
      "outputs": [
        {
          "output_type": "stream",
          "name": "stdout",
          "text": [
            "age: Counter({'50-59': 96, '40-49': 90, '60-69': 57, '30-39': 36, '70-79': 6, '20-29': 1})\n",
            "menopause: Counter({'premeno': 150, 'ge40': 129, 'lt40': 7})\n",
            "tumor-size: Counter({'30-34': 60, '25-29': 54, '20-24': 50, '15-19': 30, datetime.datetime(2014, 10, 1, 0, 0): 28, '40-44': 22, '35-39': 19, '0-4': 8, '50-54': 8, datetime.datetime(2019, 9, 5, 0, 0): 4, '45-49': 3})\n",
            "inv-nodes: Counter({'0-2': 213, datetime.datetime(2019, 5, 3, 0, 0): 36, datetime.datetime(2019, 8, 6, 0, 0): 17, datetime.datetime(2019, 11, 9, 0, 0): 10, '15-17': 6, datetime.datetime(2014, 12, 1, 0, 0): 3, '24-26': 1})\n",
            "node-caps: Counter({'no': 222, 'yes': 56, '?': 8})\n",
            "deg-malig: Counter({2: 130, 3: 85, 1: 71})\n",
            "breast: Counter({'left': 152, 'right': 134})\n",
            "breast-quad: Counter({'left_low': 110, 'left_up': 97, 'right_up': 33, 'right_low': 24, 'central': 21, '?': 1})\n",
            "irradiat: Counter({'no': 218, 'yes': 68})\n",
            "Class: Counter({'no-recurrence-events': 201, 'recurrence-events': 85})\n"
          ]
        }
      ]
    },
    {
      "cell_type": "markdown",
      "source": [
        "**All fields look to contain data that is catagorical in nature.**\n",
        "\n",
        "**Some contain data that appears erroneous:**\n",
        " \n",
        "*   **'tumor-size' and 'inv-nodes' appear to contain some data in a datetime format and some in string.**\n",
        "*   **'node-caps' and 'breast-quad' contain Question Marks.**\n",
        "\n",
        "**Need a way to address these erroneous data inputs.**\n",
        "\n"
      ],
      "metadata": {
        "id": "lALFUx2EEQF0"
      }
    },
    {
      "cell_type": "code",
      "source": [
        "# Look in more detail at the columns with datetime data.\n",
        "print(raw_data.iloc[:, 2].values)"
      ],
      "metadata": {
        "colab": {
          "base_uri": "https://localhost:8080/"
        },
        "id": "1IetVwnCr3XI",
        "outputId": "ab0e1e7c-8518-46a5-a252-16cfc5d5a640"
      },
      "execution_count": 39,
      "outputs": [
        {
          "output_type": "stream",
          "name": "stdout",
          "text": [
            "['15-19' '15-19' '35-39' '35-39' '30-34' '25-29' '40-44'\n",
            " datetime.datetime(2014, 10, 1, 0, 0) '0-4' '40-44' '25-29' '15-19'\n",
            " '30-34' '25-29' '25-29' '20-24' datetime.datetime(2014, 10, 1, 0, 0)\n",
            " '15-19' '40-44' '20-24' '20-24' '40-44' '15-19'\n",
            " datetime.datetime(2014, 10, 1, 0, 0) '15-19' '20-24'\n",
            " datetime.datetime(2014, 10, 1, 0, 0) datetime.datetime(2014, 10, 1, 0, 0)\n",
            " '30-34' '15-19' '30-34' '25-29' '25-29' '20-24' '30-34' '15-19'\n",
            " datetime.datetime(2014, 10, 1, 0, 0) '45-49' '20-24'\n",
            " datetime.datetime(2014, 10, 1, 0, 0) '35-39' '35-39' '25-29' '20-24'\n",
            " '15-19' '30-34' datetime.datetime(2014, 10, 1, 0, 0) '35-39' '50-54'\n",
            " '40-44' '15-19' '30-34' '0-4' '40-44' '25-29' '25-29' '20-24' '35-39'\n",
            " '50-54' '0-4' '40-44' '30-34' '20-24' '30-34' '20-24' '15-19' '25-29'\n",
            " '15-19' '50-54' datetime.datetime(2014, 10, 1, 0, 0) '25-29' '25-29'\n",
            " datetime.datetime(2014, 10, 1, 0, 0) '30-34' '25-29'\n",
            " datetime.datetime(2014, 10, 1, 0, 0) '15-19' '25-29' '25-29' '30-34'\n",
            " '15-19' '25-29' '30-34' '15-19' '0-4' '35-39' '40-44' '25-29' '20-24'\n",
            " '30-34' '20-24' '30-34' '20-24' datetime.datetime(2014, 10, 1, 0, 0)\n",
            " '20-24' '45-49' '40-44' datetime.datetime(2014, 10, 1, 0, 0) '30-34'\n",
            " '35-39' '20-24' '15-19' '30-34' '20-24' '20-24' '30-34' '20-24' '25-29'\n",
            " '30-34' '20-24' '15-19' '30-34' '30-34' '40-44'\n",
            " datetime.datetime(2019, 9, 5, 0, 0) datetime.datetime(2014, 10, 1, 0, 0)\n",
            " '30-34' datetime.datetime(2014, 10, 1, 0, 0) '35-39' '20-24' '30-34'\n",
            " '25-29' '15-19' '35-39' datetime.datetime(2014, 10, 1, 0, 0) '30-34'\n",
            " '30-34' '25-29' '15-19' '15-19' '30-34' '35-39' '30-34' '25-29' '30-34'\n",
            " '15-19' '0-4' '0-4' '50-54' '30-34' '20-24' '25-29' '30-34' '20-24'\n",
            " '15-19' datetime.datetime(2014, 10, 1, 0, 0) '30-34'\n",
            " datetime.datetime(2014, 10, 1, 0, 0) '40-44' '30-34' '50-54' '15-19'\n",
            " '40-44' '25-29' datetime.datetime(2014, 10, 1, 0, 0)\n",
            " datetime.datetime(2014, 10, 1, 0, 0) '30-34' '20-24'\n",
            " datetime.datetime(2014, 10, 1, 0, 0) '25-29' '25-29' '30-34' '50-54'\n",
            " '30-34' '20-24' '30-34' '25-29' '20-24' '20-24' '50-54' '20-24' '30-34'\n",
            " '25-29' '25-29' '40-44' '20-24' '20-24' '25-29' '25-29' '20-24' '40-44'\n",
            " datetime.datetime(2014, 10, 1, 0, 0) '35-39' '30-34'\n",
            " datetime.datetime(2019, 9, 5, 0, 0) '15-19' '30-34' '25-29'\n",
            " datetime.datetime(2019, 9, 5, 0, 0) '25-29' '25-29'\n",
            " datetime.datetime(2014, 10, 1, 0, 0) '35-39' '50-54' '25-29' '20-24'\n",
            " '30-34' '30-34' '15-19' '20-24' datetime.datetime(2019, 9, 5, 0, 0)\n",
            " '30-34' '30-34' '25-29' '25-29' '40-44' '25-29' '30-34' '30-34' '25-29'\n",
            " '25-29' '40-44' '20-24' '25-29' '20-24' '40-44' '25-29' '25-29' '45-49'\n",
            " '20-24' '25-29' '20-24' '20-24' '35-39' '20-24' '30-34' '25-29' '30-34'\n",
            " '25-29' '20-24' '20-24' datetime.datetime(2014, 10, 1, 0, 0) '15-19'\n",
            " '25-29' '20-24' '40-44' '15-19' '30-34' '30-34' '40-44' '30-34'\n",
            " datetime.datetime(2014, 10, 1, 0, 0) '40-44' '30-34' '30-34' '15-19'\n",
            " datetime.datetime(2014, 10, 1, 0, 0) '20-24'\n",
            " datetime.datetime(2014, 10, 1, 0, 0) '25-29' '30-34'\n",
            " datetime.datetime(2014, 10, 1, 0, 0) '30-34' '0-4' '25-29' '25-29'\n",
            " '40-44' '25-29' '30-34' '20-24' '20-24' '25-29' '30-34' '20-24' '30-34'\n",
            " '0-4' '20-24' '35-39' '30-34' '20-24' '25-29' '35-39' '20-24' '20-24'\n",
            " '35-39' '35-39' '25-29' '35-39' '30-34' '20-24' '15-19' '30-34' '25-29'\n",
            " '30-34' '15-19' '40-44']\n"
          ]
        }
      ]
    },
    {
      "cell_type": "code",
      "source": [
        "# Look at output data\n",
        "raw_data['Class'].value_counts()"
      ],
      "metadata": {
        "colab": {
          "base_uri": "https://localhost:8080/"
        },
        "id": "3HePUlhNvfWF",
        "outputId": "511cbe5a-5d03-4243-d8cc-5c47e2cee380"
      },
      "execution_count": 40,
      "outputs": [
        {
          "output_type": "execute_result",
          "data": {
            "text/plain": [
              "no-recurrence-events    201\n",
              "recurrence-events        85\n",
              "Name: Class, dtype: int64"
            ]
          },
          "metadata": {},
          "execution_count": 40
        }
      ]
    },
    {
      "cell_type": "markdown",
      "source": [
        "Only 2 possible outputs, thus needs converting to binary format for use in classifier models."
      ],
      "metadata": {
        "id": "bkV5bQKKwYHj"
      }
    },
    {
      "cell_type": "code",
      "execution_count": 41,
      "metadata": {
        "id": "KMB3eKfC7goU",
        "colab": {
          "base_uri": "https://localhost:8080/"
        },
        "outputId": "c9cd6f3d-6421-4e17-da94-80a6185487e4"
      },
      "outputs": [
        {
          "output_type": "stream",
          "name": "stdout",
          "text": [
            "True outputs: 29.72 %\n"
          ]
        }
      ],
      "source": [
        "# Check output balance\n",
        "out = raw_data.iloc[:, -1].values\n",
        "no_rows = len(raw_data)\n",
        "\n",
        "from sklearn.preprocessing import LabelEncoder\n",
        "le = LabelEncoder()\n",
        "code_rows = le.fit_transform(out)\n",
        "print(\"True outputs: {:.2f} %\".format(sum(code_rows)/len(raw_data)*100))\n",
        "pos = sum(code_rows)\n",
        "neg = len(raw_data)-sum(code_rows)\n",
        "del out, no_rows, le, code_rows"
      ]
    },
    {
      "cell_type": "markdown",
      "source": [
        "Clear imbalance between output data. Some degree of bias/weighting/sampling will be required to ensure that results accurately predict outcomes for both True and False outcomes."
      ],
      "metadata": {
        "id": "mMo9-0hTwirc"
      }
    },
    {
      "cell_type": "code",
      "execution_count": 42,
      "metadata": {
        "id": "f02MTYgB7goW"
      },
      "outputs": [],
      "source": [
        "# Explain your key findings"
      ]
    },
    {
      "cell_type": "markdown",
      "source": [
        "**Data set is made up of 9 independent variables all of which appear catagorical in nature. Although stored as an integer, 'deg-malig' can be viewed as  catagorical data as it can only contain 3 discrete values.**\n",
        "\n",
        "**The inclusion of datetime data entries in both the 'tumor-size' and 'inv-nodes' fields appears to be caused by a formatting entry within Excel. For example, '10-14' being input erroneously as 10/14 thus Excel has interpreted (and converted) it to the datetime field 01/10/2014. A function will need to be written within the model to convert these back to correct format.**\n",
        "\n",
        "**How to deal with '?' entries in fields that are otherwise boolean poses an interesting dilemma. If these are infact meant to signify that the presence is unknown because no diagnostic work has been conducted, then this woiuld signify a valid dat entry. If it is however just an incomplete data entry then there is a risk its inclusion could skew the model results. Without knowing which it seems wisest to remove this data from the dataset. Removal of the entire field could well deprive the model of important information, thus just removing these specific entries (rows) appears the most sensible option, particularly noting that there are relatively few occurences.**\n",
        "\n",
        "**Data set is imbalanced, with dependent variable outputs only True in 30% of instances. The model applied will require this imbalance to be taken into account so as not to sacrifice results predicting this smaller class (surely the aim of cancer diagnosis) so as to achieve a high accuracy figure.**\n",
        "\n",
        "**Output variable will need converting into binary output for use with a binary classification model.**"
      ],
      "metadata": {
        "id": "V7OWyLcOrgWJ"
      }
    },
    {
      "cell_type": "markdown",
      "metadata": {
        "id": "SzZj8I8G7goX"
      },
      "source": [
        "Create any data pre-processing that you will conduct on seen and unseen data.  Regardless of the model you use, this dataframe must contain only numeric features and have a strategy for any expected missing values. Any objects can that are needed to handle the test data that are dependent on the training data can be stored in the model class.  You are recommended to use sklearn Pipelines or similar functionality to ensure reproducibility."
      ]
    },
    {
      "cell_type": "code",
      "source": [
        "# Correct date types in 'tumor-size' and 'inv-nodes' variables\n",
        "for i in range(0, len(raw_data)):\n",
        "    if type(raw_data['tumor-size'][i]) is not str:\n",
        "        if raw_data['tumor-size'][i].day == 1:\n",
        "            raw_data['tumor-size'][i] = str(raw_data['tumor-size'][i].month) +'-' + str(raw_data['tumor-size'][i].year-2000)\n",
        "        else:\n",
        "            raw_data['tumor-size'][i] = str(raw_data['tumor-size'][i].day) + '-' + str(raw_data['tumor-size'][i].month)\n",
        "    if type(raw_data['inv-nodes'][i]) is not str:\n",
        "        if raw_data['inv-nodes'][i].day == 1:\n",
        "            raw_data['inv-nodes'][i] = str(raw_data['inv-nodes'][i].month) + '-' + str(raw_data['inv-nodes'][i].year-2000)\n",
        "        else:\n",
        "            raw_data['inv-nodes'][i] = str(raw_data['inv-nodes'][i].day) + '-' + str(raw_data['inv-nodes'][i].month)        "
      ],
      "metadata": {
        "id": "GlZwiMllRpUB",
        "outputId": "17757b6b-785b-43a9-bf2e-90b82c18f8af",
        "colab": {
          "base_uri": "https://localhost:8080/"
        }
      },
      "execution_count": 43,
      "outputs": [
        {
          "output_type": "stream",
          "name": "stderr",
          "text": [
            "/usr/local/lib/python3.7/dist-packages/ipykernel_launcher.py:12: SettingWithCopyWarning: \n",
            "A value is trying to be set on a copy of a slice from a DataFrame\n",
            "\n",
            "See the caveats in the documentation: https://pandas.pydata.org/pandas-docs/stable/user_guide/indexing.html#returning-a-view-versus-a-copy\n",
            "  if sys.path[0] == '':\n",
            "/usr/local/lib/python3.7/dist-packages/ipykernel_launcher.py:5: SettingWithCopyWarning: \n",
            "A value is trying to be set on a copy of a slice from a DataFrame\n",
            "\n",
            "See the caveats in the documentation: https://pandas.pydata.org/pandas-docs/stable/user_guide/indexing.html#returning-a-view-versus-a-copy\n",
            "  \"\"\"\n",
            "/usr/local/lib/python3.7/dist-packages/ipykernel_launcher.py:7: SettingWithCopyWarning: \n",
            "A value is trying to be set on a copy of a slice from a DataFrame\n",
            "\n",
            "See the caveats in the documentation: https://pandas.pydata.org/pandas-docs/stable/user_guide/indexing.html#returning-a-view-versus-a-copy\n",
            "  import sys\n",
            "/usr/local/lib/python3.7/dist-packages/ipykernel_launcher.py:10: SettingWithCopyWarning: \n",
            "A value is trying to be set on a copy of a slice from a DataFrame\n",
            "\n",
            "See the caveats in the documentation: https://pandas.pydata.org/pandas-docs/stable/user_guide/indexing.html#returning-a-view-versus-a-copy\n",
            "  # Remove the CWD from sys.path while we load stuff.\n"
          ]
        }
      ]
    },
    {
      "cell_type": "code",
      "source": [
        "# Remove all rows containing ? data\n",
        "indx = raw_data[raw_data.isin(['?'])].stack(dropna=True).unstack().index\n",
        "print(f\"indx: {indx}\")\n",
        "raw_data = raw_data.drop(index=indx)"
      ],
      "metadata": {
        "id": "ThhbSU5gPBYA",
        "outputId": "8e27f460-071b-4bc6-9e30-64adebc1a28f",
        "colab": {
          "base_uri": "https://localhost:8080/"
        }
      },
      "execution_count": 44,
      "outputs": [
        {
          "output_type": "stream",
          "name": "stdout",
          "text": [
            "indx: Int64Index([20, 31, 50, 54, 71, 92, 149, 240, 264], dtype='int64')\n"
          ]
        }
      ]
    },
    {
      "cell_type": "code",
      "execution_count": 45,
      "metadata": {
        "id": "WIh9_0pp7goY"
      },
      "outputs": [],
      "source": [
        "# Split your data so that you can test the effectiveness of your model\n",
        "# Split the data into a Training set and a Test set\n",
        "dfs = np.split(raw_data, [len(raw_data.columns)-1], axis=1)\n",
        "X = dfs[0]\n",
        "y = dfs[1]\n",
        "\n",
        "# Handle categorical values and drop dummy variable\n",
        "# Remove non-categorical data\n",
        "dm = X.pop('deg-malig')\n",
        "# Encode the catagorical data (dummy variables)\n",
        "proc_X = pd.get_dummies(data=X, prefix_sep='_', drop_first=True)\n",
        "# Add back in non-categorical data\n",
        "proc_X.insert(0, 'deg-malig', dm)\n",
        "\n",
        "from sklearn.model_selection import train_test_split\n",
        "X_train, X_test, y_train, y_test = train_test_split(proc_X, y, test_size = 0.25, random_state = 42)\n",
        "X_train, X_val, y_train, y_val = train_test_split(X_train, y_train, test_size = 0.2, random_state = 42)"
      ]
    },
    {
      "cell_type": "code",
      "source": [
        "# Calculate class weights\n",
        "weight_0 = (1 / neg) * ((pos + neg) / 2)\n",
        "weight_1 = (1 / pos) * ((pos + neg) / 2)\n",
        "class_weight = {0: weight_0, 1: weight_1}\n",
        "print(f\"Weight for 0: {weight_0}\")\n",
        "print(f\"Weight for 1: {weight_1}\")"
      ],
      "metadata": {
        "id": "CtCPaYUj8dcn",
        "outputId": "a0951b1a-a344-492e-fe3a-2e939d831def",
        "colab": {
          "base_uri": "https://localhost:8080/"
        }
      },
      "execution_count": 46,
      "outputs": [
        {
          "output_type": "stream",
          "name": "stdout",
          "text": [
            "Weight for 0: 0.7114427860696517\n",
            "Weight for 1: 1.6823529411764706\n"
          ]
        }
      ]
    },
    {
      "cell_type": "code",
      "execution_count": 47,
      "metadata": {
        "id": "AbOQACY77goY"
      },
      "outputs": [],
      "source": [
        "# Populate preprocess_training_data and preprocess_test_data to preprocess data.\n",
        "# You must process test and train separately so your model does not accidently gain information that a model wouldnt have in reality and therefore get better predictions"
      ]
    },
    {
      "cell_type": "code",
      "execution_count": 48,
      "metadata": {
        "id": "Xsq2f8747goZ"
      },
      "outputs": [],
      "source": [
        "from keras.layers.advanced_activations import LeakyReLU\n",
        "class Module4_Model:\n",
        "    \n",
        "    def __init__(self):\n",
        "        self.model = None\n",
        "        self.metrics = [\n",
        "            keras.metrics.TruePositives(name='tp'),\n",
        "            keras.metrics.FalsePositives(name='fp'),\n",
        "            keras.metrics.TrueNegatives(name='tn'),\n",
        "            keras.metrics.FalseNegatives(name='fn'),\n",
        "            keras.metrics.BinaryAccuracy(name='accuracy'),\n",
        "            keras.metrics.Recall(name='recall'),\n",
        "            keras.metrics.Precision(name='precision'),\n",
        "            keras.metrics.AUC(name='prc', curve='PR'),\n",
        "        ]\n",
        "        self.EPOCHS = 500\n",
        "        self.BATCH = 100\n",
        "        self.THR = 0.3\n",
        "        self.stop_crit = keras.callbacks.EarlyStopping(\n",
        "            monitor='val_prc',\n",
        "            verbose=1,\n",
        "            patience=30,\n",
        "            mode='max',\n",
        "            restore_best_weights=True)\n",
        "\n",
        "    def preprocess_training_data(self, training_df):\n",
        "        \"\"\"\n",
        "        This function should process the training data and store any features\n",
        "        required in the class\n",
        "        \"\"\"         \n",
        "        # Apply feature scaling\n",
        "        from sklearn.preprocessing import StandardScaler\n",
        "        sc = StandardScaler()\n",
        "        processed_df = sc.fit_transform(training_df)\n",
        "        return processed_df, sc\n",
        "\n",
        "    def preprocess_test_data(self, test_df):\n",
        "        \"\"\"\n",
        "        This function should process the test data and store any features\n",
        "        required in the class\n",
        "        \"\"\"\n",
        "        # Apply feature scaling\n",
        "        processed_df = self.scalar.transform(test_df)\n",
        "        return processed_df\n",
        "\n",
        "    def make_model(self,hp):\n",
        "        #msle = MeanSquaredLogarithmicError()\n",
        "        model = keras.Sequential()\n",
        "\n",
        "        #if output_bias is not None:\n",
        "        output_bias = keras.initializers.Constant(class_weight)\n",
        "        # Tune the number of units in each layer\n",
        "        hp_units1 = hp.Int('units1',min_value=32,max_value=512,step=32)\n",
        "        hp_units2 = hp.Int('units2',min_value=32,max_value=512,step=32)\n",
        "        hp_units3 = hp.Int('units3',min_value=32,max_value=512,step=32)\n",
        "\n",
        "        #self.model = keras.Sequential()\n",
        "        model.add(Dense(hp_units1,activation='relu'))\n",
        "        model.add(Dropout(0.5))\n",
        "        model.add(Dense(hp_units2,activation=hp.Choice(\n",
        "            name='dense_activation',\n",
        "            values=['relu','selu','leaky-relu'],\n",
        "            default='leaky-relu'\n",
        "        )))\n",
        "        model.add(Dense(hp_units3,activation=hp.Choice(\n",
        "            name='dense_activation',\n",
        "            values=['relu','selu','leaky-relu'],\n",
        "            default='leaky-relu'\n",
        "            )))\n",
        "        model.add(Dense(1,kernel_initializer='normal',activation='sigmoid',bias_initializer=output_bias))\n",
        "        hp_learning_rate = hp.Choice('learning_rate',values=[1e-2, 1e-3, 1e-4])\n",
        "\n",
        "        model.compile(\n",
        "            optimizer=tf.keras.optimizers.Adam(learning_rate=hp_learning_rate),\n",
        "            loss=msle,\n",
        "            metrics=self.metrics)\n",
        "        \n",
        "        return model\n"
      ]
    },
    {
      "cell_type": "code",
      "execution_count": 49,
      "metadata": {
        "id": "F3LiNNCb7goa"
      },
      "outputs": [],
      "source": [
        "# Dont change\n",
        "my_model = Module4_Model()"
      ]
    },
    {
      "cell_type": "code",
      "execution_count": 50,
      "metadata": {
        "id": "ZQD7WPdN7god"
      },
      "outputs": [],
      "source": [
        "# Dont change\n",
        "x_train_processed, my_model.scalar = my_model.preprocess_training_data(X_train)\n",
        "x_val_processed = my_model.preprocess_test_data(X_val)"
      ]
    },
    {
      "cell_type": "code",
      "source": [
        "# Encode the output data\n",
        "from sklearn.preprocessing import LabelEncoder\n",
        "lb = LabelEncoder()\n",
        "y_train = pd.DataFrame(lb.fit_transform(y_train))\n",
        "y_val = pd.DataFrame(lb.transform(y_val))\n",
        "y_test = pd.DataFrame(lb.transform(y_test))"
      ],
      "metadata": {
        "id": "xZNGF1UxWGU5",
        "outputId": "1033197f-9c93-4bdd-edc5-18a736053e38",
        "colab": {
          "base_uri": "https://localhost:8080/"
        }
      },
      "execution_count": 51,
      "outputs": [
        {
          "output_type": "stream",
          "name": "stderr",
          "text": [
            "/usr/local/lib/python3.7/dist-packages/sklearn/preprocessing/_label.py:115: DataConversionWarning: A column-vector y was passed when a 1d array was expected. Please change the shape of y to (n_samples, ), for example using ravel().\n",
            "  y = column_or_1d(y, warn=True)\n",
            "/usr/local/lib/python3.7/dist-packages/sklearn/preprocessing/_label.py:133: DataConversionWarning: A column-vector y was passed when a 1d array was expected. Please change the shape of y to (n_samples, ), for example using ravel().\n",
            "  y = column_or_1d(y, warn=True)\n"
          ]
        }
      ]
    },
    {
      "cell_type": "code",
      "execution_count": 52,
      "metadata": {
        "id": "XnLHgaXS7goe"
      },
      "outputs": [],
      "source": [
        "# Create a model\n",
        "from keras.models import Sequential\n",
        "from keras.layers import Dense,Activation\n",
        "from keras.layers import LeakyReLU,ELU,PReLU,Dropout\n",
        "from keras.losses import MeanSquaredLogarithmicError\n",
        "from keras.utils.generic_utils import get_custom_objects\n",
        "\n",
        "msle = MeanSquaredLogarithmicError()\n",
        "get_custom_objects().update({'leaky-relu': Activation(LeakyReLU(alpha=0.3))})\n",
        "\n",
        "#classifier = Sequential()\n",
        "#first hidden layer\n",
        "#classifier.add(Dense(units=9,kernel_initializer='he_uniform',activation='relu',input_dim=31))\n",
        "#second hidden layer\n",
        "#classifier.add(Dense(units=9,kernel_initializer='he_uniform',activation='relu'))\n",
        "# last layer or output layer\n",
        "#classifier.add(Dense(units=1,kernel_initializer='glorot_uniform',activation='sigmoid'))"
      ]
    },
    {
      "cell_type": "code",
      "source": [
        "#classifier.summary()"
      ],
      "metadata": {
        "id": "R_MoAIh5Vf8o"
      },
      "execution_count": 53,
      "outputs": []
    },
    {
      "cell_type": "code",
      "source": [
        "#compiling the ANN\n",
        "#classifier.compile(optimizer='adam',loss='binary_crossentropy',metrics=['accuracy'])\n",
        "#my_model.make_model(x_train_processed,np.log([pos/neg]))\n",
        "#my_model.model.summary()"
      ],
      "metadata": {
        "id": "0F6w2k6kVkjU"
      },
      "execution_count": 54,
      "outputs": []
    },
    {
      "cell_type": "code",
      "source": [
        "# Utilise HyperBand algorithm from keras tuner to construct model\n",
        "tuner = kt.Hyperband(\n",
        "    my_model.make_model,\n",
        "    objective=kt.Objective('val_prc', direction='max'),\n",
        "    max_epochs=50,\n",
        "    directory='keras_tuner_dir',\n",
        "    project_name='keras_tuner',\n",
        ")\n",
        "tuner.search(x_train_processed,y_train,epochs=10,validation_split=0.2)"
      ],
      "metadata": {
        "id": "p1Ph9bZMV5G6"
      },
      "execution_count": 55,
      "outputs": []
    },
    {
      "cell_type": "code",
      "execution_count": 56,
      "metadata": {
        "id": "rQwUj4lk7goe"
      },
      "outputs": [],
      "source": [
        "# Dont change\n",
        "x_test_processed = my_model.preprocess_test_data(X_test)"
      ]
    },
    {
      "cell_type": "code",
      "source": [
        "for h_param in [f\"units{i}\" for i in range(1,4)] + ['learning_rate']:\n",
        "    print(h_param, tuner.get_best_hyperparameters()[0].get(h_param))"
      ],
      "metadata": {
        "id": "HuWZxfcvYOI4",
        "outputId": "cb137fb4-f067-437f-d61e-00b4a293767a",
        "colab": {
          "base_uri": "https://localhost:8080/"
        }
      },
      "execution_count": 57,
      "outputs": [
        {
          "output_type": "stream",
          "name": "stdout",
          "text": [
            "units1 448\n",
            "units2 480\n",
            "units3 32\n",
            "learning_rate 0.01\n"
          ]
        }
      ]
    },
    {
      "cell_type": "code",
      "source": [
        "my_model.best_model = tuner.get_best_models()[0]\n",
        "my_model.best_model.build(x_train_processed.shape)\n",
        "my_model.best_model.summary()"
      ],
      "metadata": {
        "id": "Lku4uguEY1ar",
        "outputId": "5bdc2635-2468-4464-e407-58bc03ba9284",
        "colab": {
          "base_uri": "https://localhost:8080/"
        }
      },
      "execution_count": 58,
      "outputs": [
        {
          "output_type": "stream",
          "name": "stdout",
          "text": [
            "Model: \"sequential\"\n",
            "_________________________________________________________________\n",
            " Layer (type)                Output Shape              Param #   \n",
            "=================================================================\n",
            " dense (Dense)               (165, 448)                14336     \n",
            "                                                                 \n",
            " dropout (Dropout)           (165, 448)                0         \n",
            "                                                                 \n",
            " dense_1 (Dense)             (165, 480)                215520    \n",
            "                                                                 \n",
            " dense_2 (Dense)             (165, 32)                 15392     \n",
            "                                                                 \n",
            " dense_3 (Dense)             (165, 1)                  33        \n",
            "                                                                 \n",
            "=================================================================\n",
            "Total params: 245,281\n",
            "Trainable params: 245,281\n",
            "Non-trainable params: 0\n",
            "_________________________________________________________________\n"
          ]
        }
      ]
    },
    {
      "cell_type": "code",
      "source": [
        "# Train the best model (with class weights)\n",
        "my_model.best_model.fit(x_train_processed,\n",
        "                   y_train,\n",
        "                   batch_size=my_model.BATCH,\n",
        "                   epochs=my_model.EPOCHS,\n",
        "                   callbacks=[my_model.stop_crit],\n",
        "                   validation_data=(x_val_processed,y_val),\n",
        "                   class_weight=class_weight)"
      ],
      "metadata": {
        "id": "DFAWtazI9LH4",
        "outputId": "b3908f04-3587-4ccf-f884-96ccba5a1a2d",
        "colab": {
          "base_uri": "https://localhost:8080/"
        }
      },
      "execution_count": 59,
      "outputs": [
        {
          "output_type": "stream",
          "name": "stdout",
          "text": [
            "Epoch 1/500\n",
            "2/2 [==============================] - 3s 956ms/step - loss: 0.1244 - tp: 4.0000 - fp: 14.0000 - tn: 104.0000 - fn: 43.0000 - accuracy: 0.6545 - recall: 0.0851 - precision: 0.2222 - prc: 0.2711 - val_loss: 0.1120 - val_tp: 1.0000 - val_fp: 1.0000 - val_tn: 26.0000 - val_fn: 14.0000 - val_accuracy: 0.6429 - val_recall: 0.0667 - val_precision: 0.5000 - val_prc: 0.5692\n",
            "Epoch 2/500\n",
            "2/2 [==============================] - 0s 37ms/step - loss: 0.1001 - tp: 17.0000 - fp: 8.0000 - tn: 110.0000 - fn: 30.0000 - accuracy: 0.7697 - recall: 0.3617 - precision: 0.6800 - prc: 0.6119 - val_loss: 0.1045 - val_tp: 8.0000 - val_fp: 5.0000 - val_tn: 22.0000 - val_fn: 7.0000 - val_accuracy: 0.7143 - val_recall: 0.5333 - val_precision: 0.6154 - val_prc: 0.5451\n",
            "Epoch 3/500\n",
            "2/2 [==============================] - 0s 40ms/step - loss: 0.0816 - tp: 29.0000 - fp: 16.0000 - tn: 102.0000 - fn: 18.0000 - accuracy: 0.7939 - recall: 0.6170 - precision: 0.6444 - prc: 0.6705 - val_loss: 0.1136 - val_tp: 8.0000 - val_fp: 6.0000 - val_tn: 21.0000 - val_fn: 7.0000 - val_accuracy: 0.6905 - val_recall: 0.5333 - val_precision: 0.5714 - val_prc: 0.5765\n",
            "Epoch 4/500\n",
            "2/2 [==============================] - 0s 54ms/step - loss: 0.0737 - tp: 33.0000 - fp: 24.0000 - tn: 94.0000 - fn: 14.0000 - accuracy: 0.7697 - recall: 0.7021 - precision: 0.5789 - prc: 0.7199 - val_loss: 0.1293 - val_tp: 7.0000 - val_fp: 8.0000 - val_tn: 19.0000 - val_fn: 8.0000 - val_accuracy: 0.6190 - val_recall: 0.4667 - val_precision: 0.4667 - val_prc: 0.5265\n",
            "Epoch 5/500\n",
            "2/2 [==============================] - 0s 37ms/step - loss: 0.0623 - tp: 34.0000 - fp: 18.0000 - tn: 100.0000 - fn: 13.0000 - accuracy: 0.8121 - recall: 0.7234 - precision: 0.6538 - prc: 0.7662 - val_loss: 0.1483 - val_tp: 4.0000 - val_fp: 9.0000 - val_tn: 18.0000 - val_fn: 11.0000 - val_accuracy: 0.5238 - val_recall: 0.2667 - val_precision: 0.3077 - val_prc: 0.4552\n",
            "Epoch 6/500\n",
            "2/2 [==============================] - 0s 35ms/step - loss: 0.0522 - tp: 41.0000 - fp: 23.0000 - tn: 95.0000 - fn: 6.0000 - accuracy: 0.8242 - recall: 0.8723 - precision: 0.6406 - prc: 0.8310 - val_loss: 0.1569 - val_tp: 2.0000 - val_fp: 6.0000 - val_tn: 21.0000 - val_fn: 13.0000 - val_accuracy: 0.5476 - val_recall: 0.1333 - val_precision: 0.2500 - val_prc: 0.3983\n",
            "Epoch 7/500\n",
            "2/2 [==============================] - 0s 36ms/step - loss: 0.0552 - tp: 33.0000 - fp: 12.0000 - tn: 106.0000 - fn: 14.0000 - accuracy: 0.8424 - recall: 0.7021 - precision: 0.7333 - prc: 0.8295 - val_loss: 0.1663 - val_tp: 6.0000 - val_fp: 10.0000 - val_tn: 17.0000 - val_fn: 9.0000 - val_accuracy: 0.5476 - val_recall: 0.4000 - val_precision: 0.3750 - val_prc: 0.4031\n",
            "Epoch 8/500\n",
            "2/2 [==============================] - 0s 37ms/step - loss: 0.0389 - tp: 46.0000 - fp: 20.0000 - tn: 98.0000 - fn: 1.0000 - accuracy: 0.8727 - recall: 0.9787 - precision: 0.6970 - prc: 0.9077 - val_loss: 0.1637 - val_tp: 8.0000 - val_fp: 9.0000 - val_tn: 18.0000 - val_fn: 7.0000 - val_accuracy: 0.6190 - val_recall: 0.5333 - val_precision: 0.4706 - val_prc: 0.4737\n",
            "Epoch 9/500\n",
            "2/2 [==============================] - 0s 35ms/step - loss: 0.0336 - tp: 44.0000 - fp: 10.0000 - tn: 108.0000 - fn: 3.0000 - accuracy: 0.9212 - recall: 0.9362 - precision: 0.8148 - prc: 0.8881 - val_loss: 0.1537 - val_tp: 7.0000 - val_fp: 6.0000 - val_tn: 21.0000 - val_fn: 8.0000 - val_accuracy: 0.6667 - val_recall: 0.4667 - val_precision: 0.5385 - val_prc: 0.5255\n",
            "Epoch 10/500\n",
            "2/2 [==============================] - 0s 57ms/step - loss: 0.0329 - tp: 42.0000 - fp: 11.0000 - tn: 107.0000 - fn: 5.0000 - accuracy: 0.9030 - recall: 0.8936 - precision: 0.7925 - prc: 0.9248 - val_loss: 0.1500 - val_tp: 7.0000 - val_fp: 7.0000 - val_tn: 20.0000 - val_fn: 8.0000 - val_accuracy: 0.6429 - val_recall: 0.4667 - val_precision: 0.5000 - val_prc: 0.5141\n",
            "Epoch 11/500\n",
            "2/2 [==============================] - 0s 36ms/step - loss: 0.0307 - tp: 43.0000 - fp: 14.0000 - tn: 104.0000 - fn: 4.0000 - accuracy: 0.8909 - recall: 0.9149 - precision: 0.7544 - prc: 0.9353 - val_loss: 0.1455 - val_tp: 8.0000 - val_fp: 6.0000 - val_tn: 21.0000 - val_fn: 7.0000 - val_accuracy: 0.6905 - val_recall: 0.5333 - val_precision: 0.5714 - val_prc: 0.4525\n",
            "Epoch 12/500\n",
            "2/2 [==============================] - 0s 35ms/step - loss: 0.0370 - tp: 43.0000 - fp: 17.0000 - tn: 101.0000 - fn: 4.0000 - accuracy: 0.8727 - recall: 0.9149 - precision: 0.7167 - prc: 0.8509 - val_loss: 0.1481 - val_tp: 8.0000 - val_fp: 6.0000 - val_tn: 21.0000 - val_fn: 7.0000 - val_accuracy: 0.6905 - val_recall: 0.5333 - val_precision: 0.5714 - val_prc: 0.4926\n",
            "Epoch 13/500\n",
            "2/2 [==============================] - 0s 35ms/step - loss: 0.0336 - tp: 43.0000 - fp: 13.0000 - tn: 105.0000 - fn: 4.0000 - accuracy: 0.8970 - recall: 0.9149 - precision: 0.7679 - prc: 0.9397 - val_loss: 0.1576 - val_tp: 6.0000 - val_fp: 5.0000 - val_tn: 22.0000 - val_fn: 9.0000 - val_accuracy: 0.6667 - val_recall: 0.4000 - val_precision: 0.5455 - val_prc: 0.4524\n",
            "Epoch 14/500\n",
            "2/2 [==============================] - 0s 39ms/step - loss: 0.0263 - tp: 43.0000 - fp: 10.0000 - tn: 108.0000 - fn: 4.0000 - accuracy: 0.9152 - recall: 0.9149 - precision: 0.8113 - prc: 0.9387 - val_loss: 0.1740 - val_tp: 5.0000 - val_fp: 8.0000 - val_tn: 19.0000 - val_fn: 10.0000 - val_accuracy: 0.5714 - val_recall: 0.3333 - val_precision: 0.3846 - val_prc: 0.4542\n",
            "Epoch 15/500\n",
            "2/2 [==============================] - 0s 39ms/step - loss: 0.0305 - tp: 45.0000 - fp: 15.0000 - tn: 103.0000 - fn: 2.0000 - accuracy: 0.8970 - recall: 0.9574 - precision: 0.7500 - prc: 0.9433 - val_loss: 0.1814 - val_tp: 5.0000 - val_fp: 8.0000 - val_tn: 19.0000 - val_fn: 10.0000 - val_accuracy: 0.5714 - val_recall: 0.3333 - val_precision: 0.3846 - val_prc: 0.4523\n",
            "Epoch 16/500\n",
            "2/2 [==============================] - 0s 39ms/step - loss: 0.0366 - tp: 44.0000 - fp: 15.0000 - tn: 103.0000 - fn: 3.0000 - accuracy: 0.8909 - recall: 0.9362 - precision: 0.7458 - prc: 0.9138 - val_loss: 0.1708 - val_tp: 5.0000 - val_fp: 8.0000 - val_tn: 19.0000 - val_fn: 10.0000 - val_accuracy: 0.5714 - val_recall: 0.3333 - val_precision: 0.3846 - val_prc: 0.4352\n",
            "Epoch 17/500\n",
            "2/2 [==============================] - 0s 123ms/step - loss: 0.0323 - tp: 43.0000 - fp: 9.0000 - tn: 109.0000 - fn: 4.0000 - accuracy: 0.9212 - recall: 0.9149 - precision: 0.8269 - prc: 0.9289 - val_loss: 0.1615 - val_tp: 5.0000 - val_fp: 6.0000 - val_tn: 21.0000 - val_fn: 10.0000 - val_accuracy: 0.6190 - val_recall: 0.3333 - val_precision: 0.4545 - val_prc: 0.4374\n",
            "Epoch 18/500\n",
            "2/2 [==============================] - 0s 78ms/step - loss: 0.0235 - tp: 43.0000 - fp: 6.0000 - tn: 112.0000 - fn: 4.0000 - accuracy: 0.9394 - recall: 0.9149 - precision: 0.8776 - prc: 0.9561 - val_loss: 0.1671 - val_tp: 4.0000 - val_fp: 7.0000 - val_tn: 20.0000 - val_fn: 11.0000 - val_accuracy: 0.5714 - val_recall: 0.2667 - val_precision: 0.3636 - val_prc: 0.4064\n",
            "Epoch 19/500\n",
            "2/2 [==============================] - 0s 55ms/step - loss: 0.0219 - tp: 46.0000 - fp: 9.0000 - tn: 109.0000 - fn: 1.0000 - accuracy: 0.9394 - recall: 0.9787 - precision: 0.8364 - prc: 0.9488 - val_loss: 0.1573 - val_tp: 6.0000 - val_fp: 7.0000 - val_tn: 20.0000 - val_fn: 9.0000 - val_accuracy: 0.6190 - val_recall: 0.4000 - val_precision: 0.4615 - val_prc: 0.4141\n",
            "Epoch 20/500\n",
            "2/2 [==============================] - 0s 62ms/step - loss: 0.0330 - tp: 42.0000 - fp: 8.0000 - tn: 110.0000 - fn: 5.0000 - accuracy: 0.9212 - recall: 0.8936 - precision: 0.8400 - prc: 0.9206 - val_loss: 0.1572 - val_tp: 8.0000 - val_fp: 8.0000 - val_tn: 19.0000 - val_fn: 7.0000 - val_accuracy: 0.6429 - val_recall: 0.5333 - val_precision: 0.5000 - val_prc: 0.4674\n",
            "Epoch 21/500\n",
            "2/2 [==============================] - 0s 95ms/step - loss: 0.0262 - tp: 43.0000 - fp: 8.0000 - tn: 110.0000 - fn: 4.0000 - accuracy: 0.9273 - recall: 0.9149 - precision: 0.8431 - prc: 0.9574 - val_loss: 0.1512 - val_tp: 7.0000 - val_fp: 7.0000 - val_tn: 20.0000 - val_fn: 8.0000 - val_accuracy: 0.6429 - val_recall: 0.4667 - val_precision: 0.5000 - val_prc: 0.4680\n",
            "Epoch 22/500\n",
            "2/2 [==============================] - 0s 67ms/step - loss: 0.0248 - tp: 45.0000 - fp: 9.0000 - tn: 109.0000 - fn: 2.0000 - accuracy: 0.9333 - recall: 0.9574 - precision: 0.8333 - prc: 0.9435 - val_loss: 0.1461 - val_tp: 7.0000 - val_fp: 5.0000 - val_tn: 22.0000 - val_fn: 8.0000 - val_accuracy: 0.6905 - val_recall: 0.4667 - val_precision: 0.5833 - val_prc: 0.4702\n",
            "Epoch 23/500\n",
            "2/2 [==============================] - 0s 67ms/step - loss: 0.0240 - tp: 43.0000 - fp: 5.0000 - tn: 113.0000 - fn: 4.0000 - accuracy: 0.9455 - recall: 0.9149 - precision: 0.8958 - prc: 0.9552 - val_loss: 0.1501 - val_tp: 7.0000 - val_fp: 5.0000 - val_tn: 22.0000 - val_fn: 8.0000 - val_accuracy: 0.6905 - val_recall: 0.4667 - val_precision: 0.5833 - val_prc: 0.5010\n",
            "Epoch 24/500\n",
            "2/2 [==============================] - 0s 60ms/step - loss: 0.0166 - tp: 43.0000 - fp: 5.0000 - tn: 113.0000 - fn: 4.0000 - accuracy: 0.9455 - recall: 0.9149 - precision: 0.8958 - prc: 0.9842 - val_loss: 0.1558 - val_tp: 6.0000 - val_fp: 5.0000 - val_tn: 22.0000 - val_fn: 9.0000 - val_accuracy: 0.6667 - val_recall: 0.4000 - val_precision: 0.5455 - val_prc: 0.5102\n",
            "Epoch 25/500\n",
            "2/2 [==============================] - 0s 50ms/step - loss: 0.0085 - tp: 47.0000 - fp: 3.0000 - tn: 115.0000 - fn: 0.0000e+00 - accuracy: 0.9818 - recall: 1.0000 - precision: 0.9400 - prc: 0.9933 - val_loss: 0.1637 - val_tp: 5.0000 - val_fp: 5.0000 - val_tn: 22.0000 - val_fn: 10.0000 - val_accuracy: 0.6429 - val_recall: 0.3333 - val_precision: 0.5000 - val_prc: 0.4989\n",
            "Epoch 26/500\n",
            "2/2 [==============================] - 0s 76ms/step - loss: 0.0198 - tp: 43.0000 - fp: 5.0000 - tn: 113.0000 - fn: 4.0000 - accuracy: 0.9455 - recall: 0.9149 - precision: 0.8958 - prc: 0.9666 - val_loss: 0.1744 - val_tp: 6.0000 - val_fp: 9.0000 - val_tn: 18.0000 - val_fn: 9.0000 - val_accuracy: 0.5714 - val_recall: 0.4000 - val_precision: 0.4000 - val_prc: 0.4509\n",
            "Epoch 27/500\n",
            "2/2 [==============================] - 0s 68ms/step - loss: 0.0176 - tp: 45.0000 - fp: 9.0000 - tn: 109.0000 - fn: 2.0000 - accuracy: 0.9333 - recall: 0.9574 - precision: 0.8333 - prc: 0.9542 - val_loss: 0.1786 - val_tp: 6.0000 - val_fp: 10.0000 - val_tn: 17.0000 - val_fn: 9.0000 - val_accuracy: 0.5476 - val_recall: 0.4000 - val_precision: 0.3750 - val_prc: 0.4496\n",
            "Epoch 28/500\n",
            "2/2 [==============================] - 0s 60ms/step - loss: 0.0189 - tp: 46.0000 - fp: 9.0000 - tn: 109.0000 - fn: 1.0000 - accuracy: 0.9394 - recall: 0.9787 - precision: 0.8364 - prc: 0.9741 - val_loss: 0.1712 - val_tp: 6.0000 - val_fp: 9.0000 - val_tn: 18.0000 - val_fn: 9.0000 - val_accuracy: 0.5714 - val_recall: 0.4000 - val_precision: 0.4000 - val_prc: 0.4605\n",
            "Epoch 29/500\n",
            "2/2 [==============================] - 0s 55ms/step - loss: 0.0185 - tp: 46.0000 - fp: 10.0000 - tn: 108.0000 - fn: 1.0000 - accuracy: 0.9333 - recall: 0.9787 - precision: 0.8214 - prc: 0.9767 - val_loss: 0.1581 - val_tp: 7.0000 - val_fp: 6.0000 - val_tn: 21.0000 - val_fn: 8.0000 - val_accuracy: 0.6667 - val_recall: 0.4667 - val_precision: 0.5385 - val_prc: 0.5035\n",
            "Epoch 30/500\n",
            "2/2 [==============================] - 0s 68ms/step - loss: 0.0156 - tp: 44.0000 - fp: 4.0000 - tn: 114.0000 - fn: 3.0000 - accuracy: 0.9576 - recall: 0.9362 - precision: 0.9167 - prc: 0.9640 - val_loss: 0.1540 - val_tp: 7.0000 - val_fp: 6.0000 - val_tn: 21.0000 - val_fn: 8.0000 - val_accuracy: 0.6667 - val_recall: 0.4667 - val_precision: 0.5385 - val_prc: 0.4549\n",
            "Epoch 31/500\n",
            "2/2 [==============================] - 0s 52ms/step - loss: 0.0190 - tp: 45.0000 - fp: 5.0000 - tn: 113.0000 - fn: 2.0000 - accuracy: 0.9576 - recall: 0.9574 - precision: 0.9000 - prc: 0.9760 - val_loss: 0.1465 - val_tp: 7.0000 - val_fp: 4.0000 - val_tn: 23.0000 - val_fn: 8.0000 - val_accuracy: 0.7143 - val_recall: 0.4667 - val_precision: 0.6364 - val_prc: 0.4740\n",
            "Epoch 32/500\n",
            "2/2 [==============================] - 0s 58ms/step - loss: 0.0112 - tp: 45.0000 - fp: 3.0000 - tn: 115.0000 - fn: 2.0000 - accuracy: 0.9697 - recall: 0.9574 - precision: 0.9375 - prc: 0.9891 - val_loss: 0.1458 - val_tp: 6.0000 - val_fp: 4.0000 - val_tn: 23.0000 - val_fn: 9.0000 - val_accuracy: 0.6905 - val_recall: 0.4000 - val_precision: 0.6000 - val_prc: 0.4489\n",
            "Epoch 33/500\n",
            "1/2 [==============>...............] - ETA: 0s - loss: 0.0140 - tp: 29.0000 - fp: 4.0000 - tn: 66.0000 - fn: 1.0000 - accuracy: 0.9500 - recall: 0.9667 - precision: 0.8788 - prc: 0.9646Restoring model weights from the end of the best epoch: 3.\n",
            "2/2 [==============================] - 0s 79ms/step - loss: 0.0129 - tp: 46.0000 - fp: 6.0000 - tn: 112.0000 - fn: 1.0000 - accuracy: 0.9576 - recall: 0.9787 - precision: 0.8846 - prc: 0.9678 - val_loss: 0.1515 - val_tp: 6.0000 - val_fp: 5.0000 - val_tn: 22.0000 - val_fn: 9.0000 - val_accuracy: 0.6667 - val_recall: 0.4000 - val_precision: 0.5455 - val_prc: 0.4143\n",
            "Epoch 33: early stopping\n"
          ]
        },
        {
          "output_type": "execute_result",
          "data": {
            "text/plain": [
              "<keras.callbacks.History at 0x7f2c566fd390>"
            ]
          },
          "metadata": {},
          "execution_count": 59
        }
      ]
    },
    {
      "cell_type": "code",
      "execution_count": 60,
      "metadata": {
        "id": "kwOiqNee7goj"
      },
      "outputs": [],
      "source": [
        "# use your model to make a prediction on unseen data\n",
        "y_pred = my_model.best_model.predict(x_test_processed,batch_size=my_model.BATCH)\n",
        "#convert values\n",
        "y_pred = (y_pred>my_model.THR)"
      ]
    },
    {
      "cell_type": "code",
      "execution_count": 61,
      "metadata": {
        "id": "VGgleoej7gok",
        "outputId": "32aa62fe-343d-45f2-ae5c-ecc61b4dbccc",
        "colab": {
          "base_uri": "https://localhost:8080/",
          "height": 333
        }
      },
      "outputs": [
        {
          "output_type": "stream",
          "name": "stdout",
          "text": [
            "Accuracy: 67.14 %\n",
            "Weighted ROC AUC accuracy: 75.80 %\n",
            "Confusion matrix:\n"
          ]
        },
        {
          "output_type": "display_data",
          "data": {
            "text/plain": [
              "<Figure size 432x288 with 2 Axes>"
            ],
            "image/png": "[encoded data removed]"
          },
          "metadata": {
            "needs_background": "light"
          }
        }
      ],
      "source": [
        "# Asssess the accuracy of your model and explain your key findings\n",
        "# Generate confusion matrix\n",
        "from sklearn.metrics import confusion_matrix, accuracy_score, roc_auc_score, ConfusionMatrixDisplay\n",
        "cm = confusion_matrix(y_test, y_pred)\n",
        "score = accuracy_score(y_test, y_pred)\n",
        "print(\"Accuracy: {:.2f} %\".format(score*100))\n",
        "print(\"Weighted ROC AUC accuracy: {:.2f} %\".format(roc_auc_score(y_test, y_pred, average='weighted')*100))\n",
        "print(\"Confusion matrix:\")\n",
        "disp = ConfusionMatrixDisplay(cm)\n",
        "disp.plot()\n",
        "plt.show()\n",
        "\n",
        "# Apply k-fold Cross Validation\n",
        "# from sklearn.model_selection import cross_val_score\n",
        "# from numpy import ravel\n",
        "# accuracies = cross_val_score(estimator = classifier, X = x_train_processed, y = ravel(y_train.values), scoring = 'roc_auc_ovo', cv = 10)\n",
        "# print(\"K-fold cross validation results\")\n",
        "# print(\"Accuracy: {:.2f} %\".format(accuracies.mean()*100))\n",
        "# print(\"Standard Deviation: {:.2f} %\".format(accuracies.std()*100))"
      ]
    },
    {
      "cell_type": "markdown",
      "source": [
        "Visualise the loss and accuracy for each epoch"
      ],
      "metadata": {
        "id": "G9DPmZDDXEnt"
      }
    },
    {
      "cell_type": "code",
      "source": [
        "# list all data in history\n",
        "print(my_model.model.history.keys())\n",
        "# summarize history for accuracy\n",
        "plt.plot(my_model.model.history['accuracy'])\n",
        "plt.title('model accuracy')\n",
        "plt.ylabel('accuracy')\n",
        "plt.xlabel('epoch')\n",
        "plt.legend(['train', 'test'], loc='upper left')\n",
        "plt.show()"
      ],
      "metadata": {
        "id": "c_bC8ZieW5fQ",
        "colab": {
          "base_uri": "https://localhost:8080/",
          "height": 243
        },
        "outputId": "4da81537-267a-4162-809c-f685ffb791cb"
      },
      "execution_count": 62,
      "outputs": [
        {
          "output_type": "error",
          "ename": "AttributeError",
          "evalue": "ignored",
          "traceback": [
            "\u001b[0;31m---------------------------------------------------------------------------\u001b[0m",
            "\u001b[0;31mAttributeError\u001b[0m                            Traceback (most recent call last)",
            "\u001b[0;32m<ipython-input-62-5b34ca081bc2>\u001b[0m in \u001b[0;36m<module>\u001b[0;34m\u001b[0m\n\u001b[1;32m      1\u001b[0m \u001b[0;31m# list all data in history\u001b[0m\u001b[0;34m\u001b[0m\u001b[0;34m\u001b[0m\u001b[0;34m\u001b[0m\u001b[0m\n\u001b[0;32m----> 2\u001b[0;31m \u001b[0mprint\u001b[0m\u001b[0;34m(\u001b[0m\u001b[0mmy_model\u001b[0m\u001b[0;34m.\u001b[0m\u001b[0mmodel\u001b[0m\u001b[0;34m.\u001b[0m\u001b[0mhistory\u001b[0m\u001b[0;34m.\u001b[0m\u001b[0mkeys\u001b[0m\u001b[0;34m(\u001b[0m\u001b[0;34m)\u001b[0m\u001b[0;34m)\u001b[0m\u001b[0;34m\u001b[0m\u001b[0;34m\u001b[0m\u001b[0m\n\u001b[0m\u001b[1;32m      3\u001b[0m \u001b[0;31m# summarize history for accuracy\u001b[0m\u001b[0;34m\u001b[0m\u001b[0;34m\u001b[0m\u001b[0;34m\u001b[0m\u001b[0m\n\u001b[1;32m      4\u001b[0m \u001b[0mplt\u001b[0m\u001b[0;34m.\u001b[0m\u001b[0mplot\u001b[0m\u001b[0;34m(\u001b[0m\u001b[0mmy_model\u001b[0m\u001b[0;34m.\u001b[0m\u001b[0mmodel\u001b[0m\u001b[0;34m.\u001b[0m\u001b[0mhistory\u001b[0m\u001b[0;34m[\u001b[0m\u001b[0;34m'accuracy'\u001b[0m\u001b[0;34m]\u001b[0m\u001b[0;34m)\u001b[0m\u001b[0;34m\u001b[0m\u001b[0;34m\u001b[0m\u001b[0m\n\u001b[1;32m      5\u001b[0m \u001b[0mplt\u001b[0m\u001b[0;34m.\u001b[0m\u001b[0mtitle\u001b[0m\u001b[0;34m(\u001b[0m\u001b[0;34m'model accuracy'\u001b[0m\u001b[0;34m)\u001b[0m\u001b[0;34m\u001b[0m\u001b[0;34m\u001b[0m\u001b[0m\n",
            "\u001b[0;31mAttributeError\u001b[0m: 'NoneType' object has no attribute 'history'"
          ]
        }
      ]
    },
    {
      "cell_type": "code",
      "source": [
        "# summarize history for loss\n",
        "plt.plot(my_model.model.history['loss'])\n",
        "plt.title('model loss')\n",
        "plt.ylabel('loss')\n",
        "plt.xlabel('epoch')\n",
        "plt.legend(['train', 'test'], loc='upper left')\n",
        "plt.show()"
      ],
      "metadata": {
        "id": "84wnXBf0XDyz"
      },
      "execution_count": null,
      "outputs": []
    },
    {
      "cell_type": "markdown",
      "source": [
        "**Model is approx 65-70% accurate at predicting whether cancer recurrence will occur.**\n",
        "\n",
        "**Crucially, the proportion of False Negatives is low (<15%). In cancer diagnosis these are the outcomes that we want to minimise. False Positives, whilst undesirable, will likely lead to further diagnostic testing before it is realised that cancer is not present.**"
      ],
      "metadata": {
        "id": "UMNN4P_E07L6"
      }
    },
    {
      "cell_type": "markdown",
      "metadata": {
        "id": "VDU85k7J7gok"
      },
      "source": [
        "### Unit tests:"
      ]
    },
    {
      "cell_type": "markdown",
      "metadata": {
        "id": "uq2QRpri7gol"
      },
      "source": [
        "###Checking training and test data for null values. This will work for both pd dataframes and np arrays, and ensures no null values exist."
      ]
    },
    {
      "cell_type": "code",
      "execution_count": null,
      "metadata": {
        "id": "oUeh38w_7gol"
      },
      "outputs": [],
      "source": [
        "def test_no_nulls(data):\n",
        "    \"\"\" Assert no null values within pd dataframe or np array \"\"\"\n",
        "    \n",
        "    # if data is numpy array, handle accordingly\n",
        "    if isinstance(data, (np.ndarray)):\n",
        "        assert not np.isnan(np.min(data))\n",
        "    \n",
        "    # if not np array, assume data is pandas dataframe\n",
        "    else:\n",
        "        assert data.isna().sum().sum() == 0"
      ]
    },
    {
      "cell_type": "code",
      "execution_count": null,
      "metadata": {
        "id": "BV9Z1F3i7gom"
      },
      "outputs": [],
      "source": [
        "# run null data unit test on both training and test data\n",
        "test_no_nulls(x_train_processed)\n",
        "test_no_nulls(x_test_processed)"
      ]
    }
  ],
  "metadata": {
    "colab": {
      "collapsed_sections": [],
      "name": "Copy of KSVC.ipynb",
      "provenance": [],
      "include_colab_link": true
    },
    "kernelspec": {
      "display_name": "Python 3 (ipykernel)",
      "language": "python",
      "name": "python3"
    },
    "language_info": {
      "codemirror_mode": {
        "name": "ipython",
        "version": 3
      },
      "file_extension": ".py",
      "mimetype": "text/x-python",
      "name": "python",
      "nbconvert_exporter": "python",
      "pygments_lexer": "ipython3",
      "version": "3.9.7"
    }
  },
  "nbformat": 4,
  "nbformat_minor": 0
}