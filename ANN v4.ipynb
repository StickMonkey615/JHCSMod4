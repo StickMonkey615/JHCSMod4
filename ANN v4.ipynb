{
  "cells": [
    {
      "cell_type": "markdown",
      "metadata": {
        "id": "view-in-github",
        "colab_type": "text"
      },
      "source": [
        "<a href=\"https://colab.research.google.com/github/StickMonkey615/JHCSMod4/blob/main/ANN%20v4.ipynb\" target=\"_parent\"><img src=\"https://colab.research.google.com/assets/colab-badge.svg\" alt=\"Open In Colab\"/></a>"
      ]
    },
    {
      "cell_type": "markdown",
      "metadata": {
        "id": "iRn73TIW7gn9"
      },
      "source": [
        "# Module 4 Guidance\n",
        "\n",
        "This notebook is a template for module 4b and 4c, which will be tested in Google Colab, your code needs to run there.\n",
        "The structure has been provided to improve consistency and make it easier for markers to understand your code but still give students the flexibility to be creative.  You need to populate the required functions to solve this problem.  All dependencies should be documented in the next cell.\n",
        "\n",
        "You can:\n",
        "    add further cells or text blocks to extend or further explain your solution\n",
        "    add further functions\n",
        "\n",
        "Dont:\n",
        "    rename functions\n",
        "   "
      ]
    },
    {
      "cell_type": "code",
      "execution_count": null,
      "metadata": {
        "id": "ZxOsuHxz7goC",
        "colab": {
          "base_uri": "https://localhost:8080/"
        },
        "outputId": "b714a7d3-97cb-41e7-b3f5-f41710e9c0e3"
      },
      "outputs": [
        {
          "output_type": "stream",
          "name": "stdout",
          "text": [
            "Looking in indexes: https://pypi.org/simple, https://us-python.pkg.dev/colab-wheels/public/simple/\n",
            "Collecting keras-tuner\n",
            "  Downloading keras_tuner-1.1.3-py3-none-any.whl (135 kB)\n",
            "\u001b[K     |████████████████████████████████| 135 kB 6.6 MB/s \n",
            "\u001b[?25hRequirement already satisfied: requests in /usr/local/lib/python3.7/dist-packages (from keras-tuner) (2.23.0)\n",
            "Requirement already satisfied: tensorboard in /usr/local/lib/python3.7/dist-packages (from keras-tuner) (2.8.0)\n",
            "Collecting kt-legacy\n",
            "  Downloading kt_legacy-1.0.4-py3-none-any.whl (9.6 kB)\n",
            "Requirement already satisfied: packaging in /usr/local/lib/python3.7/dist-packages (from keras-tuner) (21.3)\n",
            "Requirement already satisfied: numpy in /usr/local/lib/python3.7/dist-packages (from keras-tuner) (1.21.6)\n",
            "Requirement already satisfied: ipython in /usr/local/lib/python3.7/dist-packages (from keras-tuner) (7.9.0)\n",
            "Requirement already satisfied: decorator in /usr/local/lib/python3.7/dist-packages (from ipython->keras-tuner) (4.4.2)\n",
            "Requirement already satisfied: traitlets>=4.2 in /usr/local/lib/python3.7/dist-packages (from ipython->keras-tuner) (5.1.1)\n",
            "Requirement already satisfied: prompt-toolkit<2.1.0,>=2.0.0 in /usr/local/lib/python3.7/dist-packages (from ipython->keras-tuner) (2.0.10)\n",
            "Requirement already satisfied: pickleshare in /usr/local/lib/python3.7/dist-packages (from ipython->keras-tuner) (0.7.5)\n",
            "Requirement already satisfied: pygments in /usr/local/lib/python3.7/dist-packages (from ipython->keras-tuner) (2.6.1)\n",
            "Requirement already satisfied: backcall in /usr/local/lib/python3.7/dist-packages (from ipython->keras-tuner) (0.2.0)\n",
            "Requirement already satisfied: setuptools>=18.5 in /usr/local/lib/python3.7/dist-packages (from ipython->keras-tuner) (57.4.0)\n",
            "Collecting jedi>=0.10\n",
            "  Downloading jedi-0.18.1-py2.py3-none-any.whl (1.6 MB)\n",
            "\u001b[K     |████████████████████████████████| 1.6 MB 15.2 MB/s \n",
            "\u001b[?25hRequirement already satisfied: pexpect in /usr/local/lib/python3.7/dist-packages (from ipython->keras-tuner) (4.8.0)\n",
            "Requirement already satisfied: parso<0.9.0,>=0.8.0 in /usr/local/lib/python3.7/dist-packages (from jedi>=0.10->ipython->keras-tuner) (0.8.3)\n",
            "Requirement already satisfied: wcwidth in /usr/local/lib/python3.7/dist-packages (from prompt-toolkit<2.1.0,>=2.0.0->ipython->keras-tuner) (0.2.5)\n",
            "Requirement already satisfied: six>=1.9.0 in /usr/local/lib/python3.7/dist-packages (from prompt-toolkit<2.1.0,>=2.0.0->ipython->keras-tuner) (1.15.0)\n",
            "Requirement already satisfied: pyparsing!=3.0.5,>=2.0.2 in /usr/local/lib/python3.7/dist-packages (from packaging->keras-tuner) (3.0.9)\n",
            "Requirement already satisfied: ptyprocess>=0.5 in /usr/local/lib/python3.7/dist-packages (from pexpect->ipython->keras-tuner) (0.7.0)\n",
            "Requirement already satisfied: idna<3,>=2.5 in /usr/local/lib/python3.7/dist-packages (from requests->keras-tuner) (2.10)\n",
            "Requirement already satisfied: urllib3!=1.25.0,!=1.25.1,<1.26,>=1.21.1 in /usr/local/lib/python3.7/dist-packages (from requests->keras-tuner) (1.24.3)\n",
            "Requirement already satisfied: certifi>=2017.4.17 in /usr/local/lib/python3.7/dist-packages (from requests->keras-tuner) (2022.6.15)\n",
            "Requirement already satisfied: chardet<4,>=3.0.2 in /usr/local/lib/python3.7/dist-packages (from requests->keras-tuner) (3.0.4)\n",
            "Requirement already satisfied: wheel>=0.26 in /usr/local/lib/python3.7/dist-packages (from tensorboard->keras-tuner) (0.37.1)\n",
            "Requirement already satisfied: werkzeug>=0.11.15 in /usr/local/lib/python3.7/dist-packages (from tensorboard->keras-tuner) (1.0.1)\n",
            "Requirement already satisfied: google-auth-oauthlib<0.5,>=0.4.1 in /usr/local/lib/python3.7/dist-packages (from tensorboard->keras-tuner) (0.4.6)\n",
            "Requirement already satisfied: grpcio>=1.24.3 in /usr/local/lib/python3.7/dist-packages (from tensorboard->keras-tuner) (1.48.1)\n",
            "Requirement already satisfied: protobuf>=3.6.0 in /usr/local/lib/python3.7/dist-packages (from tensorboard->keras-tuner) (3.17.3)\n",
            "Requirement already satisfied: tensorboard-data-server<0.7.0,>=0.6.0 in /usr/local/lib/python3.7/dist-packages (from tensorboard->keras-tuner) (0.6.1)\n",
            "Requirement already satisfied: markdown>=2.6.8 in /usr/local/lib/python3.7/dist-packages (from tensorboard->keras-tuner) (3.4.1)\n",
            "Requirement already satisfied: absl-py>=0.4 in /usr/local/lib/python3.7/dist-packages (from tensorboard->keras-tuner) (1.2.0)\n",
            "Requirement already satisfied: tensorboard-plugin-wit>=1.6.0 in /usr/local/lib/python3.7/dist-packages (from tensorboard->keras-tuner) (1.8.1)\n",
            "Requirement already satisfied: google-auth<3,>=1.6.3 in /usr/local/lib/python3.7/dist-packages (from tensorboard->keras-tuner) (1.35.0)\n",
            "Requirement already satisfied: rsa<5,>=3.1.4 in /usr/local/lib/python3.7/dist-packages (from google-auth<3,>=1.6.3->tensorboard->keras-tuner) (4.9)\n",
            "Requirement already satisfied: cachetools<5.0,>=2.0.0 in /usr/local/lib/python3.7/dist-packages (from google-auth<3,>=1.6.3->tensorboard->keras-tuner) (4.2.4)\n",
            "Requirement already satisfied: pyasn1-modules>=0.2.1 in /usr/local/lib/python3.7/dist-packages (from google-auth<3,>=1.6.3->tensorboard->keras-tuner) (0.2.8)\n",
            "Requirement already satisfied: requests-oauthlib>=0.7.0 in /usr/local/lib/python3.7/dist-packages (from google-auth-oauthlib<0.5,>=0.4.1->tensorboard->keras-tuner) (1.3.1)\n",
            "Requirement already satisfied: importlib-metadata>=4.4 in /usr/local/lib/python3.7/dist-packages (from markdown>=2.6.8->tensorboard->keras-tuner) (4.12.0)\n",
            "Requirement already satisfied: zipp>=0.5 in /usr/local/lib/python3.7/dist-packages (from importlib-metadata>=4.4->markdown>=2.6.8->tensorboard->keras-tuner) (3.8.1)\n",
            "Requirement already satisfied: typing-extensions>=3.6.4 in /usr/local/lib/python3.7/dist-packages (from importlib-metadata>=4.4->markdown>=2.6.8->tensorboard->keras-tuner) (4.1.1)\n",
            "Requirement already satisfied: pyasn1<0.5.0,>=0.4.6 in /usr/local/lib/python3.7/dist-packages (from pyasn1-modules>=0.2.1->google-auth<3,>=1.6.3->tensorboard->keras-tuner) (0.4.8)\n",
            "Requirement already satisfied: oauthlib>=3.0.0 in /usr/local/lib/python3.7/dist-packages (from requests-oauthlib>=0.7.0->google-auth-oauthlib<0.5,>=0.4.1->tensorboard->keras-tuner) (3.2.0)\n",
            "Installing collected packages: jedi, kt-legacy, keras-tuner\n",
            "Successfully installed jedi-0.18.1 keras-tuner-1.1.3 kt-legacy-1.0.4\n"
          ]
        }
      ],
      "source": [
        "# Fixed dependencies - do not remove or change.\n",
        "import pytest\n",
        "import pandas as pd\n",
        "import numpy as np\n",
        "from google.colab import drive\n",
        "# drive.mount('/content/gdrive/')\n",
        "# Import your dependencies\n",
        "!pip install --upgrade xlrd > 1.2.0\n",
        "import xlrd\n",
        "import matplotlib.pyplot as plt\n",
        "import seaborn as sb\n",
        "import tensorflow as tf\n",
        "import keras\n",
        "!pip install keras-tuner --upgrade\n",
        "import keras_tuner as kt"
      ]
    },
    {
      "cell_type": "code",
      "execution_count": null,
      "metadata": {
        "id": "1m_gmKQP7goE"
      },
      "outputs": [],
      "source": [
        "# Import data\n",
        "\n",
        "def import_local_data(file_path):\n",
        "    \"\"\"This function needs to import the data file into collab and return a pandas dataframe\n",
        "    \"\"\"\n",
        "    raw_df = pd.read_excel(file_path)\n",
        "    return raw_df"
      ]
    },
    {
      "cell_type": "code",
      "execution_count": null,
      "metadata": {
        "id": "cIljHljB7goF"
      },
      "outputs": [],
      "source": [
        "local_file_path = \"breast-cancer.xls\""
      ]
    },
    {
      "cell_type": "code",
      "execution_count": null,
      "metadata": {
        "id": "LCu51H5Z7goF"
      },
      "outputs": [],
      "source": [
        "# Dont change\n",
        "raw_data = import_local_data(local_file_path)"
      ]
    },
    {
      "cell_type": "markdown",
      "metadata": {
        "id": "U9WDYKUP7goG"
      },
      "source": [
        "### Conduct exploratory data analysis and explain your key findings - Examine the data, explain its key features and what they look like.  Highlight any fields that are anomalous."
      ]
    },
    {
      "cell_type": "code",
      "source": [
        "# Look at the different dataframe column headings\n",
        "print(raw_data.columns)"
      ],
      "metadata": {
        "colab": {
          "base_uri": "https://localhost:8080/"
        },
        "id": "HkjdfYHGiz7a",
        "outputId": "ae509b3c-7af8-4e98-a7d4-1a9804ea4b61"
      },
      "execution_count": null,
      "outputs": [
        {
          "output_type": "stream",
          "name": "stdout",
          "text": [
            "Index(['age', 'menopause', 'tumor-size', 'inv-nodes', 'node-caps', 'deg-malig',\n",
            "       'breast', 'breast-quad', 'irradiat', 'Class'],\n",
            "      dtype='object')\n"
          ]
        }
      ]
    },
    {
      "cell_type": "code",
      "source": [
        "# Determine data types for each column\n",
        "for i in range(0, len(raw_data.columns)):\n",
        "    print(type(raw_data.values[1][i]))"
      ],
      "metadata": {
        "colab": {
          "base_uri": "https://localhost:8080/"
        },
        "id": "oKqjAI-XigbI",
        "outputId": "00c767bf-bae4-4c7b-ea38-4d975041ac14"
      },
      "execution_count": null,
      "outputs": [
        {
          "output_type": "stream",
          "name": "stdout",
          "text": [
            "<class 'str'>\n",
            "<class 'str'>\n",
            "<class 'str'>\n",
            "<class 'str'>\n",
            "<class 'str'>\n",
            "<class 'int'>\n",
            "<class 'str'>\n",
            "<class 'str'>\n",
            "<class 'str'>\n",
            "<class 'str'>\n"
          ]
        }
      ]
    },
    {
      "cell_type": "code",
      "source": [
        "#Look at the range of values for each field\n",
        "from collections import Counter\n",
        "rng_vals=[]\n",
        "for i in range(0,len(raw_data.columns)):\n",
        "    rng_vals.append(Counter(raw_data.iloc[:,i].values))\n",
        "    print(f\"{raw_data.columns[i]}: {rng_vals[i]}\")\n",
        "del rng_vals, i"
      ],
      "metadata": {
        "id": "-lQUCdTe36Dp",
        "outputId": "eb94a259-a232-4d5d-ebac-385fe8dfecff",
        "colab": {
          "base_uri": "https://localhost:8080/"
        }
      },
      "execution_count": null,
      "outputs": [
        {
          "output_type": "stream",
          "name": "stdout",
          "text": [
            "age: Counter({'50-59': 96, '40-49': 90, '60-69': 57, '30-39': 36, '70-79': 6, '20-29': 1})\n",
            "menopause: Counter({'premeno': 150, 'ge40': 129, 'lt40': 7})\n",
            "tumor-size: Counter({'30-34': 60, '25-29': 54, '20-24': 50, '15-19': 30, datetime.datetime(2014, 10, 1, 0, 0): 28, '40-44': 22, '35-39': 19, '0-4': 8, '50-54': 8, datetime.datetime(2019, 9, 5, 0, 0): 4, '45-49': 3})\n",
            "inv-nodes: Counter({'0-2': 213, datetime.datetime(2019, 5, 3, 0, 0): 36, datetime.datetime(2019, 8, 6, 0, 0): 17, datetime.datetime(2019, 11, 9, 0, 0): 10, '15-17': 6, datetime.datetime(2014, 12, 1, 0, 0): 3, '24-26': 1})\n",
            "node-caps: Counter({'no': 222, 'yes': 56, '?': 8})\n",
            "deg-malig: Counter({2: 130, 3: 85, 1: 71})\n",
            "breast: Counter({'left': 152, 'right': 134})\n",
            "breast-quad: Counter({'left_low': 110, 'left_up': 97, 'right_up': 33, 'right_low': 24, 'central': 21, '?': 1})\n",
            "irradiat: Counter({'no': 218, 'yes': 68})\n",
            "Class: Counter({'no-recurrence-events': 201, 'recurrence-events': 85})\n"
          ]
        }
      ]
    },
    {
      "cell_type": "markdown",
      "source": [
        "**All fields look to contain data that is catagorical in nature.**\n",
        "\n",
        "**Some contain data that appears erroneous:**\n",
        " \n",
        "*   **'tumor-size' and 'inv-nodes' appear to contain some data in a datetime format and some in string.**\n",
        "*   **'node-caps' and 'breast-quad' contain Question Marks.**\n",
        "\n",
        "**Need a way to address these erroneous data inputs.**\n",
        "\n"
      ],
      "metadata": {
        "id": "lALFUx2EEQF0"
      }
    },
    {
      "cell_type": "code",
      "source": [
        "# Look in more detail at the columns with datetime data.\n",
        "print(raw_data.iloc[:, 2].values)"
      ],
      "metadata": {
        "colab": {
          "base_uri": "https://localhost:8080/"
        },
        "id": "1IetVwnCr3XI",
        "outputId": "e11a3b05-ca50-4ce7-b25d-34bfc46c3818"
      },
      "execution_count": null,
      "outputs": [
        {
          "output_type": "stream",
          "name": "stdout",
          "text": [
            "['15-19' '15-19' '35-39' '35-39' '30-34' '25-29' '40-44'\n",
            " datetime.datetime(2014, 10, 1, 0, 0) '0-4' '40-44' '25-29' '15-19'\n",
            " '30-34' '25-29' '25-29' '20-24' datetime.datetime(2014, 10, 1, 0, 0)\n",
            " '15-19' '40-44' '20-24' '20-24' '40-44' '15-19'\n",
            " datetime.datetime(2014, 10, 1, 0, 0) '15-19' '20-24'\n",
            " datetime.datetime(2014, 10, 1, 0, 0) datetime.datetime(2014, 10, 1, 0, 0)\n",
            " '30-34' '15-19' '30-34' '25-29' '25-29' '20-24' '30-34' '15-19'\n",
            " datetime.datetime(2014, 10, 1, 0, 0) '45-49' '20-24'\n",
            " datetime.datetime(2014, 10, 1, 0, 0) '35-39' '35-39' '25-29' '20-24'\n",
            " '15-19' '30-34' datetime.datetime(2014, 10, 1, 0, 0) '35-39' '50-54'\n",
            " '40-44' '15-19' '30-34' '0-4' '40-44' '25-29' '25-29' '20-24' '35-39'\n",
            " '50-54' '0-4' '40-44' '30-34' '20-24' '30-34' '20-24' '15-19' '25-29'\n",
            " '15-19' '50-54' datetime.datetime(2014, 10, 1, 0, 0) '25-29' '25-29'\n",
            " datetime.datetime(2014, 10, 1, 0, 0) '30-34' '25-29'\n",
            " datetime.datetime(2014, 10, 1, 0, 0) '15-19' '25-29' '25-29' '30-34'\n",
            " '15-19' '25-29' '30-34' '15-19' '0-4' '35-39' '40-44' '25-29' '20-24'\n",
            " '30-34' '20-24' '30-34' '20-24' datetime.datetime(2014, 10, 1, 0, 0)\n",
            " '20-24' '45-49' '40-44' datetime.datetime(2014, 10, 1, 0, 0) '30-34'\n",
            " '35-39' '20-24' '15-19' '30-34' '20-24' '20-24' '30-34' '20-24' '25-29'\n",
            " '30-34' '20-24' '15-19' '30-34' '30-34' '40-44'\n",
            " datetime.datetime(2019, 9, 5, 0, 0) datetime.datetime(2014, 10, 1, 0, 0)\n",
            " '30-34' datetime.datetime(2014, 10, 1, 0, 0) '35-39' '20-24' '30-34'\n",
            " '25-29' '15-19' '35-39' datetime.datetime(2014, 10, 1, 0, 0) '30-34'\n",
            " '30-34' '25-29' '15-19' '15-19' '30-34' '35-39' '30-34' '25-29' '30-34'\n",
            " '15-19' '0-4' '0-4' '50-54' '30-34' '20-24' '25-29' '30-34' '20-24'\n",
            " '15-19' datetime.datetime(2014, 10, 1, 0, 0) '30-34'\n",
            " datetime.datetime(2014, 10, 1, 0, 0) '40-44' '30-34' '50-54' '15-19'\n",
            " '40-44' '25-29' datetime.datetime(2014, 10, 1, 0, 0)\n",
            " datetime.datetime(2014, 10, 1, 0, 0) '30-34' '20-24'\n",
            " datetime.datetime(2014, 10, 1, 0, 0) '25-29' '25-29' '30-34' '50-54'\n",
            " '30-34' '20-24' '30-34' '25-29' '20-24' '20-24' '50-54' '20-24' '30-34'\n",
            " '25-29' '25-29' '40-44' '20-24' '20-24' '25-29' '25-29' '20-24' '40-44'\n",
            " datetime.datetime(2014, 10, 1, 0, 0) '35-39' '30-34'\n",
            " datetime.datetime(2019, 9, 5, 0, 0) '15-19' '30-34' '25-29'\n",
            " datetime.datetime(2019, 9, 5, 0, 0) '25-29' '25-29'\n",
            " datetime.datetime(2014, 10, 1, 0, 0) '35-39' '50-54' '25-29' '20-24'\n",
            " '30-34' '30-34' '15-19' '20-24' datetime.datetime(2019, 9, 5, 0, 0)\n",
            " '30-34' '30-34' '25-29' '25-29' '40-44' '25-29' '30-34' '30-34' '25-29'\n",
            " '25-29' '40-44' '20-24' '25-29' '20-24' '40-44' '25-29' '25-29' '45-49'\n",
            " '20-24' '25-29' '20-24' '20-24' '35-39' '20-24' '30-34' '25-29' '30-34'\n",
            " '25-29' '20-24' '20-24' datetime.datetime(2014, 10, 1, 0, 0) '15-19'\n",
            " '25-29' '20-24' '40-44' '15-19' '30-34' '30-34' '40-44' '30-34'\n",
            " datetime.datetime(2014, 10, 1, 0, 0) '40-44' '30-34' '30-34' '15-19'\n",
            " datetime.datetime(2014, 10, 1, 0, 0) '20-24'\n",
            " datetime.datetime(2014, 10, 1, 0, 0) '25-29' '30-34'\n",
            " datetime.datetime(2014, 10, 1, 0, 0) '30-34' '0-4' '25-29' '25-29'\n",
            " '40-44' '25-29' '30-34' '20-24' '20-24' '25-29' '30-34' '20-24' '30-34'\n",
            " '0-4' '20-24' '35-39' '30-34' '20-24' '25-29' '35-39' '20-24' '20-24'\n",
            " '35-39' '35-39' '25-29' '35-39' '30-34' '20-24' '15-19' '30-34' '25-29'\n",
            " '30-34' '15-19' '40-44']\n"
          ]
        }
      ]
    },
    {
      "cell_type": "code",
      "source": [
        "# Look at output data\n",
        "raw_data['Class'].value_counts()"
      ],
      "metadata": {
        "colab": {
          "base_uri": "https://localhost:8080/"
        },
        "id": "3HePUlhNvfWF",
        "outputId": "2dfd6794-2af3-429c-fc73-aaa8a68f2bf9"
      },
      "execution_count": null,
      "outputs": [
        {
          "output_type": "execute_result",
          "data": {
            "text/plain": [
              "no-recurrence-events    201\n",
              "recurrence-events        85\n",
              "Name: Class, dtype: int64"
            ]
          },
          "metadata": {},
          "execution_count": 9
        }
      ]
    },
    {
      "cell_type": "markdown",
      "source": [
        "Only 2 possible outputs, thus needs converting to binary format for use in classifier models."
      ],
      "metadata": {
        "id": "bkV5bQKKwYHj"
      }
    },
    {
      "cell_type": "code",
      "execution_count": null,
      "metadata": {
        "id": "KMB3eKfC7goU",
        "colab": {
          "base_uri": "https://localhost:8080/"
        },
        "outputId": "3b256fb6-68d4-4389-9b8f-1c284342188e"
      },
      "outputs": [
        {
          "output_type": "stream",
          "name": "stdout",
          "text": [
            "True outputs: 29.72 %\n"
          ]
        }
      ],
      "source": [
        "# Check output balance\n",
        "out = raw_data.iloc[:, -1].values\n",
        "no_rows = len(raw_data)\n",
        "\n",
        "from sklearn.preprocessing import LabelEncoder\n",
        "le = LabelEncoder()\n",
        "code_rows = le.fit_transform(out)\n",
        "print(\"True outputs: {:.2f} %\".format(sum(code_rows)/len(raw_data)*100))\n",
        "pos = sum(code_rows)\n",
        "neg = len(raw_data)-sum(code_rows)\n",
        "del out, no_rows, le, code_rows"
      ]
    },
    {
      "cell_type": "markdown",
      "source": [
        "Clear imbalance between output data. Some degree of bias/weighting/sampling will be required to ensure that results accurately predict outcomes for both True and False outcomes."
      ],
      "metadata": {
        "id": "mMo9-0hTwirc"
      }
    },
    {
      "cell_type": "code",
      "execution_count": null,
      "metadata": {
        "id": "f02MTYgB7goW"
      },
      "outputs": [],
      "source": [
        "# Explain your key findings"
      ]
    },
    {
      "cell_type": "markdown",
      "source": [
        "**Data set is made up of 9 independent variables all of which appear catagorical in nature. Although stored as an integer, 'deg-malig' can be viewed as  catagorical data as it can only contain 3 discrete values.**\n",
        "\n",
        "**The inclusion of datetime data entries in both the 'tumor-size' and 'inv-nodes' fields appears to be caused by a formatting entry within Excel. For example, '10-14' being input erroneously as 10/14 thus Excel has interpreted (and converted) it to the datetime field 01/10/2014. A function will need to be written within the model to convert these back to correct format.**\n",
        "\n",
        "**How to deal with '?' entries in fields that are otherwise boolean poses an interesting dilemma. If these are infact meant to signify that the presence is unknown because no diagnostic work has been conducted, then this woiuld signify a valid dat entry. If it is however just an incomplete data entry then there is a risk its inclusion could skew the model results. Without knowing which it seems wisest to remove this data from the dataset. Removal of the entire field could well deprive the model of important information, thus just removing these specific entries (rows) appears the most sensible option, particularly noting that there are relatively few occurences.**\n",
        "\n",
        "**Data set is imbalanced, with dependent variable outputs only True in 30% of instances. The model applied will require this imbalance to be taken into account so as not to sacrifice results predicting this smaller class (surely the aim of cancer diagnosis) so as to achieve a high accuracy figure.**\n",
        "\n",
        "**Output variable will need converting into binary output for use with a binary classification model.**"
      ],
      "metadata": {
        "id": "V7OWyLcOrgWJ"
      }
    },
    {
      "cell_type": "markdown",
      "metadata": {
        "id": "SzZj8I8G7goX"
      },
      "source": [
        "Create any data pre-processing that you will conduct on seen and unseen data.  Regardless of the model you use, this dataframe must contain only numeric features and have a strategy for any expected missing values. Any objects can that are needed to handle the test data that are dependent on the training data can be stored in the model class.  You are recommended to use sklearn Pipelines or similar functionality to ensure reproducibility."
      ]
    },
    {
      "cell_type": "code",
      "source": [
        "# Correct date types in 'tumor-size' and 'inv-nodes' variables\n",
        "for i in range(0, len(raw_data)):\n",
        "    if type(raw_data['tumor-size'][i]) is not str:\n",
        "        if raw_data['tumor-size'][i].day == 1:\n",
        "            raw_data['tumor-size'][i] = str(raw_data['tumor-size'][i].month) +'-' + str(raw_data['tumor-size'][i].year-2000)\n",
        "        else:\n",
        "            raw_data['tumor-size'][i] = str(raw_data['tumor-size'][i].day) + '-' + str(raw_data['tumor-size'][i].month)\n",
        "    if type(raw_data['inv-nodes'][i]) is not str:\n",
        "        if raw_data['inv-nodes'][i].day == 1:\n",
        "            raw_data['inv-nodes'][i] = str(raw_data['inv-nodes'][i].month) + '-' + str(raw_data['inv-nodes'][i].year-2000)\n",
        "        else:\n",
        "            raw_data['inv-nodes'][i] = str(raw_data['inv-nodes'][i].day) + '-' + str(raw_data['inv-nodes'][i].month)        "
      ],
      "metadata": {
        "id": "GlZwiMllRpUB",
        "outputId": "62054574-200d-4fce-fec9-eb6249ae6ddc",
        "colab": {
          "base_uri": "https://localhost:8080/"
        }
      },
      "execution_count": null,
      "outputs": [
        {
          "output_type": "stream",
          "name": "stderr",
          "text": [
            "/usr/local/lib/python3.7/dist-packages/ipykernel_launcher.py:12: SettingWithCopyWarning: \n",
            "A value is trying to be set on a copy of a slice from a DataFrame\n",
            "\n",
            "See the caveats in the documentation: https://pandas.pydata.org/pandas-docs/stable/user_guide/indexing.html#returning-a-view-versus-a-copy\n",
            "  if sys.path[0] == '':\n",
            "/usr/local/lib/python3.7/dist-packages/ipykernel_launcher.py:5: SettingWithCopyWarning: \n",
            "A value is trying to be set on a copy of a slice from a DataFrame\n",
            "\n",
            "See the caveats in the documentation: https://pandas.pydata.org/pandas-docs/stable/user_guide/indexing.html#returning-a-view-versus-a-copy\n",
            "  \"\"\"\n",
            "/usr/local/lib/python3.7/dist-packages/ipykernel_launcher.py:7: SettingWithCopyWarning: \n",
            "A value is trying to be set on a copy of a slice from a DataFrame\n",
            "\n",
            "See the caveats in the documentation: https://pandas.pydata.org/pandas-docs/stable/user_guide/indexing.html#returning-a-view-versus-a-copy\n",
            "  import sys\n",
            "/usr/local/lib/python3.7/dist-packages/ipykernel_launcher.py:10: SettingWithCopyWarning: \n",
            "A value is trying to be set on a copy of a slice from a DataFrame\n",
            "\n",
            "See the caveats in the documentation: https://pandas.pydata.org/pandas-docs/stable/user_guide/indexing.html#returning-a-view-versus-a-copy\n",
            "  # Remove the CWD from sys.path while we load stuff.\n"
          ]
        }
      ]
    },
    {
      "cell_type": "code",
      "source": [
        "# Remove all rows containing ? data\n",
        "indx = raw_data[raw_data.isin(['?'])].stack(dropna=True).unstack().index\n",
        "print(f\"indx: {indx}\")\n",
        "raw_data = raw_data.drop(index=indx)"
      ],
      "metadata": {
        "id": "ThhbSU5gPBYA",
        "outputId": "a800a455-db75-454c-a145-92abcbaf4275",
        "colab": {
          "base_uri": "https://localhost:8080/"
        }
      },
      "execution_count": null,
      "outputs": [
        {
          "output_type": "stream",
          "name": "stdout",
          "text": [
            "indx: Int64Index([20, 31, 50, 54, 71, 92, 149, 240, 264], dtype='int64')\n"
          ]
        }
      ]
    },
    {
      "cell_type": "code",
      "execution_count": null,
      "metadata": {
        "id": "WIh9_0pp7goY"
      },
      "outputs": [],
      "source": [
        "# Split your data so that you can test the effectiveness of your model\n",
        "# Split the data into a Training set and a Test set\n",
        "dfs = np.split(raw_data, [len(raw_data.columns)-1], axis=1)\n",
        "X = dfs[0]\n",
        "y = dfs[1]\n",
        "\n",
        "# Handle categorical values and drop dummy variable\n",
        "# Remove non-categorical data\n",
        "dm = X.pop('deg-malig')\n",
        "# Encode the catagorical data (dummy variables)\n",
        "proc_X = pd.get_dummies(data=X, prefix_sep='_', drop_first=True)\n",
        "# Add back in non-categorical data\n",
        "proc_X.insert(0, 'deg-malig', dm)\n",
        "\n",
        "from sklearn.model_selection import train_test_split\n",
        "X_train, X_test, y_train, y_test = train_test_split(proc_X, y, test_size = 0.25, random_state = 42)\n",
        "X_train, X_val, y_train, y_val = train_test_split(X_train, y_train, test_size = 0.2, random_state = 42)"
      ]
    },
    {
      "cell_type": "code",
      "source": [
        "# Calculate class weights\n",
        "weight_0 = (1 / neg) * ((pos + neg) / 2)\n",
        "weight_1 = (1 / pos) * ((pos + neg) / 2)\n",
        "class_weight = np.log([pos/neg])\n",
        "class_weight_dict = {0: weight_0, 1: weight_1}\n",
        "print(f\"Weight for 0: {weight_0}\")\n",
        "print(f\"Weight for 1: {weight_1}\")"
      ],
      "metadata": {
        "id": "CtCPaYUj8dcn",
        "outputId": "37f6b659-cea8-4448-9abd-2f0c461e8eee",
        "colab": {
          "base_uri": "https://localhost:8080/"
        }
      },
      "execution_count": null,
      "outputs": [
        {
          "output_type": "stream",
          "name": "stdout",
          "text": [
            "Weight for 0: 0.7114427860696517\n",
            "Weight for 1: 1.6823529411764706\n"
          ]
        }
      ]
    },
    {
      "cell_type": "code",
      "execution_count": null,
      "metadata": {
        "id": "AbOQACY77goY"
      },
      "outputs": [],
      "source": [
        "# Populate preprocess_training_data and preprocess_test_data to preprocess data.\n",
        "# You must process test and train separately so your model does not accidently gain information that a model wouldnt have in reality and therefore get better predictions"
      ]
    },
    {
      "cell_type": "code",
      "execution_count": null,
      "metadata": {
        "id": "Xsq2f8747goZ"
      },
      "outputs": [],
      "source": [
        "from keras.layers.advanced_activations import LeakyReLU\n",
        "class Module4_Model:\n",
        "    \n",
        "    def __init__(self):\n",
        "        self.model = None\n",
        "        self.metrics = [\n",
        "            keras.metrics.TruePositives(name='tp'),\n",
        "            keras.metrics.FalsePositives(name='fp'),\n",
        "            keras.metrics.TrueNegatives(name='tn'),\n",
        "            keras.metrics.FalseNegatives(name='fn'),\n",
        "            keras.metrics.BinaryAccuracy(name='accuracy'),\n",
        "            keras.metrics.Recall(name='recall'),\n",
        "            keras.metrics.Precision(name='precision'),\n",
        "            keras.metrics.AUC(name='prc', curve='PR'),\n",
        "        ]\n",
        "        self.EPOCHS = 500\n",
        "        self.BATCH = 100\n",
        "        self.THR = 0.3\n",
        "        self.stop_crit = keras.callbacks.EarlyStopping(\n",
        "            monitor='val_prc',\n",
        "            verbose=1,\n",
        "            patience=50,\n",
        "            mode='max',\n",
        "            restore_best_weights=True)\n",
        "\n",
        "    def preprocess_training_data(self, training_df):\n",
        "        \"\"\"\n",
        "        This function should process the training data and store any features\n",
        "        required in the class\n",
        "        \"\"\"         \n",
        "        # Apply feature scaling\n",
        "        from sklearn.preprocessing import StandardScaler\n",
        "        sc = StandardScaler()\n",
        "        processed_df = sc.fit_transform(training_df)\n",
        "        return processed_df, sc\n",
        "\n",
        "    def preprocess_test_data(self, test_df):\n",
        "        \"\"\"\n",
        "        This function should process the test data and store any features\n",
        "        required in the class\n",
        "        \"\"\"\n",
        "        # Apply feature scaling\n",
        "        processed_df = self.scalar.transform(test_df)\n",
        "        return processed_df\n",
        "\n",
        "    def make_model(self,hp):\n",
        "        model = keras.Sequential()\n",
        "        output_bias = keras.initializers.Constant(class_weight)\n",
        "        # Tune the number of units in each layer\n",
        "        hp_units1 = hp.Int('units1',min_value=16,max_value=128,step=2)\n",
        "        hp_units2 = hp.Int('units2',min_value=16,max_value=64,step=2)\n",
        "        hp_units3 = hp.Int('units3',min_value=16,max_value=32,step=2)\n",
        "\n",
        "        model.add(Dense(hp_units1,\n",
        "                        activation=hp.Choice(\n",
        "                            name='dense_activation1',\n",
        "                            values=['relu','selu','leaky-relu'],\n",
        "                            default='selu'),\n",
        "                        input_shape=(x_train_processed.shape[-1],),\n",
        "                        kernel_initializer='lecun_normal'\n",
        "                        ))\n",
        "        #model.add(Dropout(0.5))\n",
        "        model.add(Dense(hp_units2,\n",
        "                        activation=hp.Choice(\n",
        "                            name='dense_activation2',\n",
        "                            values=['relu','selu','leaky-relu'],\n",
        "                            default='leaky-relu'),\n",
        "                        kernel_initializer='lecun_normal'\n",
        "                        ))\n",
        "        model.add(Dense(hp_units3,\n",
        "                        activation=hp.Choice(\n",
        "                            name='dense_activation3',\n",
        "                            values=['relu','selu','leaky-relu'],\n",
        "                            default='leaky-relu'),\n",
        "                        kernel_initializer='lecun_normal'\n",
        "                        ))\n",
        "        model.add(Dense(1,kernel_initializer='normal',activation='sigmoid',bias_initializer=output_bias))\n",
        "        hp_learning_rate = hp.Choice('learning_rate',values=[1e-2, 1e-3, 1e-4])\n",
        "\n",
        "        model.compile(\n",
        "            optimizer=tf.keras.optimizers.Adamax(learning_rate=hp_learning_rate),\n",
        "            loss=keras.losses.BinaryCrossentropy(),\n",
        "            metrics=self.metrics)\n",
        "        \n",
        "        return model\n"
      ]
    },
    {
      "cell_type": "code",
      "execution_count": null,
      "metadata": {
        "id": "F3LiNNCb7goa"
      },
      "outputs": [],
      "source": [
        "# Dont change\n",
        "my_model = Module4_Model()"
      ]
    },
    {
      "cell_type": "code",
      "execution_count": null,
      "metadata": {
        "id": "ZQD7WPdN7god"
      },
      "outputs": [],
      "source": [
        "# Dont change\n",
        "x_train_processed, my_model.scalar = my_model.preprocess_training_data(X_train)\n",
        "x_val_processed = my_model.preprocess_test_data(X_val)"
      ]
    },
    {
      "cell_type": "code",
      "source": [
        "# Encode the output data\n",
        "from sklearn.preprocessing import LabelEncoder\n",
        "lb = LabelEncoder()\n",
        "y_train = pd.DataFrame(lb.fit_transform(y_train))\n",
        "y_val = pd.DataFrame(lb.transform(y_val))\n",
        "y_test = pd.DataFrame(lb.transform(y_test))"
      ],
      "metadata": {
        "id": "xZNGF1UxWGU5",
        "outputId": "a9499ecc-3de9-444b-924c-c74e819a8f56",
        "colab": {
          "base_uri": "https://localhost:8080/"
        }
      },
      "execution_count": null,
      "outputs": [
        {
          "output_type": "stream",
          "name": "stderr",
          "text": [
            "/usr/local/lib/python3.7/dist-packages/sklearn/preprocessing/_label.py:115: DataConversionWarning: A column-vector y was passed when a 1d array was expected. Please change the shape of y to (n_samples, ), for example using ravel().\n",
            "  y = column_or_1d(y, warn=True)\n",
            "/usr/local/lib/python3.7/dist-packages/sklearn/preprocessing/_label.py:133: DataConversionWarning: A column-vector y was passed when a 1d array was expected. Please change the shape of y to (n_samples, ), for example using ravel().\n",
            "  y = column_or_1d(y, warn=True)\n"
          ]
        }
      ]
    },
    {
      "cell_type": "code",
      "execution_count": null,
      "metadata": {
        "id": "XnLHgaXS7goe"
      },
      "outputs": [],
      "source": [
        "# Create a model\n",
        "from keras.models import Sequential\n",
        "from keras.layers import Dense,Activation\n",
        "from keras.layers import LeakyReLU,ELU,PReLU,Dropout\n",
        "from keras.losses import MeanSquaredLogarithmicError\n",
        "from keras.utils.generic_utils import get_custom_objects\n",
        "\n",
        "msle = MeanSquaredLogarithmicError()\n",
        "get_custom_objects().update({'leaky-relu': Activation(LeakyReLU(alpha=0.3))})"
      ]
    },
    {
      "cell_type": "code",
      "source": [
        "# Utilise HyperBand algorithm from keras tuner to construct model\n",
        "tuner = kt.Hyperband(\n",
        "    my_model.make_model,\n",
        "    objective=kt.Objective('val_prc', direction='max'),\n",
        "    max_epochs=50,\n",
        "    directory='keras_tuner_dir',\n",
        "    project_name='keras_tuner',\n",
        ")\n",
        "tuner.search(x_train_processed,y_train,epochs=10,validation_split=0.2)"
      ],
      "metadata": {
        "id": "p1Ph9bZMV5G6",
        "outputId": "0f5050f6-ea73-4ae9-fff4-c703a20d05d9",
        "colab": {
          "base_uri": "https://localhost:8080/"
        }
      },
      "execution_count": 22,
      "outputs": [
        {
          "output_type": "stream",
          "name": "stdout",
          "text": [
            "Trial 90 Complete [00h 00m 07s]\n",
            "val_prc: 0.32779064774513245\n",
            "\n",
            "Best val_prc So Far: 0.5932174921035767\n",
            "Total elapsed time: 00h 04m 18s\n"
          ]
        }
      ]
    },
    {
      "cell_type": "code",
      "execution_count": 23,
      "metadata": {
        "id": "rQwUj4lk7goe"
      },
      "outputs": [],
      "source": [
        "# Dont change\n",
        "x_test_processed = my_model.preprocess_test_data(X_test)"
      ]
    },
    {
      "cell_type": "code",
      "source": [
        "for h_param in [f\"units{i}\" for i in range(1,4)] + ['learning_rate'] + [f\"dense_activation{i}\" for i in range(1,4)]:\n",
        "    print(h_param, tuner.get_best_hyperparameters()[0].get(h_param))\n",
        "\n",
        "    "
      ],
      "metadata": {
        "id": "HuWZxfcvYOI4",
        "outputId": "462ef78d-5863-49f6-e356-233079a883fe",
        "colab": {
          "base_uri": "https://localhost:8080/"
        }
      },
      "execution_count": 24,
      "outputs": [
        {
          "output_type": "stream",
          "name": "stdout",
          "text": [
            "units1 120\n",
            "units2 28\n",
            "units3 18\n",
            "learning_rate 0.001\n",
            "dense_activation1 relu\n",
            "dense_activation2 selu\n",
            "dense_activation3 elu\n"
          ]
        }
      ]
    },
    {
      "cell_type": "code",
      "source": [
        "my_model.best_model = tuner.get_best_models()[0]\n",
        "my_model.best_model.build(x_train_processed.shape)\n",
        "my_model.best_model.summary()"
      ],
      "metadata": {
        "id": "Lku4uguEY1ar",
        "outputId": "8a42dbe7-b58c-4082-bf8c-9100029c76ca",
        "colab": {
          "base_uri": "https://localhost:8080/"
        }
      },
      "execution_count": 25,
      "outputs": [
        {
          "output_type": "stream",
          "name": "stdout",
          "text": [
            "Model: \"sequential\"\n",
            "_________________________________________________________________\n",
            " Layer (type)                Output Shape              Param #   \n",
            "=================================================================\n",
            " dense (Dense)               (None, 120)               3840      \n",
            "                                                                 \n",
            " dense_1 (Dense)             (None, 28)                3388      \n",
            "                                                                 \n",
            " dense_2 (Dense)             (None, 18)                522       \n",
            "                                                                 \n",
            " dense_3 (Dense)             (None, 1)                 19        \n",
            "                                                                 \n",
            "=================================================================\n",
            "Total params: 7,769\n",
            "Trainable params: 7,769\n",
            "Non-trainable params: 0\n",
            "_________________________________________________________________\n"
          ]
        }
      ]
    },
    {
      "cell_type": "code",
      "source": [
        "# Train the best model (with class weights)\n",
        "my_model.best_model.fit(x_train_processed,\n",
        "                   y_train,\n",
        "                   batch_size=my_model.BATCH,\n",
        "                   epochs=my_model.EPOCHS,\n",
        "                   callbacks=[my_model.stop_crit,\n",
        "                              keras.callbacks.ReduceLROnPlateau(monitor='val_prc',\n",
        "                                                                factor=0.2,\n",
        "                                                                patience=20,\n",
        "                                                                mode='max',\n",
        "                                                                cooldown=10)],\n",
        "                   validation_data=(x_val_processed,y_val),\n",
        "                   class_weight=class_weight_dict)"
      ],
      "metadata": {
        "id": "DFAWtazI9LH4",
        "outputId": "8f25e6b0-55f6-4959-b36a-43dee98162a8",
        "colab": {
          "base_uri": "https://localhost:8080/"
        }
      },
      "execution_count": 26,
      "outputs": [
        {
          "output_type": "stream",
          "name": "stdout",
          "text": [
            "Epoch 1/500\n",
            "2/2 [==============================] - 2s 626ms/step - loss: 0.8224 - tp: 0.0000e+00 - fp: 0.0000e+00 - tn: 145.0000 - fn: 62.0000 - accuracy: 0.7005 - recall: 0.0000e+00 - precision: 0.0000e+00 - prc: 0.3321 - val_loss: 0.5053 - val_tp: 0.0000e+00 - val_fp: 0.0000e+00 - val_tn: 34.0000 - val_fn: 8.0000 - val_accuracy: 0.8095 - val_recall: 0.0000e+00 - val_precision: 0.0000e+00 - val_prc: 0.5640 - lr: 0.0010\n",
            "Epoch 2/500\n",
            "2/2 [==============================] - 0s 21ms/step - loss: 0.8221 - tp: 0.0000e+00 - fp: 0.0000e+00 - tn: 111.0000 - fn: 54.0000 - accuracy: 0.6727 - recall: 0.0000e+00 - precision: 0.0000e+00 - prc: 0.4062 - val_loss: 0.5053 - val_tp: 0.0000e+00 - val_fp: 0.0000e+00 - val_tn: 34.0000 - val_fn: 8.0000 - val_accuracy: 0.8095 - val_recall: 0.0000e+00 - val_precision: 0.0000e+00 - val_prc: 0.5605 - lr: 0.0010\n",
            "Epoch 3/500\n",
            "2/2 [==============================] - 0s 19ms/step - loss: 0.8217 - tp: 0.0000e+00 - fp: 0.0000e+00 - tn: 111.0000 - fn: 54.0000 - accuracy: 0.6727 - recall: 0.0000e+00 - precision: 0.0000e+00 - prc: 0.4126 - val_loss: 0.5054 - val_tp: 0.0000e+00 - val_fp: 0.0000e+00 - val_tn: 34.0000 - val_fn: 8.0000 - val_accuracy: 0.8095 - val_recall: 0.0000e+00 - val_precision: 0.0000e+00 - val_prc: 0.5882 - lr: 0.0010\n",
            "Epoch 4/500\n",
            "2/2 [==============================] - 0s 20ms/step - loss: 0.8213 - tp: 0.0000e+00 - fp: 0.0000e+00 - tn: 111.0000 - fn: 54.0000 - accuracy: 0.6727 - recall: 0.0000e+00 - precision: 0.0000e+00 - prc: 0.4009 - val_loss: 0.5054 - val_tp: 0.0000e+00 - val_fp: 0.0000e+00 - val_tn: 34.0000 - val_fn: 8.0000 - val_accuracy: 0.8095 - val_recall: 0.0000e+00 - val_precision: 0.0000e+00 - val_prc: 0.6375 - lr: 0.0010\n",
            "Epoch 5/500\n",
            "2/2 [==============================] - 0s 20ms/step - loss: 0.8209 - tp: 0.0000e+00 - fp: 0.0000e+00 - tn: 111.0000 - fn: 54.0000 - accuracy: 0.6727 - recall: 0.0000e+00 - precision: 0.0000e+00 - prc: 0.4011 - val_loss: 0.5055 - val_tp: 0.0000e+00 - val_fp: 0.0000e+00 - val_tn: 34.0000 - val_fn: 8.0000 - val_accuracy: 0.8095 - val_recall: 0.0000e+00 - val_precision: 0.0000e+00 - val_prc: 0.6375 - lr: 0.0010\n",
            "Epoch 6/500\n",
            "2/2 [==============================] - 0s 20ms/step - loss: 0.8205 - tp: 0.0000e+00 - fp: 0.0000e+00 - tn: 111.0000 - fn: 54.0000 - accuracy: 0.6727 - recall: 0.0000e+00 - precision: 0.0000e+00 - prc: 0.4095 - val_loss: 0.5055 - val_tp: 0.0000e+00 - val_fp: 0.0000e+00 - val_tn: 34.0000 - val_fn: 8.0000 - val_accuracy: 0.8095 - val_recall: 0.0000e+00 - val_precision: 0.0000e+00 - val_prc: 0.6103 - lr: 0.0010\n",
            "Epoch 7/500\n",
            "2/2 [==============================] - 0s 20ms/step - loss: 0.8201 - tp: 0.0000e+00 - fp: 0.0000e+00 - tn: 111.0000 - fn: 54.0000 - accuracy: 0.6727 - recall: 0.0000e+00 - precision: 0.0000e+00 - prc: 0.4140 - val_loss: 0.5056 - val_tp: 0.0000e+00 - val_fp: 0.0000e+00 - val_tn: 34.0000 - val_fn: 8.0000 - val_accuracy: 0.8095 - val_recall: 0.0000e+00 - val_precision: 0.0000e+00 - val_prc: 0.6098 - lr: 0.0010\n",
            "Epoch 8/500\n",
            "2/2 [==============================] - 0s 21ms/step - loss: 0.8197 - tp: 0.0000e+00 - fp: 0.0000e+00 - tn: 111.0000 - fn: 54.0000 - accuracy: 0.6727 - recall: 0.0000e+00 - precision: 0.0000e+00 - prc: 0.4124 - val_loss: 0.5056 - val_tp: 0.0000e+00 - val_fp: 0.0000e+00 - val_tn: 34.0000 - val_fn: 8.0000 - val_accuracy: 0.8095 - val_recall: 0.0000e+00 - val_precision: 0.0000e+00 - val_prc: 0.6423 - lr: 0.0010\n",
            "Epoch 9/500\n",
            "2/2 [==============================] - 0s 27ms/step - loss: 0.8193 - tp: 0.0000e+00 - fp: 0.0000e+00 - tn: 111.0000 - fn: 54.0000 - accuracy: 0.6727 - recall: 0.0000e+00 - precision: 0.0000e+00 - prc: 0.4195 - val_loss: 0.5057 - val_tp: 0.0000e+00 - val_fp: 0.0000e+00 - val_tn: 34.0000 - val_fn: 8.0000 - val_accuracy: 0.8095 - val_recall: 0.0000e+00 - val_precision: 0.0000e+00 - val_prc: 0.6423 - lr: 0.0010\n",
            "Epoch 10/500\n",
            "2/2 [==============================] - 0s 20ms/step - loss: 0.8189 - tp: 0.0000e+00 - fp: 0.0000e+00 - tn: 111.0000 - fn: 54.0000 - accuracy: 0.6727 - recall: 0.0000e+00 - precision: 0.0000e+00 - prc: 0.4232 - val_loss: 0.5058 - val_tp: 0.0000e+00 - val_fp: 0.0000e+00 - val_tn: 34.0000 - val_fn: 8.0000 - val_accuracy: 0.8095 - val_recall: 0.0000e+00 - val_precision: 0.0000e+00 - val_prc: 0.6439 - lr: 0.0010\n",
            "Epoch 11/500\n",
            "2/2 [==============================] - 0s 25ms/step - loss: 0.8185 - tp: 0.0000e+00 - fp: 0.0000e+00 - tn: 111.0000 - fn: 54.0000 - accuracy: 0.6727 - recall: 0.0000e+00 - precision: 0.0000e+00 - prc: 0.4304 - val_loss: 0.5058 - val_tp: 0.0000e+00 - val_fp: 0.0000e+00 - val_tn: 34.0000 - val_fn: 8.0000 - val_accuracy: 0.8095 - val_recall: 0.0000e+00 - val_precision: 0.0000e+00 - val_prc: 0.6749 - lr: 0.0010\n",
            "Epoch 12/500\n",
            "2/2 [==============================] - 0s 21ms/step - loss: 0.8182 - tp: 0.0000e+00 - fp: 0.0000e+00 - tn: 111.0000 - fn: 54.0000 - accuracy: 0.6727 - recall: 0.0000e+00 - precision: 0.0000e+00 - prc: 0.4254 - val_loss: 0.5059 - val_tp: 0.0000e+00 - val_fp: 0.0000e+00 - val_tn: 34.0000 - val_fn: 8.0000 - val_accuracy: 0.8095 - val_recall: 0.0000e+00 - val_precision: 0.0000e+00 - val_prc: 0.6442 - lr: 0.0010\n",
            "Epoch 13/500\n",
            "2/2 [==============================] - 0s 21ms/step - loss: 0.8178 - tp: 0.0000e+00 - fp: 0.0000e+00 - tn: 111.0000 - fn: 54.0000 - accuracy: 0.6727 - recall: 0.0000e+00 - precision: 0.0000e+00 - prc: 0.4227 - val_loss: 0.5059 - val_tp: 0.0000e+00 - val_fp: 0.0000e+00 - val_tn: 34.0000 - val_fn: 8.0000 - val_accuracy: 0.8095 - val_recall: 0.0000e+00 - val_precision: 0.0000e+00 - val_prc: 0.6407 - lr: 0.0010\n",
            "Epoch 14/500\n",
            "2/2 [==============================] - 0s 21ms/step - loss: 0.8174 - tp: 0.0000e+00 - fp: 0.0000e+00 - tn: 111.0000 - fn: 54.0000 - accuracy: 0.6727 - recall: 0.0000e+00 - precision: 0.0000e+00 - prc: 0.4197 - val_loss: 0.5060 - val_tp: 0.0000e+00 - val_fp: 0.0000e+00 - val_tn: 34.0000 - val_fn: 8.0000 - val_accuracy: 0.8095 - val_recall: 0.0000e+00 - val_precision: 0.0000e+00 - val_prc: 0.6402 - lr: 0.0010\n",
            "Epoch 15/500\n",
            "2/2 [==============================] - 0s 20ms/step - loss: 0.8170 - tp: 0.0000e+00 - fp: 0.0000e+00 - tn: 111.0000 - fn: 54.0000 - accuracy: 0.6727 - recall: 0.0000e+00 - precision: 0.0000e+00 - prc: 0.4178 - val_loss: 0.5060 - val_tp: 0.0000e+00 - val_fp: 0.0000e+00 - val_tn: 34.0000 - val_fn: 8.0000 - val_accuracy: 0.8095 - val_recall: 0.0000e+00 - val_precision: 0.0000e+00 - val_prc: 0.6397 - lr: 0.0010\n",
            "Epoch 16/500\n",
            "2/2 [==============================] - 0s 26ms/step - loss: 0.8166 - tp: 0.0000e+00 - fp: 0.0000e+00 - tn: 111.0000 - fn: 54.0000 - accuracy: 0.6727 - recall: 0.0000e+00 - precision: 0.0000e+00 - prc: 0.4114 - val_loss: 0.5061 - val_tp: 0.0000e+00 - val_fp: 0.0000e+00 - val_tn: 34.0000 - val_fn: 8.0000 - val_accuracy: 0.8095 - val_recall: 0.0000e+00 - val_precision: 0.0000e+00 - val_prc: 0.6330 - lr: 0.0010\n",
            "Epoch 17/500\n",
            "2/2 [==============================] - 0s 20ms/step - loss: 0.8162 - tp: 0.0000e+00 - fp: 0.0000e+00 - tn: 111.0000 - fn: 54.0000 - accuracy: 0.6727 - recall: 0.0000e+00 - precision: 0.0000e+00 - prc: 0.4188 - val_loss: 0.5062 - val_tp: 0.0000e+00 - val_fp: 0.0000e+00 - val_tn: 34.0000 - val_fn: 8.0000 - val_accuracy: 0.8095 - val_recall: 0.0000e+00 - val_precision: 0.0000e+00 - val_prc: 0.6304 - lr: 0.0010\n",
            "Epoch 18/500\n",
            "2/2 [==============================] - 0s 22ms/step - loss: 0.8158 - tp: 0.0000e+00 - fp: 0.0000e+00 - tn: 111.0000 - fn: 54.0000 - accuracy: 0.6727 - recall: 0.0000e+00 - precision: 0.0000e+00 - prc: 0.4175 - val_loss: 0.5062 - val_tp: 0.0000e+00 - val_fp: 0.0000e+00 - val_tn: 34.0000 - val_fn: 8.0000 - val_accuracy: 0.8095 - val_recall: 0.0000e+00 - val_precision: 0.0000e+00 - val_prc: 0.6496 - lr: 0.0010\n",
            "Epoch 19/500\n",
            "2/2 [==============================] - 0s 22ms/step - loss: 0.8154 - tp: 0.0000e+00 - fp: 0.0000e+00 - tn: 111.0000 - fn: 54.0000 - accuracy: 0.6727 - recall: 0.0000e+00 - precision: 0.0000e+00 - prc: 0.4176 - val_loss: 0.5063 - val_tp: 0.0000e+00 - val_fp: 0.0000e+00 - val_tn: 34.0000 - val_fn: 8.0000 - val_accuracy: 0.8095 - val_recall: 0.0000e+00 - val_precision: 0.0000e+00 - val_prc: 0.6585 - lr: 0.0010\n",
            "Epoch 20/500\n",
            "2/2 [==============================] - 0s 20ms/step - loss: 0.8150 - tp: 0.0000e+00 - fp: 0.0000e+00 - tn: 111.0000 - fn: 54.0000 - accuracy: 0.6727 - recall: 0.0000e+00 - precision: 0.0000e+00 - prc: 0.4165 - val_loss: 0.5063 - val_tp: 0.0000e+00 - val_fp: 0.0000e+00 - val_tn: 34.0000 - val_fn: 8.0000 - val_accuracy: 0.8095 - val_recall: 0.0000e+00 - val_precision: 0.0000e+00 - val_prc: 0.6585 - lr: 0.0010\n",
            "Epoch 21/500\n",
            "2/2 [==============================] - 0s 23ms/step - loss: 0.8146 - tp: 0.0000e+00 - fp: 0.0000e+00 - tn: 111.0000 - fn: 54.0000 - accuracy: 0.6727 - recall: 0.0000e+00 - precision: 0.0000e+00 - prc: 0.4204 - val_loss: 0.5064 - val_tp: 0.0000e+00 - val_fp: 0.0000e+00 - val_tn: 34.0000 - val_fn: 8.0000 - val_accuracy: 0.8095 - val_recall: 0.0000e+00 - val_precision: 0.0000e+00 - val_prc: 0.6581 - lr: 0.0010\n",
            "Epoch 22/500\n",
            "2/2 [==============================] - 0s 25ms/step - loss: 0.8143 - tp: 0.0000e+00 - fp: 0.0000e+00 - tn: 111.0000 - fn: 54.0000 - accuracy: 0.6727 - recall: 0.0000e+00 - precision: 0.0000e+00 - prc: 0.4194 - val_loss: 0.5064 - val_tp: 0.0000e+00 - val_fp: 0.0000e+00 - val_tn: 34.0000 - val_fn: 8.0000 - val_accuracy: 0.8095 - val_recall: 0.0000e+00 - val_precision: 0.0000e+00 - val_prc: 0.6550 - lr: 2.0000e-04\n",
            "Epoch 23/500\n",
            "2/2 [==============================] - 0s 24ms/step - loss: 0.8142 - tp: 0.0000e+00 - fp: 0.0000e+00 - tn: 111.0000 - fn: 54.0000 - accuracy: 0.6727 - recall: 0.0000e+00 - precision: 0.0000e+00 - prc: 0.4217 - val_loss: 0.5064 - val_tp: 0.0000e+00 - val_fp: 0.0000e+00 - val_tn: 34.0000 - val_fn: 8.0000 - val_accuracy: 0.8095 - val_recall: 0.0000e+00 - val_precision: 0.0000e+00 - val_prc: 0.6904 - lr: 2.0000e-04\n",
            "Epoch 24/500\n",
            "2/2 [==============================] - 0s 27ms/step - loss: 0.8142 - tp: 0.0000e+00 - fp: 0.0000e+00 - tn: 111.0000 - fn: 54.0000 - accuracy: 0.6727 - recall: 0.0000e+00 - precision: 0.0000e+00 - prc: 0.4219 - val_loss: 0.5064 - val_tp: 0.0000e+00 - val_fp: 0.0000e+00 - val_tn: 34.0000 - val_fn: 8.0000 - val_accuracy: 0.8095 - val_recall: 0.0000e+00 - val_precision: 0.0000e+00 - val_prc: 0.6904 - lr: 2.0000e-04\n",
            "Epoch 25/500\n",
            "2/2 [==============================] - 0s 25ms/step - loss: 0.8141 - tp: 0.0000e+00 - fp: 0.0000e+00 - tn: 111.0000 - fn: 54.0000 - accuracy: 0.6727 - recall: 0.0000e+00 - precision: 0.0000e+00 - prc: 0.4219 - val_loss: 0.5064 - val_tp: 0.0000e+00 - val_fp: 0.0000e+00 - val_tn: 34.0000 - val_fn: 8.0000 - val_accuracy: 0.8095 - val_recall: 0.0000e+00 - val_precision: 0.0000e+00 - val_prc: 0.6904 - lr: 2.0000e-04\n",
            "Epoch 26/500\n",
            "2/2 [==============================] - 0s 23ms/step - loss: 0.8140 - tp: 0.0000e+00 - fp: 0.0000e+00 - tn: 111.0000 - fn: 54.0000 - accuracy: 0.6727 - recall: 0.0000e+00 - precision: 0.0000e+00 - prc: 0.4219 - val_loss: 0.5064 - val_tp: 0.0000e+00 - val_fp: 0.0000e+00 - val_tn: 34.0000 - val_fn: 8.0000 - val_accuracy: 0.8095 - val_recall: 0.0000e+00 - val_precision: 0.0000e+00 - val_prc: 0.6904 - lr: 2.0000e-04\n",
            "Epoch 27/500\n",
            "2/2 [==============================] - 0s 22ms/step - loss: 0.8139 - tp: 0.0000e+00 - fp: 0.0000e+00 - tn: 111.0000 - fn: 54.0000 - accuracy: 0.6727 - recall: 0.0000e+00 - precision: 0.0000e+00 - prc: 0.4212 - val_loss: 0.5065 - val_tp: 0.0000e+00 - val_fp: 0.0000e+00 - val_tn: 34.0000 - val_fn: 8.0000 - val_accuracy: 0.8095 - val_recall: 0.0000e+00 - val_precision: 0.0000e+00 - val_prc: 0.6904 - lr: 2.0000e-04\n",
            "Epoch 28/500\n",
            "2/2 [==============================] - 0s 27ms/step - loss: 0.8138 - tp: 0.0000e+00 - fp: 0.0000e+00 - tn: 111.0000 - fn: 54.0000 - accuracy: 0.6727 - recall: 0.0000e+00 - precision: 0.0000e+00 - prc: 0.4199 - val_loss: 0.5065 - val_tp: 0.0000e+00 - val_fp: 0.0000e+00 - val_tn: 34.0000 - val_fn: 8.0000 - val_accuracy: 0.8095 - val_recall: 0.0000e+00 - val_precision: 0.0000e+00 - val_prc: 0.6898 - lr: 2.0000e-04\n",
            "Epoch 29/500\n",
            "2/2 [==============================] - 0s 20ms/step - loss: 0.8138 - tp: 0.0000e+00 - fp: 0.0000e+00 - tn: 111.0000 - fn: 54.0000 - accuracy: 0.6727 - recall: 0.0000e+00 - precision: 0.0000e+00 - prc: 0.4194 - val_loss: 0.5065 - val_tp: 0.0000e+00 - val_fp: 0.0000e+00 - val_tn: 34.0000 - val_fn: 8.0000 - val_accuracy: 0.8095 - val_recall: 0.0000e+00 - val_precision: 0.0000e+00 - val_prc: 0.6574 - lr: 2.0000e-04\n",
            "Epoch 30/500\n",
            "2/2 [==============================] - 0s 19ms/step - loss: 0.8137 - tp: 0.0000e+00 - fp: 0.0000e+00 - tn: 111.0000 - fn: 54.0000 - accuracy: 0.6727 - recall: 0.0000e+00 - precision: 0.0000e+00 - prc: 0.4194 - val_loss: 0.5065 - val_tp: 0.0000e+00 - val_fp: 0.0000e+00 - val_tn: 34.0000 - val_fn: 8.0000 - val_accuracy: 0.8095 - val_recall: 0.0000e+00 - val_precision: 0.0000e+00 - val_prc: 0.6765 - lr: 2.0000e-04\n",
            "Epoch 31/500\n",
            "2/2 [==============================] - 0s 18ms/step - loss: 0.8136 - tp: 0.0000e+00 - fp: 0.0000e+00 - tn: 111.0000 - fn: 54.0000 - accuracy: 0.6727 - recall: 0.0000e+00 - precision: 0.0000e+00 - prc: 0.4199 - val_loss: 0.5065 - val_tp: 0.0000e+00 - val_fp: 0.0000e+00 - val_tn: 34.0000 - val_fn: 8.0000 - val_accuracy: 0.8095 - val_recall: 0.0000e+00 - val_precision: 0.0000e+00 - val_prc: 0.6765 - lr: 2.0000e-04\n",
            "Epoch 32/500\n",
            "2/2 [==============================] - 0s 19ms/step - loss: 0.8135 - tp: 0.0000e+00 - fp: 0.0000e+00 - tn: 111.0000 - fn: 54.0000 - accuracy: 0.6727 - recall: 0.0000e+00 - precision: 0.0000e+00 - prc: 0.4193 - val_loss: 0.5065 - val_tp: 0.0000e+00 - val_fp: 0.0000e+00 - val_tn: 34.0000 - val_fn: 8.0000 - val_accuracy: 0.8095 - val_recall: 0.0000e+00 - val_precision: 0.0000e+00 - val_prc: 0.6765 - lr: 2.0000e-04\n",
            "Epoch 33/500\n",
            "2/2 [==============================] - 0s 21ms/step - loss: 0.8134 - tp: 0.0000e+00 - fp: 0.0000e+00 - tn: 111.0000 - fn: 54.0000 - accuracy: 0.6727 - recall: 0.0000e+00 - precision: 0.0000e+00 - prc: 0.4183 - val_loss: 0.5065 - val_tp: 0.0000e+00 - val_fp: 0.0000e+00 - val_tn: 34.0000 - val_fn: 8.0000 - val_accuracy: 0.8095 - val_recall: 0.0000e+00 - val_precision: 0.0000e+00 - val_prc: 0.6756 - lr: 2.0000e-04\n",
            "Epoch 34/500\n",
            "2/2 [==============================] - 0s 20ms/step - loss: 0.8134 - tp: 0.0000e+00 - fp: 0.0000e+00 - tn: 111.0000 - fn: 54.0000 - accuracy: 0.6727 - recall: 0.0000e+00 - precision: 0.0000e+00 - prc: 0.4166 - val_loss: 0.5065 - val_tp: 0.0000e+00 - val_fp: 0.0000e+00 - val_tn: 34.0000 - val_fn: 8.0000 - val_accuracy: 0.8095 - val_recall: 0.0000e+00 - val_precision: 0.0000e+00 - val_prc: 0.6756 - lr: 2.0000e-04\n",
            "Epoch 35/500\n",
            "2/2 [==============================] - 0s 20ms/step - loss: 0.8133 - tp: 0.0000e+00 - fp: 0.0000e+00 - tn: 111.0000 - fn: 54.0000 - accuracy: 0.6727 - recall: 0.0000e+00 - precision: 0.0000e+00 - prc: 0.4184 - val_loss: 0.5065 - val_tp: 0.0000e+00 - val_fp: 0.0000e+00 - val_tn: 34.0000 - val_fn: 8.0000 - val_accuracy: 0.8095 - val_recall: 0.0000e+00 - val_precision: 0.0000e+00 - val_prc: 0.6756 - lr: 2.0000e-04\n",
            "Epoch 36/500\n",
            "2/2 [==============================] - 0s 20ms/step - loss: 0.8132 - tp: 0.0000e+00 - fp: 0.0000e+00 - tn: 111.0000 - fn: 54.0000 - accuracy: 0.6727 - recall: 0.0000e+00 - precision: 0.0000e+00 - prc: 0.4181 - val_loss: 0.5066 - val_tp: 0.0000e+00 - val_fp: 0.0000e+00 - val_tn: 34.0000 - val_fn: 8.0000 - val_accuracy: 0.8095 - val_recall: 0.0000e+00 - val_precision: 0.0000e+00 - val_prc: 0.6756 - lr: 2.0000e-04\n",
            "Epoch 37/500\n",
            "2/2 [==============================] - 0s 21ms/step - loss: 0.8131 - tp: 0.0000e+00 - fp: 0.0000e+00 - tn: 111.0000 - fn: 54.0000 - accuracy: 0.6727 - recall: 0.0000e+00 - precision: 0.0000e+00 - prc: 0.4213 - val_loss: 0.5066 - val_tp: 0.0000e+00 - val_fp: 0.0000e+00 - val_tn: 34.0000 - val_fn: 8.0000 - val_accuracy: 0.8095 - val_recall: 0.0000e+00 - val_precision: 0.0000e+00 - val_prc: 0.6756 - lr: 2.0000e-04\n",
            "Epoch 38/500\n",
            "2/2 [==============================] - 0s 20ms/step - loss: 0.8131 - tp: 0.0000e+00 - fp: 0.0000e+00 - tn: 111.0000 - fn: 54.0000 - accuracy: 0.6727 - recall: 0.0000e+00 - precision: 0.0000e+00 - prc: 0.4209 - val_loss: 0.5066 - val_tp: 0.0000e+00 - val_fp: 0.0000e+00 - val_tn: 34.0000 - val_fn: 8.0000 - val_accuracy: 0.8095 - val_recall: 0.0000e+00 - val_precision: 0.0000e+00 - val_prc: 0.6756 - lr: 2.0000e-04\n",
            "Epoch 39/500\n",
            "2/2 [==============================] - 0s 20ms/step - loss: 0.8130 - tp: 0.0000e+00 - fp: 0.0000e+00 - tn: 111.0000 - fn: 54.0000 - accuracy: 0.6727 - recall: 0.0000e+00 - precision: 0.0000e+00 - prc: 0.4209 - val_loss: 0.5066 - val_tp: 0.0000e+00 - val_fp: 0.0000e+00 - val_tn: 34.0000 - val_fn: 8.0000 - val_accuracy: 0.8095 - val_recall: 0.0000e+00 - val_precision: 0.0000e+00 - val_prc: 0.6756 - lr: 2.0000e-04\n",
            "Epoch 40/500\n",
            "2/2 [==============================] - 0s 19ms/step - loss: 0.8129 - tp: 0.0000e+00 - fp: 0.0000e+00 - tn: 111.0000 - fn: 54.0000 - accuracy: 0.6727 - recall: 0.0000e+00 - precision: 0.0000e+00 - prc: 0.4206 - val_loss: 0.5066 - val_tp: 0.0000e+00 - val_fp: 0.0000e+00 - val_tn: 34.0000 - val_fn: 8.0000 - val_accuracy: 0.8095 - val_recall: 0.0000e+00 - val_precision: 0.0000e+00 - val_prc: 0.6756 - lr: 2.0000e-04\n",
            "Epoch 41/500\n",
            "2/2 [==============================] - 0s 40ms/step - loss: 0.8129 - tp: 0.0000e+00 - fp: 0.0000e+00 - tn: 111.0000 - fn: 54.0000 - accuracy: 0.6727 - recall: 0.0000e+00 - precision: 0.0000e+00 - prc: 0.4206 - val_loss: 0.5066 - val_tp: 0.0000e+00 - val_fp: 0.0000e+00 - val_tn: 34.0000 - val_fn: 8.0000 - val_accuracy: 0.8095 - val_recall: 0.0000e+00 - val_precision: 0.0000e+00 - val_prc: 0.6756 - lr: 4.0000e-05\n",
            "Epoch 42/500\n",
            "2/2 [==============================] - 0s 24ms/step - loss: 0.8128 - tp: 0.0000e+00 - fp: 0.0000e+00 - tn: 111.0000 - fn: 54.0000 - accuracy: 0.6727 - recall: 0.0000e+00 - precision: 0.0000e+00 - prc: 0.4206 - val_loss: 0.5066 - val_tp: 0.0000e+00 - val_fp: 0.0000e+00 - val_tn: 34.0000 - val_fn: 8.0000 - val_accuracy: 0.8095 - val_recall: 0.0000e+00 - val_precision: 0.0000e+00 - val_prc: 0.6756 - lr: 4.0000e-05\n",
            "Epoch 43/500\n",
            "2/2 [==============================] - 0s 19ms/step - loss: 0.8128 - tp: 0.0000e+00 - fp: 0.0000e+00 - tn: 111.0000 - fn: 54.0000 - accuracy: 0.6727 - recall: 0.0000e+00 - precision: 0.0000e+00 - prc: 0.4206 - val_loss: 0.5066 - val_tp: 0.0000e+00 - val_fp: 0.0000e+00 - val_tn: 34.0000 - val_fn: 8.0000 - val_accuracy: 0.8095 - val_recall: 0.0000e+00 - val_precision: 0.0000e+00 - val_prc: 0.6756 - lr: 4.0000e-05\n",
            "Epoch 44/500\n",
            "2/2 [==============================] - 0s 20ms/step - loss: 0.8128 - tp: 0.0000e+00 - fp: 0.0000e+00 - tn: 111.0000 - fn: 54.0000 - accuracy: 0.6727 - recall: 0.0000e+00 - precision: 0.0000e+00 - prc: 0.4206 - val_loss: 0.5066 - val_tp: 0.0000e+00 - val_fp: 0.0000e+00 - val_tn: 34.0000 - val_fn: 8.0000 - val_accuracy: 0.8095 - val_recall: 0.0000e+00 - val_precision: 0.0000e+00 - val_prc: 0.6756 - lr: 4.0000e-05\n",
            "Epoch 45/500\n",
            "2/2 [==============================] - 0s 21ms/step - loss: 0.8128 - tp: 0.0000e+00 - fp: 0.0000e+00 - tn: 111.0000 - fn: 54.0000 - accuracy: 0.6727 - recall: 0.0000e+00 - precision: 0.0000e+00 - prc: 0.4206 - val_loss: 0.5066 - val_tp: 0.0000e+00 - val_fp: 0.0000e+00 - val_tn: 34.0000 - val_fn: 8.0000 - val_accuracy: 0.8095 - val_recall: 0.0000e+00 - val_precision: 0.0000e+00 - val_prc: 0.6756 - lr: 4.0000e-05\n",
            "Epoch 46/500\n",
            "2/2 [==============================] - 0s 20ms/step - loss: 0.8128 - tp: 0.0000e+00 - fp: 0.0000e+00 - tn: 111.0000 - fn: 54.0000 - accuracy: 0.6727 - recall: 0.0000e+00 - precision: 0.0000e+00 - prc: 0.4232 - val_loss: 0.5066 - val_tp: 0.0000e+00 - val_fp: 0.0000e+00 - val_tn: 34.0000 - val_fn: 8.0000 - val_accuracy: 0.8095 - val_recall: 0.0000e+00 - val_precision: 0.0000e+00 - val_prc: 0.6756 - lr: 4.0000e-05\n",
            "Epoch 47/500\n",
            "2/2 [==============================] - 0s 20ms/step - loss: 0.8128 - tp: 0.0000e+00 - fp: 0.0000e+00 - tn: 111.0000 - fn: 54.0000 - accuracy: 0.6727 - recall: 0.0000e+00 - precision: 0.0000e+00 - prc: 0.4232 - val_loss: 0.5066 - val_tp: 0.0000e+00 - val_fp: 0.0000e+00 - val_tn: 34.0000 - val_fn: 8.0000 - val_accuracy: 0.8095 - val_recall: 0.0000e+00 - val_precision: 0.0000e+00 - val_prc: 0.6751 - lr: 4.0000e-05\n",
            "Epoch 48/500\n",
            "2/2 [==============================] - 0s 22ms/step - loss: 0.8127 - tp: 0.0000e+00 - fp: 0.0000e+00 - tn: 111.0000 - fn: 54.0000 - accuracy: 0.6727 - recall: 0.0000e+00 - precision: 0.0000e+00 - prc: 0.4232 - val_loss: 0.5066 - val_tp: 0.0000e+00 - val_fp: 0.0000e+00 - val_tn: 34.0000 - val_fn: 8.0000 - val_accuracy: 0.8095 - val_recall: 0.0000e+00 - val_precision: 0.0000e+00 - val_prc: 0.6751 - lr: 4.0000e-05\n",
            "Epoch 49/500\n",
            "2/2 [==============================] - 0s 23ms/step - loss: 0.8127 - tp: 0.0000e+00 - fp: 0.0000e+00 - tn: 111.0000 - fn: 54.0000 - accuracy: 0.6727 - recall: 0.0000e+00 - precision: 0.0000e+00 - prc: 0.4232 - val_loss: 0.5066 - val_tp: 0.0000e+00 - val_fp: 0.0000e+00 - val_tn: 34.0000 - val_fn: 8.0000 - val_accuracy: 0.8095 - val_recall: 0.0000e+00 - val_precision: 0.0000e+00 - val_prc: 0.6751 - lr: 4.0000e-05\n",
            "Epoch 50/500\n",
            "2/2 [==============================] - 0s 28ms/step - loss: 0.8127 - tp: 0.0000e+00 - fp: 0.0000e+00 - tn: 111.0000 - fn: 54.0000 - accuracy: 0.6727 - recall: 0.0000e+00 - precision: 0.0000e+00 - prc: 0.4249 - val_loss: 0.5066 - val_tp: 0.0000e+00 - val_fp: 0.0000e+00 - val_tn: 34.0000 - val_fn: 8.0000 - val_accuracy: 0.8095 - val_recall: 0.0000e+00 - val_precision: 0.0000e+00 - val_prc: 0.6751 - lr: 4.0000e-05\n",
            "Epoch 51/500\n",
            "2/2 [==============================] - 0s 24ms/step - loss: 0.8127 - tp: 0.0000e+00 - fp: 0.0000e+00 - tn: 111.0000 - fn: 54.0000 - accuracy: 0.6727 - recall: 0.0000e+00 - precision: 0.0000e+00 - prc: 0.4249 - val_loss: 0.5066 - val_tp: 0.0000e+00 - val_fp: 0.0000e+00 - val_tn: 34.0000 - val_fn: 8.0000 - val_accuracy: 0.8095 - val_recall: 0.0000e+00 - val_precision: 0.0000e+00 - val_prc: 0.6751 - lr: 4.0000e-05\n",
            "Epoch 52/500\n",
            "2/2 [==============================] - 0s 25ms/step - loss: 0.8127 - tp: 0.0000e+00 - fp: 0.0000e+00 - tn: 111.0000 - fn: 54.0000 - accuracy: 0.6727 - recall: 0.0000e+00 - precision: 0.0000e+00 - prc: 0.4249 - val_loss: 0.5066 - val_tp: 0.0000e+00 - val_fp: 0.0000e+00 - val_tn: 34.0000 - val_fn: 8.0000 - val_accuracy: 0.8095 - val_recall: 0.0000e+00 - val_precision: 0.0000e+00 - val_prc: 0.6751 - lr: 4.0000e-05\n",
            "Epoch 53/500\n",
            "2/2 [==============================] - 0s 24ms/step - loss: 0.8127 - tp: 0.0000e+00 - fp: 0.0000e+00 - tn: 111.0000 - fn: 54.0000 - accuracy: 0.6727 - recall: 0.0000e+00 - precision: 0.0000e+00 - prc: 0.4249 - val_loss: 0.5066 - val_tp: 0.0000e+00 - val_fp: 0.0000e+00 - val_tn: 34.0000 - val_fn: 8.0000 - val_accuracy: 0.8095 - val_recall: 0.0000e+00 - val_precision: 0.0000e+00 - val_prc: 0.6751 - lr: 4.0000e-05\n",
            "Epoch 54/500\n",
            "2/2 [==============================] - 0s 35ms/step - loss: 0.8127 - tp: 0.0000e+00 - fp: 0.0000e+00 - tn: 111.0000 - fn: 54.0000 - accuracy: 0.6727 - recall: 0.0000e+00 - precision: 0.0000e+00 - prc: 0.4249 - val_loss: 0.5066 - val_tp: 0.0000e+00 - val_fp: 0.0000e+00 - val_tn: 34.0000 - val_fn: 8.0000 - val_accuracy: 0.8095 - val_recall: 0.0000e+00 - val_precision: 0.0000e+00 - val_prc: 0.6751 - lr: 4.0000e-05\n",
            "Epoch 55/500\n",
            "2/2 [==============================] - 0s 41ms/step - loss: 0.8126 - tp: 0.0000e+00 - fp: 0.0000e+00 - tn: 111.0000 - fn: 54.0000 - accuracy: 0.6727 - recall: 0.0000e+00 - precision: 0.0000e+00 - prc: 0.4243 - val_loss: 0.5066 - val_tp: 0.0000e+00 - val_fp: 0.0000e+00 - val_tn: 34.0000 - val_fn: 8.0000 - val_accuracy: 0.8095 - val_recall: 0.0000e+00 - val_precision: 0.0000e+00 - val_prc: 0.6751 - lr: 4.0000e-05\n",
            "Epoch 56/500\n",
            "2/2 [==============================] - 0s 21ms/step - loss: 0.8126 - tp: 0.0000e+00 - fp: 0.0000e+00 - tn: 111.0000 - fn: 54.0000 - accuracy: 0.6727 - recall: 0.0000e+00 - precision: 0.0000e+00 - prc: 0.4252 - val_loss: 0.5067 - val_tp: 0.0000e+00 - val_fp: 0.0000e+00 - val_tn: 34.0000 - val_fn: 8.0000 - val_accuracy: 0.8095 - val_recall: 0.0000e+00 - val_precision: 0.0000e+00 - val_prc: 0.6751 - lr: 4.0000e-05\n",
            "Epoch 57/500\n",
            "2/2 [==============================] - 0s 21ms/step - loss: 0.8126 - tp: 0.0000e+00 - fp: 0.0000e+00 - tn: 111.0000 - fn: 54.0000 - accuracy: 0.6727 - recall: 0.0000e+00 - precision: 0.0000e+00 - prc: 0.4252 - val_loss: 0.5067 - val_tp: 0.0000e+00 - val_fp: 0.0000e+00 - val_tn: 34.0000 - val_fn: 8.0000 - val_accuracy: 0.8095 - val_recall: 0.0000e+00 - val_precision: 0.0000e+00 - val_prc: 0.6751 - lr: 4.0000e-05\n",
            "Epoch 58/500\n",
            "2/2 [==============================] - 0s 25ms/step - loss: 0.8126 - tp: 0.0000e+00 - fp: 0.0000e+00 - tn: 111.0000 - fn: 54.0000 - accuracy: 0.6727 - recall: 0.0000e+00 - precision: 0.0000e+00 - prc: 0.4249 - val_loss: 0.5067 - val_tp: 0.0000e+00 - val_fp: 0.0000e+00 - val_tn: 34.0000 - val_fn: 8.0000 - val_accuracy: 0.8095 - val_recall: 0.0000e+00 - val_precision: 0.0000e+00 - val_prc: 0.6751 - lr: 4.0000e-05\n",
            "Epoch 59/500\n",
            "2/2 [==============================] - 0s 21ms/step - loss: 0.8126 - tp: 0.0000e+00 - fp: 0.0000e+00 - tn: 111.0000 - fn: 54.0000 - accuracy: 0.6727 - recall: 0.0000e+00 - precision: 0.0000e+00 - prc: 0.4249 - val_loss: 0.5067 - val_tp: 0.0000e+00 - val_fp: 0.0000e+00 - val_tn: 34.0000 - val_fn: 8.0000 - val_accuracy: 0.8095 - val_recall: 0.0000e+00 - val_precision: 0.0000e+00 - val_prc: 0.6751 - lr: 4.0000e-05\n",
            "Epoch 60/500\n",
            "2/2 [==============================] - 0s 25ms/step - loss: 0.8126 - tp: 0.0000e+00 - fp: 0.0000e+00 - tn: 111.0000 - fn: 54.0000 - accuracy: 0.6727 - recall: 0.0000e+00 - precision: 0.0000e+00 - prc: 0.4249 - val_loss: 0.5067 - val_tp: 0.0000e+00 - val_fp: 0.0000e+00 - val_tn: 34.0000 - val_fn: 8.0000 - val_accuracy: 0.8095 - val_recall: 0.0000e+00 - val_precision: 0.0000e+00 - val_prc: 0.6751 - lr: 1.0000e-05\n",
            "Epoch 61/500\n",
            "2/2 [==============================] - 0s 21ms/step - loss: 0.8126 - tp: 0.0000e+00 - fp: 0.0000e+00 - tn: 111.0000 - fn: 54.0000 - accuracy: 0.6727 - recall: 0.0000e+00 - precision: 0.0000e+00 - prc: 0.4249 - val_loss: 0.5067 - val_tp: 0.0000e+00 - val_fp: 0.0000e+00 - val_tn: 34.0000 - val_fn: 8.0000 - val_accuracy: 0.8095 - val_recall: 0.0000e+00 - val_precision: 0.0000e+00 - val_prc: 0.6751 - lr: 1.0000e-05\n",
            "Epoch 62/500\n",
            "2/2 [==============================] - 0s 22ms/step - loss: 0.8126 - tp: 0.0000e+00 - fp: 0.0000e+00 - tn: 111.0000 - fn: 54.0000 - accuracy: 0.6727 - recall: 0.0000e+00 - precision: 0.0000e+00 - prc: 0.4249 - val_loss: 0.5067 - val_tp: 0.0000e+00 - val_fp: 0.0000e+00 - val_tn: 34.0000 - val_fn: 8.0000 - val_accuracy: 0.8095 - val_recall: 0.0000e+00 - val_precision: 0.0000e+00 - val_prc: 0.6751 - lr: 1.0000e-05\n",
            "Epoch 63/500\n",
            "2/2 [==============================] - 0s 25ms/step - loss: 0.8126 - tp: 0.0000e+00 - fp: 0.0000e+00 - tn: 111.0000 - fn: 54.0000 - accuracy: 0.6727 - recall: 0.0000e+00 - precision: 0.0000e+00 - prc: 0.4249 - val_loss: 0.5067 - val_tp: 0.0000e+00 - val_fp: 0.0000e+00 - val_tn: 34.0000 - val_fn: 8.0000 - val_accuracy: 0.8095 - val_recall: 0.0000e+00 - val_precision: 0.0000e+00 - val_prc: 0.6751 - lr: 1.0000e-05\n",
            "Epoch 64/500\n",
            "2/2 [==============================] - 0s 23ms/step - loss: 0.8125 - tp: 0.0000e+00 - fp: 0.0000e+00 - tn: 111.0000 - fn: 54.0000 - accuracy: 0.6727 - recall: 0.0000e+00 - precision: 0.0000e+00 - prc: 0.4249 - val_loss: 0.5067 - val_tp: 0.0000e+00 - val_fp: 0.0000e+00 - val_tn: 34.0000 - val_fn: 8.0000 - val_accuracy: 0.8095 - val_recall: 0.0000e+00 - val_precision: 0.0000e+00 - val_prc: 0.6751 - lr: 1.0000e-05\n",
            "Epoch 65/500\n",
            "2/2 [==============================] - 0s 23ms/step - loss: 0.8125 - tp: 0.0000e+00 - fp: 0.0000e+00 - tn: 111.0000 - fn: 54.0000 - accuracy: 0.6727 - recall: 0.0000e+00 - precision: 0.0000e+00 - prc: 0.4249 - val_loss: 0.5067 - val_tp: 0.0000e+00 - val_fp: 0.0000e+00 - val_tn: 34.0000 - val_fn: 8.0000 - val_accuracy: 0.8095 - val_recall: 0.0000e+00 - val_precision: 0.0000e+00 - val_prc: 0.6751 - lr: 1.0000e-05\n",
            "Epoch 66/500\n",
            "2/2 [==============================] - 0s 22ms/step - loss: 0.8125 - tp: 0.0000e+00 - fp: 0.0000e+00 - tn: 111.0000 - fn: 54.0000 - accuracy: 0.6727 - recall: 0.0000e+00 - precision: 0.0000e+00 - prc: 0.4249 - val_loss: 0.5067 - val_tp: 0.0000e+00 - val_fp: 0.0000e+00 - val_tn: 34.0000 - val_fn: 8.0000 - val_accuracy: 0.8095 - val_recall: 0.0000e+00 - val_precision: 0.0000e+00 - val_prc: 0.6751 - lr: 1.0000e-05\n",
            "Epoch 67/500\n",
            "2/2 [==============================] - 0s 23ms/step - loss: 0.8125 - tp: 0.0000e+00 - fp: 0.0000e+00 - tn: 111.0000 - fn: 54.0000 - accuracy: 0.6727 - recall: 0.0000e+00 - precision: 0.0000e+00 - prc: 0.4249 - val_loss: 0.5067 - val_tp: 0.0000e+00 - val_fp: 0.0000e+00 - val_tn: 34.0000 - val_fn: 8.0000 - val_accuracy: 0.8095 - val_recall: 0.0000e+00 - val_precision: 0.0000e+00 - val_prc: 0.6751 - lr: 1.0000e-05\n",
            "Epoch 68/500\n",
            "2/2 [==============================] - 0s 25ms/step - loss: 0.8125 - tp: 0.0000e+00 - fp: 0.0000e+00 - tn: 111.0000 - fn: 54.0000 - accuracy: 0.6727 - recall: 0.0000e+00 - precision: 0.0000e+00 - prc: 0.4249 - val_loss: 0.5067 - val_tp: 0.0000e+00 - val_fp: 0.0000e+00 - val_tn: 34.0000 - val_fn: 8.0000 - val_accuracy: 0.8095 - val_recall: 0.0000e+00 - val_precision: 0.0000e+00 - val_prc: 0.6751 - lr: 1.0000e-05\n",
            "Epoch 69/500\n",
            "2/2 [==============================] - 0s 22ms/step - loss: 0.8125 - tp: 0.0000e+00 - fp: 0.0000e+00 - tn: 111.0000 - fn: 54.0000 - accuracy: 0.6727 - recall: 0.0000e+00 - precision: 0.0000e+00 - prc: 0.4249 - val_loss: 0.5067 - val_tp: 0.0000e+00 - val_fp: 0.0000e+00 - val_tn: 34.0000 - val_fn: 8.0000 - val_accuracy: 0.8095 - val_recall: 0.0000e+00 - val_precision: 0.0000e+00 - val_prc: 0.6751 - lr: 1.0000e-05\n",
            "Epoch 70/500\n",
            "2/2 [==============================] - 0s 22ms/step - loss: 0.8125 - tp: 0.0000e+00 - fp: 0.0000e+00 - tn: 111.0000 - fn: 54.0000 - accuracy: 0.6727 - recall: 0.0000e+00 - precision: 0.0000e+00 - prc: 0.4249 - val_loss: 0.5067 - val_tp: 0.0000e+00 - val_fp: 0.0000e+00 - val_tn: 34.0000 - val_fn: 8.0000 - val_accuracy: 0.8095 - val_recall: 0.0000e+00 - val_precision: 0.0000e+00 - val_prc: 0.6751 - lr: 1.0000e-05\n",
            "Epoch 71/500\n",
            "2/2 [==============================] - 0s 21ms/step - loss: 0.8125 - tp: 0.0000e+00 - fp: 0.0000e+00 - tn: 111.0000 - fn: 54.0000 - accuracy: 0.6727 - recall: 0.0000e+00 - precision: 0.0000e+00 - prc: 0.4249 - val_loss: 0.5067 - val_tp: 0.0000e+00 - val_fp: 0.0000e+00 - val_tn: 34.0000 - val_fn: 8.0000 - val_accuracy: 0.8095 - val_recall: 0.0000e+00 - val_precision: 0.0000e+00 - val_prc: 0.6751 - lr: 1.0000e-05\n",
            "Epoch 72/500\n",
            "2/2 [==============================] - 0s 39ms/step - loss: 0.8125 - tp: 0.0000e+00 - fp: 0.0000e+00 - tn: 111.0000 - fn: 54.0000 - accuracy: 0.6727 - recall: 0.0000e+00 - precision: 0.0000e+00 - prc: 0.4249 - val_loss: 0.5067 - val_tp: 0.0000e+00 - val_fp: 0.0000e+00 - val_tn: 34.0000 - val_fn: 8.0000 - val_accuracy: 0.8095 - val_recall: 0.0000e+00 - val_precision: 0.0000e+00 - val_prc: 0.6751 - lr: 1.0000e-05\n",
            "Epoch 73/500\n",
            "2/2 [==============================] - 0s 21ms/step - loss: 0.8125 - tp: 0.0000e+00 - fp: 0.0000e+00 - tn: 111.0000 - fn: 54.0000 - accuracy: 0.6727 - recall: 0.0000e+00 - precision: 0.0000e+00 - prc: 0.4249 - val_loss: 0.5067 - val_tp: 0.0000e+00 - val_fp: 0.0000e+00 - val_tn: 34.0000 - val_fn: 8.0000 - val_accuracy: 0.8095 - val_recall: 0.0000e+00 - val_precision: 0.0000e+00 - val_prc: 0.6751 - lr: 1.0000e-05\n",
            "Epoch 74/500\n",
            "2/2 [==============================] - 0s 20ms/step - loss: 0.8125 - tp: 0.0000e+00 - fp: 0.0000e+00 - tn: 111.0000 - fn: 54.0000 - accuracy: 0.6727 - recall: 0.0000e+00 - precision: 0.0000e+00 - prc: 0.4249 - val_loss: 0.5067 - val_tp: 0.0000e+00 - val_fp: 0.0000e+00 - val_tn: 34.0000 - val_fn: 8.0000 - val_accuracy: 0.8095 - val_recall: 0.0000e+00 - val_precision: 0.0000e+00 - val_prc: 0.6751 - lr: 1.0000e-05\n",
            "Epoch 75/500\n",
            "2/2 [==============================] - 0s 22ms/step - loss: 0.8125 - tp: 0.0000e+00 - fp: 0.0000e+00 - tn: 111.0000 - fn: 54.0000 - accuracy: 0.6727 - recall: 0.0000e+00 - precision: 0.0000e+00 - prc: 0.4249 - val_loss: 0.5067 - val_tp: 0.0000e+00 - val_fp: 0.0000e+00 - val_tn: 34.0000 - val_fn: 8.0000 - val_accuracy: 0.8095 - val_recall: 0.0000e+00 - val_precision: 0.0000e+00 - val_prc: 0.6751 - lr: 1.0000e-05\n",
            "Epoch 76/500\n",
            "2/2 [==============================] - 0s 22ms/step - loss: 0.8125 - tp: 0.0000e+00 - fp: 0.0000e+00 - tn: 111.0000 - fn: 54.0000 - accuracy: 0.6727 - recall: 0.0000e+00 - precision: 0.0000e+00 - prc: 0.4249 - val_loss: 0.5067 - val_tp: 0.0000e+00 - val_fp: 0.0000e+00 - val_tn: 34.0000 - val_fn: 8.0000 - val_accuracy: 0.8095 - val_recall: 0.0000e+00 - val_precision: 0.0000e+00 - val_prc: 0.6751 - lr: 1.0000e-05\n",
            "Epoch 77/500\n",
            "2/2 [==============================] - 0s 27ms/step - loss: 0.8125 - tp: 0.0000e+00 - fp: 0.0000e+00 - tn: 111.0000 - fn: 54.0000 - accuracy: 0.6727 - recall: 0.0000e+00 - precision: 0.0000e+00 - prc: 0.4249 - val_loss: 0.5067 - val_tp: 0.0000e+00 - val_fp: 0.0000e+00 - val_tn: 34.0000 - val_fn: 8.0000 - val_accuracy: 0.8095 - val_recall: 0.0000e+00 - val_precision: 0.0000e+00 - val_prc: 0.6751 - lr: 1.0000e-05\n",
            "Epoch 78/500\n",
            "2/2 [==============================] - 0s 23ms/step - loss: 0.8125 - tp: 0.0000e+00 - fp: 0.0000e+00 - tn: 111.0000 - fn: 54.0000 - accuracy: 0.6727 - recall: 0.0000e+00 - precision: 0.0000e+00 - prc: 0.4249 - val_loss: 0.5067 - val_tp: 0.0000e+00 - val_fp: 0.0000e+00 - val_tn: 34.0000 - val_fn: 8.0000 - val_accuracy: 0.8095 - val_recall: 0.0000e+00 - val_precision: 0.0000e+00 - val_prc: 0.6751 - lr: 1.0000e-05\n",
            "Epoch 79/500\n",
            "2/2 [==============================] - 0s 23ms/step - loss: 0.8125 - tp: 0.0000e+00 - fp: 0.0000e+00 - tn: 111.0000 - fn: 54.0000 - accuracy: 0.6727 - recall: 0.0000e+00 - precision: 0.0000e+00 - prc: 0.4249 - val_loss: 0.5067 - val_tp: 0.0000e+00 - val_fp: 0.0000e+00 - val_tn: 34.0000 - val_fn: 8.0000 - val_accuracy: 0.8095 - val_recall: 0.0000e+00 - val_precision: 0.0000e+00 - val_prc: 0.6751 - lr: 1.0000e-05\n",
            "Epoch 80/500\n",
            "2/2 [==============================] - 0s 42ms/step - loss: 0.8125 - tp: 0.0000e+00 - fp: 0.0000e+00 - tn: 111.0000 - fn: 54.0000 - accuracy: 0.6727 - recall: 0.0000e+00 - precision: 0.0000e+00 - prc: 0.4249 - val_loss: 0.5067 - val_tp: 0.0000e+00 - val_fp: 0.0000e+00 - val_tn: 34.0000 - val_fn: 8.0000 - val_accuracy: 0.8095 - val_recall: 0.0000e+00 - val_precision: 0.0000e+00 - val_prc: 0.6751 - lr: 1.0000e-05\n",
            "Epoch 81/500\n",
            "2/2 [==============================] - 0s 22ms/step - loss: 0.8125 - tp: 0.0000e+00 - fp: 0.0000e+00 - tn: 111.0000 - fn: 54.0000 - accuracy: 0.6727 - recall: 0.0000e+00 - precision: 0.0000e+00 - prc: 0.4249 - val_loss: 0.5067 - val_tp: 0.0000e+00 - val_fp: 0.0000e+00 - val_tn: 34.0000 - val_fn: 8.0000 - val_accuracy: 0.8095 - val_recall: 0.0000e+00 - val_precision: 0.0000e+00 - val_prc: 0.6751 - lr: 1.0000e-05\n",
            "Epoch 82/500\n",
            "2/2 [==============================] - 0s 30ms/step - loss: 0.8125 - tp: 0.0000e+00 - fp: 0.0000e+00 - tn: 111.0000 - fn: 54.0000 - accuracy: 0.6727 - recall: 0.0000e+00 - precision: 0.0000e+00 - prc: 0.4249 - val_loss: 0.5067 - val_tp: 0.0000e+00 - val_fp: 0.0000e+00 - val_tn: 34.0000 - val_fn: 8.0000 - val_accuracy: 0.8095 - val_recall: 0.0000e+00 - val_precision: 0.0000e+00 - val_prc: 0.6751 - lr: 1.0000e-05\n",
            "Epoch 83/500\n",
            "2/2 [==============================] - 0s 25ms/step - loss: 0.8125 - tp: 0.0000e+00 - fp: 0.0000e+00 - tn: 111.0000 - fn: 54.0000 - accuracy: 0.6727 - recall: 0.0000e+00 - precision: 0.0000e+00 - prc: 0.4249 - val_loss: 0.5067 - val_tp: 0.0000e+00 - val_fp: 0.0000e+00 - val_tn: 34.0000 - val_fn: 8.0000 - val_accuracy: 0.8095 - val_recall: 0.0000e+00 - val_precision: 0.0000e+00 - val_prc: 0.6751 - lr: 1.0000e-05\n",
            "Epoch 84/500\n",
            "2/2 [==============================] - 0s 24ms/step - loss: 0.8125 - tp: 0.0000e+00 - fp: 0.0000e+00 - tn: 111.0000 - fn: 54.0000 - accuracy: 0.6727 - recall: 0.0000e+00 - precision: 0.0000e+00 - prc: 0.4249 - val_loss: 0.5067 - val_tp: 0.0000e+00 - val_fp: 0.0000e+00 - val_tn: 34.0000 - val_fn: 8.0000 - val_accuracy: 0.8095 - val_recall: 0.0000e+00 - val_precision: 0.0000e+00 - val_prc: 0.6751 - lr: 1.0000e-05\n",
            "Epoch 85/500\n",
            "2/2 [==============================] - 0s 25ms/step - loss: 0.8125 - tp: 0.0000e+00 - fp: 0.0000e+00 - tn: 111.0000 - fn: 54.0000 - accuracy: 0.6727 - recall: 0.0000e+00 - precision: 0.0000e+00 - prc: 0.4249 - val_loss: 0.5067 - val_tp: 0.0000e+00 - val_fp: 0.0000e+00 - val_tn: 34.0000 - val_fn: 8.0000 - val_accuracy: 0.8095 - val_recall: 0.0000e+00 - val_precision: 0.0000e+00 - val_prc: 0.6751 - lr: 1.0000e-05\n",
            "Epoch 86/500\n",
            "2/2 [==============================] - 0s 22ms/step - loss: 0.8125 - tp: 0.0000e+00 - fp: 0.0000e+00 - tn: 111.0000 - fn: 54.0000 - accuracy: 0.6727 - recall: 0.0000e+00 - precision: 0.0000e+00 - prc: 0.4249 - val_loss: 0.5067 - val_tp: 0.0000e+00 - val_fp: 0.0000e+00 - val_tn: 34.0000 - val_fn: 8.0000 - val_accuracy: 0.8095 - val_recall: 0.0000e+00 - val_precision: 0.0000e+00 - val_prc: 0.6751 - lr: 1.0000e-05\n",
            "Epoch 87/500\n",
            "2/2 [==============================] - 0s 23ms/step - loss: 0.8125 - tp: 0.0000e+00 - fp: 0.0000e+00 - tn: 111.0000 - fn: 54.0000 - accuracy: 0.6727 - recall: 0.0000e+00 - precision: 0.0000e+00 - prc: 0.4249 - val_loss: 0.5067 - val_tp: 0.0000e+00 - val_fp: 0.0000e+00 - val_tn: 34.0000 - val_fn: 8.0000 - val_accuracy: 0.8095 - val_recall: 0.0000e+00 - val_precision: 0.0000e+00 - val_prc: 0.6751 - lr: 1.0000e-05\n",
            "Epoch 88/500\n",
            "2/2 [==============================] - 0s 23ms/step - loss: 0.8125 - tp: 0.0000e+00 - fp: 0.0000e+00 - tn: 111.0000 - fn: 54.0000 - accuracy: 0.6727 - recall: 0.0000e+00 - precision: 0.0000e+00 - prc: 0.4249 - val_loss: 0.5067 - val_tp: 0.0000e+00 - val_fp: 0.0000e+00 - val_tn: 34.0000 - val_fn: 8.0000 - val_accuracy: 0.8095 - val_recall: 0.0000e+00 - val_precision: 0.0000e+00 - val_prc: 0.6751 - lr: 1.0000e-05\n",
            "Epoch 89/500\n",
            "2/2 [==============================] - 0s 25ms/step - loss: 0.8125 - tp: 0.0000e+00 - fp: 0.0000e+00 - tn: 111.0000 - fn: 54.0000 - accuracy: 0.6727 - recall: 0.0000e+00 - precision: 0.0000e+00 - prc: 0.4249 - val_loss: 0.5067 - val_tp: 0.0000e+00 - val_fp: 0.0000e+00 - val_tn: 34.0000 - val_fn: 8.0000 - val_accuracy: 0.8095 - val_recall: 0.0000e+00 - val_precision: 0.0000e+00 - val_prc: 0.6751 - lr: 1.0000e-05\n",
            "Epoch 90/500\n",
            "2/2 [==============================] - 0s 21ms/step - loss: 0.8124 - tp: 0.0000e+00 - fp: 0.0000e+00 - tn: 111.0000 - fn: 54.0000 - accuracy: 0.6727 - recall: 0.0000e+00 - precision: 0.0000e+00 - prc: 0.4249 - val_loss: 0.5067 - val_tp: 0.0000e+00 - val_fp: 0.0000e+00 - val_tn: 34.0000 - val_fn: 8.0000 - val_accuracy: 0.8095 - val_recall: 0.0000e+00 - val_precision: 0.0000e+00 - val_prc: 0.6751 - lr: 1.0000e-05\n",
            "Epoch 91/500\n",
            "2/2 [==============================] - 0s 23ms/step - loss: 0.8124 - tp: 0.0000e+00 - fp: 0.0000e+00 - tn: 111.0000 - fn: 54.0000 - accuracy: 0.6727 - recall: 0.0000e+00 - precision: 0.0000e+00 - prc: 0.4249 - val_loss: 0.5067 - val_tp: 0.0000e+00 - val_fp: 0.0000e+00 - val_tn: 34.0000 - val_fn: 8.0000 - val_accuracy: 0.8095 - val_recall: 0.0000e+00 - val_precision: 0.0000e+00 - val_prc: 0.6751 - lr: 1.0000e-05\n",
            "Epoch 92/500\n",
            "2/2 [==============================] - 0s 21ms/step - loss: 0.8124 - tp: 0.0000e+00 - fp: 0.0000e+00 - tn: 111.0000 - fn: 54.0000 - accuracy: 0.6727 - recall: 0.0000e+00 - precision: 0.0000e+00 - prc: 0.4249 - val_loss: 0.5067 - val_tp: 0.0000e+00 - val_fp: 0.0000e+00 - val_tn: 34.0000 - val_fn: 8.0000 - val_accuracy: 0.8095 - val_recall: 0.0000e+00 - val_precision: 0.0000e+00 - val_prc: 0.6751 - lr: 1.0000e-05\n",
            "Epoch 93/500\n",
            "2/2 [==============================] - 0s 23ms/step - loss: 0.8124 - tp: 0.0000e+00 - fp: 0.0000e+00 - tn: 111.0000 - fn: 54.0000 - accuracy: 0.6727 - recall: 0.0000e+00 - precision: 0.0000e+00 - prc: 0.4249 - val_loss: 0.5067 - val_tp: 0.0000e+00 - val_fp: 0.0000e+00 - val_tn: 34.0000 - val_fn: 8.0000 - val_accuracy: 0.8095 - val_recall: 0.0000e+00 - val_precision: 0.0000e+00 - val_prc: 0.6751 - lr: 1.0000e-05\n",
            "Epoch 94/500\n",
            "2/2 [==============================] - 0s 22ms/step - loss: 0.8124 - tp: 0.0000e+00 - fp: 0.0000e+00 - tn: 111.0000 - fn: 54.0000 - accuracy: 0.6727 - recall: 0.0000e+00 - precision: 0.0000e+00 - prc: 0.4249 - val_loss: 0.5067 - val_tp: 0.0000e+00 - val_fp: 0.0000e+00 - val_tn: 34.0000 - val_fn: 8.0000 - val_accuracy: 0.8095 - val_recall: 0.0000e+00 - val_precision: 0.0000e+00 - val_prc: 0.6751 - lr: 1.0000e-05\n",
            "Epoch 95/500\n",
            "2/2 [==============================] - 0s 22ms/step - loss: 0.8124 - tp: 0.0000e+00 - fp: 0.0000e+00 - tn: 111.0000 - fn: 54.0000 - accuracy: 0.6727 - recall: 0.0000e+00 - precision: 0.0000e+00 - prc: 0.4249 - val_loss: 0.5067 - val_tp: 0.0000e+00 - val_fp: 0.0000e+00 - val_tn: 34.0000 - val_fn: 8.0000 - val_accuracy: 0.8095 - val_recall: 0.0000e+00 - val_precision: 0.0000e+00 - val_prc: 0.6751 - lr: 1.0000e-05\n",
            "Epoch 96/500\n",
            "2/2 [==============================] - 0s 28ms/step - loss: 0.8124 - tp: 0.0000e+00 - fp: 0.0000e+00 - tn: 111.0000 - fn: 54.0000 - accuracy: 0.6727 - recall: 0.0000e+00 - precision: 0.0000e+00 - prc: 0.4249 - val_loss: 0.5067 - val_tp: 0.0000e+00 - val_fp: 0.0000e+00 - val_tn: 34.0000 - val_fn: 8.0000 - val_accuracy: 0.8095 - val_recall: 0.0000e+00 - val_precision: 0.0000e+00 - val_prc: 0.6751 - lr: 1.0000e-05\n",
            "Epoch 97/500\n",
            "2/2 [==============================] - 0s 23ms/step - loss: 0.8124 - tp: 0.0000e+00 - fp: 0.0000e+00 - tn: 111.0000 - fn: 54.0000 - accuracy: 0.6727 - recall: 0.0000e+00 - precision: 0.0000e+00 - prc: 0.4249 - val_loss: 0.5067 - val_tp: 0.0000e+00 - val_fp: 0.0000e+00 - val_tn: 34.0000 - val_fn: 8.0000 - val_accuracy: 0.8095 - val_recall: 0.0000e+00 - val_precision: 0.0000e+00 - val_prc: 0.6751 - lr: 1.0000e-05\n",
            "Epoch 98/500\n",
            "2/2 [==============================] - 0s 22ms/step - loss: 0.8124 - tp: 0.0000e+00 - fp: 0.0000e+00 - tn: 111.0000 - fn: 54.0000 - accuracy: 0.6727 - recall: 0.0000e+00 - precision: 0.0000e+00 - prc: 0.4249 - val_loss: 0.5067 - val_tp: 0.0000e+00 - val_fp: 0.0000e+00 - val_tn: 34.0000 - val_fn: 8.0000 - val_accuracy: 0.8095 - val_recall: 0.0000e+00 - val_precision: 0.0000e+00 - val_prc: 0.6751 - lr: 1.0000e-05\n",
            "Epoch 99/500\n",
            "2/2 [==============================] - 0s 22ms/step - loss: 0.8124 - tp: 0.0000e+00 - fp: 0.0000e+00 - tn: 111.0000 - fn: 54.0000 - accuracy: 0.6727 - recall: 0.0000e+00 - precision: 0.0000e+00 - prc: 0.4249 - val_loss: 0.5067 - val_tp: 0.0000e+00 - val_fp: 0.0000e+00 - val_tn: 34.0000 - val_fn: 8.0000 - val_accuracy: 0.8095 - val_recall: 0.0000e+00 - val_precision: 0.0000e+00 - val_prc: 0.6751 - lr: 1.0000e-05\n",
            "Epoch 100/500\n",
            "2/2 [==============================] - 0s 22ms/step - loss: 0.8124 - tp: 0.0000e+00 - fp: 0.0000e+00 - tn: 111.0000 - fn: 54.0000 - accuracy: 0.6727 - recall: 0.0000e+00 - precision: 0.0000e+00 - prc: 0.4240 - val_loss: 0.5067 - val_tp: 0.0000e+00 - val_fp: 0.0000e+00 - val_tn: 34.0000 - val_fn: 8.0000 - val_accuracy: 0.8095 - val_recall: 0.0000e+00 - val_precision: 0.0000e+00 - val_prc: 0.6751 - lr: 1.0000e-05\n",
            "Epoch 101/500\n",
            "2/2 [==============================] - 0s 22ms/step - loss: 0.8124 - tp: 0.0000e+00 - fp: 0.0000e+00 - tn: 111.0000 - fn: 54.0000 - accuracy: 0.6727 - recall: 0.0000e+00 - precision: 0.0000e+00 - prc: 0.4240 - val_loss: 0.5067 - val_tp: 0.0000e+00 - val_fp: 0.0000e+00 - val_tn: 34.0000 - val_fn: 8.0000 - val_accuracy: 0.8095 - val_recall: 0.0000e+00 - val_precision: 0.0000e+00 - val_prc: 0.6751 - lr: 1.0000e-05\n",
            "Epoch 102/500\n",
            "2/2 [==============================] - 0s 27ms/step - loss: 0.8124 - tp: 0.0000e+00 - fp: 0.0000e+00 - tn: 111.0000 - fn: 54.0000 - accuracy: 0.6727 - recall: 0.0000e+00 - precision: 0.0000e+00 - prc: 0.4240 - val_loss: 0.5067 - val_tp: 0.0000e+00 - val_fp: 0.0000e+00 - val_tn: 34.0000 - val_fn: 8.0000 - val_accuracy: 0.8095 - val_recall: 0.0000e+00 - val_precision: 0.0000e+00 - val_prc: 0.6751 - lr: 1.0000e-05\n",
            "Epoch 103/500\n",
            "2/2 [==============================] - 0s 26ms/step - loss: 0.8124 - tp: 0.0000e+00 - fp: 0.0000e+00 - tn: 111.0000 - fn: 54.0000 - accuracy: 0.6727 - recall: 0.0000e+00 - precision: 0.0000e+00 - prc: 0.4240 - val_loss: 0.5067 - val_tp: 0.0000e+00 - val_fp: 0.0000e+00 - val_tn: 34.0000 - val_fn: 8.0000 - val_accuracy: 0.8095 - val_recall: 0.0000e+00 - val_precision: 0.0000e+00 - val_prc: 0.6751 - lr: 1.0000e-05\n",
            "Epoch 104/500\n",
            "2/2 [==============================] - 0s 23ms/step - loss: 0.8124 - tp: 0.0000e+00 - fp: 0.0000e+00 - tn: 111.0000 - fn: 54.0000 - accuracy: 0.6727 - recall: 0.0000e+00 - precision: 0.0000e+00 - prc: 0.4240 - val_loss: 0.5067 - val_tp: 0.0000e+00 - val_fp: 0.0000e+00 - val_tn: 34.0000 - val_fn: 8.0000 - val_accuracy: 0.8095 - val_recall: 0.0000e+00 - val_precision: 0.0000e+00 - val_prc: 0.6751 - lr: 1.0000e-05\n",
            "Epoch 105/500\n",
            "2/2 [==============================] - 0s 24ms/step - loss: 0.8124 - tp: 0.0000e+00 - fp: 0.0000e+00 - tn: 111.0000 - fn: 54.0000 - accuracy: 0.6727 - recall: 0.0000e+00 - precision: 0.0000e+00 - prc: 0.4240 - val_loss: 0.5067 - val_tp: 0.0000e+00 - val_fp: 0.0000e+00 - val_tn: 34.0000 - val_fn: 8.0000 - val_accuracy: 0.8095 - val_recall: 0.0000e+00 - val_precision: 0.0000e+00 - val_prc: 0.6751 - lr: 1.0000e-05\n",
            "Epoch 106/500\n",
            "2/2 [==============================] - 0s 44ms/step - loss: 0.8124 - tp: 0.0000e+00 - fp: 0.0000e+00 - tn: 111.0000 - fn: 54.0000 - accuracy: 0.6727 - recall: 0.0000e+00 - precision: 0.0000e+00 - prc: 0.4240 - val_loss: 0.5067 - val_tp: 0.0000e+00 - val_fp: 0.0000e+00 - val_tn: 34.0000 - val_fn: 8.0000 - val_accuracy: 0.8095 - val_recall: 0.0000e+00 - val_precision: 0.0000e+00 - val_prc: 0.6751 - lr: 1.0000e-05\n",
            "Epoch 107/500\n",
            "2/2 [==============================] - 0s 25ms/step - loss: 0.8124 - tp: 0.0000e+00 - fp: 0.0000e+00 - tn: 111.0000 - fn: 54.0000 - accuracy: 0.6727 - recall: 0.0000e+00 - precision: 0.0000e+00 - prc: 0.4240 - val_loss: 0.5067 - val_tp: 0.0000e+00 - val_fp: 0.0000e+00 - val_tn: 34.0000 - val_fn: 8.0000 - val_accuracy: 0.8095 - val_recall: 0.0000e+00 - val_precision: 0.0000e+00 - val_prc: 0.6751 - lr: 1.0000e-05\n",
            "Epoch 108/500\n",
            "2/2 [==============================] - 0s 26ms/step - loss: 0.8124 - tp: 0.0000e+00 - fp: 0.0000e+00 - tn: 111.0000 - fn: 54.0000 - accuracy: 0.6727 - recall: 0.0000e+00 - precision: 0.0000e+00 - prc: 0.4240 - val_loss: 0.5067 - val_tp: 0.0000e+00 - val_fp: 0.0000e+00 - val_tn: 34.0000 - val_fn: 8.0000 - val_accuracy: 0.8095 - val_recall: 0.0000e+00 - val_precision: 0.0000e+00 - val_prc: 0.6751 - lr: 1.0000e-05\n",
            "Epoch 109/500\n",
            "2/2 [==============================] - 0s 23ms/step - loss: 0.8124 - tp: 0.0000e+00 - fp: 0.0000e+00 - tn: 111.0000 - fn: 54.0000 - accuracy: 0.6727 - recall: 0.0000e+00 - precision: 0.0000e+00 - prc: 0.4240 - val_loss: 0.5067 - val_tp: 0.0000e+00 - val_fp: 0.0000e+00 - val_tn: 34.0000 - val_fn: 8.0000 - val_accuracy: 0.8095 - val_recall: 0.0000e+00 - val_precision: 0.0000e+00 - val_prc: 0.6751 - lr: 1.0000e-05\n",
            "Epoch 110/500\n",
            "2/2 [==============================] - 0s 47ms/step - loss: 0.8124 - tp: 0.0000e+00 - fp: 0.0000e+00 - tn: 111.0000 - fn: 54.0000 - accuracy: 0.6727 - recall: 0.0000e+00 - precision: 0.0000e+00 - prc: 0.4240 - val_loss: 0.5067 - val_tp: 0.0000e+00 - val_fp: 0.0000e+00 - val_tn: 34.0000 - val_fn: 8.0000 - val_accuracy: 0.8095 - val_recall: 0.0000e+00 - val_precision: 0.0000e+00 - val_prc: 0.6751 - lr: 1.0000e-05\n",
            "Epoch 111/500\n",
            "2/2 [==============================] - 0s 23ms/step - loss: 0.8124 - tp: 0.0000e+00 - fp: 0.0000e+00 - tn: 111.0000 - fn: 54.0000 - accuracy: 0.6727 - recall: 0.0000e+00 - precision: 0.0000e+00 - prc: 0.4240 - val_loss: 0.5067 - val_tp: 0.0000e+00 - val_fp: 0.0000e+00 - val_tn: 34.0000 - val_fn: 8.0000 - val_accuracy: 0.8095 - val_recall: 0.0000e+00 - val_precision: 0.0000e+00 - val_prc: 0.6751 - lr: 1.0000e-05\n",
            "Epoch 112/500\n",
            "2/2 [==============================] - 0s 24ms/step - loss: 0.8124 - tp: 0.0000e+00 - fp: 0.0000e+00 - tn: 111.0000 - fn: 54.0000 - accuracy: 0.6727 - recall: 0.0000e+00 - precision: 0.0000e+00 - prc: 0.4239 - val_loss: 0.5067 - val_tp: 0.0000e+00 - val_fp: 0.0000e+00 - val_tn: 34.0000 - val_fn: 8.0000 - val_accuracy: 0.8095 - val_recall: 0.0000e+00 - val_precision: 0.0000e+00 - val_prc: 0.6751 - lr: 1.0000e-05\n",
            "Epoch 113/500\n",
            "2/2 [==============================] - 0s 23ms/step - loss: 0.8124 - tp: 0.0000e+00 - fp: 0.0000e+00 - tn: 111.0000 - fn: 54.0000 - accuracy: 0.6727 - recall: 0.0000e+00 - precision: 0.0000e+00 - prc: 0.4239 - val_loss: 0.5067 - val_tp: 0.0000e+00 - val_fp: 0.0000e+00 - val_tn: 34.0000 - val_fn: 8.0000 - val_accuracy: 0.8095 - val_recall: 0.0000e+00 - val_precision: 0.0000e+00 - val_prc: 0.6751 - lr: 1.0000e-05\n",
            "Epoch 114/500\n",
            "2/2 [==============================] - 0s 23ms/step - loss: 0.8124 - tp: 0.0000e+00 - fp: 0.0000e+00 - tn: 111.0000 - fn: 54.0000 - accuracy: 0.6727 - recall: 0.0000e+00 - precision: 0.0000e+00 - prc: 0.4239 - val_loss: 0.5067 - val_tp: 0.0000e+00 - val_fp: 0.0000e+00 - val_tn: 34.0000 - val_fn: 8.0000 - val_accuracy: 0.8095 - val_recall: 0.0000e+00 - val_precision: 0.0000e+00 - val_prc: 0.6751 - lr: 1.0000e-05\n",
            "Epoch 115/500\n",
            "2/2 [==============================] - 0s 23ms/step - loss: 0.8124 - tp: 0.0000e+00 - fp: 0.0000e+00 - tn: 111.0000 - fn: 54.0000 - accuracy: 0.6727 - recall: 0.0000e+00 - precision: 0.0000e+00 - prc: 0.4239 - val_loss: 0.5067 - val_tp: 0.0000e+00 - val_fp: 0.0000e+00 - val_tn: 34.0000 - val_fn: 8.0000 - val_accuracy: 0.8095 - val_recall: 0.0000e+00 - val_precision: 0.0000e+00 - val_prc: 0.6751 - lr: 1.0000e-05\n",
            "Epoch 116/500\n",
            "2/2 [==============================] - 0s 22ms/step - loss: 0.8123 - tp: 0.0000e+00 - fp: 0.0000e+00 - tn: 111.0000 - fn: 54.0000 - accuracy: 0.6727 - recall: 0.0000e+00 - precision: 0.0000e+00 - prc: 0.4239 - val_loss: 0.5067 - val_tp: 0.0000e+00 - val_fp: 0.0000e+00 - val_tn: 34.0000 - val_fn: 8.0000 - val_accuracy: 0.8095 - val_recall: 0.0000e+00 - val_precision: 0.0000e+00 - val_prc: 0.6751 - lr: 1.0000e-05\n",
            "Epoch 117/500\n",
            "2/2 [==============================] - 0s 23ms/step - loss: 0.8123 - tp: 0.0000e+00 - fp: 0.0000e+00 - tn: 111.0000 - fn: 54.0000 - accuracy: 0.6727 - recall: 0.0000e+00 - precision: 0.0000e+00 - prc: 0.4239 - val_loss: 0.5067 - val_tp: 0.0000e+00 - val_fp: 0.0000e+00 - val_tn: 34.0000 - val_fn: 8.0000 - val_accuracy: 0.8095 - val_recall: 0.0000e+00 - val_precision: 0.0000e+00 - val_prc: 0.6751 - lr: 1.0000e-05\n",
            "Epoch 118/500\n",
            "2/2 [==============================] - 0s 25ms/step - loss: 0.8123 - tp: 0.0000e+00 - fp: 0.0000e+00 - tn: 111.0000 - fn: 54.0000 - accuracy: 0.6727 - recall: 0.0000e+00 - precision: 0.0000e+00 - prc: 0.4239 - val_loss: 0.5067 - val_tp: 0.0000e+00 - val_fp: 0.0000e+00 - val_tn: 34.0000 - val_fn: 8.0000 - val_accuracy: 0.8095 - val_recall: 0.0000e+00 - val_precision: 0.0000e+00 - val_prc: 0.6751 - lr: 1.0000e-05\n",
            "Epoch 119/500\n",
            "2/2 [==============================] - 0s 22ms/step - loss: 0.8123 - tp: 0.0000e+00 - fp: 0.0000e+00 - tn: 111.0000 - fn: 54.0000 - accuracy: 0.6727 - recall: 0.0000e+00 - precision: 0.0000e+00 - prc: 0.4239 - val_loss: 0.5067 - val_tp: 0.0000e+00 - val_fp: 0.0000e+00 - val_tn: 34.0000 - val_fn: 8.0000 - val_accuracy: 0.8095 - val_recall: 0.0000e+00 - val_precision: 0.0000e+00 - val_prc: 0.6751 - lr: 1.0000e-05\n",
            "Epoch 120/500\n",
            "2/2 [==============================] - 0s 28ms/step - loss: 0.8123 - tp: 0.0000e+00 - fp: 0.0000e+00 - tn: 111.0000 - fn: 54.0000 - accuracy: 0.6727 - recall: 0.0000e+00 - precision: 0.0000e+00 - prc: 0.4239 - val_loss: 0.5067 - val_tp: 0.0000e+00 - val_fp: 0.0000e+00 - val_tn: 34.0000 - val_fn: 8.0000 - val_accuracy: 0.8095 - val_recall: 0.0000e+00 - val_precision: 0.0000e+00 - val_prc: 0.6751 - lr: 1.0000e-05\n",
            "Epoch 121/500\n",
            "2/2 [==============================] - 0s 22ms/step - loss: 0.8123 - tp: 0.0000e+00 - fp: 0.0000e+00 - tn: 111.0000 - fn: 54.0000 - accuracy: 0.6727 - recall: 0.0000e+00 - precision: 0.0000e+00 - prc: 0.4239 - val_loss: 0.5067 - val_tp: 0.0000e+00 - val_fp: 0.0000e+00 - val_tn: 34.0000 - val_fn: 8.0000 - val_accuracy: 0.8095 - val_recall: 0.0000e+00 - val_precision: 0.0000e+00 - val_prc: 0.6751 - lr: 1.0000e-05\n",
            "Epoch 122/500\n",
            "2/2 [==============================] - 0s 23ms/step - loss: 0.8123 - tp: 0.0000e+00 - fp: 0.0000e+00 - tn: 111.0000 - fn: 54.0000 - accuracy: 0.6727 - recall: 0.0000e+00 - precision: 0.0000e+00 - prc: 0.4239 - val_loss: 0.5067 - val_tp: 0.0000e+00 - val_fp: 0.0000e+00 - val_tn: 34.0000 - val_fn: 8.0000 - val_accuracy: 0.8095 - val_recall: 0.0000e+00 - val_precision: 0.0000e+00 - val_prc: 0.6751 - lr: 1.0000e-05\n",
            "Epoch 123/500\n",
            "1/2 [==============>...............] - ETA: 0s - loss: 0.9183 - tp: 0.0000e+00 - fp: 0.0000e+00 - tn: 61.0000 - fn: 39.0000 - accuracy: 0.6100 - recall: 0.0000e+00 - precision: 0.0000e+00 - prc: 0.4584Restoring model weights from the end of the best epoch: 23.\n",
            "2/2 [==============================] - 0s 31ms/step - loss: 0.8123 - tp: 0.0000e+00 - fp: 0.0000e+00 - tn: 111.0000 - fn: 54.0000 - accuracy: 0.6727 - recall: 0.0000e+00 - precision: 0.0000e+00 - prc: 0.4239 - val_loss: 0.5067 - val_tp: 0.0000e+00 - val_fp: 0.0000e+00 - val_tn: 34.0000 - val_fn: 8.0000 - val_accuracy: 0.8095 - val_recall: 0.0000e+00 - val_precision: 0.0000e+00 - val_prc: 0.6751 - lr: 1.0000e-05\n",
            "Epoch 123: early stopping\n"
          ]
        },
        {
          "output_type": "execute_result",
          "data": {
            "text/plain": [
              "<keras.callbacks.History at 0x7f342835e890>"
            ]
          },
          "metadata": {},
          "execution_count": 26
        }
      ]
    },
    {
      "cell_type": "markdown",
      "source": [
        "Visualise the loss and accuracy for each epoch"
      ],
      "metadata": {
        "id": "G9DPmZDDXEnt"
      }
    },
    {
      "cell_type": "code",
      "source": [
        "# summarize history for loss\n",
        "plt.plot(my_model.best_model.history.history['loss'])\n",
        "plt.title('model loss')\n",
        "plt.ylabel('loss')\n",
        "plt.xlabel('epoch')\n",
        "plt.legend(['train', 'test'], loc='upper left')\n",
        "plt.show()"
      ],
      "metadata": {
        "id": "84wnXBf0XDyz",
        "outputId": "d72f5226-a24d-46a3-c1f4-31cd1165fd53",
        "colab": {
          "base_uri": "https://localhost:8080/",
          "height": 295
        }
      },
      "execution_count": 27,
      "outputs": [
        {
          "output_type": "display_data",
          "data": {
            "text/plain": [
              "<Figure size 432x288 with 1 Axes>"
            ],
            "image/png": "[encoded data removed]"
          },
          "metadata": {
            "needs_background": "light"
          }
        }
      ]
    },
    {
      "cell_type": "code",
      "source": [
        "# list all data in history\n",
        "#print(my_model.best_model.history.history.keys())\n",
        "# summarize history for accuracy\n",
        "plt.plot(my_model.best_model.history.history['accuracy'])\n",
        "plt.title('model accuracy')\n",
        "plt.ylabel('accuracy')\n",
        "plt.xlabel('epoch')\n",
        "plt.legend(['train', 'test'], loc='upper left')\n",
        "plt.show()"
      ],
      "metadata": {
        "id": "c_bC8ZieW5fQ",
        "colab": {
          "base_uri": "https://localhost:8080/",
          "height": 295
        },
        "outputId": "b4cbf4bd-ce1a-4d06-e829-0daea875aebc"
      },
      "execution_count": 28,
      "outputs": [
        {
          "output_type": "display_data",
          "data": {
            "text/plain": [
              "<Figure size 432x288 with 1 Axes>"
            ],
            "image/png": "[encoded data removed]"
          },
          "metadata": {
            "needs_background": "light"
          }
        }
      ]
    },
    {
      "cell_type": "code",
      "execution_count": 29,
      "metadata": {
        "id": "kwOiqNee7goj"
      },
      "outputs": [],
      "source": [
        "# use your model to make a prediction on unseen data\n",
        "y_pred = my_model.best_model.predict(x_test_processed,batch_size=my_model.BATCH)\n",
        "#convert values\n",
        "y_pred = (y_pred>my_model.THR)"
      ]
    },
    {
      "cell_type": "code",
      "execution_count": 30,
      "metadata": {
        "id": "VGgleoej7gok",
        "outputId": "a73014e0-b2e2-41d4-8f19-05bdea2ed758",
        "colab": {
          "base_uri": "https://localhost:8080/",
          "height": 333
        }
      },
      "outputs": [
        {
          "output_type": "stream",
          "name": "stdout",
          "text": [
            "Accuracy: 44.29 %\n",
            "Weighted ROC AUC accuracy: 48.56 %\n",
            "Confusion matrix:\n"
          ]
        },
        {
          "output_type": "display_data",
          "data": {
            "text/plain": [
              "<Figure size 432x288 with 2 Axes>"
            ],
            "image/png": "[encoded data removed]"
          },
          "metadata": {
            "needs_background": "light"
          }
        }
      ],
      "source": [
        "# Asssess the accuracy of your model and explain your key findings\n",
        "# Generate confusion matrix\n",
        "from sklearn.metrics import confusion_matrix, accuracy_score, roc_auc_score, ConfusionMatrixDisplay\n",
        "cm = confusion_matrix(y_test, y_pred)\n",
        "score = accuracy_score(y_test, y_pred)\n",
        "print(\"Accuracy: {:.2f} %\".format(score*100))\n",
        "print(\"Weighted ROC AUC accuracy: {:.2f} %\".format(roc_auc_score(y_test, y_pred, average='weighted')*100))\n",
        "print(\"Confusion matrix:\")\n",
        "disp = ConfusionMatrixDisplay(cm)\n",
        "disp.plot()\n",
        "plt.show()\n",
        "\n",
        "# Apply k-fold Cross Validation\n",
        "# from sklearn.model_selection import cross_val_score\n",
        "# from numpy import ravel\n",
        "# accuracies = cross_val_score(estimator = classifier, X = x_train_processed, y = ravel(y_train.values), scoring = 'roc_auc_ovo', cv = 10)\n",
        "# print(\"K-fold cross validation results\")\n",
        "# print(\"Accuracy: {:.2f} %\".format(accuracies.mean()*100))\n",
        "# print(\"Standard Deviation: {:.2f} %\".format(accuracies.std()*100))"
      ]
    },
    {
      "cell_type": "markdown",
      "source": [
        "**Model is approx 65-70% accurate at predicting whether cancer recurrence will occur.**\n",
        "\n",
        "**Crucially, the proportion of False Negatives is low (<15%). In cancer diagnosis these are the outcomes that we want to minimise. False Positives, whilst undesirable, will likely lead to further diagnostic testing before it is realised that cancer is not present.**"
      ],
      "metadata": {
        "id": "UMNN4P_E07L6"
      }
    },
    {
      "cell_type": "markdown",
      "metadata": {
        "id": "VDU85k7J7gok"
      },
      "source": [
        "### Unit tests:"
      ]
    },
    {
      "cell_type": "markdown",
      "metadata": {
        "id": "uq2QRpri7gol"
      },
      "source": [
        "###Checking training and test data for null values. This will work for both pd dataframes and np arrays, and ensures no null values exist."
      ]
    },
    {
      "cell_type": "code",
      "execution_count": 31,
      "metadata": {
        "id": "oUeh38w_7gol"
      },
      "outputs": [],
      "source": [
        "def test_no_nulls(data):\n",
        "    \"\"\" Assert no null values within pd dataframe or np array \"\"\"\n",
        "    \n",
        "    # if data is numpy array, handle accordingly\n",
        "    if isinstance(data, (np.ndarray)):\n",
        "        assert not np.isnan(np.min(data))\n",
        "    \n",
        "    # if not np array, assume data is pandas dataframe\n",
        "    else:\n",
        "        assert data.isna().sum().sum() == 0"
      ]
    },
    {
      "cell_type": "code",
      "execution_count": 32,
      "metadata": {
        "id": "BV9Z1F3i7gom"
      },
      "outputs": [],
      "source": [
        "# run null data unit test on both training and test data\n",
        "test_no_nulls(x_train_processed)\n",
        "test_no_nulls(x_test_processed)"
      ]
    }
  ],
  "metadata": {
    "colab": {
      "collapsed_sections": [],
      "name": "Copy of KSVC.ipynb",
      "provenance": [],
      "include_colab_link": true
    },
    "kernelspec": {
      "display_name": "Python 3 (ipykernel)",
      "language": "python",
      "name": "python3"
    },
    "language_info": {
      "codemirror_mode": {
        "name": "ipython",
        "version": 3
      },
      "file_extension": ".py",
      "mimetype": "text/x-python",
      "name": "python",
      "nbconvert_exporter": "python",
      "pygments_lexer": "ipython3",
      "version": "3.9.7"
    }
  },
  "nbformat": 4,
  "nbformat_minor": 0
}