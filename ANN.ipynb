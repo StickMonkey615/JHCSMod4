{
 "cells": [
  {
   "cell_type": "markdown",
   "metadata": {
    "colab_type": "text",
    "id": "view-in-github"
   },
   "source": [
    "<a href=\"https://colab.research.google.com/github/StickMonkey615/JHCSMod4/blob/main/Copy_of_KSVC.ipynb\" target=\"_parent\"><img src=\"https://colab.research.google.com/assets/colab-badge.svg\" alt=\"Open In Colab\"/></a>"
   ]
  },
  {
   "cell_type": "markdown",
   "metadata": {
    "id": "iRn73TIW7gn9"
   },
   "source": [
    "# Module 4 Guidance\n",
    "\n",
    "This notebook is a template for module 4b and 4c, which will be tested in Google Colab, your code needs to run there.\n",
    "The structure has been provided to improve consistency and make it easier for markers to understand your code but still give students the flexibility to be creative.  You need to populate the required functions to solve this problem.  All dependencies should be documented in the next cell.\n",
    "\n",
    "You can:\n",
    "    add further cells or text blocks to extend or further explain your solution\n",
    "    add further functions\n",
    "\n",
    "Dont:\n",
    "    rename functions\n",
    "   "
   ]
  },
  {
   "cell_type": "code",
   "execution_count": 3,
   "metadata": {
    "colab": {
     "base_uri": "https://localhost:8080/"
    },
    "id": "ZxOsuHxz7goC",
    "outputId": "df6a4e2e-25b5-42b3-ae32-773729334669"
   },
   "outputs": [],
   "source": [
    "# Fixed dependencies - do not remove or change.\n",
    "import pytest\n",
    "import pandas as pd\n",
    "import numpy as np\n",
    "'''from google.colab import drive'''\n",
    "import tensorflow as tf\n",
    "# drive.mount('/content/gdrive/')\n",
    "# Import your dependencies\n",
    "#!pip install xlrd>=1.2.0\n",
    "#!pip install --upgrade xlrd\n",
    "#!apt-get -qq install -y graphviz && pip install xlrd\n",
    "import xlrd\n",
    "\n"
   ]
  },
  {
   "cell_type": "code",
   "execution_count": 4,
   "metadata": {
    "id": "1m_gmKQP7goE"
   },
   "outputs": [],
   "source": [
    "# Import data\n",
    "\n",
    "def import_local_data(file_path):\n",
    "    \"\"\"This function needs to import the data file into collab and return a pandas dataframe\n",
    "    \"\"\"\n",
    "    raw_df = pd.read_excel(file_path)\n",
    "    return raw_df "
   ]
  },
  {
   "cell_type": "code",
   "execution_count": 5,
   "metadata": {
    "id": "cIljHljB7goF"
   },
   "outputs": [],
   "source": [
    "#local_file_path = \"C:/Users/shaun/Python_work/jHub Coding Scheme/Module 4 - ML/breast-cancer.xls\"\n",
    "local_file_path = \"breast-cancer.xls\""
   ]
  },
  {
   "cell_type": "code",
   "execution_count": 6,
   "metadata": {
    "id": "LCu51H5Z7goF"
   },
   "outputs": [],
   "source": [
    "# Dont change\n",
    "raw_data = import_local_data(local_file_path)"
   ]
  },
  {
   "cell_type": "markdown",
   "metadata": {
    "id": "U9WDYKUP7goG"
   },
   "source": [
    "### Conduct exploratory data analysis and explain your key findings - Examine the data, explain its key features and what they look like.  Highlight any fields that are anomalous."
   ]
  },
  {
   "cell_type": "code",
   "execution_count": null,
   "metadata": {
    "id": "KMB3eKfC7goU"
   },
   "outputs": [],
   "source": []
  },
  {
   "cell_type": "code",
   "execution_count": null,
   "metadata": {
    "id": "f02MTYgB7goW"
   },
   "outputs": [],
   "source": [
    "# Explain your key findings"
   ]
  },
  {
   "cell_type": "code",
   "execution_count": 7,
   "metadata": {
    "id": "jgbyjpS37goW"
   },
   "outputs": [],
   "source": [
    "def process_data(unproc_data):\n",
    "    \n",
    "    # Taking care of missing data\n",
    "    # from sklearn.impute import SimpleImputer\n",
    "    # imputer = SimpleImputer(missing_values=np.nan, strategy='mean')\n",
    "    # imputer.fit(raw_data[:, 5])\n",
    "    # X[:, 5] = imputer.transform(X[:, 5])\n",
    "    # print(X)\n",
    "\n",
    "    # Remove non-categorical data\n",
    "    dm = unproc_data.pop('deg-malig')\n",
    "\n",
    "    # Correct date types in tumor-size abd inv-nodes variables\n",
    "    for i in range(0, len(unproc_data)):\n",
    "        if type(unproc_data['tumor-size'][i]) is not str:\n",
    "            if unproc_data['tumor-size'][i].day == 1:\n",
    "                unproc_data['tumor-size'][i] = str(unproc_data['tumor-size'][i].month) + '-' + str(unproc_data['tumor-size'][i].year-2000)\n",
    "            else:\n",
    "                unproc_data['tumor-size'][i] = str(unproc_data['tumor-size'][i].day) + '-' + str(unproc_data['tumor-size'][i].month)\n",
    "        if type(unproc_data['inv-nodes'][i]) is not str:\n",
    "            if unproc_data['inv-nodes'][i].day == 1:\n",
    "                unproc_data['inv-nodes'][i] = str(unproc_data['inv-nodes'][i].month) + '-' + str(unproc_data['inv-nodes'][i].year-2000)\n",
    "            else:\n",
    "                unproc_data['inv-nodes'][i] = str(unproc_data['inv-nodes'][i].day) + '-' + str(unproc_data['inv-nodes'][i].month)\n",
    "\n",
    "    # Convert node-caps and irradiat variables into booleans\n",
    "    for i in range(0, len(unproc_data)):\n",
    "        if unproc_data['node-caps'][i] == 'yes':\n",
    "            unproc_data['node-caps'][i] = True\n",
    "        elif unproc_data['node-caps'][i] == 'no':\n",
    "            unproc_data['node-caps'][i] = False\n",
    "        else:\n",
    "            unproc_data['node-caps'][i] = False\n",
    "        if unproc_data['irradiat'][i] == 'yes':\n",
    "            unproc_data['irradiat'][i] = True\n",
    "        elif unproc_data['irradiat'][i] == 'no':\n",
    "            unproc_data['irradiat'][i] = False\n",
    "        else:\n",
    "            unproc_data['irradiat'][i] = False\n",
    "\n",
    "\n",
    "    # Encode the catagorical data (dummy variables)\n",
    "    proc_data = pd.get_dummies(data=unproc_data, prefix_sep='_', drop_first=True)\n",
    "    \n",
    "    # Add back in non-categorical data\n",
    "    proc_data.insert(0, 'deg-malig', dm)\n",
    "    \n",
    "    return proc_data"
   ]
  },
  {
   "cell_type": "code",
   "execution_count": 8,
   "metadata": {
    "id": "yi4pFb5iD-zT"
   },
   "outputs": [],
   "source": [
    "clean_data = process_data(raw_data)"
   ]
  },
  {
   "cell_type": "markdown",
   "metadata": {
    "id": "SzZj8I8G7goX"
   },
   "source": [
    "Create any data pre-processing that you will conduct on seen and unseen data.  Regardless of the model you use, this dataframe must contain only numeric features and have a strategy for any expected missing values. Any objects can that are needed to handle the test data that are dependent on the training data can be stored in the model class.  You are recommended to use sklearn Pipelines or similar functionality to ensure reproducibility."
   ]
  },
  {
   "cell_type": "code",
   "execution_count": null,
   "metadata": {
    "id": "mcmJMdW9D9Rm"
   },
   "outputs": [],
   "source": []
  },
  {
   "cell_type": "code",
   "execution_count": 9,
   "metadata": {
    "id": "WIh9_0pp7goY"
   },
   "outputs": [],
   "source": [
    "# Split your data so that you can test the effectiveness of your model\n",
    "# Split the data into a Training set and a Test set\n",
    "dfs = np.split(clean_data, [len(clean_data.columns)-1], axis=1)\n",
    "X = dfs[0]\n",
    "y = dfs[1]\n",
    "#X = raw_data.iloc[:, :-1].values\n",
    "#y = raw_data.iloc[:, -1].values\n",
    "from sklearn.model_selection import train_test_split\n",
    "X_train, X_test, y_train, y_test = train_test_split(X, y, test_size = 0.2, random_state = 0)"
   ]
  },
  {
   "cell_type": "code",
   "execution_count": 10,
   "metadata": {
    "id": "AbOQACY77goY"
   },
   "outputs": [],
   "source": [
    "# Populate preprocess_training_data and preprocess_test_data to preprocess data.\n",
    "# You must process test and train separately so your model does not accidently gain information that a model wouldnt have in reality and therefore get better predictions\n",
    "from sklearn.preprocessing import StandardScaler\n",
    "sc = StandardScaler()\n",
    "X_train = sc.fit_transform(X_train)\n",
    "X_test = sc.transform(X_test)"
   ]
  },
  {
   "cell_type": "code",
   "execution_count": 11,
   "metadata": {
    "id": "Xsq2f8747goZ"
   },
   "outputs": [],
   "source": [
    "class Module4_Model:\n",
    "    \n",
    "    def __init__(self):\n",
    "        self.model = tf.keras.models.Sequential()\n",
    "        self.model.add(tf.keras.layers.Dense(units=6, activation='relu'))\n",
    "        self.model.add(tf.keras.layers.Dense(units=6, activation='relu'))\n",
    "        self.model.add(tf.keras.layers.Dense(units=1, activation='sigmoid'))\n",
    "        \n",
    "    def preprocess_training_data(self, training_df):\n",
    "        \"\"\"\n",
    "        This function should process the training data and store any features required in the class\n",
    "        \"\"\"\n",
    "        processed_df = training_df\n",
    "        return processed_df\n",
    "\n",
    "    def preprocess_test_data(self, test_df):\n",
    "        processed_df = test_df\n",
    "        return processed_df\n"
   ]
  },
  {
   "cell_type": "code",
   "execution_count": 12,
   "metadata": {
    "id": "F3LiNNCb7goa"
   },
   "outputs": [],
   "source": [
    "# Dont change\n",
    "my_model = Module4_Model()"
   ]
  },
  {
   "cell_type": "code",
   "execution_count": 14,
   "metadata": {
    "id": "ZQD7WPdN7god"
   },
   "outputs": [],
   "source": [
    "# Dont change\n",
    "x_train_processed = my_model.preprocess_training_data(X_train)"
   ]
  },
  {
   "cell_type": "code",
   "execution_count": null,
   "metadata": {
    "id": "XnLHgaXS7goe"
   },
   "outputs": [],
   "source": [
    "# Create a model"
   ]
  },
  {
   "cell_type": "code",
   "execution_count": 20,
   "metadata": {
    "id": "Qr5QOWyc7goe"
   },
   "outputs": [],
   "source": [
    "my_model.model.compile(optimizer = 'adam', loss = 'binary_crossentropy', metrics = ['accuracy'])"
   ]
  },
  {
   "cell_type": "code",
   "execution_count": 21,
   "metadata": {
    "id": "rQwUj4lk7goe"
   },
   "outputs": [],
   "source": [
    "# Dont change\n",
    "x_test_processed = my_model.preprocess_test_data(X_test)"
   ]
  },
  {
   "cell_type": "code",
   "execution_count": 22,
   "metadata": {
    "colab": {
     "base_uri": "https://localhost:8080/"
    },
    "id": "EqEGqaAA7goi",
    "outputId": "e00bcb32-370a-4b0f-b3d4-17afd6652360"
   },
   "outputs": [
    {
     "name": "stdout",
     "output_type": "stream",
     "text": [
      "Epoch 1/100\n",
      "8/8 [==============================] - 2s 9ms/step - loss: 0.6691 - accuracy: 0.6140\n",
      "Epoch 2/100\n",
      "8/8 [==============================] - 0s 5ms/step - loss: 0.6554 - accuracy: 0.6272\n",
      "Epoch 3/100\n",
      "8/8 [==============================] - 0s 6ms/step - loss: 0.6440 - accuracy: 0.6535\n",
      "Epoch 4/100\n",
      "8/8 [==============================] - 0s 6ms/step - loss: 0.6343 - accuracy: 0.6579\n",
      "Epoch 5/100\n",
      "8/8 [==============================] - 0s 3ms/step - loss: 0.6263 - accuracy: 0.6579\n",
      "Epoch 6/100\n",
      "8/8 [==============================] - 0s 4ms/step - loss: 0.6181 - accuracy: 0.6667\n",
      "Epoch 7/100\n",
      "8/8 [==============================] - 0s 4ms/step - loss: 0.6114 - accuracy: 0.6711\n",
      "Epoch 8/100\n",
      "8/8 [==============================] - 0s 4ms/step - loss: 0.6042 - accuracy: 0.6798\n",
      "Epoch 9/100\n",
      "8/8 [==============================] - 0s 4ms/step - loss: 0.5981 - accuracy: 0.6842\n",
      "Epoch 10/100\n",
      "8/8 [==============================] - 0s 3ms/step - loss: 0.5920 - accuracy: 0.6886\n",
      "Epoch 11/100\n",
      "8/8 [==============================] - 0s 4ms/step - loss: 0.5865 - accuracy: 0.6930\n",
      "Epoch 12/100\n",
      "8/8 [==============================] - 0s 4ms/step - loss: 0.5811 - accuracy: 0.6930\n",
      "Epoch 13/100\n",
      "8/8 [==============================] - 0s 4ms/step - loss: 0.5765 - accuracy: 0.6974\n",
      "Epoch 14/100\n",
      "8/8 [==============================] - 0s 3ms/step - loss: 0.5723 - accuracy: 0.7061\n",
      "Epoch 15/100\n",
      "8/8 [==============================] - 0s 4ms/step - loss: 0.5682 - accuracy: 0.7061\n",
      "Epoch 16/100\n",
      "8/8 [==============================] - 0s 3ms/step - loss: 0.5638 - accuracy: 0.7149\n",
      "Epoch 17/100\n",
      "8/8 [==============================] - 0s 4ms/step - loss: 0.5601 - accuracy: 0.7193\n",
      "Epoch 18/100\n",
      "8/8 [==============================] - 0s 4ms/step - loss: 0.5562 - accuracy: 0.7149\n",
      "Epoch 19/100\n",
      "8/8 [==============================] - 0s 4ms/step - loss: 0.5525 - accuracy: 0.7193\n",
      "Epoch 20/100\n",
      "8/8 [==============================] - 0s 3ms/step - loss: 0.5486 - accuracy: 0.7237\n",
      "Epoch 21/100\n",
      "8/8 [==============================] - 0s 4ms/step - loss: 0.5454 - accuracy: 0.7281\n",
      "Epoch 22/100\n",
      "8/8 [==============================] - 0s 3ms/step - loss: 0.5418 - accuracy: 0.7281\n",
      "Epoch 23/100\n",
      "8/8 [==============================] - 0s 4ms/step - loss: 0.5380 - accuracy: 0.7281\n",
      "Epoch 24/100\n",
      "8/8 [==============================] - 0s 5ms/step - loss: 0.5351 - accuracy: 0.7281\n",
      "Epoch 25/100\n",
      "8/8 [==============================] - 0s 3ms/step - loss: 0.5315 - accuracy: 0.7325\n",
      "Epoch 26/100\n",
      "8/8 [==============================] - 0s 4ms/step - loss: 0.5286 - accuracy: 0.7325\n",
      "Epoch 27/100\n",
      "8/8 [==============================] - 0s 4ms/step - loss: 0.5253 - accuracy: 0.7281\n",
      "Epoch 28/100\n",
      "8/8 [==============================] - 0s 4ms/step - loss: 0.5229 - accuracy: 0.7281\n",
      "Epoch 29/100\n",
      "8/8 [==============================] - 0s 3ms/step - loss: 0.5196 - accuracy: 0.7325\n",
      "Epoch 30/100\n",
      "8/8 [==============================] - 0s 3ms/step - loss: 0.5172 - accuracy: 0.7456\n",
      "Epoch 31/100\n",
      "8/8 [==============================] - 0s 3ms/step - loss: 0.5145 - accuracy: 0.7456\n",
      "Epoch 32/100\n",
      "8/8 [==============================] - 0s 5ms/step - loss: 0.5119 - accuracy: 0.7544\n",
      "Epoch 33/100\n",
      "8/8 [==============================] - 0s 4ms/step - loss: 0.5093 - accuracy: 0.7588\n",
      "Epoch 34/100\n",
      "8/8 [==============================] - 0s 3ms/step - loss: 0.5069 - accuracy: 0.7632\n",
      "Epoch 35/100\n",
      "8/8 [==============================] - 0s 3ms/step - loss: 0.5046 - accuracy: 0.7632\n",
      "Epoch 36/100\n",
      "8/8 [==============================] - 0s 4ms/step - loss: 0.5019 - accuracy: 0.7719\n",
      "Epoch 37/100\n",
      "8/8 [==============================] - 0s 4ms/step - loss: 0.4995 - accuracy: 0.7763\n",
      "Epoch 38/100\n",
      "8/8 [==============================] - 0s 3ms/step - loss: 0.4970 - accuracy: 0.7763\n",
      "Epoch 39/100\n",
      "8/8 [==============================] - 0s 4ms/step - loss: 0.4950 - accuracy: 0.7763\n",
      "Epoch 40/100\n",
      "8/8 [==============================] - 0s 4ms/step - loss: 0.4927 - accuracy: 0.7807\n",
      "Epoch 41/100\n",
      "8/8 [==============================] - 0s 4ms/step - loss: 0.4905 - accuracy: 0.7807\n",
      "Epoch 42/100\n",
      "8/8 [==============================] - 0s 4ms/step - loss: 0.4885 - accuracy: 0.7763\n",
      "Epoch 43/100\n",
      "8/8 [==============================] - 0s 3ms/step - loss: 0.4863 - accuracy: 0.7807\n",
      "Epoch 44/100\n",
      "8/8 [==============================] - 0s 4ms/step - loss: 0.4836 - accuracy: 0.7807\n",
      "Epoch 45/100\n",
      "8/8 [==============================] - 0s 4ms/step - loss: 0.4814 - accuracy: 0.7807\n",
      "Epoch 46/100\n",
      "8/8 [==============================] - 0s 3ms/step - loss: 0.4791 - accuracy: 0.7851\n",
      "Epoch 47/100\n",
      "8/8 [==============================] - 0s 3ms/step - loss: 0.4770 - accuracy: 0.7851\n",
      "Epoch 48/100\n",
      "8/8 [==============================] - 0s 3ms/step - loss: 0.4753 - accuracy: 0.7851\n",
      "Epoch 49/100\n",
      "8/8 [==============================] - 0s 3ms/step - loss: 0.4727 - accuracy: 0.7851\n",
      "Epoch 50/100\n",
      "8/8 [==============================] - 0s 4ms/step - loss: 0.4704 - accuracy: 0.7851\n",
      "Epoch 51/100\n",
      "8/8 [==============================] - 0s 4ms/step - loss: 0.4683 - accuracy: 0.7851\n",
      "Epoch 52/100\n",
      "8/8 [==============================] - 0s 4ms/step - loss: 0.4659 - accuracy: 0.7851\n",
      "Epoch 53/100\n",
      "8/8 [==============================] - 0s 4ms/step - loss: 0.4638 - accuracy: 0.7851\n",
      "Epoch 54/100\n",
      "8/8 [==============================] - 0s 4ms/step - loss: 0.4613 - accuracy: 0.7851\n",
      "Epoch 55/100\n",
      "8/8 [==============================] - 0s 4ms/step - loss: 0.4593 - accuracy: 0.7851\n",
      "Epoch 56/100\n",
      "8/8 [==============================] - 0s 4ms/step - loss: 0.4566 - accuracy: 0.7851\n",
      "Epoch 57/100\n",
      "8/8 [==============================] - 0s 3ms/step - loss: 0.4540 - accuracy: 0.7851\n",
      "Epoch 58/100\n",
      "8/8 [==============================] - 0s 3ms/step - loss: 0.4516 - accuracy: 0.7851\n",
      "Epoch 59/100\n",
      "8/8 [==============================] - 0s 3ms/step - loss: 0.4497 - accuracy: 0.7895\n",
      "Epoch 60/100\n",
      "8/8 [==============================] - 0s 3ms/step - loss: 0.4475 - accuracy: 0.7895\n",
      "Epoch 61/100\n",
      "8/8 [==============================] - 0s 3ms/step - loss: 0.4450 - accuracy: 0.7895\n",
      "Epoch 62/100\n",
      "8/8 [==============================] - 0s 3ms/step - loss: 0.4430 - accuracy: 0.7895\n",
      "Epoch 63/100\n",
      "8/8 [==============================] - 0s 3ms/step - loss: 0.4406 - accuracy: 0.7939\n",
      "Epoch 64/100\n",
      "8/8 [==============================] - 0s 3ms/step - loss: 0.4381 - accuracy: 0.7939\n",
      "Epoch 65/100\n",
      "8/8 [==============================] - 0s 3ms/step - loss: 0.4362 - accuracy: 0.7939\n",
      "Epoch 66/100\n",
      "8/8 [==============================] - 0s 3ms/step - loss: 0.4339 - accuracy: 0.7982\n",
      "Epoch 67/100\n",
      "8/8 [==============================] - 0s 3ms/step - loss: 0.4318 - accuracy: 0.8026\n",
      "Epoch 68/100\n",
      "8/8 [==============================] - 0s 3ms/step - loss: 0.4302 - accuracy: 0.8026\n",
      "Epoch 69/100\n",
      "8/8 [==============================] - 0s 3ms/step - loss: 0.4287 - accuracy: 0.8026\n",
      "Epoch 70/100\n",
      "8/8 [==============================] - 0s 3ms/step - loss: 0.4269 - accuracy: 0.8026\n",
      "Epoch 71/100\n",
      "8/8 [==============================] - 0s 3ms/step - loss: 0.4251 - accuracy: 0.8026\n",
      "Epoch 72/100\n",
      "8/8 [==============================] - 0s 4ms/step - loss: 0.4230 - accuracy: 0.8026\n",
      "Epoch 73/100\n",
      "8/8 [==============================] - 0s 3ms/step - loss: 0.4209 - accuracy: 0.8026\n",
      "Epoch 74/100\n",
      "8/8 [==============================] - 0s 3ms/step - loss: 0.4193 - accuracy: 0.8026\n",
      "Epoch 75/100\n",
      "8/8 [==============================] - 0s 3ms/step - loss: 0.4174 - accuracy: 0.8026\n",
      "Epoch 76/100\n",
      "8/8 [==============================] - 0s 3ms/step - loss: 0.4157 - accuracy: 0.8114\n",
      "Epoch 77/100\n",
      "8/8 [==============================] - 0s 3ms/step - loss: 0.4141 - accuracy: 0.8202\n",
      "Epoch 78/100\n",
      "8/8 [==============================] - 0s 3ms/step - loss: 0.4123 - accuracy: 0.8202\n",
      "Epoch 79/100\n",
      "8/8 [==============================] - 0s 3ms/step - loss: 0.4106 - accuracy: 0.8202\n",
      "Epoch 80/100\n",
      "8/8 [==============================] - 0s 3ms/step - loss: 0.4089 - accuracy: 0.8202\n",
      "Epoch 81/100\n",
      "8/8 [==============================] - 0s 3ms/step - loss: 0.4074 - accuracy: 0.8202\n",
      "Epoch 82/100\n",
      "8/8 [==============================] - 0s 4ms/step - loss: 0.4053 - accuracy: 0.8202\n",
      "Epoch 83/100\n",
      "8/8 [==============================] - 0s 4ms/step - loss: 0.4036 - accuracy: 0.8158\n",
      "Epoch 84/100\n"
     ]
    },
    {
     "name": "stdout",
     "output_type": "stream",
     "text": [
      "8/8 [==============================] - 0s 4ms/step - loss: 0.4016 - accuracy: 0.8158\n",
      "Epoch 85/100\n",
      "8/8 [==============================] - 0s 3ms/step - loss: 0.4002 - accuracy: 0.8158\n",
      "Epoch 86/100\n",
      "8/8 [==============================] - 0s 3ms/step - loss: 0.3984 - accuracy: 0.8158\n",
      "Epoch 87/100\n",
      "8/8 [==============================] - 0s 3ms/step - loss: 0.3967 - accuracy: 0.8246\n",
      "Epoch 88/100\n",
      "8/8 [==============================] - 0s 3ms/step - loss: 0.3952 - accuracy: 0.8289\n",
      "Epoch 89/100\n",
      "8/8 [==============================] - 0s 3ms/step - loss: 0.3936 - accuracy: 0.8289\n",
      "Epoch 90/100\n",
      "8/8 [==============================] - 0s 3ms/step - loss: 0.3918 - accuracy: 0.8289\n",
      "Epoch 91/100\n",
      "8/8 [==============================] - 0s 4ms/step - loss: 0.3901 - accuracy: 0.8333\n",
      "Epoch 92/100\n",
      "8/8 [==============================] - 0s 3ms/step - loss: 0.3887 - accuracy: 0.8377\n",
      "Epoch 93/100\n",
      "8/8 [==============================] - 0s 3ms/step - loss: 0.3872 - accuracy: 0.8377\n",
      "Epoch 94/100\n",
      "8/8 [==============================] - 0s 3ms/step - loss: 0.3855 - accuracy: 0.8377\n",
      "Epoch 95/100\n",
      "8/8 [==============================] - 0s 3ms/step - loss: 0.3846 - accuracy: 0.8377\n",
      "Epoch 96/100\n",
      "8/8 [==============================] - 0s 3ms/step - loss: 0.3828 - accuracy: 0.8421\n",
      "Epoch 97/100\n",
      "8/8 [==============================] - 0s 3ms/step - loss: 0.3814 - accuracy: 0.8421\n",
      "Epoch 98/100\n",
      "8/8 [==============================] - 0s 3ms/step - loss: 0.3798 - accuracy: 0.8377\n",
      "Epoch 99/100\n",
      "8/8 [==============================] - 0s 3ms/step - loss: 0.3783 - accuracy: 0.8377\n",
      "Epoch 100/100\n",
      "8/8 [==============================] - 0s 3ms/step - loss: 0.3769 - accuracy: 0.8377\n"
     ]
    },
    {
     "data": {
      "text/plain": [
       "<keras.callbacks.History at 0x27dd76db550>"
      ]
     },
     "execution_count": 22,
     "metadata": {},
     "output_type": "execute_result"
    }
   ],
   "source": [
    "# Train your model\n",
    "my_model.model.fit(X_train, y_train, batch_size = 32, epochs = 100)"
   ]
  },
  {
   "cell_type": "code",
   "execution_count": null,
   "metadata": {
    "colab": {
     "base_uri": "https://localhost:8080/"
    },
    "id": "z8YP4YbN7goi",
    "outputId": "4eef1828-66f7-4ee7-a35c-758f559579b3"
   },
   "outputs": [],
   "source": []
  },
  {
   "cell_type": "code",
   "execution_count": null,
   "metadata": {
    "colab": {
     "base_uri": "https://localhost:8080/"
    },
    "id": "Fti8z8kPFrtl",
    "outputId": "031bce82-3270-4d78-982a-c2621d999b3b"
   },
   "outputs": [],
   "source": []
  },
  {
   "cell_type": "code",
   "execution_count": null,
   "metadata": {
    "id": "z2jfiiAD7goj"
   },
   "outputs": [],
   "source": [
    "# use your model to make a prediction on unseen data"
   ]
  },
  {
   "cell_type": "code",
   "execution_count": 23,
   "metadata": {
    "id": "kwOiqNee7goj"
   },
   "outputs": [
    {
     "name": "stdout",
     "output_type": "stream",
     "text": [
      "2/2 [==============================] - 0s 19ms/step\n"
     ]
    },
    {
     "ename": "AttributeError",
     "evalue": "'DataFrame' object has no attribute 'reshape'",
     "output_type": "error",
     "traceback": [
      "\u001b[1;31m---------------------------------------------------------------------------\u001b[0m",
      "\u001b[1;31mAttributeError\u001b[0m                            Traceback (most recent call last)",
      "\u001b[1;32m~\\AppData\\Local\\Temp/ipykernel_8912/796631892.py\u001b[0m in \u001b[0;36m<module>\u001b[1;34m\u001b[0m\n\u001b[0;32m      1\u001b[0m \u001b[0my_pred\u001b[0m \u001b[1;33m=\u001b[0m \u001b[0mmy_model\u001b[0m\u001b[1;33m.\u001b[0m\u001b[0mmodel\u001b[0m\u001b[1;33m.\u001b[0m\u001b[0mpredict\u001b[0m\u001b[1;33m(\u001b[0m\u001b[0mX_test\u001b[0m\u001b[1;33m)\u001b[0m\u001b[1;33m\u001b[0m\u001b[1;33m\u001b[0m\u001b[0m\n\u001b[0;32m      2\u001b[0m \u001b[0my_pred\u001b[0m \u001b[1;33m=\u001b[0m \u001b[1;33m(\u001b[0m\u001b[0my_pred\u001b[0m \u001b[1;33m>\u001b[0m \u001b[1;36m0.5\u001b[0m\u001b[1;33m)\u001b[0m\u001b[1;33m\u001b[0m\u001b[1;33m\u001b[0m\u001b[0m\n\u001b[1;32m----> 3\u001b[1;33m \u001b[0mprint\u001b[0m\u001b[1;33m(\u001b[0m\u001b[0mnp\u001b[0m\u001b[1;33m.\u001b[0m\u001b[0mconcatenate\u001b[0m\u001b[1;33m(\u001b[0m\u001b[1;33m(\u001b[0m\u001b[0my_pred\u001b[0m\u001b[1;33m.\u001b[0m\u001b[0mreshape\u001b[0m\u001b[1;33m(\u001b[0m\u001b[0mlen\u001b[0m\u001b[1;33m(\u001b[0m\u001b[0my_pred\u001b[0m\u001b[1;33m)\u001b[0m\u001b[1;33m,\u001b[0m\u001b[1;36m1\u001b[0m\u001b[1;33m)\u001b[0m\u001b[1;33m,\u001b[0m \u001b[0my_test\u001b[0m\u001b[1;33m.\u001b[0m\u001b[0mreshape\u001b[0m\u001b[1;33m(\u001b[0m\u001b[0mlen\u001b[0m\u001b[1;33m(\u001b[0m\u001b[0my_test\u001b[0m\u001b[1;33m)\u001b[0m\u001b[1;33m,\u001b[0m\u001b[1;36m1\u001b[0m\u001b[1;33m)\u001b[0m\u001b[1;33m)\u001b[0m\u001b[1;33m,\u001b[0m\u001b[1;36m1\u001b[0m\u001b[1;33m)\u001b[0m\u001b[1;33m)\u001b[0m\u001b[1;33m\u001b[0m\u001b[1;33m\u001b[0m\u001b[0m\n\u001b[0m",
      "\u001b[1;32m~\\anaconda3\\lib\\site-packages\\pandas\\core\\generic.py\u001b[0m in \u001b[0;36m__getattr__\u001b[1;34m(self, name)\u001b[0m\n\u001b[0;32m   5485\u001b[0m         ):\n\u001b[0;32m   5486\u001b[0m             \u001b[1;32mreturn\u001b[0m \u001b[0mself\u001b[0m\u001b[1;33m[\u001b[0m\u001b[0mname\u001b[0m\u001b[1;33m]\u001b[0m\u001b[1;33m\u001b[0m\u001b[1;33m\u001b[0m\u001b[0m\n\u001b[1;32m-> 5487\u001b[1;33m         \u001b[1;32mreturn\u001b[0m \u001b[0mobject\u001b[0m\u001b[1;33m.\u001b[0m\u001b[0m__getattribute__\u001b[0m\u001b[1;33m(\u001b[0m\u001b[0mself\u001b[0m\u001b[1;33m,\u001b[0m \u001b[0mname\u001b[0m\u001b[1;33m)\u001b[0m\u001b[1;33m\u001b[0m\u001b[1;33m\u001b[0m\u001b[0m\n\u001b[0m\u001b[0;32m   5488\u001b[0m \u001b[1;33m\u001b[0m\u001b[0m\n\u001b[0;32m   5489\u001b[0m     \u001b[1;32mdef\u001b[0m \u001b[0m__setattr__\u001b[0m\u001b[1;33m(\u001b[0m\u001b[0mself\u001b[0m\u001b[1;33m,\u001b[0m \u001b[0mname\u001b[0m\u001b[1;33m:\u001b[0m \u001b[0mstr\u001b[0m\u001b[1;33m,\u001b[0m \u001b[0mvalue\u001b[0m\u001b[1;33m)\u001b[0m \u001b[1;33m->\u001b[0m \u001b[1;32mNone\u001b[0m\u001b[1;33m:\u001b[0m\u001b[1;33m\u001b[0m\u001b[1;33m\u001b[0m\u001b[0m\n",
      "\u001b[1;31mAttributeError\u001b[0m: 'DataFrame' object has no attribute 'reshape'"
     ]
    }
   ],
   "source": [
    "y_pred = my_model.model.predict(X_test)\n",
    "y_pred = (y_pred > 0.5)\n",
    "print(np.concatenate((y_pred.reshape(len(y_pred),1), y_test.reshape(len(y_test),1)),1))"
   ]
  },
  {
   "cell_type": "code",
   "execution_count": 27,
   "metadata": {
    "colab": {
     "base_uri": "https://localhost:8080/"
    },
    "id": "VGgleoej7gok",
    "outputId": "e907720a-0e47-467e-eed9-1f01da7d6954"
   },
   "outputs": [
    {
     "name": "stdout",
     "output_type": "stream",
     "text": [
      "[[33  3]\n",
      " [20  2]]\n"
     ]
    },
    {
     "data": {
      "text/plain": [
       "0.603448275862069"
      ]
     },
     "execution_count": 27,
     "metadata": {},
     "output_type": "execute_result"
    }
   ],
   "source": [
    "# Asssess the accuracy of your model and explain your key findings\n",
    "# Generate confusion matrix\n",
    "from sklearn.metrics import confusion_matrix, accuracy_score\n",
    "cm = confusion_matrix(y_test, y_pred)\n",
    "print(cm)\n",
    "accuracy_score(y_test, y_pred)"
   ]
  },
  {
   "cell_type": "markdown",
   "metadata": {
    "id": "VDU85k7J7gok"
   },
   "source": [
    "### Unit tests:"
   ]
  },
  {
   "cell_type": "markdown",
   "metadata": {
    "id": "uq2QRpri7gol"
   },
   "source": [
    "#### Checking training and test data for null values. This will work for both pd dataframes and np arrays, and ensures no null values exist."
   ]
  },
  {
   "cell_type": "code",
   "execution_count": 28,
   "metadata": {
    "id": "oUeh38w_7gol"
   },
   "outputs": [],
   "source": [
    "def test_no_nulls(data):\n",
    "    \"\"\" Assert no null values within pd dataframe or np array \"\"\"\n",
    "    \n",
    "    # if data is numpy array, handle accordingly\n",
    "    if isinstance(data, (np.ndarray)):\n",
    "        assert not np.isnan(np.min(data))\n",
    "    \n",
    "    # if not np array, assume data is pandas dataframe\n",
    "    else:\n",
    "        assert data.isna().sum().sum() == 0"
   ]
  },
  {
   "cell_type": "code",
   "execution_count": 29,
   "metadata": {
    "colab": {
     "base_uri": "https://localhost:8080/",
     "height": 200
    },
    "id": "BV9Z1F3i7gom",
    "outputId": "c99db8df-3111-4d63-e2c6-220056f8d2f7"
   },
   "outputs": [],
   "source": [
    "# run null data unit test on both training and test data\n",
    "test_no_nulls(x_train_processed)\n",
    "test_no_nulls(x_test_processed)"
   ]
  },
  {
   "cell_type": "code",
   "execution_count": null,
   "metadata": {},
   "outputs": [],
   "source": []
  }
 ],
 "metadata": {
  "colab": {
   "collapsed_sections": [],
   "include_colab_link": true,
   "name": "Copy of KSVC.ipynb",
   "provenance": []
  },
  "kernelspec": {
   "display_name": "Python 3 (ipykernel)",
   "language": "python",
   "name": "python3"
  },
  "language_info": {
   "codemirror_mode": {
    "name": "ipython",
    "version": 3
   },
   "file_extension": ".py",
   "mimetype": "text/x-python",
   "name": "python",
   "nbconvert_exporter": "python",
   "pygments_lexer": "ipython3",
   "version": "3.9.7"
  }
 },
 "nbformat": 4,
 "nbformat_minor": 1
}
