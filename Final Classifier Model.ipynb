{
  "cells": [
    {
      "cell_type": "markdown",
      "metadata": {
        "id": "view-in-github",
        "colab_type": "text"
      },
      "source": [
        "<a href=\"https://colab.research.google.com/github/StickMonkey615/JHCSMod4/blob/main/Final%20Classifier%20Model.ipynb\" target=\"_parent\"><img src=\"https://colab.research.google.com/assets/colab-badge.svg\" alt=\"Open In Colab\"/></a>"
      ]
    },
    {
      "cell_type": "markdown",
      "metadata": {
        "id": "iRn73TIW7gn9"
      },
      "source": [
        "# Module 4 Guidance\n",
        "\n",
        "This notebook is a template for module 4b and 4c, which will be tested in Google Colab, your code needs to run there.\n",
        "The structure has been provided to improve consistency and make it easier for markers to understand your code but still give students the flexibility to be creative.  You need to populate the required functions to solve this problem.  All dependencies should be documented in the next cell.\n",
        "\n",
        "You can:\n",
        "    add further cells or text blocks to extend or further explain your solution\n",
        "    add further functions\n",
        "\n",
        "Dont:\n",
        "    rename functions\n",
        "   "
      ]
    },
    {
      "cell_type": "code",
      "execution_count": 1,
      "metadata": {
        "colab": {
          "base_uri": "https://localhost:8080/"
        },
        "id": "ZxOsuHxz7goC",
        "outputId": "620932c8-c3d4-4417-9475-51b840e396f7"
      },
      "outputs": [
        {
          "output_type": "stream",
          "name": "stdout",
          "text": [
            "Looking in indexes: https://pypi.org/simple, https://us-python.pkg.dev/colab-wheels/public/simple/\n",
            "Requirement already satisfied: imbalanced-learn in /usr/local/lib/python3.7/dist-packages (0.9.0)\n",
            "Requirement already satisfied: scikit-learn>=1.0.1 in /usr/local/lib/python3.7/dist-packages (from imbalanced-learn) (1.0.2)\n",
            "Requirement already satisfied: numpy>=1.14.6 in /usr/local/lib/python3.7/dist-packages (from imbalanced-learn) (1.21.6)\n",
            "Requirement already satisfied: threadpoolctl>=2.0.0 in /usr/local/lib/python3.7/dist-packages (from imbalanced-learn) (3.1.0)\n",
            "Requirement already satisfied: joblib>=0.11 in /usr/local/lib/python3.7/dist-packages (from imbalanced-learn) (1.1.0)\n",
            "Requirement already satisfied: scipy>=1.1.0 in /usr/local/lib/python3.7/dist-packages (from imbalanced-learn) (1.4.1)\n",
            "Looking in indexes: https://pypi.org/simple, https://us-python.pkg.dev/colab-wheels/public/simple/\n",
            "Requirement already satisfied: imbalanced-learn in /usr/local/lib/python3.7/dist-packages (0.9.0)\n",
            "Collecting imbalanced-learn\n",
            "  Using cached imbalanced_learn-0.9.1-py3-none-any.whl (199 kB)\n",
            "Requirement already satisfied: joblib>=0.11 in /usr/local/lib/python3.7/dist-packages (from imbalanced-learn) (1.1.0)\n",
            "Requirement already satisfied: threadpoolctl>=2.0.0 in /usr/local/lib/python3.7/dist-packages (from imbalanced-learn) (3.1.0)\n",
            "Requirement already satisfied: scikit-learn>=1.0.1 in /usr/local/lib/python3.7/dist-packages (from imbalanced-learn) (1.0.2)\n",
            "Requirement already satisfied: numpy>=1.14.6 in /usr/local/lib/python3.7/dist-packages (from imbalanced-learn) (1.21.6)\n",
            "Requirement already satisfied: scipy>=1.1.0 in /usr/local/lib/python3.7/dist-packages (from imbalanced-learn) (1.4.1)\n"
          ]
        }
      ],
      "source": [
        "# Fixed dependencies - do not remove or change.\n",
        "import pytest\n",
        "import pandas as pd\n",
        "import numpy as np\n",
        "from google.colab import drive\n",
        "# drive.mount('/content/gdrive/')\n",
        "# Import your dependencies\n",
        "!pip install --upgrade xlrd > 1.2.0\n",
        "!pip install imbalanced-learn\n",
        "!pip install --upgrade imbalanced-learn\n",
        "import xlrd\n",
        "import imblearn\n",
        "import matplotlib.pyplot as plt"
      ]
    },
    {
      "cell_type": "code",
      "execution_count": 2,
      "metadata": {
        "id": "1m_gmKQP7goE"
      },
      "outputs": [],
      "source": [
        "# Import data\n",
        "\n",
        "def import_local_data(file_path):\n",
        "    \"\"\"This function needs to import the data file into collab and return a pandas dataframe\n",
        "    \"\"\"\n",
        "    raw_df = pd.read_excel(file_path)\n",
        "    return raw_df"
      ]
    },
    {
      "cell_type": "code",
      "execution_count": 3,
      "metadata": {
        "id": "cIljHljB7goF"
      },
      "outputs": [],
      "source": [
        "local_file_path = \"breast-cancer.xls\""
      ]
    },
    {
      "cell_type": "code",
      "execution_count": 4,
      "metadata": {
        "id": "LCu51H5Z7goF"
      },
      "outputs": [],
      "source": [
        "# Dont change\n",
        "raw_data = import_local_data(local_file_path)"
      ]
    },
    {
      "cell_type": "markdown",
      "metadata": {
        "id": "U9WDYKUP7goG"
      },
      "source": [
        "### Conduct exploratory data analysis and explain your key findings - Examine the data, explain its key features and what they look like.  Highlight any fields that are anomalous."
      ]
    },
    {
      "cell_type": "code",
      "source": [
        "# Look at the different dataframe column headings\n",
        "print(raw_data.columns)"
      ],
      "metadata": {
        "colab": {
          "base_uri": "https://localhost:8080/"
        },
        "id": "HkjdfYHGiz7a",
        "outputId": "690595bd-4ab3-4bea-ec2a-2aa667811e79"
      },
      "execution_count": 5,
      "outputs": [
        {
          "output_type": "stream",
          "name": "stdout",
          "text": [
            "Index(['age', 'menopause', 'tumor-size', 'inv-nodes', 'node-caps', 'deg-malig',\n",
            "       'breast', 'breast-quad', 'irradiat', 'Class'],\n",
            "      dtype='object')\n"
          ]
        }
      ]
    },
    {
      "cell_type": "code",
      "source": [
        "# Determine data types for each column\n",
        "no_col =len(raw_data.columns)\n",
        "for i in range(0, no_col):\n",
        "    print(type(raw_data.values[1][i]))"
      ],
      "metadata": {
        "colab": {
          "base_uri": "https://localhost:8080/"
        },
        "id": "oKqjAI-XigbI",
        "outputId": "ef9a4ad5-f691-4e2c-fb29-2956a3a3ce1c"
      },
      "execution_count": 6,
      "outputs": [
        {
          "output_type": "stream",
          "name": "stdout",
          "text": [
            "<class 'str'>\n",
            "<class 'str'>\n",
            "<class 'str'>\n",
            "<class 'str'>\n",
            "<class 'str'>\n",
            "<class 'int'>\n",
            "<class 'str'>\n",
            "<class 'str'>\n",
            "<class 'str'>\n",
            "<class 'str'>\n"
          ]
        }
      ]
    },
    {
      "cell_type": "code",
      "source": [
        "#Look at the range of values for each field\n",
        "from collections import Counter\n",
        "rng_vals=[]\n",
        "for i in range(0,no_col):\n",
        "    rng_vals.append(Counter(raw_data.iloc[:,i].values))\n",
        "    print(f\"{raw_data.columns[i]}: {rng_vals[i]}\")"
      ],
      "metadata": {
        "id": "-lQUCdTe36Dp",
        "outputId": "2aaefe1a-b7d7-4720-a293-7b15e116a48d",
        "colab": {
          "base_uri": "https://localhost:8080/"
        }
      },
      "execution_count": 7,
      "outputs": [
        {
          "output_type": "stream",
          "name": "stdout",
          "text": [
            "age: Counter({'50-59': 96, '40-49': 90, '60-69': 57, '30-39': 36, '70-79': 6, '20-29': 1})\n",
            "menopause: Counter({'premeno': 150, 'ge40': 129, 'lt40': 7})\n",
            "tumor-size: Counter({'30-34': 60, '25-29': 54, '20-24': 50, '15-19': 30, datetime.datetime(2014, 10, 1, 0, 0): 28, '40-44': 22, '35-39': 19, '0-4': 8, '50-54': 8, datetime.datetime(2019, 9, 5, 0, 0): 4, '45-49': 3})\n",
            "inv-nodes: Counter({'0-2': 213, datetime.datetime(2019, 5, 3, 0, 0): 36, datetime.datetime(2019, 8, 6, 0, 0): 17, datetime.datetime(2019, 11, 9, 0, 0): 10, '15-17': 6, datetime.datetime(2014, 12, 1, 0, 0): 3, '24-26': 1})\n",
            "node-caps: Counter({'no': 222, 'yes': 56, '?': 8})\n",
            "deg-malig: Counter({2: 130, 3: 85, 1: 71})\n",
            "breast: Counter({'left': 152, 'right': 134})\n",
            "breast-quad: Counter({'left_low': 110, 'left_up': 97, 'right_up': 33, 'right_low': 24, 'central': 21, '?': 1})\n",
            "irradiat: Counter({'no': 218, 'yes': 68})\n",
            "Class: Counter({'no-recurrence-events': 201, 'recurrence-events': 85})\n"
          ]
        }
      ]
    },
    {
      "cell_type": "markdown",
      "source": [
        "**All fields look to contain data that is catagorical in nature.**\n",
        "\n",
        "**Some contain data that appears erroneous:**\n",
        " \n",
        "*   **'tumor-size' and 'inv-nodes' appear to contain some data in a datetime format and some in string.**\n",
        "*   **'node-caps' and 'breast-quad' contain Question Marks.**\n",
        "\n",
        "**Need a way to address these erroneous data inputs.**\n",
        "\n"
      ],
      "metadata": {
        "id": "lALFUx2EEQF0"
      }
    },
    {
      "cell_type": "code",
      "source": [
        "# Look in more detail at the columns with datetime data.\n",
        "print(raw_data.iloc[:, 2].values)"
      ],
      "metadata": {
        "colab": {
          "base_uri": "https://localhost:8080/"
        },
        "id": "1IetVwnCr3XI",
        "outputId": "e67f743f-8e35-45df-ff96-14758363aa46"
      },
      "execution_count": 8,
      "outputs": [
        {
          "output_type": "stream",
          "name": "stdout",
          "text": [
            "['15-19' '15-19' '35-39' '35-39' '30-34' '25-29' '40-44'\n",
            " datetime.datetime(2014, 10, 1, 0, 0) '0-4' '40-44' '25-29' '15-19'\n",
            " '30-34' '25-29' '25-29' '20-24' datetime.datetime(2014, 10, 1, 0, 0)\n",
            " '15-19' '40-44' '20-24' '20-24' '40-44' '15-19'\n",
            " datetime.datetime(2014, 10, 1, 0, 0) '15-19' '20-24'\n",
            " datetime.datetime(2014, 10, 1, 0, 0) datetime.datetime(2014, 10, 1, 0, 0)\n",
            " '30-34' '15-19' '30-34' '25-29' '25-29' '20-24' '30-34' '15-19'\n",
            " datetime.datetime(2014, 10, 1, 0, 0) '45-49' '20-24'\n",
            " datetime.datetime(2014, 10, 1, 0, 0) '35-39' '35-39' '25-29' '20-24'\n",
            " '15-19' '30-34' datetime.datetime(2014, 10, 1, 0, 0) '35-39' '50-54'\n",
            " '40-44' '15-19' '30-34' '0-4' '40-44' '25-29' '25-29' '20-24' '35-39'\n",
            " '50-54' '0-4' '40-44' '30-34' '20-24' '30-34' '20-24' '15-19' '25-29'\n",
            " '15-19' '50-54' datetime.datetime(2014, 10, 1, 0, 0) '25-29' '25-29'\n",
            " datetime.datetime(2014, 10, 1, 0, 0) '30-34' '25-29'\n",
            " datetime.datetime(2014, 10, 1, 0, 0) '15-19' '25-29' '25-29' '30-34'\n",
            " '15-19' '25-29' '30-34' '15-19' '0-4' '35-39' '40-44' '25-29' '20-24'\n",
            " '30-34' '20-24' '30-34' '20-24' datetime.datetime(2014, 10, 1, 0, 0)\n",
            " '20-24' '45-49' '40-44' datetime.datetime(2014, 10, 1, 0, 0) '30-34'\n",
            " '35-39' '20-24' '15-19' '30-34' '20-24' '20-24' '30-34' '20-24' '25-29'\n",
            " '30-34' '20-24' '15-19' '30-34' '30-34' '40-44'\n",
            " datetime.datetime(2019, 9, 5, 0, 0) datetime.datetime(2014, 10, 1, 0, 0)\n",
            " '30-34' datetime.datetime(2014, 10, 1, 0, 0) '35-39' '20-24' '30-34'\n",
            " '25-29' '15-19' '35-39' datetime.datetime(2014, 10, 1, 0, 0) '30-34'\n",
            " '30-34' '25-29' '15-19' '15-19' '30-34' '35-39' '30-34' '25-29' '30-34'\n",
            " '15-19' '0-4' '0-4' '50-54' '30-34' '20-24' '25-29' '30-34' '20-24'\n",
            " '15-19' datetime.datetime(2014, 10, 1, 0, 0) '30-34'\n",
            " datetime.datetime(2014, 10, 1, 0, 0) '40-44' '30-34' '50-54' '15-19'\n",
            " '40-44' '25-29' datetime.datetime(2014, 10, 1, 0, 0)\n",
            " datetime.datetime(2014, 10, 1, 0, 0) '30-34' '20-24'\n",
            " datetime.datetime(2014, 10, 1, 0, 0) '25-29' '25-29' '30-34' '50-54'\n",
            " '30-34' '20-24' '30-34' '25-29' '20-24' '20-24' '50-54' '20-24' '30-34'\n",
            " '25-29' '25-29' '40-44' '20-24' '20-24' '25-29' '25-29' '20-24' '40-44'\n",
            " datetime.datetime(2014, 10, 1, 0, 0) '35-39' '30-34'\n",
            " datetime.datetime(2019, 9, 5, 0, 0) '15-19' '30-34' '25-29'\n",
            " datetime.datetime(2019, 9, 5, 0, 0) '25-29' '25-29'\n",
            " datetime.datetime(2014, 10, 1, 0, 0) '35-39' '50-54' '25-29' '20-24'\n",
            " '30-34' '30-34' '15-19' '20-24' datetime.datetime(2019, 9, 5, 0, 0)\n",
            " '30-34' '30-34' '25-29' '25-29' '40-44' '25-29' '30-34' '30-34' '25-29'\n",
            " '25-29' '40-44' '20-24' '25-29' '20-24' '40-44' '25-29' '25-29' '45-49'\n",
            " '20-24' '25-29' '20-24' '20-24' '35-39' '20-24' '30-34' '25-29' '30-34'\n",
            " '25-29' '20-24' '20-24' datetime.datetime(2014, 10, 1, 0, 0) '15-19'\n",
            " '25-29' '20-24' '40-44' '15-19' '30-34' '30-34' '40-44' '30-34'\n",
            " datetime.datetime(2014, 10, 1, 0, 0) '40-44' '30-34' '30-34' '15-19'\n",
            " datetime.datetime(2014, 10, 1, 0, 0) '20-24'\n",
            " datetime.datetime(2014, 10, 1, 0, 0) '25-29' '30-34'\n",
            " datetime.datetime(2014, 10, 1, 0, 0) '30-34' '0-4' '25-29' '25-29'\n",
            " '40-44' '25-29' '30-34' '20-24' '20-24' '25-29' '30-34' '20-24' '30-34'\n",
            " '0-4' '20-24' '35-39' '30-34' '20-24' '25-29' '35-39' '20-24' '20-24'\n",
            " '35-39' '35-39' '25-29' '35-39' '30-34' '20-24' '15-19' '30-34' '25-29'\n",
            " '30-34' '15-19' '40-44']\n"
          ]
        }
      ]
    },
    {
      "cell_type": "markdown",
      "source": [
        "Although stored as integers, it can only hold 3 possible values and so can be viewed as catagorical data"
      ],
      "metadata": {
        "id": "WYms41f_wJ6M"
      }
    },
    {
      "cell_type": "code",
      "source": [
        "# Look at output data\n",
        "print(raw_data.iloc[:, -1].values)"
      ],
      "metadata": {
        "colab": {
          "base_uri": "https://localhost:8080/"
        },
        "id": "3HePUlhNvfWF",
        "outputId": "6e11d315-5db5-4fe8-ce0c-45912c4801b7"
      },
      "execution_count": 9,
      "outputs": [
        {
          "output_type": "stream",
          "name": "stdout",
          "text": [
            "['recurrence-events' 'no-recurrence-events' 'recurrence-events'\n",
            " 'no-recurrence-events' 'recurrence-events' 'no-recurrence-events'\n",
            " 'no-recurrence-events' 'no-recurrence-events' 'no-recurrence-events'\n",
            " 'no-recurrence-events' 'no-recurrence-events' 'no-recurrence-events'\n",
            " 'no-recurrence-events' 'no-recurrence-events' 'recurrence-events'\n",
            " 'no-recurrence-events' 'no-recurrence-events' 'no-recurrence-events'\n",
            " 'no-recurrence-events' 'no-recurrence-events' 'recurrence-events'\n",
            " 'no-recurrence-events' 'no-recurrence-events' 'no-recurrence-events'\n",
            " 'recurrence-events' 'no-recurrence-events' 'no-recurrence-events'\n",
            " 'no-recurrence-events' 'no-recurrence-events' 'recurrence-events'\n",
            " 'recurrence-events' 'no-recurrence-events' 'no-recurrence-events'\n",
            " 'no-recurrence-events' 'recurrence-events' 'no-recurrence-events'\n",
            " 'no-recurrence-events' 'no-recurrence-events' 'no-recurrence-events'\n",
            " 'no-recurrence-events' 'recurrence-events' 'no-recurrence-events'\n",
            " 'no-recurrence-events' 'recurrence-events' 'no-recurrence-events'\n",
            " 'recurrence-events' 'no-recurrence-events' 'no-recurrence-events'\n",
            " 'no-recurrence-events' 'no-recurrence-events' 'recurrence-events'\n",
            " 'no-recurrence-events' 'no-recurrence-events' 'no-recurrence-events'\n",
            " 'no-recurrence-events' 'no-recurrence-events' 'no-recurrence-events'\n",
            " 'no-recurrence-events' 'no-recurrence-events' 'recurrence-events'\n",
            " 'recurrence-events' 'no-recurrence-events' 'no-recurrence-events'\n",
            " 'recurrence-events' 'recurrence-events' 'no-recurrence-events'\n",
            " 'no-recurrence-events' 'no-recurrence-events' 'recurrence-events'\n",
            " 'no-recurrence-events' 'recurrence-events' 'no-recurrence-events'\n",
            " 'no-recurrence-events' 'recurrence-events' 'recurrence-events'\n",
            " 'no-recurrence-events' 'no-recurrence-events' 'no-recurrence-events'\n",
            " 'recurrence-events' 'no-recurrence-events' 'no-recurrence-events'\n",
            " 'no-recurrence-events' 'no-recurrence-events' 'no-recurrence-events'\n",
            " 'no-recurrence-events' 'no-recurrence-events' 'no-recurrence-events'\n",
            " 'no-recurrence-events' 'no-recurrence-events' 'no-recurrence-events'\n",
            " 'recurrence-events' 'recurrence-events' 'recurrence-events'\n",
            " 'no-recurrence-events' 'no-recurrence-events' 'no-recurrence-events'\n",
            " 'recurrence-events' 'no-recurrence-events' 'recurrence-events'\n",
            " 'recurrence-events' 'recurrence-events' 'recurrence-events'\n",
            " 'no-recurrence-events' 'no-recurrence-events' 'no-recurrence-events'\n",
            " 'recurrence-events' 'recurrence-events' 'recurrence-events'\n",
            " 'no-recurrence-events' 'no-recurrence-events' 'no-recurrence-events'\n",
            " 'no-recurrence-events' 'no-recurrence-events' 'no-recurrence-events'\n",
            " 'no-recurrence-events' 'no-recurrence-events' 'recurrence-events'\n",
            " 'no-recurrence-events' 'no-recurrence-events' 'no-recurrence-events'\n",
            " 'recurrence-events' 'no-recurrence-events' 'no-recurrence-events'\n",
            " 'recurrence-events' 'no-recurrence-events' 'no-recurrence-events'\n",
            " 'no-recurrence-events' 'no-recurrence-events' 'recurrence-events'\n",
            " 'no-recurrence-events' 'no-recurrence-events' 'no-recurrence-events'\n",
            " 'recurrence-events' 'recurrence-events' 'no-recurrence-events'\n",
            " 'recurrence-events' 'no-recurrence-events' 'no-recurrence-events'\n",
            " 'recurrence-events' 'no-recurrence-events' 'recurrence-events'\n",
            " 'no-recurrence-events' 'recurrence-events' 'no-recurrence-events'\n",
            " 'no-recurrence-events' 'no-recurrence-events' 'recurrence-events'\n",
            " 'no-recurrence-events' 'no-recurrence-events' 'no-recurrence-events'\n",
            " 'recurrence-events' 'no-recurrence-events' 'no-recurrence-events'\n",
            " 'recurrence-events' 'no-recurrence-events' 'no-recurrence-events'\n",
            " 'recurrence-events' 'recurrence-events' 'no-recurrence-events'\n",
            " 'no-recurrence-events' 'no-recurrence-events' 'no-recurrence-events'\n",
            " 'no-recurrence-events' 'no-recurrence-events' 'recurrence-events'\n",
            " 'recurrence-events' 'recurrence-events' 'no-recurrence-events'\n",
            " 'no-recurrence-events' 'no-recurrence-events' 'recurrence-events'\n",
            " 'recurrence-events' 'no-recurrence-events' 'recurrence-events'\n",
            " 'no-recurrence-events' 'no-recurrence-events' 'no-recurrence-events'\n",
            " 'recurrence-events' 'recurrence-events' 'no-recurrence-events'\n",
            " 'no-recurrence-events' 'recurrence-events' 'no-recurrence-events'\n",
            " 'recurrence-events' 'no-recurrence-events' 'no-recurrence-events'\n",
            " 'no-recurrence-events' 'recurrence-events' 'no-recurrence-events'\n",
            " 'no-recurrence-events' 'recurrence-events' 'no-recurrence-events'\n",
            " 'recurrence-events' 'no-recurrence-events' 'no-recurrence-events'\n",
            " 'no-recurrence-events' 'recurrence-events' 'no-recurrence-events'\n",
            " 'no-recurrence-events' 'recurrence-events' 'no-recurrence-events'\n",
            " 'no-recurrence-events' 'no-recurrence-events' 'no-recurrence-events'\n",
            " 'no-recurrence-events' 'recurrence-events' 'no-recurrence-events'\n",
            " 'recurrence-events' 'recurrence-events' 'no-recurrence-events'\n",
            " 'recurrence-events' 'recurrence-events' 'no-recurrence-events'\n",
            " 'no-recurrence-events' 'no-recurrence-events' 'no-recurrence-events'\n",
            " 'recurrence-events' 'no-recurrence-events' 'recurrence-events'\n",
            " 'no-recurrence-events' 'no-recurrence-events' 'no-recurrence-events'\n",
            " 'no-recurrence-events' 'no-recurrence-events' 'recurrence-events'\n",
            " 'no-recurrence-events' 'no-recurrence-events' 'no-recurrence-events'\n",
            " 'no-recurrence-events' 'recurrence-events' 'no-recurrence-events'\n",
            " 'no-recurrence-events' 'no-recurrence-events' 'no-recurrence-events'\n",
            " 'no-recurrence-events' 'recurrence-events' 'no-recurrence-events'\n",
            " 'recurrence-events' 'recurrence-events' 'recurrence-events'\n",
            " 'recurrence-events' 'no-recurrence-events' 'no-recurrence-events'\n",
            " 'no-recurrence-events' 'no-recurrence-events' 'no-recurrence-events'\n",
            " 'no-recurrence-events' 'no-recurrence-events' 'no-recurrence-events'\n",
            " 'no-recurrence-events' 'recurrence-events' 'no-recurrence-events'\n",
            " 'no-recurrence-events' 'no-recurrence-events' 'no-recurrence-events'\n",
            " 'recurrence-events' 'no-recurrence-events' 'recurrence-events'\n",
            " 'no-recurrence-events' 'recurrence-events' 'no-recurrence-events'\n",
            " 'no-recurrence-events' 'no-recurrence-events' 'recurrence-events'\n",
            " 'no-recurrence-events' 'no-recurrence-events' 'no-recurrence-events'\n",
            " 'recurrence-events' 'no-recurrence-events' 'no-recurrence-events'\n",
            " 'recurrence-events' 'recurrence-events' 'no-recurrence-events'\n",
            " 'no-recurrence-events' 'no-recurrence-events' 'no-recurrence-events'\n",
            " 'no-recurrence-events' 'no-recurrence-events' 'no-recurrence-events'\n",
            " 'no-recurrence-events' 'no-recurrence-events' 'no-recurrence-events'\n",
            " 'no-recurrence-events' 'no-recurrence-events' 'no-recurrence-events'\n",
            " 'no-recurrence-events']\n"
          ]
        }
      ]
    },
    {
      "cell_type": "markdown",
      "source": [
        "Only 2 possible outputs, thus needs converting to binary format for use in classifier models."
      ],
      "metadata": {
        "id": "bkV5bQKKwYHj"
      }
    },
    {
      "cell_type": "code",
      "execution_count": 10,
      "metadata": {
        "id": "KMB3eKfC7goU",
        "colab": {
          "base_uri": "https://localhost:8080/"
        },
        "outputId": "35e5511e-6ef9-49f4-9cb1-051c36736c75"
      },
      "outputs": [
        {
          "output_type": "stream",
          "name": "stdout",
          "text": [
            "0.2972027972027972\n"
          ]
        }
      ],
      "source": [
        "# Check output balance\n",
        "out = raw_data.iloc[:, -1].values\n",
        "no_rows = len(raw_data)\n",
        "\n",
        "from sklearn.preprocessing import LabelEncoder\n",
        "le = LabelEncoder()\n",
        "code_rows = le.fit_transform(out)\n",
        "print(sum(code_rows)/no_rows) "
      ]
    },
    {
      "cell_type": "markdown",
      "source": [
        "Clear imbalance between output data. Some degree of bias/weighting/sampling will be required to ensure that results accurately predict outcomes for both True and False outcomes."
      ],
      "metadata": {
        "id": "mMo9-0hTwirc"
      }
    },
    {
      "cell_type": "code",
      "execution_count": 11,
      "metadata": {
        "id": "f02MTYgB7goW"
      },
      "outputs": [],
      "source": [
        "# Explain your key findings"
      ]
    },
    {
      "cell_type": "markdown",
      "source": [
        "**Data set is made up of 9 independent variables all of which appear catagorical in nature. Although stored as an integer, 'deg-malig' can be viewed as  catagorical data as it can only contain 3 discrete values.**\n",
        "\n",
        "**The inclusion of datetime data entries in both the 'tumor-size' and 'inv-nodes' fields appears to be caused by a formatting entry within Excel. For example, '10-14' being input erroneously as 10/14 thus Excel has interpreted (and converted) it to the datetime field 01/10/2014. A function will need to be written within the model to convert these back to correct format.**\n",
        "\n",
        "**How to deal with '?' entries in fields that are otherwise boolean poses an interesting dilemma. If these are infact meant to signify that the presence is unknown because no diagnostic work has been conducted, then this woiuld signify a valid dat entry. If it is however just an incomplete data entry then there is a risk its inclusion could skew the model results. Without knowing which it seems wisest to remove this data from the dataset. Removal of the entire field could well deprive the model of important information, thus just removing these specific entries (rows) appears the most sensible option, particularly noting that there are relatively few occurences.**\n",
        "\n",
        "**Data set is imbalanced, with dependent variable outputs only True in 30% of instances. The model applied will require this imbalance to be taken into account so as not to sacrifice results predicting this smaller class (surely the aim of cancer diagnosis) so as to achieve a high accuracy figure.**\n",
        "\n",
        "**Output variable will need converting into binary output for use with a binary classification model.**"
      ],
      "metadata": {
        "id": "V7OWyLcOrgWJ"
      }
    },
    {
      "cell_type": "code",
      "source": [
        ""
      ],
      "metadata": {
        "id": "OK28_iB2wDzX"
      },
      "execution_count": 11,
      "outputs": []
    },
    {
      "cell_type": "markdown",
      "metadata": {
        "id": "SzZj8I8G7goX"
      },
      "source": [
        "Create any data pre-processing that you will conduct on seen and unseen data.  Regardless of the model you use, this dataframe must contain only numeric features and have a strategy for any expected missing values. Any objects can that are needed to handle the test data that are dependent on the training data can be stored in the model class.  You are recommended to use sklearn Pipelines or similar functionality to ensure reproducibility."
      ]
    },
    {
      "cell_type": "code",
      "execution_count": 11,
      "metadata": {
        "id": "mcmJMdW9D9Rm"
      },
      "outputs": [],
      "source": [
        ""
      ]
    },
    {
      "cell_type": "code",
      "execution_count": 15,
      "metadata": {
        "id": "Xsq2f8747goZ"
      },
      "outputs": [],
      "source": [
        "class Module4_Model:\n",
        "    \n",
        "    def __init__(self):\n",
        "        self.model = None\n",
        "\n",
        "    def process_dataframe(sel, unproc_data):\n",
        "        '''\n",
        "        '''\n",
        "        # Remove non-categorical data\n",
        "        dm = unproc_data.pop('deg-malig')\n",
        "\n",
        "        # Deal with ? entries\n",
        "\n",
        "        # Encode the catagorical data (dummy variables)\n",
        "        proc_data = pd.get_dummies(data=unproc_data, prefix_sep='_', drop_first=False)\n",
        "    \n",
        "        # Add back in non-categorical data\n",
        "        proc_data.insert(0, 'deg-malig', dm)\n",
        "    \n",
        "        return proc_data\n",
        "    \n",
        "    def reformat_dates(self, data):\n",
        "        ''' \n",
        "        Function to reformat datetime data entries in 'tumor-size' and \n",
        "        'inv-nodes' fields back into the string format expected.\n",
        "        '''\n",
        "        # Correct date types in 'tumor-size' and 'inv-nodes' variables\n",
        "        for i in range(0, len(data)):\n",
        "            if type(data['tumor-size'][i]) is not str:\n",
        "                if data['tumor-size'][i].day == 1:\n",
        "                    data['tumor-size'][i] = str(data['tumor-size'][i].month) +'-' + str(data['tumor-size'][i].year-2000)\n",
        "                else:\n",
        "                    data['tumor-size'][i] = str(data['tumor-size'][i].day) + '-' + str(data['tumor-size'][i].month)\n",
        "            if type(data['inv-nodes'][i]) is not str:\n",
        "                if data['inv-nodes'][i].day == 1:\n",
        "                    data['inv-nodes'][i] = str(data['inv-nodes'][i].month) + '-' + str(data['inv-nodes'][i].year-2000)\n",
        "                else:\n",
        "                    data['inv-nodes'][i] = str(data['inv-nodes'][i].day) + '-' + str(data['inv-nodes'][i].month)\n",
        "        \n",
        "        return data\n",
        "\n",
        "    def preprocess_training_data(self, training_df):\n",
        "        \"\"\"\n",
        "        This function should process the training data and store any features required in the class\n",
        "        \"\"\"\n",
        "        # Apply feature scaling\n",
        "        from sklearn.preprocessing import StandardScaler\n",
        "        sc = StandardScaler()\n",
        "        processed_df = sc.fit_transform(training_df)\n",
        "        return processed_df\n",
        "\n",
        "    def preprocess_test_data(self, test_df):\n",
        "\n",
        "        # Apply feature scaling\n",
        "        from sklearn.preprocessing import StandardScaler\n",
        "        sc = StandardScaler()\n",
        "        processed_df = sc.fit_transform(test_df)\n",
        "        return processed_df\n",
        "\n"
      ]
    },
    {
      "cell_type": "code",
      "execution_count": 16,
      "metadata": {
        "id": "F3LiNNCb7goa"
      },
      "outputs": [],
      "source": [
        "# Dont change\n",
        "my_model = Module4_Model()\n",
        "# reformat date fields into string\n",
        "raw_data_date = my_model.reformat_dates(raw_data)\n",
        "\n",
        "# clean up data and create dataframe of only catagocial numeric data\n",
        "clean_data = my_model.process_dataframe(raw_data_date)"
      ]
    },
    {
      "cell_type": "code",
      "source": [
        "print(clean_data.columns)"
      ],
      "metadata": {
        "id": "d6BIc1X8IDcD",
        "outputId": "cecd8764-bdf3-44bf-b87d-177f875972e6",
        "colab": {
          "base_uri": "https://localhost:8080/"
        }
      },
      "execution_count": 18,
      "outputs": [
        {
          "output_type": "stream",
          "name": "stdout",
          "text": [
            "Index(['deg-malig', 'age_20-29', 'age_30-39', 'age_40-49', 'age_50-59',\n",
            "       'age_60-69', 'age_70-79', 'menopause_ge40', 'menopause_lt40',\n",
            "       'menopause_premeno', 'tumor-size_0-4', 'tumor-size_10-14',\n",
            "       'tumor-size_15-19', 'tumor-size_20-24', 'tumor-size_25-29',\n",
            "       'tumor-size_30-34', 'tumor-size_35-39', 'tumor-size_40-44',\n",
            "       'tumor-size_45-49', 'tumor-size_5-9', 'tumor-size_50-54',\n",
            "       'inv-nodes_0-2', 'inv-nodes_12-14', 'inv-nodes_15-17',\n",
            "       'inv-nodes_24-26', 'inv-nodes_3-5', 'inv-nodes_6-8', 'inv-nodes_9-11',\n",
            "       'node-caps_?', 'node-caps_no', 'node-caps_yes', 'breast_left',\n",
            "       'breast_right', 'breast-quad_?', 'breast-quad_central',\n",
            "       'breast-quad_left_low', 'breast-quad_left_up', 'breast-quad_right_low',\n",
            "       'breast-quad_right_up', 'irradiat_no', 'irradiat_yes',\n",
            "       'Class_no-recurrence-events', 'Class_recurrence-events'],\n",
            "      dtype='object')\n"
          ]
        }
      ]
    },
    {
      "cell_type": "code",
      "execution_count": 14,
      "metadata": {
        "id": "WIh9_0pp7goY"
      },
      "outputs": [],
      "source": [
        "# Split your data so that you can test the effectiveness of your model\n",
        "# Split the data into a Training set and a Test set\n",
        "dfs = np.split(clean_data, [len(clean_data.columns)-1], axis=1)\n",
        "X = dfs[0]\n",
        "y = dfs[1]\n",
        "#X = raw_data.iloc[:, :-1].values\n",
        "#y = raw_data.iloc[:, -1].values\n",
        "from sklearn.model_selection import train_test_split\n",
        "X_train, X_test, y_train, y_test = train_test_split(X, y, test_size = 0.25, random_state = 1)"
      ]
    },
    {
      "cell_type": "code",
      "execution_count": 15,
      "metadata": {
        "id": "ZQD7WPdN7god"
      },
      "outputs": [],
      "source": [
        "# Dont change\n",
        "x_train_processed = my_model.preprocess_training_data(X_train)"
      ]
    },
    {
      "cell_type": "code",
      "execution_count": 50,
      "metadata": {
        "id": "AbOQACY77goY"
      },
      "outputs": [],
      "source": [
        "# Populate preprocess_training_data and preprocess_test_data to preprocess data.\n",
        "# You must process test and train separately so your model does not accidently gain information that a model wouldnt have in reality and therefore get better predictions\n"
      ]
    },
    {
      "cell_type": "code",
      "execution_count": 16,
      "metadata": {
        "id": "rQwUj4lk7goe"
      },
      "outputs": [],
      "source": [
        "# Dont change\n",
        "x_test_processed = my_model.preprocess_test_data(X_test)"
      ]
    },
    {
      "cell_type": "code",
      "execution_count": 52,
      "metadata": {
        "id": "XnLHgaXS7goe"
      },
      "outputs": [],
      "source": [
        "# Create a model\n",
        "from sklearn.ensemble import RandomForestClassifier\n",
        "from imblearn.ensemble import EasyEnsembleClassifier\n",
        "classifier = EasyEnsembleClassifier(n_estimators=10,\n",
        "                                    base_estimator=RandomForestClassifier(n_estimators=100,\n",
        "                                                                          criterion='entropy',\n",
        "                                                                          class_weight='balanced_subsample'))"
      ]
    },
    {
      "cell_type": "code",
      "execution_count": 52,
      "metadata": {
        "id": "Qr5QOWyc7goe"
      },
      "outputs": [],
      "source": [
        ""
      ]
    },
    {
      "cell_type": "code",
      "execution_count": 53,
      "metadata": {
        "colab": {
          "base_uri": "https://localhost:8080/"
        },
        "id": "EqEGqaAA7goi",
        "outputId": "addfe509-d176-4f93-8518-72d6bd4d4c63"
      },
      "outputs": [
        {
          "output_type": "stream",
          "name": "stderr",
          "text": [
            "/usr/local/lib/python3.7/dist-packages/sklearn/ensemble/_bagging.py:719: DataConversionWarning: A column-vector y was passed when a 1d array was expected. Please change the shape of y to (n_samples, ), for example using ravel().\n",
            "  y = column_or_1d(y, warn=True)\n"
          ]
        },
        {
          "output_type": "execute_result",
          "data": {
            "text/plain": [
              "EasyEnsembleClassifier(base_estimator=RandomForestClassifier(class_weight='balanced_subsample',\n",
              "                                                             criterion='entropy'))"
            ]
          },
          "metadata": {},
          "execution_count": 53
        }
      ],
      "source": [
        "# Train your model\n",
        "classifier.fit(x_train_processed, y_train)"
      ]
    },
    {
      "cell_type": "code",
      "execution_count": 54,
      "metadata": {
        "id": "kwOiqNee7goj"
      },
      "outputs": [],
      "source": [
        "# use your model to make a prediction on unseen data\n",
        "y_pred = classifier.predict(x_test_processed)"
      ]
    },
    {
      "cell_type": "code",
      "execution_count": 55,
      "metadata": {
        "colab": {
          "base_uri": "https://localhost:8080/",
          "height": 383
        },
        "id": "VGgleoej7gok",
        "outputId": "46e7489d-7794-4bda-ddbd-9a987b4bff76"
      },
      "outputs": [
        {
          "output_type": "stream",
          "name": "stdout",
          "text": [
            "Accuracy: 69.44 %\n",
            "Weighted ROC AUC accuracy: 70.04 %\n",
            "Confusion matrix:\n"
          ]
        },
        {
          "output_type": "display_data",
          "data": {
            "text/plain": [
              "<Figure size 432x288 with 2 Axes>"
            ],
            "image/png": "[encoded data removed]"
          },
          "metadata": {
            "needs_background": "light"
          }
        },
        {
          "output_type": "stream",
          "name": "stdout",
          "text": [
            "K-fold cross validation results\n",
            "Accuracy: 65.35 %\n",
            "Standard Deviation: 9.95 %\n"
          ]
        }
      ],
      "source": [
        "# Asssess the accuracy of your model and explain your key findings\n",
        "# Generate confusion matrix\n",
        "from sklearn.metrics import confusion_matrix, accuracy_score, balanced_accuracy_score, roc_auc_score, ConfusionMatrixDisplay\n",
        "cm = confusion_matrix(y_test, y_pred, labels=classifier.classes_)\n",
        "print(\"Accuracy: {:.2f} %\".format(accuracy_score(y_test, y_pred)*100))\n",
        "print(\"Weighted ROC AUC accuracy: {:.2f} %\".format(roc_auc_score(y_test, y_pred, average='weighted')*100))\n",
        "print(\"Confusion matrix:\")\n",
        "disp = ConfusionMatrixDisplay(cm, display_labels=classifier.classes_)\n",
        "disp.plot()\n",
        "plt.show()\n",
        "\n",
        "# Apply k-fold Cross Validation\n",
        "from sklearn.model_selection import cross_val_score\n",
        "from numpy import ravel\n",
        "accuracies = cross_val_score(estimator = classifier, X = x_train_processed, y = ravel(y_train.values), scoring = 'roc_auc_ovo', cv = 10)\n",
        "print(\"K-fold cross validation results\")\n",
        "print(\"Accuracy: {:.2f} %\".format(accuracies.mean()*100))\n",
        "print(\"Standard Deviation: {:.2f} %\".format(accuracies.std()*100))"
      ]
    },
    {
      "cell_type": "markdown",
      "source": [
        "**Model is approx 65-70% accurate at predicting whether cancer recurrence will occur.**\n",
        "\n",
        "**Crucially, the proportion of False Negatives is low (<20%). In cancer diagnosis these are the outcomes that we want to minimise. False Positives, whilst undesirable, will likely lead to further diagnostic testing before it is realised that cancer is not present.**"
      ],
      "metadata": {
        "id": "UMNN4P_E07L6"
      }
    },
    {
      "cell_type": "markdown",
      "metadata": {
        "id": "VDU85k7J7gok"
      },
      "source": [
        "### Unit tests:"
      ]
    },
    {
      "cell_type": "markdown",
      "metadata": {
        "id": "uq2QRpri7gol"
      },
      "source": [
        "###Checking training and test data for null values. This will work for both pd dataframes and np arrays, and ensures no null values exist."
      ]
    },
    {
      "cell_type": "code",
      "execution_count": 56,
      "metadata": {
        "id": "oUeh38w_7gol"
      },
      "outputs": [],
      "source": [
        "def test_no_nulls(data):\n",
        "    \"\"\" Assert no null values within pd dataframe or np array \"\"\"\n",
        "    \n",
        "    # if data is numpy array, handle accordingly\n",
        "    if isinstance(data, (np.ndarray)):\n",
        "        assert not np.isnan(np.min(data))\n",
        "    \n",
        "    # if not np array, assume data is pandas dataframe\n",
        "    else:\n",
        "        assert data.isna().sum().sum() == 0"
      ]
    },
    {
      "cell_type": "code",
      "execution_count": 57,
      "metadata": {
        "id": "BV9Z1F3i7gom"
      },
      "outputs": [],
      "source": [
        "# run null data unit test on both training and test data\n",
        "test_no_nulls(x_train_processed)\n",
        "test_no_nulls(x_test_processed)"
      ]
    }
  ],
  "metadata": {
    "colab": {
      "collapsed_sections": [],
      "name": "Copy of KSVC.ipynb",
      "provenance": [],
      "include_colab_link": true
    },
    "kernelspec": {
      "display_name": "Python 3 (ipykernel)",
      "language": "python",
      "name": "python3"
    },
    "language_info": {
      "codemirror_mode": {
        "name": "ipython",
        "version": 3
      },
      "file_extension": ".py",
      "mimetype": "text/x-python",
      "name": "python",
      "nbconvert_exporter": "python",
      "pygments_lexer": "ipython3",
      "version": "3.9.7"
    }
  },
  "nbformat": 4,
  "nbformat_minor": 0
}