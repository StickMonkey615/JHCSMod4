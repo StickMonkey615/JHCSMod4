{
  "cells": [
    {
      "cell_type": "markdown",
      "metadata": {
        "id": "view-in-github",
        "colab_type": "text"
      },
      "source": [
        "<a href=\"https://colab.research.google.com/github/StickMonkey615/JHCSMod4/blob/main/Final%20Classifier%20Model.ipynb\" target=\"_parent\"><img src=\"https://colab.research.google.com/assets/colab-badge.svg\" alt=\"Open In Colab\"/></a>"
      ]
    },
    {
      "cell_type": "markdown",
      "metadata": {
        "id": "iRn73TIW7gn9"
      },
      "source": [
        "# Module 4 Guidance\n",
        "\n",
        "This notebook is a template for module 4b and 4c, which will be tested in Google Colab, your code needs to run there.\n",
        "The structure has been provided to improve consistency and make it easier for markers to understand your code but still give students the flexibility to be creative.  You need to populate the required functions to solve this problem.  All dependencies should be documented in the next cell.\n",
        "\n",
        "You can:\n",
        "    add further cells or text blocks to extend or further explain your solution\n",
        "    add further functions\n",
        "\n",
        "Dont:\n",
        "    rename functions\n",
        "   "
      ]
    },
    {
      "cell_type": "code",
      "execution_count": 1,
      "metadata": {
        "colab": {
          "base_uri": "https://localhost:8080/"
        },
        "id": "ZxOsuHxz7goC",
        "outputId": "bef6276e-ed0d-4b5e-d062-28a289490c4d"
      },
      "outputs": [
        {
          "output_type": "stream",
          "name": "stdout",
          "text": [
            "Looking in indexes: https://pypi.org/simple, https://us-python.pkg.dev/colab-wheels/public/simple/\n",
            "Requirement already satisfied: imbalanced-learn in /usr/local/lib/python3.7/dist-packages (0.9.0)\n",
            "Requirement already satisfied: scikit-learn>=1.0.1 in /usr/local/lib/python3.7/dist-packages (from imbalanced-learn) (1.0.2)\n",
            "Requirement already satisfied: threadpoolctl>=2.0.0 in /usr/local/lib/python3.7/dist-packages (from imbalanced-learn) (3.1.0)\n",
            "Requirement already satisfied: joblib>=0.11 in /usr/local/lib/python3.7/dist-packages (from imbalanced-learn) (1.1.0)\n",
            "Requirement already satisfied: numpy>=1.14.6 in /usr/local/lib/python3.7/dist-packages (from imbalanced-learn) (1.21.6)\n",
            "Requirement already satisfied: scipy>=1.1.0 in /usr/local/lib/python3.7/dist-packages (from imbalanced-learn) (1.4.1)\n",
            "Looking in indexes: https://pypi.org/simple, https://us-python.pkg.dev/colab-wheels/public/simple/\n",
            "Requirement already satisfied: imbalanced-learn in /usr/local/lib/python3.7/dist-packages (0.9.0)\n",
            "Collecting imbalanced-learn\n",
            "  Using cached imbalanced_learn-0.9.1-py3-none-any.whl (199 kB)\n",
            "Requirement already satisfied: threadpoolctl>=2.0.0 in /usr/local/lib/python3.7/dist-packages (from imbalanced-learn) (3.1.0)\n",
            "Requirement already satisfied: scipy>=1.3.2 in /usr/local/lib/python3.7/dist-packages (from imbalanced-learn) (1.4.1)\n",
            "Requirement already satisfied: joblib>=1.0.0 in /usr/local/lib/python3.7/dist-packages (from imbalanced-learn) (1.1.0)\n",
            "Requirement already satisfied: numpy>=1.14.6 in /usr/local/lib/python3.7/dist-packages (from imbalanced-learn) (1.21.6)\n",
            "Requirement already satisfied: scikit-learn>=1.0.1 in /usr/local/lib/python3.7/dist-packages (from imbalanced-learn) (1.0.2)\n"
          ]
        }
      ],
      "source": [
        "# Fixed dependencies - do not remove or change.\n",
        "import pytest\n",
        "import pandas as pd\n",
        "import numpy as np\n",
        "from google.colab import drive\n",
        "# drive.mount('/content/gdrive/')\n",
        "# Import your dependencies\n",
        "!pip install --upgrade xlrd > 1.2.0\n",
        "!pip install imbalanced-learn\n",
        "!pip install --upgrade imbalanced-learn\n",
        "import xlrd\n",
        "import imblearn\n",
        "import matplotlib.pyplot as plt"
      ]
    },
    {
      "cell_type": "code",
      "execution_count": 2,
      "metadata": {
        "id": "1m_gmKQP7goE"
      },
      "outputs": [],
      "source": [
        "# Import data\n",
        "\n",
        "def import_local_data(file_path):\n",
        "    \"\"\"This function needs to import the data file into collab and return a pandas dataframe\n",
        "    \"\"\"\n",
        "    raw_df = pd.read_excel(file_path)\n",
        "    return raw_df"
      ]
    },
    {
      "cell_type": "code",
      "execution_count": 3,
      "metadata": {
        "id": "cIljHljB7goF"
      },
      "outputs": [],
      "source": [
        "local_file_path = \"breast-cancer.xls\""
      ]
    },
    {
      "cell_type": "code",
      "execution_count": 4,
      "metadata": {
        "id": "LCu51H5Z7goF"
      },
      "outputs": [],
      "source": [
        "# Dont change\n",
        "raw_data = import_local_data(local_file_path)"
      ]
    },
    {
      "cell_type": "markdown",
      "metadata": {
        "id": "U9WDYKUP7goG"
      },
      "source": [
        "### Conduct exploratory data analysis and explain your key findings - Examine the data, explain its key features and what they look like.  Highlight any fields that are anomalous."
      ]
    },
    {
      "cell_type": "code",
      "source": [
        "# Look at the different dataframe column headings\n",
        "print(raw_data.columns)"
      ],
      "metadata": {
        "id": "HkjdfYHGiz7a",
        "outputId": "ee20b7fe-e116-4dfc-ac95-43273c0ff245",
        "colab": {
          "base_uri": "https://localhost:8080/"
        }
      },
      "execution_count": 5,
      "outputs": [
        {
          "output_type": "stream",
          "name": "stdout",
          "text": [
            "Index(['age', 'menopause', 'tumor-size', 'inv-nodes', 'node-caps', 'deg-malig',\n",
            "       'breast', 'breast-quad', 'irradiat', 'Class'],\n",
            "      dtype='object')\n"
          ]
        }
      ]
    },
    {
      "cell_type": "code",
      "source": [
        "# Determine data types for each column\n",
        "no_col =len(raw_data.columns)\n",
        "for i in range(0, no_col):\n",
        "    print(type(raw_data.values[1][i]))"
      ],
      "metadata": {
        "id": "oKqjAI-XigbI",
        "outputId": "d8c7892a-8feb-42e6-b1a1-716fca301d62",
        "colab": {
          "base_uri": "https://localhost:8080/"
        }
      },
      "execution_count": 6,
      "outputs": [
        {
          "output_type": "stream",
          "name": "stdout",
          "text": [
            "<class 'str'>\n",
            "<class 'str'>\n",
            "<class 'str'>\n",
            "<class 'str'>\n",
            "<class 'str'>\n",
            "<class 'int'>\n",
            "<class 'str'>\n",
            "<class 'str'>\n",
            "<class 'str'>\n",
            "<class 'str'>\n"
          ]
        }
      ]
    },
    {
      "cell_type": "code",
      "source": [
        "# Look at integer data\n",
        "print(raw_data.iloc[:, 5].values)"
      ],
      "metadata": {
        "id": "1IetVwnCr3XI",
        "outputId": "20633363-d94b-4948-8d97-b2f2b2c4da17",
        "colab": {
          "base_uri": "https://localhost:8080/"
        }
      },
      "execution_count": 7,
      "outputs": [
        {
          "output_type": "stream",
          "name": "stdout",
          "text": [
            "[3 1 2 3 2 2 3 2 2 2 2 2 1 2 2 3 1 2 2 3 1 2 2 1 3 2 2 1 3 3 3 1 3 3 1 1 2\n",
            " 3 3 1 3 2 2 3 1 3 2 3 2 3 1 3 3 1 2 3 1 3 1 2 3 2 3 3 2 1 2 2 2 1 3 1 1 3\n",
            " 3 1 1 2 3 2 2 2 1 2 2 3 1 2 1 1 1 3 1 2 2 2 1 1 3 1 2 2 3 2 1 2 2 2 1 2 1\n",
            " 2 2 3 1 1 3 1 2 1 3 2 2 3 2 1 2 2 2 2 2 2 3 2 3 1 1 1 3 1 3 2 2 2 2 3 2 1\n",
            " 2 3 2 2 2 3 2 1 2 2 1 3 3 2 2 3 3 2 2 2 2 2 2 3 2 1 3 2 2 3 2 1 2 3 1 3 1\n",
            " 1 3 3 2 2 2 2 3 2 2 2 1 1 3 3 2 3 3 1 1 3 2 3 3 1 3 1 2 1 2 1 3 2 1 2 1 3\n",
            " 2 2 3 1 3 2 2 2 2 2 2 1 2 2 3 3 2 3 3 2 2 2 1 2 2 1 1 1 3 2 1 1 3 3 2 3 2\n",
            " 2 3 1 2 2 3 2 3 3 1 1 3 3 2 2 3 2 2 2 2 2 3 2 2 2 2 3]\n"
          ]
        }
      ]
    },
    {
      "cell_type": "markdown",
      "source": [
        "Although stored as integers, it can only hold 3 possible values and so can be viewed as catagorical data"
      ],
      "metadata": {
        "id": "WYms41f_wJ6M"
      }
    },
    {
      "cell_type": "code",
      "source": [
        "# Look at output data\n",
        "print(raw_data.iloc[:, -1].values)"
      ],
      "metadata": {
        "id": "3HePUlhNvfWF",
        "outputId": "e2866136-17b6-433e-8148-1a487318d89b",
        "colab": {
          "base_uri": "https://localhost:8080/"
        }
      },
      "execution_count": 8,
      "outputs": [
        {
          "output_type": "stream",
          "name": "stdout",
          "text": [
            "['recurrence-events' 'no-recurrence-events' 'recurrence-events'\n",
            " 'no-recurrence-events' 'recurrence-events' 'no-recurrence-events'\n",
            " 'no-recurrence-events' 'no-recurrence-events' 'no-recurrence-events'\n",
            " 'no-recurrence-events' 'no-recurrence-events' 'no-recurrence-events'\n",
            " 'no-recurrence-events' 'no-recurrence-events' 'recurrence-events'\n",
            " 'no-recurrence-events' 'no-recurrence-events' 'no-recurrence-events'\n",
            " 'no-recurrence-events' 'no-recurrence-events' 'recurrence-events'\n",
            " 'no-recurrence-events' 'no-recurrence-events' 'no-recurrence-events'\n",
            " 'recurrence-events' 'no-recurrence-events' 'no-recurrence-events'\n",
            " 'no-recurrence-events' 'no-recurrence-events' 'recurrence-events'\n",
            " 'recurrence-events' 'no-recurrence-events' 'no-recurrence-events'\n",
            " 'no-recurrence-events' 'recurrence-events' 'no-recurrence-events'\n",
            " 'no-recurrence-events' 'no-recurrence-events' 'no-recurrence-events'\n",
            " 'no-recurrence-events' 'recurrence-events' 'no-recurrence-events'\n",
            " 'no-recurrence-events' 'recurrence-events' 'no-recurrence-events'\n",
            " 'recurrence-events' 'no-recurrence-events' 'no-recurrence-events'\n",
            " 'no-recurrence-events' 'no-recurrence-events' 'recurrence-events'\n",
            " 'no-recurrence-events' 'no-recurrence-events' 'no-recurrence-events'\n",
            " 'no-recurrence-events' 'no-recurrence-events' 'no-recurrence-events'\n",
            " 'no-recurrence-events' 'no-recurrence-events' 'recurrence-events'\n",
            " 'recurrence-events' 'no-recurrence-events' 'no-recurrence-events'\n",
            " 'recurrence-events' 'recurrence-events' 'no-recurrence-events'\n",
            " 'no-recurrence-events' 'no-recurrence-events' 'recurrence-events'\n",
            " 'no-recurrence-events' 'recurrence-events' 'no-recurrence-events'\n",
            " 'no-recurrence-events' 'recurrence-events' 'recurrence-events'\n",
            " 'no-recurrence-events' 'no-recurrence-events' 'no-recurrence-events'\n",
            " 'recurrence-events' 'no-recurrence-events' 'no-recurrence-events'\n",
            " 'no-recurrence-events' 'no-recurrence-events' 'no-recurrence-events'\n",
            " 'no-recurrence-events' 'no-recurrence-events' 'no-recurrence-events'\n",
            " 'no-recurrence-events' 'no-recurrence-events' 'no-recurrence-events'\n",
            " 'recurrence-events' 'recurrence-events' 'recurrence-events'\n",
            " 'no-recurrence-events' 'no-recurrence-events' 'no-recurrence-events'\n",
            " 'recurrence-events' 'no-recurrence-events' 'recurrence-events'\n",
            " 'recurrence-events' 'recurrence-events' 'recurrence-events'\n",
            " 'no-recurrence-events' 'no-recurrence-events' 'no-recurrence-events'\n",
            " 'recurrence-events' 'recurrence-events' 'recurrence-events'\n",
            " 'no-recurrence-events' 'no-recurrence-events' 'no-recurrence-events'\n",
            " 'no-recurrence-events' 'no-recurrence-events' 'no-recurrence-events'\n",
            " 'no-recurrence-events' 'no-recurrence-events' 'recurrence-events'\n",
            " 'no-recurrence-events' 'no-recurrence-events' 'no-recurrence-events'\n",
            " 'recurrence-events' 'no-recurrence-events' 'no-recurrence-events'\n",
            " 'recurrence-events' 'no-recurrence-events' 'no-recurrence-events'\n",
            " 'no-recurrence-events' 'no-recurrence-events' 'recurrence-events'\n",
            " 'no-recurrence-events' 'no-recurrence-events' 'no-recurrence-events'\n",
            " 'recurrence-events' 'recurrence-events' 'no-recurrence-events'\n",
            " 'recurrence-events' 'no-recurrence-events' 'no-recurrence-events'\n",
            " 'recurrence-events' 'no-recurrence-events' 'recurrence-events'\n",
            " 'no-recurrence-events' 'recurrence-events' 'no-recurrence-events'\n",
            " 'no-recurrence-events' 'no-recurrence-events' 'recurrence-events'\n",
            " 'no-recurrence-events' 'no-recurrence-events' 'no-recurrence-events'\n",
            " 'recurrence-events' 'no-recurrence-events' 'no-recurrence-events'\n",
            " 'recurrence-events' 'no-recurrence-events' 'no-recurrence-events'\n",
            " 'recurrence-events' 'recurrence-events' 'no-recurrence-events'\n",
            " 'no-recurrence-events' 'no-recurrence-events' 'no-recurrence-events'\n",
            " 'no-recurrence-events' 'no-recurrence-events' 'recurrence-events'\n",
            " 'recurrence-events' 'recurrence-events' 'no-recurrence-events'\n",
            " 'no-recurrence-events' 'no-recurrence-events' 'recurrence-events'\n",
            " 'recurrence-events' 'no-recurrence-events' 'recurrence-events'\n",
            " 'no-recurrence-events' 'no-recurrence-events' 'no-recurrence-events'\n",
            " 'recurrence-events' 'recurrence-events' 'no-recurrence-events'\n",
            " 'no-recurrence-events' 'recurrence-events' 'no-recurrence-events'\n",
            " 'recurrence-events' 'no-recurrence-events' 'no-recurrence-events'\n",
            " 'no-recurrence-events' 'recurrence-events' 'no-recurrence-events'\n",
            " 'no-recurrence-events' 'recurrence-events' 'no-recurrence-events'\n",
            " 'recurrence-events' 'no-recurrence-events' 'no-recurrence-events'\n",
            " 'no-recurrence-events' 'recurrence-events' 'no-recurrence-events'\n",
            " 'no-recurrence-events' 'recurrence-events' 'no-recurrence-events'\n",
            " 'no-recurrence-events' 'no-recurrence-events' 'no-recurrence-events'\n",
            " 'no-recurrence-events' 'recurrence-events' 'no-recurrence-events'\n",
            " 'recurrence-events' 'recurrence-events' 'no-recurrence-events'\n",
            " 'recurrence-events' 'recurrence-events' 'no-recurrence-events'\n",
            " 'no-recurrence-events' 'no-recurrence-events' 'no-recurrence-events'\n",
            " 'recurrence-events' 'no-recurrence-events' 'recurrence-events'\n",
            " 'no-recurrence-events' 'no-recurrence-events' 'no-recurrence-events'\n",
            " 'no-recurrence-events' 'no-recurrence-events' 'recurrence-events'\n",
            " 'no-recurrence-events' 'no-recurrence-events' 'no-recurrence-events'\n",
            " 'no-recurrence-events' 'recurrence-events' 'no-recurrence-events'\n",
            " 'no-recurrence-events' 'no-recurrence-events' 'no-recurrence-events'\n",
            " 'no-recurrence-events' 'recurrence-events' 'no-recurrence-events'\n",
            " 'recurrence-events' 'recurrence-events' 'recurrence-events'\n",
            " 'recurrence-events' 'no-recurrence-events' 'no-recurrence-events'\n",
            " 'no-recurrence-events' 'no-recurrence-events' 'no-recurrence-events'\n",
            " 'no-recurrence-events' 'no-recurrence-events' 'no-recurrence-events'\n",
            " 'no-recurrence-events' 'recurrence-events' 'no-recurrence-events'\n",
            " 'no-recurrence-events' 'no-recurrence-events' 'no-recurrence-events'\n",
            " 'recurrence-events' 'no-recurrence-events' 'recurrence-events'\n",
            " 'no-recurrence-events' 'recurrence-events' 'no-recurrence-events'\n",
            " 'no-recurrence-events' 'no-recurrence-events' 'recurrence-events'\n",
            " 'no-recurrence-events' 'no-recurrence-events' 'no-recurrence-events'\n",
            " 'recurrence-events' 'no-recurrence-events' 'no-recurrence-events'\n",
            " 'recurrence-events' 'recurrence-events' 'no-recurrence-events'\n",
            " 'no-recurrence-events' 'no-recurrence-events' 'no-recurrence-events'\n",
            " 'no-recurrence-events' 'no-recurrence-events' 'no-recurrence-events'\n",
            " 'no-recurrence-events' 'no-recurrence-events' 'no-recurrence-events'\n",
            " 'no-recurrence-events' 'no-recurrence-events' 'no-recurrence-events'\n",
            " 'no-recurrence-events']\n"
          ]
        }
      ]
    },
    {
      "cell_type": "markdown",
      "source": [
        "Only 2 possible outputs, thus needs converting to binary format for use in classifier models."
      ],
      "metadata": {
        "id": "bkV5bQKKwYHj"
      }
    },
    {
      "cell_type": "code",
      "execution_count": 9,
      "metadata": {
        "id": "KMB3eKfC7goU",
        "outputId": "4b1d9a34-7a3e-4bf1-e4c8-b698cd599a91",
        "colab": {
          "base_uri": "https://localhost:8080/"
        }
      },
      "outputs": [
        {
          "output_type": "stream",
          "name": "stdout",
          "text": [
            "0.2972027972027972\n"
          ]
        }
      ],
      "source": [
        "# Check output balance\n",
        "out = raw_data.iloc[:, -1].values\n",
        "no_rows = len(raw_data)\n",
        "\n",
        "from sklearn.preprocessing import LabelEncoder\n",
        "le = LabelEncoder()\n",
        "code_rows = le.fit_transform(out)\n",
        "print(sum(code_rows)/no_rows) "
      ]
    },
    {
      "cell_type": "markdown",
      "source": [
        "Clear imbalance between output data. Some degree of bias/weighting/sampling will be required to ensure that results accurately predict outcomes for both True and False outcomes."
      ],
      "metadata": {
        "id": "mMo9-0hTwirc"
      }
    },
    {
      "cell_type": "code",
      "execution_count": 10,
      "metadata": {
        "id": "f02MTYgB7goW"
      },
      "outputs": [],
      "source": [
        "# Explain your key findings"
      ]
    },
    {
      "cell_type": "markdown",
      "source": [
        "**Data set is made up of 9 independent variables all of which appear catagorical in nature. Although stored as an integer, 'deg-malig' can be viewed as  catagorical data as it can only contain 3 discrete values.**\n",
        "\n",
        "**Data set is imbalanced, with dependent variable outputs only True in 30% of instances. The model applied will require this imbalance to be taken into account so as not to sacrifice results predicting this smaller class (surely the aim of cancer diagnosis) so as to achieve a high accuracy figure.**\n",
        "\n",
        "**Output variable will need converting into binary output for use with a binary classification model.**"
      ],
      "metadata": {
        "id": "V7OWyLcOrgWJ"
      }
    },
    {
      "cell_type": "code",
      "source": [
        ""
      ],
      "metadata": {
        "id": "OK28_iB2wDzX"
      },
      "execution_count": 10,
      "outputs": []
    },
    {
      "cell_type": "markdown",
      "metadata": {
        "id": "SzZj8I8G7goX"
      },
      "source": [
        "Create any data pre-processing that you will conduct on seen and unseen data.  Regardless of the model you use, this dataframe must contain only numeric features and have a strategy for any expected missing values. Any objects can that are needed to handle the test data that are dependent on the training data can be stored in the model class.  You are recommended to use sklearn Pipelines or similar functionality to ensure reproducibility."
      ]
    },
    {
      "cell_type": "code",
      "execution_count": 10,
      "metadata": {
        "id": "mcmJMdW9D9Rm"
      },
      "outputs": [],
      "source": [
        ""
      ]
    },
    {
      "cell_type": "code",
      "execution_count": 11,
      "metadata": {
        "id": "Xsq2f8747goZ"
      },
      "outputs": [],
      "source": [
        "class Module4_Model:\n",
        "    \n",
        "    def __init__(self):\n",
        "        self.model = None\n",
        "\n",
        "    def process_dataframe(sel, unproc_data):\n",
        "        '''\n",
        "        '''\n",
        "        # Remove non-categorical data\n",
        "        dm = unproc_data.pop('deg-malig')\n",
        "\n",
        "        # Encode the catagorical data (dummy variables)\n",
        "        proc_data = pd.get_dummies(data=unproc_data, prefix_sep='_', drop_first=True)\n",
        "    \n",
        "        # Add back in non-categorical data\n",
        "        proc_data.insert(0, 'deg-malig', dm)\n",
        "    \n",
        "        return proc_data\n",
        "        \n",
        "    def preprocess_training_data(self, training_df):\n",
        "        \"\"\"\n",
        "        This function should process the training data and store any features required in the class\n",
        "        \"\"\"\n",
        "        # Apply feature scaling\n",
        "        from sklearn.preprocessing import StandardScaler\n",
        "        sc = StandardScaler()\n",
        "        processed_df = sc.fit_transform(training_df)\n",
        "        return processed_df\n",
        "\n",
        "    def preprocess_test_data(self, test_df):\n",
        "\n",
        "        # Apply feature scaling\n",
        "        from sklearn.preprocessing import StandardScaler\n",
        "        sc = StandardScaler()\n",
        "        processed_df = sc.fit_transform(test_df)\n",
        "        return processed_df\n",
        "\n"
      ]
    },
    {
      "cell_type": "code",
      "execution_count": 12,
      "metadata": {
        "id": "F3LiNNCb7goa"
      },
      "outputs": [],
      "source": [
        "# Dont change\n",
        "my_model = Module4_Model()\n",
        "\n",
        "# clean up data and create dataframe of only catagocial numeric data\n",
        "clean_data = my_model.process_dataframe(raw_data)"
      ]
    },
    {
      "cell_type": "code",
      "execution_count": 13,
      "metadata": {
        "id": "WIh9_0pp7goY"
      },
      "outputs": [],
      "source": [
        "# Split your data so that you can test the effectiveness of your model\n",
        "# Split the data into a Training set and a Test set\n",
        "dfs = np.split(clean_data, [len(clean_data.columns)-1], axis=1)\n",
        "X = dfs[0]\n",
        "y = dfs[1]\n",
        "#X = raw_data.iloc[:, :-1].values\n",
        "#y = raw_data.iloc[:, -1].values\n",
        "from sklearn.model_selection import train_test_split\n",
        "X_train, X_test, y_train, y_test = train_test_split(X, y, test_size = 0.25, random_state = 0)"
      ]
    },
    {
      "cell_type": "code",
      "execution_count": 14,
      "metadata": {
        "id": "ZQD7WPdN7god"
      },
      "outputs": [],
      "source": [
        "# Dont change\n",
        "x_train_processed = my_model.preprocess_training_data(X_train)"
      ]
    },
    {
      "cell_type": "code",
      "execution_count": 15,
      "metadata": {
        "id": "AbOQACY77goY"
      },
      "outputs": [],
      "source": [
        "# Populate preprocess_training_data and preprocess_test_data to preprocess data.\n",
        "# You must process test and train separately so your model does not accidently gain information that a model wouldnt have in reality and therefore get better predictions\n"
      ]
    },
    {
      "cell_type": "code",
      "execution_count": 16,
      "metadata": {
        "id": "rQwUj4lk7goe"
      },
      "outputs": [],
      "source": [
        "# Dont change\n",
        "x_test_processed = my_model.preprocess_test_data(X_test)"
      ]
    },
    {
      "cell_type": "code",
      "execution_count": 30,
      "metadata": {
        "id": "XnLHgaXS7goe"
      },
      "outputs": [],
      "source": [
        "# Create a model\n",
        "from sklearn.ensemble import RandomForestClassifier\n",
        "from imblearn.ensemble import EasyEnsembleClassifier\n",
        "classifier = EasyEnsembleClassifier(n_estimators=10,\n",
        "                                    base_estimator=RandomForestClassifier(n_estimators=100,\n",
        "                                                                          criterion='entropy',\n",
        "                                                                          class_weight='balanced_subsample'))"
      ]
    },
    {
      "cell_type": "code",
      "execution_count": 17,
      "metadata": {
        "id": "Qr5QOWyc7goe"
      },
      "outputs": [],
      "source": [
        ""
      ]
    },
    {
      "cell_type": "code",
      "execution_count": 31,
      "metadata": {
        "colab": {
          "base_uri": "https://localhost:8080/"
        },
        "id": "EqEGqaAA7goi",
        "outputId": "7fd31679-a921-4e48-8dc8-b83f87ff0887"
      },
      "outputs": [
        {
          "output_type": "stream",
          "name": "stderr",
          "text": [
            "/usr/local/lib/python3.7/dist-packages/sklearn/ensemble/_bagging.py:719: DataConversionWarning: A column-vector y was passed when a 1d array was expected. Please change the shape of y to (n_samples, ), for example using ravel().\n",
            "  y = column_or_1d(y, warn=True)\n"
          ]
        },
        {
          "output_type": "execute_result",
          "data": {
            "text/plain": [
              "EasyEnsembleClassifier(base_estimator=RandomForestClassifier(class_weight='balanced_subsample',\n",
              "                                                             criterion='entropy'))"
            ]
          },
          "metadata": {},
          "execution_count": 31
        }
      ],
      "source": [
        "# Train your model\n",
        "classifier.fit(x_train_processed, y_train)"
      ]
    },
    {
      "cell_type": "code",
      "execution_count": 32,
      "metadata": {
        "id": "kwOiqNee7goj"
      },
      "outputs": [],
      "source": [
        "# use your model to make a prediction on unseen data\n",
        "y_pred = classifier.predict(x_test_processed)"
      ]
    },
    {
      "cell_type": "code",
      "execution_count": 35,
      "metadata": {
        "colab": {
          "base_uri": "https://localhost:8080/",
          "height": 383
        },
        "id": "VGgleoej7gok",
        "outputId": "23a66d4d-e7f9-4868-f804-7a9871734dee"
      },
      "outputs": [
        {
          "output_type": "stream",
          "name": "stdout",
          "text": [
            "Accuracy: 70.83 %\n",
            "Weighted ROC AUC accuracy: 70.00 %\n",
            "Confusion matrix:\n"
          ]
        },
        {
          "output_type": "display_data",
          "data": {
            "text/plain": [
              "<Figure size 432x288 with 2 Axes>"
            ],
            "image/png": "[encoded data removed]"
          },
          "metadata": {
            "needs_background": "light"
          }
        },
        {
          "output_type": "stream",
          "name": "stdout",
          "text": [
            "K-fold cross validation results\n",
            "Accuracy: 64.50 %\n",
            "Standard Deviation: 14.21 %\n"
          ]
        }
      ],
      "source": [
        "# Asssess the accuracy of your model and explain your key findings\n",
        "# Generate confusion matrix\n",
        "from sklearn.metrics import confusion_matrix, accuracy_score, balanced_accuracy_score, roc_auc_score, ConfusionMatrixDisplay\n",
        "cm = confusion_matrix(y_test, y_pred, labels=classifier.classes_)\n",
        "print(\"Accuracy: {:.2f} %\".format(accuracy_score(y_test, y_pred)*100))\n",
        "print(\"Weighted ROC AUC accuracy: {:.2f} %\".format(roc_auc_score(y_test, y_pred, average='weighted')*100))\n",
        "print(\"Confusion matrix:\")\n",
        "disp = ConfusionMatrixDisplay(cm, display_labels=classifier.classes_)\n",
        "disp.plot()\n",
        "plt.show()\n",
        "\n",
        "# Apply k-fold Cross Validation\n",
        "from sklearn.model_selection import cross_val_score\n",
        "from numpy import ravel\n",
        "accuracies = cross_val_score(estimator = classifier, X = x_train_processed, y = ravel(y_train.values), scoring = 'roc_auc_ovo', cv = 10)\n",
        "print(\"K-fold cross validation results\")\n",
        "print(\"Accuracy: {:.2f} %\".format(accuracies.mean()*100))\n",
        "print(\"Standard Deviation: {:.2f} %\".format(accuracies.std()*100))"
      ]
    },
    {
      "cell_type": "markdown",
      "source": [
        "**Model is approx 65-70% accurate at predicting whether cancer recurrence will occur.**\n",
        "\n",
        "**Crucially, only 12.5% of predictions are False Negatives. In cancer diagnosis these are the outcomes that we want to minimise. False Positives, whilst undesirable, will likely lead to further diagnostic testing before it is realised that cancer is not present.**"
      ],
      "metadata": {
        "id": "UMNN4P_E07L6"
      }
    },
    {
      "cell_type": "markdown",
      "metadata": {
        "id": "VDU85k7J7gok"
      },
      "source": [
        "### Unit tests:"
      ]
    },
    {
      "cell_type": "markdown",
      "metadata": {
        "id": "uq2QRpri7gol"
      },
      "source": [
        "###Checking training and test data for null values. This will work for both pd dataframes and np arrays, and ensures no null values exist."
      ]
    },
    {
      "cell_type": "code",
      "execution_count": 21,
      "metadata": {
        "id": "oUeh38w_7gol"
      },
      "outputs": [],
      "source": [
        "def test_no_nulls(data):\n",
        "    \"\"\" Assert no null values within pd dataframe or np array \"\"\"\n",
        "    \n",
        "    # if data is numpy array, handle accordingly\n",
        "    if isinstance(data, (np.ndarray)):\n",
        "        assert not np.isnan(np.min(data))\n",
        "    \n",
        "    # if not np array, assume data is pandas dataframe\n",
        "    else:\n",
        "        assert data.isna().sum().sum() == 0"
      ]
    },
    {
      "cell_type": "code",
      "execution_count": 22,
      "metadata": {
        "id": "BV9Z1F3i7gom"
      },
      "outputs": [],
      "source": [
        "# run null data unit test on both training and test data\n",
        "test_no_nulls(x_train_processed)\n",
        "test_no_nulls(x_test_processed)"
      ]
    }
  ],
  "metadata": {
    "colab": {
      "collapsed_sections": [],
      "name": "Copy of KSVC.ipynb",
      "provenance": [],
      "include_colab_link": true
    },
    "kernelspec": {
      "display_name": "Python 3 (ipykernel)",
      "language": "python",
      "name": "python3"
    },
    "language_info": {
      "codemirror_mode": {
        "name": "ipython",
        "version": 3
      },
      "file_extension": ".py",
      "mimetype": "text/x-python",
      "name": "python",
      "nbconvert_exporter": "python",
      "pygments_lexer": "ipython3",
      "version": "3.9.7"
    }
  },
  "nbformat": 4,
  "nbformat_minor": 0
}